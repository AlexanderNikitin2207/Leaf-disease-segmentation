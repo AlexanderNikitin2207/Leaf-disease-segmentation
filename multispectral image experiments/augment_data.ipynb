{
  "nbformat": 4,
  "nbformat_minor": 0,
  "metadata": {
    "colab": {
      "provenance": [],
      "collapsed_sections": [
        "rYeierU-WiEV"
      ]
    },
    "kernelspec": {
      "name": "python3",
      "display_name": "Python 3"
    },
    "language_info": {
      "name": "python"
    },
    "widgets": {
      "application/vnd.jupyter.widget-state+json": {
        "c1fb294006614007a5b263df83676c77": {
          "model_module": "@jupyter-widgets/controls",
          "model_name": "HBoxModel",
          "model_module_version": "1.5.0",
          "state": {
            "_dom_classes": [],
            "_model_module": "@jupyter-widgets/controls",
            "_model_module_version": "1.5.0",
            "_model_name": "HBoxModel",
            "_view_count": null,
            "_view_module": "@jupyter-widgets/controls",
            "_view_module_version": "1.5.0",
            "_view_name": "HBoxView",
            "box_style": "",
            "children": [
              "IPY_MODEL_a6e7ab0aa8fc47eabf6c44a776473eab",
              "IPY_MODEL_d499cc960a224c0687ef0f30b5c9cef2",
              "IPY_MODEL_cb83a44591564b0092f73cac92f6e2de"
            ],
            "layout": "IPY_MODEL_0af61012f393442ea6f0fe7bee903282"
          }
        },
        "a6e7ab0aa8fc47eabf6c44a776473eab": {
          "model_module": "@jupyter-widgets/controls",
          "model_name": "HTMLModel",
          "model_module_version": "1.5.0",
          "state": {
            "_dom_classes": [],
            "_model_module": "@jupyter-widgets/controls",
            "_model_module_version": "1.5.0",
            "_model_name": "HTMLModel",
            "_view_count": null,
            "_view_module": "@jupyter-widgets/controls",
            "_view_module_version": "1.5.0",
            "_view_name": "HTMLView",
            "description": "",
            "description_tooltip": null,
            "layout": "IPY_MODEL_c85b6b19a19e4e0a9f9adb879832f0fa",
            "placeholder": "​",
            "style": "IPY_MODEL_bae304ec6e814b19b0a05a699647183e",
            "value": "100%"
          }
        },
        "d499cc960a224c0687ef0f30b5c9cef2": {
          "model_module": "@jupyter-widgets/controls",
          "model_name": "FloatProgressModel",
          "model_module_version": "1.5.0",
          "state": {
            "_dom_classes": [],
            "_model_module": "@jupyter-widgets/controls",
            "_model_module_version": "1.5.0",
            "_model_name": "FloatProgressModel",
            "_view_count": null,
            "_view_module": "@jupyter-widgets/controls",
            "_view_module_version": "1.5.0",
            "_view_name": "ProgressView",
            "bar_style": "success",
            "description": "",
            "description_tooltip": null,
            "layout": "IPY_MODEL_b90d0f21adaf44adb4dbd6c73e73c2d1",
            "max": 64,
            "min": 0,
            "orientation": "horizontal",
            "style": "IPY_MODEL_05ae896518eb4cc589d3cdd110d3f517",
            "value": 64
          }
        },
        "cb83a44591564b0092f73cac92f6e2de": {
          "model_module": "@jupyter-widgets/controls",
          "model_name": "HTMLModel",
          "model_module_version": "1.5.0",
          "state": {
            "_dom_classes": [],
            "_model_module": "@jupyter-widgets/controls",
            "_model_module_version": "1.5.0",
            "_model_name": "HTMLModel",
            "_view_count": null,
            "_view_module": "@jupyter-widgets/controls",
            "_view_module_version": "1.5.0",
            "_view_name": "HTMLView",
            "description": "",
            "description_tooltip": null,
            "layout": "IPY_MODEL_ef4c5b761d8a4a4b8d6659ba72b11255",
            "placeholder": "​",
            "style": "IPY_MODEL_27e97a33baf248269f9fbbc79d5f32ec",
            "value": " 64/64 [02:43&lt;00:00,  2.95s/it]"
          }
        },
        "0af61012f393442ea6f0fe7bee903282": {
          "model_module": "@jupyter-widgets/base",
          "model_name": "LayoutModel",
          "model_module_version": "1.2.0",
          "state": {
            "_model_module": "@jupyter-widgets/base",
            "_model_module_version": "1.2.0",
            "_model_name": "LayoutModel",
            "_view_count": null,
            "_view_module": "@jupyter-widgets/base",
            "_view_module_version": "1.2.0",
            "_view_name": "LayoutView",
            "align_content": null,
            "align_items": null,
            "align_self": null,
            "border": null,
            "bottom": null,
            "display": null,
            "flex": null,
            "flex_flow": null,
            "grid_area": null,
            "grid_auto_columns": null,
            "grid_auto_flow": null,
            "grid_auto_rows": null,
            "grid_column": null,
            "grid_gap": null,
            "grid_row": null,
            "grid_template_areas": null,
            "grid_template_columns": null,
            "grid_template_rows": null,
            "height": null,
            "justify_content": null,
            "justify_items": null,
            "left": null,
            "margin": null,
            "max_height": null,
            "max_width": null,
            "min_height": null,
            "min_width": null,
            "object_fit": null,
            "object_position": null,
            "order": null,
            "overflow": null,
            "overflow_x": null,
            "overflow_y": null,
            "padding": null,
            "right": null,
            "top": null,
            "visibility": null,
            "width": null
          }
        },
        "c85b6b19a19e4e0a9f9adb879832f0fa": {
          "model_module": "@jupyter-widgets/base",
          "model_name": "LayoutModel",
          "model_module_version": "1.2.0",
          "state": {
            "_model_module": "@jupyter-widgets/base",
            "_model_module_version": "1.2.0",
            "_model_name": "LayoutModel",
            "_view_count": null,
            "_view_module": "@jupyter-widgets/base",
            "_view_module_version": "1.2.0",
            "_view_name": "LayoutView",
            "align_content": null,
            "align_items": null,
            "align_self": null,
            "border": null,
            "bottom": null,
            "display": null,
            "flex": null,
            "flex_flow": null,
            "grid_area": null,
            "grid_auto_columns": null,
            "grid_auto_flow": null,
            "grid_auto_rows": null,
            "grid_column": null,
            "grid_gap": null,
            "grid_row": null,
            "grid_template_areas": null,
            "grid_template_columns": null,
            "grid_template_rows": null,
            "height": null,
            "justify_content": null,
            "justify_items": null,
            "left": null,
            "margin": null,
            "max_height": null,
            "max_width": null,
            "min_height": null,
            "min_width": null,
            "object_fit": null,
            "object_position": null,
            "order": null,
            "overflow": null,
            "overflow_x": null,
            "overflow_y": null,
            "padding": null,
            "right": null,
            "top": null,
            "visibility": null,
            "width": null
          }
        },
        "bae304ec6e814b19b0a05a699647183e": {
          "model_module": "@jupyter-widgets/controls",
          "model_name": "DescriptionStyleModel",
          "model_module_version": "1.5.0",
          "state": {
            "_model_module": "@jupyter-widgets/controls",
            "_model_module_version": "1.5.0",
            "_model_name": "DescriptionStyleModel",
            "_view_count": null,
            "_view_module": "@jupyter-widgets/base",
            "_view_module_version": "1.2.0",
            "_view_name": "StyleView",
            "description_width": ""
          }
        },
        "b90d0f21adaf44adb4dbd6c73e73c2d1": {
          "model_module": "@jupyter-widgets/base",
          "model_name": "LayoutModel",
          "model_module_version": "1.2.0",
          "state": {
            "_model_module": "@jupyter-widgets/base",
            "_model_module_version": "1.2.0",
            "_model_name": "LayoutModel",
            "_view_count": null,
            "_view_module": "@jupyter-widgets/base",
            "_view_module_version": "1.2.0",
            "_view_name": "LayoutView",
            "align_content": null,
            "align_items": null,
            "align_self": null,
            "border": null,
            "bottom": null,
            "display": null,
            "flex": null,
            "flex_flow": null,
            "grid_area": null,
            "grid_auto_columns": null,
            "grid_auto_flow": null,
            "grid_auto_rows": null,
            "grid_column": null,
            "grid_gap": null,
            "grid_row": null,
            "grid_template_areas": null,
            "grid_template_columns": null,
            "grid_template_rows": null,
            "height": null,
            "justify_content": null,
            "justify_items": null,
            "left": null,
            "margin": null,
            "max_height": null,
            "max_width": null,
            "min_height": null,
            "min_width": null,
            "object_fit": null,
            "object_position": null,
            "order": null,
            "overflow": null,
            "overflow_x": null,
            "overflow_y": null,
            "padding": null,
            "right": null,
            "top": null,
            "visibility": null,
            "width": null
          }
        },
        "05ae896518eb4cc589d3cdd110d3f517": {
          "model_module": "@jupyter-widgets/controls",
          "model_name": "ProgressStyleModel",
          "model_module_version": "1.5.0",
          "state": {
            "_model_module": "@jupyter-widgets/controls",
            "_model_module_version": "1.5.0",
            "_model_name": "ProgressStyleModel",
            "_view_count": null,
            "_view_module": "@jupyter-widgets/base",
            "_view_module_version": "1.2.0",
            "_view_name": "StyleView",
            "bar_color": null,
            "description_width": ""
          }
        },
        "ef4c5b761d8a4a4b8d6659ba72b11255": {
          "model_module": "@jupyter-widgets/base",
          "model_name": "LayoutModel",
          "model_module_version": "1.2.0",
          "state": {
            "_model_module": "@jupyter-widgets/base",
            "_model_module_version": "1.2.0",
            "_model_name": "LayoutModel",
            "_view_count": null,
            "_view_module": "@jupyter-widgets/base",
            "_view_module_version": "1.2.0",
            "_view_name": "LayoutView",
            "align_content": null,
            "align_items": null,
            "align_self": null,
            "border": null,
            "bottom": null,
            "display": null,
            "flex": null,
            "flex_flow": null,
            "grid_area": null,
            "grid_auto_columns": null,
            "grid_auto_flow": null,
            "grid_auto_rows": null,
            "grid_column": null,
            "grid_gap": null,
            "grid_row": null,
            "grid_template_areas": null,
            "grid_template_columns": null,
            "grid_template_rows": null,
            "height": null,
            "justify_content": null,
            "justify_items": null,
            "left": null,
            "margin": null,
            "max_height": null,
            "max_width": null,
            "min_height": null,
            "min_width": null,
            "object_fit": null,
            "object_position": null,
            "order": null,
            "overflow": null,
            "overflow_x": null,
            "overflow_y": null,
            "padding": null,
            "right": null,
            "top": null,
            "visibility": null,
            "width": null
          }
        },
        "27e97a33baf248269f9fbbc79d5f32ec": {
          "model_module": "@jupyter-widgets/controls",
          "model_name": "DescriptionStyleModel",
          "model_module_version": "1.5.0",
          "state": {
            "_model_module": "@jupyter-widgets/controls",
            "_model_module_version": "1.5.0",
            "_model_name": "DescriptionStyleModel",
            "_view_count": null,
            "_view_module": "@jupyter-widgets/base",
            "_view_module_version": "1.2.0",
            "_view_name": "StyleView",
            "description_width": ""
          }
        },
        "a00544accf7a40a08aa2466d791d416f": {
          "model_module": "@jupyter-widgets/controls",
          "model_name": "HBoxModel",
          "model_module_version": "1.5.0",
          "state": {
            "_dom_classes": [],
            "_model_module": "@jupyter-widgets/controls",
            "_model_module_version": "1.5.0",
            "_model_name": "HBoxModel",
            "_view_count": null,
            "_view_module": "@jupyter-widgets/controls",
            "_view_module_version": "1.5.0",
            "_view_name": "HBoxView",
            "box_style": "",
            "children": [
              "IPY_MODEL_3919615a2345485187ef131fc60d3c39",
              "IPY_MODEL_77258f37866d454e952f7193b6d3f4d0",
              "IPY_MODEL_139ea4923dea4947b983e7d691a53918"
            ],
            "layout": "IPY_MODEL_d0a74bb162d44b9bb77fc3976423120f"
          }
        },
        "3919615a2345485187ef131fc60d3c39": {
          "model_module": "@jupyter-widgets/controls",
          "model_name": "HTMLModel",
          "model_module_version": "1.5.0",
          "state": {
            "_dom_classes": [],
            "_model_module": "@jupyter-widgets/controls",
            "_model_module_version": "1.5.0",
            "_model_name": "HTMLModel",
            "_view_count": null,
            "_view_module": "@jupyter-widgets/controls",
            "_view_module_version": "1.5.0",
            "_view_name": "HTMLView",
            "description": "",
            "description_tooltip": null,
            "layout": "IPY_MODEL_126b9b527f734ef39fdad2de86e71287",
            "placeholder": "​",
            "style": "IPY_MODEL_6afee74565c741bdb648da8a435449b3",
            "value": "100%"
          }
        },
        "77258f37866d454e952f7193b6d3f4d0": {
          "model_module": "@jupyter-widgets/controls",
          "model_name": "FloatProgressModel",
          "model_module_version": "1.5.0",
          "state": {
            "_dom_classes": [],
            "_model_module": "@jupyter-widgets/controls",
            "_model_module_version": "1.5.0",
            "_model_name": "FloatProgressModel",
            "_view_count": null,
            "_view_module": "@jupyter-widgets/controls",
            "_view_module_version": "1.5.0",
            "_view_name": "ProgressView",
            "bar_style": "success",
            "description": "",
            "description_tooltip": null,
            "layout": "IPY_MODEL_5cca900e4dd7470886c043469829e083",
            "max": 57,
            "min": 0,
            "orientation": "horizontal",
            "style": "IPY_MODEL_d715058a36f84a8ba41519ed586513bb",
            "value": 57
          }
        },
        "139ea4923dea4947b983e7d691a53918": {
          "model_module": "@jupyter-widgets/controls",
          "model_name": "HTMLModel",
          "model_module_version": "1.5.0",
          "state": {
            "_dom_classes": [],
            "_model_module": "@jupyter-widgets/controls",
            "_model_module_version": "1.5.0",
            "_model_name": "HTMLModel",
            "_view_count": null,
            "_view_module": "@jupyter-widgets/controls",
            "_view_module_version": "1.5.0",
            "_view_name": "HTMLView",
            "description": "",
            "description_tooltip": null,
            "layout": "IPY_MODEL_c0edb2533a8d4766a898e3ba5eb045dc",
            "placeholder": "​",
            "style": "IPY_MODEL_80d46dba02814b37bc32068947311c67",
            "value": " 57/57 [02:14&lt;00:00,  2.24s/it]"
          }
        },
        "d0a74bb162d44b9bb77fc3976423120f": {
          "model_module": "@jupyter-widgets/base",
          "model_name": "LayoutModel",
          "model_module_version": "1.2.0",
          "state": {
            "_model_module": "@jupyter-widgets/base",
            "_model_module_version": "1.2.0",
            "_model_name": "LayoutModel",
            "_view_count": null,
            "_view_module": "@jupyter-widgets/base",
            "_view_module_version": "1.2.0",
            "_view_name": "LayoutView",
            "align_content": null,
            "align_items": null,
            "align_self": null,
            "border": null,
            "bottom": null,
            "display": null,
            "flex": null,
            "flex_flow": null,
            "grid_area": null,
            "grid_auto_columns": null,
            "grid_auto_flow": null,
            "grid_auto_rows": null,
            "grid_column": null,
            "grid_gap": null,
            "grid_row": null,
            "grid_template_areas": null,
            "grid_template_columns": null,
            "grid_template_rows": null,
            "height": null,
            "justify_content": null,
            "justify_items": null,
            "left": null,
            "margin": null,
            "max_height": null,
            "max_width": null,
            "min_height": null,
            "min_width": null,
            "object_fit": null,
            "object_position": null,
            "order": null,
            "overflow": null,
            "overflow_x": null,
            "overflow_y": null,
            "padding": null,
            "right": null,
            "top": null,
            "visibility": null,
            "width": null
          }
        },
        "126b9b527f734ef39fdad2de86e71287": {
          "model_module": "@jupyter-widgets/base",
          "model_name": "LayoutModel",
          "model_module_version": "1.2.0",
          "state": {
            "_model_module": "@jupyter-widgets/base",
            "_model_module_version": "1.2.0",
            "_model_name": "LayoutModel",
            "_view_count": null,
            "_view_module": "@jupyter-widgets/base",
            "_view_module_version": "1.2.0",
            "_view_name": "LayoutView",
            "align_content": null,
            "align_items": null,
            "align_self": null,
            "border": null,
            "bottom": null,
            "display": null,
            "flex": null,
            "flex_flow": null,
            "grid_area": null,
            "grid_auto_columns": null,
            "grid_auto_flow": null,
            "grid_auto_rows": null,
            "grid_column": null,
            "grid_gap": null,
            "grid_row": null,
            "grid_template_areas": null,
            "grid_template_columns": null,
            "grid_template_rows": null,
            "height": null,
            "justify_content": null,
            "justify_items": null,
            "left": null,
            "margin": null,
            "max_height": null,
            "max_width": null,
            "min_height": null,
            "min_width": null,
            "object_fit": null,
            "object_position": null,
            "order": null,
            "overflow": null,
            "overflow_x": null,
            "overflow_y": null,
            "padding": null,
            "right": null,
            "top": null,
            "visibility": null,
            "width": null
          }
        },
        "6afee74565c741bdb648da8a435449b3": {
          "model_module": "@jupyter-widgets/controls",
          "model_name": "DescriptionStyleModel",
          "model_module_version": "1.5.0",
          "state": {
            "_model_module": "@jupyter-widgets/controls",
            "_model_module_version": "1.5.0",
            "_model_name": "DescriptionStyleModel",
            "_view_count": null,
            "_view_module": "@jupyter-widgets/base",
            "_view_module_version": "1.2.0",
            "_view_name": "StyleView",
            "description_width": ""
          }
        },
        "5cca900e4dd7470886c043469829e083": {
          "model_module": "@jupyter-widgets/base",
          "model_name": "LayoutModel",
          "model_module_version": "1.2.0",
          "state": {
            "_model_module": "@jupyter-widgets/base",
            "_model_module_version": "1.2.0",
            "_model_name": "LayoutModel",
            "_view_count": null,
            "_view_module": "@jupyter-widgets/base",
            "_view_module_version": "1.2.0",
            "_view_name": "LayoutView",
            "align_content": null,
            "align_items": null,
            "align_self": null,
            "border": null,
            "bottom": null,
            "display": null,
            "flex": null,
            "flex_flow": null,
            "grid_area": null,
            "grid_auto_columns": null,
            "grid_auto_flow": null,
            "grid_auto_rows": null,
            "grid_column": null,
            "grid_gap": null,
            "grid_row": null,
            "grid_template_areas": null,
            "grid_template_columns": null,
            "grid_template_rows": null,
            "height": null,
            "justify_content": null,
            "justify_items": null,
            "left": null,
            "margin": null,
            "max_height": null,
            "max_width": null,
            "min_height": null,
            "min_width": null,
            "object_fit": null,
            "object_position": null,
            "order": null,
            "overflow": null,
            "overflow_x": null,
            "overflow_y": null,
            "padding": null,
            "right": null,
            "top": null,
            "visibility": null,
            "width": null
          }
        },
        "d715058a36f84a8ba41519ed586513bb": {
          "model_module": "@jupyter-widgets/controls",
          "model_name": "ProgressStyleModel",
          "model_module_version": "1.5.0",
          "state": {
            "_model_module": "@jupyter-widgets/controls",
            "_model_module_version": "1.5.0",
            "_model_name": "ProgressStyleModel",
            "_view_count": null,
            "_view_module": "@jupyter-widgets/base",
            "_view_module_version": "1.2.0",
            "_view_name": "StyleView",
            "bar_color": null,
            "description_width": ""
          }
        },
        "c0edb2533a8d4766a898e3ba5eb045dc": {
          "model_module": "@jupyter-widgets/base",
          "model_name": "LayoutModel",
          "model_module_version": "1.2.0",
          "state": {
            "_model_module": "@jupyter-widgets/base",
            "_model_module_version": "1.2.0",
            "_model_name": "LayoutModel",
            "_view_count": null,
            "_view_module": "@jupyter-widgets/base",
            "_view_module_version": "1.2.0",
            "_view_name": "LayoutView",
            "align_content": null,
            "align_items": null,
            "align_self": null,
            "border": null,
            "bottom": null,
            "display": null,
            "flex": null,
            "flex_flow": null,
            "grid_area": null,
            "grid_auto_columns": null,
            "grid_auto_flow": null,
            "grid_auto_rows": null,
            "grid_column": null,
            "grid_gap": null,
            "grid_row": null,
            "grid_template_areas": null,
            "grid_template_columns": null,
            "grid_template_rows": null,
            "height": null,
            "justify_content": null,
            "justify_items": null,
            "left": null,
            "margin": null,
            "max_height": null,
            "max_width": null,
            "min_height": null,
            "min_width": null,
            "object_fit": null,
            "object_position": null,
            "order": null,
            "overflow": null,
            "overflow_x": null,
            "overflow_y": null,
            "padding": null,
            "right": null,
            "top": null,
            "visibility": null,
            "width": null
          }
        },
        "80d46dba02814b37bc32068947311c67": {
          "model_module": "@jupyter-widgets/controls",
          "model_name": "DescriptionStyleModel",
          "model_module_version": "1.5.0",
          "state": {
            "_model_module": "@jupyter-widgets/controls",
            "_model_module_version": "1.5.0",
            "_model_name": "DescriptionStyleModel",
            "_view_count": null,
            "_view_module": "@jupyter-widgets/base",
            "_view_module_version": "1.2.0",
            "_view_name": "StyleView",
            "description_width": ""
          }
        }
      }
    }
  },
  "cells": [
    {
      "cell_type": "code",
      "execution_count": null,
      "metadata": {
        "id": "I5hekQXhUCS_"
      },
      "outputs": [],
      "source": [
        "# Import libraries\n",
        "import matplotlib.pyplot as plt\n",
        "import albumentations as A\n",
        "import numpy as np\n",
        "import pandas as pd\n",
        "from PIL import Image\n",
        "import cv2\n",
        "import os\n",
        "from tqdm.auto import tqdm\n",
        "\n",
        "# Mount google drive\n",
        "from google.colab import drive\n",
        "drive.mount('gdrive')"
      ]
    },
    {
      "cell_type": "markdown",
      "source": [
        "## Rename images"
      ],
      "metadata": {
        "id": "iZBT0WKrpJpJ"
      }
    },
    {
      "cell_type": "markdown",
      "source": [
        "We are going to make 20 new version of every single image by the means of random rotation and horizontal/vertical flipping. Therefore, we need to rename images so that the number of two neighboring ones differs by 21. After that, images with numbers from 1 to 21 will correspond to the first image (image with original number 1), images with numbers from 22 to 42 will correspond to the second image (image with original number 2) and so on.          "
      ],
      "metadata": {
        "id": "jF92SCRhEUHy"
      }
    },
    {
      "cell_type": "code",
      "source": [
        "# Folders with NIR images\n",
        "nir_6_days_folder = '/content/gdrive/MyDrive/Cropped Potato/2023_ИК_больные/6 дней после заражения'\n",
        "nir_26_days_folder = '/content/gdrive/MyDrive/Cropped Potato/2023_ИК_больные/26 дней после заражения'\n",
        "\n",
        "# Folders with RGB images\n",
        "rgb_6_days_folder = '/content/gdrive/MyDrive/Cropped Potato/2023_ВИД_больные/6 дней после заражения'\n",
        "rgb_26_days_folder = '/content/gdrive/MyDrive/Cropped Potato/2023_ВИД_больные/26 дней после заражения'\n",
        "\n",
        "# Folders with masks\n",
        "mask_6_days_folder = '/content/gdrive/MyDrive/Cropped Potato/Разметка/6 дней после заражения/Разметка картинки'\n",
        "mask_26_days_folder = '/content/gdrive/MyDrive/Cropped Potato/Разметка/26 дней после заражения/Разметка картинки'"
      ],
      "metadata": {
        "id": "qCixHaZKcYJw"
      },
      "execution_count": null,
      "outputs": []
    },
    {
      "cell_type": "code",
      "source": [
        "len(os.listdir(nir_6_days_folder)), len(os.listdir(nir_26_days_folder))"
      ],
      "metadata": {
        "colab": {
          "base_uri": "https://localhost:8080/"
        },
        "id": "CHtVIkckD8f2",
        "outputId": "9075b421-2b51-42a1-d1be-2b8f7e816798"
      },
      "execution_count": null,
      "outputs": [
        {
          "output_type": "execute_result",
          "data": {
            "text/plain": [
              "(64, 57)"
            ]
          },
          "metadata": {},
          "execution_count": 3
        }
      ]
    },
    {
      "cell_type": "code",
      "source": [
        "len(os.listdir(rgb_6_days_folder)), len(os.listdir(rgb_26_days_folder))"
      ],
      "metadata": {
        "colab": {
          "base_uri": "https://localhost:8080/"
        },
        "id": "GIVpm0MyEBA9",
        "outputId": "634cbd8f-289e-4321-8f31-8ee57003561e"
      },
      "execution_count": null,
      "outputs": [
        {
          "output_type": "execute_result",
          "data": {
            "text/plain": [
              "(64, 57)"
            ]
          },
          "metadata": {},
          "execution_count": 4
        }
      ]
    },
    {
      "cell_type": "code",
      "source": [
        "len(os.listdir(mask_6_days_folder)), len(os.listdir(mask_26_days_folder))"
      ],
      "metadata": {
        "colab": {
          "base_uri": "https://localhost:8080/"
        },
        "id": "pbHIVLjHEDbU",
        "outputId": "fb8afdc2-78ed-4c4d-8d33-26b3ab7bc58f"
      },
      "execution_count": null,
      "outputs": [
        {
          "output_type": "execute_result",
          "data": {
            "text/plain": [
              "(64, 57)"
            ]
          },
          "metadata": {},
          "execution_count": 5
        }
      ]
    },
    {
      "cell_type": "code",
      "source": [
        "# Make it in reverse order to avoid problems with names collision\n",
        "\n",
        "# NIR images, 6 days after infection\n",
        "for i, image_name in enumerate(os.listdir(nir_6_days_folder)[::-1]):\n",
        "    image_path = os.path.join(nir_6_days_folder, image_name)\n",
        "    os.rename(image_path, f'{nir_6_days_folder}/IMG_{21 * (63 - i) + 1}.JPG')"
      ],
      "metadata": {
        "id": "aHbgeWQffByV"
      },
      "execution_count": null,
      "outputs": []
    },
    {
      "cell_type": "code",
      "source": [
        "# RGB images, 6 days after infection\n",
        "for i, image_name in enumerate(os.listdir(rgb_6_days_folder)[::-1]):\n",
        "    image_path = os.path.join(rgb_6_days_folder, image_name)\n",
        "    os.rename(image_path, f'{rgb_6_days_folder}/IMG_{21 * (63 - i) + 1}.JPG')"
      ],
      "metadata": {
        "id": "QCI0F04_f9Qh"
      },
      "execution_count": null,
      "outputs": []
    },
    {
      "cell_type": "code",
      "source": [
        "# NIR images, 26 days after infection\n",
        "for i, image_name in enumerate(os.listdir(nir_26_days_folder), start=64):\n",
        "    image_path = os.path.join(nir_26_days_folder, image_name)\n",
        "    os.rename(image_path, f'{nir_26_days_folder}/IMG_{21 * i + 1}.JPG')"
      ],
      "metadata": {
        "id": "fEE69x6YgKHs"
      },
      "execution_count": null,
      "outputs": []
    },
    {
      "cell_type": "code",
      "source": [
        "# RGB images, 26 days after infection\n",
        "for i, image_name in enumerate(os.listdir(rgb_26_days_folder), start=64):\n",
        "    image_path = os.path.join(rgb_26_days_folder, image_name)\n",
        "    os.rename(image_path, f'{rgb_26_days_folder}/IMG_{21 * i + 1}.JPG')"
      ],
      "metadata": {
        "id": "JFx-hFTegi-h"
      },
      "execution_count": null,
      "outputs": []
    },
    {
      "cell_type": "code",
      "source": [
        "# Masks, 6 days after infection\n",
        "for i, image_name in enumerate(os.listdir(mask_6_days_folder)[::-1]):\n",
        "    image_path = os.path.join(mask_6_days_folder, image_name)\n",
        "    os.rename(image_path, f'{mask_6_days_folder}/IMG_{21 * (63 - i) + 1}.png')"
      ],
      "metadata": {
        "id": "9LOEtgSCl621"
      },
      "execution_count": null,
      "outputs": []
    },
    {
      "cell_type": "code",
      "source": [
        "# Masks, 26 days after infection\n",
        "for i, image_name in enumerate(os.listdir(mask_26_days_folder), start=64):\n",
        "    image_path = os.path.join(mask_26_days_folder, image_name)\n",
        "    os.rename(image_path, f'{mask_26_days_folder}/IMG_{21 * i + 1}.png')"
      ],
      "metadata": {
        "id": "kVD98dIBl665"
      },
      "execution_count": null,
      "outputs": []
    },
    {
      "cell_type": "code",
      "source": [
        "# Check if we lost some images\n",
        "len(os.listdir(nir_6_days_folder)), len(os.listdir(nir_26_days_folder))"
      ],
      "metadata": {
        "colab": {
          "base_uri": "https://localhost:8080/"
        },
        "id": "PXrKDZXB45I_",
        "outputId": "9b3f5ddc-8392-4433-9bc0-3dde824beac5"
      },
      "execution_count": null,
      "outputs": [
        {
          "output_type": "execute_result",
          "data": {
            "text/plain": [
              "(64, 57)"
            ]
          },
          "metadata": {},
          "execution_count": 12
        }
      ]
    },
    {
      "cell_type": "code",
      "source": [
        "len(os.listdir(rgb_6_days_folder)), len(os.listdir(rgb_26_days_folder))"
      ],
      "metadata": {
        "colab": {
          "base_uri": "https://localhost:8080/"
        },
        "id": "e6d6qTUdImF2",
        "outputId": "5d092c6c-ce08-49b0-df11-e6ae1afbf736"
      },
      "execution_count": null,
      "outputs": [
        {
          "output_type": "execute_result",
          "data": {
            "text/plain": [
              "(64, 57)"
            ]
          },
          "metadata": {},
          "execution_count": 13
        }
      ]
    },
    {
      "cell_type": "code",
      "source": [
        "len(os.listdir(mask_6_days_folder)), len(os.listdir(mask_26_days_folder))"
      ],
      "metadata": {
        "colab": {
          "base_uri": "https://localhost:8080/"
        },
        "id": "4kKrnw1-IoQ1",
        "outputId": "a1f8e106-5c9c-456a-b3c9-6411714c8adc"
      },
      "execution_count": null,
      "outputs": [
        {
          "output_type": "execute_result",
          "data": {
            "text/plain": [
              "(64, 57)"
            ]
          },
          "metadata": {},
          "execution_count": 14
        }
      ]
    },
    {
      "cell_type": "markdown",
      "source": [
        "## Make augmentation"
      ],
      "metadata": {
        "id": "eyVoakbgpPWV"
      }
    },
    {
      "cell_type": "code",
      "source": [
        "transforms = A.Compose(\n",
        "    [\n",
        "        A.Rotate(limit=90, p=0.9, border_mode=cv2.BORDER_CONSTANT),\n",
        "        A.HorizontalFlip(p=0.5),\n",
        "        A.VerticalFlip(p=0.5),\n",
        "    ]\n",
        "    )"
      ],
      "metadata": {
        "id": "JSCMSTyhV-To"
      },
      "execution_count": null,
      "outputs": []
    },
    {
      "cell_type": "code",
      "source": [
        "nir_6_days_folder = '/content/gdrive/MyDrive/Cropped Potato/2023_ИК_больные/6 дней после заражения'\n",
        "nir_26_days_folder = '/content/gdrive/MyDrive/Cropped Potato/2023_ИК_больные/26 дней после заражения'\n",
        "\n",
        "rgb_6_days_folder = '/content/gdrive/MyDrive/Cropped Potato/2023_ВИД_больные/6 дней после заражения'\n",
        "rgb_26_days_folder = '/content/gdrive/MyDrive/Cropped Potato/2023_ВИД_больные/26 дней после заражения'\n",
        "\n",
        "mask_6_days_folder = '/content/gdrive/MyDrive/Cropped Potato/Разметка/6 дней после заражения/Разметка картинки'\n",
        "mask_26_days_folder = '/content/gdrive/MyDrive/Cropped Potato/Разметка/26 дней после заражения/Разметка картинки'"
      ],
      "metadata": {
        "id": "RqSuNi-0p7si"
      },
      "execution_count": null,
      "outputs": []
    },
    {
      "cell_type": "code",
      "source": [
        "# perform augmentation transofmrs 20 times for every image and save it on google drive\n",
        "for img_path in tqdm(os.listdir(nir_6_days_folder)):\n",
        "\n",
        "\n",
        "    i = int(img_path.split('.')[0].split('_')[1]) # Number of image\n",
        "\n",
        "    nir_img = np.array(Image.open(os.path.join(nir_6_days_folder, img_path))) # shape = [512, 512, 3]\n",
        "    rgb_img = np.array(Image.open(os.path.join(rgb_6_days_folder, img_path)))\n",
        "\n",
        "    img = np.concatenate([nir_img, rgb_img], axis=2)      # Concatenate along the last axis -> shape = [512, 512, 6]\n",
        "\n",
        "    mask = np.array(Image.open(os.path.join(mask_6_days_folder, img_path.replace('JPG', 'png'))))\n",
        "\n",
        "    for j in range(1, 21):\n",
        "        augmented = transforms(image=img, mask=mask)\n",
        "\n",
        "        augmented_img = augmented['image']\n",
        "        augmented_nir_img = augmented_img[:, :, :3]\n",
        "        augmented_rgb_img = augmented_img[:, :, 3:]\n",
        "\n",
        "        augmented_mask = augmented['mask']\n",
        "\n",
        "        Image.fromarray(augmented_nir_img).save(os.path.join(nir_6_days_folder, f'IMG_{i + j}.JPG'))\n",
        "        Image.fromarray(augmented_rgb_img).save(os.path.join(rgb_6_days_folder, f'IMG_{i + j}.JPG'))\n",
        "        Image.fromarray(augmented_mask).save(os.path.join(mask_6_days_folder, f'IMG_{i + j}.png'))\n"
      ],
      "metadata": {
        "colab": {
          "base_uri": "https://localhost:8080/",
          "height": 49,
          "referenced_widgets": [
            "c1fb294006614007a5b263df83676c77",
            "a6e7ab0aa8fc47eabf6c44a776473eab",
            "d499cc960a224c0687ef0f30b5c9cef2",
            "cb83a44591564b0092f73cac92f6e2de",
            "0af61012f393442ea6f0fe7bee903282",
            "c85b6b19a19e4e0a9f9adb879832f0fa",
            "bae304ec6e814b19b0a05a699647183e",
            "b90d0f21adaf44adb4dbd6c73e73c2d1",
            "05ae896518eb4cc589d3cdd110d3f517",
            "ef4c5b761d8a4a4b8d6659ba72b11255",
            "27e97a33baf248269f9fbbc79d5f32ec"
          ]
        },
        "id": "A9dCMfaOp-lP",
        "outputId": "7e0ab914-ce47-4ecf-ffd8-5a5360c5f92b"
      },
      "execution_count": null,
      "outputs": [
        {
          "output_type": "display_data",
          "data": {
            "text/plain": [
              "  0%|          | 0/64 [00:00<?, ?it/s]"
            ],
            "application/vnd.jupyter.widget-view+json": {
              "version_major": 2,
              "version_minor": 0,
              "model_id": "c1fb294006614007a5b263df83676c77"
            }
          },
          "metadata": {}
        }
      ]
    },
    {
      "cell_type": "code",
      "source": [
        "len(os.listdir(mask_6_days_folder)), len(os.listdir(mask_26_days_folder))"
      ],
      "metadata": {
        "colab": {
          "base_uri": "https://localhost:8080/"
        },
        "id": "xYwBbaOGJfCq",
        "outputId": "8189f965-ecb9-45f5-9ee2-9c4880b94bb9"
      },
      "execution_count": null,
      "outputs": [
        {
          "output_type": "execute_result",
          "data": {
            "text/plain": [
              "(1344, 57)"
            ]
          },
          "metadata": {},
          "execution_count": 18
        }
      ]
    },
    {
      "cell_type": "code",
      "source": [
        "for img_path in tqdm(os.listdir(nir_26_days_folder)):\n",
        "\n",
        "    i = int(img_path.split('.')[0].split('_')[1])\n",
        "\n",
        "    nir_img = np.array(Image.open(os.path.join(nir_26_days_folder, img_path))) # shape = [512, 512, 3]\n",
        "    rgb_img = np.array(Image.open(os.path.join(rgb_26_days_folder, img_path)))\n",
        "\n",
        "    img = np.concatenate([nir_img, rgb_img], axis=2)      # Concatenate along the last axis -> shape = [512, 512, 6]\n",
        "\n",
        "    mask = np.array(Image.open(os.path.join(mask_26_days_folder, img_path.replace('JPG', 'png'))))\n",
        "\n",
        "\n",
        "    for j in range(1, 21):\n",
        "        augmented = transforms(image=img, mask=mask)\n",
        "\n",
        "        augmented_img = augmented['image']\n",
        "        augmented_nir_img = augmented_img[:, :, :3]\n",
        "        augmented_rgb_img = augmented_img[:, :, 3:]\n",
        "\n",
        "        augmented_mask = augmented['mask']\n",
        "\n",
        "\n",
        "\n",
        "        Image.fromarray(augmented_nir_img).save(os.path.join(nir_26_days_folder, f'IMG_{i + j}.JPG'))\n",
        "        Image.fromarray(augmented_rgb_img).save(os.path.join(rgb_26_days_folder, f'IMG_{i + j}.JPG'))\n",
        "        Image.fromarray(augmented_mask).save(os.path.join(mask_26_days_folder, f'IMG_{i + j}.png'))\n",
        "\n"
      ],
      "metadata": {
        "colab": {
          "base_uri": "https://localhost:8080/",
          "height": 49,
          "referenced_widgets": [
            "a00544accf7a40a08aa2466d791d416f",
            "3919615a2345485187ef131fc60d3c39",
            "77258f37866d454e952f7193b6d3f4d0",
            "139ea4923dea4947b983e7d691a53918",
            "d0a74bb162d44b9bb77fc3976423120f",
            "126b9b527f734ef39fdad2de86e71287",
            "6afee74565c741bdb648da8a435449b3",
            "5cca900e4dd7470886c043469829e083",
            "d715058a36f84a8ba41519ed586513bb",
            "c0edb2533a8d4766a898e3ba5eb045dc",
            "80d46dba02814b37bc32068947311c67"
          ]
        },
        "id": "Rd6OdLQBpYAA",
        "outputId": "1a9b6326-3c7e-4847-d04c-881ec21a2662"
      },
      "execution_count": null,
      "outputs": [
        {
          "output_type": "display_data",
          "data": {
            "text/plain": [
              "  0%|          | 0/57 [00:00<?, ?it/s]"
            ],
            "application/vnd.jupyter.widget-view+json": {
              "version_major": 2,
              "version_minor": 0,
              "model_id": "a00544accf7a40a08aa2466d791d416f"
            }
          },
          "metadata": {}
        }
      ]
    },
    {
      "cell_type": "code",
      "source": [
        "len(os.listdir(mask_6_days_folder)), len(os.listdir(mask_26_days_folder))"
      ],
      "metadata": {
        "colab": {
          "base_uri": "https://localhost:8080/"
        },
        "id": "5JXDqVGctWLn",
        "outputId": "18f8f925-d31c-4354-aaf0-827b42c0f6d9"
      },
      "execution_count": null,
      "outputs": [
        {
          "output_type": "execute_result",
          "data": {
            "text/plain": [
              "(1344, 1197)"
            ]
          },
          "metadata": {},
          "execution_count": 21
        }
      ]
    }
  ]
}