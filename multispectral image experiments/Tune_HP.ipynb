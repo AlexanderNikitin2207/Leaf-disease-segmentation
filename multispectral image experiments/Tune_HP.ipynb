{
  "nbformat": 4,
  "nbformat_minor": 0,
  "metadata": {
    "colab": {
      "provenance": [],
      "gpuType": "T4"
    },
    "kernelspec": {
      "name": "python3",
      "display_name": "Python 3"
    },
    "language_info": {
      "name": "python"
    },
    "widgets": {
      "application/vnd.jupyter.widget-state+json": {
        "04615a0638064e52b9779b55a9e51d85": {
          "model_module": "@jupyter-widgets/controls",
          "model_name": "VBoxModel",
          "model_module_version": "1.5.0",
          "state": {
            "_dom_classes": [],
            "_model_module": "@jupyter-widgets/controls",
            "_model_module_version": "1.5.0",
            "_model_name": "VBoxModel",
            "_view_count": null,
            "_view_module": "@jupyter-widgets/controls",
            "_view_module_version": "1.5.0",
            "_view_name": "VBoxView",
            "box_style": "",
            "children": [
              "IPY_MODEL_b3f2662ef8d54ed4a6be1ee68b497796",
              "IPY_MODEL_9f2ad9462d724aaa900cd2a537b4591a"
            ],
            "layout": "IPY_MODEL_db3173c98b6b4398aa7f0cf5d0424413"
          }
        },
        "b3f2662ef8d54ed4a6be1ee68b497796": {
          "model_module": "@jupyter-widgets/controls",
          "model_name": "LabelModel",
          "model_module_version": "1.5.0",
          "state": {
            "_dom_classes": [],
            "_model_module": "@jupyter-widgets/controls",
            "_model_module_version": "1.5.0",
            "_model_name": "LabelModel",
            "_view_count": null,
            "_view_module": "@jupyter-widgets/controls",
            "_view_module_version": "1.5.0",
            "_view_name": "LabelView",
            "description": "",
            "description_tooltip": null,
            "layout": "IPY_MODEL_3bf7ed6c30204288a198f87b74645176",
            "placeholder": "​",
            "style": "IPY_MODEL_a96f0630120340b9a31c57860eec8d1a",
            "value": "0.025 MB of 0.025 MB uploaded\r"
          }
        },
        "9f2ad9462d724aaa900cd2a537b4591a": {
          "model_module": "@jupyter-widgets/controls",
          "model_name": "FloatProgressModel",
          "model_module_version": "1.5.0",
          "state": {
            "_dom_classes": [],
            "_model_module": "@jupyter-widgets/controls",
            "_model_module_version": "1.5.0",
            "_model_name": "FloatProgressModel",
            "_view_count": null,
            "_view_module": "@jupyter-widgets/controls",
            "_view_module_version": "1.5.0",
            "_view_name": "ProgressView",
            "bar_style": "",
            "description": "",
            "description_tooltip": null,
            "layout": "IPY_MODEL_1e9917182b82471f9ca185f18aa64bc5",
            "max": 1,
            "min": 0,
            "orientation": "horizontal",
            "style": "IPY_MODEL_f3a34c320a11438daf61342d303fbe6a",
            "value": 1
          }
        },
        "db3173c98b6b4398aa7f0cf5d0424413": {
          "model_module": "@jupyter-widgets/base",
          "model_name": "LayoutModel",
          "model_module_version": "1.2.0",
          "state": {
            "_model_module": "@jupyter-widgets/base",
            "_model_module_version": "1.2.0",
            "_model_name": "LayoutModel",
            "_view_count": null,
            "_view_module": "@jupyter-widgets/base",
            "_view_module_version": "1.2.0",
            "_view_name": "LayoutView",
            "align_content": null,
            "align_items": null,
            "align_self": null,
            "border": null,
            "bottom": null,
            "display": null,
            "flex": null,
            "flex_flow": null,
            "grid_area": null,
            "grid_auto_columns": null,
            "grid_auto_flow": null,
            "grid_auto_rows": null,
            "grid_column": null,
            "grid_gap": null,
            "grid_row": null,
            "grid_template_areas": null,
            "grid_template_columns": null,
            "grid_template_rows": null,
            "height": null,
            "justify_content": null,
            "justify_items": null,
            "left": null,
            "margin": null,
            "max_height": null,
            "max_width": null,
            "min_height": null,
            "min_width": null,
            "object_fit": null,
            "object_position": null,
            "order": null,
            "overflow": null,
            "overflow_x": null,
            "overflow_y": null,
            "padding": null,
            "right": null,
            "top": null,
            "visibility": null,
            "width": null
          }
        },
        "3bf7ed6c30204288a198f87b74645176": {
          "model_module": "@jupyter-widgets/base",
          "model_name": "LayoutModel",
          "model_module_version": "1.2.0",
          "state": {
            "_model_module": "@jupyter-widgets/base",
            "_model_module_version": "1.2.0",
            "_model_name": "LayoutModel",
            "_view_count": null,
            "_view_module": "@jupyter-widgets/base",
            "_view_module_version": "1.2.0",
            "_view_name": "LayoutView",
            "align_content": null,
            "align_items": null,
            "align_self": null,
            "border": null,
            "bottom": null,
            "display": null,
            "flex": null,
            "flex_flow": null,
            "grid_area": null,
            "grid_auto_columns": null,
            "grid_auto_flow": null,
            "grid_auto_rows": null,
            "grid_column": null,
            "grid_gap": null,
            "grid_row": null,
            "grid_template_areas": null,
            "grid_template_columns": null,
            "grid_template_rows": null,
            "height": null,
            "justify_content": null,
            "justify_items": null,
            "left": null,
            "margin": null,
            "max_height": null,
            "max_width": null,
            "min_height": null,
            "min_width": null,
            "object_fit": null,
            "object_position": null,
            "order": null,
            "overflow": null,
            "overflow_x": null,
            "overflow_y": null,
            "padding": null,
            "right": null,
            "top": null,
            "visibility": null,
            "width": null
          }
        },
        "a96f0630120340b9a31c57860eec8d1a": {
          "model_module": "@jupyter-widgets/controls",
          "model_name": "DescriptionStyleModel",
          "model_module_version": "1.5.0",
          "state": {
            "_model_module": "@jupyter-widgets/controls",
            "_model_module_version": "1.5.0",
            "_model_name": "DescriptionStyleModel",
            "_view_count": null,
            "_view_module": "@jupyter-widgets/base",
            "_view_module_version": "1.2.0",
            "_view_name": "StyleView",
            "description_width": ""
          }
        },
        "1e9917182b82471f9ca185f18aa64bc5": {
          "model_module": "@jupyter-widgets/base",
          "model_name": "LayoutModel",
          "model_module_version": "1.2.0",
          "state": {
            "_model_module": "@jupyter-widgets/base",
            "_model_module_version": "1.2.0",
            "_model_name": "LayoutModel",
            "_view_count": null,
            "_view_module": "@jupyter-widgets/base",
            "_view_module_version": "1.2.0",
            "_view_name": "LayoutView",
            "align_content": null,
            "align_items": null,
            "align_self": null,
            "border": null,
            "bottom": null,
            "display": null,
            "flex": null,
            "flex_flow": null,
            "grid_area": null,
            "grid_auto_columns": null,
            "grid_auto_flow": null,
            "grid_auto_rows": null,
            "grid_column": null,
            "grid_gap": null,
            "grid_row": null,
            "grid_template_areas": null,
            "grid_template_columns": null,
            "grid_template_rows": null,
            "height": null,
            "justify_content": null,
            "justify_items": null,
            "left": null,
            "margin": null,
            "max_height": null,
            "max_width": null,
            "min_height": null,
            "min_width": null,
            "object_fit": null,
            "object_position": null,
            "order": null,
            "overflow": null,
            "overflow_x": null,
            "overflow_y": null,
            "padding": null,
            "right": null,
            "top": null,
            "visibility": null,
            "width": null
          }
        },
        "f3a34c320a11438daf61342d303fbe6a": {
          "model_module": "@jupyter-widgets/controls",
          "model_name": "ProgressStyleModel",
          "model_module_version": "1.5.0",
          "state": {
            "_model_module": "@jupyter-widgets/controls",
            "_model_module_version": "1.5.0",
            "_model_name": "ProgressStyleModel",
            "_view_count": null,
            "_view_module": "@jupyter-widgets/base",
            "_view_module_version": "1.2.0",
            "_view_name": "StyleView",
            "bar_color": null,
            "description_width": ""
          }
        },
        "c743de627513465bb4472a1658c15a3e": {
          "model_module": "@jupyter-widgets/controls",
          "model_name": "VBoxModel",
          "model_module_version": "1.5.0",
          "state": {
            "_dom_classes": [],
            "_model_module": "@jupyter-widgets/controls",
            "_model_module_version": "1.5.0",
            "_model_name": "VBoxModel",
            "_view_count": null,
            "_view_module": "@jupyter-widgets/controls",
            "_view_module_version": "1.5.0",
            "_view_name": "VBoxView",
            "box_style": "",
            "children": [
              "IPY_MODEL_0899a4b44ede43a6bc33bc0a090ae039",
              "IPY_MODEL_31211b4ca32b408bbaa7d66980935b4a"
            ],
            "layout": "IPY_MODEL_85be1830ae6147da89e7f43e4a5d5876"
          }
        },
        "0899a4b44ede43a6bc33bc0a090ae039": {
          "model_module": "@jupyter-widgets/controls",
          "model_name": "LabelModel",
          "model_module_version": "1.5.0",
          "state": {
            "_dom_classes": [],
            "_model_module": "@jupyter-widgets/controls",
            "_model_module_version": "1.5.0",
            "_model_name": "LabelModel",
            "_view_count": null,
            "_view_module": "@jupyter-widgets/controls",
            "_view_module_version": "1.5.0",
            "_view_name": "LabelView",
            "description": "",
            "description_tooltip": null,
            "layout": "IPY_MODEL_8c03203681c94785b3b9b539b610ac8e",
            "placeholder": "​",
            "style": "IPY_MODEL_004d404f4b23424f80f0790d811d4137",
            "value": "0.025 MB of 0.025 MB uploaded\r"
          }
        },
        "31211b4ca32b408bbaa7d66980935b4a": {
          "model_module": "@jupyter-widgets/controls",
          "model_name": "FloatProgressModel",
          "model_module_version": "1.5.0",
          "state": {
            "_dom_classes": [],
            "_model_module": "@jupyter-widgets/controls",
            "_model_module_version": "1.5.0",
            "_model_name": "FloatProgressModel",
            "_view_count": null,
            "_view_module": "@jupyter-widgets/controls",
            "_view_module_version": "1.5.0",
            "_view_name": "ProgressView",
            "bar_style": "",
            "description": "",
            "description_tooltip": null,
            "layout": "IPY_MODEL_752f01b770d14db88faa53b92ad88821",
            "max": 1,
            "min": 0,
            "orientation": "horizontal",
            "style": "IPY_MODEL_38ec5a3039704233a2e741c9c7abe3e2",
            "value": 1
          }
        },
        "85be1830ae6147da89e7f43e4a5d5876": {
          "model_module": "@jupyter-widgets/base",
          "model_name": "LayoutModel",
          "model_module_version": "1.2.0",
          "state": {
            "_model_module": "@jupyter-widgets/base",
            "_model_module_version": "1.2.0",
            "_model_name": "LayoutModel",
            "_view_count": null,
            "_view_module": "@jupyter-widgets/base",
            "_view_module_version": "1.2.0",
            "_view_name": "LayoutView",
            "align_content": null,
            "align_items": null,
            "align_self": null,
            "border": null,
            "bottom": null,
            "display": null,
            "flex": null,
            "flex_flow": null,
            "grid_area": null,
            "grid_auto_columns": null,
            "grid_auto_flow": null,
            "grid_auto_rows": null,
            "grid_column": null,
            "grid_gap": null,
            "grid_row": null,
            "grid_template_areas": null,
            "grid_template_columns": null,
            "grid_template_rows": null,
            "height": null,
            "justify_content": null,
            "justify_items": null,
            "left": null,
            "margin": null,
            "max_height": null,
            "max_width": null,
            "min_height": null,
            "min_width": null,
            "object_fit": null,
            "object_position": null,
            "order": null,
            "overflow": null,
            "overflow_x": null,
            "overflow_y": null,
            "padding": null,
            "right": null,
            "top": null,
            "visibility": null,
            "width": null
          }
        },
        "8c03203681c94785b3b9b539b610ac8e": {
          "model_module": "@jupyter-widgets/base",
          "model_name": "LayoutModel",
          "model_module_version": "1.2.0",
          "state": {
            "_model_module": "@jupyter-widgets/base",
            "_model_module_version": "1.2.0",
            "_model_name": "LayoutModel",
            "_view_count": null,
            "_view_module": "@jupyter-widgets/base",
            "_view_module_version": "1.2.0",
            "_view_name": "LayoutView",
            "align_content": null,
            "align_items": null,
            "align_self": null,
            "border": null,
            "bottom": null,
            "display": null,
            "flex": null,
            "flex_flow": null,
            "grid_area": null,
            "grid_auto_columns": null,
            "grid_auto_flow": null,
            "grid_auto_rows": null,
            "grid_column": null,
            "grid_gap": null,
            "grid_row": null,
            "grid_template_areas": null,
            "grid_template_columns": null,
            "grid_template_rows": null,
            "height": null,
            "justify_content": null,
            "justify_items": null,
            "left": null,
            "margin": null,
            "max_height": null,
            "max_width": null,
            "min_height": null,
            "min_width": null,
            "object_fit": null,
            "object_position": null,
            "order": null,
            "overflow": null,
            "overflow_x": null,
            "overflow_y": null,
            "padding": null,
            "right": null,
            "top": null,
            "visibility": null,
            "width": null
          }
        },
        "004d404f4b23424f80f0790d811d4137": {
          "model_module": "@jupyter-widgets/controls",
          "model_name": "DescriptionStyleModel",
          "model_module_version": "1.5.0",
          "state": {
            "_model_module": "@jupyter-widgets/controls",
            "_model_module_version": "1.5.0",
            "_model_name": "DescriptionStyleModel",
            "_view_count": null,
            "_view_module": "@jupyter-widgets/base",
            "_view_module_version": "1.2.0",
            "_view_name": "StyleView",
            "description_width": ""
          }
        },
        "752f01b770d14db88faa53b92ad88821": {
          "model_module": "@jupyter-widgets/base",
          "model_name": "LayoutModel",
          "model_module_version": "1.2.0",
          "state": {
            "_model_module": "@jupyter-widgets/base",
            "_model_module_version": "1.2.0",
            "_model_name": "LayoutModel",
            "_view_count": null,
            "_view_module": "@jupyter-widgets/base",
            "_view_module_version": "1.2.0",
            "_view_name": "LayoutView",
            "align_content": null,
            "align_items": null,
            "align_self": null,
            "border": null,
            "bottom": null,
            "display": null,
            "flex": null,
            "flex_flow": null,
            "grid_area": null,
            "grid_auto_columns": null,
            "grid_auto_flow": null,
            "grid_auto_rows": null,
            "grid_column": null,
            "grid_gap": null,
            "grid_row": null,
            "grid_template_areas": null,
            "grid_template_columns": null,
            "grid_template_rows": null,
            "height": null,
            "justify_content": null,
            "justify_items": null,
            "left": null,
            "margin": null,
            "max_height": null,
            "max_width": null,
            "min_height": null,
            "min_width": null,
            "object_fit": null,
            "object_position": null,
            "order": null,
            "overflow": null,
            "overflow_x": null,
            "overflow_y": null,
            "padding": null,
            "right": null,
            "top": null,
            "visibility": null,
            "width": null
          }
        },
        "38ec5a3039704233a2e741c9c7abe3e2": {
          "model_module": "@jupyter-widgets/controls",
          "model_name": "ProgressStyleModel",
          "model_module_version": "1.5.0",
          "state": {
            "_model_module": "@jupyter-widgets/controls",
            "_model_module_version": "1.5.0",
            "_model_name": "ProgressStyleModel",
            "_view_count": null,
            "_view_module": "@jupyter-widgets/base",
            "_view_module_version": "1.2.0",
            "_view_name": "StyleView",
            "bar_color": null,
            "description_width": ""
          }
        },
        "5a67530339054c9b87cf7020200d6879": {
          "model_module": "@jupyter-widgets/controls",
          "model_name": "VBoxModel",
          "model_module_version": "1.5.0",
          "state": {
            "_dom_classes": [],
            "_model_module": "@jupyter-widgets/controls",
            "_model_module_version": "1.5.0",
            "_model_name": "VBoxModel",
            "_view_count": null,
            "_view_module": "@jupyter-widgets/controls",
            "_view_module_version": "1.5.0",
            "_view_name": "VBoxView",
            "box_style": "",
            "children": [
              "IPY_MODEL_352d8c424fa24421a0a3884ca8c4f853",
              "IPY_MODEL_b86aa11e1f4a4d8790f6e7a08996b9f1"
            ],
            "layout": "IPY_MODEL_8856369cf31e404fa0d0d90798734ae0"
          }
        },
        "352d8c424fa24421a0a3884ca8c4f853": {
          "model_module": "@jupyter-widgets/controls",
          "model_name": "LabelModel",
          "model_module_version": "1.5.0",
          "state": {
            "_dom_classes": [],
            "_model_module": "@jupyter-widgets/controls",
            "_model_module_version": "1.5.0",
            "_model_name": "LabelModel",
            "_view_count": null,
            "_view_module": "@jupyter-widgets/controls",
            "_view_module_version": "1.5.0",
            "_view_name": "LabelView",
            "description": "",
            "description_tooltip": null,
            "layout": "IPY_MODEL_4c8eea7c016748e5ae4b56c00a5a3fe7",
            "placeholder": "​",
            "style": "IPY_MODEL_a59bee3c5ce6439b813b6e2e7be3b62e",
            "value": "0.025 MB of 0.025 MB uploaded\r"
          }
        },
        "b86aa11e1f4a4d8790f6e7a08996b9f1": {
          "model_module": "@jupyter-widgets/controls",
          "model_name": "FloatProgressModel",
          "model_module_version": "1.5.0",
          "state": {
            "_dom_classes": [],
            "_model_module": "@jupyter-widgets/controls",
            "_model_module_version": "1.5.0",
            "_model_name": "FloatProgressModel",
            "_view_count": null,
            "_view_module": "@jupyter-widgets/controls",
            "_view_module_version": "1.5.0",
            "_view_name": "ProgressView",
            "bar_style": "",
            "description": "",
            "description_tooltip": null,
            "layout": "IPY_MODEL_14e5a38f512e475aa89c9fd976ed543d",
            "max": 1,
            "min": 0,
            "orientation": "horizontal",
            "style": "IPY_MODEL_39dc16a93ba94305b36d793d71468cf8",
            "value": 1
          }
        },
        "8856369cf31e404fa0d0d90798734ae0": {
          "model_module": "@jupyter-widgets/base",
          "model_name": "LayoutModel",
          "model_module_version": "1.2.0",
          "state": {
            "_model_module": "@jupyter-widgets/base",
            "_model_module_version": "1.2.0",
            "_model_name": "LayoutModel",
            "_view_count": null,
            "_view_module": "@jupyter-widgets/base",
            "_view_module_version": "1.2.0",
            "_view_name": "LayoutView",
            "align_content": null,
            "align_items": null,
            "align_self": null,
            "border": null,
            "bottom": null,
            "display": null,
            "flex": null,
            "flex_flow": null,
            "grid_area": null,
            "grid_auto_columns": null,
            "grid_auto_flow": null,
            "grid_auto_rows": null,
            "grid_column": null,
            "grid_gap": null,
            "grid_row": null,
            "grid_template_areas": null,
            "grid_template_columns": null,
            "grid_template_rows": null,
            "height": null,
            "justify_content": null,
            "justify_items": null,
            "left": null,
            "margin": null,
            "max_height": null,
            "max_width": null,
            "min_height": null,
            "min_width": null,
            "object_fit": null,
            "object_position": null,
            "order": null,
            "overflow": null,
            "overflow_x": null,
            "overflow_y": null,
            "padding": null,
            "right": null,
            "top": null,
            "visibility": null,
            "width": null
          }
        },
        "4c8eea7c016748e5ae4b56c00a5a3fe7": {
          "model_module": "@jupyter-widgets/base",
          "model_name": "LayoutModel",
          "model_module_version": "1.2.0",
          "state": {
            "_model_module": "@jupyter-widgets/base",
            "_model_module_version": "1.2.0",
            "_model_name": "LayoutModel",
            "_view_count": null,
            "_view_module": "@jupyter-widgets/base",
            "_view_module_version": "1.2.0",
            "_view_name": "LayoutView",
            "align_content": null,
            "align_items": null,
            "align_self": null,
            "border": null,
            "bottom": null,
            "display": null,
            "flex": null,
            "flex_flow": null,
            "grid_area": null,
            "grid_auto_columns": null,
            "grid_auto_flow": null,
            "grid_auto_rows": null,
            "grid_column": null,
            "grid_gap": null,
            "grid_row": null,
            "grid_template_areas": null,
            "grid_template_columns": null,
            "grid_template_rows": null,
            "height": null,
            "justify_content": null,
            "justify_items": null,
            "left": null,
            "margin": null,
            "max_height": null,
            "max_width": null,
            "min_height": null,
            "min_width": null,
            "object_fit": null,
            "object_position": null,
            "order": null,
            "overflow": null,
            "overflow_x": null,
            "overflow_y": null,
            "padding": null,
            "right": null,
            "top": null,
            "visibility": null,
            "width": null
          }
        },
        "a59bee3c5ce6439b813b6e2e7be3b62e": {
          "model_module": "@jupyter-widgets/controls",
          "model_name": "DescriptionStyleModel",
          "model_module_version": "1.5.0",
          "state": {
            "_model_module": "@jupyter-widgets/controls",
            "_model_module_version": "1.5.0",
            "_model_name": "DescriptionStyleModel",
            "_view_count": null,
            "_view_module": "@jupyter-widgets/base",
            "_view_module_version": "1.2.0",
            "_view_name": "StyleView",
            "description_width": ""
          }
        },
        "14e5a38f512e475aa89c9fd976ed543d": {
          "model_module": "@jupyter-widgets/base",
          "model_name": "LayoutModel",
          "model_module_version": "1.2.0",
          "state": {
            "_model_module": "@jupyter-widgets/base",
            "_model_module_version": "1.2.0",
            "_model_name": "LayoutModel",
            "_view_count": null,
            "_view_module": "@jupyter-widgets/base",
            "_view_module_version": "1.2.0",
            "_view_name": "LayoutView",
            "align_content": null,
            "align_items": null,
            "align_self": null,
            "border": null,
            "bottom": null,
            "display": null,
            "flex": null,
            "flex_flow": null,
            "grid_area": null,
            "grid_auto_columns": null,
            "grid_auto_flow": null,
            "grid_auto_rows": null,
            "grid_column": null,
            "grid_gap": null,
            "grid_row": null,
            "grid_template_areas": null,
            "grid_template_columns": null,
            "grid_template_rows": null,
            "height": null,
            "justify_content": null,
            "justify_items": null,
            "left": null,
            "margin": null,
            "max_height": null,
            "max_width": null,
            "min_height": null,
            "min_width": null,
            "object_fit": null,
            "object_position": null,
            "order": null,
            "overflow": null,
            "overflow_x": null,
            "overflow_y": null,
            "padding": null,
            "right": null,
            "top": null,
            "visibility": null,
            "width": null
          }
        },
        "39dc16a93ba94305b36d793d71468cf8": {
          "model_module": "@jupyter-widgets/controls",
          "model_name": "ProgressStyleModel",
          "model_module_version": "1.5.0",
          "state": {
            "_model_module": "@jupyter-widgets/controls",
            "_model_module_version": "1.5.0",
            "_model_name": "ProgressStyleModel",
            "_view_count": null,
            "_view_module": "@jupyter-widgets/base",
            "_view_module_version": "1.2.0",
            "_view_name": "StyleView",
            "bar_color": null,
            "description_width": ""
          }
        },
        "9bfbdce1a0bb482c99f0b3f7f2f4aed4": {
          "model_module": "@jupyter-widgets/controls",
          "model_name": "VBoxModel",
          "model_module_version": "1.5.0",
          "state": {
            "_dom_classes": [],
            "_model_module": "@jupyter-widgets/controls",
            "_model_module_version": "1.5.0",
            "_model_name": "VBoxModel",
            "_view_count": null,
            "_view_module": "@jupyter-widgets/controls",
            "_view_module_version": "1.5.0",
            "_view_name": "VBoxView",
            "box_style": "",
            "children": [
              "IPY_MODEL_c94dde986757443fa7bdc2aee762a743",
              "IPY_MODEL_dfe89670898b4f1ea6648b0c87af94ae"
            ],
            "layout": "IPY_MODEL_476d33d5a099408a84385bbb211ebb1f"
          }
        },
        "c94dde986757443fa7bdc2aee762a743": {
          "model_module": "@jupyter-widgets/controls",
          "model_name": "LabelModel",
          "model_module_version": "1.5.0",
          "state": {
            "_dom_classes": [],
            "_model_module": "@jupyter-widgets/controls",
            "_model_module_version": "1.5.0",
            "_model_name": "LabelModel",
            "_view_count": null,
            "_view_module": "@jupyter-widgets/controls",
            "_view_module_version": "1.5.0",
            "_view_name": "LabelView",
            "description": "",
            "description_tooltip": null,
            "layout": "IPY_MODEL_f7723ee74bf944c78ace5c0f357cbb5f",
            "placeholder": "​",
            "style": "IPY_MODEL_33f0ca49db8a4bf390374bdea5da0c96",
            "value": "0.025 MB of 0.025 MB uploaded\r"
          }
        },
        "dfe89670898b4f1ea6648b0c87af94ae": {
          "model_module": "@jupyter-widgets/controls",
          "model_name": "FloatProgressModel",
          "model_module_version": "1.5.0",
          "state": {
            "_dom_classes": [],
            "_model_module": "@jupyter-widgets/controls",
            "_model_module_version": "1.5.0",
            "_model_name": "FloatProgressModel",
            "_view_count": null,
            "_view_module": "@jupyter-widgets/controls",
            "_view_module_version": "1.5.0",
            "_view_name": "ProgressView",
            "bar_style": "",
            "description": "",
            "description_tooltip": null,
            "layout": "IPY_MODEL_cd6e63045bb146b6971a78babfe95de7",
            "max": 1,
            "min": 0,
            "orientation": "horizontal",
            "style": "IPY_MODEL_8f001bc116bc41ea8c58e8e67c1aebd9",
            "value": 1
          }
        },
        "476d33d5a099408a84385bbb211ebb1f": {
          "model_module": "@jupyter-widgets/base",
          "model_name": "LayoutModel",
          "model_module_version": "1.2.0",
          "state": {
            "_model_module": "@jupyter-widgets/base",
            "_model_module_version": "1.2.0",
            "_model_name": "LayoutModel",
            "_view_count": null,
            "_view_module": "@jupyter-widgets/base",
            "_view_module_version": "1.2.0",
            "_view_name": "LayoutView",
            "align_content": null,
            "align_items": null,
            "align_self": null,
            "border": null,
            "bottom": null,
            "display": null,
            "flex": null,
            "flex_flow": null,
            "grid_area": null,
            "grid_auto_columns": null,
            "grid_auto_flow": null,
            "grid_auto_rows": null,
            "grid_column": null,
            "grid_gap": null,
            "grid_row": null,
            "grid_template_areas": null,
            "grid_template_columns": null,
            "grid_template_rows": null,
            "height": null,
            "justify_content": null,
            "justify_items": null,
            "left": null,
            "margin": null,
            "max_height": null,
            "max_width": null,
            "min_height": null,
            "min_width": null,
            "object_fit": null,
            "object_position": null,
            "order": null,
            "overflow": null,
            "overflow_x": null,
            "overflow_y": null,
            "padding": null,
            "right": null,
            "top": null,
            "visibility": null,
            "width": null
          }
        },
        "f7723ee74bf944c78ace5c0f357cbb5f": {
          "model_module": "@jupyter-widgets/base",
          "model_name": "LayoutModel",
          "model_module_version": "1.2.0",
          "state": {
            "_model_module": "@jupyter-widgets/base",
            "_model_module_version": "1.2.0",
            "_model_name": "LayoutModel",
            "_view_count": null,
            "_view_module": "@jupyter-widgets/base",
            "_view_module_version": "1.2.0",
            "_view_name": "LayoutView",
            "align_content": null,
            "align_items": null,
            "align_self": null,
            "border": null,
            "bottom": null,
            "display": null,
            "flex": null,
            "flex_flow": null,
            "grid_area": null,
            "grid_auto_columns": null,
            "grid_auto_flow": null,
            "grid_auto_rows": null,
            "grid_column": null,
            "grid_gap": null,
            "grid_row": null,
            "grid_template_areas": null,
            "grid_template_columns": null,
            "grid_template_rows": null,
            "height": null,
            "justify_content": null,
            "justify_items": null,
            "left": null,
            "margin": null,
            "max_height": null,
            "max_width": null,
            "min_height": null,
            "min_width": null,
            "object_fit": null,
            "object_position": null,
            "order": null,
            "overflow": null,
            "overflow_x": null,
            "overflow_y": null,
            "padding": null,
            "right": null,
            "top": null,
            "visibility": null,
            "width": null
          }
        },
        "33f0ca49db8a4bf390374bdea5da0c96": {
          "model_module": "@jupyter-widgets/controls",
          "model_name": "DescriptionStyleModel",
          "model_module_version": "1.5.0",
          "state": {
            "_model_module": "@jupyter-widgets/controls",
            "_model_module_version": "1.5.0",
            "_model_name": "DescriptionStyleModel",
            "_view_count": null,
            "_view_module": "@jupyter-widgets/base",
            "_view_module_version": "1.2.0",
            "_view_name": "StyleView",
            "description_width": ""
          }
        },
        "cd6e63045bb146b6971a78babfe95de7": {
          "model_module": "@jupyter-widgets/base",
          "model_name": "LayoutModel",
          "model_module_version": "1.2.0",
          "state": {
            "_model_module": "@jupyter-widgets/base",
            "_model_module_version": "1.2.0",
            "_model_name": "LayoutModel",
            "_view_count": null,
            "_view_module": "@jupyter-widgets/base",
            "_view_module_version": "1.2.0",
            "_view_name": "LayoutView",
            "align_content": null,
            "align_items": null,
            "align_self": null,
            "border": null,
            "bottom": null,
            "display": null,
            "flex": null,
            "flex_flow": null,
            "grid_area": null,
            "grid_auto_columns": null,
            "grid_auto_flow": null,
            "grid_auto_rows": null,
            "grid_column": null,
            "grid_gap": null,
            "grid_row": null,
            "grid_template_areas": null,
            "grid_template_columns": null,
            "grid_template_rows": null,
            "height": null,
            "justify_content": null,
            "justify_items": null,
            "left": null,
            "margin": null,
            "max_height": null,
            "max_width": null,
            "min_height": null,
            "min_width": null,
            "object_fit": null,
            "object_position": null,
            "order": null,
            "overflow": null,
            "overflow_x": null,
            "overflow_y": null,
            "padding": null,
            "right": null,
            "top": null,
            "visibility": null,
            "width": null
          }
        },
        "8f001bc116bc41ea8c58e8e67c1aebd9": {
          "model_module": "@jupyter-widgets/controls",
          "model_name": "ProgressStyleModel",
          "model_module_version": "1.5.0",
          "state": {
            "_model_module": "@jupyter-widgets/controls",
            "_model_module_version": "1.5.0",
            "_model_name": "ProgressStyleModel",
            "_view_count": null,
            "_view_module": "@jupyter-widgets/base",
            "_view_module_version": "1.2.0",
            "_view_name": "StyleView",
            "bar_color": null,
            "description_width": ""
          }
        },
        "3121a8dcfbc64092a52687f7d9c92b92": {
          "model_module": "@jupyter-widgets/controls",
          "model_name": "VBoxModel",
          "model_module_version": "1.5.0",
          "state": {
            "_dom_classes": [],
            "_model_module": "@jupyter-widgets/controls",
            "_model_module_version": "1.5.0",
            "_model_name": "VBoxModel",
            "_view_count": null,
            "_view_module": "@jupyter-widgets/controls",
            "_view_module_version": "1.5.0",
            "_view_name": "VBoxView",
            "box_style": "",
            "children": [
              "IPY_MODEL_2973c824d9a541298cb6cbfadfefc22b",
              "IPY_MODEL_aea6961c829b445392170097f46b5c33"
            ],
            "layout": "IPY_MODEL_785b9fa6ebe944278566d284260c804e"
          }
        },
        "2973c824d9a541298cb6cbfadfefc22b": {
          "model_module": "@jupyter-widgets/controls",
          "model_name": "LabelModel",
          "model_module_version": "1.5.0",
          "state": {
            "_dom_classes": [],
            "_model_module": "@jupyter-widgets/controls",
            "_model_module_version": "1.5.0",
            "_model_name": "LabelModel",
            "_view_count": null,
            "_view_module": "@jupyter-widgets/controls",
            "_view_module_version": "1.5.0",
            "_view_name": "LabelView",
            "description": "",
            "description_tooltip": null,
            "layout": "IPY_MODEL_6c4d02e371a64b15b84a3dd7e121b259",
            "placeholder": "​",
            "style": "IPY_MODEL_654e525e5e0d4dfb864b12dcfd660032",
            "value": "0.025 MB of 0.025 MB uploaded\r"
          }
        },
        "aea6961c829b445392170097f46b5c33": {
          "model_module": "@jupyter-widgets/controls",
          "model_name": "FloatProgressModel",
          "model_module_version": "1.5.0",
          "state": {
            "_dom_classes": [],
            "_model_module": "@jupyter-widgets/controls",
            "_model_module_version": "1.5.0",
            "_model_name": "FloatProgressModel",
            "_view_count": null,
            "_view_module": "@jupyter-widgets/controls",
            "_view_module_version": "1.5.0",
            "_view_name": "ProgressView",
            "bar_style": "",
            "description": "",
            "description_tooltip": null,
            "layout": "IPY_MODEL_fe67810c026f4ebd9cc6a1932f8274ca",
            "max": 1,
            "min": 0,
            "orientation": "horizontal",
            "style": "IPY_MODEL_23f55d1ea6a84691a835ca774db72f41",
            "value": 1
          }
        },
        "785b9fa6ebe944278566d284260c804e": {
          "model_module": "@jupyter-widgets/base",
          "model_name": "LayoutModel",
          "model_module_version": "1.2.0",
          "state": {
            "_model_module": "@jupyter-widgets/base",
            "_model_module_version": "1.2.0",
            "_model_name": "LayoutModel",
            "_view_count": null,
            "_view_module": "@jupyter-widgets/base",
            "_view_module_version": "1.2.0",
            "_view_name": "LayoutView",
            "align_content": null,
            "align_items": null,
            "align_self": null,
            "border": null,
            "bottom": null,
            "display": null,
            "flex": null,
            "flex_flow": null,
            "grid_area": null,
            "grid_auto_columns": null,
            "grid_auto_flow": null,
            "grid_auto_rows": null,
            "grid_column": null,
            "grid_gap": null,
            "grid_row": null,
            "grid_template_areas": null,
            "grid_template_columns": null,
            "grid_template_rows": null,
            "height": null,
            "justify_content": null,
            "justify_items": null,
            "left": null,
            "margin": null,
            "max_height": null,
            "max_width": null,
            "min_height": null,
            "min_width": null,
            "object_fit": null,
            "object_position": null,
            "order": null,
            "overflow": null,
            "overflow_x": null,
            "overflow_y": null,
            "padding": null,
            "right": null,
            "top": null,
            "visibility": null,
            "width": null
          }
        },
        "6c4d02e371a64b15b84a3dd7e121b259": {
          "model_module": "@jupyter-widgets/base",
          "model_name": "LayoutModel",
          "model_module_version": "1.2.0",
          "state": {
            "_model_module": "@jupyter-widgets/base",
            "_model_module_version": "1.2.0",
            "_model_name": "LayoutModel",
            "_view_count": null,
            "_view_module": "@jupyter-widgets/base",
            "_view_module_version": "1.2.0",
            "_view_name": "LayoutView",
            "align_content": null,
            "align_items": null,
            "align_self": null,
            "border": null,
            "bottom": null,
            "display": null,
            "flex": null,
            "flex_flow": null,
            "grid_area": null,
            "grid_auto_columns": null,
            "grid_auto_flow": null,
            "grid_auto_rows": null,
            "grid_column": null,
            "grid_gap": null,
            "grid_row": null,
            "grid_template_areas": null,
            "grid_template_columns": null,
            "grid_template_rows": null,
            "height": null,
            "justify_content": null,
            "justify_items": null,
            "left": null,
            "margin": null,
            "max_height": null,
            "max_width": null,
            "min_height": null,
            "min_width": null,
            "object_fit": null,
            "object_position": null,
            "order": null,
            "overflow": null,
            "overflow_x": null,
            "overflow_y": null,
            "padding": null,
            "right": null,
            "top": null,
            "visibility": null,
            "width": null
          }
        },
        "654e525e5e0d4dfb864b12dcfd660032": {
          "model_module": "@jupyter-widgets/controls",
          "model_name": "DescriptionStyleModel",
          "model_module_version": "1.5.0",
          "state": {
            "_model_module": "@jupyter-widgets/controls",
            "_model_module_version": "1.5.0",
            "_model_name": "DescriptionStyleModel",
            "_view_count": null,
            "_view_module": "@jupyter-widgets/base",
            "_view_module_version": "1.2.0",
            "_view_name": "StyleView",
            "description_width": ""
          }
        },
        "fe67810c026f4ebd9cc6a1932f8274ca": {
          "model_module": "@jupyter-widgets/base",
          "model_name": "LayoutModel",
          "model_module_version": "1.2.0",
          "state": {
            "_model_module": "@jupyter-widgets/base",
            "_model_module_version": "1.2.0",
            "_model_name": "LayoutModel",
            "_view_count": null,
            "_view_module": "@jupyter-widgets/base",
            "_view_module_version": "1.2.0",
            "_view_name": "LayoutView",
            "align_content": null,
            "align_items": null,
            "align_self": null,
            "border": null,
            "bottom": null,
            "display": null,
            "flex": null,
            "flex_flow": null,
            "grid_area": null,
            "grid_auto_columns": null,
            "grid_auto_flow": null,
            "grid_auto_rows": null,
            "grid_column": null,
            "grid_gap": null,
            "grid_row": null,
            "grid_template_areas": null,
            "grid_template_columns": null,
            "grid_template_rows": null,
            "height": null,
            "justify_content": null,
            "justify_items": null,
            "left": null,
            "margin": null,
            "max_height": null,
            "max_width": null,
            "min_height": null,
            "min_width": null,
            "object_fit": null,
            "object_position": null,
            "order": null,
            "overflow": null,
            "overflow_x": null,
            "overflow_y": null,
            "padding": null,
            "right": null,
            "top": null,
            "visibility": null,
            "width": null
          }
        },
        "23f55d1ea6a84691a835ca774db72f41": {
          "model_module": "@jupyter-widgets/controls",
          "model_name": "ProgressStyleModel",
          "model_module_version": "1.5.0",
          "state": {
            "_model_module": "@jupyter-widgets/controls",
            "_model_module_version": "1.5.0",
            "_model_name": "ProgressStyleModel",
            "_view_count": null,
            "_view_module": "@jupyter-widgets/base",
            "_view_module_version": "1.2.0",
            "_view_name": "StyleView",
            "bar_color": null,
            "description_width": ""
          }
        },
        "8462a881284e4ce68673c0961237f3f1": {
          "model_module": "@jupyter-widgets/controls",
          "model_name": "VBoxModel",
          "model_module_version": "1.5.0",
          "state": {
            "_dom_classes": [],
            "_model_module": "@jupyter-widgets/controls",
            "_model_module_version": "1.5.0",
            "_model_name": "VBoxModel",
            "_view_count": null,
            "_view_module": "@jupyter-widgets/controls",
            "_view_module_version": "1.5.0",
            "_view_name": "VBoxView",
            "box_style": "",
            "children": [
              "IPY_MODEL_5d3a508e206b41c1ba8839df992adff8",
              "IPY_MODEL_418b977da0344c6bb240bfc9c47f66cc"
            ],
            "layout": "IPY_MODEL_8dc05a9b5ea144cdb5b3deff2c2e4f2c"
          }
        },
        "5d3a508e206b41c1ba8839df992adff8": {
          "model_module": "@jupyter-widgets/controls",
          "model_name": "LabelModel",
          "model_module_version": "1.5.0",
          "state": {
            "_dom_classes": [],
            "_model_module": "@jupyter-widgets/controls",
            "_model_module_version": "1.5.0",
            "_model_name": "LabelModel",
            "_view_count": null,
            "_view_module": "@jupyter-widgets/controls",
            "_view_module_version": "1.5.0",
            "_view_name": "LabelView",
            "description": "",
            "description_tooltip": null,
            "layout": "IPY_MODEL_7bcee599441146079d59211cfe8c8f38",
            "placeholder": "​",
            "style": "IPY_MODEL_f3ce8900884a4e3e95a4cb96868ab261",
            "value": "0.025 MB of 0.025 MB uploaded\r"
          }
        },
        "418b977da0344c6bb240bfc9c47f66cc": {
          "model_module": "@jupyter-widgets/controls",
          "model_name": "FloatProgressModel",
          "model_module_version": "1.5.0",
          "state": {
            "_dom_classes": [],
            "_model_module": "@jupyter-widgets/controls",
            "_model_module_version": "1.5.0",
            "_model_name": "FloatProgressModel",
            "_view_count": null,
            "_view_module": "@jupyter-widgets/controls",
            "_view_module_version": "1.5.0",
            "_view_name": "ProgressView",
            "bar_style": "",
            "description": "",
            "description_tooltip": null,
            "layout": "IPY_MODEL_bfe6d4085fef4c3d8724e81debd01c6a",
            "max": 1,
            "min": 0,
            "orientation": "horizontal",
            "style": "IPY_MODEL_cd7ad955137c4afbba4c43dc9172175a",
            "value": 1
          }
        },
        "8dc05a9b5ea144cdb5b3deff2c2e4f2c": {
          "model_module": "@jupyter-widgets/base",
          "model_name": "LayoutModel",
          "model_module_version": "1.2.0",
          "state": {
            "_model_module": "@jupyter-widgets/base",
            "_model_module_version": "1.2.0",
            "_model_name": "LayoutModel",
            "_view_count": null,
            "_view_module": "@jupyter-widgets/base",
            "_view_module_version": "1.2.0",
            "_view_name": "LayoutView",
            "align_content": null,
            "align_items": null,
            "align_self": null,
            "border": null,
            "bottom": null,
            "display": null,
            "flex": null,
            "flex_flow": null,
            "grid_area": null,
            "grid_auto_columns": null,
            "grid_auto_flow": null,
            "grid_auto_rows": null,
            "grid_column": null,
            "grid_gap": null,
            "grid_row": null,
            "grid_template_areas": null,
            "grid_template_columns": null,
            "grid_template_rows": null,
            "height": null,
            "justify_content": null,
            "justify_items": null,
            "left": null,
            "margin": null,
            "max_height": null,
            "max_width": null,
            "min_height": null,
            "min_width": null,
            "object_fit": null,
            "object_position": null,
            "order": null,
            "overflow": null,
            "overflow_x": null,
            "overflow_y": null,
            "padding": null,
            "right": null,
            "top": null,
            "visibility": null,
            "width": null
          }
        },
        "7bcee599441146079d59211cfe8c8f38": {
          "model_module": "@jupyter-widgets/base",
          "model_name": "LayoutModel",
          "model_module_version": "1.2.0",
          "state": {
            "_model_module": "@jupyter-widgets/base",
            "_model_module_version": "1.2.0",
            "_model_name": "LayoutModel",
            "_view_count": null,
            "_view_module": "@jupyter-widgets/base",
            "_view_module_version": "1.2.0",
            "_view_name": "LayoutView",
            "align_content": null,
            "align_items": null,
            "align_self": null,
            "border": null,
            "bottom": null,
            "display": null,
            "flex": null,
            "flex_flow": null,
            "grid_area": null,
            "grid_auto_columns": null,
            "grid_auto_flow": null,
            "grid_auto_rows": null,
            "grid_column": null,
            "grid_gap": null,
            "grid_row": null,
            "grid_template_areas": null,
            "grid_template_columns": null,
            "grid_template_rows": null,
            "height": null,
            "justify_content": null,
            "justify_items": null,
            "left": null,
            "margin": null,
            "max_height": null,
            "max_width": null,
            "min_height": null,
            "min_width": null,
            "object_fit": null,
            "object_position": null,
            "order": null,
            "overflow": null,
            "overflow_x": null,
            "overflow_y": null,
            "padding": null,
            "right": null,
            "top": null,
            "visibility": null,
            "width": null
          }
        },
        "f3ce8900884a4e3e95a4cb96868ab261": {
          "model_module": "@jupyter-widgets/controls",
          "model_name": "DescriptionStyleModel",
          "model_module_version": "1.5.0",
          "state": {
            "_model_module": "@jupyter-widgets/controls",
            "_model_module_version": "1.5.0",
            "_model_name": "DescriptionStyleModel",
            "_view_count": null,
            "_view_module": "@jupyter-widgets/base",
            "_view_module_version": "1.2.0",
            "_view_name": "StyleView",
            "description_width": ""
          }
        },
        "bfe6d4085fef4c3d8724e81debd01c6a": {
          "model_module": "@jupyter-widgets/base",
          "model_name": "LayoutModel",
          "model_module_version": "1.2.0",
          "state": {
            "_model_module": "@jupyter-widgets/base",
            "_model_module_version": "1.2.0",
            "_model_name": "LayoutModel",
            "_view_count": null,
            "_view_module": "@jupyter-widgets/base",
            "_view_module_version": "1.2.0",
            "_view_name": "LayoutView",
            "align_content": null,
            "align_items": null,
            "align_self": null,
            "border": null,
            "bottom": null,
            "display": null,
            "flex": null,
            "flex_flow": null,
            "grid_area": null,
            "grid_auto_columns": null,
            "grid_auto_flow": null,
            "grid_auto_rows": null,
            "grid_column": null,
            "grid_gap": null,
            "grid_row": null,
            "grid_template_areas": null,
            "grid_template_columns": null,
            "grid_template_rows": null,
            "height": null,
            "justify_content": null,
            "justify_items": null,
            "left": null,
            "margin": null,
            "max_height": null,
            "max_width": null,
            "min_height": null,
            "min_width": null,
            "object_fit": null,
            "object_position": null,
            "order": null,
            "overflow": null,
            "overflow_x": null,
            "overflow_y": null,
            "padding": null,
            "right": null,
            "top": null,
            "visibility": null,
            "width": null
          }
        },
        "cd7ad955137c4afbba4c43dc9172175a": {
          "model_module": "@jupyter-widgets/controls",
          "model_name": "ProgressStyleModel",
          "model_module_version": "1.5.0",
          "state": {
            "_model_module": "@jupyter-widgets/controls",
            "_model_module_version": "1.5.0",
            "_model_name": "ProgressStyleModel",
            "_view_count": null,
            "_view_module": "@jupyter-widgets/base",
            "_view_module_version": "1.2.0",
            "_view_name": "StyleView",
            "bar_color": null,
            "description_width": ""
          }
        },
        "3cfcb3475111463f99cedc08ab4c5b0e": {
          "model_module": "@jupyter-widgets/controls",
          "model_name": "VBoxModel",
          "model_module_version": "1.5.0",
          "state": {
            "_dom_classes": [],
            "_model_module": "@jupyter-widgets/controls",
            "_model_module_version": "1.5.0",
            "_model_name": "VBoxModel",
            "_view_count": null,
            "_view_module": "@jupyter-widgets/controls",
            "_view_module_version": "1.5.0",
            "_view_name": "VBoxView",
            "box_style": "",
            "children": [
              "IPY_MODEL_a236f4a1efea4c469d80ab896a4cdcf8",
              "IPY_MODEL_5f6c795f2ee449cb9bb36206c2c5ac77"
            ],
            "layout": "IPY_MODEL_69b09234d0d8495ba56fe18424a32ad3"
          }
        },
        "a236f4a1efea4c469d80ab896a4cdcf8": {
          "model_module": "@jupyter-widgets/controls",
          "model_name": "LabelModel",
          "model_module_version": "1.5.0",
          "state": {
            "_dom_classes": [],
            "_model_module": "@jupyter-widgets/controls",
            "_model_module_version": "1.5.0",
            "_model_name": "LabelModel",
            "_view_count": null,
            "_view_module": "@jupyter-widgets/controls",
            "_view_module_version": "1.5.0",
            "_view_name": "LabelView",
            "description": "",
            "description_tooltip": null,
            "layout": "IPY_MODEL_926d1dfee68c44d9be7f532f3d0ab327",
            "placeholder": "​",
            "style": "IPY_MODEL_eb25f4461a4740af9a4d4cb72ada5954",
            "value": "0.025 MB of 0.025 MB uploaded\r"
          }
        },
        "5f6c795f2ee449cb9bb36206c2c5ac77": {
          "model_module": "@jupyter-widgets/controls",
          "model_name": "FloatProgressModel",
          "model_module_version": "1.5.0",
          "state": {
            "_dom_classes": [],
            "_model_module": "@jupyter-widgets/controls",
            "_model_module_version": "1.5.0",
            "_model_name": "FloatProgressModel",
            "_view_count": null,
            "_view_module": "@jupyter-widgets/controls",
            "_view_module_version": "1.5.0",
            "_view_name": "ProgressView",
            "bar_style": "",
            "description": "",
            "description_tooltip": null,
            "layout": "IPY_MODEL_b60c2bf5dd574e7e8759974bc77a3708",
            "max": 1,
            "min": 0,
            "orientation": "horizontal",
            "style": "IPY_MODEL_116440a199844e4e97d74a5e15d34b7b",
            "value": 1
          }
        },
        "69b09234d0d8495ba56fe18424a32ad3": {
          "model_module": "@jupyter-widgets/base",
          "model_name": "LayoutModel",
          "model_module_version": "1.2.0",
          "state": {
            "_model_module": "@jupyter-widgets/base",
            "_model_module_version": "1.2.0",
            "_model_name": "LayoutModel",
            "_view_count": null,
            "_view_module": "@jupyter-widgets/base",
            "_view_module_version": "1.2.0",
            "_view_name": "LayoutView",
            "align_content": null,
            "align_items": null,
            "align_self": null,
            "border": null,
            "bottom": null,
            "display": null,
            "flex": null,
            "flex_flow": null,
            "grid_area": null,
            "grid_auto_columns": null,
            "grid_auto_flow": null,
            "grid_auto_rows": null,
            "grid_column": null,
            "grid_gap": null,
            "grid_row": null,
            "grid_template_areas": null,
            "grid_template_columns": null,
            "grid_template_rows": null,
            "height": null,
            "justify_content": null,
            "justify_items": null,
            "left": null,
            "margin": null,
            "max_height": null,
            "max_width": null,
            "min_height": null,
            "min_width": null,
            "object_fit": null,
            "object_position": null,
            "order": null,
            "overflow": null,
            "overflow_x": null,
            "overflow_y": null,
            "padding": null,
            "right": null,
            "top": null,
            "visibility": null,
            "width": null
          }
        },
        "926d1dfee68c44d9be7f532f3d0ab327": {
          "model_module": "@jupyter-widgets/base",
          "model_name": "LayoutModel",
          "model_module_version": "1.2.0",
          "state": {
            "_model_module": "@jupyter-widgets/base",
            "_model_module_version": "1.2.0",
            "_model_name": "LayoutModel",
            "_view_count": null,
            "_view_module": "@jupyter-widgets/base",
            "_view_module_version": "1.2.0",
            "_view_name": "LayoutView",
            "align_content": null,
            "align_items": null,
            "align_self": null,
            "border": null,
            "bottom": null,
            "display": null,
            "flex": null,
            "flex_flow": null,
            "grid_area": null,
            "grid_auto_columns": null,
            "grid_auto_flow": null,
            "grid_auto_rows": null,
            "grid_column": null,
            "grid_gap": null,
            "grid_row": null,
            "grid_template_areas": null,
            "grid_template_columns": null,
            "grid_template_rows": null,
            "height": null,
            "justify_content": null,
            "justify_items": null,
            "left": null,
            "margin": null,
            "max_height": null,
            "max_width": null,
            "min_height": null,
            "min_width": null,
            "object_fit": null,
            "object_position": null,
            "order": null,
            "overflow": null,
            "overflow_x": null,
            "overflow_y": null,
            "padding": null,
            "right": null,
            "top": null,
            "visibility": null,
            "width": null
          }
        },
        "eb25f4461a4740af9a4d4cb72ada5954": {
          "model_module": "@jupyter-widgets/controls",
          "model_name": "DescriptionStyleModel",
          "model_module_version": "1.5.0",
          "state": {
            "_model_module": "@jupyter-widgets/controls",
            "_model_module_version": "1.5.0",
            "_model_name": "DescriptionStyleModel",
            "_view_count": null,
            "_view_module": "@jupyter-widgets/base",
            "_view_module_version": "1.2.0",
            "_view_name": "StyleView",
            "description_width": ""
          }
        },
        "b60c2bf5dd574e7e8759974bc77a3708": {
          "model_module": "@jupyter-widgets/base",
          "model_name": "LayoutModel",
          "model_module_version": "1.2.0",
          "state": {
            "_model_module": "@jupyter-widgets/base",
            "_model_module_version": "1.2.0",
            "_model_name": "LayoutModel",
            "_view_count": null,
            "_view_module": "@jupyter-widgets/base",
            "_view_module_version": "1.2.0",
            "_view_name": "LayoutView",
            "align_content": null,
            "align_items": null,
            "align_self": null,
            "border": null,
            "bottom": null,
            "display": null,
            "flex": null,
            "flex_flow": null,
            "grid_area": null,
            "grid_auto_columns": null,
            "grid_auto_flow": null,
            "grid_auto_rows": null,
            "grid_column": null,
            "grid_gap": null,
            "grid_row": null,
            "grid_template_areas": null,
            "grid_template_columns": null,
            "grid_template_rows": null,
            "height": null,
            "justify_content": null,
            "justify_items": null,
            "left": null,
            "margin": null,
            "max_height": null,
            "max_width": null,
            "min_height": null,
            "min_width": null,
            "object_fit": null,
            "object_position": null,
            "order": null,
            "overflow": null,
            "overflow_x": null,
            "overflow_y": null,
            "padding": null,
            "right": null,
            "top": null,
            "visibility": null,
            "width": null
          }
        },
        "116440a199844e4e97d74a5e15d34b7b": {
          "model_module": "@jupyter-widgets/controls",
          "model_name": "ProgressStyleModel",
          "model_module_version": "1.5.0",
          "state": {
            "_model_module": "@jupyter-widgets/controls",
            "_model_module_version": "1.5.0",
            "_model_name": "ProgressStyleModel",
            "_view_count": null,
            "_view_module": "@jupyter-widgets/base",
            "_view_module_version": "1.2.0",
            "_view_name": "StyleView",
            "bar_color": null,
            "description_width": ""
          }
        },
        "090b4423a63b4c258f4764e908ee569f": {
          "model_module": "@jupyter-widgets/controls",
          "model_name": "VBoxModel",
          "model_module_version": "1.5.0",
          "state": {
            "_dom_classes": [],
            "_model_module": "@jupyter-widgets/controls",
            "_model_module_version": "1.5.0",
            "_model_name": "VBoxModel",
            "_view_count": null,
            "_view_module": "@jupyter-widgets/controls",
            "_view_module_version": "1.5.0",
            "_view_name": "VBoxView",
            "box_style": "",
            "children": [
              "IPY_MODEL_4b39e54bdeec421f9e99726c596d46a7",
              "IPY_MODEL_78722b2ab80a4de98e9132c2be8f3976"
            ],
            "layout": "IPY_MODEL_238afd9ed25245e181f239c9a3d656f2"
          }
        },
        "4b39e54bdeec421f9e99726c596d46a7": {
          "model_module": "@jupyter-widgets/controls",
          "model_name": "LabelModel",
          "model_module_version": "1.5.0",
          "state": {
            "_dom_classes": [],
            "_model_module": "@jupyter-widgets/controls",
            "_model_module_version": "1.5.0",
            "_model_name": "LabelModel",
            "_view_count": null,
            "_view_module": "@jupyter-widgets/controls",
            "_view_module_version": "1.5.0",
            "_view_name": "LabelView",
            "description": "",
            "description_tooltip": null,
            "layout": "IPY_MODEL_d059556ec0c54ba88d7aafb5a293e177",
            "placeholder": "​",
            "style": "IPY_MODEL_4e968b2ea08d4360bbefc6b59aa6a470",
            "value": "0.025 MB of 0.025 MB uploaded\r"
          }
        },
        "78722b2ab80a4de98e9132c2be8f3976": {
          "model_module": "@jupyter-widgets/controls",
          "model_name": "FloatProgressModel",
          "model_module_version": "1.5.0",
          "state": {
            "_dom_classes": [],
            "_model_module": "@jupyter-widgets/controls",
            "_model_module_version": "1.5.0",
            "_model_name": "FloatProgressModel",
            "_view_count": null,
            "_view_module": "@jupyter-widgets/controls",
            "_view_module_version": "1.5.0",
            "_view_name": "ProgressView",
            "bar_style": "",
            "description": "",
            "description_tooltip": null,
            "layout": "IPY_MODEL_7a3d953e4bf148fab5812335428ae1d4",
            "max": 1,
            "min": 0,
            "orientation": "horizontal",
            "style": "IPY_MODEL_fad2379f71b54e1b9e20a01ab566851a",
            "value": 1
          }
        },
        "238afd9ed25245e181f239c9a3d656f2": {
          "model_module": "@jupyter-widgets/base",
          "model_name": "LayoutModel",
          "model_module_version": "1.2.0",
          "state": {
            "_model_module": "@jupyter-widgets/base",
            "_model_module_version": "1.2.0",
            "_model_name": "LayoutModel",
            "_view_count": null,
            "_view_module": "@jupyter-widgets/base",
            "_view_module_version": "1.2.0",
            "_view_name": "LayoutView",
            "align_content": null,
            "align_items": null,
            "align_self": null,
            "border": null,
            "bottom": null,
            "display": null,
            "flex": null,
            "flex_flow": null,
            "grid_area": null,
            "grid_auto_columns": null,
            "grid_auto_flow": null,
            "grid_auto_rows": null,
            "grid_column": null,
            "grid_gap": null,
            "grid_row": null,
            "grid_template_areas": null,
            "grid_template_columns": null,
            "grid_template_rows": null,
            "height": null,
            "justify_content": null,
            "justify_items": null,
            "left": null,
            "margin": null,
            "max_height": null,
            "max_width": null,
            "min_height": null,
            "min_width": null,
            "object_fit": null,
            "object_position": null,
            "order": null,
            "overflow": null,
            "overflow_x": null,
            "overflow_y": null,
            "padding": null,
            "right": null,
            "top": null,
            "visibility": null,
            "width": null
          }
        },
        "d059556ec0c54ba88d7aafb5a293e177": {
          "model_module": "@jupyter-widgets/base",
          "model_name": "LayoutModel",
          "model_module_version": "1.2.0",
          "state": {
            "_model_module": "@jupyter-widgets/base",
            "_model_module_version": "1.2.0",
            "_model_name": "LayoutModel",
            "_view_count": null,
            "_view_module": "@jupyter-widgets/base",
            "_view_module_version": "1.2.0",
            "_view_name": "LayoutView",
            "align_content": null,
            "align_items": null,
            "align_self": null,
            "border": null,
            "bottom": null,
            "display": null,
            "flex": null,
            "flex_flow": null,
            "grid_area": null,
            "grid_auto_columns": null,
            "grid_auto_flow": null,
            "grid_auto_rows": null,
            "grid_column": null,
            "grid_gap": null,
            "grid_row": null,
            "grid_template_areas": null,
            "grid_template_columns": null,
            "grid_template_rows": null,
            "height": null,
            "justify_content": null,
            "justify_items": null,
            "left": null,
            "margin": null,
            "max_height": null,
            "max_width": null,
            "min_height": null,
            "min_width": null,
            "object_fit": null,
            "object_position": null,
            "order": null,
            "overflow": null,
            "overflow_x": null,
            "overflow_y": null,
            "padding": null,
            "right": null,
            "top": null,
            "visibility": null,
            "width": null
          }
        },
        "4e968b2ea08d4360bbefc6b59aa6a470": {
          "model_module": "@jupyter-widgets/controls",
          "model_name": "DescriptionStyleModel",
          "model_module_version": "1.5.0",
          "state": {
            "_model_module": "@jupyter-widgets/controls",
            "_model_module_version": "1.5.0",
            "_model_name": "DescriptionStyleModel",
            "_view_count": null,
            "_view_module": "@jupyter-widgets/base",
            "_view_module_version": "1.2.0",
            "_view_name": "StyleView",
            "description_width": ""
          }
        },
        "7a3d953e4bf148fab5812335428ae1d4": {
          "model_module": "@jupyter-widgets/base",
          "model_name": "LayoutModel",
          "model_module_version": "1.2.0",
          "state": {
            "_model_module": "@jupyter-widgets/base",
            "_model_module_version": "1.2.0",
            "_model_name": "LayoutModel",
            "_view_count": null,
            "_view_module": "@jupyter-widgets/base",
            "_view_module_version": "1.2.0",
            "_view_name": "LayoutView",
            "align_content": null,
            "align_items": null,
            "align_self": null,
            "border": null,
            "bottom": null,
            "display": null,
            "flex": null,
            "flex_flow": null,
            "grid_area": null,
            "grid_auto_columns": null,
            "grid_auto_flow": null,
            "grid_auto_rows": null,
            "grid_column": null,
            "grid_gap": null,
            "grid_row": null,
            "grid_template_areas": null,
            "grid_template_columns": null,
            "grid_template_rows": null,
            "height": null,
            "justify_content": null,
            "justify_items": null,
            "left": null,
            "margin": null,
            "max_height": null,
            "max_width": null,
            "min_height": null,
            "min_width": null,
            "object_fit": null,
            "object_position": null,
            "order": null,
            "overflow": null,
            "overflow_x": null,
            "overflow_y": null,
            "padding": null,
            "right": null,
            "top": null,
            "visibility": null,
            "width": null
          }
        },
        "fad2379f71b54e1b9e20a01ab566851a": {
          "model_module": "@jupyter-widgets/controls",
          "model_name": "ProgressStyleModel",
          "model_module_version": "1.5.0",
          "state": {
            "_model_module": "@jupyter-widgets/controls",
            "_model_module_version": "1.5.0",
            "_model_name": "ProgressStyleModel",
            "_view_count": null,
            "_view_module": "@jupyter-widgets/base",
            "_view_module_version": "1.2.0",
            "_view_name": "StyleView",
            "bar_color": null,
            "description_width": ""
          }
        },
        "fee43fafd9d948fbbbf6c658c4cde481": {
          "model_module": "@jupyter-widgets/controls",
          "model_name": "VBoxModel",
          "model_module_version": "1.5.0",
          "state": {
            "_dom_classes": [],
            "_model_module": "@jupyter-widgets/controls",
            "_model_module_version": "1.5.0",
            "_model_name": "VBoxModel",
            "_view_count": null,
            "_view_module": "@jupyter-widgets/controls",
            "_view_module_version": "1.5.0",
            "_view_name": "VBoxView",
            "box_style": "",
            "children": [
              "IPY_MODEL_670d744ee38e437099556e6fc7d803f7",
              "IPY_MODEL_f13cd11fbd534f92a4f371b78386e967"
            ],
            "layout": "IPY_MODEL_30164a129bec479a8f4616b01b704ca0"
          }
        },
        "670d744ee38e437099556e6fc7d803f7": {
          "model_module": "@jupyter-widgets/controls",
          "model_name": "LabelModel",
          "model_module_version": "1.5.0",
          "state": {
            "_dom_classes": [],
            "_model_module": "@jupyter-widgets/controls",
            "_model_module_version": "1.5.0",
            "_model_name": "LabelModel",
            "_view_count": null,
            "_view_module": "@jupyter-widgets/controls",
            "_view_module_version": "1.5.0",
            "_view_name": "LabelView",
            "description": "",
            "description_tooltip": null,
            "layout": "IPY_MODEL_e99ba323259f4cf7a3ecf751b8a3ae8f",
            "placeholder": "​",
            "style": "IPY_MODEL_325826c0bfd9409884e9b8c494316e2f",
            "value": "0.025 MB of 0.025 MB uploaded\r"
          }
        },
        "f13cd11fbd534f92a4f371b78386e967": {
          "model_module": "@jupyter-widgets/controls",
          "model_name": "FloatProgressModel",
          "model_module_version": "1.5.0",
          "state": {
            "_dom_classes": [],
            "_model_module": "@jupyter-widgets/controls",
            "_model_module_version": "1.5.0",
            "_model_name": "FloatProgressModel",
            "_view_count": null,
            "_view_module": "@jupyter-widgets/controls",
            "_view_module_version": "1.5.0",
            "_view_name": "ProgressView",
            "bar_style": "",
            "description": "",
            "description_tooltip": null,
            "layout": "IPY_MODEL_1555363fa47440cab51395aa2c092342",
            "max": 1,
            "min": 0,
            "orientation": "horizontal",
            "style": "IPY_MODEL_15f5c9b1397a4350b99396ff0ba07c7a",
            "value": 1
          }
        },
        "30164a129bec479a8f4616b01b704ca0": {
          "model_module": "@jupyter-widgets/base",
          "model_name": "LayoutModel",
          "model_module_version": "1.2.0",
          "state": {
            "_model_module": "@jupyter-widgets/base",
            "_model_module_version": "1.2.0",
            "_model_name": "LayoutModel",
            "_view_count": null,
            "_view_module": "@jupyter-widgets/base",
            "_view_module_version": "1.2.0",
            "_view_name": "LayoutView",
            "align_content": null,
            "align_items": null,
            "align_self": null,
            "border": null,
            "bottom": null,
            "display": null,
            "flex": null,
            "flex_flow": null,
            "grid_area": null,
            "grid_auto_columns": null,
            "grid_auto_flow": null,
            "grid_auto_rows": null,
            "grid_column": null,
            "grid_gap": null,
            "grid_row": null,
            "grid_template_areas": null,
            "grid_template_columns": null,
            "grid_template_rows": null,
            "height": null,
            "justify_content": null,
            "justify_items": null,
            "left": null,
            "margin": null,
            "max_height": null,
            "max_width": null,
            "min_height": null,
            "min_width": null,
            "object_fit": null,
            "object_position": null,
            "order": null,
            "overflow": null,
            "overflow_x": null,
            "overflow_y": null,
            "padding": null,
            "right": null,
            "top": null,
            "visibility": null,
            "width": null
          }
        },
        "e99ba323259f4cf7a3ecf751b8a3ae8f": {
          "model_module": "@jupyter-widgets/base",
          "model_name": "LayoutModel",
          "model_module_version": "1.2.0",
          "state": {
            "_model_module": "@jupyter-widgets/base",
            "_model_module_version": "1.2.0",
            "_model_name": "LayoutModel",
            "_view_count": null,
            "_view_module": "@jupyter-widgets/base",
            "_view_module_version": "1.2.0",
            "_view_name": "LayoutView",
            "align_content": null,
            "align_items": null,
            "align_self": null,
            "border": null,
            "bottom": null,
            "display": null,
            "flex": null,
            "flex_flow": null,
            "grid_area": null,
            "grid_auto_columns": null,
            "grid_auto_flow": null,
            "grid_auto_rows": null,
            "grid_column": null,
            "grid_gap": null,
            "grid_row": null,
            "grid_template_areas": null,
            "grid_template_columns": null,
            "grid_template_rows": null,
            "height": null,
            "justify_content": null,
            "justify_items": null,
            "left": null,
            "margin": null,
            "max_height": null,
            "max_width": null,
            "min_height": null,
            "min_width": null,
            "object_fit": null,
            "object_position": null,
            "order": null,
            "overflow": null,
            "overflow_x": null,
            "overflow_y": null,
            "padding": null,
            "right": null,
            "top": null,
            "visibility": null,
            "width": null
          }
        },
        "325826c0bfd9409884e9b8c494316e2f": {
          "model_module": "@jupyter-widgets/controls",
          "model_name": "DescriptionStyleModel",
          "model_module_version": "1.5.0",
          "state": {
            "_model_module": "@jupyter-widgets/controls",
            "_model_module_version": "1.5.0",
            "_model_name": "DescriptionStyleModel",
            "_view_count": null,
            "_view_module": "@jupyter-widgets/base",
            "_view_module_version": "1.2.0",
            "_view_name": "StyleView",
            "description_width": ""
          }
        },
        "1555363fa47440cab51395aa2c092342": {
          "model_module": "@jupyter-widgets/base",
          "model_name": "LayoutModel",
          "model_module_version": "1.2.0",
          "state": {
            "_model_module": "@jupyter-widgets/base",
            "_model_module_version": "1.2.0",
            "_model_name": "LayoutModel",
            "_view_count": null,
            "_view_module": "@jupyter-widgets/base",
            "_view_module_version": "1.2.0",
            "_view_name": "LayoutView",
            "align_content": null,
            "align_items": null,
            "align_self": null,
            "border": null,
            "bottom": null,
            "display": null,
            "flex": null,
            "flex_flow": null,
            "grid_area": null,
            "grid_auto_columns": null,
            "grid_auto_flow": null,
            "grid_auto_rows": null,
            "grid_column": null,
            "grid_gap": null,
            "grid_row": null,
            "grid_template_areas": null,
            "grid_template_columns": null,
            "grid_template_rows": null,
            "height": null,
            "justify_content": null,
            "justify_items": null,
            "left": null,
            "margin": null,
            "max_height": null,
            "max_width": null,
            "min_height": null,
            "min_width": null,
            "object_fit": null,
            "object_position": null,
            "order": null,
            "overflow": null,
            "overflow_x": null,
            "overflow_y": null,
            "padding": null,
            "right": null,
            "top": null,
            "visibility": null,
            "width": null
          }
        },
        "15f5c9b1397a4350b99396ff0ba07c7a": {
          "model_module": "@jupyter-widgets/controls",
          "model_name": "ProgressStyleModel",
          "model_module_version": "1.5.0",
          "state": {
            "_model_module": "@jupyter-widgets/controls",
            "_model_module_version": "1.5.0",
            "_model_name": "ProgressStyleModel",
            "_view_count": null,
            "_view_module": "@jupyter-widgets/base",
            "_view_module_version": "1.2.0",
            "_view_name": "StyleView",
            "bar_color": null,
            "description_width": ""
          }
        },
        "af76e868e89e49e3904e7ab3af04e011": {
          "model_module": "@jupyter-widgets/controls",
          "model_name": "VBoxModel",
          "model_module_version": "1.5.0",
          "state": {
            "_dom_classes": [],
            "_model_module": "@jupyter-widgets/controls",
            "_model_module_version": "1.5.0",
            "_model_name": "VBoxModel",
            "_view_count": null,
            "_view_module": "@jupyter-widgets/controls",
            "_view_module_version": "1.5.0",
            "_view_name": "VBoxView",
            "box_style": "",
            "children": [
              "IPY_MODEL_f7421fccc35e48728744450efb31d187",
              "IPY_MODEL_b53941f2c30040c2a21ef7d4efffc1c6"
            ],
            "layout": "IPY_MODEL_9e220cf2794e4393a383c5ea9f66dcc5"
          }
        },
        "f7421fccc35e48728744450efb31d187": {
          "model_module": "@jupyter-widgets/controls",
          "model_name": "LabelModel",
          "model_module_version": "1.5.0",
          "state": {
            "_dom_classes": [],
            "_model_module": "@jupyter-widgets/controls",
            "_model_module_version": "1.5.0",
            "_model_name": "LabelModel",
            "_view_count": null,
            "_view_module": "@jupyter-widgets/controls",
            "_view_module_version": "1.5.0",
            "_view_name": "LabelView",
            "description": "",
            "description_tooltip": null,
            "layout": "IPY_MODEL_29269da3fb424a19ba1cd00d11158558",
            "placeholder": "​",
            "style": "IPY_MODEL_e86ab7675df74ea0b8001a7264a56c60",
            "value": "0.025 MB of 0.025 MB uploaded\r"
          }
        },
        "b53941f2c30040c2a21ef7d4efffc1c6": {
          "model_module": "@jupyter-widgets/controls",
          "model_name": "FloatProgressModel",
          "model_module_version": "1.5.0",
          "state": {
            "_dom_classes": [],
            "_model_module": "@jupyter-widgets/controls",
            "_model_module_version": "1.5.0",
            "_model_name": "FloatProgressModel",
            "_view_count": null,
            "_view_module": "@jupyter-widgets/controls",
            "_view_module_version": "1.5.0",
            "_view_name": "ProgressView",
            "bar_style": "",
            "description": "",
            "description_tooltip": null,
            "layout": "IPY_MODEL_adbfe3e14a8f432087f6528617504aad",
            "max": 1,
            "min": 0,
            "orientation": "horizontal",
            "style": "IPY_MODEL_0caa5a9c3c81414390132de1981138f2",
            "value": 1
          }
        },
        "9e220cf2794e4393a383c5ea9f66dcc5": {
          "model_module": "@jupyter-widgets/base",
          "model_name": "LayoutModel",
          "model_module_version": "1.2.0",
          "state": {
            "_model_module": "@jupyter-widgets/base",
            "_model_module_version": "1.2.0",
            "_model_name": "LayoutModel",
            "_view_count": null,
            "_view_module": "@jupyter-widgets/base",
            "_view_module_version": "1.2.0",
            "_view_name": "LayoutView",
            "align_content": null,
            "align_items": null,
            "align_self": null,
            "border": null,
            "bottom": null,
            "display": null,
            "flex": null,
            "flex_flow": null,
            "grid_area": null,
            "grid_auto_columns": null,
            "grid_auto_flow": null,
            "grid_auto_rows": null,
            "grid_column": null,
            "grid_gap": null,
            "grid_row": null,
            "grid_template_areas": null,
            "grid_template_columns": null,
            "grid_template_rows": null,
            "height": null,
            "justify_content": null,
            "justify_items": null,
            "left": null,
            "margin": null,
            "max_height": null,
            "max_width": null,
            "min_height": null,
            "min_width": null,
            "object_fit": null,
            "object_position": null,
            "order": null,
            "overflow": null,
            "overflow_x": null,
            "overflow_y": null,
            "padding": null,
            "right": null,
            "top": null,
            "visibility": null,
            "width": null
          }
        },
        "29269da3fb424a19ba1cd00d11158558": {
          "model_module": "@jupyter-widgets/base",
          "model_name": "LayoutModel",
          "model_module_version": "1.2.0",
          "state": {
            "_model_module": "@jupyter-widgets/base",
            "_model_module_version": "1.2.0",
            "_model_name": "LayoutModel",
            "_view_count": null,
            "_view_module": "@jupyter-widgets/base",
            "_view_module_version": "1.2.0",
            "_view_name": "LayoutView",
            "align_content": null,
            "align_items": null,
            "align_self": null,
            "border": null,
            "bottom": null,
            "display": null,
            "flex": null,
            "flex_flow": null,
            "grid_area": null,
            "grid_auto_columns": null,
            "grid_auto_flow": null,
            "grid_auto_rows": null,
            "grid_column": null,
            "grid_gap": null,
            "grid_row": null,
            "grid_template_areas": null,
            "grid_template_columns": null,
            "grid_template_rows": null,
            "height": null,
            "justify_content": null,
            "justify_items": null,
            "left": null,
            "margin": null,
            "max_height": null,
            "max_width": null,
            "min_height": null,
            "min_width": null,
            "object_fit": null,
            "object_position": null,
            "order": null,
            "overflow": null,
            "overflow_x": null,
            "overflow_y": null,
            "padding": null,
            "right": null,
            "top": null,
            "visibility": null,
            "width": null
          }
        },
        "e86ab7675df74ea0b8001a7264a56c60": {
          "model_module": "@jupyter-widgets/controls",
          "model_name": "DescriptionStyleModel",
          "model_module_version": "1.5.0",
          "state": {
            "_model_module": "@jupyter-widgets/controls",
            "_model_module_version": "1.5.0",
            "_model_name": "DescriptionStyleModel",
            "_view_count": null,
            "_view_module": "@jupyter-widgets/base",
            "_view_module_version": "1.2.0",
            "_view_name": "StyleView",
            "description_width": ""
          }
        },
        "adbfe3e14a8f432087f6528617504aad": {
          "model_module": "@jupyter-widgets/base",
          "model_name": "LayoutModel",
          "model_module_version": "1.2.0",
          "state": {
            "_model_module": "@jupyter-widgets/base",
            "_model_module_version": "1.2.0",
            "_model_name": "LayoutModel",
            "_view_count": null,
            "_view_module": "@jupyter-widgets/base",
            "_view_module_version": "1.2.0",
            "_view_name": "LayoutView",
            "align_content": null,
            "align_items": null,
            "align_self": null,
            "border": null,
            "bottom": null,
            "display": null,
            "flex": null,
            "flex_flow": null,
            "grid_area": null,
            "grid_auto_columns": null,
            "grid_auto_flow": null,
            "grid_auto_rows": null,
            "grid_column": null,
            "grid_gap": null,
            "grid_row": null,
            "grid_template_areas": null,
            "grid_template_columns": null,
            "grid_template_rows": null,
            "height": null,
            "justify_content": null,
            "justify_items": null,
            "left": null,
            "margin": null,
            "max_height": null,
            "max_width": null,
            "min_height": null,
            "min_width": null,
            "object_fit": null,
            "object_position": null,
            "order": null,
            "overflow": null,
            "overflow_x": null,
            "overflow_y": null,
            "padding": null,
            "right": null,
            "top": null,
            "visibility": null,
            "width": null
          }
        },
        "0caa5a9c3c81414390132de1981138f2": {
          "model_module": "@jupyter-widgets/controls",
          "model_name": "ProgressStyleModel",
          "model_module_version": "1.5.0",
          "state": {
            "_model_module": "@jupyter-widgets/controls",
            "_model_module_version": "1.5.0",
            "_model_name": "ProgressStyleModel",
            "_view_count": null,
            "_view_module": "@jupyter-widgets/base",
            "_view_module_version": "1.2.0",
            "_view_name": "StyleView",
            "bar_color": null,
            "description_width": ""
          }
        },
        "7dfb4c4d4652413f87bf6a151a883634": {
          "model_module": "@jupyter-widgets/controls",
          "model_name": "VBoxModel",
          "model_module_version": "1.5.0",
          "state": {
            "_dom_classes": [],
            "_model_module": "@jupyter-widgets/controls",
            "_model_module_version": "1.5.0",
            "_model_name": "VBoxModel",
            "_view_count": null,
            "_view_module": "@jupyter-widgets/controls",
            "_view_module_version": "1.5.0",
            "_view_name": "VBoxView",
            "box_style": "",
            "children": [
              "IPY_MODEL_5f1e48b46b9f4754891c77a8a856b225",
              "IPY_MODEL_3a9f652baa0e4cc9a5a8d442716f9bf3"
            ],
            "layout": "IPY_MODEL_daed9967cd294d089ed04a7aa141d622"
          }
        },
        "5f1e48b46b9f4754891c77a8a856b225": {
          "model_module": "@jupyter-widgets/controls",
          "model_name": "LabelModel",
          "model_module_version": "1.5.0",
          "state": {
            "_dom_classes": [],
            "_model_module": "@jupyter-widgets/controls",
            "_model_module_version": "1.5.0",
            "_model_name": "LabelModel",
            "_view_count": null,
            "_view_module": "@jupyter-widgets/controls",
            "_view_module_version": "1.5.0",
            "_view_name": "LabelView",
            "description": "",
            "description_tooltip": null,
            "layout": "IPY_MODEL_d09ba5d8113d4524ae833f96dc1b4c1f",
            "placeholder": "​",
            "style": "IPY_MODEL_2ed693deb8e4472fb4fbf591efc3e3a9",
            "value": "0.025 MB of 0.025 MB uploaded\r"
          }
        },
        "3a9f652baa0e4cc9a5a8d442716f9bf3": {
          "model_module": "@jupyter-widgets/controls",
          "model_name": "FloatProgressModel",
          "model_module_version": "1.5.0",
          "state": {
            "_dom_classes": [],
            "_model_module": "@jupyter-widgets/controls",
            "_model_module_version": "1.5.0",
            "_model_name": "FloatProgressModel",
            "_view_count": null,
            "_view_module": "@jupyter-widgets/controls",
            "_view_module_version": "1.5.0",
            "_view_name": "ProgressView",
            "bar_style": "",
            "description": "",
            "description_tooltip": null,
            "layout": "IPY_MODEL_03bcb3029a4048fc84be770d309625bb",
            "max": 1,
            "min": 0,
            "orientation": "horizontal",
            "style": "IPY_MODEL_c08d48f29fcc4abcadeec0fd29e8d594",
            "value": 1
          }
        },
        "daed9967cd294d089ed04a7aa141d622": {
          "model_module": "@jupyter-widgets/base",
          "model_name": "LayoutModel",
          "model_module_version": "1.2.0",
          "state": {
            "_model_module": "@jupyter-widgets/base",
            "_model_module_version": "1.2.0",
            "_model_name": "LayoutModel",
            "_view_count": null,
            "_view_module": "@jupyter-widgets/base",
            "_view_module_version": "1.2.0",
            "_view_name": "LayoutView",
            "align_content": null,
            "align_items": null,
            "align_self": null,
            "border": null,
            "bottom": null,
            "display": null,
            "flex": null,
            "flex_flow": null,
            "grid_area": null,
            "grid_auto_columns": null,
            "grid_auto_flow": null,
            "grid_auto_rows": null,
            "grid_column": null,
            "grid_gap": null,
            "grid_row": null,
            "grid_template_areas": null,
            "grid_template_columns": null,
            "grid_template_rows": null,
            "height": null,
            "justify_content": null,
            "justify_items": null,
            "left": null,
            "margin": null,
            "max_height": null,
            "max_width": null,
            "min_height": null,
            "min_width": null,
            "object_fit": null,
            "object_position": null,
            "order": null,
            "overflow": null,
            "overflow_x": null,
            "overflow_y": null,
            "padding": null,
            "right": null,
            "top": null,
            "visibility": null,
            "width": null
          }
        },
        "d09ba5d8113d4524ae833f96dc1b4c1f": {
          "model_module": "@jupyter-widgets/base",
          "model_name": "LayoutModel",
          "model_module_version": "1.2.0",
          "state": {
            "_model_module": "@jupyter-widgets/base",
            "_model_module_version": "1.2.0",
            "_model_name": "LayoutModel",
            "_view_count": null,
            "_view_module": "@jupyter-widgets/base",
            "_view_module_version": "1.2.0",
            "_view_name": "LayoutView",
            "align_content": null,
            "align_items": null,
            "align_self": null,
            "border": null,
            "bottom": null,
            "display": null,
            "flex": null,
            "flex_flow": null,
            "grid_area": null,
            "grid_auto_columns": null,
            "grid_auto_flow": null,
            "grid_auto_rows": null,
            "grid_column": null,
            "grid_gap": null,
            "grid_row": null,
            "grid_template_areas": null,
            "grid_template_columns": null,
            "grid_template_rows": null,
            "height": null,
            "justify_content": null,
            "justify_items": null,
            "left": null,
            "margin": null,
            "max_height": null,
            "max_width": null,
            "min_height": null,
            "min_width": null,
            "object_fit": null,
            "object_position": null,
            "order": null,
            "overflow": null,
            "overflow_x": null,
            "overflow_y": null,
            "padding": null,
            "right": null,
            "top": null,
            "visibility": null,
            "width": null
          }
        },
        "2ed693deb8e4472fb4fbf591efc3e3a9": {
          "model_module": "@jupyter-widgets/controls",
          "model_name": "DescriptionStyleModel",
          "model_module_version": "1.5.0",
          "state": {
            "_model_module": "@jupyter-widgets/controls",
            "_model_module_version": "1.5.0",
            "_model_name": "DescriptionStyleModel",
            "_view_count": null,
            "_view_module": "@jupyter-widgets/base",
            "_view_module_version": "1.2.0",
            "_view_name": "StyleView",
            "description_width": ""
          }
        },
        "03bcb3029a4048fc84be770d309625bb": {
          "model_module": "@jupyter-widgets/base",
          "model_name": "LayoutModel",
          "model_module_version": "1.2.0",
          "state": {
            "_model_module": "@jupyter-widgets/base",
            "_model_module_version": "1.2.0",
            "_model_name": "LayoutModel",
            "_view_count": null,
            "_view_module": "@jupyter-widgets/base",
            "_view_module_version": "1.2.0",
            "_view_name": "LayoutView",
            "align_content": null,
            "align_items": null,
            "align_self": null,
            "border": null,
            "bottom": null,
            "display": null,
            "flex": null,
            "flex_flow": null,
            "grid_area": null,
            "grid_auto_columns": null,
            "grid_auto_flow": null,
            "grid_auto_rows": null,
            "grid_column": null,
            "grid_gap": null,
            "grid_row": null,
            "grid_template_areas": null,
            "grid_template_columns": null,
            "grid_template_rows": null,
            "height": null,
            "justify_content": null,
            "justify_items": null,
            "left": null,
            "margin": null,
            "max_height": null,
            "max_width": null,
            "min_height": null,
            "min_width": null,
            "object_fit": null,
            "object_position": null,
            "order": null,
            "overflow": null,
            "overflow_x": null,
            "overflow_y": null,
            "padding": null,
            "right": null,
            "top": null,
            "visibility": null,
            "width": null
          }
        },
        "c08d48f29fcc4abcadeec0fd29e8d594": {
          "model_module": "@jupyter-widgets/controls",
          "model_name": "ProgressStyleModel",
          "model_module_version": "1.5.0",
          "state": {
            "_model_module": "@jupyter-widgets/controls",
            "_model_module_version": "1.5.0",
            "_model_name": "ProgressStyleModel",
            "_view_count": null,
            "_view_module": "@jupyter-widgets/base",
            "_view_module_version": "1.2.0",
            "_view_name": "StyleView",
            "bar_color": null,
            "description_width": ""
          }
        },
        "c2d1dff4366d41b683140f5decb50a68": {
          "model_module": "@jupyter-widgets/controls",
          "model_name": "VBoxModel",
          "model_module_version": "1.5.0",
          "state": {
            "_dom_classes": [],
            "_model_module": "@jupyter-widgets/controls",
            "_model_module_version": "1.5.0",
            "_model_name": "VBoxModel",
            "_view_count": null,
            "_view_module": "@jupyter-widgets/controls",
            "_view_module_version": "1.5.0",
            "_view_name": "VBoxView",
            "box_style": "",
            "children": [
              "IPY_MODEL_bc46b87a6bd3486e807983c276105fd6",
              "IPY_MODEL_a486e7b9aae74be6a53c53d6f0103e31"
            ],
            "layout": "IPY_MODEL_d77be17f0bc141df836bf163c77ab8b4"
          }
        },
        "bc46b87a6bd3486e807983c276105fd6": {
          "model_module": "@jupyter-widgets/controls",
          "model_name": "LabelModel",
          "model_module_version": "1.5.0",
          "state": {
            "_dom_classes": [],
            "_model_module": "@jupyter-widgets/controls",
            "_model_module_version": "1.5.0",
            "_model_name": "LabelModel",
            "_view_count": null,
            "_view_module": "@jupyter-widgets/controls",
            "_view_module_version": "1.5.0",
            "_view_name": "LabelView",
            "description": "",
            "description_tooltip": null,
            "layout": "IPY_MODEL_0733cea104d848ba851526fc1be8e180",
            "placeholder": "​",
            "style": "IPY_MODEL_b304dc938f8d49e3b0c29d329577a504",
            "value": "0.025 MB of 0.025 MB uploaded\r"
          }
        },
        "a486e7b9aae74be6a53c53d6f0103e31": {
          "model_module": "@jupyter-widgets/controls",
          "model_name": "FloatProgressModel",
          "model_module_version": "1.5.0",
          "state": {
            "_dom_classes": [],
            "_model_module": "@jupyter-widgets/controls",
            "_model_module_version": "1.5.0",
            "_model_name": "FloatProgressModel",
            "_view_count": null,
            "_view_module": "@jupyter-widgets/controls",
            "_view_module_version": "1.5.0",
            "_view_name": "ProgressView",
            "bar_style": "",
            "description": "",
            "description_tooltip": null,
            "layout": "IPY_MODEL_908942e5d015440babc92f53e96f42ca",
            "max": 1,
            "min": 0,
            "orientation": "horizontal",
            "style": "IPY_MODEL_02a397ef4ffb4e60852b071c737a7813",
            "value": 1
          }
        },
        "d77be17f0bc141df836bf163c77ab8b4": {
          "model_module": "@jupyter-widgets/base",
          "model_name": "LayoutModel",
          "model_module_version": "1.2.0",
          "state": {
            "_model_module": "@jupyter-widgets/base",
            "_model_module_version": "1.2.0",
            "_model_name": "LayoutModel",
            "_view_count": null,
            "_view_module": "@jupyter-widgets/base",
            "_view_module_version": "1.2.0",
            "_view_name": "LayoutView",
            "align_content": null,
            "align_items": null,
            "align_self": null,
            "border": null,
            "bottom": null,
            "display": null,
            "flex": null,
            "flex_flow": null,
            "grid_area": null,
            "grid_auto_columns": null,
            "grid_auto_flow": null,
            "grid_auto_rows": null,
            "grid_column": null,
            "grid_gap": null,
            "grid_row": null,
            "grid_template_areas": null,
            "grid_template_columns": null,
            "grid_template_rows": null,
            "height": null,
            "justify_content": null,
            "justify_items": null,
            "left": null,
            "margin": null,
            "max_height": null,
            "max_width": null,
            "min_height": null,
            "min_width": null,
            "object_fit": null,
            "object_position": null,
            "order": null,
            "overflow": null,
            "overflow_x": null,
            "overflow_y": null,
            "padding": null,
            "right": null,
            "top": null,
            "visibility": null,
            "width": null
          }
        },
        "0733cea104d848ba851526fc1be8e180": {
          "model_module": "@jupyter-widgets/base",
          "model_name": "LayoutModel",
          "model_module_version": "1.2.0",
          "state": {
            "_model_module": "@jupyter-widgets/base",
            "_model_module_version": "1.2.0",
            "_model_name": "LayoutModel",
            "_view_count": null,
            "_view_module": "@jupyter-widgets/base",
            "_view_module_version": "1.2.0",
            "_view_name": "LayoutView",
            "align_content": null,
            "align_items": null,
            "align_self": null,
            "border": null,
            "bottom": null,
            "display": null,
            "flex": null,
            "flex_flow": null,
            "grid_area": null,
            "grid_auto_columns": null,
            "grid_auto_flow": null,
            "grid_auto_rows": null,
            "grid_column": null,
            "grid_gap": null,
            "grid_row": null,
            "grid_template_areas": null,
            "grid_template_columns": null,
            "grid_template_rows": null,
            "height": null,
            "justify_content": null,
            "justify_items": null,
            "left": null,
            "margin": null,
            "max_height": null,
            "max_width": null,
            "min_height": null,
            "min_width": null,
            "object_fit": null,
            "object_position": null,
            "order": null,
            "overflow": null,
            "overflow_x": null,
            "overflow_y": null,
            "padding": null,
            "right": null,
            "top": null,
            "visibility": null,
            "width": null
          }
        },
        "b304dc938f8d49e3b0c29d329577a504": {
          "model_module": "@jupyter-widgets/controls",
          "model_name": "DescriptionStyleModel",
          "model_module_version": "1.5.0",
          "state": {
            "_model_module": "@jupyter-widgets/controls",
            "_model_module_version": "1.5.0",
            "_model_name": "DescriptionStyleModel",
            "_view_count": null,
            "_view_module": "@jupyter-widgets/base",
            "_view_module_version": "1.2.0",
            "_view_name": "StyleView",
            "description_width": ""
          }
        },
        "908942e5d015440babc92f53e96f42ca": {
          "model_module": "@jupyter-widgets/base",
          "model_name": "LayoutModel",
          "model_module_version": "1.2.0",
          "state": {
            "_model_module": "@jupyter-widgets/base",
            "_model_module_version": "1.2.0",
            "_model_name": "LayoutModel",
            "_view_count": null,
            "_view_module": "@jupyter-widgets/base",
            "_view_module_version": "1.2.0",
            "_view_name": "LayoutView",
            "align_content": null,
            "align_items": null,
            "align_self": null,
            "border": null,
            "bottom": null,
            "display": null,
            "flex": null,
            "flex_flow": null,
            "grid_area": null,
            "grid_auto_columns": null,
            "grid_auto_flow": null,
            "grid_auto_rows": null,
            "grid_column": null,
            "grid_gap": null,
            "grid_row": null,
            "grid_template_areas": null,
            "grid_template_columns": null,
            "grid_template_rows": null,
            "height": null,
            "justify_content": null,
            "justify_items": null,
            "left": null,
            "margin": null,
            "max_height": null,
            "max_width": null,
            "min_height": null,
            "min_width": null,
            "object_fit": null,
            "object_position": null,
            "order": null,
            "overflow": null,
            "overflow_x": null,
            "overflow_y": null,
            "padding": null,
            "right": null,
            "top": null,
            "visibility": null,
            "width": null
          }
        },
        "02a397ef4ffb4e60852b071c737a7813": {
          "model_module": "@jupyter-widgets/controls",
          "model_name": "ProgressStyleModel",
          "model_module_version": "1.5.0",
          "state": {
            "_model_module": "@jupyter-widgets/controls",
            "_model_module_version": "1.5.0",
            "_model_name": "ProgressStyleModel",
            "_view_count": null,
            "_view_module": "@jupyter-widgets/base",
            "_view_module_version": "1.2.0",
            "_view_name": "StyleView",
            "bar_color": null,
            "description_width": ""
          }
        },
        "0c170127dd6643b48c701b278ad44e31": {
          "model_module": "@jupyter-widgets/controls",
          "model_name": "VBoxModel",
          "model_module_version": "1.5.0",
          "state": {
            "_dom_classes": [],
            "_model_module": "@jupyter-widgets/controls",
            "_model_module_version": "1.5.0",
            "_model_name": "VBoxModel",
            "_view_count": null,
            "_view_module": "@jupyter-widgets/controls",
            "_view_module_version": "1.5.0",
            "_view_name": "VBoxView",
            "box_style": "",
            "children": [
              "IPY_MODEL_c7139d37bd7c42baaa96f5c4a5f7737b",
              "IPY_MODEL_0d90a3321b2242e9a9add302e10be87e"
            ],
            "layout": "IPY_MODEL_ac3208ade67f48d59e6ea990e03e57be"
          }
        },
        "c7139d37bd7c42baaa96f5c4a5f7737b": {
          "model_module": "@jupyter-widgets/controls",
          "model_name": "LabelModel",
          "model_module_version": "1.5.0",
          "state": {
            "_dom_classes": [],
            "_model_module": "@jupyter-widgets/controls",
            "_model_module_version": "1.5.0",
            "_model_name": "LabelModel",
            "_view_count": null,
            "_view_module": "@jupyter-widgets/controls",
            "_view_module_version": "1.5.0",
            "_view_name": "LabelView",
            "description": "",
            "description_tooltip": null,
            "layout": "IPY_MODEL_dfaec162c8094032971f0557952ed6c4",
            "placeholder": "​",
            "style": "IPY_MODEL_226935fb92a346d2b4e2e3ab34e66c1a",
            "value": "0.025 MB of 0.025 MB uploaded\r"
          }
        },
        "0d90a3321b2242e9a9add302e10be87e": {
          "model_module": "@jupyter-widgets/controls",
          "model_name": "FloatProgressModel",
          "model_module_version": "1.5.0",
          "state": {
            "_dom_classes": [],
            "_model_module": "@jupyter-widgets/controls",
            "_model_module_version": "1.5.0",
            "_model_name": "FloatProgressModel",
            "_view_count": null,
            "_view_module": "@jupyter-widgets/controls",
            "_view_module_version": "1.5.0",
            "_view_name": "ProgressView",
            "bar_style": "",
            "description": "",
            "description_tooltip": null,
            "layout": "IPY_MODEL_def4d7ad4da54ff9816451d518e01965",
            "max": 1,
            "min": 0,
            "orientation": "horizontal",
            "style": "IPY_MODEL_801a16d8c0034a5fbf32874b69ecd668",
            "value": 1
          }
        },
        "ac3208ade67f48d59e6ea990e03e57be": {
          "model_module": "@jupyter-widgets/base",
          "model_name": "LayoutModel",
          "model_module_version": "1.2.0",
          "state": {
            "_model_module": "@jupyter-widgets/base",
            "_model_module_version": "1.2.0",
            "_model_name": "LayoutModel",
            "_view_count": null,
            "_view_module": "@jupyter-widgets/base",
            "_view_module_version": "1.2.0",
            "_view_name": "LayoutView",
            "align_content": null,
            "align_items": null,
            "align_self": null,
            "border": null,
            "bottom": null,
            "display": null,
            "flex": null,
            "flex_flow": null,
            "grid_area": null,
            "grid_auto_columns": null,
            "grid_auto_flow": null,
            "grid_auto_rows": null,
            "grid_column": null,
            "grid_gap": null,
            "grid_row": null,
            "grid_template_areas": null,
            "grid_template_columns": null,
            "grid_template_rows": null,
            "height": null,
            "justify_content": null,
            "justify_items": null,
            "left": null,
            "margin": null,
            "max_height": null,
            "max_width": null,
            "min_height": null,
            "min_width": null,
            "object_fit": null,
            "object_position": null,
            "order": null,
            "overflow": null,
            "overflow_x": null,
            "overflow_y": null,
            "padding": null,
            "right": null,
            "top": null,
            "visibility": null,
            "width": null
          }
        },
        "dfaec162c8094032971f0557952ed6c4": {
          "model_module": "@jupyter-widgets/base",
          "model_name": "LayoutModel",
          "model_module_version": "1.2.0",
          "state": {
            "_model_module": "@jupyter-widgets/base",
            "_model_module_version": "1.2.0",
            "_model_name": "LayoutModel",
            "_view_count": null,
            "_view_module": "@jupyter-widgets/base",
            "_view_module_version": "1.2.0",
            "_view_name": "LayoutView",
            "align_content": null,
            "align_items": null,
            "align_self": null,
            "border": null,
            "bottom": null,
            "display": null,
            "flex": null,
            "flex_flow": null,
            "grid_area": null,
            "grid_auto_columns": null,
            "grid_auto_flow": null,
            "grid_auto_rows": null,
            "grid_column": null,
            "grid_gap": null,
            "grid_row": null,
            "grid_template_areas": null,
            "grid_template_columns": null,
            "grid_template_rows": null,
            "height": null,
            "justify_content": null,
            "justify_items": null,
            "left": null,
            "margin": null,
            "max_height": null,
            "max_width": null,
            "min_height": null,
            "min_width": null,
            "object_fit": null,
            "object_position": null,
            "order": null,
            "overflow": null,
            "overflow_x": null,
            "overflow_y": null,
            "padding": null,
            "right": null,
            "top": null,
            "visibility": null,
            "width": null
          }
        },
        "226935fb92a346d2b4e2e3ab34e66c1a": {
          "model_module": "@jupyter-widgets/controls",
          "model_name": "DescriptionStyleModel",
          "model_module_version": "1.5.0",
          "state": {
            "_model_module": "@jupyter-widgets/controls",
            "_model_module_version": "1.5.0",
            "_model_name": "DescriptionStyleModel",
            "_view_count": null,
            "_view_module": "@jupyter-widgets/base",
            "_view_module_version": "1.2.0",
            "_view_name": "StyleView",
            "description_width": ""
          }
        },
        "def4d7ad4da54ff9816451d518e01965": {
          "model_module": "@jupyter-widgets/base",
          "model_name": "LayoutModel",
          "model_module_version": "1.2.0",
          "state": {
            "_model_module": "@jupyter-widgets/base",
            "_model_module_version": "1.2.0",
            "_model_name": "LayoutModel",
            "_view_count": null,
            "_view_module": "@jupyter-widgets/base",
            "_view_module_version": "1.2.0",
            "_view_name": "LayoutView",
            "align_content": null,
            "align_items": null,
            "align_self": null,
            "border": null,
            "bottom": null,
            "display": null,
            "flex": null,
            "flex_flow": null,
            "grid_area": null,
            "grid_auto_columns": null,
            "grid_auto_flow": null,
            "grid_auto_rows": null,
            "grid_column": null,
            "grid_gap": null,
            "grid_row": null,
            "grid_template_areas": null,
            "grid_template_columns": null,
            "grid_template_rows": null,
            "height": null,
            "justify_content": null,
            "justify_items": null,
            "left": null,
            "margin": null,
            "max_height": null,
            "max_width": null,
            "min_height": null,
            "min_width": null,
            "object_fit": null,
            "object_position": null,
            "order": null,
            "overflow": null,
            "overflow_x": null,
            "overflow_y": null,
            "padding": null,
            "right": null,
            "top": null,
            "visibility": null,
            "width": null
          }
        },
        "801a16d8c0034a5fbf32874b69ecd668": {
          "model_module": "@jupyter-widgets/controls",
          "model_name": "ProgressStyleModel",
          "model_module_version": "1.5.0",
          "state": {
            "_model_module": "@jupyter-widgets/controls",
            "_model_module_version": "1.5.0",
            "_model_name": "ProgressStyleModel",
            "_view_count": null,
            "_view_module": "@jupyter-widgets/base",
            "_view_module_version": "1.2.0",
            "_view_name": "StyleView",
            "bar_color": null,
            "description_width": ""
          }
        },
        "b0afff23efdb4ca69b53b2153757d354": {
          "model_module": "@jupyter-widgets/controls",
          "model_name": "VBoxModel",
          "model_module_version": "1.5.0",
          "state": {
            "_dom_classes": [],
            "_model_module": "@jupyter-widgets/controls",
            "_model_module_version": "1.5.0",
            "_model_name": "VBoxModel",
            "_view_count": null,
            "_view_module": "@jupyter-widgets/controls",
            "_view_module_version": "1.5.0",
            "_view_name": "VBoxView",
            "box_style": "",
            "children": [
              "IPY_MODEL_67bd1d472b814e6e99f7abd83b0d4ff3",
              "IPY_MODEL_9affb2a2760c4a12b2acfdc3e6d1f058"
            ],
            "layout": "IPY_MODEL_cab5cad627934e2bbd9392337ec369d4"
          }
        },
        "67bd1d472b814e6e99f7abd83b0d4ff3": {
          "model_module": "@jupyter-widgets/controls",
          "model_name": "LabelModel",
          "model_module_version": "1.5.0",
          "state": {
            "_dom_classes": [],
            "_model_module": "@jupyter-widgets/controls",
            "_model_module_version": "1.5.0",
            "_model_name": "LabelModel",
            "_view_count": null,
            "_view_module": "@jupyter-widgets/controls",
            "_view_module_version": "1.5.0",
            "_view_name": "LabelView",
            "description": "",
            "description_tooltip": null,
            "layout": "IPY_MODEL_9287b18579a94ae8a14c619849cd413b",
            "placeholder": "​",
            "style": "IPY_MODEL_367984f396774bacbc0f06c84bec02c5",
            "value": "0.025 MB of 0.025 MB uploaded\r"
          }
        },
        "9affb2a2760c4a12b2acfdc3e6d1f058": {
          "model_module": "@jupyter-widgets/controls",
          "model_name": "FloatProgressModel",
          "model_module_version": "1.5.0",
          "state": {
            "_dom_classes": [],
            "_model_module": "@jupyter-widgets/controls",
            "_model_module_version": "1.5.0",
            "_model_name": "FloatProgressModel",
            "_view_count": null,
            "_view_module": "@jupyter-widgets/controls",
            "_view_module_version": "1.5.0",
            "_view_name": "ProgressView",
            "bar_style": "",
            "description": "",
            "description_tooltip": null,
            "layout": "IPY_MODEL_580d1091181b450a92230f9eb6e09e3f",
            "max": 1,
            "min": 0,
            "orientation": "horizontal",
            "style": "IPY_MODEL_aeb1b60a84304e07a4f1ccb7b3549638",
            "value": 1
          }
        },
        "cab5cad627934e2bbd9392337ec369d4": {
          "model_module": "@jupyter-widgets/base",
          "model_name": "LayoutModel",
          "model_module_version": "1.2.0",
          "state": {
            "_model_module": "@jupyter-widgets/base",
            "_model_module_version": "1.2.0",
            "_model_name": "LayoutModel",
            "_view_count": null,
            "_view_module": "@jupyter-widgets/base",
            "_view_module_version": "1.2.0",
            "_view_name": "LayoutView",
            "align_content": null,
            "align_items": null,
            "align_self": null,
            "border": null,
            "bottom": null,
            "display": null,
            "flex": null,
            "flex_flow": null,
            "grid_area": null,
            "grid_auto_columns": null,
            "grid_auto_flow": null,
            "grid_auto_rows": null,
            "grid_column": null,
            "grid_gap": null,
            "grid_row": null,
            "grid_template_areas": null,
            "grid_template_columns": null,
            "grid_template_rows": null,
            "height": null,
            "justify_content": null,
            "justify_items": null,
            "left": null,
            "margin": null,
            "max_height": null,
            "max_width": null,
            "min_height": null,
            "min_width": null,
            "object_fit": null,
            "object_position": null,
            "order": null,
            "overflow": null,
            "overflow_x": null,
            "overflow_y": null,
            "padding": null,
            "right": null,
            "top": null,
            "visibility": null,
            "width": null
          }
        },
        "9287b18579a94ae8a14c619849cd413b": {
          "model_module": "@jupyter-widgets/base",
          "model_name": "LayoutModel",
          "model_module_version": "1.2.0",
          "state": {
            "_model_module": "@jupyter-widgets/base",
            "_model_module_version": "1.2.0",
            "_model_name": "LayoutModel",
            "_view_count": null,
            "_view_module": "@jupyter-widgets/base",
            "_view_module_version": "1.2.0",
            "_view_name": "LayoutView",
            "align_content": null,
            "align_items": null,
            "align_self": null,
            "border": null,
            "bottom": null,
            "display": null,
            "flex": null,
            "flex_flow": null,
            "grid_area": null,
            "grid_auto_columns": null,
            "grid_auto_flow": null,
            "grid_auto_rows": null,
            "grid_column": null,
            "grid_gap": null,
            "grid_row": null,
            "grid_template_areas": null,
            "grid_template_columns": null,
            "grid_template_rows": null,
            "height": null,
            "justify_content": null,
            "justify_items": null,
            "left": null,
            "margin": null,
            "max_height": null,
            "max_width": null,
            "min_height": null,
            "min_width": null,
            "object_fit": null,
            "object_position": null,
            "order": null,
            "overflow": null,
            "overflow_x": null,
            "overflow_y": null,
            "padding": null,
            "right": null,
            "top": null,
            "visibility": null,
            "width": null
          }
        },
        "367984f396774bacbc0f06c84bec02c5": {
          "model_module": "@jupyter-widgets/controls",
          "model_name": "DescriptionStyleModel",
          "model_module_version": "1.5.0",
          "state": {
            "_model_module": "@jupyter-widgets/controls",
            "_model_module_version": "1.5.0",
            "_model_name": "DescriptionStyleModel",
            "_view_count": null,
            "_view_module": "@jupyter-widgets/base",
            "_view_module_version": "1.2.0",
            "_view_name": "StyleView",
            "description_width": ""
          }
        },
        "580d1091181b450a92230f9eb6e09e3f": {
          "model_module": "@jupyter-widgets/base",
          "model_name": "LayoutModel",
          "model_module_version": "1.2.0",
          "state": {
            "_model_module": "@jupyter-widgets/base",
            "_model_module_version": "1.2.0",
            "_model_name": "LayoutModel",
            "_view_count": null,
            "_view_module": "@jupyter-widgets/base",
            "_view_module_version": "1.2.0",
            "_view_name": "LayoutView",
            "align_content": null,
            "align_items": null,
            "align_self": null,
            "border": null,
            "bottom": null,
            "display": null,
            "flex": null,
            "flex_flow": null,
            "grid_area": null,
            "grid_auto_columns": null,
            "grid_auto_flow": null,
            "grid_auto_rows": null,
            "grid_column": null,
            "grid_gap": null,
            "grid_row": null,
            "grid_template_areas": null,
            "grid_template_columns": null,
            "grid_template_rows": null,
            "height": null,
            "justify_content": null,
            "justify_items": null,
            "left": null,
            "margin": null,
            "max_height": null,
            "max_width": null,
            "min_height": null,
            "min_width": null,
            "object_fit": null,
            "object_position": null,
            "order": null,
            "overflow": null,
            "overflow_x": null,
            "overflow_y": null,
            "padding": null,
            "right": null,
            "top": null,
            "visibility": null,
            "width": null
          }
        },
        "aeb1b60a84304e07a4f1ccb7b3549638": {
          "model_module": "@jupyter-widgets/controls",
          "model_name": "ProgressStyleModel",
          "model_module_version": "1.5.0",
          "state": {
            "_model_module": "@jupyter-widgets/controls",
            "_model_module_version": "1.5.0",
            "_model_name": "ProgressStyleModel",
            "_view_count": null,
            "_view_module": "@jupyter-widgets/base",
            "_view_module_version": "1.2.0",
            "_view_name": "StyleView",
            "bar_color": null,
            "description_width": ""
          }
        },
        "115ee104da2e48bd8869a8a2644f19b3": {
          "model_module": "@jupyter-widgets/controls",
          "model_name": "VBoxModel",
          "model_module_version": "1.5.0",
          "state": {
            "_dom_classes": [],
            "_model_module": "@jupyter-widgets/controls",
            "_model_module_version": "1.5.0",
            "_model_name": "VBoxModel",
            "_view_count": null,
            "_view_module": "@jupyter-widgets/controls",
            "_view_module_version": "1.5.0",
            "_view_name": "VBoxView",
            "box_style": "",
            "children": [
              "IPY_MODEL_074ac30c4ab349f0a0791d3c400992f9",
              "IPY_MODEL_b3f87870d9784adfb883240cfa50d77a"
            ],
            "layout": "IPY_MODEL_8472086256b945b9b921bc70d2219a1e"
          }
        },
        "074ac30c4ab349f0a0791d3c400992f9": {
          "model_module": "@jupyter-widgets/controls",
          "model_name": "LabelModel",
          "model_module_version": "1.5.0",
          "state": {
            "_dom_classes": [],
            "_model_module": "@jupyter-widgets/controls",
            "_model_module_version": "1.5.0",
            "_model_name": "LabelModel",
            "_view_count": null,
            "_view_module": "@jupyter-widgets/controls",
            "_view_module_version": "1.5.0",
            "_view_name": "LabelView",
            "description": "",
            "description_tooltip": null,
            "layout": "IPY_MODEL_4bb5a09df1d84b578fd43fbe3391203c",
            "placeholder": "​",
            "style": "IPY_MODEL_9010a775f4094e4e8ac9fe3ef974f4fe",
            "value": "0.025 MB of 0.025 MB uploaded\r"
          }
        },
        "b3f87870d9784adfb883240cfa50d77a": {
          "model_module": "@jupyter-widgets/controls",
          "model_name": "FloatProgressModel",
          "model_module_version": "1.5.0",
          "state": {
            "_dom_classes": [],
            "_model_module": "@jupyter-widgets/controls",
            "_model_module_version": "1.5.0",
            "_model_name": "FloatProgressModel",
            "_view_count": null,
            "_view_module": "@jupyter-widgets/controls",
            "_view_module_version": "1.5.0",
            "_view_name": "ProgressView",
            "bar_style": "",
            "description": "",
            "description_tooltip": null,
            "layout": "IPY_MODEL_cb00240b003a449b8d8489a47ff57c06",
            "max": 1,
            "min": 0,
            "orientation": "horizontal",
            "style": "IPY_MODEL_e8af149577cb45f0b63be3a05b3ce0b0",
            "value": 1
          }
        },
        "8472086256b945b9b921bc70d2219a1e": {
          "model_module": "@jupyter-widgets/base",
          "model_name": "LayoutModel",
          "model_module_version": "1.2.0",
          "state": {
            "_model_module": "@jupyter-widgets/base",
            "_model_module_version": "1.2.0",
            "_model_name": "LayoutModel",
            "_view_count": null,
            "_view_module": "@jupyter-widgets/base",
            "_view_module_version": "1.2.0",
            "_view_name": "LayoutView",
            "align_content": null,
            "align_items": null,
            "align_self": null,
            "border": null,
            "bottom": null,
            "display": null,
            "flex": null,
            "flex_flow": null,
            "grid_area": null,
            "grid_auto_columns": null,
            "grid_auto_flow": null,
            "grid_auto_rows": null,
            "grid_column": null,
            "grid_gap": null,
            "grid_row": null,
            "grid_template_areas": null,
            "grid_template_columns": null,
            "grid_template_rows": null,
            "height": null,
            "justify_content": null,
            "justify_items": null,
            "left": null,
            "margin": null,
            "max_height": null,
            "max_width": null,
            "min_height": null,
            "min_width": null,
            "object_fit": null,
            "object_position": null,
            "order": null,
            "overflow": null,
            "overflow_x": null,
            "overflow_y": null,
            "padding": null,
            "right": null,
            "top": null,
            "visibility": null,
            "width": null
          }
        },
        "4bb5a09df1d84b578fd43fbe3391203c": {
          "model_module": "@jupyter-widgets/base",
          "model_name": "LayoutModel",
          "model_module_version": "1.2.0",
          "state": {
            "_model_module": "@jupyter-widgets/base",
            "_model_module_version": "1.2.0",
            "_model_name": "LayoutModel",
            "_view_count": null,
            "_view_module": "@jupyter-widgets/base",
            "_view_module_version": "1.2.0",
            "_view_name": "LayoutView",
            "align_content": null,
            "align_items": null,
            "align_self": null,
            "border": null,
            "bottom": null,
            "display": null,
            "flex": null,
            "flex_flow": null,
            "grid_area": null,
            "grid_auto_columns": null,
            "grid_auto_flow": null,
            "grid_auto_rows": null,
            "grid_column": null,
            "grid_gap": null,
            "grid_row": null,
            "grid_template_areas": null,
            "grid_template_columns": null,
            "grid_template_rows": null,
            "height": null,
            "justify_content": null,
            "justify_items": null,
            "left": null,
            "margin": null,
            "max_height": null,
            "max_width": null,
            "min_height": null,
            "min_width": null,
            "object_fit": null,
            "object_position": null,
            "order": null,
            "overflow": null,
            "overflow_x": null,
            "overflow_y": null,
            "padding": null,
            "right": null,
            "top": null,
            "visibility": null,
            "width": null
          }
        },
        "9010a775f4094e4e8ac9fe3ef974f4fe": {
          "model_module": "@jupyter-widgets/controls",
          "model_name": "DescriptionStyleModel",
          "model_module_version": "1.5.0",
          "state": {
            "_model_module": "@jupyter-widgets/controls",
            "_model_module_version": "1.5.0",
            "_model_name": "DescriptionStyleModel",
            "_view_count": null,
            "_view_module": "@jupyter-widgets/base",
            "_view_module_version": "1.2.0",
            "_view_name": "StyleView",
            "description_width": ""
          }
        },
        "cb00240b003a449b8d8489a47ff57c06": {
          "model_module": "@jupyter-widgets/base",
          "model_name": "LayoutModel",
          "model_module_version": "1.2.0",
          "state": {
            "_model_module": "@jupyter-widgets/base",
            "_model_module_version": "1.2.0",
            "_model_name": "LayoutModel",
            "_view_count": null,
            "_view_module": "@jupyter-widgets/base",
            "_view_module_version": "1.2.0",
            "_view_name": "LayoutView",
            "align_content": null,
            "align_items": null,
            "align_self": null,
            "border": null,
            "bottom": null,
            "display": null,
            "flex": null,
            "flex_flow": null,
            "grid_area": null,
            "grid_auto_columns": null,
            "grid_auto_flow": null,
            "grid_auto_rows": null,
            "grid_column": null,
            "grid_gap": null,
            "grid_row": null,
            "grid_template_areas": null,
            "grid_template_columns": null,
            "grid_template_rows": null,
            "height": null,
            "justify_content": null,
            "justify_items": null,
            "left": null,
            "margin": null,
            "max_height": null,
            "max_width": null,
            "min_height": null,
            "min_width": null,
            "object_fit": null,
            "object_position": null,
            "order": null,
            "overflow": null,
            "overflow_x": null,
            "overflow_y": null,
            "padding": null,
            "right": null,
            "top": null,
            "visibility": null,
            "width": null
          }
        },
        "e8af149577cb45f0b63be3a05b3ce0b0": {
          "model_module": "@jupyter-widgets/controls",
          "model_name": "ProgressStyleModel",
          "model_module_version": "1.5.0",
          "state": {
            "_model_module": "@jupyter-widgets/controls",
            "_model_module_version": "1.5.0",
            "_model_name": "ProgressStyleModel",
            "_view_count": null,
            "_view_module": "@jupyter-widgets/base",
            "_view_module_version": "1.2.0",
            "_view_name": "StyleView",
            "bar_color": null,
            "description_width": ""
          }
        },
        "c69e85e6f63b4c67a16211d27d918c2b": {
          "model_module": "@jupyter-widgets/controls",
          "model_name": "VBoxModel",
          "model_module_version": "1.5.0",
          "state": {
            "_dom_classes": [],
            "_model_module": "@jupyter-widgets/controls",
            "_model_module_version": "1.5.0",
            "_model_name": "VBoxModel",
            "_view_count": null,
            "_view_module": "@jupyter-widgets/controls",
            "_view_module_version": "1.5.0",
            "_view_name": "VBoxView",
            "box_style": "",
            "children": [
              "IPY_MODEL_8f80e98fda7c439cac6a5704b9dcc682",
              "IPY_MODEL_ed7100002a95453397d0d1c8ff71f53e"
            ],
            "layout": "IPY_MODEL_1f8366097dd34048938afa9a1838451a"
          }
        },
        "8f80e98fda7c439cac6a5704b9dcc682": {
          "model_module": "@jupyter-widgets/controls",
          "model_name": "LabelModel",
          "model_module_version": "1.5.0",
          "state": {
            "_dom_classes": [],
            "_model_module": "@jupyter-widgets/controls",
            "_model_module_version": "1.5.0",
            "_model_name": "LabelModel",
            "_view_count": null,
            "_view_module": "@jupyter-widgets/controls",
            "_view_module_version": "1.5.0",
            "_view_name": "LabelView",
            "description": "",
            "description_tooltip": null,
            "layout": "IPY_MODEL_0fd805078cc24cc99ac6b1cb018d7592",
            "placeholder": "​",
            "style": "IPY_MODEL_9fbfdce58a5d431d96ebfa32a8dd51e7",
            "value": "0.025 MB of 0.025 MB uploaded\r"
          }
        },
        "ed7100002a95453397d0d1c8ff71f53e": {
          "model_module": "@jupyter-widgets/controls",
          "model_name": "FloatProgressModel",
          "model_module_version": "1.5.0",
          "state": {
            "_dom_classes": [],
            "_model_module": "@jupyter-widgets/controls",
            "_model_module_version": "1.5.0",
            "_model_name": "FloatProgressModel",
            "_view_count": null,
            "_view_module": "@jupyter-widgets/controls",
            "_view_module_version": "1.5.0",
            "_view_name": "ProgressView",
            "bar_style": "",
            "description": "",
            "description_tooltip": null,
            "layout": "IPY_MODEL_1a0363a4b6254a03b1145f4937709118",
            "max": 1,
            "min": 0,
            "orientation": "horizontal",
            "style": "IPY_MODEL_494b9fac323d48708f405d20ae55e2db",
            "value": 1
          }
        },
        "1f8366097dd34048938afa9a1838451a": {
          "model_module": "@jupyter-widgets/base",
          "model_name": "LayoutModel",
          "model_module_version": "1.2.0",
          "state": {
            "_model_module": "@jupyter-widgets/base",
            "_model_module_version": "1.2.0",
            "_model_name": "LayoutModel",
            "_view_count": null,
            "_view_module": "@jupyter-widgets/base",
            "_view_module_version": "1.2.0",
            "_view_name": "LayoutView",
            "align_content": null,
            "align_items": null,
            "align_self": null,
            "border": null,
            "bottom": null,
            "display": null,
            "flex": null,
            "flex_flow": null,
            "grid_area": null,
            "grid_auto_columns": null,
            "grid_auto_flow": null,
            "grid_auto_rows": null,
            "grid_column": null,
            "grid_gap": null,
            "grid_row": null,
            "grid_template_areas": null,
            "grid_template_columns": null,
            "grid_template_rows": null,
            "height": null,
            "justify_content": null,
            "justify_items": null,
            "left": null,
            "margin": null,
            "max_height": null,
            "max_width": null,
            "min_height": null,
            "min_width": null,
            "object_fit": null,
            "object_position": null,
            "order": null,
            "overflow": null,
            "overflow_x": null,
            "overflow_y": null,
            "padding": null,
            "right": null,
            "top": null,
            "visibility": null,
            "width": null
          }
        },
        "0fd805078cc24cc99ac6b1cb018d7592": {
          "model_module": "@jupyter-widgets/base",
          "model_name": "LayoutModel",
          "model_module_version": "1.2.0",
          "state": {
            "_model_module": "@jupyter-widgets/base",
            "_model_module_version": "1.2.0",
            "_model_name": "LayoutModel",
            "_view_count": null,
            "_view_module": "@jupyter-widgets/base",
            "_view_module_version": "1.2.0",
            "_view_name": "LayoutView",
            "align_content": null,
            "align_items": null,
            "align_self": null,
            "border": null,
            "bottom": null,
            "display": null,
            "flex": null,
            "flex_flow": null,
            "grid_area": null,
            "grid_auto_columns": null,
            "grid_auto_flow": null,
            "grid_auto_rows": null,
            "grid_column": null,
            "grid_gap": null,
            "grid_row": null,
            "grid_template_areas": null,
            "grid_template_columns": null,
            "grid_template_rows": null,
            "height": null,
            "justify_content": null,
            "justify_items": null,
            "left": null,
            "margin": null,
            "max_height": null,
            "max_width": null,
            "min_height": null,
            "min_width": null,
            "object_fit": null,
            "object_position": null,
            "order": null,
            "overflow": null,
            "overflow_x": null,
            "overflow_y": null,
            "padding": null,
            "right": null,
            "top": null,
            "visibility": null,
            "width": null
          }
        },
        "9fbfdce58a5d431d96ebfa32a8dd51e7": {
          "model_module": "@jupyter-widgets/controls",
          "model_name": "DescriptionStyleModel",
          "model_module_version": "1.5.0",
          "state": {
            "_model_module": "@jupyter-widgets/controls",
            "_model_module_version": "1.5.0",
            "_model_name": "DescriptionStyleModel",
            "_view_count": null,
            "_view_module": "@jupyter-widgets/base",
            "_view_module_version": "1.2.0",
            "_view_name": "StyleView",
            "description_width": ""
          }
        },
        "1a0363a4b6254a03b1145f4937709118": {
          "model_module": "@jupyter-widgets/base",
          "model_name": "LayoutModel",
          "model_module_version": "1.2.0",
          "state": {
            "_model_module": "@jupyter-widgets/base",
            "_model_module_version": "1.2.0",
            "_model_name": "LayoutModel",
            "_view_count": null,
            "_view_module": "@jupyter-widgets/base",
            "_view_module_version": "1.2.0",
            "_view_name": "LayoutView",
            "align_content": null,
            "align_items": null,
            "align_self": null,
            "border": null,
            "bottom": null,
            "display": null,
            "flex": null,
            "flex_flow": null,
            "grid_area": null,
            "grid_auto_columns": null,
            "grid_auto_flow": null,
            "grid_auto_rows": null,
            "grid_column": null,
            "grid_gap": null,
            "grid_row": null,
            "grid_template_areas": null,
            "grid_template_columns": null,
            "grid_template_rows": null,
            "height": null,
            "justify_content": null,
            "justify_items": null,
            "left": null,
            "margin": null,
            "max_height": null,
            "max_width": null,
            "min_height": null,
            "min_width": null,
            "object_fit": null,
            "object_position": null,
            "order": null,
            "overflow": null,
            "overflow_x": null,
            "overflow_y": null,
            "padding": null,
            "right": null,
            "top": null,
            "visibility": null,
            "width": null
          }
        },
        "494b9fac323d48708f405d20ae55e2db": {
          "model_module": "@jupyter-widgets/controls",
          "model_name": "ProgressStyleModel",
          "model_module_version": "1.5.0",
          "state": {
            "_model_module": "@jupyter-widgets/controls",
            "_model_module_version": "1.5.0",
            "_model_name": "ProgressStyleModel",
            "_view_count": null,
            "_view_module": "@jupyter-widgets/base",
            "_view_module_version": "1.2.0",
            "_view_name": "StyleView",
            "bar_color": null,
            "description_width": ""
          }
        },
        "cf78f8f4957f4ce38b98a21d3d073fbb": {
          "model_module": "@jupyter-widgets/controls",
          "model_name": "VBoxModel",
          "model_module_version": "1.5.0",
          "state": {
            "_dom_classes": [],
            "_model_module": "@jupyter-widgets/controls",
            "_model_module_version": "1.5.0",
            "_model_name": "VBoxModel",
            "_view_count": null,
            "_view_module": "@jupyter-widgets/controls",
            "_view_module_version": "1.5.0",
            "_view_name": "VBoxView",
            "box_style": "",
            "children": [
              "IPY_MODEL_a2fd896c844a4d448e0b9de137c99765",
              "IPY_MODEL_1b943d0edef14692aba0a2e2486a7676"
            ],
            "layout": "IPY_MODEL_cd8815a3ca8e44d09cab30b0819d0265"
          }
        },
        "a2fd896c844a4d448e0b9de137c99765": {
          "model_module": "@jupyter-widgets/controls",
          "model_name": "LabelModel",
          "model_module_version": "1.5.0",
          "state": {
            "_dom_classes": [],
            "_model_module": "@jupyter-widgets/controls",
            "_model_module_version": "1.5.0",
            "_model_name": "LabelModel",
            "_view_count": null,
            "_view_module": "@jupyter-widgets/controls",
            "_view_module_version": "1.5.0",
            "_view_name": "LabelView",
            "description": "",
            "description_tooltip": null,
            "layout": "IPY_MODEL_9b702717d14a4c5d953b9d1d7b08309e",
            "placeholder": "​",
            "style": "IPY_MODEL_9fd119bcc3f3416194f062c47243f270",
            "value": "0.025 MB of 0.025 MB uploaded\r"
          }
        },
        "1b943d0edef14692aba0a2e2486a7676": {
          "model_module": "@jupyter-widgets/controls",
          "model_name": "FloatProgressModel",
          "model_module_version": "1.5.0",
          "state": {
            "_dom_classes": [],
            "_model_module": "@jupyter-widgets/controls",
            "_model_module_version": "1.5.0",
            "_model_name": "FloatProgressModel",
            "_view_count": null,
            "_view_module": "@jupyter-widgets/controls",
            "_view_module_version": "1.5.0",
            "_view_name": "ProgressView",
            "bar_style": "",
            "description": "",
            "description_tooltip": null,
            "layout": "IPY_MODEL_4efdf4f51aa04f5487c049c0299363d7",
            "max": 1,
            "min": 0,
            "orientation": "horizontal",
            "style": "IPY_MODEL_2f8ede691da14d3b88eeaef6a6971463",
            "value": 1
          }
        },
        "cd8815a3ca8e44d09cab30b0819d0265": {
          "model_module": "@jupyter-widgets/base",
          "model_name": "LayoutModel",
          "model_module_version": "1.2.0",
          "state": {
            "_model_module": "@jupyter-widgets/base",
            "_model_module_version": "1.2.0",
            "_model_name": "LayoutModel",
            "_view_count": null,
            "_view_module": "@jupyter-widgets/base",
            "_view_module_version": "1.2.0",
            "_view_name": "LayoutView",
            "align_content": null,
            "align_items": null,
            "align_self": null,
            "border": null,
            "bottom": null,
            "display": null,
            "flex": null,
            "flex_flow": null,
            "grid_area": null,
            "grid_auto_columns": null,
            "grid_auto_flow": null,
            "grid_auto_rows": null,
            "grid_column": null,
            "grid_gap": null,
            "grid_row": null,
            "grid_template_areas": null,
            "grid_template_columns": null,
            "grid_template_rows": null,
            "height": null,
            "justify_content": null,
            "justify_items": null,
            "left": null,
            "margin": null,
            "max_height": null,
            "max_width": null,
            "min_height": null,
            "min_width": null,
            "object_fit": null,
            "object_position": null,
            "order": null,
            "overflow": null,
            "overflow_x": null,
            "overflow_y": null,
            "padding": null,
            "right": null,
            "top": null,
            "visibility": null,
            "width": null
          }
        },
        "9b702717d14a4c5d953b9d1d7b08309e": {
          "model_module": "@jupyter-widgets/base",
          "model_name": "LayoutModel",
          "model_module_version": "1.2.0",
          "state": {
            "_model_module": "@jupyter-widgets/base",
            "_model_module_version": "1.2.0",
            "_model_name": "LayoutModel",
            "_view_count": null,
            "_view_module": "@jupyter-widgets/base",
            "_view_module_version": "1.2.0",
            "_view_name": "LayoutView",
            "align_content": null,
            "align_items": null,
            "align_self": null,
            "border": null,
            "bottom": null,
            "display": null,
            "flex": null,
            "flex_flow": null,
            "grid_area": null,
            "grid_auto_columns": null,
            "grid_auto_flow": null,
            "grid_auto_rows": null,
            "grid_column": null,
            "grid_gap": null,
            "grid_row": null,
            "grid_template_areas": null,
            "grid_template_columns": null,
            "grid_template_rows": null,
            "height": null,
            "justify_content": null,
            "justify_items": null,
            "left": null,
            "margin": null,
            "max_height": null,
            "max_width": null,
            "min_height": null,
            "min_width": null,
            "object_fit": null,
            "object_position": null,
            "order": null,
            "overflow": null,
            "overflow_x": null,
            "overflow_y": null,
            "padding": null,
            "right": null,
            "top": null,
            "visibility": null,
            "width": null
          }
        },
        "9fd119bcc3f3416194f062c47243f270": {
          "model_module": "@jupyter-widgets/controls",
          "model_name": "DescriptionStyleModel",
          "model_module_version": "1.5.0",
          "state": {
            "_model_module": "@jupyter-widgets/controls",
            "_model_module_version": "1.5.0",
            "_model_name": "DescriptionStyleModel",
            "_view_count": null,
            "_view_module": "@jupyter-widgets/base",
            "_view_module_version": "1.2.0",
            "_view_name": "StyleView",
            "description_width": ""
          }
        },
        "4efdf4f51aa04f5487c049c0299363d7": {
          "model_module": "@jupyter-widgets/base",
          "model_name": "LayoutModel",
          "model_module_version": "1.2.0",
          "state": {
            "_model_module": "@jupyter-widgets/base",
            "_model_module_version": "1.2.0",
            "_model_name": "LayoutModel",
            "_view_count": null,
            "_view_module": "@jupyter-widgets/base",
            "_view_module_version": "1.2.0",
            "_view_name": "LayoutView",
            "align_content": null,
            "align_items": null,
            "align_self": null,
            "border": null,
            "bottom": null,
            "display": null,
            "flex": null,
            "flex_flow": null,
            "grid_area": null,
            "grid_auto_columns": null,
            "grid_auto_flow": null,
            "grid_auto_rows": null,
            "grid_column": null,
            "grid_gap": null,
            "grid_row": null,
            "grid_template_areas": null,
            "grid_template_columns": null,
            "grid_template_rows": null,
            "height": null,
            "justify_content": null,
            "justify_items": null,
            "left": null,
            "margin": null,
            "max_height": null,
            "max_width": null,
            "min_height": null,
            "min_width": null,
            "object_fit": null,
            "object_position": null,
            "order": null,
            "overflow": null,
            "overflow_x": null,
            "overflow_y": null,
            "padding": null,
            "right": null,
            "top": null,
            "visibility": null,
            "width": null
          }
        },
        "2f8ede691da14d3b88eeaef6a6971463": {
          "model_module": "@jupyter-widgets/controls",
          "model_name": "ProgressStyleModel",
          "model_module_version": "1.5.0",
          "state": {
            "_model_module": "@jupyter-widgets/controls",
            "_model_module_version": "1.5.0",
            "_model_name": "ProgressStyleModel",
            "_view_count": null,
            "_view_module": "@jupyter-widgets/base",
            "_view_module_version": "1.2.0",
            "_view_name": "StyleView",
            "bar_color": null,
            "description_width": ""
          }
        },
        "3df42ed2b1c34b48987f759e8a11981e": {
          "model_module": "@jupyter-widgets/controls",
          "model_name": "VBoxModel",
          "model_module_version": "1.5.0",
          "state": {
            "_dom_classes": [],
            "_model_module": "@jupyter-widgets/controls",
            "_model_module_version": "1.5.0",
            "_model_name": "VBoxModel",
            "_view_count": null,
            "_view_module": "@jupyter-widgets/controls",
            "_view_module_version": "1.5.0",
            "_view_name": "VBoxView",
            "box_style": "",
            "children": [
              "IPY_MODEL_ed11bf093dc84ff2a11fc880e62c6b46",
              "IPY_MODEL_effb7ef325ef4547b043d9a3b50196b1"
            ],
            "layout": "IPY_MODEL_593b24a8644e4d07b37b8b662919e99d"
          }
        },
        "ed11bf093dc84ff2a11fc880e62c6b46": {
          "model_module": "@jupyter-widgets/controls",
          "model_name": "LabelModel",
          "model_module_version": "1.5.0",
          "state": {
            "_dom_classes": [],
            "_model_module": "@jupyter-widgets/controls",
            "_model_module_version": "1.5.0",
            "_model_name": "LabelModel",
            "_view_count": null,
            "_view_module": "@jupyter-widgets/controls",
            "_view_module_version": "1.5.0",
            "_view_name": "LabelView",
            "description": "",
            "description_tooltip": null,
            "layout": "IPY_MODEL_67b48e90ec7d49f5ab45a6566a741fdd",
            "placeholder": "​",
            "style": "IPY_MODEL_71426e0e127d4c6da1693fd1dd805529",
            "value": "0.025 MB of 0.025 MB uploaded\r"
          }
        },
        "effb7ef325ef4547b043d9a3b50196b1": {
          "model_module": "@jupyter-widgets/controls",
          "model_name": "FloatProgressModel",
          "model_module_version": "1.5.0",
          "state": {
            "_dom_classes": [],
            "_model_module": "@jupyter-widgets/controls",
            "_model_module_version": "1.5.0",
            "_model_name": "FloatProgressModel",
            "_view_count": null,
            "_view_module": "@jupyter-widgets/controls",
            "_view_module_version": "1.5.0",
            "_view_name": "ProgressView",
            "bar_style": "",
            "description": "",
            "description_tooltip": null,
            "layout": "IPY_MODEL_320a3b46974f4a7a8c327528c76d3b12",
            "max": 1,
            "min": 0,
            "orientation": "horizontal",
            "style": "IPY_MODEL_37855d95cfb241e686bd82c6eb39f27e",
            "value": 1
          }
        },
        "593b24a8644e4d07b37b8b662919e99d": {
          "model_module": "@jupyter-widgets/base",
          "model_name": "LayoutModel",
          "model_module_version": "1.2.0",
          "state": {
            "_model_module": "@jupyter-widgets/base",
            "_model_module_version": "1.2.0",
            "_model_name": "LayoutModel",
            "_view_count": null,
            "_view_module": "@jupyter-widgets/base",
            "_view_module_version": "1.2.0",
            "_view_name": "LayoutView",
            "align_content": null,
            "align_items": null,
            "align_self": null,
            "border": null,
            "bottom": null,
            "display": null,
            "flex": null,
            "flex_flow": null,
            "grid_area": null,
            "grid_auto_columns": null,
            "grid_auto_flow": null,
            "grid_auto_rows": null,
            "grid_column": null,
            "grid_gap": null,
            "grid_row": null,
            "grid_template_areas": null,
            "grid_template_columns": null,
            "grid_template_rows": null,
            "height": null,
            "justify_content": null,
            "justify_items": null,
            "left": null,
            "margin": null,
            "max_height": null,
            "max_width": null,
            "min_height": null,
            "min_width": null,
            "object_fit": null,
            "object_position": null,
            "order": null,
            "overflow": null,
            "overflow_x": null,
            "overflow_y": null,
            "padding": null,
            "right": null,
            "top": null,
            "visibility": null,
            "width": null
          }
        },
        "67b48e90ec7d49f5ab45a6566a741fdd": {
          "model_module": "@jupyter-widgets/base",
          "model_name": "LayoutModel",
          "model_module_version": "1.2.0",
          "state": {
            "_model_module": "@jupyter-widgets/base",
            "_model_module_version": "1.2.0",
            "_model_name": "LayoutModel",
            "_view_count": null,
            "_view_module": "@jupyter-widgets/base",
            "_view_module_version": "1.2.0",
            "_view_name": "LayoutView",
            "align_content": null,
            "align_items": null,
            "align_self": null,
            "border": null,
            "bottom": null,
            "display": null,
            "flex": null,
            "flex_flow": null,
            "grid_area": null,
            "grid_auto_columns": null,
            "grid_auto_flow": null,
            "grid_auto_rows": null,
            "grid_column": null,
            "grid_gap": null,
            "grid_row": null,
            "grid_template_areas": null,
            "grid_template_columns": null,
            "grid_template_rows": null,
            "height": null,
            "justify_content": null,
            "justify_items": null,
            "left": null,
            "margin": null,
            "max_height": null,
            "max_width": null,
            "min_height": null,
            "min_width": null,
            "object_fit": null,
            "object_position": null,
            "order": null,
            "overflow": null,
            "overflow_x": null,
            "overflow_y": null,
            "padding": null,
            "right": null,
            "top": null,
            "visibility": null,
            "width": null
          }
        },
        "71426e0e127d4c6da1693fd1dd805529": {
          "model_module": "@jupyter-widgets/controls",
          "model_name": "DescriptionStyleModel",
          "model_module_version": "1.5.0",
          "state": {
            "_model_module": "@jupyter-widgets/controls",
            "_model_module_version": "1.5.0",
            "_model_name": "DescriptionStyleModel",
            "_view_count": null,
            "_view_module": "@jupyter-widgets/base",
            "_view_module_version": "1.2.0",
            "_view_name": "StyleView",
            "description_width": ""
          }
        },
        "320a3b46974f4a7a8c327528c76d3b12": {
          "model_module": "@jupyter-widgets/base",
          "model_name": "LayoutModel",
          "model_module_version": "1.2.0",
          "state": {
            "_model_module": "@jupyter-widgets/base",
            "_model_module_version": "1.2.0",
            "_model_name": "LayoutModel",
            "_view_count": null,
            "_view_module": "@jupyter-widgets/base",
            "_view_module_version": "1.2.0",
            "_view_name": "LayoutView",
            "align_content": null,
            "align_items": null,
            "align_self": null,
            "border": null,
            "bottom": null,
            "display": null,
            "flex": null,
            "flex_flow": null,
            "grid_area": null,
            "grid_auto_columns": null,
            "grid_auto_flow": null,
            "grid_auto_rows": null,
            "grid_column": null,
            "grid_gap": null,
            "grid_row": null,
            "grid_template_areas": null,
            "grid_template_columns": null,
            "grid_template_rows": null,
            "height": null,
            "justify_content": null,
            "justify_items": null,
            "left": null,
            "margin": null,
            "max_height": null,
            "max_width": null,
            "min_height": null,
            "min_width": null,
            "object_fit": null,
            "object_position": null,
            "order": null,
            "overflow": null,
            "overflow_x": null,
            "overflow_y": null,
            "padding": null,
            "right": null,
            "top": null,
            "visibility": null,
            "width": null
          }
        },
        "37855d95cfb241e686bd82c6eb39f27e": {
          "model_module": "@jupyter-widgets/controls",
          "model_name": "ProgressStyleModel",
          "model_module_version": "1.5.0",
          "state": {
            "_model_module": "@jupyter-widgets/controls",
            "_model_module_version": "1.5.0",
            "_model_name": "ProgressStyleModel",
            "_view_count": null,
            "_view_module": "@jupyter-widgets/base",
            "_view_module_version": "1.2.0",
            "_view_name": "StyleView",
            "bar_color": null,
            "description_width": ""
          }
        },
        "567a2534ba884968a690389ddf224dc1": {
          "model_module": "@jupyter-widgets/controls",
          "model_name": "VBoxModel",
          "model_module_version": "1.5.0",
          "state": {
            "_dom_classes": [],
            "_model_module": "@jupyter-widgets/controls",
            "_model_module_version": "1.5.0",
            "_model_name": "VBoxModel",
            "_view_count": null,
            "_view_module": "@jupyter-widgets/controls",
            "_view_module_version": "1.5.0",
            "_view_name": "VBoxView",
            "box_style": "",
            "children": [
              "IPY_MODEL_182ca62fcf50439386278972d851939c",
              "IPY_MODEL_e7a2d8ffa1cf4e038179aff1bc4d552d"
            ],
            "layout": "IPY_MODEL_61f9387fdaab4cc19fd8e10e05c96f0f"
          }
        },
        "182ca62fcf50439386278972d851939c": {
          "model_module": "@jupyter-widgets/controls",
          "model_name": "LabelModel",
          "model_module_version": "1.5.0",
          "state": {
            "_dom_classes": [],
            "_model_module": "@jupyter-widgets/controls",
            "_model_module_version": "1.5.0",
            "_model_name": "LabelModel",
            "_view_count": null,
            "_view_module": "@jupyter-widgets/controls",
            "_view_module_version": "1.5.0",
            "_view_name": "LabelView",
            "description": "",
            "description_tooltip": null,
            "layout": "IPY_MODEL_80bd3412b2b547b0aa1243ce0950768b",
            "placeholder": "​",
            "style": "IPY_MODEL_8c54f64f87594ecaa51ddd1088fc4c21",
            "value": "0.025 MB of 0.025 MB uploaded\r"
          }
        },
        "e7a2d8ffa1cf4e038179aff1bc4d552d": {
          "model_module": "@jupyter-widgets/controls",
          "model_name": "FloatProgressModel",
          "model_module_version": "1.5.0",
          "state": {
            "_dom_classes": [],
            "_model_module": "@jupyter-widgets/controls",
            "_model_module_version": "1.5.0",
            "_model_name": "FloatProgressModel",
            "_view_count": null,
            "_view_module": "@jupyter-widgets/controls",
            "_view_module_version": "1.5.0",
            "_view_name": "ProgressView",
            "bar_style": "",
            "description": "",
            "description_tooltip": null,
            "layout": "IPY_MODEL_c806f4b15b684814a62f0b3b76adfb74",
            "max": 1,
            "min": 0,
            "orientation": "horizontal",
            "style": "IPY_MODEL_21f89b87d55e496cb8ebaaa35087f87a",
            "value": 1
          }
        },
        "61f9387fdaab4cc19fd8e10e05c96f0f": {
          "model_module": "@jupyter-widgets/base",
          "model_name": "LayoutModel",
          "model_module_version": "1.2.0",
          "state": {
            "_model_module": "@jupyter-widgets/base",
            "_model_module_version": "1.2.0",
            "_model_name": "LayoutModel",
            "_view_count": null,
            "_view_module": "@jupyter-widgets/base",
            "_view_module_version": "1.2.0",
            "_view_name": "LayoutView",
            "align_content": null,
            "align_items": null,
            "align_self": null,
            "border": null,
            "bottom": null,
            "display": null,
            "flex": null,
            "flex_flow": null,
            "grid_area": null,
            "grid_auto_columns": null,
            "grid_auto_flow": null,
            "grid_auto_rows": null,
            "grid_column": null,
            "grid_gap": null,
            "grid_row": null,
            "grid_template_areas": null,
            "grid_template_columns": null,
            "grid_template_rows": null,
            "height": null,
            "justify_content": null,
            "justify_items": null,
            "left": null,
            "margin": null,
            "max_height": null,
            "max_width": null,
            "min_height": null,
            "min_width": null,
            "object_fit": null,
            "object_position": null,
            "order": null,
            "overflow": null,
            "overflow_x": null,
            "overflow_y": null,
            "padding": null,
            "right": null,
            "top": null,
            "visibility": null,
            "width": null
          }
        },
        "80bd3412b2b547b0aa1243ce0950768b": {
          "model_module": "@jupyter-widgets/base",
          "model_name": "LayoutModel",
          "model_module_version": "1.2.0",
          "state": {
            "_model_module": "@jupyter-widgets/base",
            "_model_module_version": "1.2.0",
            "_model_name": "LayoutModel",
            "_view_count": null,
            "_view_module": "@jupyter-widgets/base",
            "_view_module_version": "1.2.0",
            "_view_name": "LayoutView",
            "align_content": null,
            "align_items": null,
            "align_self": null,
            "border": null,
            "bottom": null,
            "display": null,
            "flex": null,
            "flex_flow": null,
            "grid_area": null,
            "grid_auto_columns": null,
            "grid_auto_flow": null,
            "grid_auto_rows": null,
            "grid_column": null,
            "grid_gap": null,
            "grid_row": null,
            "grid_template_areas": null,
            "grid_template_columns": null,
            "grid_template_rows": null,
            "height": null,
            "justify_content": null,
            "justify_items": null,
            "left": null,
            "margin": null,
            "max_height": null,
            "max_width": null,
            "min_height": null,
            "min_width": null,
            "object_fit": null,
            "object_position": null,
            "order": null,
            "overflow": null,
            "overflow_x": null,
            "overflow_y": null,
            "padding": null,
            "right": null,
            "top": null,
            "visibility": null,
            "width": null
          }
        },
        "8c54f64f87594ecaa51ddd1088fc4c21": {
          "model_module": "@jupyter-widgets/controls",
          "model_name": "DescriptionStyleModel",
          "model_module_version": "1.5.0",
          "state": {
            "_model_module": "@jupyter-widgets/controls",
            "_model_module_version": "1.5.0",
            "_model_name": "DescriptionStyleModel",
            "_view_count": null,
            "_view_module": "@jupyter-widgets/base",
            "_view_module_version": "1.2.0",
            "_view_name": "StyleView",
            "description_width": ""
          }
        },
        "c806f4b15b684814a62f0b3b76adfb74": {
          "model_module": "@jupyter-widgets/base",
          "model_name": "LayoutModel",
          "model_module_version": "1.2.0",
          "state": {
            "_model_module": "@jupyter-widgets/base",
            "_model_module_version": "1.2.0",
            "_model_name": "LayoutModel",
            "_view_count": null,
            "_view_module": "@jupyter-widgets/base",
            "_view_module_version": "1.2.0",
            "_view_name": "LayoutView",
            "align_content": null,
            "align_items": null,
            "align_self": null,
            "border": null,
            "bottom": null,
            "display": null,
            "flex": null,
            "flex_flow": null,
            "grid_area": null,
            "grid_auto_columns": null,
            "grid_auto_flow": null,
            "grid_auto_rows": null,
            "grid_column": null,
            "grid_gap": null,
            "grid_row": null,
            "grid_template_areas": null,
            "grid_template_columns": null,
            "grid_template_rows": null,
            "height": null,
            "justify_content": null,
            "justify_items": null,
            "left": null,
            "margin": null,
            "max_height": null,
            "max_width": null,
            "min_height": null,
            "min_width": null,
            "object_fit": null,
            "object_position": null,
            "order": null,
            "overflow": null,
            "overflow_x": null,
            "overflow_y": null,
            "padding": null,
            "right": null,
            "top": null,
            "visibility": null,
            "width": null
          }
        },
        "21f89b87d55e496cb8ebaaa35087f87a": {
          "model_module": "@jupyter-widgets/controls",
          "model_name": "ProgressStyleModel",
          "model_module_version": "1.5.0",
          "state": {
            "_model_module": "@jupyter-widgets/controls",
            "_model_module_version": "1.5.0",
            "_model_name": "ProgressStyleModel",
            "_view_count": null,
            "_view_module": "@jupyter-widgets/base",
            "_view_module_version": "1.2.0",
            "_view_name": "StyleView",
            "bar_color": null,
            "description_width": ""
          }
        },
        "26b0eff7b34345f6b7fedfbce520da80": {
          "model_module": "@jupyter-widgets/controls",
          "model_name": "VBoxModel",
          "model_module_version": "1.5.0",
          "state": {
            "_dom_classes": [],
            "_model_module": "@jupyter-widgets/controls",
            "_model_module_version": "1.5.0",
            "_model_name": "VBoxModel",
            "_view_count": null,
            "_view_module": "@jupyter-widgets/controls",
            "_view_module_version": "1.5.0",
            "_view_name": "VBoxView",
            "box_style": "",
            "children": [
              "IPY_MODEL_cea60b66998640d29ad0889086bbdb7a",
              "IPY_MODEL_d682e4a493b94df5adaa0557fe70d60d"
            ],
            "layout": "IPY_MODEL_cdd26bc6daac4800bc206c0af258d3f8"
          }
        },
        "cea60b66998640d29ad0889086bbdb7a": {
          "model_module": "@jupyter-widgets/controls",
          "model_name": "LabelModel",
          "model_module_version": "1.5.0",
          "state": {
            "_dom_classes": [],
            "_model_module": "@jupyter-widgets/controls",
            "_model_module_version": "1.5.0",
            "_model_name": "LabelModel",
            "_view_count": null,
            "_view_module": "@jupyter-widgets/controls",
            "_view_module_version": "1.5.0",
            "_view_name": "LabelView",
            "description": "",
            "description_tooltip": null,
            "layout": "IPY_MODEL_b3bd1e838d504bc685d6567e11cc6bb3",
            "placeholder": "​",
            "style": "IPY_MODEL_edf2f4ceba6a48699dcea6b06ab11ef9",
            "value": "0.025 MB of 0.025 MB uploaded\r"
          }
        },
        "d682e4a493b94df5adaa0557fe70d60d": {
          "model_module": "@jupyter-widgets/controls",
          "model_name": "FloatProgressModel",
          "model_module_version": "1.5.0",
          "state": {
            "_dom_classes": [],
            "_model_module": "@jupyter-widgets/controls",
            "_model_module_version": "1.5.0",
            "_model_name": "FloatProgressModel",
            "_view_count": null,
            "_view_module": "@jupyter-widgets/controls",
            "_view_module_version": "1.5.0",
            "_view_name": "ProgressView",
            "bar_style": "",
            "description": "",
            "description_tooltip": null,
            "layout": "IPY_MODEL_6d265cd877db426683c0471e72cb9c36",
            "max": 1,
            "min": 0,
            "orientation": "horizontal",
            "style": "IPY_MODEL_18f513b0b9f648ddb41c722fa7a142fc",
            "value": 1
          }
        },
        "cdd26bc6daac4800bc206c0af258d3f8": {
          "model_module": "@jupyter-widgets/base",
          "model_name": "LayoutModel",
          "model_module_version": "1.2.0",
          "state": {
            "_model_module": "@jupyter-widgets/base",
            "_model_module_version": "1.2.0",
            "_model_name": "LayoutModel",
            "_view_count": null,
            "_view_module": "@jupyter-widgets/base",
            "_view_module_version": "1.2.0",
            "_view_name": "LayoutView",
            "align_content": null,
            "align_items": null,
            "align_self": null,
            "border": null,
            "bottom": null,
            "display": null,
            "flex": null,
            "flex_flow": null,
            "grid_area": null,
            "grid_auto_columns": null,
            "grid_auto_flow": null,
            "grid_auto_rows": null,
            "grid_column": null,
            "grid_gap": null,
            "grid_row": null,
            "grid_template_areas": null,
            "grid_template_columns": null,
            "grid_template_rows": null,
            "height": null,
            "justify_content": null,
            "justify_items": null,
            "left": null,
            "margin": null,
            "max_height": null,
            "max_width": null,
            "min_height": null,
            "min_width": null,
            "object_fit": null,
            "object_position": null,
            "order": null,
            "overflow": null,
            "overflow_x": null,
            "overflow_y": null,
            "padding": null,
            "right": null,
            "top": null,
            "visibility": null,
            "width": null
          }
        },
        "b3bd1e838d504bc685d6567e11cc6bb3": {
          "model_module": "@jupyter-widgets/base",
          "model_name": "LayoutModel",
          "model_module_version": "1.2.0",
          "state": {
            "_model_module": "@jupyter-widgets/base",
            "_model_module_version": "1.2.0",
            "_model_name": "LayoutModel",
            "_view_count": null,
            "_view_module": "@jupyter-widgets/base",
            "_view_module_version": "1.2.0",
            "_view_name": "LayoutView",
            "align_content": null,
            "align_items": null,
            "align_self": null,
            "border": null,
            "bottom": null,
            "display": null,
            "flex": null,
            "flex_flow": null,
            "grid_area": null,
            "grid_auto_columns": null,
            "grid_auto_flow": null,
            "grid_auto_rows": null,
            "grid_column": null,
            "grid_gap": null,
            "grid_row": null,
            "grid_template_areas": null,
            "grid_template_columns": null,
            "grid_template_rows": null,
            "height": null,
            "justify_content": null,
            "justify_items": null,
            "left": null,
            "margin": null,
            "max_height": null,
            "max_width": null,
            "min_height": null,
            "min_width": null,
            "object_fit": null,
            "object_position": null,
            "order": null,
            "overflow": null,
            "overflow_x": null,
            "overflow_y": null,
            "padding": null,
            "right": null,
            "top": null,
            "visibility": null,
            "width": null
          }
        },
        "edf2f4ceba6a48699dcea6b06ab11ef9": {
          "model_module": "@jupyter-widgets/controls",
          "model_name": "DescriptionStyleModel",
          "model_module_version": "1.5.0",
          "state": {
            "_model_module": "@jupyter-widgets/controls",
            "_model_module_version": "1.5.0",
            "_model_name": "DescriptionStyleModel",
            "_view_count": null,
            "_view_module": "@jupyter-widgets/base",
            "_view_module_version": "1.2.0",
            "_view_name": "StyleView",
            "description_width": ""
          }
        },
        "6d265cd877db426683c0471e72cb9c36": {
          "model_module": "@jupyter-widgets/base",
          "model_name": "LayoutModel",
          "model_module_version": "1.2.0",
          "state": {
            "_model_module": "@jupyter-widgets/base",
            "_model_module_version": "1.2.0",
            "_model_name": "LayoutModel",
            "_view_count": null,
            "_view_module": "@jupyter-widgets/base",
            "_view_module_version": "1.2.0",
            "_view_name": "LayoutView",
            "align_content": null,
            "align_items": null,
            "align_self": null,
            "border": null,
            "bottom": null,
            "display": null,
            "flex": null,
            "flex_flow": null,
            "grid_area": null,
            "grid_auto_columns": null,
            "grid_auto_flow": null,
            "grid_auto_rows": null,
            "grid_column": null,
            "grid_gap": null,
            "grid_row": null,
            "grid_template_areas": null,
            "grid_template_columns": null,
            "grid_template_rows": null,
            "height": null,
            "justify_content": null,
            "justify_items": null,
            "left": null,
            "margin": null,
            "max_height": null,
            "max_width": null,
            "min_height": null,
            "min_width": null,
            "object_fit": null,
            "object_position": null,
            "order": null,
            "overflow": null,
            "overflow_x": null,
            "overflow_y": null,
            "padding": null,
            "right": null,
            "top": null,
            "visibility": null,
            "width": null
          }
        },
        "18f513b0b9f648ddb41c722fa7a142fc": {
          "model_module": "@jupyter-widgets/controls",
          "model_name": "ProgressStyleModel",
          "model_module_version": "1.5.0",
          "state": {
            "_model_module": "@jupyter-widgets/controls",
            "_model_module_version": "1.5.0",
            "_model_name": "ProgressStyleModel",
            "_view_count": null,
            "_view_module": "@jupyter-widgets/base",
            "_view_module_version": "1.2.0",
            "_view_name": "StyleView",
            "bar_color": null,
            "description_width": ""
          }
        },
        "4f8d0847e3c74077b1e3bcbb59c67648": {
          "model_module": "@jupyter-widgets/controls",
          "model_name": "VBoxModel",
          "model_module_version": "1.5.0",
          "state": {
            "_dom_classes": [],
            "_model_module": "@jupyter-widgets/controls",
            "_model_module_version": "1.5.0",
            "_model_name": "VBoxModel",
            "_view_count": null,
            "_view_module": "@jupyter-widgets/controls",
            "_view_module_version": "1.5.0",
            "_view_name": "VBoxView",
            "box_style": "",
            "children": [
              "IPY_MODEL_df2a3155f32348f39d37ef863d9e9924",
              "IPY_MODEL_e41eddc924314eebbf83597ef530d92b"
            ],
            "layout": "IPY_MODEL_cc7961fb31ce430cb830d85035b930f9"
          }
        },
        "df2a3155f32348f39d37ef863d9e9924": {
          "model_module": "@jupyter-widgets/controls",
          "model_name": "LabelModel",
          "model_module_version": "1.5.0",
          "state": {
            "_dom_classes": [],
            "_model_module": "@jupyter-widgets/controls",
            "_model_module_version": "1.5.0",
            "_model_name": "LabelModel",
            "_view_count": null,
            "_view_module": "@jupyter-widgets/controls",
            "_view_module_version": "1.5.0",
            "_view_name": "LabelView",
            "description": "",
            "description_tooltip": null,
            "layout": "IPY_MODEL_6fb5e36f989440deaecd20533ec988ca",
            "placeholder": "​",
            "style": "IPY_MODEL_fa158a9f702749e9ab74d7d3ccd05150",
            "value": "0.025 MB of 0.025 MB uploaded\r"
          }
        },
        "e41eddc924314eebbf83597ef530d92b": {
          "model_module": "@jupyter-widgets/controls",
          "model_name": "FloatProgressModel",
          "model_module_version": "1.5.0",
          "state": {
            "_dom_classes": [],
            "_model_module": "@jupyter-widgets/controls",
            "_model_module_version": "1.5.0",
            "_model_name": "FloatProgressModel",
            "_view_count": null,
            "_view_module": "@jupyter-widgets/controls",
            "_view_module_version": "1.5.0",
            "_view_name": "ProgressView",
            "bar_style": "",
            "description": "",
            "description_tooltip": null,
            "layout": "IPY_MODEL_ce17260500ce409caa2d8ca7f00365dc",
            "max": 1,
            "min": 0,
            "orientation": "horizontal",
            "style": "IPY_MODEL_f7ae4bec8ec446e597b3e051f502ed60",
            "value": 1
          }
        },
        "cc7961fb31ce430cb830d85035b930f9": {
          "model_module": "@jupyter-widgets/base",
          "model_name": "LayoutModel",
          "model_module_version": "1.2.0",
          "state": {
            "_model_module": "@jupyter-widgets/base",
            "_model_module_version": "1.2.0",
            "_model_name": "LayoutModel",
            "_view_count": null,
            "_view_module": "@jupyter-widgets/base",
            "_view_module_version": "1.2.0",
            "_view_name": "LayoutView",
            "align_content": null,
            "align_items": null,
            "align_self": null,
            "border": null,
            "bottom": null,
            "display": null,
            "flex": null,
            "flex_flow": null,
            "grid_area": null,
            "grid_auto_columns": null,
            "grid_auto_flow": null,
            "grid_auto_rows": null,
            "grid_column": null,
            "grid_gap": null,
            "grid_row": null,
            "grid_template_areas": null,
            "grid_template_columns": null,
            "grid_template_rows": null,
            "height": null,
            "justify_content": null,
            "justify_items": null,
            "left": null,
            "margin": null,
            "max_height": null,
            "max_width": null,
            "min_height": null,
            "min_width": null,
            "object_fit": null,
            "object_position": null,
            "order": null,
            "overflow": null,
            "overflow_x": null,
            "overflow_y": null,
            "padding": null,
            "right": null,
            "top": null,
            "visibility": null,
            "width": null
          }
        },
        "6fb5e36f989440deaecd20533ec988ca": {
          "model_module": "@jupyter-widgets/base",
          "model_name": "LayoutModel",
          "model_module_version": "1.2.0",
          "state": {
            "_model_module": "@jupyter-widgets/base",
            "_model_module_version": "1.2.0",
            "_model_name": "LayoutModel",
            "_view_count": null,
            "_view_module": "@jupyter-widgets/base",
            "_view_module_version": "1.2.0",
            "_view_name": "LayoutView",
            "align_content": null,
            "align_items": null,
            "align_self": null,
            "border": null,
            "bottom": null,
            "display": null,
            "flex": null,
            "flex_flow": null,
            "grid_area": null,
            "grid_auto_columns": null,
            "grid_auto_flow": null,
            "grid_auto_rows": null,
            "grid_column": null,
            "grid_gap": null,
            "grid_row": null,
            "grid_template_areas": null,
            "grid_template_columns": null,
            "grid_template_rows": null,
            "height": null,
            "justify_content": null,
            "justify_items": null,
            "left": null,
            "margin": null,
            "max_height": null,
            "max_width": null,
            "min_height": null,
            "min_width": null,
            "object_fit": null,
            "object_position": null,
            "order": null,
            "overflow": null,
            "overflow_x": null,
            "overflow_y": null,
            "padding": null,
            "right": null,
            "top": null,
            "visibility": null,
            "width": null
          }
        },
        "fa158a9f702749e9ab74d7d3ccd05150": {
          "model_module": "@jupyter-widgets/controls",
          "model_name": "DescriptionStyleModel",
          "model_module_version": "1.5.0",
          "state": {
            "_model_module": "@jupyter-widgets/controls",
            "_model_module_version": "1.5.0",
            "_model_name": "DescriptionStyleModel",
            "_view_count": null,
            "_view_module": "@jupyter-widgets/base",
            "_view_module_version": "1.2.0",
            "_view_name": "StyleView",
            "description_width": ""
          }
        },
        "ce17260500ce409caa2d8ca7f00365dc": {
          "model_module": "@jupyter-widgets/base",
          "model_name": "LayoutModel",
          "model_module_version": "1.2.0",
          "state": {
            "_model_module": "@jupyter-widgets/base",
            "_model_module_version": "1.2.0",
            "_model_name": "LayoutModel",
            "_view_count": null,
            "_view_module": "@jupyter-widgets/base",
            "_view_module_version": "1.2.0",
            "_view_name": "LayoutView",
            "align_content": null,
            "align_items": null,
            "align_self": null,
            "border": null,
            "bottom": null,
            "display": null,
            "flex": null,
            "flex_flow": null,
            "grid_area": null,
            "grid_auto_columns": null,
            "grid_auto_flow": null,
            "grid_auto_rows": null,
            "grid_column": null,
            "grid_gap": null,
            "grid_row": null,
            "grid_template_areas": null,
            "grid_template_columns": null,
            "grid_template_rows": null,
            "height": null,
            "justify_content": null,
            "justify_items": null,
            "left": null,
            "margin": null,
            "max_height": null,
            "max_width": null,
            "min_height": null,
            "min_width": null,
            "object_fit": null,
            "object_position": null,
            "order": null,
            "overflow": null,
            "overflow_x": null,
            "overflow_y": null,
            "padding": null,
            "right": null,
            "top": null,
            "visibility": null,
            "width": null
          }
        },
        "f7ae4bec8ec446e597b3e051f502ed60": {
          "model_module": "@jupyter-widgets/controls",
          "model_name": "ProgressStyleModel",
          "model_module_version": "1.5.0",
          "state": {
            "_model_module": "@jupyter-widgets/controls",
            "_model_module_version": "1.5.0",
            "_model_name": "ProgressStyleModel",
            "_view_count": null,
            "_view_module": "@jupyter-widgets/base",
            "_view_module_version": "1.2.0",
            "_view_name": "StyleView",
            "bar_color": null,
            "description_width": ""
          }
        },
        "b256e14b61f940eab068e9f68be61fe6": {
          "model_module": "@jupyter-widgets/controls",
          "model_name": "VBoxModel",
          "model_module_version": "1.5.0",
          "state": {
            "_dom_classes": [],
            "_model_module": "@jupyter-widgets/controls",
            "_model_module_version": "1.5.0",
            "_model_name": "VBoxModel",
            "_view_count": null,
            "_view_module": "@jupyter-widgets/controls",
            "_view_module_version": "1.5.0",
            "_view_name": "VBoxView",
            "box_style": "",
            "children": [
              "IPY_MODEL_6ad9ff1dbbbb4f6084f389c076a019bc",
              "IPY_MODEL_32eb092d820545d79b68fab30d470ae6"
            ],
            "layout": "IPY_MODEL_9b57be1b073e4c04aae329c55952f6b2"
          }
        },
        "6ad9ff1dbbbb4f6084f389c076a019bc": {
          "model_module": "@jupyter-widgets/controls",
          "model_name": "LabelModel",
          "model_module_version": "1.5.0",
          "state": {
            "_dom_classes": [],
            "_model_module": "@jupyter-widgets/controls",
            "_model_module_version": "1.5.0",
            "_model_name": "LabelModel",
            "_view_count": null,
            "_view_module": "@jupyter-widgets/controls",
            "_view_module_version": "1.5.0",
            "_view_name": "LabelView",
            "description": "",
            "description_tooltip": null,
            "layout": "IPY_MODEL_0ce32171df7440d8b23b02f453230c06",
            "placeholder": "​",
            "style": "IPY_MODEL_54c4dabcaf8e4c3ebb6f26fb04c7a240",
            "value": "0.025 MB of 0.025 MB uploaded\r"
          }
        },
        "32eb092d820545d79b68fab30d470ae6": {
          "model_module": "@jupyter-widgets/controls",
          "model_name": "FloatProgressModel",
          "model_module_version": "1.5.0",
          "state": {
            "_dom_classes": [],
            "_model_module": "@jupyter-widgets/controls",
            "_model_module_version": "1.5.0",
            "_model_name": "FloatProgressModel",
            "_view_count": null,
            "_view_module": "@jupyter-widgets/controls",
            "_view_module_version": "1.5.0",
            "_view_name": "ProgressView",
            "bar_style": "",
            "description": "",
            "description_tooltip": null,
            "layout": "IPY_MODEL_e5e74a168c1d469bb19af3974077c383",
            "max": 1,
            "min": 0,
            "orientation": "horizontal",
            "style": "IPY_MODEL_367c3f5a3a6c4b08a3f27f75b0df06a1",
            "value": 1
          }
        },
        "9b57be1b073e4c04aae329c55952f6b2": {
          "model_module": "@jupyter-widgets/base",
          "model_name": "LayoutModel",
          "model_module_version": "1.2.0",
          "state": {
            "_model_module": "@jupyter-widgets/base",
            "_model_module_version": "1.2.0",
            "_model_name": "LayoutModel",
            "_view_count": null,
            "_view_module": "@jupyter-widgets/base",
            "_view_module_version": "1.2.0",
            "_view_name": "LayoutView",
            "align_content": null,
            "align_items": null,
            "align_self": null,
            "border": null,
            "bottom": null,
            "display": null,
            "flex": null,
            "flex_flow": null,
            "grid_area": null,
            "grid_auto_columns": null,
            "grid_auto_flow": null,
            "grid_auto_rows": null,
            "grid_column": null,
            "grid_gap": null,
            "grid_row": null,
            "grid_template_areas": null,
            "grid_template_columns": null,
            "grid_template_rows": null,
            "height": null,
            "justify_content": null,
            "justify_items": null,
            "left": null,
            "margin": null,
            "max_height": null,
            "max_width": null,
            "min_height": null,
            "min_width": null,
            "object_fit": null,
            "object_position": null,
            "order": null,
            "overflow": null,
            "overflow_x": null,
            "overflow_y": null,
            "padding": null,
            "right": null,
            "top": null,
            "visibility": null,
            "width": null
          }
        },
        "0ce32171df7440d8b23b02f453230c06": {
          "model_module": "@jupyter-widgets/base",
          "model_name": "LayoutModel",
          "model_module_version": "1.2.0",
          "state": {
            "_model_module": "@jupyter-widgets/base",
            "_model_module_version": "1.2.0",
            "_model_name": "LayoutModel",
            "_view_count": null,
            "_view_module": "@jupyter-widgets/base",
            "_view_module_version": "1.2.0",
            "_view_name": "LayoutView",
            "align_content": null,
            "align_items": null,
            "align_self": null,
            "border": null,
            "bottom": null,
            "display": null,
            "flex": null,
            "flex_flow": null,
            "grid_area": null,
            "grid_auto_columns": null,
            "grid_auto_flow": null,
            "grid_auto_rows": null,
            "grid_column": null,
            "grid_gap": null,
            "grid_row": null,
            "grid_template_areas": null,
            "grid_template_columns": null,
            "grid_template_rows": null,
            "height": null,
            "justify_content": null,
            "justify_items": null,
            "left": null,
            "margin": null,
            "max_height": null,
            "max_width": null,
            "min_height": null,
            "min_width": null,
            "object_fit": null,
            "object_position": null,
            "order": null,
            "overflow": null,
            "overflow_x": null,
            "overflow_y": null,
            "padding": null,
            "right": null,
            "top": null,
            "visibility": null,
            "width": null
          }
        },
        "54c4dabcaf8e4c3ebb6f26fb04c7a240": {
          "model_module": "@jupyter-widgets/controls",
          "model_name": "DescriptionStyleModel",
          "model_module_version": "1.5.0",
          "state": {
            "_model_module": "@jupyter-widgets/controls",
            "_model_module_version": "1.5.0",
            "_model_name": "DescriptionStyleModel",
            "_view_count": null,
            "_view_module": "@jupyter-widgets/base",
            "_view_module_version": "1.2.0",
            "_view_name": "StyleView",
            "description_width": ""
          }
        },
        "e5e74a168c1d469bb19af3974077c383": {
          "model_module": "@jupyter-widgets/base",
          "model_name": "LayoutModel",
          "model_module_version": "1.2.0",
          "state": {
            "_model_module": "@jupyter-widgets/base",
            "_model_module_version": "1.2.0",
            "_model_name": "LayoutModel",
            "_view_count": null,
            "_view_module": "@jupyter-widgets/base",
            "_view_module_version": "1.2.0",
            "_view_name": "LayoutView",
            "align_content": null,
            "align_items": null,
            "align_self": null,
            "border": null,
            "bottom": null,
            "display": null,
            "flex": null,
            "flex_flow": null,
            "grid_area": null,
            "grid_auto_columns": null,
            "grid_auto_flow": null,
            "grid_auto_rows": null,
            "grid_column": null,
            "grid_gap": null,
            "grid_row": null,
            "grid_template_areas": null,
            "grid_template_columns": null,
            "grid_template_rows": null,
            "height": null,
            "justify_content": null,
            "justify_items": null,
            "left": null,
            "margin": null,
            "max_height": null,
            "max_width": null,
            "min_height": null,
            "min_width": null,
            "object_fit": null,
            "object_position": null,
            "order": null,
            "overflow": null,
            "overflow_x": null,
            "overflow_y": null,
            "padding": null,
            "right": null,
            "top": null,
            "visibility": null,
            "width": null
          }
        },
        "367c3f5a3a6c4b08a3f27f75b0df06a1": {
          "model_module": "@jupyter-widgets/controls",
          "model_name": "ProgressStyleModel",
          "model_module_version": "1.5.0",
          "state": {
            "_model_module": "@jupyter-widgets/controls",
            "_model_module_version": "1.5.0",
            "_model_name": "ProgressStyleModel",
            "_view_count": null,
            "_view_module": "@jupyter-widgets/base",
            "_view_module_version": "1.2.0",
            "_view_name": "StyleView",
            "bar_color": null,
            "description_width": ""
          }
        },
        "fa58622a28ab4ca9a5fee02418e5b7ab": {
          "model_module": "@jupyter-widgets/controls",
          "model_name": "VBoxModel",
          "model_module_version": "1.5.0",
          "state": {
            "_dom_classes": [],
            "_model_module": "@jupyter-widgets/controls",
            "_model_module_version": "1.5.0",
            "_model_name": "VBoxModel",
            "_view_count": null,
            "_view_module": "@jupyter-widgets/controls",
            "_view_module_version": "1.5.0",
            "_view_name": "VBoxView",
            "box_style": "",
            "children": [
              "IPY_MODEL_e7b8831a83464b47a637711f3642e02b",
              "IPY_MODEL_9aac458e232643c89f3aaaab3484821a"
            ],
            "layout": "IPY_MODEL_6fb5c00d3df84b7c83e7d5e33e121900"
          }
        },
        "e7b8831a83464b47a637711f3642e02b": {
          "model_module": "@jupyter-widgets/controls",
          "model_name": "LabelModel",
          "model_module_version": "1.5.0",
          "state": {
            "_dom_classes": [],
            "_model_module": "@jupyter-widgets/controls",
            "_model_module_version": "1.5.0",
            "_model_name": "LabelModel",
            "_view_count": null,
            "_view_module": "@jupyter-widgets/controls",
            "_view_module_version": "1.5.0",
            "_view_name": "LabelView",
            "description": "",
            "description_tooltip": null,
            "layout": "IPY_MODEL_7e8184ec417b4f0b9aa33a8ad7e06d66",
            "placeholder": "​",
            "style": "IPY_MODEL_0b3b08835ac944fcbdc0fc49966a7d31",
            "value": "0.025 MB of 0.025 MB uploaded\r"
          }
        },
        "9aac458e232643c89f3aaaab3484821a": {
          "model_module": "@jupyter-widgets/controls",
          "model_name": "FloatProgressModel",
          "model_module_version": "1.5.0",
          "state": {
            "_dom_classes": [],
            "_model_module": "@jupyter-widgets/controls",
            "_model_module_version": "1.5.0",
            "_model_name": "FloatProgressModel",
            "_view_count": null,
            "_view_module": "@jupyter-widgets/controls",
            "_view_module_version": "1.5.0",
            "_view_name": "ProgressView",
            "bar_style": "",
            "description": "",
            "description_tooltip": null,
            "layout": "IPY_MODEL_34f5e19fdd05414aa4924aec91901378",
            "max": 1,
            "min": 0,
            "orientation": "horizontal",
            "style": "IPY_MODEL_c3bc605588594265bc48946c1bfdf9f8",
            "value": 1
          }
        },
        "6fb5c00d3df84b7c83e7d5e33e121900": {
          "model_module": "@jupyter-widgets/base",
          "model_name": "LayoutModel",
          "model_module_version": "1.2.0",
          "state": {
            "_model_module": "@jupyter-widgets/base",
            "_model_module_version": "1.2.0",
            "_model_name": "LayoutModel",
            "_view_count": null,
            "_view_module": "@jupyter-widgets/base",
            "_view_module_version": "1.2.0",
            "_view_name": "LayoutView",
            "align_content": null,
            "align_items": null,
            "align_self": null,
            "border": null,
            "bottom": null,
            "display": null,
            "flex": null,
            "flex_flow": null,
            "grid_area": null,
            "grid_auto_columns": null,
            "grid_auto_flow": null,
            "grid_auto_rows": null,
            "grid_column": null,
            "grid_gap": null,
            "grid_row": null,
            "grid_template_areas": null,
            "grid_template_columns": null,
            "grid_template_rows": null,
            "height": null,
            "justify_content": null,
            "justify_items": null,
            "left": null,
            "margin": null,
            "max_height": null,
            "max_width": null,
            "min_height": null,
            "min_width": null,
            "object_fit": null,
            "object_position": null,
            "order": null,
            "overflow": null,
            "overflow_x": null,
            "overflow_y": null,
            "padding": null,
            "right": null,
            "top": null,
            "visibility": null,
            "width": null
          }
        },
        "7e8184ec417b4f0b9aa33a8ad7e06d66": {
          "model_module": "@jupyter-widgets/base",
          "model_name": "LayoutModel",
          "model_module_version": "1.2.0",
          "state": {
            "_model_module": "@jupyter-widgets/base",
            "_model_module_version": "1.2.0",
            "_model_name": "LayoutModel",
            "_view_count": null,
            "_view_module": "@jupyter-widgets/base",
            "_view_module_version": "1.2.0",
            "_view_name": "LayoutView",
            "align_content": null,
            "align_items": null,
            "align_self": null,
            "border": null,
            "bottom": null,
            "display": null,
            "flex": null,
            "flex_flow": null,
            "grid_area": null,
            "grid_auto_columns": null,
            "grid_auto_flow": null,
            "grid_auto_rows": null,
            "grid_column": null,
            "grid_gap": null,
            "grid_row": null,
            "grid_template_areas": null,
            "grid_template_columns": null,
            "grid_template_rows": null,
            "height": null,
            "justify_content": null,
            "justify_items": null,
            "left": null,
            "margin": null,
            "max_height": null,
            "max_width": null,
            "min_height": null,
            "min_width": null,
            "object_fit": null,
            "object_position": null,
            "order": null,
            "overflow": null,
            "overflow_x": null,
            "overflow_y": null,
            "padding": null,
            "right": null,
            "top": null,
            "visibility": null,
            "width": null
          }
        },
        "0b3b08835ac944fcbdc0fc49966a7d31": {
          "model_module": "@jupyter-widgets/controls",
          "model_name": "DescriptionStyleModel",
          "model_module_version": "1.5.0",
          "state": {
            "_model_module": "@jupyter-widgets/controls",
            "_model_module_version": "1.5.0",
            "_model_name": "DescriptionStyleModel",
            "_view_count": null,
            "_view_module": "@jupyter-widgets/base",
            "_view_module_version": "1.2.0",
            "_view_name": "StyleView",
            "description_width": ""
          }
        },
        "34f5e19fdd05414aa4924aec91901378": {
          "model_module": "@jupyter-widgets/base",
          "model_name": "LayoutModel",
          "model_module_version": "1.2.0",
          "state": {
            "_model_module": "@jupyter-widgets/base",
            "_model_module_version": "1.2.0",
            "_model_name": "LayoutModel",
            "_view_count": null,
            "_view_module": "@jupyter-widgets/base",
            "_view_module_version": "1.2.0",
            "_view_name": "LayoutView",
            "align_content": null,
            "align_items": null,
            "align_self": null,
            "border": null,
            "bottom": null,
            "display": null,
            "flex": null,
            "flex_flow": null,
            "grid_area": null,
            "grid_auto_columns": null,
            "grid_auto_flow": null,
            "grid_auto_rows": null,
            "grid_column": null,
            "grid_gap": null,
            "grid_row": null,
            "grid_template_areas": null,
            "grid_template_columns": null,
            "grid_template_rows": null,
            "height": null,
            "justify_content": null,
            "justify_items": null,
            "left": null,
            "margin": null,
            "max_height": null,
            "max_width": null,
            "min_height": null,
            "min_width": null,
            "object_fit": null,
            "object_position": null,
            "order": null,
            "overflow": null,
            "overflow_x": null,
            "overflow_y": null,
            "padding": null,
            "right": null,
            "top": null,
            "visibility": null,
            "width": null
          }
        },
        "c3bc605588594265bc48946c1bfdf9f8": {
          "model_module": "@jupyter-widgets/controls",
          "model_name": "ProgressStyleModel",
          "model_module_version": "1.5.0",
          "state": {
            "_model_module": "@jupyter-widgets/controls",
            "_model_module_version": "1.5.0",
            "_model_name": "ProgressStyleModel",
            "_view_count": null,
            "_view_module": "@jupyter-widgets/base",
            "_view_module_version": "1.2.0",
            "_view_name": "StyleView",
            "bar_color": null,
            "description_width": ""
          }
        },
        "c23b62799c614ac894296950ccbdd878": {
          "model_module": "@jupyter-widgets/controls",
          "model_name": "VBoxModel",
          "model_module_version": "1.5.0",
          "state": {
            "_dom_classes": [],
            "_model_module": "@jupyter-widgets/controls",
            "_model_module_version": "1.5.0",
            "_model_name": "VBoxModel",
            "_view_count": null,
            "_view_module": "@jupyter-widgets/controls",
            "_view_module_version": "1.5.0",
            "_view_name": "VBoxView",
            "box_style": "",
            "children": [
              "IPY_MODEL_5a82d59ed49546f38c1f58dd0340c67b",
              "IPY_MODEL_736c88149c9c4529a25c83d4d94a78c4"
            ],
            "layout": "IPY_MODEL_c8892530b46e4722b8a075b16fdf79cb"
          }
        },
        "5a82d59ed49546f38c1f58dd0340c67b": {
          "model_module": "@jupyter-widgets/controls",
          "model_name": "LabelModel",
          "model_module_version": "1.5.0",
          "state": {
            "_dom_classes": [],
            "_model_module": "@jupyter-widgets/controls",
            "_model_module_version": "1.5.0",
            "_model_name": "LabelModel",
            "_view_count": null,
            "_view_module": "@jupyter-widgets/controls",
            "_view_module_version": "1.5.0",
            "_view_name": "LabelView",
            "description": "",
            "description_tooltip": null,
            "layout": "IPY_MODEL_039a94f897714fbd828bfb549743c3f1",
            "placeholder": "​",
            "style": "IPY_MODEL_a794469e02f74263b375d77f821c4adc",
            "value": "0.025 MB of 0.025 MB uploaded\r"
          }
        },
        "736c88149c9c4529a25c83d4d94a78c4": {
          "model_module": "@jupyter-widgets/controls",
          "model_name": "FloatProgressModel",
          "model_module_version": "1.5.0",
          "state": {
            "_dom_classes": [],
            "_model_module": "@jupyter-widgets/controls",
            "_model_module_version": "1.5.0",
            "_model_name": "FloatProgressModel",
            "_view_count": null,
            "_view_module": "@jupyter-widgets/controls",
            "_view_module_version": "1.5.0",
            "_view_name": "ProgressView",
            "bar_style": "",
            "description": "",
            "description_tooltip": null,
            "layout": "IPY_MODEL_6c4001071c214ba9add6a47d5d65a4b2",
            "max": 1,
            "min": 0,
            "orientation": "horizontal",
            "style": "IPY_MODEL_f54b4a9c75e44423ba2b093e075d9fe3",
            "value": 1
          }
        },
        "c8892530b46e4722b8a075b16fdf79cb": {
          "model_module": "@jupyter-widgets/base",
          "model_name": "LayoutModel",
          "model_module_version": "1.2.0",
          "state": {
            "_model_module": "@jupyter-widgets/base",
            "_model_module_version": "1.2.0",
            "_model_name": "LayoutModel",
            "_view_count": null,
            "_view_module": "@jupyter-widgets/base",
            "_view_module_version": "1.2.0",
            "_view_name": "LayoutView",
            "align_content": null,
            "align_items": null,
            "align_self": null,
            "border": null,
            "bottom": null,
            "display": null,
            "flex": null,
            "flex_flow": null,
            "grid_area": null,
            "grid_auto_columns": null,
            "grid_auto_flow": null,
            "grid_auto_rows": null,
            "grid_column": null,
            "grid_gap": null,
            "grid_row": null,
            "grid_template_areas": null,
            "grid_template_columns": null,
            "grid_template_rows": null,
            "height": null,
            "justify_content": null,
            "justify_items": null,
            "left": null,
            "margin": null,
            "max_height": null,
            "max_width": null,
            "min_height": null,
            "min_width": null,
            "object_fit": null,
            "object_position": null,
            "order": null,
            "overflow": null,
            "overflow_x": null,
            "overflow_y": null,
            "padding": null,
            "right": null,
            "top": null,
            "visibility": null,
            "width": null
          }
        },
        "039a94f897714fbd828bfb549743c3f1": {
          "model_module": "@jupyter-widgets/base",
          "model_name": "LayoutModel",
          "model_module_version": "1.2.0",
          "state": {
            "_model_module": "@jupyter-widgets/base",
            "_model_module_version": "1.2.0",
            "_model_name": "LayoutModel",
            "_view_count": null,
            "_view_module": "@jupyter-widgets/base",
            "_view_module_version": "1.2.0",
            "_view_name": "LayoutView",
            "align_content": null,
            "align_items": null,
            "align_self": null,
            "border": null,
            "bottom": null,
            "display": null,
            "flex": null,
            "flex_flow": null,
            "grid_area": null,
            "grid_auto_columns": null,
            "grid_auto_flow": null,
            "grid_auto_rows": null,
            "grid_column": null,
            "grid_gap": null,
            "grid_row": null,
            "grid_template_areas": null,
            "grid_template_columns": null,
            "grid_template_rows": null,
            "height": null,
            "justify_content": null,
            "justify_items": null,
            "left": null,
            "margin": null,
            "max_height": null,
            "max_width": null,
            "min_height": null,
            "min_width": null,
            "object_fit": null,
            "object_position": null,
            "order": null,
            "overflow": null,
            "overflow_x": null,
            "overflow_y": null,
            "padding": null,
            "right": null,
            "top": null,
            "visibility": null,
            "width": null
          }
        },
        "a794469e02f74263b375d77f821c4adc": {
          "model_module": "@jupyter-widgets/controls",
          "model_name": "DescriptionStyleModel",
          "model_module_version": "1.5.0",
          "state": {
            "_model_module": "@jupyter-widgets/controls",
            "_model_module_version": "1.5.0",
            "_model_name": "DescriptionStyleModel",
            "_view_count": null,
            "_view_module": "@jupyter-widgets/base",
            "_view_module_version": "1.2.0",
            "_view_name": "StyleView",
            "description_width": ""
          }
        },
        "6c4001071c214ba9add6a47d5d65a4b2": {
          "model_module": "@jupyter-widgets/base",
          "model_name": "LayoutModel",
          "model_module_version": "1.2.0",
          "state": {
            "_model_module": "@jupyter-widgets/base",
            "_model_module_version": "1.2.0",
            "_model_name": "LayoutModel",
            "_view_count": null,
            "_view_module": "@jupyter-widgets/base",
            "_view_module_version": "1.2.0",
            "_view_name": "LayoutView",
            "align_content": null,
            "align_items": null,
            "align_self": null,
            "border": null,
            "bottom": null,
            "display": null,
            "flex": null,
            "flex_flow": null,
            "grid_area": null,
            "grid_auto_columns": null,
            "grid_auto_flow": null,
            "grid_auto_rows": null,
            "grid_column": null,
            "grid_gap": null,
            "grid_row": null,
            "grid_template_areas": null,
            "grid_template_columns": null,
            "grid_template_rows": null,
            "height": null,
            "justify_content": null,
            "justify_items": null,
            "left": null,
            "margin": null,
            "max_height": null,
            "max_width": null,
            "min_height": null,
            "min_width": null,
            "object_fit": null,
            "object_position": null,
            "order": null,
            "overflow": null,
            "overflow_x": null,
            "overflow_y": null,
            "padding": null,
            "right": null,
            "top": null,
            "visibility": null,
            "width": null
          }
        },
        "f54b4a9c75e44423ba2b093e075d9fe3": {
          "model_module": "@jupyter-widgets/controls",
          "model_name": "ProgressStyleModel",
          "model_module_version": "1.5.0",
          "state": {
            "_model_module": "@jupyter-widgets/controls",
            "_model_module_version": "1.5.0",
            "_model_name": "ProgressStyleModel",
            "_view_count": null,
            "_view_module": "@jupyter-widgets/base",
            "_view_module_version": "1.2.0",
            "_view_name": "StyleView",
            "bar_color": null,
            "description_width": ""
          }
        },
        "e2f34848fa714fbea23d03ed57269e13": {
          "model_module": "@jupyter-widgets/controls",
          "model_name": "VBoxModel",
          "model_module_version": "1.5.0",
          "state": {
            "_dom_classes": [],
            "_model_module": "@jupyter-widgets/controls",
            "_model_module_version": "1.5.0",
            "_model_name": "VBoxModel",
            "_view_count": null,
            "_view_module": "@jupyter-widgets/controls",
            "_view_module_version": "1.5.0",
            "_view_name": "VBoxView",
            "box_style": "",
            "children": [
              "IPY_MODEL_8f321dd10e63494a83c02921dbb3ee97",
              "IPY_MODEL_dcb39ecfade0407fb06579e964e962a3"
            ],
            "layout": "IPY_MODEL_6548c161f56d4eeb9fdb0c40c7a7f9c1"
          }
        },
        "8f321dd10e63494a83c02921dbb3ee97": {
          "model_module": "@jupyter-widgets/controls",
          "model_name": "LabelModel",
          "model_module_version": "1.5.0",
          "state": {
            "_dom_classes": [],
            "_model_module": "@jupyter-widgets/controls",
            "_model_module_version": "1.5.0",
            "_model_name": "LabelModel",
            "_view_count": null,
            "_view_module": "@jupyter-widgets/controls",
            "_view_module_version": "1.5.0",
            "_view_name": "LabelView",
            "description": "",
            "description_tooltip": null,
            "layout": "IPY_MODEL_fc6d2cc9f5d54852a5a7d781ff260bf4",
            "placeholder": "​",
            "style": "IPY_MODEL_1cf00406030c40ddaa716042983bb8ca",
            "value": "0.025 MB of 0.025 MB uploaded\r"
          }
        },
        "dcb39ecfade0407fb06579e964e962a3": {
          "model_module": "@jupyter-widgets/controls",
          "model_name": "FloatProgressModel",
          "model_module_version": "1.5.0",
          "state": {
            "_dom_classes": [],
            "_model_module": "@jupyter-widgets/controls",
            "_model_module_version": "1.5.0",
            "_model_name": "FloatProgressModel",
            "_view_count": null,
            "_view_module": "@jupyter-widgets/controls",
            "_view_module_version": "1.5.0",
            "_view_name": "ProgressView",
            "bar_style": "",
            "description": "",
            "description_tooltip": null,
            "layout": "IPY_MODEL_1995ac5011474f709c60911f0885817e",
            "max": 1,
            "min": 0,
            "orientation": "horizontal",
            "style": "IPY_MODEL_c212db7132124b679c09289a283b9ff4",
            "value": 1
          }
        },
        "6548c161f56d4eeb9fdb0c40c7a7f9c1": {
          "model_module": "@jupyter-widgets/base",
          "model_name": "LayoutModel",
          "model_module_version": "1.2.0",
          "state": {
            "_model_module": "@jupyter-widgets/base",
            "_model_module_version": "1.2.0",
            "_model_name": "LayoutModel",
            "_view_count": null,
            "_view_module": "@jupyter-widgets/base",
            "_view_module_version": "1.2.0",
            "_view_name": "LayoutView",
            "align_content": null,
            "align_items": null,
            "align_self": null,
            "border": null,
            "bottom": null,
            "display": null,
            "flex": null,
            "flex_flow": null,
            "grid_area": null,
            "grid_auto_columns": null,
            "grid_auto_flow": null,
            "grid_auto_rows": null,
            "grid_column": null,
            "grid_gap": null,
            "grid_row": null,
            "grid_template_areas": null,
            "grid_template_columns": null,
            "grid_template_rows": null,
            "height": null,
            "justify_content": null,
            "justify_items": null,
            "left": null,
            "margin": null,
            "max_height": null,
            "max_width": null,
            "min_height": null,
            "min_width": null,
            "object_fit": null,
            "object_position": null,
            "order": null,
            "overflow": null,
            "overflow_x": null,
            "overflow_y": null,
            "padding": null,
            "right": null,
            "top": null,
            "visibility": null,
            "width": null
          }
        },
        "fc6d2cc9f5d54852a5a7d781ff260bf4": {
          "model_module": "@jupyter-widgets/base",
          "model_name": "LayoutModel",
          "model_module_version": "1.2.0",
          "state": {
            "_model_module": "@jupyter-widgets/base",
            "_model_module_version": "1.2.0",
            "_model_name": "LayoutModel",
            "_view_count": null,
            "_view_module": "@jupyter-widgets/base",
            "_view_module_version": "1.2.0",
            "_view_name": "LayoutView",
            "align_content": null,
            "align_items": null,
            "align_self": null,
            "border": null,
            "bottom": null,
            "display": null,
            "flex": null,
            "flex_flow": null,
            "grid_area": null,
            "grid_auto_columns": null,
            "grid_auto_flow": null,
            "grid_auto_rows": null,
            "grid_column": null,
            "grid_gap": null,
            "grid_row": null,
            "grid_template_areas": null,
            "grid_template_columns": null,
            "grid_template_rows": null,
            "height": null,
            "justify_content": null,
            "justify_items": null,
            "left": null,
            "margin": null,
            "max_height": null,
            "max_width": null,
            "min_height": null,
            "min_width": null,
            "object_fit": null,
            "object_position": null,
            "order": null,
            "overflow": null,
            "overflow_x": null,
            "overflow_y": null,
            "padding": null,
            "right": null,
            "top": null,
            "visibility": null,
            "width": null
          }
        },
        "1cf00406030c40ddaa716042983bb8ca": {
          "model_module": "@jupyter-widgets/controls",
          "model_name": "DescriptionStyleModel",
          "model_module_version": "1.5.0",
          "state": {
            "_model_module": "@jupyter-widgets/controls",
            "_model_module_version": "1.5.0",
            "_model_name": "DescriptionStyleModel",
            "_view_count": null,
            "_view_module": "@jupyter-widgets/base",
            "_view_module_version": "1.2.0",
            "_view_name": "StyleView",
            "description_width": ""
          }
        },
        "1995ac5011474f709c60911f0885817e": {
          "model_module": "@jupyter-widgets/base",
          "model_name": "LayoutModel",
          "model_module_version": "1.2.0",
          "state": {
            "_model_module": "@jupyter-widgets/base",
            "_model_module_version": "1.2.0",
            "_model_name": "LayoutModel",
            "_view_count": null,
            "_view_module": "@jupyter-widgets/base",
            "_view_module_version": "1.2.0",
            "_view_name": "LayoutView",
            "align_content": null,
            "align_items": null,
            "align_self": null,
            "border": null,
            "bottom": null,
            "display": null,
            "flex": null,
            "flex_flow": null,
            "grid_area": null,
            "grid_auto_columns": null,
            "grid_auto_flow": null,
            "grid_auto_rows": null,
            "grid_column": null,
            "grid_gap": null,
            "grid_row": null,
            "grid_template_areas": null,
            "grid_template_columns": null,
            "grid_template_rows": null,
            "height": null,
            "justify_content": null,
            "justify_items": null,
            "left": null,
            "margin": null,
            "max_height": null,
            "max_width": null,
            "min_height": null,
            "min_width": null,
            "object_fit": null,
            "object_position": null,
            "order": null,
            "overflow": null,
            "overflow_x": null,
            "overflow_y": null,
            "padding": null,
            "right": null,
            "top": null,
            "visibility": null,
            "width": null
          }
        },
        "c212db7132124b679c09289a283b9ff4": {
          "model_module": "@jupyter-widgets/controls",
          "model_name": "ProgressStyleModel",
          "model_module_version": "1.5.0",
          "state": {
            "_model_module": "@jupyter-widgets/controls",
            "_model_module_version": "1.5.0",
            "_model_name": "ProgressStyleModel",
            "_view_count": null,
            "_view_module": "@jupyter-widgets/base",
            "_view_module_version": "1.2.0",
            "_view_name": "StyleView",
            "bar_color": null,
            "description_width": ""
          }
        },
        "70330e119f2d484cba670c9ec5702892": {
          "model_module": "@jupyter-widgets/controls",
          "model_name": "VBoxModel",
          "model_module_version": "1.5.0",
          "state": {
            "_dom_classes": [],
            "_model_module": "@jupyter-widgets/controls",
            "_model_module_version": "1.5.0",
            "_model_name": "VBoxModel",
            "_view_count": null,
            "_view_module": "@jupyter-widgets/controls",
            "_view_module_version": "1.5.0",
            "_view_name": "VBoxView",
            "box_style": "",
            "children": [
              "IPY_MODEL_949519a66f054d1187332d3b51798128",
              "IPY_MODEL_2eedb908dc9c4bb7885a21fff4f8558c"
            ],
            "layout": "IPY_MODEL_9125db2c77114c3b81b2f6924f85611b"
          }
        },
        "949519a66f054d1187332d3b51798128": {
          "model_module": "@jupyter-widgets/controls",
          "model_name": "LabelModel",
          "model_module_version": "1.5.0",
          "state": {
            "_dom_classes": [],
            "_model_module": "@jupyter-widgets/controls",
            "_model_module_version": "1.5.0",
            "_model_name": "LabelModel",
            "_view_count": null,
            "_view_module": "@jupyter-widgets/controls",
            "_view_module_version": "1.5.0",
            "_view_name": "LabelView",
            "description": "",
            "description_tooltip": null,
            "layout": "IPY_MODEL_2d1baac7dff54ae4a52f2c748ba77fe1",
            "placeholder": "​",
            "style": "IPY_MODEL_2bc0908d71984b49a018733f116c1b90",
            "value": "0.002 MB of 0.025 MB uploaded\r"
          }
        },
        "2eedb908dc9c4bb7885a21fff4f8558c": {
          "model_module": "@jupyter-widgets/controls",
          "model_name": "FloatProgressModel",
          "model_module_version": "1.5.0",
          "state": {
            "_dom_classes": [],
            "_model_module": "@jupyter-widgets/controls",
            "_model_module_version": "1.5.0",
            "_model_name": "FloatProgressModel",
            "_view_count": null,
            "_view_module": "@jupyter-widgets/controls",
            "_view_module_version": "1.5.0",
            "_view_name": "ProgressView",
            "bar_style": "",
            "description": "",
            "description_tooltip": null,
            "layout": "IPY_MODEL_66d3a2ef172c4e6d9ccd8ac9e0974a77",
            "max": 1,
            "min": 0,
            "orientation": "horizontal",
            "style": "IPY_MODEL_5fe87d039b9b41b9b2d5eaf4a8bbef05",
            "value": 0.08748091603053434
          }
        },
        "9125db2c77114c3b81b2f6924f85611b": {
          "model_module": "@jupyter-widgets/base",
          "model_name": "LayoutModel",
          "model_module_version": "1.2.0",
          "state": {
            "_model_module": "@jupyter-widgets/base",
            "_model_module_version": "1.2.0",
            "_model_name": "LayoutModel",
            "_view_count": null,
            "_view_module": "@jupyter-widgets/base",
            "_view_module_version": "1.2.0",
            "_view_name": "LayoutView",
            "align_content": null,
            "align_items": null,
            "align_self": null,
            "border": null,
            "bottom": null,
            "display": null,
            "flex": null,
            "flex_flow": null,
            "grid_area": null,
            "grid_auto_columns": null,
            "grid_auto_flow": null,
            "grid_auto_rows": null,
            "grid_column": null,
            "grid_gap": null,
            "grid_row": null,
            "grid_template_areas": null,
            "grid_template_columns": null,
            "grid_template_rows": null,
            "height": null,
            "justify_content": null,
            "justify_items": null,
            "left": null,
            "margin": null,
            "max_height": null,
            "max_width": null,
            "min_height": null,
            "min_width": null,
            "object_fit": null,
            "object_position": null,
            "order": null,
            "overflow": null,
            "overflow_x": null,
            "overflow_y": null,
            "padding": null,
            "right": null,
            "top": null,
            "visibility": null,
            "width": null
          }
        },
        "2d1baac7dff54ae4a52f2c748ba77fe1": {
          "model_module": "@jupyter-widgets/base",
          "model_name": "LayoutModel",
          "model_module_version": "1.2.0",
          "state": {
            "_model_module": "@jupyter-widgets/base",
            "_model_module_version": "1.2.0",
            "_model_name": "LayoutModel",
            "_view_count": null,
            "_view_module": "@jupyter-widgets/base",
            "_view_module_version": "1.2.0",
            "_view_name": "LayoutView",
            "align_content": null,
            "align_items": null,
            "align_self": null,
            "border": null,
            "bottom": null,
            "display": null,
            "flex": null,
            "flex_flow": null,
            "grid_area": null,
            "grid_auto_columns": null,
            "grid_auto_flow": null,
            "grid_auto_rows": null,
            "grid_column": null,
            "grid_gap": null,
            "grid_row": null,
            "grid_template_areas": null,
            "grid_template_columns": null,
            "grid_template_rows": null,
            "height": null,
            "justify_content": null,
            "justify_items": null,
            "left": null,
            "margin": null,
            "max_height": null,
            "max_width": null,
            "min_height": null,
            "min_width": null,
            "object_fit": null,
            "object_position": null,
            "order": null,
            "overflow": null,
            "overflow_x": null,
            "overflow_y": null,
            "padding": null,
            "right": null,
            "top": null,
            "visibility": null,
            "width": null
          }
        },
        "2bc0908d71984b49a018733f116c1b90": {
          "model_module": "@jupyter-widgets/controls",
          "model_name": "DescriptionStyleModel",
          "model_module_version": "1.5.0",
          "state": {
            "_model_module": "@jupyter-widgets/controls",
            "_model_module_version": "1.5.0",
            "_model_name": "DescriptionStyleModel",
            "_view_count": null,
            "_view_module": "@jupyter-widgets/base",
            "_view_module_version": "1.2.0",
            "_view_name": "StyleView",
            "description_width": ""
          }
        },
        "66d3a2ef172c4e6d9ccd8ac9e0974a77": {
          "model_module": "@jupyter-widgets/base",
          "model_name": "LayoutModel",
          "model_module_version": "1.2.0",
          "state": {
            "_model_module": "@jupyter-widgets/base",
            "_model_module_version": "1.2.0",
            "_model_name": "LayoutModel",
            "_view_count": null,
            "_view_module": "@jupyter-widgets/base",
            "_view_module_version": "1.2.0",
            "_view_name": "LayoutView",
            "align_content": null,
            "align_items": null,
            "align_self": null,
            "border": null,
            "bottom": null,
            "display": null,
            "flex": null,
            "flex_flow": null,
            "grid_area": null,
            "grid_auto_columns": null,
            "grid_auto_flow": null,
            "grid_auto_rows": null,
            "grid_column": null,
            "grid_gap": null,
            "grid_row": null,
            "grid_template_areas": null,
            "grid_template_columns": null,
            "grid_template_rows": null,
            "height": null,
            "justify_content": null,
            "justify_items": null,
            "left": null,
            "margin": null,
            "max_height": null,
            "max_width": null,
            "min_height": null,
            "min_width": null,
            "object_fit": null,
            "object_position": null,
            "order": null,
            "overflow": null,
            "overflow_x": null,
            "overflow_y": null,
            "padding": null,
            "right": null,
            "top": null,
            "visibility": null,
            "width": null
          }
        },
        "5fe87d039b9b41b9b2d5eaf4a8bbef05": {
          "model_module": "@jupyter-widgets/controls",
          "model_name": "ProgressStyleModel",
          "model_module_version": "1.5.0",
          "state": {
            "_model_module": "@jupyter-widgets/controls",
            "_model_module_version": "1.5.0",
            "_model_name": "ProgressStyleModel",
            "_view_count": null,
            "_view_module": "@jupyter-widgets/base",
            "_view_module_version": "1.2.0",
            "_view_name": "StyleView",
            "bar_color": null,
            "description_width": ""
          }
        },
        "37ccc62415f2429c9660756fdca0faec": {
          "model_module": "@jupyter-widgets/controls",
          "model_name": "VBoxModel",
          "model_module_version": "1.5.0",
          "state": {
            "_dom_classes": [],
            "_model_module": "@jupyter-widgets/controls",
            "_model_module_version": "1.5.0",
            "_model_name": "VBoxModel",
            "_view_count": null,
            "_view_module": "@jupyter-widgets/controls",
            "_view_module_version": "1.5.0",
            "_view_name": "VBoxView",
            "box_style": "",
            "children": [
              "IPY_MODEL_2c8331fd47814ff7bbcc53f664cd003f",
              "IPY_MODEL_33546059766a4ff99b0a754c95c2d26d"
            ],
            "layout": "IPY_MODEL_eb1e8f3d38ad41ab8b6dee42856f8cdc"
          }
        },
        "2c8331fd47814ff7bbcc53f664cd003f": {
          "model_module": "@jupyter-widgets/controls",
          "model_name": "LabelModel",
          "model_module_version": "1.5.0",
          "state": {
            "_dom_classes": [],
            "_model_module": "@jupyter-widgets/controls",
            "_model_module_version": "1.5.0",
            "_model_name": "LabelModel",
            "_view_count": null,
            "_view_module": "@jupyter-widgets/controls",
            "_view_module_version": "1.5.0",
            "_view_name": "LabelView",
            "description": "",
            "description_tooltip": null,
            "layout": "IPY_MODEL_0eb95e76cd794511b443e780b9765031",
            "placeholder": "​",
            "style": "IPY_MODEL_3a5f661e51694a6d87ee1315c9a3aaaa",
            "value": "0.025 MB of 0.025 MB uploaded\r"
          }
        },
        "33546059766a4ff99b0a754c95c2d26d": {
          "model_module": "@jupyter-widgets/controls",
          "model_name": "FloatProgressModel",
          "model_module_version": "1.5.0",
          "state": {
            "_dom_classes": [],
            "_model_module": "@jupyter-widgets/controls",
            "_model_module_version": "1.5.0",
            "_model_name": "FloatProgressModel",
            "_view_count": null,
            "_view_module": "@jupyter-widgets/controls",
            "_view_module_version": "1.5.0",
            "_view_name": "ProgressView",
            "bar_style": "",
            "description": "",
            "description_tooltip": null,
            "layout": "IPY_MODEL_1c877b83ae4749c38c2ea728586c4313",
            "max": 1,
            "min": 0,
            "orientation": "horizontal",
            "style": "IPY_MODEL_d31abf0f9d514090a113f6ee746b8cb8",
            "value": 1
          }
        },
        "eb1e8f3d38ad41ab8b6dee42856f8cdc": {
          "model_module": "@jupyter-widgets/base",
          "model_name": "LayoutModel",
          "model_module_version": "1.2.0",
          "state": {
            "_model_module": "@jupyter-widgets/base",
            "_model_module_version": "1.2.0",
            "_model_name": "LayoutModel",
            "_view_count": null,
            "_view_module": "@jupyter-widgets/base",
            "_view_module_version": "1.2.0",
            "_view_name": "LayoutView",
            "align_content": null,
            "align_items": null,
            "align_self": null,
            "border": null,
            "bottom": null,
            "display": null,
            "flex": null,
            "flex_flow": null,
            "grid_area": null,
            "grid_auto_columns": null,
            "grid_auto_flow": null,
            "grid_auto_rows": null,
            "grid_column": null,
            "grid_gap": null,
            "grid_row": null,
            "grid_template_areas": null,
            "grid_template_columns": null,
            "grid_template_rows": null,
            "height": null,
            "justify_content": null,
            "justify_items": null,
            "left": null,
            "margin": null,
            "max_height": null,
            "max_width": null,
            "min_height": null,
            "min_width": null,
            "object_fit": null,
            "object_position": null,
            "order": null,
            "overflow": null,
            "overflow_x": null,
            "overflow_y": null,
            "padding": null,
            "right": null,
            "top": null,
            "visibility": null,
            "width": null
          }
        },
        "0eb95e76cd794511b443e780b9765031": {
          "model_module": "@jupyter-widgets/base",
          "model_name": "LayoutModel",
          "model_module_version": "1.2.0",
          "state": {
            "_model_module": "@jupyter-widgets/base",
            "_model_module_version": "1.2.0",
            "_model_name": "LayoutModel",
            "_view_count": null,
            "_view_module": "@jupyter-widgets/base",
            "_view_module_version": "1.2.0",
            "_view_name": "LayoutView",
            "align_content": null,
            "align_items": null,
            "align_self": null,
            "border": null,
            "bottom": null,
            "display": null,
            "flex": null,
            "flex_flow": null,
            "grid_area": null,
            "grid_auto_columns": null,
            "grid_auto_flow": null,
            "grid_auto_rows": null,
            "grid_column": null,
            "grid_gap": null,
            "grid_row": null,
            "grid_template_areas": null,
            "grid_template_columns": null,
            "grid_template_rows": null,
            "height": null,
            "justify_content": null,
            "justify_items": null,
            "left": null,
            "margin": null,
            "max_height": null,
            "max_width": null,
            "min_height": null,
            "min_width": null,
            "object_fit": null,
            "object_position": null,
            "order": null,
            "overflow": null,
            "overflow_x": null,
            "overflow_y": null,
            "padding": null,
            "right": null,
            "top": null,
            "visibility": null,
            "width": null
          }
        },
        "3a5f661e51694a6d87ee1315c9a3aaaa": {
          "model_module": "@jupyter-widgets/controls",
          "model_name": "DescriptionStyleModel",
          "model_module_version": "1.5.0",
          "state": {
            "_model_module": "@jupyter-widgets/controls",
            "_model_module_version": "1.5.0",
            "_model_name": "DescriptionStyleModel",
            "_view_count": null,
            "_view_module": "@jupyter-widgets/base",
            "_view_module_version": "1.2.0",
            "_view_name": "StyleView",
            "description_width": ""
          }
        },
        "1c877b83ae4749c38c2ea728586c4313": {
          "model_module": "@jupyter-widgets/base",
          "model_name": "LayoutModel",
          "model_module_version": "1.2.0",
          "state": {
            "_model_module": "@jupyter-widgets/base",
            "_model_module_version": "1.2.0",
            "_model_name": "LayoutModel",
            "_view_count": null,
            "_view_module": "@jupyter-widgets/base",
            "_view_module_version": "1.2.0",
            "_view_name": "LayoutView",
            "align_content": null,
            "align_items": null,
            "align_self": null,
            "border": null,
            "bottom": null,
            "display": null,
            "flex": null,
            "flex_flow": null,
            "grid_area": null,
            "grid_auto_columns": null,
            "grid_auto_flow": null,
            "grid_auto_rows": null,
            "grid_column": null,
            "grid_gap": null,
            "grid_row": null,
            "grid_template_areas": null,
            "grid_template_columns": null,
            "grid_template_rows": null,
            "height": null,
            "justify_content": null,
            "justify_items": null,
            "left": null,
            "margin": null,
            "max_height": null,
            "max_width": null,
            "min_height": null,
            "min_width": null,
            "object_fit": null,
            "object_position": null,
            "order": null,
            "overflow": null,
            "overflow_x": null,
            "overflow_y": null,
            "padding": null,
            "right": null,
            "top": null,
            "visibility": null,
            "width": null
          }
        },
        "d31abf0f9d514090a113f6ee746b8cb8": {
          "model_module": "@jupyter-widgets/controls",
          "model_name": "ProgressStyleModel",
          "model_module_version": "1.5.0",
          "state": {
            "_model_module": "@jupyter-widgets/controls",
            "_model_module_version": "1.5.0",
            "_model_name": "ProgressStyleModel",
            "_view_count": null,
            "_view_module": "@jupyter-widgets/base",
            "_view_module_version": "1.2.0",
            "_view_name": "StyleView",
            "bar_color": null,
            "description_width": ""
          }
        },
        "ee8fb1ed312449c3a9eac9cb0d273866": {
          "model_module": "@jupyter-widgets/controls",
          "model_name": "VBoxModel",
          "model_module_version": "1.5.0",
          "state": {
            "_dom_classes": [],
            "_model_module": "@jupyter-widgets/controls",
            "_model_module_version": "1.5.0",
            "_model_name": "VBoxModel",
            "_view_count": null,
            "_view_module": "@jupyter-widgets/controls",
            "_view_module_version": "1.5.0",
            "_view_name": "VBoxView",
            "box_style": "",
            "children": [
              "IPY_MODEL_e63a7d6cc46b411088e870a5da6d8cff",
              "IPY_MODEL_5aa48ba7ad7d484a8ab7ecfdcf832e76"
            ],
            "layout": "IPY_MODEL_16da14ba233d48a79a644cbbafc28d99"
          }
        },
        "e63a7d6cc46b411088e870a5da6d8cff": {
          "model_module": "@jupyter-widgets/controls",
          "model_name": "LabelModel",
          "model_module_version": "1.5.0",
          "state": {
            "_dom_classes": [],
            "_model_module": "@jupyter-widgets/controls",
            "_model_module_version": "1.5.0",
            "_model_name": "LabelModel",
            "_view_count": null,
            "_view_module": "@jupyter-widgets/controls",
            "_view_module_version": "1.5.0",
            "_view_name": "LabelView",
            "description": "",
            "description_tooltip": null,
            "layout": "IPY_MODEL_06d2469ba04447d4b35ebf1714033535",
            "placeholder": "​",
            "style": "IPY_MODEL_75790225558543a79e54e6faaa9880fa",
            "value": "0.025 MB of 0.025 MB uploaded\r"
          }
        },
        "5aa48ba7ad7d484a8ab7ecfdcf832e76": {
          "model_module": "@jupyter-widgets/controls",
          "model_name": "FloatProgressModel",
          "model_module_version": "1.5.0",
          "state": {
            "_dom_classes": [],
            "_model_module": "@jupyter-widgets/controls",
            "_model_module_version": "1.5.0",
            "_model_name": "FloatProgressModel",
            "_view_count": null,
            "_view_module": "@jupyter-widgets/controls",
            "_view_module_version": "1.5.0",
            "_view_name": "ProgressView",
            "bar_style": "",
            "description": "",
            "description_tooltip": null,
            "layout": "IPY_MODEL_f6c8accbfa454618928b761f16988a8f",
            "max": 1,
            "min": 0,
            "orientation": "horizontal",
            "style": "IPY_MODEL_ef09e86e863d4d8b97d45ed923589966",
            "value": 1
          }
        },
        "16da14ba233d48a79a644cbbafc28d99": {
          "model_module": "@jupyter-widgets/base",
          "model_name": "LayoutModel",
          "model_module_version": "1.2.0",
          "state": {
            "_model_module": "@jupyter-widgets/base",
            "_model_module_version": "1.2.0",
            "_model_name": "LayoutModel",
            "_view_count": null,
            "_view_module": "@jupyter-widgets/base",
            "_view_module_version": "1.2.0",
            "_view_name": "LayoutView",
            "align_content": null,
            "align_items": null,
            "align_self": null,
            "border": null,
            "bottom": null,
            "display": null,
            "flex": null,
            "flex_flow": null,
            "grid_area": null,
            "grid_auto_columns": null,
            "grid_auto_flow": null,
            "grid_auto_rows": null,
            "grid_column": null,
            "grid_gap": null,
            "grid_row": null,
            "grid_template_areas": null,
            "grid_template_columns": null,
            "grid_template_rows": null,
            "height": null,
            "justify_content": null,
            "justify_items": null,
            "left": null,
            "margin": null,
            "max_height": null,
            "max_width": null,
            "min_height": null,
            "min_width": null,
            "object_fit": null,
            "object_position": null,
            "order": null,
            "overflow": null,
            "overflow_x": null,
            "overflow_y": null,
            "padding": null,
            "right": null,
            "top": null,
            "visibility": null,
            "width": null
          }
        },
        "06d2469ba04447d4b35ebf1714033535": {
          "model_module": "@jupyter-widgets/base",
          "model_name": "LayoutModel",
          "model_module_version": "1.2.0",
          "state": {
            "_model_module": "@jupyter-widgets/base",
            "_model_module_version": "1.2.0",
            "_model_name": "LayoutModel",
            "_view_count": null,
            "_view_module": "@jupyter-widgets/base",
            "_view_module_version": "1.2.0",
            "_view_name": "LayoutView",
            "align_content": null,
            "align_items": null,
            "align_self": null,
            "border": null,
            "bottom": null,
            "display": null,
            "flex": null,
            "flex_flow": null,
            "grid_area": null,
            "grid_auto_columns": null,
            "grid_auto_flow": null,
            "grid_auto_rows": null,
            "grid_column": null,
            "grid_gap": null,
            "grid_row": null,
            "grid_template_areas": null,
            "grid_template_columns": null,
            "grid_template_rows": null,
            "height": null,
            "justify_content": null,
            "justify_items": null,
            "left": null,
            "margin": null,
            "max_height": null,
            "max_width": null,
            "min_height": null,
            "min_width": null,
            "object_fit": null,
            "object_position": null,
            "order": null,
            "overflow": null,
            "overflow_x": null,
            "overflow_y": null,
            "padding": null,
            "right": null,
            "top": null,
            "visibility": null,
            "width": null
          }
        },
        "75790225558543a79e54e6faaa9880fa": {
          "model_module": "@jupyter-widgets/controls",
          "model_name": "DescriptionStyleModel",
          "model_module_version": "1.5.0",
          "state": {
            "_model_module": "@jupyter-widgets/controls",
            "_model_module_version": "1.5.0",
            "_model_name": "DescriptionStyleModel",
            "_view_count": null,
            "_view_module": "@jupyter-widgets/base",
            "_view_module_version": "1.2.0",
            "_view_name": "StyleView",
            "description_width": ""
          }
        },
        "f6c8accbfa454618928b761f16988a8f": {
          "model_module": "@jupyter-widgets/base",
          "model_name": "LayoutModel",
          "model_module_version": "1.2.0",
          "state": {
            "_model_module": "@jupyter-widgets/base",
            "_model_module_version": "1.2.0",
            "_model_name": "LayoutModel",
            "_view_count": null,
            "_view_module": "@jupyter-widgets/base",
            "_view_module_version": "1.2.0",
            "_view_name": "LayoutView",
            "align_content": null,
            "align_items": null,
            "align_self": null,
            "border": null,
            "bottom": null,
            "display": null,
            "flex": null,
            "flex_flow": null,
            "grid_area": null,
            "grid_auto_columns": null,
            "grid_auto_flow": null,
            "grid_auto_rows": null,
            "grid_column": null,
            "grid_gap": null,
            "grid_row": null,
            "grid_template_areas": null,
            "grid_template_columns": null,
            "grid_template_rows": null,
            "height": null,
            "justify_content": null,
            "justify_items": null,
            "left": null,
            "margin": null,
            "max_height": null,
            "max_width": null,
            "min_height": null,
            "min_width": null,
            "object_fit": null,
            "object_position": null,
            "order": null,
            "overflow": null,
            "overflow_x": null,
            "overflow_y": null,
            "padding": null,
            "right": null,
            "top": null,
            "visibility": null,
            "width": null
          }
        },
        "ef09e86e863d4d8b97d45ed923589966": {
          "model_module": "@jupyter-widgets/controls",
          "model_name": "ProgressStyleModel",
          "model_module_version": "1.5.0",
          "state": {
            "_model_module": "@jupyter-widgets/controls",
            "_model_module_version": "1.5.0",
            "_model_name": "ProgressStyleModel",
            "_view_count": null,
            "_view_module": "@jupyter-widgets/base",
            "_view_module_version": "1.2.0",
            "_view_name": "StyleView",
            "bar_color": null,
            "description_width": ""
          }
        },
        "e34688792b044103b2f64a50204a9bb2": {
          "model_module": "@jupyter-widgets/controls",
          "model_name": "VBoxModel",
          "model_module_version": "1.5.0",
          "state": {
            "_dom_classes": [],
            "_model_module": "@jupyter-widgets/controls",
            "_model_module_version": "1.5.0",
            "_model_name": "VBoxModel",
            "_view_count": null,
            "_view_module": "@jupyter-widgets/controls",
            "_view_module_version": "1.5.0",
            "_view_name": "VBoxView",
            "box_style": "",
            "children": [
              "IPY_MODEL_e005560ef52941c29ad36b36ba7f85d5",
              "IPY_MODEL_c5822688759243a98f6aadcd5f3893ee"
            ],
            "layout": "IPY_MODEL_d71c94ef558144c9b44a14f02cc89c03"
          }
        },
        "e005560ef52941c29ad36b36ba7f85d5": {
          "model_module": "@jupyter-widgets/controls",
          "model_name": "LabelModel",
          "model_module_version": "1.5.0",
          "state": {
            "_dom_classes": [],
            "_model_module": "@jupyter-widgets/controls",
            "_model_module_version": "1.5.0",
            "_model_name": "LabelModel",
            "_view_count": null,
            "_view_module": "@jupyter-widgets/controls",
            "_view_module_version": "1.5.0",
            "_view_name": "LabelView",
            "description": "",
            "description_tooltip": null,
            "layout": "IPY_MODEL_36526d29933c486c87ffb8b269564815",
            "placeholder": "​",
            "style": "IPY_MODEL_8ccaaa1b50fc4af6b4053cdc25157520",
            "value": "0.025 MB of 0.025 MB uploaded\r"
          }
        },
        "c5822688759243a98f6aadcd5f3893ee": {
          "model_module": "@jupyter-widgets/controls",
          "model_name": "FloatProgressModel",
          "model_module_version": "1.5.0",
          "state": {
            "_dom_classes": [],
            "_model_module": "@jupyter-widgets/controls",
            "_model_module_version": "1.5.0",
            "_model_name": "FloatProgressModel",
            "_view_count": null,
            "_view_module": "@jupyter-widgets/controls",
            "_view_module_version": "1.5.0",
            "_view_name": "ProgressView",
            "bar_style": "",
            "description": "",
            "description_tooltip": null,
            "layout": "IPY_MODEL_e0146b1d2b9e4779b5da066c2de7acb6",
            "max": 1,
            "min": 0,
            "orientation": "horizontal",
            "style": "IPY_MODEL_f2a4302d88434b1fa4a67bf087f504c0",
            "value": 1
          }
        },
        "d71c94ef558144c9b44a14f02cc89c03": {
          "model_module": "@jupyter-widgets/base",
          "model_name": "LayoutModel",
          "model_module_version": "1.2.0",
          "state": {
            "_model_module": "@jupyter-widgets/base",
            "_model_module_version": "1.2.0",
            "_model_name": "LayoutModel",
            "_view_count": null,
            "_view_module": "@jupyter-widgets/base",
            "_view_module_version": "1.2.0",
            "_view_name": "LayoutView",
            "align_content": null,
            "align_items": null,
            "align_self": null,
            "border": null,
            "bottom": null,
            "display": null,
            "flex": null,
            "flex_flow": null,
            "grid_area": null,
            "grid_auto_columns": null,
            "grid_auto_flow": null,
            "grid_auto_rows": null,
            "grid_column": null,
            "grid_gap": null,
            "grid_row": null,
            "grid_template_areas": null,
            "grid_template_columns": null,
            "grid_template_rows": null,
            "height": null,
            "justify_content": null,
            "justify_items": null,
            "left": null,
            "margin": null,
            "max_height": null,
            "max_width": null,
            "min_height": null,
            "min_width": null,
            "object_fit": null,
            "object_position": null,
            "order": null,
            "overflow": null,
            "overflow_x": null,
            "overflow_y": null,
            "padding": null,
            "right": null,
            "top": null,
            "visibility": null,
            "width": null
          }
        },
        "36526d29933c486c87ffb8b269564815": {
          "model_module": "@jupyter-widgets/base",
          "model_name": "LayoutModel",
          "model_module_version": "1.2.0",
          "state": {
            "_model_module": "@jupyter-widgets/base",
            "_model_module_version": "1.2.0",
            "_model_name": "LayoutModel",
            "_view_count": null,
            "_view_module": "@jupyter-widgets/base",
            "_view_module_version": "1.2.0",
            "_view_name": "LayoutView",
            "align_content": null,
            "align_items": null,
            "align_self": null,
            "border": null,
            "bottom": null,
            "display": null,
            "flex": null,
            "flex_flow": null,
            "grid_area": null,
            "grid_auto_columns": null,
            "grid_auto_flow": null,
            "grid_auto_rows": null,
            "grid_column": null,
            "grid_gap": null,
            "grid_row": null,
            "grid_template_areas": null,
            "grid_template_columns": null,
            "grid_template_rows": null,
            "height": null,
            "justify_content": null,
            "justify_items": null,
            "left": null,
            "margin": null,
            "max_height": null,
            "max_width": null,
            "min_height": null,
            "min_width": null,
            "object_fit": null,
            "object_position": null,
            "order": null,
            "overflow": null,
            "overflow_x": null,
            "overflow_y": null,
            "padding": null,
            "right": null,
            "top": null,
            "visibility": null,
            "width": null
          }
        },
        "8ccaaa1b50fc4af6b4053cdc25157520": {
          "model_module": "@jupyter-widgets/controls",
          "model_name": "DescriptionStyleModel",
          "model_module_version": "1.5.0",
          "state": {
            "_model_module": "@jupyter-widgets/controls",
            "_model_module_version": "1.5.0",
            "_model_name": "DescriptionStyleModel",
            "_view_count": null,
            "_view_module": "@jupyter-widgets/base",
            "_view_module_version": "1.2.0",
            "_view_name": "StyleView",
            "description_width": ""
          }
        },
        "e0146b1d2b9e4779b5da066c2de7acb6": {
          "model_module": "@jupyter-widgets/base",
          "model_name": "LayoutModel",
          "model_module_version": "1.2.0",
          "state": {
            "_model_module": "@jupyter-widgets/base",
            "_model_module_version": "1.2.0",
            "_model_name": "LayoutModel",
            "_view_count": null,
            "_view_module": "@jupyter-widgets/base",
            "_view_module_version": "1.2.0",
            "_view_name": "LayoutView",
            "align_content": null,
            "align_items": null,
            "align_self": null,
            "border": null,
            "bottom": null,
            "display": null,
            "flex": null,
            "flex_flow": null,
            "grid_area": null,
            "grid_auto_columns": null,
            "grid_auto_flow": null,
            "grid_auto_rows": null,
            "grid_column": null,
            "grid_gap": null,
            "grid_row": null,
            "grid_template_areas": null,
            "grid_template_columns": null,
            "grid_template_rows": null,
            "height": null,
            "justify_content": null,
            "justify_items": null,
            "left": null,
            "margin": null,
            "max_height": null,
            "max_width": null,
            "min_height": null,
            "min_width": null,
            "object_fit": null,
            "object_position": null,
            "order": null,
            "overflow": null,
            "overflow_x": null,
            "overflow_y": null,
            "padding": null,
            "right": null,
            "top": null,
            "visibility": null,
            "width": null
          }
        },
        "f2a4302d88434b1fa4a67bf087f504c0": {
          "model_module": "@jupyter-widgets/controls",
          "model_name": "ProgressStyleModel",
          "model_module_version": "1.5.0",
          "state": {
            "_model_module": "@jupyter-widgets/controls",
            "_model_module_version": "1.5.0",
            "_model_name": "ProgressStyleModel",
            "_view_count": null,
            "_view_module": "@jupyter-widgets/base",
            "_view_module_version": "1.2.0",
            "_view_name": "StyleView",
            "bar_color": null,
            "description_width": ""
          }
        },
        "bb9e3bd4b17d41cfbfc8fa45126f4760": {
          "model_module": "@jupyter-widgets/controls",
          "model_name": "VBoxModel",
          "model_module_version": "1.5.0",
          "state": {
            "_dom_classes": [],
            "_model_module": "@jupyter-widgets/controls",
            "_model_module_version": "1.5.0",
            "_model_name": "VBoxModel",
            "_view_count": null,
            "_view_module": "@jupyter-widgets/controls",
            "_view_module_version": "1.5.0",
            "_view_name": "VBoxView",
            "box_style": "",
            "children": [
              "IPY_MODEL_7704f13af590418d92c887a789311444",
              "IPY_MODEL_7cfb5f72c87f4faf807a97ba95a72913"
            ],
            "layout": "IPY_MODEL_934b861988124e0caba249cfe2eb77b0"
          }
        },
        "7704f13af590418d92c887a789311444": {
          "model_module": "@jupyter-widgets/controls",
          "model_name": "LabelModel",
          "model_module_version": "1.5.0",
          "state": {
            "_dom_classes": [],
            "_model_module": "@jupyter-widgets/controls",
            "_model_module_version": "1.5.0",
            "_model_name": "LabelModel",
            "_view_count": null,
            "_view_module": "@jupyter-widgets/controls",
            "_view_module_version": "1.5.0",
            "_view_name": "LabelView",
            "description": "",
            "description_tooltip": null,
            "layout": "IPY_MODEL_1796d2c857cb4ed396d9d54a15afff09",
            "placeholder": "​",
            "style": "IPY_MODEL_96b318ee1d75408d89a1bb1f3d2a433d",
            "value": "0.025 MB of 0.025 MB uploaded\r"
          }
        },
        "7cfb5f72c87f4faf807a97ba95a72913": {
          "model_module": "@jupyter-widgets/controls",
          "model_name": "FloatProgressModel",
          "model_module_version": "1.5.0",
          "state": {
            "_dom_classes": [],
            "_model_module": "@jupyter-widgets/controls",
            "_model_module_version": "1.5.0",
            "_model_name": "FloatProgressModel",
            "_view_count": null,
            "_view_module": "@jupyter-widgets/controls",
            "_view_module_version": "1.5.0",
            "_view_name": "ProgressView",
            "bar_style": "",
            "description": "",
            "description_tooltip": null,
            "layout": "IPY_MODEL_5208bc81d3114402a2e7f8b6ae6f3e20",
            "max": 1,
            "min": 0,
            "orientation": "horizontal",
            "style": "IPY_MODEL_ffe1452fdf8743e4847fd3f805762cf6",
            "value": 1
          }
        },
        "934b861988124e0caba249cfe2eb77b0": {
          "model_module": "@jupyter-widgets/base",
          "model_name": "LayoutModel",
          "model_module_version": "1.2.0",
          "state": {
            "_model_module": "@jupyter-widgets/base",
            "_model_module_version": "1.2.0",
            "_model_name": "LayoutModel",
            "_view_count": null,
            "_view_module": "@jupyter-widgets/base",
            "_view_module_version": "1.2.0",
            "_view_name": "LayoutView",
            "align_content": null,
            "align_items": null,
            "align_self": null,
            "border": null,
            "bottom": null,
            "display": null,
            "flex": null,
            "flex_flow": null,
            "grid_area": null,
            "grid_auto_columns": null,
            "grid_auto_flow": null,
            "grid_auto_rows": null,
            "grid_column": null,
            "grid_gap": null,
            "grid_row": null,
            "grid_template_areas": null,
            "grid_template_columns": null,
            "grid_template_rows": null,
            "height": null,
            "justify_content": null,
            "justify_items": null,
            "left": null,
            "margin": null,
            "max_height": null,
            "max_width": null,
            "min_height": null,
            "min_width": null,
            "object_fit": null,
            "object_position": null,
            "order": null,
            "overflow": null,
            "overflow_x": null,
            "overflow_y": null,
            "padding": null,
            "right": null,
            "top": null,
            "visibility": null,
            "width": null
          }
        },
        "1796d2c857cb4ed396d9d54a15afff09": {
          "model_module": "@jupyter-widgets/base",
          "model_name": "LayoutModel",
          "model_module_version": "1.2.0",
          "state": {
            "_model_module": "@jupyter-widgets/base",
            "_model_module_version": "1.2.0",
            "_model_name": "LayoutModel",
            "_view_count": null,
            "_view_module": "@jupyter-widgets/base",
            "_view_module_version": "1.2.0",
            "_view_name": "LayoutView",
            "align_content": null,
            "align_items": null,
            "align_self": null,
            "border": null,
            "bottom": null,
            "display": null,
            "flex": null,
            "flex_flow": null,
            "grid_area": null,
            "grid_auto_columns": null,
            "grid_auto_flow": null,
            "grid_auto_rows": null,
            "grid_column": null,
            "grid_gap": null,
            "grid_row": null,
            "grid_template_areas": null,
            "grid_template_columns": null,
            "grid_template_rows": null,
            "height": null,
            "justify_content": null,
            "justify_items": null,
            "left": null,
            "margin": null,
            "max_height": null,
            "max_width": null,
            "min_height": null,
            "min_width": null,
            "object_fit": null,
            "object_position": null,
            "order": null,
            "overflow": null,
            "overflow_x": null,
            "overflow_y": null,
            "padding": null,
            "right": null,
            "top": null,
            "visibility": null,
            "width": null
          }
        },
        "96b318ee1d75408d89a1bb1f3d2a433d": {
          "model_module": "@jupyter-widgets/controls",
          "model_name": "DescriptionStyleModel",
          "model_module_version": "1.5.0",
          "state": {
            "_model_module": "@jupyter-widgets/controls",
            "_model_module_version": "1.5.0",
            "_model_name": "DescriptionStyleModel",
            "_view_count": null,
            "_view_module": "@jupyter-widgets/base",
            "_view_module_version": "1.2.0",
            "_view_name": "StyleView",
            "description_width": ""
          }
        },
        "5208bc81d3114402a2e7f8b6ae6f3e20": {
          "model_module": "@jupyter-widgets/base",
          "model_name": "LayoutModel",
          "model_module_version": "1.2.0",
          "state": {
            "_model_module": "@jupyter-widgets/base",
            "_model_module_version": "1.2.0",
            "_model_name": "LayoutModel",
            "_view_count": null,
            "_view_module": "@jupyter-widgets/base",
            "_view_module_version": "1.2.0",
            "_view_name": "LayoutView",
            "align_content": null,
            "align_items": null,
            "align_self": null,
            "border": null,
            "bottom": null,
            "display": null,
            "flex": null,
            "flex_flow": null,
            "grid_area": null,
            "grid_auto_columns": null,
            "grid_auto_flow": null,
            "grid_auto_rows": null,
            "grid_column": null,
            "grid_gap": null,
            "grid_row": null,
            "grid_template_areas": null,
            "grid_template_columns": null,
            "grid_template_rows": null,
            "height": null,
            "justify_content": null,
            "justify_items": null,
            "left": null,
            "margin": null,
            "max_height": null,
            "max_width": null,
            "min_height": null,
            "min_width": null,
            "object_fit": null,
            "object_position": null,
            "order": null,
            "overflow": null,
            "overflow_x": null,
            "overflow_y": null,
            "padding": null,
            "right": null,
            "top": null,
            "visibility": null,
            "width": null
          }
        },
        "ffe1452fdf8743e4847fd3f805762cf6": {
          "model_module": "@jupyter-widgets/controls",
          "model_name": "ProgressStyleModel",
          "model_module_version": "1.5.0",
          "state": {
            "_model_module": "@jupyter-widgets/controls",
            "_model_module_version": "1.5.0",
            "_model_name": "ProgressStyleModel",
            "_view_count": null,
            "_view_module": "@jupyter-widgets/base",
            "_view_module_version": "1.2.0",
            "_view_name": "StyleView",
            "bar_color": null,
            "description_width": ""
          }
        },
        "4548cdbc4c7647c8842b43761ff4bf7e": {
          "model_module": "@jupyter-widgets/controls",
          "model_name": "VBoxModel",
          "model_module_version": "1.5.0",
          "state": {
            "_dom_classes": [],
            "_model_module": "@jupyter-widgets/controls",
            "_model_module_version": "1.5.0",
            "_model_name": "VBoxModel",
            "_view_count": null,
            "_view_module": "@jupyter-widgets/controls",
            "_view_module_version": "1.5.0",
            "_view_name": "VBoxView",
            "box_style": "",
            "children": [
              "IPY_MODEL_e892e696d42b47ef8cabcfe49507833f",
              "IPY_MODEL_90c2731aceb045a49297692c11c0555b"
            ],
            "layout": "IPY_MODEL_959f397f28274f59b731e63cf2ac9c9f"
          }
        },
        "e892e696d42b47ef8cabcfe49507833f": {
          "model_module": "@jupyter-widgets/controls",
          "model_name": "LabelModel",
          "model_module_version": "1.5.0",
          "state": {
            "_dom_classes": [],
            "_model_module": "@jupyter-widgets/controls",
            "_model_module_version": "1.5.0",
            "_model_name": "LabelModel",
            "_view_count": null,
            "_view_module": "@jupyter-widgets/controls",
            "_view_module_version": "1.5.0",
            "_view_name": "LabelView",
            "description": "",
            "description_tooltip": null,
            "layout": "IPY_MODEL_d0e3b35eff2d448e86f9b2bbf6eb82e8",
            "placeholder": "​",
            "style": "IPY_MODEL_5b209d9beced4b99b4a6492ce78f7a9d",
            "value": "0.025 MB of 0.025 MB uploaded\r"
          }
        },
        "90c2731aceb045a49297692c11c0555b": {
          "model_module": "@jupyter-widgets/controls",
          "model_name": "FloatProgressModel",
          "model_module_version": "1.5.0",
          "state": {
            "_dom_classes": [],
            "_model_module": "@jupyter-widgets/controls",
            "_model_module_version": "1.5.0",
            "_model_name": "FloatProgressModel",
            "_view_count": null,
            "_view_module": "@jupyter-widgets/controls",
            "_view_module_version": "1.5.0",
            "_view_name": "ProgressView",
            "bar_style": "",
            "description": "",
            "description_tooltip": null,
            "layout": "IPY_MODEL_68af578179c2460faddbe8bcd1ae500f",
            "max": 1,
            "min": 0,
            "orientation": "horizontal",
            "style": "IPY_MODEL_3c1b22b74c89438ebada592ae7da7fe4",
            "value": 1
          }
        },
        "959f397f28274f59b731e63cf2ac9c9f": {
          "model_module": "@jupyter-widgets/base",
          "model_name": "LayoutModel",
          "model_module_version": "1.2.0",
          "state": {
            "_model_module": "@jupyter-widgets/base",
            "_model_module_version": "1.2.0",
            "_model_name": "LayoutModel",
            "_view_count": null,
            "_view_module": "@jupyter-widgets/base",
            "_view_module_version": "1.2.0",
            "_view_name": "LayoutView",
            "align_content": null,
            "align_items": null,
            "align_self": null,
            "border": null,
            "bottom": null,
            "display": null,
            "flex": null,
            "flex_flow": null,
            "grid_area": null,
            "grid_auto_columns": null,
            "grid_auto_flow": null,
            "grid_auto_rows": null,
            "grid_column": null,
            "grid_gap": null,
            "grid_row": null,
            "grid_template_areas": null,
            "grid_template_columns": null,
            "grid_template_rows": null,
            "height": null,
            "justify_content": null,
            "justify_items": null,
            "left": null,
            "margin": null,
            "max_height": null,
            "max_width": null,
            "min_height": null,
            "min_width": null,
            "object_fit": null,
            "object_position": null,
            "order": null,
            "overflow": null,
            "overflow_x": null,
            "overflow_y": null,
            "padding": null,
            "right": null,
            "top": null,
            "visibility": null,
            "width": null
          }
        },
        "d0e3b35eff2d448e86f9b2bbf6eb82e8": {
          "model_module": "@jupyter-widgets/base",
          "model_name": "LayoutModel",
          "model_module_version": "1.2.0",
          "state": {
            "_model_module": "@jupyter-widgets/base",
            "_model_module_version": "1.2.0",
            "_model_name": "LayoutModel",
            "_view_count": null,
            "_view_module": "@jupyter-widgets/base",
            "_view_module_version": "1.2.0",
            "_view_name": "LayoutView",
            "align_content": null,
            "align_items": null,
            "align_self": null,
            "border": null,
            "bottom": null,
            "display": null,
            "flex": null,
            "flex_flow": null,
            "grid_area": null,
            "grid_auto_columns": null,
            "grid_auto_flow": null,
            "grid_auto_rows": null,
            "grid_column": null,
            "grid_gap": null,
            "grid_row": null,
            "grid_template_areas": null,
            "grid_template_columns": null,
            "grid_template_rows": null,
            "height": null,
            "justify_content": null,
            "justify_items": null,
            "left": null,
            "margin": null,
            "max_height": null,
            "max_width": null,
            "min_height": null,
            "min_width": null,
            "object_fit": null,
            "object_position": null,
            "order": null,
            "overflow": null,
            "overflow_x": null,
            "overflow_y": null,
            "padding": null,
            "right": null,
            "top": null,
            "visibility": null,
            "width": null
          }
        },
        "5b209d9beced4b99b4a6492ce78f7a9d": {
          "model_module": "@jupyter-widgets/controls",
          "model_name": "DescriptionStyleModel",
          "model_module_version": "1.5.0",
          "state": {
            "_model_module": "@jupyter-widgets/controls",
            "_model_module_version": "1.5.0",
            "_model_name": "DescriptionStyleModel",
            "_view_count": null,
            "_view_module": "@jupyter-widgets/base",
            "_view_module_version": "1.2.0",
            "_view_name": "StyleView",
            "description_width": ""
          }
        },
        "68af578179c2460faddbe8bcd1ae500f": {
          "model_module": "@jupyter-widgets/base",
          "model_name": "LayoutModel",
          "model_module_version": "1.2.0",
          "state": {
            "_model_module": "@jupyter-widgets/base",
            "_model_module_version": "1.2.0",
            "_model_name": "LayoutModel",
            "_view_count": null,
            "_view_module": "@jupyter-widgets/base",
            "_view_module_version": "1.2.0",
            "_view_name": "LayoutView",
            "align_content": null,
            "align_items": null,
            "align_self": null,
            "border": null,
            "bottom": null,
            "display": null,
            "flex": null,
            "flex_flow": null,
            "grid_area": null,
            "grid_auto_columns": null,
            "grid_auto_flow": null,
            "grid_auto_rows": null,
            "grid_column": null,
            "grid_gap": null,
            "grid_row": null,
            "grid_template_areas": null,
            "grid_template_columns": null,
            "grid_template_rows": null,
            "height": null,
            "justify_content": null,
            "justify_items": null,
            "left": null,
            "margin": null,
            "max_height": null,
            "max_width": null,
            "min_height": null,
            "min_width": null,
            "object_fit": null,
            "object_position": null,
            "order": null,
            "overflow": null,
            "overflow_x": null,
            "overflow_y": null,
            "padding": null,
            "right": null,
            "top": null,
            "visibility": null,
            "width": null
          }
        },
        "3c1b22b74c89438ebada592ae7da7fe4": {
          "model_module": "@jupyter-widgets/controls",
          "model_name": "ProgressStyleModel",
          "model_module_version": "1.5.0",
          "state": {
            "_model_module": "@jupyter-widgets/controls",
            "_model_module_version": "1.5.0",
            "_model_name": "ProgressStyleModel",
            "_view_count": null,
            "_view_module": "@jupyter-widgets/base",
            "_view_module_version": "1.2.0",
            "_view_name": "StyleView",
            "bar_color": null,
            "description_width": ""
          }
        },
        "f73fbe5a3570480698f4089dc55e9b07": {
          "model_module": "@jupyter-widgets/controls",
          "model_name": "VBoxModel",
          "model_module_version": "1.5.0",
          "state": {
            "_dom_classes": [],
            "_model_module": "@jupyter-widgets/controls",
            "_model_module_version": "1.5.0",
            "_model_name": "VBoxModel",
            "_view_count": null,
            "_view_module": "@jupyter-widgets/controls",
            "_view_module_version": "1.5.0",
            "_view_name": "VBoxView",
            "box_style": "",
            "children": [
              "IPY_MODEL_3ea6961acd074a6da5a2d7742f9470fb",
              "IPY_MODEL_4def6efb73f146539d98b68f7eda08df"
            ],
            "layout": "IPY_MODEL_f564a2a0c6ba441797f317a838ff2868"
          }
        },
        "3ea6961acd074a6da5a2d7742f9470fb": {
          "model_module": "@jupyter-widgets/controls",
          "model_name": "LabelModel",
          "model_module_version": "1.5.0",
          "state": {
            "_dom_classes": [],
            "_model_module": "@jupyter-widgets/controls",
            "_model_module_version": "1.5.0",
            "_model_name": "LabelModel",
            "_view_count": null,
            "_view_module": "@jupyter-widgets/controls",
            "_view_module_version": "1.5.0",
            "_view_name": "LabelView",
            "description": "",
            "description_tooltip": null,
            "layout": "IPY_MODEL_b1e56ed4e6d9442ba2953c88a9372895",
            "placeholder": "​",
            "style": "IPY_MODEL_08682d9a43884d6f84f4f8e73fa0b324",
            "value": "0.025 MB of 0.025 MB uploaded\r"
          }
        },
        "4def6efb73f146539d98b68f7eda08df": {
          "model_module": "@jupyter-widgets/controls",
          "model_name": "FloatProgressModel",
          "model_module_version": "1.5.0",
          "state": {
            "_dom_classes": [],
            "_model_module": "@jupyter-widgets/controls",
            "_model_module_version": "1.5.0",
            "_model_name": "FloatProgressModel",
            "_view_count": null,
            "_view_module": "@jupyter-widgets/controls",
            "_view_module_version": "1.5.0",
            "_view_name": "ProgressView",
            "bar_style": "",
            "description": "",
            "description_tooltip": null,
            "layout": "IPY_MODEL_6aabda56755a452fb84313a2759c0709",
            "max": 1,
            "min": 0,
            "orientation": "horizontal",
            "style": "IPY_MODEL_03870d403b3746508fe1ed69a9cce209",
            "value": 1
          }
        },
        "f564a2a0c6ba441797f317a838ff2868": {
          "model_module": "@jupyter-widgets/base",
          "model_name": "LayoutModel",
          "model_module_version": "1.2.0",
          "state": {
            "_model_module": "@jupyter-widgets/base",
            "_model_module_version": "1.2.0",
            "_model_name": "LayoutModel",
            "_view_count": null,
            "_view_module": "@jupyter-widgets/base",
            "_view_module_version": "1.2.0",
            "_view_name": "LayoutView",
            "align_content": null,
            "align_items": null,
            "align_self": null,
            "border": null,
            "bottom": null,
            "display": null,
            "flex": null,
            "flex_flow": null,
            "grid_area": null,
            "grid_auto_columns": null,
            "grid_auto_flow": null,
            "grid_auto_rows": null,
            "grid_column": null,
            "grid_gap": null,
            "grid_row": null,
            "grid_template_areas": null,
            "grid_template_columns": null,
            "grid_template_rows": null,
            "height": null,
            "justify_content": null,
            "justify_items": null,
            "left": null,
            "margin": null,
            "max_height": null,
            "max_width": null,
            "min_height": null,
            "min_width": null,
            "object_fit": null,
            "object_position": null,
            "order": null,
            "overflow": null,
            "overflow_x": null,
            "overflow_y": null,
            "padding": null,
            "right": null,
            "top": null,
            "visibility": null,
            "width": null
          }
        },
        "b1e56ed4e6d9442ba2953c88a9372895": {
          "model_module": "@jupyter-widgets/base",
          "model_name": "LayoutModel",
          "model_module_version": "1.2.0",
          "state": {
            "_model_module": "@jupyter-widgets/base",
            "_model_module_version": "1.2.0",
            "_model_name": "LayoutModel",
            "_view_count": null,
            "_view_module": "@jupyter-widgets/base",
            "_view_module_version": "1.2.0",
            "_view_name": "LayoutView",
            "align_content": null,
            "align_items": null,
            "align_self": null,
            "border": null,
            "bottom": null,
            "display": null,
            "flex": null,
            "flex_flow": null,
            "grid_area": null,
            "grid_auto_columns": null,
            "grid_auto_flow": null,
            "grid_auto_rows": null,
            "grid_column": null,
            "grid_gap": null,
            "grid_row": null,
            "grid_template_areas": null,
            "grid_template_columns": null,
            "grid_template_rows": null,
            "height": null,
            "justify_content": null,
            "justify_items": null,
            "left": null,
            "margin": null,
            "max_height": null,
            "max_width": null,
            "min_height": null,
            "min_width": null,
            "object_fit": null,
            "object_position": null,
            "order": null,
            "overflow": null,
            "overflow_x": null,
            "overflow_y": null,
            "padding": null,
            "right": null,
            "top": null,
            "visibility": null,
            "width": null
          }
        },
        "08682d9a43884d6f84f4f8e73fa0b324": {
          "model_module": "@jupyter-widgets/controls",
          "model_name": "DescriptionStyleModel",
          "model_module_version": "1.5.0",
          "state": {
            "_model_module": "@jupyter-widgets/controls",
            "_model_module_version": "1.5.0",
            "_model_name": "DescriptionStyleModel",
            "_view_count": null,
            "_view_module": "@jupyter-widgets/base",
            "_view_module_version": "1.2.0",
            "_view_name": "StyleView",
            "description_width": ""
          }
        },
        "6aabda56755a452fb84313a2759c0709": {
          "model_module": "@jupyter-widgets/base",
          "model_name": "LayoutModel",
          "model_module_version": "1.2.0",
          "state": {
            "_model_module": "@jupyter-widgets/base",
            "_model_module_version": "1.2.0",
            "_model_name": "LayoutModel",
            "_view_count": null,
            "_view_module": "@jupyter-widgets/base",
            "_view_module_version": "1.2.0",
            "_view_name": "LayoutView",
            "align_content": null,
            "align_items": null,
            "align_self": null,
            "border": null,
            "bottom": null,
            "display": null,
            "flex": null,
            "flex_flow": null,
            "grid_area": null,
            "grid_auto_columns": null,
            "grid_auto_flow": null,
            "grid_auto_rows": null,
            "grid_column": null,
            "grid_gap": null,
            "grid_row": null,
            "grid_template_areas": null,
            "grid_template_columns": null,
            "grid_template_rows": null,
            "height": null,
            "justify_content": null,
            "justify_items": null,
            "left": null,
            "margin": null,
            "max_height": null,
            "max_width": null,
            "min_height": null,
            "min_width": null,
            "object_fit": null,
            "object_position": null,
            "order": null,
            "overflow": null,
            "overflow_x": null,
            "overflow_y": null,
            "padding": null,
            "right": null,
            "top": null,
            "visibility": null,
            "width": null
          }
        },
        "03870d403b3746508fe1ed69a9cce209": {
          "model_module": "@jupyter-widgets/controls",
          "model_name": "ProgressStyleModel",
          "model_module_version": "1.5.0",
          "state": {
            "_model_module": "@jupyter-widgets/controls",
            "_model_module_version": "1.5.0",
            "_model_name": "ProgressStyleModel",
            "_view_count": null,
            "_view_module": "@jupyter-widgets/base",
            "_view_module_version": "1.2.0",
            "_view_name": "StyleView",
            "bar_color": null,
            "description_width": ""
          }
        },
        "079c4ee09b5f41babb09c54f1682aa75": {
          "model_module": "@jupyter-widgets/controls",
          "model_name": "VBoxModel",
          "model_module_version": "1.5.0",
          "state": {
            "_dom_classes": [],
            "_model_module": "@jupyter-widgets/controls",
            "_model_module_version": "1.5.0",
            "_model_name": "VBoxModel",
            "_view_count": null,
            "_view_module": "@jupyter-widgets/controls",
            "_view_module_version": "1.5.0",
            "_view_name": "VBoxView",
            "box_style": "",
            "children": [
              "IPY_MODEL_7cac125762ae4564ac406bd56e8cf6e7",
              "IPY_MODEL_588c251ab0f84a2e97fdea74776ff0b7"
            ],
            "layout": "IPY_MODEL_0733e8537e8745d4aeacbb8b6eecbf89"
          }
        },
        "7cac125762ae4564ac406bd56e8cf6e7": {
          "model_module": "@jupyter-widgets/controls",
          "model_name": "LabelModel",
          "model_module_version": "1.5.0",
          "state": {
            "_dom_classes": [],
            "_model_module": "@jupyter-widgets/controls",
            "_model_module_version": "1.5.0",
            "_model_name": "LabelModel",
            "_view_count": null,
            "_view_module": "@jupyter-widgets/controls",
            "_view_module_version": "1.5.0",
            "_view_name": "LabelView",
            "description": "",
            "description_tooltip": null,
            "layout": "IPY_MODEL_b460c3e7f02f477ca108d87e497a514b",
            "placeholder": "​",
            "style": "IPY_MODEL_ca2ecdc708924e1eb939175054145f8b",
            "value": "0.025 MB of 0.025 MB uploaded\r"
          }
        },
        "588c251ab0f84a2e97fdea74776ff0b7": {
          "model_module": "@jupyter-widgets/controls",
          "model_name": "FloatProgressModel",
          "model_module_version": "1.5.0",
          "state": {
            "_dom_classes": [],
            "_model_module": "@jupyter-widgets/controls",
            "_model_module_version": "1.5.0",
            "_model_name": "FloatProgressModel",
            "_view_count": null,
            "_view_module": "@jupyter-widgets/controls",
            "_view_module_version": "1.5.0",
            "_view_name": "ProgressView",
            "bar_style": "",
            "description": "",
            "description_tooltip": null,
            "layout": "IPY_MODEL_a58358c763e74ff6b5cdc0fdb376b970",
            "max": 1,
            "min": 0,
            "orientation": "horizontal",
            "style": "IPY_MODEL_ea10b1ba3a8645e59ce90e3afe141e79",
            "value": 1
          }
        },
        "0733e8537e8745d4aeacbb8b6eecbf89": {
          "model_module": "@jupyter-widgets/base",
          "model_name": "LayoutModel",
          "model_module_version": "1.2.0",
          "state": {
            "_model_module": "@jupyter-widgets/base",
            "_model_module_version": "1.2.0",
            "_model_name": "LayoutModel",
            "_view_count": null,
            "_view_module": "@jupyter-widgets/base",
            "_view_module_version": "1.2.0",
            "_view_name": "LayoutView",
            "align_content": null,
            "align_items": null,
            "align_self": null,
            "border": null,
            "bottom": null,
            "display": null,
            "flex": null,
            "flex_flow": null,
            "grid_area": null,
            "grid_auto_columns": null,
            "grid_auto_flow": null,
            "grid_auto_rows": null,
            "grid_column": null,
            "grid_gap": null,
            "grid_row": null,
            "grid_template_areas": null,
            "grid_template_columns": null,
            "grid_template_rows": null,
            "height": null,
            "justify_content": null,
            "justify_items": null,
            "left": null,
            "margin": null,
            "max_height": null,
            "max_width": null,
            "min_height": null,
            "min_width": null,
            "object_fit": null,
            "object_position": null,
            "order": null,
            "overflow": null,
            "overflow_x": null,
            "overflow_y": null,
            "padding": null,
            "right": null,
            "top": null,
            "visibility": null,
            "width": null
          }
        },
        "b460c3e7f02f477ca108d87e497a514b": {
          "model_module": "@jupyter-widgets/base",
          "model_name": "LayoutModel",
          "model_module_version": "1.2.0",
          "state": {
            "_model_module": "@jupyter-widgets/base",
            "_model_module_version": "1.2.0",
            "_model_name": "LayoutModel",
            "_view_count": null,
            "_view_module": "@jupyter-widgets/base",
            "_view_module_version": "1.2.0",
            "_view_name": "LayoutView",
            "align_content": null,
            "align_items": null,
            "align_self": null,
            "border": null,
            "bottom": null,
            "display": null,
            "flex": null,
            "flex_flow": null,
            "grid_area": null,
            "grid_auto_columns": null,
            "grid_auto_flow": null,
            "grid_auto_rows": null,
            "grid_column": null,
            "grid_gap": null,
            "grid_row": null,
            "grid_template_areas": null,
            "grid_template_columns": null,
            "grid_template_rows": null,
            "height": null,
            "justify_content": null,
            "justify_items": null,
            "left": null,
            "margin": null,
            "max_height": null,
            "max_width": null,
            "min_height": null,
            "min_width": null,
            "object_fit": null,
            "object_position": null,
            "order": null,
            "overflow": null,
            "overflow_x": null,
            "overflow_y": null,
            "padding": null,
            "right": null,
            "top": null,
            "visibility": null,
            "width": null
          }
        },
        "ca2ecdc708924e1eb939175054145f8b": {
          "model_module": "@jupyter-widgets/controls",
          "model_name": "DescriptionStyleModel",
          "model_module_version": "1.5.0",
          "state": {
            "_model_module": "@jupyter-widgets/controls",
            "_model_module_version": "1.5.0",
            "_model_name": "DescriptionStyleModel",
            "_view_count": null,
            "_view_module": "@jupyter-widgets/base",
            "_view_module_version": "1.2.0",
            "_view_name": "StyleView",
            "description_width": ""
          }
        },
        "a58358c763e74ff6b5cdc0fdb376b970": {
          "model_module": "@jupyter-widgets/base",
          "model_name": "LayoutModel",
          "model_module_version": "1.2.0",
          "state": {
            "_model_module": "@jupyter-widgets/base",
            "_model_module_version": "1.2.0",
            "_model_name": "LayoutModel",
            "_view_count": null,
            "_view_module": "@jupyter-widgets/base",
            "_view_module_version": "1.2.0",
            "_view_name": "LayoutView",
            "align_content": null,
            "align_items": null,
            "align_self": null,
            "border": null,
            "bottom": null,
            "display": null,
            "flex": null,
            "flex_flow": null,
            "grid_area": null,
            "grid_auto_columns": null,
            "grid_auto_flow": null,
            "grid_auto_rows": null,
            "grid_column": null,
            "grid_gap": null,
            "grid_row": null,
            "grid_template_areas": null,
            "grid_template_columns": null,
            "grid_template_rows": null,
            "height": null,
            "justify_content": null,
            "justify_items": null,
            "left": null,
            "margin": null,
            "max_height": null,
            "max_width": null,
            "min_height": null,
            "min_width": null,
            "object_fit": null,
            "object_position": null,
            "order": null,
            "overflow": null,
            "overflow_x": null,
            "overflow_y": null,
            "padding": null,
            "right": null,
            "top": null,
            "visibility": null,
            "width": null
          }
        },
        "ea10b1ba3a8645e59ce90e3afe141e79": {
          "model_module": "@jupyter-widgets/controls",
          "model_name": "ProgressStyleModel",
          "model_module_version": "1.5.0",
          "state": {
            "_model_module": "@jupyter-widgets/controls",
            "_model_module_version": "1.5.0",
            "_model_name": "ProgressStyleModel",
            "_view_count": null,
            "_view_module": "@jupyter-widgets/base",
            "_view_module_version": "1.2.0",
            "_view_name": "StyleView",
            "bar_color": null,
            "description_width": ""
          }
        },
        "c739d7a284384beba99240bff3c7dae3": {
          "model_module": "@jupyter-widgets/controls",
          "model_name": "VBoxModel",
          "model_module_version": "1.5.0",
          "state": {
            "_dom_classes": [],
            "_model_module": "@jupyter-widgets/controls",
            "_model_module_version": "1.5.0",
            "_model_name": "VBoxModel",
            "_view_count": null,
            "_view_module": "@jupyter-widgets/controls",
            "_view_module_version": "1.5.0",
            "_view_name": "VBoxView",
            "box_style": "",
            "children": [
              "IPY_MODEL_bcab3ae0e0a84f4ba9e02fdf599e3e78",
              "IPY_MODEL_259f9438ec37463f8b0119c1dcded392"
            ],
            "layout": "IPY_MODEL_5c1847b0cbf144a984689a8548068825"
          }
        },
        "bcab3ae0e0a84f4ba9e02fdf599e3e78": {
          "model_module": "@jupyter-widgets/controls",
          "model_name": "LabelModel",
          "model_module_version": "1.5.0",
          "state": {
            "_dom_classes": [],
            "_model_module": "@jupyter-widgets/controls",
            "_model_module_version": "1.5.0",
            "_model_name": "LabelModel",
            "_view_count": null,
            "_view_module": "@jupyter-widgets/controls",
            "_view_module_version": "1.5.0",
            "_view_name": "LabelView",
            "description": "",
            "description_tooltip": null,
            "layout": "IPY_MODEL_514c0144aaa54b52867fd971e637789c",
            "placeholder": "​",
            "style": "IPY_MODEL_920155a8ff5242bfb0e428d9ad9a5343",
            "value": "0.025 MB of 0.025 MB uploaded\r"
          }
        },
        "259f9438ec37463f8b0119c1dcded392": {
          "model_module": "@jupyter-widgets/controls",
          "model_name": "FloatProgressModel",
          "model_module_version": "1.5.0",
          "state": {
            "_dom_classes": [],
            "_model_module": "@jupyter-widgets/controls",
            "_model_module_version": "1.5.0",
            "_model_name": "FloatProgressModel",
            "_view_count": null,
            "_view_module": "@jupyter-widgets/controls",
            "_view_module_version": "1.5.0",
            "_view_name": "ProgressView",
            "bar_style": "",
            "description": "",
            "description_tooltip": null,
            "layout": "IPY_MODEL_89b534e7ee064d128a123fa703bbe5e4",
            "max": 1,
            "min": 0,
            "orientation": "horizontal",
            "style": "IPY_MODEL_4863857d578743359d6e4a9eba78aecb",
            "value": 1
          }
        },
        "5c1847b0cbf144a984689a8548068825": {
          "model_module": "@jupyter-widgets/base",
          "model_name": "LayoutModel",
          "model_module_version": "1.2.0",
          "state": {
            "_model_module": "@jupyter-widgets/base",
            "_model_module_version": "1.2.0",
            "_model_name": "LayoutModel",
            "_view_count": null,
            "_view_module": "@jupyter-widgets/base",
            "_view_module_version": "1.2.0",
            "_view_name": "LayoutView",
            "align_content": null,
            "align_items": null,
            "align_self": null,
            "border": null,
            "bottom": null,
            "display": null,
            "flex": null,
            "flex_flow": null,
            "grid_area": null,
            "grid_auto_columns": null,
            "grid_auto_flow": null,
            "grid_auto_rows": null,
            "grid_column": null,
            "grid_gap": null,
            "grid_row": null,
            "grid_template_areas": null,
            "grid_template_columns": null,
            "grid_template_rows": null,
            "height": null,
            "justify_content": null,
            "justify_items": null,
            "left": null,
            "margin": null,
            "max_height": null,
            "max_width": null,
            "min_height": null,
            "min_width": null,
            "object_fit": null,
            "object_position": null,
            "order": null,
            "overflow": null,
            "overflow_x": null,
            "overflow_y": null,
            "padding": null,
            "right": null,
            "top": null,
            "visibility": null,
            "width": null
          }
        },
        "514c0144aaa54b52867fd971e637789c": {
          "model_module": "@jupyter-widgets/base",
          "model_name": "LayoutModel",
          "model_module_version": "1.2.0",
          "state": {
            "_model_module": "@jupyter-widgets/base",
            "_model_module_version": "1.2.0",
            "_model_name": "LayoutModel",
            "_view_count": null,
            "_view_module": "@jupyter-widgets/base",
            "_view_module_version": "1.2.0",
            "_view_name": "LayoutView",
            "align_content": null,
            "align_items": null,
            "align_self": null,
            "border": null,
            "bottom": null,
            "display": null,
            "flex": null,
            "flex_flow": null,
            "grid_area": null,
            "grid_auto_columns": null,
            "grid_auto_flow": null,
            "grid_auto_rows": null,
            "grid_column": null,
            "grid_gap": null,
            "grid_row": null,
            "grid_template_areas": null,
            "grid_template_columns": null,
            "grid_template_rows": null,
            "height": null,
            "justify_content": null,
            "justify_items": null,
            "left": null,
            "margin": null,
            "max_height": null,
            "max_width": null,
            "min_height": null,
            "min_width": null,
            "object_fit": null,
            "object_position": null,
            "order": null,
            "overflow": null,
            "overflow_x": null,
            "overflow_y": null,
            "padding": null,
            "right": null,
            "top": null,
            "visibility": null,
            "width": null
          }
        },
        "920155a8ff5242bfb0e428d9ad9a5343": {
          "model_module": "@jupyter-widgets/controls",
          "model_name": "DescriptionStyleModel",
          "model_module_version": "1.5.0",
          "state": {
            "_model_module": "@jupyter-widgets/controls",
            "_model_module_version": "1.5.0",
            "_model_name": "DescriptionStyleModel",
            "_view_count": null,
            "_view_module": "@jupyter-widgets/base",
            "_view_module_version": "1.2.0",
            "_view_name": "StyleView",
            "description_width": ""
          }
        },
        "89b534e7ee064d128a123fa703bbe5e4": {
          "model_module": "@jupyter-widgets/base",
          "model_name": "LayoutModel",
          "model_module_version": "1.2.0",
          "state": {
            "_model_module": "@jupyter-widgets/base",
            "_model_module_version": "1.2.0",
            "_model_name": "LayoutModel",
            "_view_count": null,
            "_view_module": "@jupyter-widgets/base",
            "_view_module_version": "1.2.0",
            "_view_name": "LayoutView",
            "align_content": null,
            "align_items": null,
            "align_self": null,
            "border": null,
            "bottom": null,
            "display": null,
            "flex": null,
            "flex_flow": null,
            "grid_area": null,
            "grid_auto_columns": null,
            "grid_auto_flow": null,
            "grid_auto_rows": null,
            "grid_column": null,
            "grid_gap": null,
            "grid_row": null,
            "grid_template_areas": null,
            "grid_template_columns": null,
            "grid_template_rows": null,
            "height": null,
            "justify_content": null,
            "justify_items": null,
            "left": null,
            "margin": null,
            "max_height": null,
            "max_width": null,
            "min_height": null,
            "min_width": null,
            "object_fit": null,
            "object_position": null,
            "order": null,
            "overflow": null,
            "overflow_x": null,
            "overflow_y": null,
            "padding": null,
            "right": null,
            "top": null,
            "visibility": null,
            "width": null
          }
        },
        "4863857d578743359d6e4a9eba78aecb": {
          "model_module": "@jupyter-widgets/controls",
          "model_name": "ProgressStyleModel",
          "model_module_version": "1.5.0",
          "state": {
            "_model_module": "@jupyter-widgets/controls",
            "_model_module_version": "1.5.0",
            "_model_name": "ProgressStyleModel",
            "_view_count": null,
            "_view_module": "@jupyter-widgets/base",
            "_view_module_version": "1.2.0",
            "_view_name": "StyleView",
            "bar_color": null,
            "description_width": ""
          }
        }
      }
    },
    "accelerator": "GPU"
  },
  "cells": [
    {
      "cell_type": "code",
      "execution_count": null,
      "metadata": {
        "id": "jC9uCz974ynq",
        "colab": {
          "base_uri": "https://localhost:8080/"
        },
        "outputId": "a473564f-ee0d-4cbd-df3b-e42b32b2ae7c"
      },
      "outputs": [
        {
          "output_type": "stream",
          "name": "stdout",
          "text": [
            "\u001b[2K     \u001b[90m━━━━━━━━━━━━━━━━━━━━━━━━━━━━━━━━━━━━━━━━\u001b[0m \u001b[32m302.6/302.6 kB\u001b[0m \u001b[31m2.7 MB/s\u001b[0m eta \u001b[36m0:00:00\u001b[0m\n",
            "\u001b[2K     \u001b[90m━━━━━━━━━━━━━━━━━━━━━━━━━━━━━━━━━━━━━━━━\u001b[0m \u001b[32m21.3/21.3 MB\u001b[0m \u001b[31m46.3 MB/s\u001b[0m eta \u001b[36m0:00:00\u001b[0m\n",
            "\u001b[?25h"
          ]
        }
      ],
      "source": [
        "!pip install accelerate -Uq\n",
        "\n",
        "exit()"
      ]
    },
    {
      "cell_type": "code",
      "source": [
        "!pip install -q datasets transformers evaluate"
      ],
      "metadata": {
        "id": "Jx1pvXkU5zvC"
      },
      "execution_count": null,
      "outputs": []
    },
    {
      "cell_type": "markdown",
      "source": [
        "# Сделаем torch Dataset"
      ],
      "metadata": {
        "id": "F9Pc-CgBaInP"
      }
    },
    {
      "cell_type": "code",
      "source": [
        "from transformers import set_seed\n",
        "import os\n",
        "import random\n",
        "import numpy as np\n",
        "\n",
        "import torch\n",
        "\n",
        "def set_all_seeds(seed=22):\n",
        "\n",
        "    # python's seeds\n",
        "    random.seed(seed)\n",
        "    os.environ['PYTHONHASHSEED'] = str(seed)\n",
        "    np.random.seed(seed)\n",
        "\n",
        "    # torch's seeds\n",
        "    torch.manual_seed(seed)\n",
        "    torch.cuda.manual_seed(seed)\n",
        "    torch.backends.cudnn.deterministic = True\n",
        "    torch.backends.cudnn.benchmark = False\n",
        "\n",
        "\n",
        "magic_seed = 22\n",
        "set_all_seeds(seed=magic_seed)"
      ],
      "metadata": {
        "id": "cnx73UIq5zxo"
      },
      "execution_count": null,
      "outputs": []
    },
    {
      "cell_type": "markdown",
      "source": [
        "# 6 дней после заражения"
      ],
      "metadata": {
        "id": "Hv7vsWL56GDL"
      }
    },
    {
      "cell_type": "markdown",
      "source": [
        "# Сделаем torch Dataset"
      ],
      "metadata": {
        "id": "W40HeWeoaVJw"
      }
    },
    {
      "cell_type": "code",
      "source": [
        "# Import libraries\n",
        "from torch.utils.data import Dataset\n",
        "from torchvision import transforms\n",
        "from PIL import Image\n",
        "import os\n",
        "import numpy as np\n",
        "import pandas as pd\n",
        "import torch\n",
        "\n",
        "# Mount google drive\n",
        "from google.colab import drive\n",
        "drive.mount('gdrive')"
      ],
      "metadata": {
        "id": "BQcEzC4taVng"
      },
      "execution_count": null,
      "outputs": []
    },
    {
      "cell_type": "markdown",
      "source": [
        "## Подготовка набора данных"
      ],
      "metadata": {
        "id": "xaPvrcQooBwZ"
      }
    },
    {
      "cell_type": "code",
      "source": [
        "class MultispecDataset(Dataset):\n",
        "    # create dataset of multispectral images\n",
        "    def __init__(self, nir_dir, rgb_dir, mask_dir, img_names, transform=None):\n",
        "        '''\n",
        "        nir_dir:\n",
        "            path to NIR images\n",
        "\n",
        "        rgb_dir:\n",
        "            path to RGB images\n",
        "\n",
        "        mask_dir:\n",
        "            path to masks\n",
        "\n",
        "        image_names:\n",
        "            names of images\n",
        "        '''\n",
        "        self.nir_dir = nir_dir\n",
        "        self.rgb_dir = rgb_dir\n",
        "        self.mask_dir = mask_dir\n",
        "        self.img_names = img_names\n",
        "        self.transform = transform\n",
        "\n",
        "    def __getitem__(self, idx):\n",
        "        # Open image\n",
        "        nir_img = Image.open(os.path.join(self.nir_dir, self.img_names[idx]))\n",
        "\n",
        "        # transform to tensor, change size from [512, 512, 3] to [3, 512, 512]\n",
        "        # and scale pixel values to range [0, 1]\n",
        "        nir_img = torch.tensor(np.array(nir_img)).permute((2, 0, 1)) / 255\n",
        "\n",
        "        rgb_img = Image.open(os.path.join(self.rgb_dir, self.img_names[idx]))\n",
        "        rgb_img = torch.tensor(np.array(rgb_img)).permute((2, 0, 1)) / 255\n",
        "\n",
        "        mask = Image.open(os.path.join(self.mask_dir, self.img_names[idx].replace('JPG', 'png')))\n",
        "\n",
        "        # transform if desired\n",
        "        if self.transform:\n",
        "            nir_img = self.transform(nir_img)\n",
        "\n",
        "        # concatenate images to get the multispectral one\n",
        "        image = torch.cat([nir_img, rgb_img], axis=0)\n",
        "\n",
        "        return {'pixel_values': image, 'labels': torch.tensor(np.array(mask) / 255).long()}\n",
        "\n",
        "    def __len__(self):\n",
        "        return len(self.img_names)"
      ],
      "metadata": {
        "id": "MytG9bsTaulz"
      },
      "execution_count": null,
      "outputs": []
    },
    {
      "cell_type": "code",
      "source": [
        "id2label = {0: 'unlabeled', 1: 'leaf-disease'}\n",
        "label2id = {v: k for k, v in id2label.items()}\n",
        "\n",
        "num_labels = len(id2label)"
      ],
      "metadata": {
        "id": "v-MYS1hwcawl"
      },
      "execution_count": null,
      "outputs": []
    },
    {
      "cell_type": "code",
      "source": [
        "id2label"
      ],
      "metadata": {
        "colab": {
          "base_uri": "https://localhost:8080/"
        },
        "id": "RxNkKHDI6-c6",
        "outputId": "48b306b1-13c0-46c2-e650-71e33b41dfce"
      },
      "execution_count": null,
      "outputs": [
        {
          "output_type": "execute_result",
          "data": {
            "text/plain": [
              "{0: 'unlabeled', 1: 'leaf-disease'}"
            ]
          },
          "metadata": {},
          "execution_count": 7
        }
      ]
    },
    {
      "cell_type": "code",
      "source": [
        "from transformers import SegformerImageProcessor\n",
        "\n",
        "model_checkpoint =  \"nvidia/mit-b2\"\n",
        "image_processor = SegformerImageProcessor.from_pretrained(model_checkpoint, do_reduce_labels=False)"
      ],
      "metadata": {
        "id": "Xk1d-uCqci1a"
      },
      "execution_count": null,
      "outputs": []
    },
    {
      "cell_type": "code",
      "source": [
        "image_mean = image_processor.image_mean\n",
        "image_std = image_processor.image_std\n",
        "image_size = image_processor.size\n",
        "\n",
        "print('image_mean:', image_mean)\n",
        "print('image_std:', image_std)\n",
        "print('image_size:',image_size)"
      ],
      "metadata": {
        "colab": {
          "base_uri": "https://localhost:8080/"
        },
        "id": "1uAeRw7pc0hD",
        "outputId": "0c6f6f73-f506-41af-8703-d85c9de16532"
      },
      "execution_count": null,
      "outputs": [
        {
          "output_type": "stream",
          "name": "stdout",
          "text": [
            "image_mean: [0.485, 0.456, 0.406]\n",
            "image_std: [0.229, 0.224, 0.225]\n",
            "image_size: {'height': 512, 'width': 512}\n"
          ]
        }
      ]
    },
    {
      "cell_type": "code",
      "source": [
        "image_transforms = transforms.Compose([\n",
        "                                       transforms.Resize(size=(image_size['height'], image_size['width'])),\n",
        "                                       transforms.Normalize(mean=image_mean,std=image_std)])"
      ],
      "metadata": {
        "id": "VJCR7lN_dOR3"
      },
      "execution_count": null,
      "outputs": []
    },
    {
      "cell_type": "code",
      "source": [
        "# Image directories\n",
        "nir_dir = '/content/gdrive/MyDrive/Cropped Potato/2023_ИК_больные/6 дней после заражения'\n",
        "rgb_dir = '/content/gdrive/MyDrive/Cropped Potato/2023_ВИД_больные/6 дней после заражения'\n",
        "mask_dir = '/content/gdrive/MyDrive/Cropped Potato/Разметка/6 дней после заражения/Разметка картинки'"
      ],
      "metadata": {
        "id": "EGAfraL7eNXM"
      },
      "execution_count": null,
      "outputs": []
    },
    {
      "cell_type": "code",
      "source": [
        "rgb_images = os.listdir(rgb_dir)\n",
        "mask_images = os.listdir(mask_dir)"
      ],
      "metadata": {
        "id": "CzaTZyZOaVyi"
      },
      "execution_count": null,
      "outputs": []
    },
    {
      "cell_type": "code",
      "source": [
        "# 0.7 : 0.15 : 0.15\n",
        "num_train_samples = 945\n",
        "num_validation_samples = 210\n",
        "num_test_samples = len(rgb_images) - num_train_samples - num_validation_samples # 189"
      ],
      "metadata": {
        "id": "2bn_-iiohoVa"
      },
      "execution_count": null,
      "outputs": []
    },
    {
      "cell_type": "code",
      "source": [
        "# Make train-val-test split\n",
        "train_images = rgb_images[:num_train_samples]\n",
        "train_masks = mask_images[:num_train_samples]\n",
        "\n",
        "val_images = rgb_images[num_train_samples:(num_train_samples + num_validation_samples)]\n",
        "val_masks = mask_images[num_train_samples:(num_train_samples + num_validation_samples)]\n",
        "\n",
        "test_images = rgb_images[(num_train_samples + num_validation_samples):]\n",
        "test_masks = mask_images[(num_train_samples + num_validation_samples):]"
      ],
      "metadata": {
        "id": "xNVJJu4dhwfO"
      },
      "execution_count": null,
      "outputs": []
    },
    {
      "cell_type": "code",
      "source": [
        "print(len(train_images), len(train_masks))\n",
        "print(len(val_images), len(val_masks))\n",
        "print(len(test_images), len(test_masks))"
      ],
      "metadata": {
        "colab": {
          "base_uri": "https://localhost:8080/"
        },
        "id": "iPvjq5YBiQwz",
        "outputId": "b13ddb92-324d-4abb-9827-0593b8875339"
      },
      "execution_count": null,
      "outputs": [
        {
          "output_type": "stream",
          "name": "stdout",
          "text": [
            "945 945\n",
            "210 210\n",
            "189 189\n"
          ]
        }
      ]
    },
    {
      "cell_type": "code",
      "source": [
        "# Create Dataset objects\n",
        "train_dataset = MultispecDataset(nir_dir, rgb_dir, mask_dir, train_images, image_transforms)\n",
        "val_dataset = MultispecDataset(nir_dir, rgb_dir, mask_dir, val_images, image_transforms)"
      ],
      "metadata": {
        "id": "_MwwnDURiaPA"
      },
      "execution_count": null,
      "outputs": []
    },
    {
      "cell_type": "markdown",
      "source": [
        "## Tune HP"
      ],
      "metadata": {
        "id": "5zovFLf1RnT_"
      }
    },
    {
      "cell_type": "markdown",
      "source": [
        "### Write custom Trainers"
      ],
      "metadata": {
        "id": "_PxoCmO8lmx5"
      }
    },
    {
      "cell_type": "markdown",
      "source": [
        "We are going to write custom trainers (with custom loss function)"
      ],
      "metadata": {
        "id": "ODTC9CPsh3Do"
      }
    },
    {
      "cell_type": "code",
      "source": [
        "device = torch.device('cuda' if torch.cuda.is_available() else 'cpu')"
      ],
      "metadata": {
        "id": "ZnjMcEaMrFgp"
      },
      "execution_count": null,
      "outputs": []
    },
    {
      "cell_type": "code",
      "source": [
        "from torch import nn\n",
        "from transformers import Trainer"
      ],
      "metadata": {
        "id": "Q1_Lzr7XQ8b8"
      },
      "execution_count": null,
      "outputs": []
    },
    {
      "cell_type": "code",
      "source": [
        "!pip install segmentation-models-pytorch -q"
      ],
      "metadata": {
        "id": "y3u1lovjQvxK"
      },
      "execution_count": null,
      "outputs": []
    },
    {
      "cell_type": "code",
      "source": [
        "# Weighted Cross-Entropy\n",
        "class WeightedCSETrainer(Trainer):\n",
        "    def compute_loss(self, model, inputs, return_outputs=False):\n",
        "        labels = inputs.get(\"labels\")\n",
        "        # forward pass\n",
        "        outputs = model(**inputs)\n",
        "        logits = outputs.get(\"logits\")\n",
        "\n",
        "        logits_tensor = nn.functional.interpolate(\n",
        "        logits,\n",
        "        size=labels.shape[-2:],\n",
        "        mode=\"bilinear\",\n",
        "        align_corners=False,\n",
        "        )\n",
        "\n",
        "        loss_fct = nn.CrossEntropyLoss(weight=torch.tensor([self.weight_0, self.weight_1]).to(device))\n",
        "        loss = loss_fct(logits_tensor.reshape(-1, self.model.config.num_labels), labels.reshape(-1))\n",
        "\n",
        "        return (loss, outputs) if return_outputs else loss"
      ],
      "metadata": {
        "id": "BJyujkeblotx"
      },
      "execution_count": null,
      "outputs": []
    },
    {
      "cell_type": "code",
      "source": [
        "from segmentation_models_pytorch.losses import JaccardLoss\n",
        "\n",
        "# Jaccard Loss\n",
        "class JaccardTrainer(Trainer):\n",
        "    def compute_loss(self, model, inputs, return_outputs=False):\n",
        "        labels = inputs.get(\"labels\")\n",
        "        # forward pass\n",
        "        outputs = model(**inputs)\n",
        "        logits = outputs.get(\"logits\")\n",
        "\n",
        "        logits_tensor = nn.functional.interpolate(\n",
        "        logits,\n",
        "        size=labels.shape[-2:],\n",
        "        mode=\"bilinear\",\n",
        "        align_corners=False,\n",
        "        )\n",
        "\n",
        "        disease_logits = logits_tensor[:, 1, :, :]\n",
        "\n",
        "\n",
        "        loss_fct = JaccardLoss(mode='binary')\n",
        "        loss = loss_fct(disease_logits,\n",
        "                        labels)\n",
        "\n",
        "        return (loss, outputs) if return_outputs else loss"
      ],
      "metadata": {
        "id": "09TaS6SCQu_8"
      },
      "execution_count": null,
      "outputs": []
    },
    {
      "cell_type": "code",
      "source": [
        "from segmentation_models_pytorch.losses import DiceLoss\n",
        "\n",
        "# Dice Loss\n",
        "class DiceTrainer(Trainer):\n",
        "    def compute_loss(self, model, inputs, return_outputs=False):\n",
        "        labels = inputs.get(\"labels\")\n",
        "        # forward pass\n",
        "        outputs = model(**inputs)\n",
        "        logits = outputs.get(\"logits\")\n",
        "\n",
        "        logits_tensor = nn.functional.interpolate(\n",
        "        logits,\n",
        "        size=labels.shape[-2:],\n",
        "        mode=\"bilinear\",\n",
        "        align_corners=False,\n",
        "        )\n",
        "\n",
        "        disease_logits = logits_tensor[:, 1, :, :]\n",
        "\n",
        "\n",
        "        loss_fct = DiceLoss(mode='binary')\n",
        "        loss = loss_fct(disease_logits, labels)\n",
        "\n",
        "        return (loss, outputs) if return_outputs else loss"
      ],
      "metadata": {
        "id": "GUN6SnwZS50g"
      },
      "execution_count": null,
      "outputs": []
    },
    {
      "cell_type": "code",
      "source": [
        "from segmentation_models_pytorch.losses import TverskyLoss\n",
        "\n",
        "# Tversky Loss\n",
        "class TverskyTrainer(Trainer):\n",
        "    def compute_loss(self, model, inputs, return_outputs=False):\n",
        "        labels = inputs.get(\"labels\")\n",
        "        # forward pass\n",
        "        outputs = model(**inputs)\n",
        "        logits = outputs.get(\"logits\")\n",
        "\n",
        "        logits_tensor = nn.functional.interpolate(\n",
        "        logits,\n",
        "        size=labels.shape[-2:],\n",
        "        mode=\"bilinear\",\n",
        "        align_corners=False,\n",
        "        )\n",
        "\n",
        "        disease_logits = logits_tensor[:, 1, :, :]\n",
        "\n",
        "\n",
        "        loss_fct = TverskyLoss(mode='binary',\n",
        "                               alpha=self.alpha, beta=self.betta)\n",
        "        loss = loss_fct(disease_logits, labels)\n",
        "\n",
        "        return (loss, outputs) if return_outputs else loss"
      ],
      "metadata": {
        "id": "aCTnufp6Tx1_"
      },
      "execution_count": null,
      "outputs": []
    },
    {
      "cell_type": "code",
      "source": [
        "from segmentation_models_pytorch.losses import FocalLoss\n",
        "\n",
        "# Focal Loss\n",
        "class FocalTrainer(Trainer):\n",
        "    def compute_loss(self, model, inputs, return_outputs=False):\n",
        "        labels = inputs.get(\"labels\")\n",
        "        # forward pass\n",
        "        outputs = model(**inputs)\n",
        "        logits = outputs.get(\"logits\")\n",
        "\n",
        "        logits_tensor = nn.functional.interpolate(\n",
        "        logits,\n",
        "        size=labels.shape[-2:],\n",
        "        mode=\"bilinear\",\n",
        "        align_corners=False,\n",
        "        )\n",
        "\n",
        "        disease_logits = logits_tensor[:, 1, :, :]\n",
        "\n",
        "\n",
        "        loss_fct = FocalLoss(mode='binary',\n",
        "                               alpha=self.alpha, gamma=self.gamma)\n",
        "        loss = loss_fct(disease_logits, labels)\n",
        "\n",
        "        return (loss, outputs) if return_outputs else loss"
      ],
      "metadata": {
        "id": "FKgT_FNXUOHE"
      },
      "execution_count": null,
      "outputs": []
    },
    {
      "cell_type": "code",
      "source": [
        "from segmentation_models_pytorch.losses import LovaszLoss\n",
        "\n",
        "# Lovasz Loss\n",
        "class LovaszTrainer(Trainer):\n",
        "    def compute_loss(self, model, inputs, return_outputs=False):\n",
        "        labels = inputs.get(\"labels\")\n",
        "        # forward pass\n",
        "        outputs = model(**inputs)\n",
        "        logits = outputs.get(\"logits\")\n",
        "\n",
        "        logits_tensor = nn.functional.interpolate(\n",
        "        logits,\n",
        "        size=labels.shape[-2:],\n",
        "        mode=\"bilinear\",\n",
        "        align_corners=False,\n",
        "        )\n",
        "\n",
        "        disease_logits = logits_tensor[:, 1, :, :]\n",
        "\n",
        "\n",
        "        loss_fct = LovaszLoss(mode='binary')\n",
        "        loss = loss_fct(disease_logits, labels)\n",
        "\n",
        "        return (loss, outputs) if return_outputs else loss"
      ],
      "metadata": {
        "id": "wf4dwFzbUgvy"
      },
      "execution_count": null,
      "outputs": []
    },
    {
      "cell_type": "code",
      "source": [
        "from segmentation_models_pytorch.losses import MCCLoss\n",
        "\n",
        "# MCC Loss\n",
        "class MCCTrainer(Trainer):\n",
        "    def compute_loss(self, model, inputs, return_outputs=False):\n",
        "        labels = inputs.get(\"labels\")\n",
        "        # forward pass\n",
        "        outputs = model(**inputs)\n",
        "        logits = outputs.get(\"logits\")\n",
        "\n",
        "        logits_tensor = nn.functional.interpolate(\n",
        "        logits,\n",
        "        size=labels.shape[-2:],\n",
        "        mode=\"bilinear\",\n",
        "        align_corners=False,\n",
        "        )\n",
        "\n",
        "        disease_logits = logits_tensor[:, 1, :, :]\n",
        "\n",
        "\n",
        "        loss_fct = MCCLoss()\n",
        "        loss = loss_fct(disease_logits, labels)\n",
        "\n",
        "        return (loss, outputs) if return_outputs else loss"
      ],
      "metadata": {
        "id": "dr4TWDXWVAMW"
      },
      "execution_count": null,
      "outputs": []
    },
    {
      "cell_type": "markdown",
      "source": [
        "### Wandb"
      ],
      "metadata": {
        "id": "5-hXCmrHlpxw"
      }
    },
    {
      "cell_type": "code",
      "source": [
        "!pip install -q wandb"
      ],
      "metadata": {
        "id": "g1ht6y7pRwTT"
      },
      "execution_count": null,
      "outputs": []
    },
    {
      "cell_type": "code",
      "source": [
        "import wandb\n",
        "wandb.login()\n",
        "\n",
        "%env WANDB_PROJECT=leaf_disease_sweeps\n",
        "%env WANDB_LOG_MODEL='end'"
      ],
      "metadata": {
        "id": "z0YEqenmR9c9"
      },
      "execution_count": null,
      "outputs": []
    },
    {
      "cell_type": "code",
      "source": [
        "model_checkpoint = \"nvidia/mit-b2\""
      ],
      "metadata": {
        "id": "Tn8P8iJ5SEat"
      },
      "execution_count": null,
      "outputs": []
    },
    {
      "cell_type": "code",
      "source": [
        "from transformers import SegformerForSemanticSegmentation, TrainingArguments, Trainer\n",
        "import torch.nn as nn\n",
        "\n",
        "def model_init():\n",
        "    '''\n",
        "    initialize model\n",
        "\n",
        "    Return:\n",
        "    -------\n",
        "        model to fine-tune\n",
        "    '''\n",
        "    model = SegformerForSemanticSegmentation.from_pretrained(\n",
        "    model_checkpoint,\n",
        "    id2label=id2label,\n",
        "    label2id=label2id,\n",
        "    ignore_mismatched_sizes=True,  # Will ensure the segmentation specific components are reinitialized.\n",
        "    )\n",
        "\n",
        "    # Change model architecture so that it will be able to work with multispectral (6-channel) images\n",
        "    model.segformer.encoder.patch_embeddings[0].proj = nn.Conv2d(6, 64,\n",
        "                                                             kernel_size=(7, 7),\n",
        "                                                             stride=(4, 4),\n",
        "                                                             padding=(3, 3))\n",
        "    return model"
      ],
      "metadata": {
        "id": "MR72yDeGSZh-"
      },
      "execution_count": null,
      "outputs": []
    },
    {
      "cell_type": "code",
      "source": [
        "# Define sweep config\n",
        "sweep_config = {\n",
        "    'method': 'bayes',\n",
        "    'metric': {\n",
        "        'name': 'eval/mean',\n",
        "        'goal': 'maximize'\n",
        "    }\n",
        "}\n",
        "\n",
        "# hyperparameters\n",
        "parameters_dict = {\n",
        "    'epochs': {\n",
        "        'value': 5\n",
        "        },\n",
        "\n",
        "    'batch_size': {\n",
        "        'value': 8\n",
        "    },\n",
        "\n",
        "    'num_warmup_steps': {\n",
        "        'distribution': 'int_uniform',\n",
        "        'min': 0,\n",
        "        'max': 200,\n",
        "    },\n",
        "\n",
        "    'learning_rate': {\n",
        "        'distribution': 'uniform',\n",
        "        'min': 1e-6,\n",
        "        'max': 1e-3\n",
        "    },\n",
        "\n",
        "    'weight_decay': {\n",
        "        'distribution': 'uniform',\n",
        "        'min': 0.0,\n",
        "        'max': 1.5,\n",
        "    },\n",
        "\n",
        "    'objective': {\n",
        "        'values': ['CrossEntropyLoss', 'JaccardLoss', 'DiceLoss', 'TverskyLoss',\n",
        "                   'FocalLoss', 'LovaszLoss', 'MCCLoss']\n",
        "    },\n",
        "\n",
        "    'betta_1': {\n",
        "        'distribution': 'uniform',\n",
        "        'min': 0.5,\n",
        "        'max': 1\n",
        "    },\n",
        "\n",
        "    'betta_2': {\n",
        "        'distribution': 'uniform',\n",
        "        'min': 0.5,\n",
        "        'max': 1\n",
        "    },\n",
        "\n",
        "    'class_weight_0': {\n",
        "        'distribution': 'uniform',\n",
        "        'min': 0.3,\n",
        "        'max': 5\n",
        "    },\n",
        "\n",
        "    'class_weight_1': {\n",
        "        'distribution': 'uniform',\n",
        "        'min': 5,\n",
        "        'max': 50\n",
        "    },\n",
        "\n",
        "    'tversky_alpha': {\n",
        "        'distribution': 'uniform',\n",
        "        'min': 0.1,\n",
        "        'max': 1\n",
        "    },\n",
        "\n",
        "    'tversky_betta': {\n",
        "        'distribution': 'uniform',\n",
        "        'min': 0.1,\n",
        "        'max': 1\n",
        "    },\n",
        "\n",
        "    'focal_gamma': {\n",
        "        'distribution': 'uniform',\n",
        "        'min': 0,\n",
        "        'max': 5\n",
        "    },\n",
        "\n",
        "    'focal_alpha': {\n",
        "        'distribution': 'uniform',\n",
        "        'min': 0.1,\n",
        "        'max': 1\n",
        "    },\n",
        "\n",
        "    'smooth': {\n",
        "        'distribution': 'uniform',\n",
        "        'min': 0,\n",
        "        'max': 1.5\n",
        "    },\n",
        "}\n",
        "\n",
        "\n",
        "sweep_config['parameters'] = parameters_dict"
      ],
      "metadata": {
        "id": "NelYA2wOSq2U"
      },
      "execution_count": null,
      "outputs": []
    },
    {
      "cell_type": "code",
      "source": [
        "sweep_id = wandb.sweep(sweep_config, project='multispec-leaf-disease-sweeps')"
      ],
      "metadata": {
        "id": "xVg6ZX_QSuwl"
      },
      "execution_count": null,
      "outputs": []
    },
    {
      "cell_type": "code",
      "source": [
        "from sklearn.metrics import cohen_kappa_score\n",
        "\n",
        "def calculate_cohen_kappa(y_true, y_pred):\n",
        "    return cohen_kappa_score(y_true.flatten(), y_pred.flatten())"
      ],
      "metadata": {
        "id": "NPoP_d5uTNxJ"
      },
      "execution_count": null,
      "outputs": []
    },
    {
      "cell_type": "code",
      "source": [
        "import torch\n",
        "from torch import nn\n",
        "import evaluate\n",
        "from matplotlib import pyplot as plt\n",
        "\n",
        "metric = evaluate.load(\"mean_iou\")\n",
        "sigma = nn.Sigmoid()\n",
        "\n",
        "def compute_metrics(eval_pred):\n",
        "    global best_mean\n",
        "    global best_iou\n",
        "    global best_dice\n",
        "    global best_kappa\n",
        "    with torch.no_grad():\n",
        "\n",
        "        logits, labels = eval_pred\n",
        "\n",
        "        logits_tensor = torch.from_numpy(logits)\n",
        "        # scale the logits to the size of the label\n",
        "        logits_tensor = nn.functional.interpolate(\n",
        "            logits_tensor,\n",
        "            size=labels.shape[-2:],\n",
        "            mode=\"bilinear\",\n",
        "            align_corners=False,\n",
        "        ).detach().cpu().numpy()\n",
        "\n",
        "\n",
        "        pred_labels = logits_tensor.argmax(axis=1)\n",
        "\n",
        "        # currently using _compute instead of compute\n",
        "        # see this issue for more info: https://github.com/huggingface/evaluate/pull/328#issuecomment-1286866576\n",
        "        metrics = metric._compute(\n",
        "                predictions=pred_labels,\n",
        "                references=labels,\n",
        "                num_labels=len(id2label),\n",
        "                ignore_index=-1,\n",
        "                reduce_labels=False,#feature_extractor.do_reduce_labels,\n",
        "            )\n",
        "\n",
        "\n",
        "        eval_iou = metrics['per_category_iou'][1]\n",
        "\n",
        "        metrics = {'eval_IoU': eval_iou}\n",
        "        metrics['eval_Dice'] = eval_iou * 2 / (eval_iou + 1)\n",
        "        metrics['eval_kappa_score'] = calculate_cohen_kappa(labels, pred_labels)\n",
        "        metrics['eval_mean'] = (metrics['eval_IoU'] + metrics['eval_kappa_score']) / 2\n",
        "\n",
        "        print('Mean:', metrics['eval_mean'])\n",
        "        print('IoU:', metrics['eval_IoU'])\n",
        "        print('Dice:', metrics['eval_Dice'])\n",
        "        print('kappa:', metrics['eval_kappa_score'])\n",
        "\n",
        "        if metrics['eval_mean'] > best_mean:\n",
        "            best_mean = metrics['eval_mean']\n",
        "            best_iou = metrics['eval_IoU']\n",
        "            best_dice = metrics['eval_Dice']\n",
        "            best_kappa = metrics['eval_kappa_score']\n",
        "        else:\n",
        "            metrics['eval_mean'] = best_mean\n",
        "            metrics['eval_IoU'] = best_iou\n",
        "            metrics['eval_Dice'] = best_dice\n",
        "            metrics['eval_kappa_score'] = best_kappa\n",
        "\n",
        "\n",
        "    return metrics"
      ],
      "metadata": {
        "id": "60oU_iEdTRFx"
      },
      "execution_count": null,
      "outputs": []
    },
    {
      "cell_type": "code",
      "source": [
        "from torch.optim import AdamW\n",
        "from transformers import TrainingArguments, get_linear_schedule_with_warmup\n",
        "\n",
        "def train(config=None):\n",
        "    '''\n",
        "    perform training procedure with particular configuration\n",
        "\n",
        "    Parameters:\n",
        "    -----------\n",
        "        config (dict):\n",
        "            training hyperparameters\n",
        "    '''\n",
        "\n",
        "    global best_mean\n",
        "    global best_iou\n",
        "    global best_dice\n",
        "    global best_kappa\n",
        "    best_mean = 0\n",
        "    best_iou = 0\n",
        "    best_dice = 0\n",
        "    best_kappa = 0\n",
        "    with wandb.init(config=config):\n",
        "        # set sweep configuration\n",
        "        config = wandb.config\n",
        "\n",
        "        epochs = config.epochs\n",
        "        batch_size = config.batch_size\n",
        "\n",
        "        num_training_steps = len(train_dataset) // batch_size * epochs\n",
        "\n",
        "        model = model_init()\n",
        "        optimizer = AdamW(model.parameters(), lr=config.learning_rate,\n",
        "                          weight_decay=config.weight_decay,\n",
        "                          betas=(config.betta_1, config.betta_1))\n",
        "        scheduler = get_linear_schedule_with_warmup(optimizer=optimizer,\n",
        "                                                    num_warmup_steps=config.num_warmup_steps,\n",
        "                                                    num_training_steps=num_training_steps)\n",
        "\n",
        "\n",
        "\n",
        "        # set training arguments\n",
        "        training_args = TrainingArguments(\n",
        "        \"segformer-b2-finetuned-leaf-disease\",\n",
        "        label_smoothing_factor=config.smooth,\n",
        "        num_train_epochs=config.epochs,\n",
        "        per_device_train_batch_size=config.batch_size,\n",
        "        per_device_eval_batch_size=config.batch_size,\n",
        "        save_total_limit=5,\n",
        "        evaluation_strategy=\"epoch\",\n",
        "        save_strategy=\"epoch\",\n",
        "        logging_strategy='epoch',\n",
        "        load_best_model_at_end=True,\n",
        "        metric_for_best_model='eval_mean',\n",
        "        greater_is_better=True,\n",
        "        push_to_hub=False,\n",
        "        remove_unused_columns=False,\n",
        "        seed=magic_seed,\n",
        "        hub_strategy=\"end\",\n",
        "        )\n",
        "\n",
        "        objective = config.objective\n",
        "\n",
        "        # define particular Trainer\n",
        "        if objective == 'CrossEntropyLoss':\n",
        "            trainer = WeightedCSETrainer(model=model,\n",
        "                                         args=training_args,\n",
        "                                         train_dataset=train_dataset,\n",
        "                                         eval_dataset=val_dataset,\n",
        "                                         compute_metrics=compute_metrics,\n",
        "                                         optimizers=(optimizer, scheduler))\n",
        "            setattr(trainer, 'weight_0', config.class_weight_0)\n",
        "            setattr(trainer, 'weight_1', config.class_weight_1)\n",
        "        elif objective == 'JaccardLoss':\n",
        "            trainer = JaccardTrainer(model=model,\n",
        "                                     args=training_args,\n",
        "                                     train_dataset=train_dataset,\n",
        "                                     eval_dataset=val_dataset,\n",
        "                                     compute_metrics=compute_metrics,\n",
        "                                     optimizers=(optimizer, scheduler))\n",
        "\n",
        "        elif objective == 'DiceLoss':\n",
        "            trainer = DiceTrainer(model=model,\n",
        "                                  args=training_args,\n",
        "                                  train_dataset=train_dataset,\n",
        "                                  eval_dataset=val_dataset,\n",
        "                                  compute_metrics=compute_metrics,\n",
        "                                  optimizers=(optimizer, scheduler))\n",
        "\n",
        "        elif objective == 'TverskyLoss':\n",
        "            trainer = TverskyTrainer(model=model,\n",
        "                                     args=training_args,\n",
        "                                     train_dataset=train_dataset,\n",
        "                                     eval_dataset=val_dataset,\n",
        "                                     compute_metrics=compute_metrics,\n",
        "                                     optimizers=(optimizer, scheduler))\n",
        "\n",
        "            setattr(trainer, 'alpha', config.tversky_alpha)\n",
        "            setattr(trainer, 'betta', config.tversky_betta)\n",
        "        elif objective == 'FocalLoss':\n",
        "            trainer = FocalTrainer(model=model,\n",
        "                                   args=training_args,\n",
        "                                   train_dataset=train_dataset,\n",
        "                                   eval_dataset=val_dataset,\n",
        "                                   compute_metrics=compute_metrics,\n",
        "                                   optimizers=(optimizer, scheduler))\n",
        "\n",
        "            setattr(trainer, 'alpha', config.focal_alpha)\n",
        "            setattr(trainer, 'gamma', config.focal_gamma)\n",
        "        elif objective == 'LovaszLoss':\n",
        "            trainer = LovaszTrainer(model=model,\n",
        "                                    args=training_args,\n",
        "                                    train_dataset=train_dataset,\n",
        "                                    eval_dataset=val_dataset,\n",
        "                                    compute_metrics=compute_metrics,\n",
        "                                    optimizers=(optimizer, scheduler))\n",
        "        elif objective == 'MCCLoss':\n",
        "            trainer = MCCTrainer(model=model,\n",
        "                                 args=training_args,\n",
        "                                 train_dataset=train_dataset,\n",
        "                                 eval_dataset=val_dataset,\n",
        "                                 compute_metrics=compute_metrics,\n",
        "                                 optimizers=(optimizer, scheduler))\n",
        "        else:\n",
        "            print('ВЫ ВВЕЛИ НЕПРАВИЛЬНЫЙ ЛОСС')\n",
        "\n",
        "\n",
        "\n",
        "        # start training loop\n",
        "        trainer.train()"
      ],
      "metadata": {
        "id": "9VKwTOKeTyxO"
      },
      "execution_count": null,
      "outputs": []
    },
    {
      "cell_type": "code",
      "source": [
        "# We will log the mean value of IoU and kappa score. The higher this value, the better\n",
        "best_mean = 0\n",
        "\n",
        "best_iou = 0\n",
        "best_dice = 0\n",
        "best_kappa = 0"
      ],
      "metadata": {
        "id": "F7h4t9iXkwLF"
      },
      "execution_count": null,
      "outputs": []
    },
    {
      "cell_type": "code",
      "source": [
        "# Start tuning hyperparameters\n",
        "wandb.agent(sweep_id, train, count=50)"
      ],
      "metadata": {
        "id": "2J61WP-HUFYQ",
        "colab": {
          "base_uri": "https://localhost:8080/",
          "height": 1000,
          "referenced_widgets": [
            "04615a0638064e52b9779b55a9e51d85",
            "b3f2662ef8d54ed4a6be1ee68b497796",
            "9f2ad9462d724aaa900cd2a537b4591a",
            "db3173c98b6b4398aa7f0cf5d0424413",
            "3bf7ed6c30204288a198f87b74645176",
            "a96f0630120340b9a31c57860eec8d1a",
            "1e9917182b82471f9ca185f18aa64bc5",
            "f3a34c320a11438daf61342d303fbe6a",
            "c743de627513465bb4472a1658c15a3e",
            "0899a4b44ede43a6bc33bc0a090ae039",
            "31211b4ca32b408bbaa7d66980935b4a",
            "85be1830ae6147da89e7f43e4a5d5876",
            "8c03203681c94785b3b9b539b610ac8e",
            "004d404f4b23424f80f0790d811d4137",
            "752f01b770d14db88faa53b92ad88821",
            "38ec5a3039704233a2e741c9c7abe3e2",
            "5a67530339054c9b87cf7020200d6879",
            "352d8c424fa24421a0a3884ca8c4f853",
            "b86aa11e1f4a4d8790f6e7a08996b9f1",
            "8856369cf31e404fa0d0d90798734ae0",
            "4c8eea7c016748e5ae4b56c00a5a3fe7",
            "a59bee3c5ce6439b813b6e2e7be3b62e",
            "14e5a38f512e475aa89c9fd976ed543d",
            "39dc16a93ba94305b36d793d71468cf8",
            "9bfbdce1a0bb482c99f0b3f7f2f4aed4",
            "c94dde986757443fa7bdc2aee762a743",
            "dfe89670898b4f1ea6648b0c87af94ae",
            "476d33d5a099408a84385bbb211ebb1f",
            "f7723ee74bf944c78ace5c0f357cbb5f",
            "33f0ca49db8a4bf390374bdea5da0c96",
            "cd6e63045bb146b6971a78babfe95de7",
            "8f001bc116bc41ea8c58e8e67c1aebd9",
            "3121a8dcfbc64092a52687f7d9c92b92",
            "2973c824d9a541298cb6cbfadfefc22b",
            "aea6961c829b445392170097f46b5c33",
            "785b9fa6ebe944278566d284260c804e",
            "6c4d02e371a64b15b84a3dd7e121b259",
            "654e525e5e0d4dfb864b12dcfd660032",
            "fe67810c026f4ebd9cc6a1932f8274ca",
            "23f55d1ea6a84691a835ca774db72f41",
            "8462a881284e4ce68673c0961237f3f1",
            "5d3a508e206b41c1ba8839df992adff8",
            "418b977da0344c6bb240bfc9c47f66cc",
            "8dc05a9b5ea144cdb5b3deff2c2e4f2c",
            "7bcee599441146079d59211cfe8c8f38",
            "f3ce8900884a4e3e95a4cb96868ab261",
            "bfe6d4085fef4c3d8724e81debd01c6a",
            "cd7ad955137c4afbba4c43dc9172175a",
            "3cfcb3475111463f99cedc08ab4c5b0e",
            "a236f4a1efea4c469d80ab896a4cdcf8",
            "5f6c795f2ee449cb9bb36206c2c5ac77",
            "69b09234d0d8495ba56fe18424a32ad3",
            "926d1dfee68c44d9be7f532f3d0ab327",
            "eb25f4461a4740af9a4d4cb72ada5954",
            "b60c2bf5dd574e7e8759974bc77a3708",
            "116440a199844e4e97d74a5e15d34b7b",
            "090b4423a63b4c258f4764e908ee569f",
            "4b39e54bdeec421f9e99726c596d46a7",
            "78722b2ab80a4de98e9132c2be8f3976",
            "238afd9ed25245e181f239c9a3d656f2",
            "d059556ec0c54ba88d7aafb5a293e177",
            "4e968b2ea08d4360bbefc6b59aa6a470",
            "7a3d953e4bf148fab5812335428ae1d4",
            "fad2379f71b54e1b9e20a01ab566851a",
            "fee43fafd9d948fbbbf6c658c4cde481",
            "670d744ee38e437099556e6fc7d803f7",
            "f13cd11fbd534f92a4f371b78386e967",
            "30164a129bec479a8f4616b01b704ca0",
            "e99ba323259f4cf7a3ecf751b8a3ae8f",
            "325826c0bfd9409884e9b8c494316e2f",
            "1555363fa47440cab51395aa2c092342",
            "15f5c9b1397a4350b99396ff0ba07c7a",
            "af76e868e89e49e3904e7ab3af04e011",
            "f7421fccc35e48728744450efb31d187",
            "b53941f2c30040c2a21ef7d4efffc1c6",
            "9e220cf2794e4393a383c5ea9f66dcc5",
            "29269da3fb424a19ba1cd00d11158558",
            "e86ab7675df74ea0b8001a7264a56c60",
            "adbfe3e14a8f432087f6528617504aad",
            "0caa5a9c3c81414390132de1981138f2",
            "7dfb4c4d4652413f87bf6a151a883634",
            "5f1e48b46b9f4754891c77a8a856b225",
            "3a9f652baa0e4cc9a5a8d442716f9bf3",
            "daed9967cd294d089ed04a7aa141d622",
            "d09ba5d8113d4524ae833f96dc1b4c1f",
            "2ed693deb8e4472fb4fbf591efc3e3a9",
            "03bcb3029a4048fc84be770d309625bb",
            "c08d48f29fcc4abcadeec0fd29e8d594",
            "c2d1dff4366d41b683140f5decb50a68",
            "bc46b87a6bd3486e807983c276105fd6",
            "a486e7b9aae74be6a53c53d6f0103e31",
            "d77be17f0bc141df836bf163c77ab8b4",
            "0733cea104d848ba851526fc1be8e180",
            "b304dc938f8d49e3b0c29d329577a504",
            "908942e5d015440babc92f53e96f42ca",
            "02a397ef4ffb4e60852b071c737a7813",
            "0c170127dd6643b48c701b278ad44e31",
            "c7139d37bd7c42baaa96f5c4a5f7737b",
            "0d90a3321b2242e9a9add302e10be87e",
            "ac3208ade67f48d59e6ea990e03e57be",
            "dfaec162c8094032971f0557952ed6c4",
            "226935fb92a346d2b4e2e3ab34e66c1a",
            "def4d7ad4da54ff9816451d518e01965",
            "801a16d8c0034a5fbf32874b69ecd668",
            "b0afff23efdb4ca69b53b2153757d354",
            "67bd1d472b814e6e99f7abd83b0d4ff3",
            "9affb2a2760c4a12b2acfdc3e6d1f058",
            "cab5cad627934e2bbd9392337ec369d4",
            "9287b18579a94ae8a14c619849cd413b",
            "367984f396774bacbc0f06c84bec02c5",
            "580d1091181b450a92230f9eb6e09e3f",
            "aeb1b60a84304e07a4f1ccb7b3549638",
            "115ee104da2e48bd8869a8a2644f19b3",
            "074ac30c4ab349f0a0791d3c400992f9",
            "b3f87870d9784adfb883240cfa50d77a",
            "8472086256b945b9b921bc70d2219a1e",
            "4bb5a09df1d84b578fd43fbe3391203c",
            "9010a775f4094e4e8ac9fe3ef974f4fe",
            "cb00240b003a449b8d8489a47ff57c06",
            "e8af149577cb45f0b63be3a05b3ce0b0",
            "c69e85e6f63b4c67a16211d27d918c2b",
            "8f80e98fda7c439cac6a5704b9dcc682",
            "ed7100002a95453397d0d1c8ff71f53e",
            "1f8366097dd34048938afa9a1838451a",
            "0fd805078cc24cc99ac6b1cb018d7592",
            "9fbfdce58a5d431d96ebfa32a8dd51e7",
            "1a0363a4b6254a03b1145f4937709118",
            "494b9fac323d48708f405d20ae55e2db",
            "cf78f8f4957f4ce38b98a21d3d073fbb",
            "a2fd896c844a4d448e0b9de137c99765",
            "1b943d0edef14692aba0a2e2486a7676",
            "cd8815a3ca8e44d09cab30b0819d0265",
            "9b702717d14a4c5d953b9d1d7b08309e",
            "9fd119bcc3f3416194f062c47243f270",
            "4efdf4f51aa04f5487c049c0299363d7",
            "2f8ede691da14d3b88eeaef6a6971463",
            "3df42ed2b1c34b48987f759e8a11981e",
            "ed11bf093dc84ff2a11fc880e62c6b46",
            "effb7ef325ef4547b043d9a3b50196b1",
            "593b24a8644e4d07b37b8b662919e99d",
            "67b48e90ec7d49f5ab45a6566a741fdd",
            "71426e0e127d4c6da1693fd1dd805529",
            "320a3b46974f4a7a8c327528c76d3b12",
            "37855d95cfb241e686bd82c6eb39f27e",
            "567a2534ba884968a690389ddf224dc1",
            "182ca62fcf50439386278972d851939c",
            "e7a2d8ffa1cf4e038179aff1bc4d552d",
            "61f9387fdaab4cc19fd8e10e05c96f0f",
            "80bd3412b2b547b0aa1243ce0950768b",
            "8c54f64f87594ecaa51ddd1088fc4c21",
            "c806f4b15b684814a62f0b3b76adfb74",
            "21f89b87d55e496cb8ebaaa35087f87a",
            "26b0eff7b34345f6b7fedfbce520da80",
            "cea60b66998640d29ad0889086bbdb7a",
            "d682e4a493b94df5adaa0557fe70d60d",
            "cdd26bc6daac4800bc206c0af258d3f8",
            "b3bd1e838d504bc685d6567e11cc6bb3",
            "edf2f4ceba6a48699dcea6b06ab11ef9",
            "6d265cd877db426683c0471e72cb9c36",
            "18f513b0b9f648ddb41c722fa7a142fc",
            "4f8d0847e3c74077b1e3bcbb59c67648",
            "df2a3155f32348f39d37ef863d9e9924",
            "e41eddc924314eebbf83597ef530d92b",
            "cc7961fb31ce430cb830d85035b930f9",
            "6fb5e36f989440deaecd20533ec988ca",
            "fa158a9f702749e9ab74d7d3ccd05150",
            "ce17260500ce409caa2d8ca7f00365dc",
            "f7ae4bec8ec446e597b3e051f502ed60",
            "b256e14b61f940eab068e9f68be61fe6",
            "6ad9ff1dbbbb4f6084f389c076a019bc",
            "32eb092d820545d79b68fab30d470ae6",
            "9b57be1b073e4c04aae329c55952f6b2",
            "0ce32171df7440d8b23b02f453230c06",
            "54c4dabcaf8e4c3ebb6f26fb04c7a240",
            "e5e74a168c1d469bb19af3974077c383",
            "367c3f5a3a6c4b08a3f27f75b0df06a1",
            "fa58622a28ab4ca9a5fee02418e5b7ab",
            "e7b8831a83464b47a637711f3642e02b",
            "9aac458e232643c89f3aaaab3484821a",
            "6fb5c00d3df84b7c83e7d5e33e121900",
            "7e8184ec417b4f0b9aa33a8ad7e06d66",
            "0b3b08835ac944fcbdc0fc49966a7d31",
            "34f5e19fdd05414aa4924aec91901378",
            "c3bc605588594265bc48946c1bfdf9f8",
            "c23b62799c614ac894296950ccbdd878",
            "5a82d59ed49546f38c1f58dd0340c67b",
            "736c88149c9c4529a25c83d4d94a78c4",
            "c8892530b46e4722b8a075b16fdf79cb",
            "039a94f897714fbd828bfb549743c3f1",
            "a794469e02f74263b375d77f821c4adc",
            "6c4001071c214ba9add6a47d5d65a4b2",
            "f54b4a9c75e44423ba2b093e075d9fe3",
            "e2f34848fa714fbea23d03ed57269e13",
            "8f321dd10e63494a83c02921dbb3ee97",
            "dcb39ecfade0407fb06579e964e962a3",
            "6548c161f56d4eeb9fdb0c40c7a7f9c1",
            "fc6d2cc9f5d54852a5a7d781ff260bf4",
            "1cf00406030c40ddaa716042983bb8ca",
            "1995ac5011474f709c60911f0885817e",
            "c212db7132124b679c09289a283b9ff4",
            "70330e119f2d484cba670c9ec5702892",
            "949519a66f054d1187332d3b51798128",
            "2eedb908dc9c4bb7885a21fff4f8558c",
            "9125db2c77114c3b81b2f6924f85611b",
            "2d1baac7dff54ae4a52f2c748ba77fe1",
            "2bc0908d71984b49a018733f116c1b90",
            "66d3a2ef172c4e6d9ccd8ac9e0974a77",
            "5fe87d039b9b41b9b2d5eaf4a8bbef05",
            "37ccc62415f2429c9660756fdca0faec",
            "2c8331fd47814ff7bbcc53f664cd003f",
            "33546059766a4ff99b0a754c95c2d26d",
            "eb1e8f3d38ad41ab8b6dee42856f8cdc",
            "0eb95e76cd794511b443e780b9765031",
            "3a5f661e51694a6d87ee1315c9a3aaaa",
            "1c877b83ae4749c38c2ea728586c4313",
            "d31abf0f9d514090a113f6ee746b8cb8",
            "ee8fb1ed312449c3a9eac9cb0d273866",
            "e63a7d6cc46b411088e870a5da6d8cff",
            "5aa48ba7ad7d484a8ab7ecfdcf832e76",
            "16da14ba233d48a79a644cbbafc28d99",
            "06d2469ba04447d4b35ebf1714033535",
            "75790225558543a79e54e6faaa9880fa",
            "f6c8accbfa454618928b761f16988a8f",
            "ef09e86e863d4d8b97d45ed923589966",
            "e34688792b044103b2f64a50204a9bb2",
            "e005560ef52941c29ad36b36ba7f85d5",
            "c5822688759243a98f6aadcd5f3893ee",
            "d71c94ef558144c9b44a14f02cc89c03",
            "36526d29933c486c87ffb8b269564815",
            "8ccaaa1b50fc4af6b4053cdc25157520",
            "e0146b1d2b9e4779b5da066c2de7acb6",
            "f2a4302d88434b1fa4a67bf087f504c0",
            "bb9e3bd4b17d41cfbfc8fa45126f4760",
            "7704f13af590418d92c887a789311444",
            "7cfb5f72c87f4faf807a97ba95a72913",
            "934b861988124e0caba249cfe2eb77b0",
            "1796d2c857cb4ed396d9d54a15afff09",
            "96b318ee1d75408d89a1bb1f3d2a433d",
            "5208bc81d3114402a2e7f8b6ae6f3e20",
            "ffe1452fdf8743e4847fd3f805762cf6",
            "4548cdbc4c7647c8842b43761ff4bf7e",
            "e892e696d42b47ef8cabcfe49507833f",
            "90c2731aceb045a49297692c11c0555b",
            "959f397f28274f59b731e63cf2ac9c9f",
            "d0e3b35eff2d448e86f9b2bbf6eb82e8",
            "5b209d9beced4b99b4a6492ce78f7a9d",
            "68af578179c2460faddbe8bcd1ae500f",
            "3c1b22b74c89438ebada592ae7da7fe4",
            "f73fbe5a3570480698f4089dc55e9b07",
            "3ea6961acd074a6da5a2d7742f9470fb",
            "4def6efb73f146539d98b68f7eda08df",
            "f564a2a0c6ba441797f317a838ff2868",
            "b1e56ed4e6d9442ba2953c88a9372895",
            "08682d9a43884d6f84f4f8e73fa0b324",
            "6aabda56755a452fb84313a2759c0709",
            "03870d403b3746508fe1ed69a9cce209",
            "079c4ee09b5f41babb09c54f1682aa75",
            "7cac125762ae4564ac406bd56e8cf6e7",
            "588c251ab0f84a2e97fdea74776ff0b7",
            "0733e8537e8745d4aeacbb8b6eecbf89",
            "b460c3e7f02f477ca108d87e497a514b",
            "ca2ecdc708924e1eb939175054145f8b",
            "a58358c763e74ff6b5cdc0fdb376b970",
            "ea10b1ba3a8645e59ce90e3afe141e79",
            "c739d7a284384beba99240bff3c7dae3",
            "bcab3ae0e0a84f4ba9e02fdf599e3e78",
            "259f9438ec37463f8b0119c1dcded392",
            "5c1847b0cbf144a984689a8548068825",
            "514c0144aaa54b52867fd971e637789c",
            "920155a8ff5242bfb0e428d9ad9a5343",
            "89b534e7ee064d128a123fa703bbe5e4",
            "4863857d578743359d6e4a9eba78aecb"
          ]
        },
        "outputId": "24c38285-4877-462c-8c6e-a7d395d6953d"
      },
      "execution_count": null,
      "outputs": [
        {
          "metadata": {
            "tags": null
          },
          "name": "stderr",
          "output_type": "stream",
          "text": [
            "\u001b[34m\u001b[1mwandb\u001b[0m: Agent Starting Run: 20ji1jbq with config:\n",
            "\u001b[34m\u001b[1mwandb\u001b[0m: \tbatch_size: 8\n",
            "\u001b[34m\u001b[1mwandb\u001b[0m: \tbetta_1: 0.6733811349468842\n",
            "\u001b[34m\u001b[1mwandb\u001b[0m: \tbetta_2: 0.6531000450935891\n",
            "\u001b[34m\u001b[1mwandb\u001b[0m: \tclass_weight_0: 2.5335889266254115\n",
            "\u001b[34m\u001b[1mwandb\u001b[0m: \tclass_weight_1: 29.45220495433291\n",
            "\u001b[34m\u001b[1mwandb\u001b[0m: \tepochs: 5\n",
            "\u001b[34m\u001b[1mwandb\u001b[0m: \tfocal_alpha: 0.1261787953389969\n",
            "\u001b[34m\u001b[1mwandb\u001b[0m: \tfocal_gamma: 1.36537336321138\n",
            "\u001b[34m\u001b[1mwandb\u001b[0m: \tlearning_rate: 0.00029416366340114924\n",
            "\u001b[34m\u001b[1mwandb\u001b[0m: \tnum_warmup_steps: 91\n",
            "\u001b[34m\u001b[1mwandb\u001b[0m: \tobjective: MCCLoss\n",
            "\u001b[34m\u001b[1mwandb\u001b[0m: \tsmooth: 0.7543296344281722\n",
            "\u001b[34m\u001b[1mwandb\u001b[0m: \ttversky_alpha: 0.1841302902763169\n",
            "\u001b[34m\u001b[1mwandb\u001b[0m: \ttversky_betta: 0.16571841329169207\n",
            "\u001b[34m\u001b[1mwandb\u001b[0m: \tweight_decay: 1.3090100498640664\n"
          ]
        },
        {
          "data": {
            "text/html": [
              "Tracking run with wandb version 0.17.0"
            ],
            "text/plain": [
              "<IPython.core.display.HTML object>"
            ]
          },
          "metadata": {},
          "output_type": "display_data"
        },
        {
          "data": {
            "text/html": [
              "Run data is saved locally in <code>/content/wandb/run-20240517_132157-20ji1jbq</code>"
            ],
            "text/plain": [
              "<IPython.core.display.HTML object>"
            ]
          },
          "metadata": {},
          "output_type": "display_data"
        },
        {
          "data": {
            "text/html": [
              "Syncing run <strong><a href='https://wandb.ai/nalex22-uv-j02/multispec-leaf-disease-sweeps/runs/20ji1jbq' target=\"_blank\">clear-sweep-1</a></strong> to <a href='https://wandb.ai/nalex22-uv-j02/multispec-leaf-disease-sweeps' target=\"_blank\">Weights & Biases</a> (<a href='https://wandb.me/run' target=\"_blank\">docs</a>)<br/>Sweep page: <a href='https://wandb.ai/nalex22-uv-j02/multispec-leaf-disease-sweeps/sweeps/kz96xpi3' target=\"_blank\">https://wandb.ai/nalex22-uv-j02/multispec-leaf-disease-sweeps/sweeps/kz96xpi3</a>"
            ],
            "text/plain": [
              "<IPython.core.display.HTML object>"
            ]
          },
          "metadata": {},
          "output_type": "display_data"
        },
        {
          "data": {
            "text/html": [
              " View project at <a href='https://wandb.ai/nalex22-uv-j02/multispec-leaf-disease-sweeps' target=\"_blank\">https://wandb.ai/nalex22-uv-j02/multispec-leaf-disease-sweeps</a>"
            ],
            "text/plain": [
              "<IPython.core.display.HTML object>"
            ]
          },
          "metadata": {},
          "output_type": "display_data"
        },
        {
          "data": {
            "text/html": [
              " View sweep at <a href='https://wandb.ai/nalex22-uv-j02/multispec-leaf-disease-sweeps/sweeps/kz96xpi3' target=\"_blank\">https://wandb.ai/nalex22-uv-j02/multispec-leaf-disease-sweeps/sweeps/kz96xpi3</a>"
            ],
            "text/plain": [
              "<IPython.core.display.HTML object>"
            ]
          },
          "metadata": {},
          "output_type": "display_data"
        },
        {
          "data": {
            "text/html": [
              " View run at <a href='https://wandb.ai/nalex22-uv-j02/multispec-leaf-disease-sweeps/runs/20ji1jbq' target=\"_blank\">https://wandb.ai/nalex22-uv-j02/multispec-leaf-disease-sweeps/runs/20ji1jbq</a>"
            ],
            "text/plain": [
              "<IPython.core.display.HTML object>"
            ]
          },
          "metadata": {},
          "output_type": "display_data"
        },
        {
          "metadata": {
            "tags": null
          },
          "name": "stderr",
          "output_type": "stream",
          "text": [
            "/usr/local/lib/python3.10/dist-packages/huggingface_hub/file_download.py:1132: FutureWarning: `resume_download` is deprecated and will be removed in version 1.0.0. Downloads always resume when possible. If you want to force a new download, use `force_download=True`.\n",
            "  warnings.warn(\n",
            "Some weights of SegformerForSemanticSegmentation were not initialized from the model checkpoint at nvidia/mit-b2 and are newly initialized: ['decode_head.batch_norm.bias', 'decode_head.batch_norm.num_batches_tracked', 'decode_head.batch_norm.running_mean', 'decode_head.batch_norm.running_var', 'decode_head.batch_norm.weight', 'decode_head.classifier.bias', 'decode_head.classifier.weight', 'decode_head.linear_c.0.proj.bias', 'decode_head.linear_c.0.proj.weight', 'decode_head.linear_c.1.proj.bias', 'decode_head.linear_c.1.proj.weight', 'decode_head.linear_c.2.proj.bias', 'decode_head.linear_c.2.proj.weight', 'decode_head.linear_c.3.proj.bias', 'decode_head.linear_c.3.proj.weight', 'decode_head.linear_fuse.weight']\n",
            "You should probably TRAIN this model on a down-stream task to be able to use it for predictions and inference.\n",
            "\u001b[34m\u001b[1mwandb\u001b[0m: \u001b[33mWARNING\u001b[0m Config item 'learning_rate' was locked by 'sweep' (ignored update).\n",
            "\u001b[34m\u001b[1mwandb\u001b[0m: \u001b[33mWARNING\u001b[0m Config item 'weight_decay' was locked by 'sweep' (ignored update).\n"
          ]
        },
        {
          "data": {
            "text/html": [
              "\n",
              "    <div>\n",
              "      \n",
              "      <progress value='595' max='595' style='width:300px; height:20px; vertical-align: middle;'></progress>\n",
              "      [595/595 06:21, Epoch 5/5]\n",
              "    </div>\n",
              "    <table border=\"1\" class=\"dataframe\">\n",
              "  <thead>\n",
              " <tr style=\"text-align: left;\">\n",
              "      <th>Epoch</th>\n",
              "      <th>Training Loss</th>\n",
              "      <th>Validation Loss</th>\n",
              "      <th>Iou</th>\n",
              "      <th>Dice</th>\n",
              "      <th>Kappa Score</th>\n",
              "      <th>Mean</th>\n",
              "    </tr>\n",
              "  </thead>\n",
              "  <tbody>\n",
              "    <tr>\n",
              "      <td>1</td>\n",
              "      <td>0.781100</td>\n",
              "      <td>nan</td>\n",
              "      <td>0</td>\n",
              "      <td>0</td>\n",
              "      <td>0</td>\n",
              "      <td>0</td>\n",
              "    </tr>\n",
              "    <tr>\n",
              "      <td>2</td>\n",
              "      <td>0.000000</td>\n",
              "      <td>nan</td>\n",
              "      <td>0</td>\n",
              "      <td>0</td>\n",
              "      <td>0</td>\n",
              "      <td>0</td>\n",
              "    </tr>\n",
              "    <tr>\n",
              "      <td>3</td>\n",
              "      <td>0.000000</td>\n",
              "      <td>nan</td>\n",
              "      <td>0</td>\n",
              "      <td>0</td>\n",
              "      <td>0</td>\n",
              "      <td>0</td>\n",
              "    </tr>\n",
              "    <tr>\n",
              "      <td>4</td>\n",
              "      <td>0.000000</td>\n",
              "      <td>nan</td>\n",
              "      <td>0</td>\n",
              "      <td>0</td>\n",
              "      <td>0</td>\n",
              "      <td>0</td>\n",
              "    </tr>\n",
              "    <tr>\n",
              "      <td>5</td>\n",
              "      <td>0.000000</td>\n",
              "      <td>nan</td>\n",
              "      <td>0</td>\n",
              "      <td>0</td>\n",
              "      <td>0</td>\n",
              "      <td>0</td>\n",
              "    </tr>\n",
              "  </tbody>\n",
              "</table><p>"
            ],
            "text/plain": [
              "<IPython.core.display.HTML object>"
            ]
          },
          "metadata": {},
          "output_type": "display_data"
        },
        {
          "metadata": {
            "tags": null
          },
          "name": "stdout",
          "output_type": "stream",
          "text": [
            "Mean: 0.0\n",
            "IoU: 0.0\n",
            "Dice: 0.0\n",
            "kappa: 0.0\n",
            "Mean: 0.0\n",
            "IoU: 0.0\n",
            "Dice: 0.0\n",
            "kappa: 0.0\n",
            "Mean: 0.0\n",
            "IoU: 0.0\n",
            "Dice: 0.0\n",
            "kappa: 0.0\n",
            "Mean: 0.0\n",
            "IoU: 0.0\n",
            "Dice: 0.0\n",
            "kappa: 0.0\n",
            "Mean: 0.0\n",
            "IoU: 0.0\n",
            "Dice: 0.0\n",
            "kappa: 0.0\n"
          ]
        },
        {
          "data": {
            "application/vnd.jupyter.widget-view+json": {
              "model_id": "04615a0638064e52b9779b55a9e51d85",
              "version_major": 2,
              "version_minor": 0
            },
            "text/plain": [
              "VBox(children=(Label(value='0.002 MB of 0.004 MB uploaded\\r'), FloatProgress(value=0.5982772122161315, max=1.0…"
            ]
          },
          "metadata": {},
          "output_type": "display_data"
        },
        {
          "data": {
            "text/html": [
              "<style>\n",
              "    table.wandb td:nth-child(1) { padding: 0 10px; text-align: left ; width: auto;} td:nth-child(2) {text-align: left ; width: 100%}\n",
              "    .wandb-row { display: flex; flex-direction: row; flex-wrap: wrap; justify-content: flex-start; width: 100% }\n",
              "    .wandb-col { display: flex; flex-direction: column; flex-basis: 100%; flex: 1; padding: 10px; }\n",
              "    </style>\n",
              "<div class=\"wandb-row\"><div class=\"wandb-col\"><h3>Run history:</h3><br/><table class=\"wandb\"><tr><td>eval/Dice</td><td>▁▁▁▁▁</td></tr><tr><td>eval/IoU</td><td>▁▁▁▁▁</td></tr><tr><td>eval/kappa_score</td><td>▁▁▁▁▁</td></tr><tr><td>eval/mean</td><td>▁▁▁▁▁</td></tr><tr><td>eval/runtime</td><td>█▆▅▂▁</td></tr><tr><td>eval/samples_per_second</td><td>▁▃▄▇█</td></tr><tr><td>eval/steps_per_second</td><td>▁▃▄██</td></tr><tr><td>train/epoch</td><td>▁▁▃▃▅▅▆▆███</td></tr><tr><td>train/global_step</td><td>▁▁▃▃▅▅▆▆███</td></tr><tr><td>train/learning_rate</td><td>█▆▄▃▁</td></tr><tr><td>train/loss</td><td>█▁▁▁▁</td></tr></table><br/></div><div class=\"wandb-col\"><h3>Run summary:</h3><br/><table class=\"wandb\"><tr><td>eval/Dice</td><td>0</td></tr><tr><td>eval/IoU</td><td>0</td></tr><tr><td>eval/kappa_score</td><td>0</td></tr><tr><td>eval/loss</td><td>nan</td></tr><tr><td>eval/mean</td><td>0</td></tr><tr><td>eval/runtime</td><td>31.6378</td></tr><tr><td>eval/samples_per_second</td><td>6.638</td></tr><tr><td>eval/steps_per_second</td><td>0.853</td></tr><tr><td>total_flos</td><td>1.219893043396608e+18</td></tr><tr><td>train/epoch</td><td>5.0</td></tr><tr><td>train/global_step</td><td>595</td></tr><tr><td>train/grad_norm</td><td>nan</td></tr><tr><td>train/learning_rate</td><td>0.0</td></tr><tr><td>train/loss</td><td>0.0</td></tr><tr><td>train_loss</td><td>0.15622</td></tr><tr><td>train_runtime</td><td>382.5171</td></tr><tr><td>train_samples_per_second</td><td>12.352</td></tr><tr><td>train_steps_per_second</td><td>1.555</td></tr></table><br/></div></div>"
            ],
            "text/plain": [
              "<IPython.core.display.HTML object>"
            ]
          },
          "metadata": {},
          "output_type": "display_data"
        },
        {
          "data": {
            "text/html": [
              " View run <strong style=\"color:#cdcd00\">clear-sweep-1</strong> at: <a href='https://wandb.ai/nalex22-uv-j02/multispec-leaf-disease-sweeps/runs/20ji1jbq' target=\"_blank\">https://wandb.ai/nalex22-uv-j02/multispec-leaf-disease-sweeps/runs/20ji1jbq</a><br/> View project at: <a href='https://wandb.ai/nalex22-uv-j02/multispec-leaf-disease-sweeps' target=\"_blank\">https://wandb.ai/nalex22-uv-j02/multispec-leaf-disease-sweeps</a><br/>Synced 5 W&B file(s), 0 media file(s), 0 artifact file(s) and 0 other file(s)"
            ],
            "text/plain": [
              "<IPython.core.display.HTML object>"
            ]
          },
          "metadata": {},
          "output_type": "display_data"
        },
        {
          "data": {
            "text/html": [
              "Find logs at: <code>./wandb/run-20240517_132157-20ji1jbq/logs</code>"
            ],
            "text/plain": [
              "<IPython.core.display.HTML object>"
            ]
          },
          "metadata": {},
          "output_type": "display_data"
        },
        {
          "metadata": {
            "tags": null
          },
          "name": "stderr",
          "output_type": "stream",
          "text": [
            "\u001b[34m\u001b[1mwandb\u001b[0m: Agent Starting Run: cpddv6yb with config:\n",
            "\u001b[34m\u001b[1mwandb\u001b[0m: \tbatch_size: 8\n",
            "\u001b[34m\u001b[1mwandb\u001b[0m: \tbetta_1: 0.8499884979892429\n",
            "\u001b[34m\u001b[1mwandb\u001b[0m: \tbetta_2: 0.5561476285282485\n",
            "\u001b[34m\u001b[1mwandb\u001b[0m: \tclass_weight_0: 4.009760277034754\n",
            "\u001b[34m\u001b[1mwandb\u001b[0m: \tclass_weight_1: 31.133691025399425\n",
            "\u001b[34m\u001b[1mwandb\u001b[0m: \tepochs: 5\n",
            "\u001b[34m\u001b[1mwandb\u001b[0m: \tfocal_alpha: 0.985926475829676\n",
            "\u001b[34m\u001b[1mwandb\u001b[0m: \tfocal_gamma: 4.3168816515167485\n",
            "\u001b[34m\u001b[1mwandb\u001b[0m: \tlearning_rate: 0.0008035918543114604\n",
            "\u001b[34m\u001b[1mwandb\u001b[0m: \tnum_warmup_steps: 133\n",
            "\u001b[34m\u001b[1mwandb\u001b[0m: \tobjective: FocalLoss\n",
            "\u001b[34m\u001b[1mwandb\u001b[0m: \tsmooth: 0.9715580710931488\n",
            "\u001b[34m\u001b[1mwandb\u001b[0m: \ttversky_alpha: 0.4253359961111712\n",
            "\u001b[34m\u001b[1mwandb\u001b[0m: \ttversky_betta: 0.3944673992982789\n",
            "\u001b[34m\u001b[1mwandb\u001b[0m: \tweight_decay: 1.0677063458196567\n"
          ]
        },
        {
          "data": {
            "text/html": [
              "Tracking run with wandb version 0.17.0"
            ],
            "text/plain": [
              "<IPython.core.display.HTML object>"
            ]
          },
          "metadata": {},
          "output_type": "display_data"
        },
        {
          "data": {
            "text/html": [
              "Run data is saved locally in <code>/content/wandb/run-20240517_132841-cpddv6yb</code>"
            ],
            "text/plain": [
              "<IPython.core.display.HTML object>"
            ]
          },
          "metadata": {},
          "output_type": "display_data"
        },
        {
          "data": {
            "text/html": [
              "Syncing run <strong><a href='https://wandb.ai/nalex22-uv-j02/multispec-leaf-disease-sweeps/runs/cpddv6yb' target=\"_blank\">deft-sweep-2</a></strong> to <a href='https://wandb.ai/nalex22-uv-j02/multispec-leaf-disease-sweeps' target=\"_blank\">Weights & Biases</a> (<a href='https://wandb.me/run' target=\"_blank\">docs</a>)<br/>Sweep page: <a href='https://wandb.ai/nalex22-uv-j02/multispec-leaf-disease-sweeps/sweeps/kz96xpi3' target=\"_blank\">https://wandb.ai/nalex22-uv-j02/multispec-leaf-disease-sweeps/sweeps/kz96xpi3</a>"
            ],
            "text/plain": [
              "<IPython.core.display.HTML object>"
            ]
          },
          "metadata": {},
          "output_type": "display_data"
        },
        {
          "data": {
            "text/html": [
              " View project at <a href='https://wandb.ai/nalex22-uv-j02/multispec-leaf-disease-sweeps' target=\"_blank\">https://wandb.ai/nalex22-uv-j02/multispec-leaf-disease-sweeps</a>"
            ],
            "text/plain": [
              "<IPython.core.display.HTML object>"
            ]
          },
          "metadata": {},
          "output_type": "display_data"
        },
        {
          "data": {
            "text/html": [
              " View sweep at <a href='https://wandb.ai/nalex22-uv-j02/multispec-leaf-disease-sweeps/sweeps/kz96xpi3' target=\"_blank\">https://wandb.ai/nalex22-uv-j02/multispec-leaf-disease-sweeps/sweeps/kz96xpi3</a>"
            ],
            "text/plain": [
              "<IPython.core.display.HTML object>"
            ]
          },
          "metadata": {},
          "output_type": "display_data"
        },
        {
          "data": {
            "text/html": [
              " View run at <a href='https://wandb.ai/nalex22-uv-j02/multispec-leaf-disease-sweeps/runs/cpddv6yb' target=\"_blank\">https://wandb.ai/nalex22-uv-j02/multispec-leaf-disease-sweeps/runs/cpddv6yb</a>"
            ],
            "text/plain": [
              "<IPython.core.display.HTML object>"
            ]
          },
          "metadata": {},
          "output_type": "display_data"
        },
        {
          "metadata": {
            "tags": null
          },
          "name": "stderr",
          "output_type": "stream",
          "text": [
            "/usr/local/lib/python3.10/dist-packages/huggingface_hub/file_download.py:1132: FutureWarning: `resume_download` is deprecated and will be removed in version 1.0.0. Downloads always resume when possible. If you want to force a new download, use `force_download=True`.\n",
            "  warnings.warn(\n",
            "Some weights of SegformerForSemanticSegmentation were not initialized from the model checkpoint at nvidia/mit-b2 and are newly initialized: ['decode_head.batch_norm.bias', 'decode_head.batch_norm.num_batches_tracked', 'decode_head.batch_norm.running_mean', 'decode_head.batch_norm.running_var', 'decode_head.batch_norm.weight', 'decode_head.classifier.bias', 'decode_head.classifier.weight', 'decode_head.linear_c.0.proj.bias', 'decode_head.linear_c.0.proj.weight', 'decode_head.linear_c.1.proj.bias', 'decode_head.linear_c.1.proj.weight', 'decode_head.linear_c.2.proj.bias', 'decode_head.linear_c.2.proj.weight', 'decode_head.linear_c.3.proj.bias', 'decode_head.linear_c.3.proj.weight', 'decode_head.linear_fuse.weight']\n",
            "You should probably TRAIN this model on a down-stream task to be able to use it for predictions and inference.\n",
            "\u001b[34m\u001b[1mwandb\u001b[0m: \u001b[33mWARNING\u001b[0m Config item 'learning_rate' was locked by 'sweep' (ignored update).\n",
            "\u001b[34m\u001b[1mwandb\u001b[0m: \u001b[33mWARNING\u001b[0m Config item 'weight_decay' was locked by 'sweep' (ignored update).\n"
          ]
        },
        {
          "data": {
            "text/html": [
              "\n",
              "    <div>\n",
              "      \n",
              "      <progress value='595' max='595' style='width:300px; height:20px; vertical-align: middle;'></progress>\n",
              "      [595/595 07:22, Epoch 5/5]\n",
              "    </div>\n",
              "    <table border=\"1\" class=\"dataframe\">\n",
              "  <thead>\n",
              " <tr style=\"text-align: left;\">\n",
              "      <th>Epoch</th>\n",
              "      <th>Training Loss</th>\n",
              "      <th>Validation Loss</th>\n",
              "      <th>Iou</th>\n",
              "      <th>Dice</th>\n",
              "      <th>Kappa Score</th>\n",
              "      <th>Mean</th>\n",
              "    </tr>\n",
              "  </thead>\n",
              "  <tbody>\n",
              "    <tr>\n",
              "      <td>1</td>\n",
              "      <td>0.000900</td>\n",
              "      <td>0.000392</td>\n",
              "      <td>0.057085</td>\n",
              "      <td>0.108004</td>\n",
              "      <td>0.097372</td>\n",
              "      <td>0.077229</td>\n",
              "    </tr>\n",
              "    <tr>\n",
              "      <td>2</td>\n",
              "      <td>0.000300</td>\n",
              "      <td>0.000296</td>\n",
              "      <td>0.109170</td>\n",
              "      <td>0.196851</td>\n",
              "      <td>0.187874</td>\n",
              "      <td>0.148522</td>\n",
              "    </tr>\n",
              "    <tr>\n",
              "      <td>3</td>\n",
              "      <td>0.000200</td>\n",
              "      <td>0.000316</td>\n",
              "      <td>0.182311</td>\n",
              "      <td>0.308398</td>\n",
              "      <td>0.301185</td>\n",
              "      <td>0.241748</td>\n",
              "    </tr>\n",
              "    <tr>\n",
              "      <td>4</td>\n",
              "      <td>0.000100</td>\n",
              "      <td>0.000348</td>\n",
              "      <td>0.230636</td>\n",
              "      <td>0.374824</td>\n",
              "      <td>0.368676</td>\n",
              "      <td>0.299656</td>\n",
              "    </tr>\n",
              "    <tr>\n",
              "      <td>5</td>\n",
              "      <td>0.000100</td>\n",
              "      <td>0.000323</td>\n",
              "      <td>0.230636</td>\n",
              "      <td>0.374824</td>\n",
              "      <td>0.368676</td>\n",
              "      <td>0.299656</td>\n",
              "    </tr>\n",
              "  </tbody>\n",
              "</table><p>"
            ],
            "text/plain": [
              "<IPython.core.display.HTML object>"
            ]
          },
          "metadata": {},
          "output_type": "display_data"
        },
        {
          "metadata": {
            "tags": null
          },
          "name": "stdout",
          "output_type": "stream",
          "text": [
            "Mean: 0.07722862105535708\n",
            "IoU: 0.057084878069069304\n",
            "Dice: 0.10800434147415627\n",
            "kappa: 0.09737236404164484\n",
            "Mean: 0.14852220996864055\n",
            "IoU: 0.10917046597821618\n",
            "Dice: 0.19685065429854362\n",
            "kappa: 0.18787395395906492\n",
            "Mean: 0.24174834475499607\n",
            "IoU: 0.18231139464016177\n",
            "Dice: 0.30839827048380686\n",
            "kappa: 0.30118529486983037\n",
            "Mean: 0.2996559888181966\n",
            "IoU: 0.2306359653143161\n",
            "Dice: 0.37482402890022715\n",
            "kappa: 0.36867601232207714\n",
            "Mean: 0.25954437852297196\n",
            "IoU: 0.19693696341578984\n",
            "Dice: 0.3290682290465421\n",
            "kappa: 0.3221517936301541\n"
          ]
        },
        {
          "data": {
            "application/vnd.jupyter.widget-view+json": {
              "model_id": "c743de627513465bb4472a1658c15a3e",
              "version_major": 2,
              "version_minor": 0
            },
            "text/plain": [
              "VBox(children=(Label(value='0.002 MB of 0.002 MB uploaded\\r'), FloatProgress(value=1.0, max=1.0)))"
            ]
          },
          "metadata": {},
          "output_type": "display_data"
        },
        {
          "data": {
            "text/html": [
              "<style>\n",
              "    table.wandb td:nth-child(1) { padding: 0 10px; text-align: left ; width: auto;} td:nth-child(2) {text-align: left ; width: 100%}\n",
              "    .wandb-row { display: flex; flex-direction: row; flex-wrap: wrap; justify-content: flex-start; width: 100% }\n",
              "    .wandb-col { display: flex; flex-direction: column; flex-basis: 100%; flex: 1; padding: 10px; }\n",
              "    </style>\n",
              "<div class=\"wandb-row\"><div class=\"wandb-col\"><h3>Run history:</h3><br/><table class=\"wandb\"><tr><td>eval/Dice</td><td>▁▃▆██</td></tr><tr><td>eval/IoU</td><td>▁▃▆██</td></tr><tr><td>eval/kappa_score</td><td>▁▃▆██</td></tr><tr><td>eval/loss</td><td>█▁▂▅▃</td></tr><tr><td>eval/mean</td><td>▁▃▆██</td></tr><tr><td>eval/runtime</td><td>█▂▂▁▅</td></tr><tr><td>eval/samples_per_second</td><td>▁▇▇█▄</td></tr><tr><td>eval/steps_per_second</td><td>▁███▃</td></tr><tr><td>train/epoch</td><td>▁▁▃▃▅▅▆▆███</td></tr><tr><td>train/global_step</td><td>▁▁▃▃▅▅▆▆███</td></tr><tr><td>train/grad_norm</td><td>█▃▅▁▂</td></tr><tr><td>train/learning_rate</td><td>█▇▅▃▁</td></tr><tr><td>train/loss</td><td>█▃▂▁▁</td></tr></table><br/></div><div class=\"wandb-col\"><h3>Run summary:</h3><br/><table class=\"wandb\"><tr><td>eval/Dice</td><td>0.37482</td></tr><tr><td>eval/IoU</td><td>0.23064</td></tr><tr><td>eval/kappa_score</td><td>0.36868</td></tr><tr><td>eval/loss</td><td>0.00032</td></tr><tr><td>eval/mean</td><td>0.29966</td></tr><tr><td>eval/runtime</td><td>43.7625</td></tr><tr><td>eval/samples_per_second</td><td>4.799</td></tr><tr><td>eval/steps_per_second</td><td>0.617</td></tr><tr><td>total_flos</td><td>1.219893043396608e+18</td></tr><tr><td>train/epoch</td><td>5.0</td></tr><tr><td>train/global_step</td><td>595</td></tr><tr><td>train/grad_norm</td><td>0.00088</td></tr><tr><td>train/learning_rate</td><td>0.0</td></tr><tr><td>train/loss</td><td>0.0001</td></tr><tr><td>train_loss</td><td>0.00032</td></tr><tr><td>train_runtime</td><td>443.0056</td></tr><tr><td>train_samples_per_second</td><td>10.666</td></tr><tr><td>train_steps_per_second</td><td>1.343</td></tr></table><br/></div></div>"
            ],
            "text/plain": [
              "<IPython.core.display.HTML object>"
            ]
          },
          "metadata": {},
          "output_type": "display_data"
        },
        {
          "data": {
            "text/html": [
              " View run <strong style=\"color:#cdcd00\">deft-sweep-2</strong> at: <a href='https://wandb.ai/nalex22-uv-j02/multispec-leaf-disease-sweeps/runs/cpddv6yb' target=\"_blank\">https://wandb.ai/nalex22-uv-j02/multispec-leaf-disease-sweeps/runs/cpddv6yb</a><br/> View project at: <a href='https://wandb.ai/nalex22-uv-j02/multispec-leaf-disease-sweeps' target=\"_blank\">https://wandb.ai/nalex22-uv-j02/multispec-leaf-disease-sweeps</a><br/>Synced 5 W&B file(s), 0 media file(s), 0 artifact file(s) and 0 other file(s)"
            ],
            "text/plain": [
              "<IPython.core.display.HTML object>"
            ]
          },
          "metadata": {},
          "output_type": "display_data"
        },
        {
          "data": {
            "text/html": [
              "Find logs at: <code>./wandb/run-20240517_132841-cpddv6yb/logs</code>"
            ],
            "text/plain": [
              "<IPython.core.display.HTML object>"
            ]
          },
          "metadata": {},
          "output_type": "display_data"
        },
        {
          "metadata": {
            "tags": null
          },
          "name": "stderr",
          "output_type": "stream",
          "text": [
            "\u001b[34m\u001b[1mwandb\u001b[0m: Agent Starting Run: 4w2nwea9 with config:\n",
            "\u001b[34m\u001b[1mwandb\u001b[0m: \tbatch_size: 8\n",
            "\u001b[34m\u001b[1mwandb\u001b[0m: \tbetta_1: 0.7166623664105793\n",
            "\u001b[34m\u001b[1mwandb\u001b[0m: \tbetta_2: 0.7051148153688448\n",
            "\u001b[34m\u001b[1mwandb\u001b[0m: \tclass_weight_0: 3.0393000174267955\n",
            "\u001b[34m\u001b[1mwandb\u001b[0m: \tclass_weight_1: 27.734584008364006\n",
            "\u001b[34m\u001b[1mwandb\u001b[0m: \tepochs: 5\n",
            "\u001b[34m\u001b[1mwandb\u001b[0m: \tfocal_alpha: 0.4845350504649437\n",
            "\u001b[34m\u001b[1mwandb\u001b[0m: \tfocal_gamma: 2.3337414196258432\n",
            "\u001b[34m\u001b[1mwandb\u001b[0m: \tlearning_rate: 0.0005105108491283779\n",
            "\u001b[34m\u001b[1mwandb\u001b[0m: \tnum_warmup_steps: 146\n",
            "\u001b[34m\u001b[1mwandb\u001b[0m: \tobjective: TverskyLoss\n",
            "\u001b[34m\u001b[1mwandb\u001b[0m: \tsmooth: 0.3049206590506113\n",
            "\u001b[34m\u001b[1mwandb\u001b[0m: \ttversky_alpha: 0.5443000260384396\n",
            "\u001b[34m\u001b[1mwandb\u001b[0m: \ttversky_betta: 0.857648870203161\n",
            "\u001b[34m\u001b[1mwandb\u001b[0m: \tweight_decay: 0.6822404309767118\n"
          ]
        },
        {
          "data": {
            "text/html": [
              "Tracking run with wandb version 0.17.0"
            ],
            "text/plain": [
              "<IPython.core.display.HTML object>"
            ]
          },
          "metadata": {},
          "output_type": "display_data"
        },
        {
          "data": {
            "text/html": [
              "Run data is saved locally in <code>/content/wandb/run-20240517_133628-4w2nwea9</code>"
            ],
            "text/plain": [
              "<IPython.core.display.HTML object>"
            ]
          },
          "metadata": {},
          "output_type": "display_data"
        },
        {
          "data": {
            "text/html": [
              "Syncing run <strong><a href='https://wandb.ai/nalex22-uv-j02/multispec-leaf-disease-sweeps/runs/4w2nwea9' target=\"_blank\">crimson-sweep-3</a></strong> to <a href='https://wandb.ai/nalex22-uv-j02/multispec-leaf-disease-sweeps' target=\"_blank\">Weights & Biases</a> (<a href='https://wandb.me/run' target=\"_blank\">docs</a>)<br/>Sweep page: <a href='https://wandb.ai/nalex22-uv-j02/multispec-leaf-disease-sweeps/sweeps/kz96xpi3' target=\"_blank\">https://wandb.ai/nalex22-uv-j02/multispec-leaf-disease-sweeps/sweeps/kz96xpi3</a>"
            ],
            "text/plain": [
              "<IPython.core.display.HTML object>"
            ]
          },
          "metadata": {},
          "output_type": "display_data"
        },
        {
          "data": {
            "text/html": [
              " View project at <a href='https://wandb.ai/nalex22-uv-j02/multispec-leaf-disease-sweeps' target=\"_blank\">https://wandb.ai/nalex22-uv-j02/multispec-leaf-disease-sweeps</a>"
            ],
            "text/plain": [
              "<IPython.core.display.HTML object>"
            ]
          },
          "metadata": {},
          "output_type": "display_data"
        },
        {
          "data": {
            "text/html": [
              " View sweep at <a href='https://wandb.ai/nalex22-uv-j02/multispec-leaf-disease-sweeps/sweeps/kz96xpi3' target=\"_blank\">https://wandb.ai/nalex22-uv-j02/multispec-leaf-disease-sweeps/sweeps/kz96xpi3</a>"
            ],
            "text/plain": [
              "<IPython.core.display.HTML object>"
            ]
          },
          "metadata": {},
          "output_type": "display_data"
        },
        {
          "data": {
            "text/html": [
              " View run at <a href='https://wandb.ai/nalex22-uv-j02/multispec-leaf-disease-sweeps/runs/4w2nwea9' target=\"_blank\">https://wandb.ai/nalex22-uv-j02/multispec-leaf-disease-sweeps/runs/4w2nwea9</a>"
            ],
            "text/plain": [
              "<IPython.core.display.HTML object>"
            ]
          },
          "metadata": {},
          "output_type": "display_data"
        },
        {
          "metadata": {
            "tags": null
          },
          "name": "stderr",
          "output_type": "stream",
          "text": [
            "/usr/local/lib/python3.10/dist-packages/huggingface_hub/file_download.py:1132: FutureWarning: `resume_download` is deprecated and will be removed in version 1.0.0. Downloads always resume when possible. If you want to force a new download, use `force_download=True`.\n",
            "  warnings.warn(\n",
            "Some weights of SegformerForSemanticSegmentation were not initialized from the model checkpoint at nvidia/mit-b2 and are newly initialized: ['decode_head.batch_norm.bias', 'decode_head.batch_norm.num_batches_tracked', 'decode_head.batch_norm.running_mean', 'decode_head.batch_norm.running_var', 'decode_head.batch_norm.weight', 'decode_head.classifier.bias', 'decode_head.classifier.weight', 'decode_head.linear_c.0.proj.bias', 'decode_head.linear_c.0.proj.weight', 'decode_head.linear_c.1.proj.bias', 'decode_head.linear_c.1.proj.weight', 'decode_head.linear_c.2.proj.bias', 'decode_head.linear_c.2.proj.weight', 'decode_head.linear_c.3.proj.bias', 'decode_head.linear_c.3.proj.weight', 'decode_head.linear_fuse.weight']\n",
            "You should probably TRAIN this model on a down-stream task to be able to use it for predictions and inference.\n",
            "\u001b[34m\u001b[1mwandb\u001b[0m: \u001b[33mWARNING\u001b[0m Config item 'learning_rate' was locked by 'sweep' (ignored update).\n",
            "\u001b[34m\u001b[1mwandb\u001b[0m: \u001b[33mWARNING\u001b[0m Config item 'weight_decay' was locked by 'sweep' (ignored update).\n"
          ]
        },
        {
          "data": {
            "text/html": [
              "\n",
              "    <div>\n",
              "      \n",
              "      <progress value='595' max='595' style='width:300px; height:20px; vertical-align: middle;'></progress>\n",
              "      [595/595 07:20, Epoch 5/5]\n",
              "    </div>\n",
              "    <table border=\"1\" class=\"dataframe\">\n",
              "  <thead>\n",
              " <tr style=\"text-align: left;\">\n",
              "      <th>Epoch</th>\n",
              "      <th>Training Loss</th>\n",
              "      <th>Validation Loss</th>\n",
              "      <th>Iou</th>\n",
              "      <th>Dice</th>\n",
              "      <th>Kappa Score</th>\n",
              "      <th>Mean</th>\n",
              "    </tr>\n",
              "  </thead>\n",
              "  <tbody>\n",
              "    <tr>\n",
              "      <td>1</td>\n",
              "      <td>0.947500</td>\n",
              "      <td>0.852476</td>\n",
              "      <td>0.142025</td>\n",
              "      <td>0.248725</td>\n",
              "      <td>0.242274</td>\n",
              "      <td>0.192150</td>\n",
              "    </tr>\n",
              "    <tr>\n",
              "      <td>2</td>\n",
              "      <td>0.616600</td>\n",
              "      <td>0.643248</td>\n",
              "      <td>0.307830</td>\n",
              "      <td>0.470749</td>\n",
              "      <td>0.467417</td>\n",
              "      <td>0.387623</td>\n",
              "    </tr>\n",
              "    <tr>\n",
              "      <td>3</td>\n",
              "      <td>0.510000</td>\n",
              "      <td>0.575611</td>\n",
              "      <td>0.359774</td>\n",
              "      <td>0.529167</td>\n",
              "      <td>0.525811</td>\n",
              "      <td>0.442792</td>\n",
              "    </tr>\n",
              "    <tr>\n",
              "      <td>4</td>\n",
              "      <td>0.473400</td>\n",
              "      <td>0.563908</td>\n",
              "      <td>0.370052</td>\n",
              "      <td>0.540202</td>\n",
              "      <td>0.536887</td>\n",
              "      <td>0.453470</td>\n",
              "    </tr>\n",
              "    <tr>\n",
              "      <td>5</td>\n",
              "      <td>0.447300</td>\n",
              "      <td>0.563184</td>\n",
              "      <td>0.383060</td>\n",
              "      <td>0.553931</td>\n",
              "      <td>0.551021</td>\n",
              "      <td>0.467041</td>\n",
              "    </tr>\n",
              "  </tbody>\n",
              "</table><p>"
            ],
            "text/plain": [
              "<IPython.core.display.HTML object>"
            ]
          },
          "metadata": {},
          "output_type": "display_data"
        },
        {
          "metadata": {
            "tags": null
          },
          "name": "stdout",
          "output_type": "stream",
          "text": [
            "Mean: 0.19214951512802825\n",
            "IoU: 0.14202518965962088\n",
            "Dice: 0.24872514362306017\n",
            "kappa: 0.24227384059643564\n",
            "Mean: 0.3876230858991506\n",
            "IoU: 0.30782966433452313\n",
            "Dice: 0.47074886390676784\n",
            "kappa: 0.46741650746377805\n",
            "Mean: 0.4427923619501961\n",
            "IoU: 0.3597735910250682\n",
            "Dice: 0.5291669045489434\n",
            "kappa: 0.525811132875324\n",
            "Mean: 0.45346971252737545\n",
            "IoU: 0.37005231941405\n",
            "Dice: 0.5402017341532119\n",
            "kappa: 0.536887105640701\n",
            "Mean: 0.46704067898213686\n",
            "IoU: 0.3830601092896175\n",
            "Dice: 0.5539312524693797\n",
            "kappa: 0.5510212486746563\n"
          ]
        },
        {
          "data": {
            "application/vnd.jupyter.widget-view+json": {
              "model_id": "5a67530339054c9b87cf7020200d6879",
              "version_major": 2,
              "version_minor": 0
            },
            "text/plain": [
              "VBox(children=(Label(value='0.002 MB of 0.002 MB uploaded\\r'), FloatProgress(value=1.0, max=1.0)))"
            ]
          },
          "metadata": {},
          "output_type": "display_data"
        },
        {
          "data": {
            "text/html": [
              "<style>\n",
              "    table.wandb td:nth-child(1) { padding: 0 10px; text-align: left ; width: auto;} td:nth-child(2) {text-align: left ; width: 100%}\n",
              "    .wandb-row { display: flex; flex-direction: row; flex-wrap: wrap; justify-content: flex-start; width: 100% }\n",
              "    .wandb-col { display: flex; flex-direction: column; flex-basis: 100%; flex: 1; padding: 10px; }\n",
              "    </style>\n",
              "<div class=\"wandb-row\"><div class=\"wandb-col\"><h3>Run history:</h3><br/><table class=\"wandb\"><tr><td>eval/Dice</td><td>▁▆▇██</td></tr><tr><td>eval/IoU</td><td>▁▆▇██</td></tr><tr><td>eval/kappa_score</td><td>▁▆▇██</td></tr><tr><td>eval/loss</td><td>█▃▁▁▁</td></tr><tr><td>eval/mean</td><td>▁▆▇██</td></tr><tr><td>eval/runtime</td><td>██▆▁▆</td></tr><tr><td>eval/samples_per_second</td><td>▁▁▃█▃</td></tr><tr><td>eval/steps_per_second</td><td>▁▁▃█▃</td></tr><tr><td>train/epoch</td><td>▁▁▃▃▅▅▆▆███</td></tr><tr><td>train/global_step</td><td>▁▁▃▃▅▅▆▆███</td></tr><tr><td>train/grad_norm</td><td>█▆▄▆▁</td></tr><tr><td>train/learning_rate</td><td>██▆▃▁</td></tr><tr><td>train/loss</td><td>█▃▂▁▁</td></tr></table><br/></div><div class=\"wandb-col\"><h3>Run summary:</h3><br/><table class=\"wandb\"><tr><td>eval/Dice</td><td>0.55393</td></tr><tr><td>eval/IoU</td><td>0.38306</td></tr><tr><td>eval/kappa_score</td><td>0.55102</td></tr><tr><td>eval/loss</td><td>0.56318</td></tr><tr><td>eval/mean</td><td>0.46704</td></tr><tr><td>eval/runtime</td><td>43.4952</td></tr><tr><td>eval/samples_per_second</td><td>4.828</td></tr><tr><td>eval/steps_per_second</td><td>0.621</td></tr><tr><td>total_flos</td><td>1.219893043396608e+18</td></tr><tr><td>train/epoch</td><td>5.0</td></tr><tr><td>train/global_step</td><td>595</td></tr><tr><td>train/grad_norm</td><td>0.89326</td></tr><tr><td>train/learning_rate</td><td>0.0</td></tr><tr><td>train/loss</td><td>0.4473</td></tr><tr><td>train_loss</td><td>0.59897</td></tr><tr><td>train_runtime</td><td>440.8056</td></tr><tr><td>train_samples_per_second</td><td>10.719</td></tr><tr><td>train_steps_per_second</td><td>1.35</td></tr></table><br/></div></div>"
            ],
            "text/plain": [
              "<IPython.core.display.HTML object>"
            ]
          },
          "metadata": {},
          "output_type": "display_data"
        },
        {
          "data": {
            "text/html": [
              " View run <strong style=\"color:#cdcd00\">crimson-sweep-3</strong> at: <a href='https://wandb.ai/nalex22-uv-j02/multispec-leaf-disease-sweeps/runs/4w2nwea9' target=\"_blank\">https://wandb.ai/nalex22-uv-j02/multispec-leaf-disease-sweeps/runs/4w2nwea9</a><br/> View project at: <a href='https://wandb.ai/nalex22-uv-j02/multispec-leaf-disease-sweeps' target=\"_blank\">https://wandb.ai/nalex22-uv-j02/multispec-leaf-disease-sweeps</a><br/>Synced 5 W&B file(s), 0 media file(s), 0 artifact file(s) and 0 other file(s)"
            ],
            "text/plain": [
              "<IPython.core.display.HTML object>"
            ]
          },
          "metadata": {},
          "output_type": "display_data"
        },
        {
          "data": {
            "text/html": [
              "Find logs at: <code>./wandb/run-20240517_133628-4w2nwea9/logs</code>"
            ],
            "text/plain": [
              "<IPython.core.display.HTML object>"
            ]
          },
          "metadata": {},
          "output_type": "display_data"
        },
        {
          "metadata": {
            "tags": null
          },
          "name": "stderr",
          "output_type": "stream",
          "text": [
            "\u001b[34m\u001b[1mwandb\u001b[0m: Sweep Agent: Waiting for job.\n",
            "\u001b[34m\u001b[1mwandb\u001b[0m: Job received.\n",
            "\u001b[34m\u001b[1mwandb\u001b[0m: Agent Starting Run: msy6h1m9 with config:\n",
            "\u001b[34m\u001b[1mwandb\u001b[0m: \tbatch_size: 8\n",
            "\u001b[34m\u001b[1mwandb\u001b[0m: \tbetta_1: 0.530559492925212\n",
            "\u001b[34m\u001b[1mwandb\u001b[0m: \tbetta_2: 0.6462464255355176\n",
            "\u001b[34m\u001b[1mwandb\u001b[0m: \tclass_weight_0: 4.547573274062611\n",
            "\u001b[34m\u001b[1mwandb\u001b[0m: \tclass_weight_1: 5.643049492401848\n",
            "\u001b[34m\u001b[1mwandb\u001b[0m: \tepochs: 5\n",
            "\u001b[34m\u001b[1mwandb\u001b[0m: \tfocal_alpha: 0.8223124727758642\n",
            "\u001b[34m\u001b[1mwandb\u001b[0m: \tfocal_gamma: 0.7808438032946968\n",
            "\u001b[34m\u001b[1mwandb\u001b[0m: \tlearning_rate: 9.969896433156176e-06\n",
            "\u001b[34m\u001b[1mwandb\u001b[0m: \tnum_warmup_steps: 45\n",
            "\u001b[34m\u001b[1mwandb\u001b[0m: \tobjective: JaccardLoss\n",
            "\u001b[34m\u001b[1mwandb\u001b[0m: \tsmooth: 0.5445824364197704\n",
            "\u001b[34m\u001b[1mwandb\u001b[0m: \ttversky_alpha: 0.4970279457803519\n",
            "\u001b[34m\u001b[1mwandb\u001b[0m: \ttversky_betta: 0.5614285903170009\n",
            "\u001b[34m\u001b[1mwandb\u001b[0m: \tweight_decay: 0.8616594554460022\n"
          ]
        },
        {
          "data": {
            "text/html": [
              "Tracking run with wandb version 0.17.0"
            ],
            "text/plain": [
              "<IPython.core.display.HTML object>"
            ]
          },
          "metadata": {},
          "output_type": "display_data"
        },
        {
          "data": {
            "text/html": [
              "Run data is saved locally in <code>/content/wandb/run-20240517_134422-msy6h1m9</code>"
            ],
            "text/plain": [
              "<IPython.core.display.HTML object>"
            ]
          },
          "metadata": {},
          "output_type": "display_data"
        },
        {
          "data": {
            "text/html": [
              "Syncing run <strong><a href='https://wandb.ai/nalex22-uv-j02/multispec-leaf-disease-sweeps/runs/msy6h1m9' target=\"_blank\">electric-sweep-4</a></strong> to <a href='https://wandb.ai/nalex22-uv-j02/multispec-leaf-disease-sweeps' target=\"_blank\">Weights & Biases</a> (<a href='https://wandb.me/run' target=\"_blank\">docs</a>)<br/>Sweep page: <a href='https://wandb.ai/nalex22-uv-j02/multispec-leaf-disease-sweeps/sweeps/kz96xpi3' target=\"_blank\">https://wandb.ai/nalex22-uv-j02/multispec-leaf-disease-sweeps/sweeps/kz96xpi3</a>"
            ],
            "text/plain": [
              "<IPython.core.display.HTML object>"
            ]
          },
          "metadata": {},
          "output_type": "display_data"
        },
        {
          "data": {
            "text/html": [
              " View project at <a href='https://wandb.ai/nalex22-uv-j02/multispec-leaf-disease-sweeps' target=\"_blank\">https://wandb.ai/nalex22-uv-j02/multispec-leaf-disease-sweeps</a>"
            ],
            "text/plain": [
              "<IPython.core.display.HTML object>"
            ]
          },
          "metadata": {},
          "output_type": "display_data"
        },
        {
          "data": {
            "text/html": [
              " View sweep at <a href='https://wandb.ai/nalex22-uv-j02/multispec-leaf-disease-sweeps/sweeps/kz96xpi3' target=\"_blank\">https://wandb.ai/nalex22-uv-j02/multispec-leaf-disease-sweeps/sweeps/kz96xpi3</a>"
            ],
            "text/plain": [
              "<IPython.core.display.HTML object>"
            ]
          },
          "metadata": {},
          "output_type": "display_data"
        },
        {
          "data": {
            "text/html": [
              " View run at <a href='https://wandb.ai/nalex22-uv-j02/multispec-leaf-disease-sweeps/runs/msy6h1m9' target=\"_blank\">https://wandb.ai/nalex22-uv-j02/multispec-leaf-disease-sweeps/runs/msy6h1m9</a>"
            ],
            "text/plain": [
              "<IPython.core.display.HTML object>"
            ]
          },
          "metadata": {},
          "output_type": "display_data"
        },
        {
          "metadata": {
            "tags": null
          },
          "name": "stderr",
          "output_type": "stream",
          "text": [
            "/usr/local/lib/python3.10/dist-packages/huggingface_hub/file_download.py:1132: FutureWarning: `resume_download` is deprecated and will be removed in version 1.0.0. Downloads always resume when possible. If you want to force a new download, use `force_download=True`.\n",
            "  warnings.warn(\n",
            "Some weights of SegformerForSemanticSegmentation were not initialized from the model checkpoint at nvidia/mit-b2 and are newly initialized: ['decode_head.batch_norm.bias', 'decode_head.batch_norm.num_batches_tracked', 'decode_head.batch_norm.running_mean', 'decode_head.batch_norm.running_var', 'decode_head.batch_norm.weight', 'decode_head.classifier.bias', 'decode_head.classifier.weight', 'decode_head.linear_c.0.proj.bias', 'decode_head.linear_c.0.proj.weight', 'decode_head.linear_c.1.proj.bias', 'decode_head.linear_c.1.proj.weight', 'decode_head.linear_c.2.proj.bias', 'decode_head.linear_c.2.proj.weight', 'decode_head.linear_c.3.proj.bias', 'decode_head.linear_c.3.proj.weight', 'decode_head.linear_fuse.weight']\n",
            "You should probably TRAIN this model on a down-stream task to be able to use it for predictions and inference.\n",
            "\u001b[34m\u001b[1mwandb\u001b[0m: \u001b[33mWARNING\u001b[0m Config item 'learning_rate' was locked by 'sweep' (ignored update).\n",
            "\u001b[34m\u001b[1mwandb\u001b[0m: \u001b[33mWARNING\u001b[0m Config item 'weight_decay' was locked by 'sweep' (ignored update).\n"
          ]
        },
        {
          "data": {
            "text/html": [
              "\n",
              "    <div>\n",
              "      \n",
              "      <progress value='595' max='595' style='width:300px; height:20px; vertical-align: middle;'></progress>\n",
              "      [595/595 07:18, Epoch 5/5]\n",
              "    </div>\n",
              "    <table border=\"1\" class=\"dataframe\">\n",
              "  <thead>\n",
              " <tr style=\"text-align: left;\">\n",
              "      <th>Epoch</th>\n",
              "      <th>Training Loss</th>\n",
              "      <th>Validation Loss</th>\n",
              "      <th>Iou</th>\n",
              "      <th>Dice</th>\n",
              "      <th>Kappa Score</th>\n",
              "      <th>Mean</th>\n",
              "    </tr>\n",
              "  </thead>\n",
              "  <tbody>\n",
              "    <tr>\n",
              "      <td>1</td>\n",
              "      <td>0.988300</td>\n",
              "      <td>0.988933</td>\n",
              "      <td>0.011729</td>\n",
              "      <td>0.023186</td>\n",
              "      <td>0.010789</td>\n",
              "      <td>0.011259</td>\n",
              "    </tr>\n",
              "    <tr>\n",
              "      <td>2</td>\n",
              "      <td>0.984100</td>\n",
              "      <td>0.987507</td>\n",
              "      <td>0.014288</td>\n",
              "      <td>0.028173</td>\n",
              "      <td>0.016048</td>\n",
              "      <td>0.015168</td>\n",
              "    </tr>\n",
              "    <tr>\n",
              "      <td>3</td>\n",
              "      <td>0.981900</td>\n",
              "      <td>0.987212</td>\n",
              "      <td>0.014881</td>\n",
              "      <td>0.029326</td>\n",
              "      <td>0.017178</td>\n",
              "      <td>0.016029</td>\n",
              "    </tr>\n",
              "    <tr>\n",
              "      <td>4</td>\n",
              "      <td>0.981000</td>\n",
              "      <td>0.986648</td>\n",
              "      <td>0.015267</td>\n",
              "      <td>0.030076</td>\n",
              "      <td>0.017934</td>\n",
              "      <td>0.016601</td>\n",
              "    </tr>\n",
              "    <tr>\n",
              "      <td>5</td>\n",
              "      <td>0.980200</td>\n",
              "      <td>0.986113</td>\n",
              "      <td>0.016079</td>\n",
              "      <td>0.031649</td>\n",
              "      <td>0.019581</td>\n",
              "      <td>0.017830</td>\n",
              "    </tr>\n",
              "  </tbody>\n",
              "</table><p>"
            ],
            "text/plain": [
              "<IPython.core.display.HTML object>"
            ]
          },
          "metadata": {},
          "output_type": "display_data"
        },
        {
          "metadata": {
            "tags": null
          },
          "name": "stdout",
          "output_type": "stream",
          "text": [
            "Mean: 0.011258873769272974\n",
            "IoU: 0.011729145931562367\n",
            "Dice: 0.023186335945205194\n",
            "kappa: 0.010788601606983583\n",
            "Mean: 0.015167671743220217\n",
            "IoU: 0.014287677422175769\n",
            "Dice: 0.02817283052967393\n",
            "kappa: 0.016047666064264665\n",
            "Mean: 0.016029460973694364\n",
            "IoU: 0.01488125094735775\n",
            "Dice: 0.029326092946276423\n",
            "kappa: 0.01717767100003098\n",
            "Mean: 0.016600713163858676\n",
            "IoU: 0.015267487502393562\n",
            "Dice: 0.030075793207861527\n",
            "kappa: 0.017933938825323792\n",
            "Mean: 0.01783004716141023\n",
            "IoU: 0.0160787229738164\n",
            "Dice: 0.03164857724164889\n",
            "kappa: 0.019581371349004062\n"
          ]
        },
        {
          "data": {
            "application/vnd.jupyter.widget-view+json": {
              "model_id": "9bfbdce1a0bb482c99f0b3f7f2f4aed4",
              "version_major": 2,
              "version_minor": 0
            },
            "text/plain": [
              "VBox(children=(Label(value='0.002 MB of 0.002 MB uploaded\\r'), FloatProgress(value=1.0, max=1.0)))"
            ]
          },
          "metadata": {},
          "output_type": "display_data"
        },
        {
          "data": {
            "text/html": [
              "<style>\n",
              "    table.wandb td:nth-child(1) { padding: 0 10px; text-align: left ; width: auto;} td:nth-child(2) {text-align: left ; width: 100%}\n",
              "    .wandb-row { display: flex; flex-direction: row; flex-wrap: wrap; justify-content: flex-start; width: 100% }\n",
              "    .wandb-col { display: flex; flex-direction: column; flex-basis: 100%; flex: 1; padding: 10px; }\n",
              "    </style>\n",
              "<div class=\"wandb-row\"><div class=\"wandb-col\"><h3>Run history:</h3><br/><table class=\"wandb\"><tr><td>eval/Dice</td><td>▁▅▆▇█</td></tr><tr><td>eval/IoU</td><td>▁▅▆▇█</td></tr><tr><td>eval/kappa_score</td><td>▁▅▆▇█</td></tr><tr><td>eval/loss</td><td>█▄▄▂▁</td></tr><tr><td>eval/mean</td><td>▁▅▆▇█</td></tr><tr><td>eval/runtime</td><td>█▁▆▅▅</td></tr><tr><td>eval/samples_per_second</td><td>▁█▃▄▄</td></tr><tr><td>eval/steps_per_second</td><td>▁█▂▄▄</td></tr><tr><td>train/epoch</td><td>▁▁▃▃▅▅▆▆███</td></tr><tr><td>train/global_step</td><td>▁▁▃▃▅▅▆▆███</td></tr><tr><td>train/grad_norm</td><td>▂▁▃▁█</td></tr><tr><td>train/learning_rate</td><td>█▆▄▃▁</td></tr><tr><td>train/loss</td><td>█▄▂▂▁</td></tr></table><br/></div><div class=\"wandb-col\"><h3>Run summary:</h3><br/><table class=\"wandb\"><tr><td>eval/Dice</td><td>0.03165</td></tr><tr><td>eval/IoU</td><td>0.01608</td></tr><tr><td>eval/kappa_score</td><td>0.01958</td></tr><tr><td>eval/loss</td><td>0.98611</td></tr><tr><td>eval/mean</td><td>0.01783</td></tr><tr><td>eval/runtime</td><td>43.366</td></tr><tr><td>eval/samples_per_second</td><td>4.843</td></tr><tr><td>eval/steps_per_second</td><td>0.623</td></tr><tr><td>total_flos</td><td>1.219893043396608e+18</td></tr><tr><td>train/epoch</td><td>5.0</td></tr><tr><td>train/global_step</td><td>595</td></tr><tr><td>train/grad_norm</td><td>1.09527</td></tr><tr><td>train/learning_rate</td><td>0.0</td></tr><tr><td>train/loss</td><td>0.9802</td></tr><tr><td>train_loss</td><td>0.98313</td></tr><tr><td>train_runtime</td><td>439.4343</td></tr><tr><td>train_samples_per_second</td><td>10.752</td></tr><tr><td>train_steps_per_second</td><td>1.354</td></tr></table><br/></div></div>"
            ],
            "text/plain": [
              "<IPython.core.display.HTML object>"
            ]
          },
          "metadata": {},
          "output_type": "display_data"
        },
        {
          "data": {
            "text/html": [
              " View run <strong style=\"color:#cdcd00\">electric-sweep-4</strong> at: <a href='https://wandb.ai/nalex22-uv-j02/multispec-leaf-disease-sweeps/runs/msy6h1m9' target=\"_blank\">https://wandb.ai/nalex22-uv-j02/multispec-leaf-disease-sweeps/runs/msy6h1m9</a><br/> View project at: <a href='https://wandb.ai/nalex22-uv-j02/multispec-leaf-disease-sweeps' target=\"_blank\">https://wandb.ai/nalex22-uv-j02/multispec-leaf-disease-sweeps</a><br/>Synced 5 W&B file(s), 0 media file(s), 0 artifact file(s) and 0 other file(s)"
            ],
            "text/plain": [
              "<IPython.core.display.HTML object>"
            ]
          },
          "metadata": {},
          "output_type": "display_data"
        },
        {
          "data": {
            "text/html": [
              "Find logs at: <code>./wandb/run-20240517_134422-msy6h1m9/logs</code>"
            ],
            "text/plain": [
              "<IPython.core.display.HTML object>"
            ]
          },
          "metadata": {},
          "output_type": "display_data"
        },
        {
          "metadata": {
            "tags": null
          },
          "name": "stderr",
          "output_type": "stream",
          "text": [
            "\u001b[34m\u001b[1mwandb\u001b[0m: Sweep Agent: Waiting for job.\n",
            "\u001b[34m\u001b[1mwandb\u001b[0m: Job received.\n",
            "\u001b[34m\u001b[1mwandb\u001b[0m: Agent Starting Run: kvdxds59 with config:\n",
            "\u001b[34m\u001b[1mwandb\u001b[0m: \tbatch_size: 8\n",
            "\u001b[34m\u001b[1mwandb\u001b[0m: \tbetta_1: 0.5576998435084036\n",
            "\u001b[34m\u001b[1mwandb\u001b[0m: \tbetta_2: 0.5104419497889835\n",
            "\u001b[34m\u001b[1mwandb\u001b[0m: \tclass_weight_0: 2.365989016178593\n",
            "\u001b[34m\u001b[1mwandb\u001b[0m: \tclass_weight_1: 31.22564308383346\n",
            "\u001b[34m\u001b[1mwandb\u001b[0m: \tepochs: 5\n",
            "\u001b[34m\u001b[1mwandb\u001b[0m: \tfocal_alpha: 0.7158864623971665\n",
            "\u001b[34m\u001b[1mwandb\u001b[0m: \tfocal_gamma: 2.2087600372171874\n",
            "\u001b[34m\u001b[1mwandb\u001b[0m: \tlearning_rate: 0.0006674348761164393\n",
            "\u001b[34m\u001b[1mwandb\u001b[0m: \tnum_warmup_steps: 118\n",
            "\u001b[34m\u001b[1mwandb\u001b[0m: \tobjective: DiceLoss\n",
            "\u001b[34m\u001b[1mwandb\u001b[0m: \tsmooth: 1.3106210231723712\n",
            "\u001b[34m\u001b[1mwandb\u001b[0m: \ttversky_alpha: 0.4935085728364026\n",
            "\u001b[34m\u001b[1mwandb\u001b[0m: \ttversky_betta: 0.41612126851211984\n",
            "\u001b[34m\u001b[1mwandb\u001b[0m: \tweight_decay: 0.9020149350050962\n"
          ]
        },
        {
          "data": {
            "text/html": [
              "Tracking run with wandb version 0.17.0"
            ],
            "text/plain": [
              "<IPython.core.display.HTML object>"
            ]
          },
          "metadata": {},
          "output_type": "display_data"
        },
        {
          "data": {
            "text/html": [
              "Run data is saved locally in <code>/content/wandb/run-20240517_135214-kvdxds59</code>"
            ],
            "text/plain": [
              "<IPython.core.display.HTML object>"
            ]
          },
          "metadata": {},
          "output_type": "display_data"
        },
        {
          "data": {
            "text/html": [
              "Syncing run <strong><a href='https://wandb.ai/nalex22-uv-j02/multispec-leaf-disease-sweeps/runs/kvdxds59' target=\"_blank\">clean-sweep-5</a></strong> to <a href='https://wandb.ai/nalex22-uv-j02/multispec-leaf-disease-sweeps' target=\"_blank\">Weights & Biases</a> (<a href='https://wandb.me/run' target=\"_blank\">docs</a>)<br/>Sweep page: <a href='https://wandb.ai/nalex22-uv-j02/multispec-leaf-disease-sweeps/sweeps/kz96xpi3' target=\"_blank\">https://wandb.ai/nalex22-uv-j02/multispec-leaf-disease-sweeps/sweeps/kz96xpi3</a>"
            ],
            "text/plain": [
              "<IPython.core.display.HTML object>"
            ]
          },
          "metadata": {},
          "output_type": "display_data"
        },
        {
          "data": {
            "text/html": [
              " View project at <a href='https://wandb.ai/nalex22-uv-j02/multispec-leaf-disease-sweeps' target=\"_blank\">https://wandb.ai/nalex22-uv-j02/multispec-leaf-disease-sweeps</a>"
            ],
            "text/plain": [
              "<IPython.core.display.HTML object>"
            ]
          },
          "metadata": {},
          "output_type": "display_data"
        },
        {
          "data": {
            "text/html": [
              " View sweep at <a href='https://wandb.ai/nalex22-uv-j02/multispec-leaf-disease-sweeps/sweeps/kz96xpi3' target=\"_blank\">https://wandb.ai/nalex22-uv-j02/multispec-leaf-disease-sweeps/sweeps/kz96xpi3</a>"
            ],
            "text/plain": [
              "<IPython.core.display.HTML object>"
            ]
          },
          "metadata": {},
          "output_type": "display_data"
        },
        {
          "data": {
            "text/html": [
              " View run at <a href='https://wandb.ai/nalex22-uv-j02/multispec-leaf-disease-sweeps/runs/kvdxds59' target=\"_blank\">https://wandb.ai/nalex22-uv-j02/multispec-leaf-disease-sweeps/runs/kvdxds59</a>"
            ],
            "text/plain": [
              "<IPython.core.display.HTML object>"
            ]
          },
          "metadata": {},
          "output_type": "display_data"
        },
        {
          "metadata": {
            "tags": null
          },
          "name": "stderr",
          "output_type": "stream",
          "text": [
            "/usr/local/lib/python3.10/dist-packages/huggingface_hub/file_download.py:1132: FutureWarning: `resume_download` is deprecated and will be removed in version 1.0.0. Downloads always resume when possible. If you want to force a new download, use `force_download=True`.\n",
            "  warnings.warn(\n",
            "Some weights of SegformerForSemanticSegmentation were not initialized from the model checkpoint at nvidia/mit-b2 and are newly initialized: ['decode_head.batch_norm.bias', 'decode_head.batch_norm.num_batches_tracked', 'decode_head.batch_norm.running_mean', 'decode_head.batch_norm.running_var', 'decode_head.batch_norm.weight', 'decode_head.classifier.bias', 'decode_head.classifier.weight', 'decode_head.linear_c.0.proj.bias', 'decode_head.linear_c.0.proj.weight', 'decode_head.linear_c.1.proj.bias', 'decode_head.linear_c.1.proj.weight', 'decode_head.linear_c.2.proj.bias', 'decode_head.linear_c.2.proj.weight', 'decode_head.linear_c.3.proj.bias', 'decode_head.linear_c.3.proj.weight', 'decode_head.linear_fuse.weight']\n",
            "You should probably TRAIN this model on a down-stream task to be able to use it for predictions and inference.\n",
            "\u001b[34m\u001b[1mwandb\u001b[0m: \u001b[33mWARNING\u001b[0m Config item 'learning_rate' was locked by 'sweep' (ignored update).\n",
            "\u001b[34m\u001b[1mwandb\u001b[0m: \u001b[33mWARNING\u001b[0m Config item 'weight_decay' was locked by 'sweep' (ignored update).\n"
          ]
        },
        {
          "data": {
            "text/html": [
              "\n",
              "    <div>\n",
              "      \n",
              "      <progress value='595' max='595' style='width:300px; height:20px; vertical-align: middle;'></progress>\n",
              "      [595/595 07:21, Epoch 5/5]\n",
              "    </div>\n",
              "    <table border=\"1\" class=\"dataframe\">\n",
              "  <thead>\n",
              " <tr style=\"text-align: left;\">\n",
              "      <th>Epoch</th>\n",
              "      <th>Training Loss</th>\n",
              "      <th>Validation Loss</th>\n",
              "      <th>Iou</th>\n",
              "      <th>Dice</th>\n",
              "      <th>Kappa Score</th>\n",
              "      <th>Mean</th>\n",
              "    </tr>\n",
              "  </thead>\n",
              "  <tbody>\n",
              "    <tr>\n",
              "      <td>1</td>\n",
              "      <td>0.882700</td>\n",
              "      <td>0.857380</td>\n",
              "      <td>0.172606</td>\n",
              "      <td>0.294398</td>\n",
              "      <td>0.288205</td>\n",
              "      <td>0.230406</td>\n",
              "    </tr>\n",
              "    <tr>\n",
              "      <td>2</td>\n",
              "      <td>0.522000</td>\n",
              "      <td>0.560833</td>\n",
              "      <td>0.313890</td>\n",
              "      <td>0.477802</td>\n",
              "      <td>0.474706</td>\n",
              "      <td>0.394298</td>\n",
              "    </tr>\n",
              "    <tr>\n",
              "      <td>3</td>\n",
              "      <td>0.437600</td>\n",
              "      <td>0.527261</td>\n",
              "      <td>0.346433</td>\n",
              "      <td>0.514594</td>\n",
              "      <td>0.511378</td>\n",
              "      <td>0.428905</td>\n",
              "    </tr>\n",
              "    <tr>\n",
              "      <td>4</td>\n",
              "      <td>0.404800</td>\n",
              "      <td>0.514612</td>\n",
              "      <td>0.361501</td>\n",
              "      <td>0.531033</td>\n",
              "      <td>0.528283</td>\n",
              "      <td>0.444892</td>\n",
              "    </tr>\n",
              "    <tr>\n",
              "      <td>5</td>\n",
              "      <td>0.379100</td>\n",
              "      <td>0.501989</td>\n",
              "      <td>0.375276</td>\n",
              "      <td>0.545746</td>\n",
              "      <td>0.543046</td>\n",
              "      <td>0.459161</td>\n",
              "    </tr>\n",
              "  </tbody>\n",
              "</table><p>"
            ],
            "text/plain": [
              "<IPython.core.display.HTML object>"
            ]
          },
          "metadata": {},
          "output_type": "display_data"
        },
        {
          "metadata": {
            "tags": null
          },
          "name": "stdout",
          "output_type": "stream",
          "text": [
            "Mean: 0.23040554531000643\n",
            "IoU: 0.17260619610348132\n",
            "Dice: 0.2943975508180736\n",
            "kappa: 0.28820489451653153\n",
            "Mean: 0.3942979995227872\n",
            "IoU: 0.31388979445631743\n",
            "Dice: 0.47780231763837366\n",
            "kappa: 0.47470620458925694\n",
            "Mean: 0.4289052706619653\n",
            "IoU: 0.34643282149533927\n",
            "Dice: 0.5145935481736004\n",
            "kappa: 0.5113777198285914\n",
            "Mean: 0.44489159886053353\n",
            "IoU: 0.36150055882619136\n",
            "Dice: 0.5310325529911741\n",
            "kappa: 0.5282826388948757\n",
            "Mean: 0.45916066890405915\n",
            "IoU: 0.3752758129389366\n",
            "Dice: 0.5457462559993399\n",
            "kappa: 0.5430455248691817\n"
          ]
        },
        {
          "data": {
            "application/vnd.jupyter.widget-view+json": {
              "model_id": "3121a8dcfbc64092a52687f7d9c92b92",
              "version_major": 2,
              "version_minor": 0
            },
            "text/plain": [
              "VBox(children=(Label(value='0.002 MB of 0.002 MB uploaded\\r'), FloatProgress(value=1.0, max=1.0)))"
            ]
          },
          "metadata": {},
          "output_type": "display_data"
        },
        {
          "data": {
            "text/html": [
              "<style>\n",
              "    table.wandb td:nth-child(1) { padding: 0 10px; text-align: left ; width: auto;} td:nth-child(2) {text-align: left ; width: 100%}\n",
              "    .wandb-row { display: flex; flex-direction: row; flex-wrap: wrap; justify-content: flex-start; width: 100% }\n",
              "    .wandb-col { display: flex; flex-direction: column; flex-basis: 100%; flex: 1; padding: 10px; }\n",
              "    </style>\n",
              "<div class=\"wandb-row\"><div class=\"wandb-col\"><h3>Run history:</h3><br/><table class=\"wandb\"><tr><td>eval/Dice</td><td>▁▆▇██</td></tr><tr><td>eval/IoU</td><td>▁▆▇██</td></tr><tr><td>eval/kappa_score</td><td>▁▆▇██</td></tr><tr><td>eval/loss</td><td>█▂▁▁▁</td></tr><tr><td>eval/mean</td><td>▁▆▇██</td></tr><tr><td>eval/runtime</td><td>▇█▆▃▁</td></tr><tr><td>eval/samples_per_second</td><td>▂▁▃▆█</td></tr><tr><td>eval/steps_per_second</td><td>▂▁▃▆█</td></tr><tr><td>train/epoch</td><td>▁▁▃▃▅▅▆▆███</td></tr><tr><td>train/global_step</td><td>▁▁▃▃▅▅▆▆███</td></tr><tr><td>train/grad_norm</td><td>▅▅▂█▁</td></tr><tr><td>train/learning_rate</td><td>█▆▄▃▁</td></tr><tr><td>train/loss</td><td>█▃▂▁▁</td></tr></table><br/></div><div class=\"wandb-col\"><h3>Run summary:</h3><br/><table class=\"wandb\"><tr><td>eval/Dice</td><td>0.54575</td></tr><tr><td>eval/IoU</td><td>0.37528</td></tr><tr><td>eval/kappa_score</td><td>0.54305</td></tr><tr><td>eval/loss</td><td>0.50199</td></tr><tr><td>eval/mean</td><td>0.45916</td></tr><tr><td>eval/runtime</td><td>43.2905</td></tr><tr><td>eval/samples_per_second</td><td>4.851</td></tr><tr><td>eval/steps_per_second</td><td>0.624</td></tr><tr><td>total_flos</td><td>1.219893043396608e+18</td></tr><tr><td>train/epoch</td><td>5.0</td></tr><tr><td>train/global_step</td><td>595</td></tr><tr><td>train/grad_norm</td><td>0.93033</td></tr><tr><td>train/learning_rate</td><td>0.0</td></tr><tr><td>train/loss</td><td>0.3791</td></tr><tr><td>train_loss</td><td>0.52524</td></tr><tr><td>train_runtime</td><td>442.4401</td></tr><tr><td>train_samples_per_second</td><td>10.679</td></tr><tr><td>train_steps_per_second</td><td>1.345</td></tr></table><br/></div></div>"
            ],
            "text/plain": [
              "<IPython.core.display.HTML object>"
            ]
          },
          "metadata": {},
          "output_type": "display_data"
        },
        {
          "data": {
            "text/html": [
              " View run <strong style=\"color:#cdcd00\">clean-sweep-5</strong> at: <a href='https://wandb.ai/nalex22-uv-j02/multispec-leaf-disease-sweeps/runs/kvdxds59' target=\"_blank\">https://wandb.ai/nalex22-uv-j02/multispec-leaf-disease-sweeps/runs/kvdxds59</a><br/> View project at: <a href='https://wandb.ai/nalex22-uv-j02/multispec-leaf-disease-sweeps' target=\"_blank\">https://wandb.ai/nalex22-uv-j02/multispec-leaf-disease-sweeps</a><br/>Synced 5 W&B file(s), 0 media file(s), 0 artifact file(s) and 0 other file(s)"
            ],
            "text/plain": [
              "<IPython.core.display.HTML object>"
            ]
          },
          "metadata": {},
          "output_type": "display_data"
        },
        {
          "data": {
            "text/html": [
              "Find logs at: <code>./wandb/run-20240517_135214-kvdxds59/logs</code>"
            ],
            "text/plain": [
              "<IPython.core.display.HTML object>"
            ]
          },
          "metadata": {},
          "output_type": "display_data"
        },
        {
          "metadata": {
            "tags": null
          },
          "name": "stderr",
          "output_type": "stream",
          "text": [
            "\u001b[34m\u001b[1mwandb\u001b[0m: Sweep Agent: Waiting for job.\n",
            "\u001b[34m\u001b[1mwandb\u001b[0m: Job received.\n",
            "\u001b[34m\u001b[1mwandb\u001b[0m: Agent Starting Run: ocbi86yu with config:\n",
            "\u001b[34m\u001b[1mwandb\u001b[0m: \tbatch_size: 8\n",
            "\u001b[34m\u001b[1mwandb\u001b[0m: \tbetta_1: 0.7334251971870362\n",
            "\u001b[34m\u001b[1mwandb\u001b[0m: \tbetta_2: 0.7034603545265329\n",
            "\u001b[34m\u001b[1mwandb\u001b[0m: \tclass_weight_0: 2.146613932796874\n",
            "\u001b[34m\u001b[1mwandb\u001b[0m: \tclass_weight_1: 33.84262771779403\n",
            "\u001b[34m\u001b[1mwandb\u001b[0m: \tepochs: 5\n",
            "\u001b[34m\u001b[1mwandb\u001b[0m: \tfocal_alpha: 0.5065598748427699\n",
            "\u001b[34m\u001b[1mwandb\u001b[0m: \tfocal_gamma: 0.32887799566177045\n",
            "\u001b[34m\u001b[1mwandb\u001b[0m: \tlearning_rate: 0.0006207640963551679\n",
            "\u001b[34m\u001b[1mwandb\u001b[0m: \tnum_warmup_steps: 152\n",
            "\u001b[34m\u001b[1mwandb\u001b[0m: \tobjective: DiceLoss\n",
            "\u001b[34m\u001b[1mwandb\u001b[0m: \tsmooth: 0.29679537566664205\n",
            "\u001b[34m\u001b[1mwandb\u001b[0m: \ttversky_alpha: 0.629768325299824\n",
            "\u001b[34m\u001b[1mwandb\u001b[0m: \ttversky_betta: 0.6370763292754028\n",
            "\u001b[34m\u001b[1mwandb\u001b[0m: \tweight_decay: 0.5275977729169923\n"
          ]
        },
        {
          "data": {
            "text/html": [
              "Tracking run with wandb version 0.17.0"
            ],
            "text/plain": [
              "<IPython.core.display.HTML object>"
            ]
          },
          "metadata": {},
          "output_type": "display_data"
        },
        {
          "data": {
            "text/html": [
              "Run data is saved locally in <code>/content/wandb/run-20240517_140008-ocbi86yu</code>"
            ],
            "text/plain": [
              "<IPython.core.display.HTML object>"
            ]
          },
          "metadata": {},
          "output_type": "display_data"
        },
        {
          "data": {
            "text/html": [
              "Syncing run <strong><a href='https://wandb.ai/nalex22-uv-j02/multispec-leaf-disease-sweeps/runs/ocbi86yu' target=\"_blank\">effortless-sweep-6</a></strong> to <a href='https://wandb.ai/nalex22-uv-j02/multispec-leaf-disease-sweeps' target=\"_blank\">Weights & Biases</a> (<a href='https://wandb.me/run' target=\"_blank\">docs</a>)<br/>Sweep page: <a href='https://wandb.ai/nalex22-uv-j02/multispec-leaf-disease-sweeps/sweeps/kz96xpi3' target=\"_blank\">https://wandb.ai/nalex22-uv-j02/multispec-leaf-disease-sweeps/sweeps/kz96xpi3</a>"
            ],
            "text/plain": [
              "<IPython.core.display.HTML object>"
            ]
          },
          "metadata": {},
          "output_type": "display_data"
        },
        {
          "data": {
            "text/html": [
              " View project at <a href='https://wandb.ai/nalex22-uv-j02/multispec-leaf-disease-sweeps' target=\"_blank\">https://wandb.ai/nalex22-uv-j02/multispec-leaf-disease-sweeps</a>"
            ],
            "text/plain": [
              "<IPython.core.display.HTML object>"
            ]
          },
          "metadata": {},
          "output_type": "display_data"
        },
        {
          "data": {
            "text/html": [
              " View sweep at <a href='https://wandb.ai/nalex22-uv-j02/multispec-leaf-disease-sweeps/sweeps/kz96xpi3' target=\"_blank\">https://wandb.ai/nalex22-uv-j02/multispec-leaf-disease-sweeps/sweeps/kz96xpi3</a>"
            ],
            "text/plain": [
              "<IPython.core.display.HTML object>"
            ]
          },
          "metadata": {},
          "output_type": "display_data"
        },
        {
          "data": {
            "text/html": [
              " View run at <a href='https://wandb.ai/nalex22-uv-j02/multispec-leaf-disease-sweeps/runs/ocbi86yu' target=\"_blank\">https://wandb.ai/nalex22-uv-j02/multispec-leaf-disease-sweeps/runs/ocbi86yu</a>"
            ],
            "text/plain": [
              "<IPython.core.display.HTML object>"
            ]
          },
          "metadata": {},
          "output_type": "display_data"
        },
        {
          "metadata": {
            "tags": null
          },
          "name": "stderr",
          "output_type": "stream",
          "text": [
            "/usr/local/lib/python3.10/dist-packages/huggingface_hub/file_download.py:1132: FutureWarning: `resume_download` is deprecated and will be removed in version 1.0.0. Downloads always resume when possible. If you want to force a new download, use `force_download=True`.\n",
            "  warnings.warn(\n",
            "Some weights of SegformerForSemanticSegmentation were not initialized from the model checkpoint at nvidia/mit-b2 and are newly initialized: ['decode_head.batch_norm.bias', 'decode_head.batch_norm.num_batches_tracked', 'decode_head.batch_norm.running_mean', 'decode_head.batch_norm.running_var', 'decode_head.batch_norm.weight', 'decode_head.classifier.bias', 'decode_head.classifier.weight', 'decode_head.linear_c.0.proj.bias', 'decode_head.linear_c.0.proj.weight', 'decode_head.linear_c.1.proj.bias', 'decode_head.linear_c.1.proj.weight', 'decode_head.linear_c.2.proj.bias', 'decode_head.linear_c.2.proj.weight', 'decode_head.linear_c.3.proj.bias', 'decode_head.linear_c.3.proj.weight', 'decode_head.linear_fuse.weight']\n",
            "You should probably TRAIN this model on a down-stream task to be able to use it for predictions and inference.\n",
            "\u001b[34m\u001b[1mwandb\u001b[0m: \u001b[33mWARNING\u001b[0m Config item 'learning_rate' was locked by 'sweep' (ignored update).\n",
            "\u001b[34m\u001b[1mwandb\u001b[0m: \u001b[33mWARNING\u001b[0m Config item 'weight_decay' was locked by 'sweep' (ignored update).\n"
          ]
        },
        {
          "data": {
            "text/html": [
              "\n",
              "    <div>\n",
              "      \n",
              "      <progress value='595' max='595' style='width:300px; height:20px; vertical-align: middle;'></progress>\n",
              "      [595/595 07:20, Epoch 5/5]\n",
              "    </div>\n",
              "    <table border=\"1\" class=\"dataframe\">\n",
              "  <thead>\n",
              " <tr style=\"text-align: left;\">\n",
              "      <th>Epoch</th>\n",
              "      <th>Training Loss</th>\n",
              "      <th>Validation Loss</th>\n",
              "      <th>Iou</th>\n",
              "      <th>Dice</th>\n",
              "      <th>Kappa Score</th>\n",
              "      <th>Mean</th>\n",
              "    </tr>\n",
              "  </thead>\n",
              "  <tbody>\n",
              "    <tr>\n",
              "      <td>1</td>\n",
              "      <td>0.932900</td>\n",
              "      <td>0.735563</td>\n",
              "      <td>0.208276</td>\n",
              "      <td>0.344750</td>\n",
              "      <td>0.341418</td>\n",
              "      <td>0.274847</td>\n",
              "    </tr>\n",
              "    <tr>\n",
              "      <td>2</td>\n",
              "      <td>0.532400</td>\n",
              "      <td>0.563621</td>\n",
              "      <td>0.309382</td>\n",
              "      <td>0.472562</td>\n",
              "      <td>0.469399</td>\n",
              "      <td>0.389391</td>\n",
              "    </tr>\n",
              "    <tr>\n",
              "      <td>3</td>\n",
              "      <td>0.432300</td>\n",
              "      <td>0.515039</td>\n",
              "      <td>0.361214</td>\n",
              "      <td>0.530723</td>\n",
              "      <td>0.527705</td>\n",
              "      <td>0.444460</td>\n",
              "    </tr>\n",
              "    <tr>\n",
              "      <td>4</td>\n",
              "      <td>0.395000</td>\n",
              "      <td>0.492625</td>\n",
              "      <td>0.382314</td>\n",
              "      <td>0.553151</td>\n",
              "      <td>0.550401</td>\n",
              "      <td>0.466357</td>\n",
              "    </tr>\n",
              "    <tr>\n",
              "      <td>5</td>\n",
              "      <td>0.369600</td>\n",
              "      <td>0.500650</td>\n",
              "      <td>0.382314</td>\n",
              "      <td>0.553151</td>\n",
              "      <td>0.550401</td>\n",
              "      <td>0.466357</td>\n",
              "    </tr>\n",
              "  </tbody>\n",
              "</table><p>"
            ],
            "text/plain": [
              "<IPython.core.display.HTML object>"
            ]
          },
          "metadata": {},
          "output_type": "display_data"
        },
        {
          "metadata": {
            "tags": null
          },
          "name": "stdout",
          "output_type": "stream",
          "text": [
            "Mean: 0.2748472089903631\n",
            "IoU: 0.20827635720762688\n",
            "Dice: 0.34474953675161124\n",
            "kappa: 0.3414180607730992\n",
            "Mean: 0.3893907462989423\n",
            "IoU: 0.309382390963737\n",
            "Dice: 0.47256232113527064\n",
            "kappa: 0.46939910163414766\n",
            "Mean: 0.44445972452323257\n",
            "IoU: 0.36121413328844854\n",
            "Dice: 0.5307234540914149\n",
            "kappa: 0.5277053157580166\n",
            "Mean: 0.46635728830313916\n",
            "IoU: 0.38231389245161634\n",
            "Dice: 0.5531506187405233\n",
            "kappa: 0.550400684154662\n",
            "Mean: 0.46094713061345927\n",
            "IoU: 0.37699867883941124\n",
            "Dice: 0.5475657814823186\n",
            "kappa: 0.5448955823875073\n"
          ]
        },
        {
          "data": {
            "application/vnd.jupyter.widget-view+json": {
              "model_id": "8462a881284e4ce68673c0961237f3f1",
              "version_major": 2,
              "version_minor": 0
            },
            "text/plain": [
              "VBox(children=(Label(value='0.002 MB of 0.002 MB uploaded\\r'), FloatProgress(value=1.0, max=1.0)))"
            ]
          },
          "metadata": {},
          "output_type": "display_data"
        },
        {
          "data": {
            "text/html": [
              "<style>\n",
              "    table.wandb td:nth-child(1) { padding: 0 10px; text-align: left ; width: auto;} td:nth-child(2) {text-align: left ; width: 100%}\n",
              "    .wandb-row { display: flex; flex-direction: row; flex-wrap: wrap; justify-content: flex-start; width: 100% }\n",
              "    .wandb-col { display: flex; flex-direction: column; flex-basis: 100%; flex: 1; padding: 10px; }\n",
              "    </style>\n",
              "<div class=\"wandb-row\"><div class=\"wandb-col\"><h3>Run history:</h3><br/><table class=\"wandb\"><tr><td>eval/Dice</td><td>▁▅▇██</td></tr><tr><td>eval/IoU</td><td>▁▅▇██</td></tr><tr><td>eval/kappa_score</td><td>▁▅▇██</td></tr><tr><td>eval/loss</td><td>█▃▂▁▁</td></tr><tr><td>eval/mean</td><td>▁▅▇██</td></tr><tr><td>eval/runtime</td><td>▇▂▁█▄</td></tr><tr><td>eval/samples_per_second</td><td>▂▇█▁▄</td></tr><tr><td>eval/steps_per_second</td><td>▃██▁▅</td></tr><tr><td>train/epoch</td><td>▁▁▃▃▅▅▆▆███</td></tr><tr><td>train/global_step</td><td>▁▁▃▃▅▅▆▆███</td></tr><tr><td>train/grad_norm</td><td>▃▃▂█▁</td></tr><tr><td>train/learning_rate</td><td>██▆▃▁</td></tr><tr><td>train/loss</td><td>█▃▂▁▁</td></tr></table><br/></div><div class=\"wandb-col\"><h3>Run summary:</h3><br/><table class=\"wandb\"><tr><td>eval/Dice</td><td>0.55315</td></tr><tr><td>eval/IoU</td><td>0.38231</td></tr><tr><td>eval/kappa_score</td><td>0.5504</td></tr><tr><td>eval/loss</td><td>0.50065</td></tr><tr><td>eval/mean</td><td>0.46636</td></tr><tr><td>eval/runtime</td><td>43.5948</td></tr><tr><td>eval/samples_per_second</td><td>4.817</td></tr><tr><td>eval/steps_per_second</td><td>0.619</td></tr><tr><td>total_flos</td><td>1.219893043396608e+18</td></tr><tr><td>train/epoch</td><td>5.0</td></tr><tr><td>train/global_step</td><td>595</td></tr><tr><td>train/grad_norm</td><td>0.93248</td></tr><tr><td>train/learning_rate</td><td>0.0</td></tr><tr><td>train/loss</td><td>0.3696</td></tr><tr><td>train_loss</td><td>0.53245</td></tr><tr><td>train_runtime</td><td>441.5131</td></tr><tr><td>train_samples_per_second</td><td>10.702</td></tr><tr><td>train_steps_per_second</td><td>1.348</td></tr></table><br/></div></div>"
            ],
            "text/plain": [
              "<IPython.core.display.HTML object>"
            ]
          },
          "metadata": {},
          "output_type": "display_data"
        },
        {
          "data": {
            "text/html": [
              " View run <strong style=\"color:#cdcd00\">effortless-sweep-6</strong> at: <a href='https://wandb.ai/nalex22-uv-j02/multispec-leaf-disease-sweeps/runs/ocbi86yu' target=\"_blank\">https://wandb.ai/nalex22-uv-j02/multispec-leaf-disease-sweeps/runs/ocbi86yu</a><br/> View project at: <a href='https://wandb.ai/nalex22-uv-j02/multispec-leaf-disease-sweeps' target=\"_blank\">https://wandb.ai/nalex22-uv-j02/multispec-leaf-disease-sweeps</a><br/>Synced 5 W&B file(s), 0 media file(s), 0 artifact file(s) and 0 other file(s)"
            ],
            "text/plain": [
              "<IPython.core.display.HTML object>"
            ]
          },
          "metadata": {},
          "output_type": "display_data"
        },
        {
          "data": {
            "text/html": [
              "Find logs at: <code>./wandb/run-20240517_140008-ocbi86yu/logs</code>"
            ],
            "text/plain": [
              "<IPython.core.display.HTML object>"
            ]
          },
          "metadata": {},
          "output_type": "display_data"
        },
        {
          "metadata": {
            "tags": null
          },
          "name": "stderr",
          "output_type": "stream",
          "text": [
            "\u001b[34m\u001b[1mwandb\u001b[0m: Agent Starting Run: r9hw0c3b with config:\n",
            "\u001b[34m\u001b[1mwandb\u001b[0m: \tbatch_size: 8\n",
            "\u001b[34m\u001b[1mwandb\u001b[0m: \tbetta_1: 0.6626611587205731\n",
            "\u001b[34m\u001b[1mwandb\u001b[0m: \tbetta_2: 0.6091065595946559\n",
            "\u001b[34m\u001b[1mwandb\u001b[0m: \tclass_weight_0: 0.8471523267762717\n",
            "\u001b[34m\u001b[1mwandb\u001b[0m: \tclass_weight_1: 41.88266493375092\n",
            "\u001b[34m\u001b[1mwandb\u001b[0m: \tepochs: 5\n",
            "\u001b[34m\u001b[1mwandb\u001b[0m: \tfocal_alpha: 0.5203835792748547\n",
            "\u001b[34m\u001b[1mwandb\u001b[0m: \tfocal_gamma: 2.927139943659065\n",
            "\u001b[34m\u001b[1mwandb\u001b[0m: \tlearning_rate: 0.0008449194252370763\n",
            "\u001b[34m\u001b[1mwandb\u001b[0m: \tnum_warmup_steps: 129\n",
            "\u001b[34m\u001b[1mwandb\u001b[0m: \tobjective: DiceLoss\n",
            "\u001b[34m\u001b[1mwandb\u001b[0m: \tsmooth: 0.17937776261653693\n",
            "\u001b[34m\u001b[1mwandb\u001b[0m: \ttversky_alpha: 0.6047226247112517\n",
            "\u001b[34m\u001b[1mwandb\u001b[0m: \ttversky_betta: 0.8726117166358549\n",
            "\u001b[34m\u001b[1mwandb\u001b[0m: \tweight_decay: 0.836030142904211\n"
          ]
        },
        {
          "data": {
            "text/html": [
              "Tracking run with wandb version 0.17.0"
            ],
            "text/plain": [
              "<IPython.core.display.HTML object>"
            ]
          },
          "metadata": {},
          "output_type": "display_data"
        },
        {
          "data": {
            "text/html": [
              "Run data is saved locally in <code>/content/wandb/run-20240517_140755-r9hw0c3b</code>"
            ],
            "text/plain": [
              "<IPython.core.display.HTML object>"
            ]
          },
          "metadata": {},
          "output_type": "display_data"
        },
        {
          "data": {
            "text/html": [
              "Syncing run <strong><a href='https://wandb.ai/nalex22-uv-j02/multispec-leaf-disease-sweeps/runs/r9hw0c3b' target=\"_blank\">eager-sweep-7</a></strong> to <a href='https://wandb.ai/nalex22-uv-j02/multispec-leaf-disease-sweeps' target=\"_blank\">Weights & Biases</a> (<a href='https://wandb.me/run' target=\"_blank\">docs</a>)<br/>Sweep page: <a href='https://wandb.ai/nalex22-uv-j02/multispec-leaf-disease-sweeps/sweeps/kz96xpi3' target=\"_blank\">https://wandb.ai/nalex22-uv-j02/multispec-leaf-disease-sweeps/sweeps/kz96xpi3</a>"
            ],
            "text/plain": [
              "<IPython.core.display.HTML object>"
            ]
          },
          "metadata": {},
          "output_type": "display_data"
        },
        {
          "data": {
            "text/html": [
              " View project at <a href='https://wandb.ai/nalex22-uv-j02/multispec-leaf-disease-sweeps' target=\"_blank\">https://wandb.ai/nalex22-uv-j02/multispec-leaf-disease-sweeps</a>"
            ],
            "text/plain": [
              "<IPython.core.display.HTML object>"
            ]
          },
          "metadata": {},
          "output_type": "display_data"
        },
        {
          "data": {
            "text/html": [
              " View sweep at <a href='https://wandb.ai/nalex22-uv-j02/multispec-leaf-disease-sweeps/sweeps/kz96xpi3' target=\"_blank\">https://wandb.ai/nalex22-uv-j02/multispec-leaf-disease-sweeps/sweeps/kz96xpi3</a>"
            ],
            "text/plain": [
              "<IPython.core.display.HTML object>"
            ]
          },
          "metadata": {},
          "output_type": "display_data"
        },
        {
          "data": {
            "text/html": [
              " View run at <a href='https://wandb.ai/nalex22-uv-j02/multispec-leaf-disease-sweeps/runs/r9hw0c3b' target=\"_blank\">https://wandb.ai/nalex22-uv-j02/multispec-leaf-disease-sweeps/runs/r9hw0c3b</a>"
            ],
            "text/plain": [
              "<IPython.core.display.HTML object>"
            ]
          },
          "metadata": {},
          "output_type": "display_data"
        },
        {
          "metadata": {
            "tags": null
          },
          "name": "stderr",
          "output_type": "stream",
          "text": [
            "/usr/local/lib/python3.10/dist-packages/huggingface_hub/file_download.py:1132: FutureWarning: `resume_download` is deprecated and will be removed in version 1.0.0. Downloads always resume when possible. If you want to force a new download, use `force_download=True`.\n",
            "  warnings.warn(\n",
            "Some weights of SegformerForSemanticSegmentation were not initialized from the model checkpoint at nvidia/mit-b2 and are newly initialized: ['decode_head.batch_norm.bias', 'decode_head.batch_norm.num_batches_tracked', 'decode_head.batch_norm.running_mean', 'decode_head.batch_norm.running_var', 'decode_head.batch_norm.weight', 'decode_head.classifier.bias', 'decode_head.classifier.weight', 'decode_head.linear_c.0.proj.bias', 'decode_head.linear_c.0.proj.weight', 'decode_head.linear_c.1.proj.bias', 'decode_head.linear_c.1.proj.weight', 'decode_head.linear_c.2.proj.bias', 'decode_head.linear_c.2.proj.weight', 'decode_head.linear_c.3.proj.bias', 'decode_head.linear_c.3.proj.weight', 'decode_head.linear_fuse.weight']\n",
            "You should probably TRAIN this model on a down-stream task to be able to use it for predictions and inference.\n",
            "\u001b[34m\u001b[1mwandb\u001b[0m: \u001b[33mWARNING\u001b[0m Config item 'learning_rate' was locked by 'sweep' (ignored update).\n",
            "\u001b[34m\u001b[1mwandb\u001b[0m: \u001b[33mWARNING\u001b[0m Config item 'weight_decay' was locked by 'sweep' (ignored update).\n"
          ]
        },
        {
          "data": {
            "text/html": [
              "\n",
              "    <div>\n",
              "      \n",
              "      <progress value='595' max='595' style='width:300px; height:20px; vertical-align: middle;'></progress>\n",
              "      [595/595 07:20, Epoch 5/5]\n",
              "    </div>\n",
              "    <table border=\"1\" class=\"dataframe\">\n",
              "  <thead>\n",
              " <tr style=\"text-align: left;\">\n",
              "      <th>Epoch</th>\n",
              "      <th>Training Loss</th>\n",
              "      <th>Validation Loss</th>\n",
              "      <th>Iou</th>\n",
              "      <th>Dice</th>\n",
              "      <th>Kappa Score</th>\n",
              "      <th>Mean</th>\n",
              "    </tr>\n",
              "  </thead>\n",
              "  <tbody>\n",
              "    <tr>\n",
              "      <td>1</td>\n",
              "      <td>0.872100</td>\n",
              "      <td>0.670377</td>\n",
              "      <td>0.246639</td>\n",
              "      <td>0.395687</td>\n",
              "      <td>0.391356</td>\n",
              "      <td>0.318998</td>\n",
              "    </tr>\n",
              "    <tr>\n",
              "      <td>2</td>\n",
              "      <td>0.511500</td>\n",
              "      <td>0.558444</td>\n",
              "      <td>0.309699</td>\n",
              "      <td>0.472932</td>\n",
              "      <td>0.470017</td>\n",
              "      <td>0.389858</td>\n",
              "    </tr>\n",
              "    <tr>\n",
              "      <td>3</td>\n",
              "      <td>0.435200</td>\n",
              "      <td>0.523243</td>\n",
              "      <td>0.348763</td>\n",
              "      <td>0.517160</td>\n",
              "      <td>0.514151</td>\n",
              "      <td>0.431457</td>\n",
              "    </tr>\n",
              "    <tr>\n",
              "      <td>4</td>\n",
              "      <td>0.399800</td>\n",
              "      <td>0.509033</td>\n",
              "      <td>0.370241</td>\n",
              "      <td>0.540402</td>\n",
              "      <td>0.537498</td>\n",
              "      <td>0.453869</td>\n",
              "    </tr>\n",
              "    <tr>\n",
              "      <td>5</td>\n",
              "      <td>0.373600</td>\n",
              "      <td>0.495265</td>\n",
              "      <td>0.379709</td>\n",
              "      <td>0.550418</td>\n",
              "      <td>0.547735</td>\n",
              "      <td>0.463722</td>\n",
              "    </tr>\n",
              "  </tbody>\n",
              "</table><p>"
            ],
            "text/plain": [
              "<IPython.core.display.HTML object>"
            ]
          },
          "metadata": {},
          "output_type": "display_data"
        },
        {
          "metadata": {
            "tags": null
          },
          "name": "stdout",
          "output_type": "stream",
          "text": [
            "Mean: 0.31899757658723754\n",
            "IoU: 0.2466394830505546\n",
            "Dice: 0.39568694302385204\n",
            "kappa: 0.3913556701239205\n",
            "Mean: 0.3898578493007524\n",
            "IoU: 0.30969906332372693\n",
            "Dice: 0.47293164055226417\n",
            "kappa: 0.4700166352777778\n",
            "Mean: 0.43145665567723074\n",
            "IoU: 0.3487628095940055\n",
            "Dice: 0.5171595881991846\n",
            "kappa: 0.514150501760456\n",
            "Mean: 0.4538692270715192\n",
            "IoU: 0.3702406447305599\n",
            "Dice: 0.5404023682327171\n",
            "kappa: 0.5374978094124785\n",
            "Mean: 0.46372163220041374\n",
            "IoU: 0.3797085128778313\n",
            "Dice: 0.5504184533671183\n",
            "kappa: 0.5477347515229962\n"
          ]
        },
        {
          "data": {
            "application/vnd.jupyter.widget-view+json": {
              "model_id": "3cfcb3475111463f99cedc08ab4c5b0e",
              "version_major": 2,
              "version_minor": 0
            },
            "text/plain": [
              "VBox(children=(Label(value='0.002 MB of 0.002 MB uploaded\\r'), FloatProgress(value=1.0, max=1.0)))"
            ]
          },
          "metadata": {},
          "output_type": "display_data"
        },
        {
          "data": {
            "text/html": [
              "<style>\n",
              "    table.wandb td:nth-child(1) { padding: 0 10px; text-align: left ; width: auto;} td:nth-child(2) {text-align: left ; width: 100%}\n",
              "    .wandb-row { display: flex; flex-direction: row; flex-wrap: wrap; justify-content: flex-start; width: 100% }\n",
              "    .wandb-col { display: flex; flex-direction: column; flex-basis: 100%; flex: 1; padding: 10px; }\n",
              "    </style>\n",
              "<div class=\"wandb-row\"><div class=\"wandb-col\"><h3>Run history:</h3><br/><table class=\"wandb\"><tr><td>eval/Dice</td><td>▁▄▆██</td></tr><tr><td>eval/IoU</td><td>▁▄▆██</td></tr><tr><td>eval/kappa_score</td><td>▁▅▆██</td></tr><tr><td>eval/loss</td><td>█▄▂▂▁</td></tr><tr><td>eval/mean</td><td>▁▄▆██</td></tr><tr><td>eval/runtime</td><td>▄▇▄█▁</td></tr><tr><td>eval/samples_per_second</td><td>▅▂▅▁█</td></tr><tr><td>eval/steps_per_second</td><td>▅▂▅▁█</td></tr><tr><td>train/epoch</td><td>▁▁▃▃▅▅▆▆███</td></tr><tr><td>train/global_step</td><td>▁▁▃▃▅▅▆▆███</td></tr><tr><td>train/grad_norm</td><td>▆▅▂█▁</td></tr><tr><td>train/learning_rate</td><td>█▇▅▃▁</td></tr><tr><td>train/loss</td><td>█▃▂▁▁</td></tr></table><br/></div><div class=\"wandb-col\"><h3>Run summary:</h3><br/><table class=\"wandb\"><tr><td>eval/Dice</td><td>0.55042</td></tr><tr><td>eval/IoU</td><td>0.37971</td></tr><tr><td>eval/kappa_score</td><td>0.54773</td></tr><tr><td>eval/loss</td><td>0.49526</td></tr><tr><td>eval/mean</td><td>0.46372</td></tr><tr><td>eval/runtime</td><td>43.2492</td></tr><tr><td>eval/samples_per_second</td><td>4.856</td></tr><tr><td>eval/steps_per_second</td><td>0.624</td></tr><tr><td>total_flos</td><td>1.219893043396608e+18</td></tr><tr><td>train/epoch</td><td>5.0</td></tr><tr><td>train/global_step</td><td>595</td></tr><tr><td>train/grad_norm</td><td>0.78743</td></tr><tr><td>train/learning_rate</td><td>0.0</td></tr><tr><td>train/loss</td><td>0.3736</td></tr><tr><td>train_loss</td><td>0.51845</td></tr><tr><td>train_runtime</td><td>441.5535</td></tr><tr><td>train_samples_per_second</td><td>10.701</td></tr><tr><td>train_steps_per_second</td><td>1.348</td></tr></table><br/></div></div>"
            ],
            "text/plain": [
              "<IPython.core.display.HTML object>"
            ]
          },
          "metadata": {},
          "output_type": "display_data"
        },
        {
          "data": {
            "text/html": [
              " View run <strong style=\"color:#cdcd00\">eager-sweep-7</strong> at: <a href='https://wandb.ai/nalex22-uv-j02/multispec-leaf-disease-sweeps/runs/r9hw0c3b' target=\"_blank\">https://wandb.ai/nalex22-uv-j02/multispec-leaf-disease-sweeps/runs/r9hw0c3b</a><br/> View project at: <a href='https://wandb.ai/nalex22-uv-j02/multispec-leaf-disease-sweeps' target=\"_blank\">https://wandb.ai/nalex22-uv-j02/multispec-leaf-disease-sweeps</a><br/>Synced 5 W&B file(s), 0 media file(s), 0 artifact file(s) and 0 other file(s)"
            ],
            "text/plain": [
              "<IPython.core.display.HTML object>"
            ]
          },
          "metadata": {},
          "output_type": "display_data"
        },
        {
          "data": {
            "text/html": [
              "Find logs at: <code>./wandb/run-20240517_140755-r9hw0c3b/logs</code>"
            ],
            "text/plain": [
              "<IPython.core.display.HTML object>"
            ]
          },
          "metadata": {},
          "output_type": "display_data"
        },
        {
          "metadata": {
            "tags": null
          },
          "name": "stderr",
          "output_type": "stream",
          "text": [
            "\u001b[34m\u001b[1mwandb\u001b[0m: Agent Starting Run: qep54nrk with config:\n",
            "\u001b[34m\u001b[1mwandb\u001b[0m: \tbatch_size: 8\n",
            "\u001b[34m\u001b[1mwandb\u001b[0m: \tbetta_1: 0.7156544079945724\n",
            "\u001b[34m\u001b[1mwandb\u001b[0m: \tbetta_2: 0.5087090415133685\n",
            "\u001b[34m\u001b[1mwandb\u001b[0m: \tclass_weight_0: 2.596798334160445\n",
            "\u001b[34m\u001b[1mwandb\u001b[0m: \tclass_weight_1: 44.08056282175286\n",
            "\u001b[34m\u001b[1mwandb\u001b[0m: \tepochs: 5\n",
            "\u001b[34m\u001b[1mwandb\u001b[0m: \tfocal_alpha: 0.5495432369352488\n",
            "\u001b[34m\u001b[1mwandb\u001b[0m: \tfocal_gamma: 1.7676476162769266\n",
            "\u001b[34m\u001b[1mwandb\u001b[0m: \tlearning_rate: 0.0008627143419803124\n",
            "\u001b[34m\u001b[1mwandb\u001b[0m: \tnum_warmup_steps: 121\n",
            "\u001b[34m\u001b[1mwandb\u001b[0m: \tobjective: DiceLoss\n",
            "\u001b[34m\u001b[1mwandb\u001b[0m: \tsmooth: 0.9660606235834795\n",
            "\u001b[34m\u001b[1mwandb\u001b[0m: \ttversky_alpha: 0.40978283876508215\n",
            "\u001b[34m\u001b[1mwandb\u001b[0m: \ttversky_betta: 0.9559149710978904\n",
            "\u001b[34m\u001b[1mwandb\u001b[0m: \tweight_decay: 0.7328334525223315\n"
          ]
        },
        {
          "data": {
            "text/html": [
              "Tracking run with wandb version 0.17.0"
            ],
            "text/plain": [
              "<IPython.core.display.HTML object>"
            ]
          },
          "metadata": {},
          "output_type": "display_data"
        },
        {
          "data": {
            "text/html": [
              "Run data is saved locally in <code>/content/wandb/run-20240517_141542-qep54nrk</code>"
            ],
            "text/plain": [
              "<IPython.core.display.HTML object>"
            ]
          },
          "metadata": {},
          "output_type": "display_data"
        },
        {
          "data": {
            "text/html": [
              "Syncing run <strong><a href='https://wandb.ai/nalex22-uv-j02/multispec-leaf-disease-sweeps/runs/qep54nrk' target=\"_blank\">treasured-sweep-8</a></strong> to <a href='https://wandb.ai/nalex22-uv-j02/multispec-leaf-disease-sweeps' target=\"_blank\">Weights & Biases</a> (<a href='https://wandb.me/run' target=\"_blank\">docs</a>)<br/>Sweep page: <a href='https://wandb.ai/nalex22-uv-j02/multispec-leaf-disease-sweeps/sweeps/kz96xpi3' target=\"_blank\">https://wandb.ai/nalex22-uv-j02/multispec-leaf-disease-sweeps/sweeps/kz96xpi3</a>"
            ],
            "text/plain": [
              "<IPython.core.display.HTML object>"
            ]
          },
          "metadata": {},
          "output_type": "display_data"
        },
        {
          "data": {
            "text/html": [
              " View project at <a href='https://wandb.ai/nalex22-uv-j02/multispec-leaf-disease-sweeps' target=\"_blank\">https://wandb.ai/nalex22-uv-j02/multispec-leaf-disease-sweeps</a>"
            ],
            "text/plain": [
              "<IPython.core.display.HTML object>"
            ]
          },
          "metadata": {},
          "output_type": "display_data"
        },
        {
          "data": {
            "text/html": [
              " View sweep at <a href='https://wandb.ai/nalex22-uv-j02/multispec-leaf-disease-sweeps/sweeps/kz96xpi3' target=\"_blank\">https://wandb.ai/nalex22-uv-j02/multispec-leaf-disease-sweeps/sweeps/kz96xpi3</a>"
            ],
            "text/plain": [
              "<IPython.core.display.HTML object>"
            ]
          },
          "metadata": {},
          "output_type": "display_data"
        },
        {
          "data": {
            "text/html": [
              " View run at <a href='https://wandb.ai/nalex22-uv-j02/multispec-leaf-disease-sweeps/runs/qep54nrk' target=\"_blank\">https://wandb.ai/nalex22-uv-j02/multispec-leaf-disease-sweeps/runs/qep54nrk</a>"
            ],
            "text/plain": [
              "<IPython.core.display.HTML object>"
            ]
          },
          "metadata": {},
          "output_type": "display_data"
        },
        {
          "metadata": {
            "tags": null
          },
          "name": "stderr",
          "output_type": "stream",
          "text": [
            "/usr/local/lib/python3.10/dist-packages/huggingface_hub/file_download.py:1132: FutureWarning: `resume_download` is deprecated and will be removed in version 1.0.0. Downloads always resume when possible. If you want to force a new download, use `force_download=True`.\n",
            "  warnings.warn(\n",
            "Some weights of SegformerForSemanticSegmentation were not initialized from the model checkpoint at nvidia/mit-b2 and are newly initialized: ['decode_head.batch_norm.bias', 'decode_head.batch_norm.num_batches_tracked', 'decode_head.batch_norm.running_mean', 'decode_head.batch_norm.running_var', 'decode_head.batch_norm.weight', 'decode_head.classifier.bias', 'decode_head.classifier.weight', 'decode_head.linear_c.0.proj.bias', 'decode_head.linear_c.0.proj.weight', 'decode_head.linear_c.1.proj.bias', 'decode_head.linear_c.1.proj.weight', 'decode_head.linear_c.2.proj.bias', 'decode_head.linear_c.2.proj.weight', 'decode_head.linear_c.3.proj.bias', 'decode_head.linear_c.3.proj.weight', 'decode_head.linear_fuse.weight']\n",
            "You should probably TRAIN this model on a down-stream task to be able to use it for predictions and inference.\n",
            "\u001b[34m\u001b[1mwandb\u001b[0m: \u001b[33mWARNING\u001b[0m Config item 'learning_rate' was locked by 'sweep' (ignored update).\n",
            "\u001b[34m\u001b[1mwandb\u001b[0m: \u001b[33mWARNING\u001b[0m Config item 'weight_decay' was locked by 'sweep' (ignored update).\n"
          ]
        },
        {
          "data": {
            "text/html": [
              "\n",
              "    <div>\n",
              "      \n",
              "      <progress value='595' max='595' style='width:300px; height:20px; vertical-align: middle;'></progress>\n",
              "      [595/595 07:19, Epoch 5/5]\n",
              "    </div>\n",
              "    <table border=\"1\" class=\"dataframe\">\n",
              "  <thead>\n",
              " <tr style=\"text-align: left;\">\n",
              "      <th>Epoch</th>\n",
              "      <th>Training Loss</th>\n",
              "      <th>Validation Loss</th>\n",
              "      <th>Iou</th>\n",
              "      <th>Dice</th>\n",
              "      <th>Kappa Score</th>\n",
              "      <th>Mean</th>\n",
              "    </tr>\n",
              "  </thead>\n",
              "  <tbody>\n",
              "    <tr>\n",
              "      <td>1</td>\n",
              "      <td>0.856600</td>\n",
              "      <td>0.937451</td>\n",
              "      <td>0.054012</td>\n",
              "      <td>0.102489</td>\n",
              "      <td>0.091669</td>\n",
              "      <td>0.072841</td>\n",
              "    </tr>\n",
              "    <tr>\n",
              "      <td>2</td>\n",
              "      <td>0.508100</td>\n",
              "      <td>0.547251</td>\n",
              "      <td>0.335630</td>\n",
              "      <td>0.502579</td>\n",
              "      <td>0.499098</td>\n",
              "      <td>0.417364</td>\n",
              "    </tr>\n",
              "    <tr>\n",
              "      <td>3</td>\n",
              "      <td>0.434800</td>\n",
              "      <td>0.521077</td>\n",
              "      <td>0.353043</td>\n",
              "      <td>0.521850</td>\n",
              "      <td>0.518670</td>\n",
              "      <td>0.435857</td>\n",
              "    </tr>\n",
              "    <tr>\n",
              "      <td>4</td>\n",
              "      <td>0.403700</td>\n",
              "      <td>0.499952</td>\n",
              "      <td>0.373821</td>\n",
              "      <td>0.544206</td>\n",
              "      <td>0.541319</td>\n",
              "      <td>0.457570</td>\n",
              "    </tr>\n",
              "    <tr>\n",
              "      <td>5</td>\n",
              "      <td>0.378200</td>\n",
              "      <td>0.493060</td>\n",
              "      <td>0.380798</td>\n",
              "      <td>0.551562</td>\n",
              "      <td>0.548866</td>\n",
              "      <td>0.464832</td>\n",
              "    </tr>\n",
              "  </tbody>\n",
              "</table><p>"
            ],
            "text/plain": [
              "<IPython.core.display.HTML object>"
            ]
          },
          "metadata": {},
          "output_type": "display_data"
        },
        {
          "metadata": {
            "tags": null
          },
          "name": "stdout",
          "output_type": "stream",
          "text": [
            "Mean: 0.07284097057836925\n",
            "IoU: 0.054012495899731776\n",
            "Dice: 0.10248928947208609\n",
            "kappa: 0.09166944525700671\n",
            "Mean: 0.41736389045604216\n",
            "IoU: 0.3356297865632368\n",
            "Dice: 0.502579067852117\n",
            "kappa: 0.4990979943488475\n",
            "Mean: 0.435856771008456\n",
            "IoU: 0.35304304202008563\n",
            "Dice: 0.5218504231661313\n",
            "kappa: 0.5186704999968264\n",
            "Mean: 0.4575697983430531\n",
            "IoU: 0.3738208855842859\n",
            "Dice: 0.5442061472595824\n",
            "kappa: 0.5413187111018203\n",
            "Mean: 0.46483214660388134\n",
            "IoU: 0.380798264986534\n",
            "Dice: 0.5515624905427408\n",
            "kappa: 0.5488660282212287\n"
          ]
        },
        {
          "data": {
            "application/vnd.jupyter.widget-view+json": {
              "model_id": "090b4423a63b4c258f4764e908ee569f",
              "version_major": 2,
              "version_minor": 0
            },
            "text/plain": [
              "VBox(children=(Label(value='0.002 MB of 0.002 MB uploaded\\r'), FloatProgress(value=1.0, max=1.0)))"
            ]
          },
          "metadata": {},
          "output_type": "display_data"
        },
        {
          "data": {
            "text/html": [
              "<style>\n",
              "    table.wandb td:nth-child(1) { padding: 0 10px; text-align: left ; width: auto;} td:nth-child(2) {text-align: left ; width: 100%}\n",
              "    .wandb-row { display: flex; flex-direction: row; flex-wrap: wrap; justify-content: flex-start; width: 100% }\n",
              "    .wandb-col { display: flex; flex-direction: column; flex-basis: 100%; flex: 1; padding: 10px; }\n",
              "    </style>\n",
              "<div class=\"wandb-row\"><div class=\"wandb-col\"><h3>Run history:</h3><br/><table class=\"wandb\"><tr><td>eval/Dice</td><td>▁▇███</td></tr><tr><td>eval/IoU</td><td>▁▇▇██</td></tr><tr><td>eval/kappa_score</td><td>▁▇███</td></tr><tr><td>eval/loss</td><td>█▂▁▁▁</td></tr><tr><td>eval/mean</td><td>▁▇▇██</td></tr><tr><td>eval/runtime</td><td>█▄▇▇▁</td></tr><tr><td>eval/samples_per_second</td><td>▁▅▂▂█</td></tr><tr><td>eval/steps_per_second</td><td>▁▆▂▂█</td></tr><tr><td>train/epoch</td><td>▁▁▃▃▅▅▆▆███</td></tr><tr><td>train/global_step</td><td>▁▁▃▃▅▅▆▆███</td></tr><tr><td>train/grad_norm</td><td>█▄▃█▁</td></tr><tr><td>train/learning_rate</td><td>█▆▅▃▁</td></tr><tr><td>train/loss</td><td>█▃▂▁▁</td></tr></table><br/></div><div class=\"wandb-col\"><h3>Run summary:</h3><br/><table class=\"wandb\"><tr><td>eval/Dice</td><td>0.55156</td></tr><tr><td>eval/IoU</td><td>0.3808</td></tr><tr><td>eval/kappa_score</td><td>0.54887</td></tr><tr><td>eval/loss</td><td>0.49306</td></tr><tr><td>eval/mean</td><td>0.46483</td></tr><tr><td>eval/runtime</td><td>43.2533</td></tr><tr><td>eval/samples_per_second</td><td>4.855</td></tr><tr><td>eval/steps_per_second</td><td>0.624</td></tr><tr><td>total_flos</td><td>1.219893043396608e+18</td></tr><tr><td>train/epoch</td><td>5.0</td></tr><tr><td>train/global_step</td><td>595</td></tr><tr><td>train/grad_norm</td><td>0.90064</td></tr><tr><td>train/learning_rate</td><td>0.0</td></tr><tr><td>train/loss</td><td>0.3782</td></tr><tr><td>train_loss</td><td>0.51628</td></tr><tr><td>train_runtime</td><td>440.5028</td></tr><tr><td>train_samples_per_second</td><td>10.726</td></tr><tr><td>train_steps_per_second</td><td>1.351</td></tr></table><br/></div></div>"
            ],
            "text/plain": [
              "<IPython.core.display.HTML object>"
            ]
          },
          "metadata": {},
          "output_type": "display_data"
        },
        {
          "data": {
            "text/html": [
              " View run <strong style=\"color:#cdcd00\">treasured-sweep-8</strong> at: <a href='https://wandb.ai/nalex22-uv-j02/multispec-leaf-disease-sweeps/runs/qep54nrk' target=\"_blank\">https://wandb.ai/nalex22-uv-j02/multispec-leaf-disease-sweeps/runs/qep54nrk</a><br/> View project at: <a href='https://wandb.ai/nalex22-uv-j02/multispec-leaf-disease-sweeps' target=\"_blank\">https://wandb.ai/nalex22-uv-j02/multispec-leaf-disease-sweeps</a><br/>Synced 5 W&B file(s), 0 media file(s), 0 artifact file(s) and 0 other file(s)"
            ],
            "text/plain": [
              "<IPython.core.display.HTML object>"
            ]
          },
          "metadata": {},
          "output_type": "display_data"
        },
        {
          "data": {
            "text/html": [
              "Find logs at: <code>./wandb/run-20240517_141542-qep54nrk/logs</code>"
            ],
            "text/plain": [
              "<IPython.core.display.HTML object>"
            ]
          },
          "metadata": {},
          "output_type": "display_data"
        },
        {
          "metadata": {
            "tags": null
          },
          "name": "stderr",
          "output_type": "stream",
          "text": [
            "\u001b[34m\u001b[1mwandb\u001b[0m: Agent Starting Run: rl48w6ec with config:\n",
            "\u001b[34m\u001b[1mwandb\u001b[0m: \tbatch_size: 8\n",
            "\u001b[34m\u001b[1mwandb\u001b[0m: \tbetta_1: 0.7870851965711989\n",
            "\u001b[34m\u001b[1mwandb\u001b[0m: \tbetta_2: 0.5259639604489406\n",
            "\u001b[34m\u001b[1mwandb\u001b[0m: \tclass_weight_0: 0.9203238722736022\n",
            "\u001b[34m\u001b[1mwandb\u001b[0m: \tclass_weight_1: 44.39670768750117\n",
            "\u001b[34m\u001b[1mwandb\u001b[0m: \tepochs: 5\n",
            "\u001b[34m\u001b[1mwandb\u001b[0m: \tfocal_alpha: 0.7241366342581582\n",
            "\u001b[34m\u001b[1mwandb\u001b[0m: \tfocal_gamma: 1.9808508371590845\n",
            "\u001b[34m\u001b[1mwandb\u001b[0m: \tlearning_rate: 0.0009021733403612044\n",
            "\u001b[34m\u001b[1mwandb\u001b[0m: \tnum_warmup_steps: 175\n",
            "\u001b[34m\u001b[1mwandb\u001b[0m: \tobjective: DiceLoss\n",
            "\u001b[34m\u001b[1mwandb\u001b[0m: \tsmooth: 0.31773049198561826\n",
            "\u001b[34m\u001b[1mwandb\u001b[0m: \ttversky_alpha: 0.5249575442313725\n",
            "\u001b[34m\u001b[1mwandb\u001b[0m: \ttversky_betta: 0.82441676179646\n",
            "\u001b[34m\u001b[1mwandb\u001b[0m: \tweight_decay: 0.02750458535028044\n"
          ]
        },
        {
          "data": {
            "text/html": [
              "Tracking run with wandb version 0.17.0"
            ],
            "text/plain": [
              "<IPython.core.display.HTML object>"
            ]
          },
          "metadata": {},
          "output_type": "display_data"
        },
        {
          "data": {
            "text/html": [
              "Run data is saved locally in <code>/content/wandb/run-20240517_142328-rl48w6ec</code>"
            ],
            "text/plain": [
              "<IPython.core.display.HTML object>"
            ]
          },
          "metadata": {},
          "output_type": "display_data"
        },
        {
          "data": {
            "text/html": [
              "Syncing run <strong><a href='https://wandb.ai/nalex22-uv-j02/multispec-leaf-disease-sweeps/runs/rl48w6ec' target=\"_blank\">generous-sweep-9</a></strong> to <a href='https://wandb.ai/nalex22-uv-j02/multispec-leaf-disease-sweeps' target=\"_blank\">Weights & Biases</a> (<a href='https://wandb.me/run' target=\"_blank\">docs</a>)<br/>Sweep page: <a href='https://wandb.ai/nalex22-uv-j02/multispec-leaf-disease-sweeps/sweeps/kz96xpi3' target=\"_blank\">https://wandb.ai/nalex22-uv-j02/multispec-leaf-disease-sweeps/sweeps/kz96xpi3</a>"
            ],
            "text/plain": [
              "<IPython.core.display.HTML object>"
            ]
          },
          "metadata": {},
          "output_type": "display_data"
        },
        {
          "data": {
            "text/html": [
              " View project at <a href='https://wandb.ai/nalex22-uv-j02/multispec-leaf-disease-sweeps' target=\"_blank\">https://wandb.ai/nalex22-uv-j02/multispec-leaf-disease-sweeps</a>"
            ],
            "text/plain": [
              "<IPython.core.display.HTML object>"
            ]
          },
          "metadata": {},
          "output_type": "display_data"
        },
        {
          "data": {
            "text/html": [
              " View sweep at <a href='https://wandb.ai/nalex22-uv-j02/multispec-leaf-disease-sweeps/sweeps/kz96xpi3' target=\"_blank\">https://wandb.ai/nalex22-uv-j02/multispec-leaf-disease-sweeps/sweeps/kz96xpi3</a>"
            ],
            "text/plain": [
              "<IPython.core.display.HTML object>"
            ]
          },
          "metadata": {},
          "output_type": "display_data"
        },
        {
          "data": {
            "text/html": [
              " View run at <a href='https://wandb.ai/nalex22-uv-j02/multispec-leaf-disease-sweeps/runs/rl48w6ec' target=\"_blank\">https://wandb.ai/nalex22-uv-j02/multispec-leaf-disease-sweeps/runs/rl48w6ec</a>"
            ],
            "text/plain": [
              "<IPython.core.display.HTML object>"
            ]
          },
          "metadata": {},
          "output_type": "display_data"
        },
        {
          "metadata": {
            "tags": null
          },
          "name": "stderr",
          "output_type": "stream",
          "text": [
            "/usr/local/lib/python3.10/dist-packages/huggingface_hub/file_download.py:1132: FutureWarning: `resume_download` is deprecated and will be removed in version 1.0.0. Downloads always resume when possible. If you want to force a new download, use `force_download=True`.\n",
            "  warnings.warn(\n",
            "Some weights of SegformerForSemanticSegmentation were not initialized from the model checkpoint at nvidia/mit-b2 and are newly initialized: ['decode_head.batch_norm.bias', 'decode_head.batch_norm.num_batches_tracked', 'decode_head.batch_norm.running_mean', 'decode_head.batch_norm.running_var', 'decode_head.batch_norm.weight', 'decode_head.classifier.bias', 'decode_head.classifier.weight', 'decode_head.linear_c.0.proj.bias', 'decode_head.linear_c.0.proj.weight', 'decode_head.linear_c.1.proj.bias', 'decode_head.linear_c.1.proj.weight', 'decode_head.linear_c.2.proj.bias', 'decode_head.linear_c.2.proj.weight', 'decode_head.linear_c.3.proj.bias', 'decode_head.linear_c.3.proj.weight', 'decode_head.linear_fuse.weight']\n",
            "You should probably TRAIN this model on a down-stream task to be able to use it for predictions and inference.\n",
            "\u001b[34m\u001b[1mwandb\u001b[0m: \u001b[33mWARNING\u001b[0m Config item 'learning_rate' was locked by 'sweep' (ignored update).\n",
            "\u001b[34m\u001b[1mwandb\u001b[0m: \u001b[33mWARNING\u001b[0m Config item 'weight_decay' was locked by 'sweep' (ignored update).\n"
          ]
        },
        {
          "data": {
            "text/html": [
              "\n",
              "    <div>\n",
              "      \n",
              "      <progress value='595' max='595' style='width:300px; height:20px; vertical-align: middle;'></progress>\n",
              "      [595/595 07:19, Epoch 5/5]\n",
              "    </div>\n",
              "    <table border=\"1\" class=\"dataframe\">\n",
              "  <thead>\n",
              " <tr style=\"text-align: left;\">\n",
              "      <th>Epoch</th>\n",
              "      <th>Training Loss</th>\n",
              "      <th>Validation Loss</th>\n",
              "      <th>Iou</th>\n",
              "      <th>Dice</th>\n",
              "      <th>Kappa Score</th>\n",
              "      <th>Mean</th>\n",
              "    </tr>\n",
              "  </thead>\n",
              "  <tbody>\n",
              "    <tr>\n",
              "      <td>1</td>\n",
              "      <td>0.891700</td>\n",
              "      <td>0.881615</td>\n",
              "      <td>0.094683</td>\n",
              "      <td>0.172987</td>\n",
              "      <td>0.163754</td>\n",
              "      <td>0.129219</td>\n",
              "    </tr>\n",
              "    <tr>\n",
              "      <td>2</td>\n",
              "      <td>0.524000</td>\n",
              "      <td>0.551037</td>\n",
              "      <td>0.323367</td>\n",
              "      <td>0.488704</td>\n",
              "      <td>0.485366</td>\n",
              "      <td>0.404367</td>\n",
              "    </tr>\n",
              "    <tr>\n",
              "      <td>3</td>\n",
              "      <td>0.436400</td>\n",
              "      <td>0.512375</td>\n",
              "      <td>0.359336</td>\n",
              "      <td>0.528693</td>\n",
              "      <td>0.525595</td>\n",
              "      <td>0.442465</td>\n",
              "    </tr>\n",
              "    <tr>\n",
              "      <td>4</td>\n",
              "      <td>0.398700</td>\n",
              "      <td>0.501562</td>\n",
              "      <td>0.370648</td>\n",
              "      <td>0.540836</td>\n",
              "      <td>0.538183</td>\n",
              "      <td>0.454416</td>\n",
              "    </tr>\n",
              "    <tr>\n",
              "      <td>5</td>\n",
              "      <td>0.372600</td>\n",
              "      <td>0.487062</td>\n",
              "      <td>0.385898</td>\n",
              "      <td>0.556893</td>\n",
              "      <td>0.554224</td>\n",
              "      <td>0.470061</td>\n",
              "    </tr>\n",
              "  </tbody>\n",
              "</table><p>"
            ],
            "text/plain": [
              "<IPython.core.display.HTML object>"
            ]
          },
          "metadata": {},
          "output_type": "display_data"
        },
        {
          "metadata": {
            "tags": null
          },
          "name": "stdout",
          "output_type": "stream",
          "text": [
            "Mean: 0.12921870336565897\n",
            "IoU: 0.09468312948559772\n",
            "Dice: 0.17298728177183154\n",
            "kappa: 0.16375427724572023\n",
            "Mean: 0.40436681806120967\n",
            "IoU: 0.323367450547333\n",
            "Dice: 0.48870395053708043\n",
            "kappa: 0.4853661855750864\n",
            "Mean: 0.4424652766966427\n",
            "IoU: 0.3593355506841031\n",
            "Dice: 0.5286929345786077\n",
            "kappa: 0.5255950027091822\n",
            "Mean: 0.4544155246175177\n",
            "IoU: 0.3706476573343316\n",
            "Dice: 0.5408357944523482\n",
            "kappa: 0.5381833919007039\n",
            "Mean: 0.47006092227579926\n",
            "IoU: 0.385898198326479\n",
            "Dice: 0.5568925607847167\n",
            "kappa: 0.5542236462251195\n"
          ]
        },
        {
          "data": {
            "application/vnd.jupyter.widget-view+json": {
              "model_id": "fee43fafd9d948fbbbf6c658c4cde481",
              "version_major": 2,
              "version_minor": 0
            },
            "text/plain": [
              "VBox(children=(Label(value='0.002 MB of 0.002 MB uploaded\\r'), FloatProgress(value=1.0, max=1.0)))"
            ]
          },
          "metadata": {},
          "output_type": "display_data"
        },
        {
          "data": {
            "text/html": [
              "<style>\n",
              "    table.wandb td:nth-child(1) { padding: 0 10px; text-align: left ; width: auto;} td:nth-child(2) {text-align: left ; width: 100%}\n",
              "    .wandb-row { display: flex; flex-direction: row; flex-wrap: wrap; justify-content: flex-start; width: 100% }\n",
              "    .wandb-col { display: flex; flex-direction: column; flex-basis: 100%; flex: 1; padding: 10px; }\n",
              "    </style>\n",
              "<div class=\"wandb-row\"><div class=\"wandb-col\"><h3>Run history:</h3><br/><table class=\"wandb\"><tr><td>eval/Dice</td><td>▁▇▇██</td></tr><tr><td>eval/IoU</td><td>▁▆▇██</td></tr><tr><td>eval/kappa_score</td><td>▁▇▇██</td></tr><tr><td>eval/loss</td><td>█▂▁▁▁</td></tr><tr><td>eval/mean</td><td>▁▇▇██</td></tr><tr><td>eval/runtime</td><td>▄▆▁▂█</td></tr><tr><td>eval/samples_per_second</td><td>▅▃█▇▁</td></tr><tr><td>eval/steps_per_second</td><td>▅▃█▇▁</td></tr><tr><td>train/epoch</td><td>▁▁▃▃▅▅▆▆███</td></tr><tr><td>train/global_step</td><td>▁▁▃▃▅▅▆▆███</td></tr><tr><td>train/grad_norm</td><td>█▇▂▅▁</td></tr><tr><td>train/learning_rate</td><td>▇█▆▃▁</td></tr><tr><td>train/loss</td><td>█▃▂▁▁</td></tr></table><br/></div><div class=\"wandb-col\"><h3>Run summary:</h3><br/><table class=\"wandb\"><tr><td>eval/Dice</td><td>0.55689</td></tr><tr><td>eval/IoU</td><td>0.3859</td></tr><tr><td>eval/kappa_score</td><td>0.55422</td></tr><tr><td>eval/loss</td><td>0.48706</td></tr><tr><td>eval/mean</td><td>0.47006</td></tr><tr><td>eval/runtime</td><td>43.5998</td></tr><tr><td>eval/samples_per_second</td><td>4.817</td></tr><tr><td>eval/steps_per_second</td><td>0.619</td></tr><tr><td>total_flos</td><td>1.219893043396608e+18</td></tr><tr><td>train/epoch</td><td>5.0</td></tr><tr><td>train/global_step</td><td>595</td></tr><tr><td>train/grad_norm</td><td>0.68317</td></tr><tr><td>train/learning_rate</td><td>0.0</td></tr><tr><td>train/loss</td><td>0.3726</td></tr><tr><td>train_loss</td><td>0.52466</td></tr><tr><td>train_runtime</td><td>439.6484</td></tr><tr><td>train_samples_per_second</td><td>10.747</td></tr><tr><td>train_steps_per_second</td><td>1.353</td></tr></table><br/></div></div>"
            ],
            "text/plain": [
              "<IPython.core.display.HTML object>"
            ]
          },
          "metadata": {},
          "output_type": "display_data"
        },
        {
          "data": {
            "text/html": [
              " View run <strong style=\"color:#cdcd00\">generous-sweep-9</strong> at: <a href='https://wandb.ai/nalex22-uv-j02/multispec-leaf-disease-sweeps/runs/rl48w6ec' target=\"_blank\">https://wandb.ai/nalex22-uv-j02/multispec-leaf-disease-sweeps/runs/rl48w6ec</a><br/> View project at: <a href='https://wandb.ai/nalex22-uv-j02/multispec-leaf-disease-sweeps' target=\"_blank\">https://wandb.ai/nalex22-uv-j02/multispec-leaf-disease-sweeps</a><br/>Synced 5 W&B file(s), 0 media file(s), 0 artifact file(s) and 0 other file(s)"
            ],
            "text/plain": [
              "<IPython.core.display.HTML object>"
            ]
          },
          "metadata": {},
          "output_type": "display_data"
        },
        {
          "data": {
            "text/html": [
              "Find logs at: <code>./wandb/run-20240517_142328-rl48w6ec/logs</code>"
            ],
            "text/plain": [
              "<IPython.core.display.HTML object>"
            ]
          },
          "metadata": {},
          "output_type": "display_data"
        },
        {
          "metadata": {
            "tags": null
          },
          "name": "stderr",
          "output_type": "stream",
          "text": [
            "\u001b[34m\u001b[1mwandb\u001b[0m: Sweep Agent: Waiting for job.\n",
            "\u001b[34m\u001b[1mwandb\u001b[0m: Job received.\n",
            "\u001b[34m\u001b[1mwandb\u001b[0m: Agent Starting Run: 1rgbiky1 with config:\n",
            "\u001b[34m\u001b[1mwandb\u001b[0m: \tbatch_size: 8\n",
            "\u001b[34m\u001b[1mwandb\u001b[0m: \tbetta_1: 0.564393105962784\n",
            "\u001b[34m\u001b[1mwandb\u001b[0m: \tbetta_2: 0.9046003060234356\n",
            "\u001b[34m\u001b[1mwandb\u001b[0m: \tclass_weight_0: 0.8385884938238142\n",
            "\u001b[34m\u001b[1mwandb\u001b[0m: \tclass_weight_1: 36.88330299993871\n",
            "\u001b[34m\u001b[1mwandb\u001b[0m: \tepochs: 5\n",
            "\u001b[34m\u001b[1mwandb\u001b[0m: \tfocal_alpha: 0.5780467060491598\n",
            "\u001b[34m\u001b[1mwandb\u001b[0m: \tfocal_gamma: 2.35219192263352\n",
            "\u001b[34m\u001b[1mwandb\u001b[0m: \tlearning_rate: 0.000792220535475399\n",
            "\u001b[34m\u001b[1mwandb\u001b[0m: \tnum_warmup_steps: 200\n",
            "\u001b[34m\u001b[1mwandb\u001b[0m: \tobjective: LovaszLoss\n",
            "\u001b[34m\u001b[1mwandb\u001b[0m: \tsmooth: 0.50722247021763\n",
            "\u001b[34m\u001b[1mwandb\u001b[0m: \ttversky_alpha: 0.5680831404942668\n",
            "\u001b[34m\u001b[1mwandb\u001b[0m: \ttversky_betta: 0.95888601245971\n",
            "\u001b[34m\u001b[1mwandb\u001b[0m: \tweight_decay: 0.003505804839181781\n"
          ]
        },
        {
          "data": {
            "text/html": [
              "Tracking run with wandb version 0.17.0"
            ],
            "text/plain": [
              "<IPython.core.display.HTML object>"
            ]
          },
          "metadata": {},
          "output_type": "display_data"
        },
        {
          "data": {
            "text/html": [
              "Run data is saved locally in <code>/content/wandb/run-20240517_143120-1rgbiky1</code>"
            ],
            "text/plain": [
              "<IPython.core.display.HTML object>"
            ]
          },
          "metadata": {},
          "output_type": "display_data"
        },
        {
          "data": {
            "text/html": [
              "Syncing run <strong><a href='https://wandb.ai/nalex22-uv-j02/multispec-leaf-disease-sweeps/runs/1rgbiky1' target=\"_blank\">blooming-sweep-10</a></strong> to <a href='https://wandb.ai/nalex22-uv-j02/multispec-leaf-disease-sweeps' target=\"_blank\">Weights & Biases</a> (<a href='https://wandb.me/run' target=\"_blank\">docs</a>)<br/>Sweep page: <a href='https://wandb.ai/nalex22-uv-j02/multispec-leaf-disease-sweeps/sweeps/kz96xpi3' target=\"_blank\">https://wandb.ai/nalex22-uv-j02/multispec-leaf-disease-sweeps/sweeps/kz96xpi3</a>"
            ],
            "text/plain": [
              "<IPython.core.display.HTML object>"
            ]
          },
          "metadata": {},
          "output_type": "display_data"
        },
        {
          "data": {
            "text/html": [
              " View project at <a href='https://wandb.ai/nalex22-uv-j02/multispec-leaf-disease-sweeps' target=\"_blank\">https://wandb.ai/nalex22-uv-j02/multispec-leaf-disease-sweeps</a>"
            ],
            "text/plain": [
              "<IPython.core.display.HTML object>"
            ]
          },
          "metadata": {},
          "output_type": "display_data"
        },
        {
          "data": {
            "text/html": [
              " View sweep at <a href='https://wandb.ai/nalex22-uv-j02/multispec-leaf-disease-sweeps/sweeps/kz96xpi3' target=\"_blank\">https://wandb.ai/nalex22-uv-j02/multispec-leaf-disease-sweeps/sweeps/kz96xpi3</a>"
            ],
            "text/plain": [
              "<IPython.core.display.HTML object>"
            ]
          },
          "metadata": {},
          "output_type": "display_data"
        },
        {
          "data": {
            "text/html": [
              " View run at <a href='https://wandb.ai/nalex22-uv-j02/multispec-leaf-disease-sweeps/runs/1rgbiky1' target=\"_blank\">https://wandb.ai/nalex22-uv-j02/multispec-leaf-disease-sweeps/runs/1rgbiky1</a>"
            ],
            "text/plain": [
              "<IPython.core.display.HTML object>"
            ]
          },
          "metadata": {},
          "output_type": "display_data"
        },
        {
          "metadata": {
            "tags": null
          },
          "name": "stderr",
          "output_type": "stream",
          "text": [
            "/usr/local/lib/python3.10/dist-packages/huggingface_hub/file_download.py:1132: FutureWarning: `resume_download` is deprecated and will be removed in version 1.0.0. Downloads always resume when possible. If you want to force a new download, use `force_download=True`.\n",
            "  warnings.warn(\n",
            "Some weights of SegformerForSemanticSegmentation were not initialized from the model checkpoint at nvidia/mit-b2 and are newly initialized: ['decode_head.batch_norm.bias', 'decode_head.batch_norm.num_batches_tracked', 'decode_head.batch_norm.running_mean', 'decode_head.batch_norm.running_var', 'decode_head.batch_norm.weight', 'decode_head.classifier.bias', 'decode_head.classifier.weight', 'decode_head.linear_c.0.proj.bias', 'decode_head.linear_c.0.proj.weight', 'decode_head.linear_c.1.proj.bias', 'decode_head.linear_c.1.proj.weight', 'decode_head.linear_c.2.proj.bias', 'decode_head.linear_c.2.proj.weight', 'decode_head.linear_c.3.proj.bias', 'decode_head.linear_c.3.proj.weight', 'decode_head.linear_fuse.weight']\n",
            "You should probably TRAIN this model on a down-stream task to be able to use it for predictions and inference.\n",
            "\u001b[34m\u001b[1mwandb\u001b[0m: \u001b[33mWARNING\u001b[0m Config item 'learning_rate' was locked by 'sweep' (ignored update).\n",
            "\u001b[34m\u001b[1mwandb\u001b[0m: \u001b[33mWARNING\u001b[0m Config item 'weight_decay' was locked by 'sweep' (ignored update).\n"
          ]
        },
        {
          "data": {
            "text/html": [
              "\n",
              "    <div>\n",
              "      \n",
              "      <progress value='595' max='595' style='width:300px; height:20px; vertical-align: middle;'></progress>\n",
              "      [595/595 06:04, Epoch 5/5]\n",
              "    </div>\n",
              "    <table border=\"1\" class=\"dataframe\">\n",
              "  <thead>\n",
              " <tr style=\"text-align: left;\">\n",
              "      <th>Epoch</th>\n",
              "      <th>Training Loss</th>\n",
              "      <th>Validation Loss</th>\n",
              "      <th>Iou</th>\n",
              "      <th>Dice</th>\n",
              "      <th>Kappa Score</th>\n",
              "      <th>Mean</th>\n",
              "    </tr>\n",
              "  </thead>\n",
              "  <tbody>\n",
              "    <tr>\n",
              "      <td>1</td>\n",
              "      <td>1.492800</td>\n",
              "      <td>1.206339</td>\n",
              "      <td>0.006960</td>\n",
              "      <td>0.013824</td>\n",
              "      <td>0.001142</td>\n",
              "      <td>0.004051</td>\n",
              "    </tr>\n",
              "    <tr>\n",
              "      <td>2</td>\n",
              "      <td>1.095300</td>\n",
              "      <td>1.121559</td>\n",
              "      <td>0.008805</td>\n",
              "      <td>0.017456</td>\n",
              "      <td>0.004872</td>\n",
              "      <td>0.006838</td>\n",
              "    </tr>\n",
              "    <tr>\n",
              "      <td>3</td>\n",
              "      <td>1.047100</td>\n",
              "      <td>1.096797</td>\n",
              "      <td>0.027472</td>\n",
              "      <td>0.053474</td>\n",
              "      <td>0.041828</td>\n",
              "      <td>0.034650</td>\n",
              "    </tr>\n",
              "    <tr>\n",
              "      <td>4</td>\n",
              "      <td>1.024800</td>\n",
              "      <td>1.025383</td>\n",
              "      <td>0.027472</td>\n",
              "      <td>0.053474</td>\n",
              "      <td>0.041828</td>\n",
              "      <td>0.034650</td>\n",
              "    </tr>\n",
              "    <tr>\n",
              "      <td>5</td>\n",
              "      <td>1.013600</td>\n",
              "      <td>1.012977</td>\n",
              "      <td>0.027472</td>\n",
              "      <td>0.053474</td>\n",
              "      <td>0.041828</td>\n",
              "      <td>0.034650</td>\n",
              "    </tr>\n",
              "  </tbody>\n",
              "</table><p>"
            ],
            "text/plain": [
              "<IPython.core.display.HTML object>"
            ]
          },
          "metadata": {},
          "output_type": "display_data"
        },
        {
          "metadata": {
            "tags": null
          },
          "name": "stdout",
          "output_type": "stream",
          "text": [
            "Mean: 0.004051315356571621\n",
            "IoU: 0.00696018253863354\n",
            "Dice: 0.013824146494226452\n",
            "kappa: 0.0011424481745097026\n",
            "Mean: 0.006838364728951326\n",
            "IoU: 0.008804747425933727\n",
            "Dice: 0.017455800933530344\n",
            "kappa: 0.004871982031968924\n",
            "Mean: 0.0346497145091163\n",
            "IoU: 0.027471705015212452\n",
            "Dice: 0.05347437770036833\n",
            "kappa: 0.04182772400302015\n",
            "Mean: 0.01622922961579272\n",
            "IoU: 0.014809813199832905\n",
            "Dice: 0.029187366947380135\n",
            "kappa: 0.017648646031752535\n",
            "Mean: -0.004860619374909323\n",
            "IoU: 0.0010096754994000357\n",
            "Dice: 0.0020173141661119554\n",
            "kappa: -0.010730914249218682\n"
          ]
        },
        {
          "data": {
            "application/vnd.jupyter.widget-view+json": {
              "model_id": "af76e868e89e49e3904e7ab3af04e011",
              "version_major": 2,
              "version_minor": 0
            },
            "text/plain": [
              "VBox(children=(Label(value='0.002 MB of 0.002 MB uploaded\\r'), FloatProgress(value=1.0, max=1.0)))"
            ]
          },
          "metadata": {},
          "output_type": "display_data"
        },
        {
          "data": {
            "text/html": [
              "<style>\n",
              "    table.wandb td:nth-child(1) { padding: 0 10px; text-align: left ; width: auto;} td:nth-child(2) {text-align: left ; width: 100%}\n",
              "    .wandb-row { display: flex; flex-direction: row; flex-wrap: wrap; justify-content: flex-start; width: 100% }\n",
              "    .wandb-col { display: flex; flex-direction: column; flex-basis: 100%; flex: 1; padding: 10px; }\n",
              "    </style>\n",
              "<div class=\"wandb-row\"><div class=\"wandb-col\"><h3>Run history:</h3><br/><table class=\"wandb\"><tr><td>eval/Dice</td><td>▁▂███</td></tr><tr><td>eval/IoU</td><td>▁▂███</td></tr><tr><td>eval/kappa_score</td><td>▁▂███</td></tr><tr><td>eval/loss</td><td>█▅▄▁▁</td></tr><tr><td>eval/mean</td><td>▁▂███</td></tr><tr><td>eval/runtime</td><td>█▁▂█▁</td></tr><tr><td>eval/samples_per_second</td><td>▁▇▇▁█</td></tr><tr><td>eval/steps_per_second</td><td>▁▇▇▁█</td></tr><tr><td>train/epoch</td><td>▁▁▃▃▅▅▆▆███</td></tr><tr><td>train/global_step</td><td>▁▁▃▃▅▅▆▆███</td></tr><tr><td>train/grad_norm</td><td>█▇█▂▁</td></tr><tr><td>train/learning_rate</td><td>▆█▆▃▁</td></tr><tr><td>train/loss</td><td>█▂▁▁▁</td></tr></table><br/></div><div class=\"wandb-col\"><h3>Run summary:</h3><br/><table class=\"wandb\"><tr><td>eval/Dice</td><td>0.05347</td></tr><tr><td>eval/IoU</td><td>0.02747</td></tr><tr><td>eval/kappa_score</td><td>0.04183</td></tr><tr><td>eval/loss</td><td>1.01298</td></tr><tr><td>eval/mean</td><td>0.03465</td></tr><tr><td>eval/runtime</td><td>24.1505</td></tr><tr><td>eval/samples_per_second</td><td>8.695</td></tr><tr><td>eval/steps_per_second</td><td>1.118</td></tr><tr><td>total_flos</td><td>1.219893043396608e+18</td></tr><tr><td>train/epoch</td><td>5.0</td></tr><tr><td>train/global_step</td><td>595</td></tr><tr><td>train/grad_norm</td><td>0.24837</td></tr><tr><td>train/learning_rate</td><td>0.0</td></tr><tr><td>train/loss</td><td>1.0136</td></tr><tr><td>train_loss</td><td>1.13472</td></tr><tr><td>train_runtime</td><td>365.6193</td></tr><tr><td>train_samples_per_second</td><td>12.923</td></tr><tr><td>train_steps_per_second</td><td>1.627</td></tr></table><br/></div></div>"
            ],
            "text/plain": [
              "<IPython.core.display.HTML object>"
            ]
          },
          "metadata": {},
          "output_type": "display_data"
        },
        {
          "data": {
            "text/html": [
              " View run <strong style=\"color:#cdcd00\">blooming-sweep-10</strong> at: <a href='https://wandb.ai/nalex22-uv-j02/multispec-leaf-disease-sweeps/runs/1rgbiky1' target=\"_blank\">https://wandb.ai/nalex22-uv-j02/multispec-leaf-disease-sweeps/runs/1rgbiky1</a><br/> View project at: <a href='https://wandb.ai/nalex22-uv-j02/multispec-leaf-disease-sweeps' target=\"_blank\">https://wandb.ai/nalex22-uv-j02/multispec-leaf-disease-sweeps</a><br/>Synced 5 W&B file(s), 0 media file(s), 0 artifact file(s) and 0 other file(s)"
            ],
            "text/plain": [
              "<IPython.core.display.HTML object>"
            ]
          },
          "metadata": {},
          "output_type": "display_data"
        },
        {
          "data": {
            "text/html": [
              "Find logs at: <code>./wandb/run-20240517_143120-1rgbiky1/logs</code>"
            ],
            "text/plain": [
              "<IPython.core.display.HTML object>"
            ]
          },
          "metadata": {},
          "output_type": "display_data"
        },
        {
          "metadata": {
            "tags": null
          },
          "name": "stderr",
          "output_type": "stream",
          "text": [
            "\u001b[34m\u001b[1mwandb\u001b[0m: Agent Starting Run: bajntrme with config:\n",
            "\u001b[34m\u001b[1mwandb\u001b[0m: \tbatch_size: 8\n",
            "\u001b[34m\u001b[1mwandb\u001b[0m: \tbetta_1: 0.6238282672873537\n",
            "\u001b[34m\u001b[1mwandb\u001b[0m: \tbetta_2: 0.5950881359793996\n",
            "\u001b[34m\u001b[1mwandb\u001b[0m: \tclass_weight_0: 2.1847646826994542\n",
            "\u001b[34m\u001b[1mwandb\u001b[0m: \tclass_weight_1: 31.649185671267453\n",
            "\u001b[34m\u001b[1mwandb\u001b[0m: \tepochs: 5\n",
            "\u001b[34m\u001b[1mwandb\u001b[0m: \tfocal_alpha: 0.837322821748901\n",
            "\u001b[34m\u001b[1mwandb\u001b[0m: \tfocal_gamma: 2.0827235506729287\n",
            "\u001b[34m\u001b[1mwandb\u001b[0m: \tlearning_rate: 0.000734071346430252\n",
            "\u001b[34m\u001b[1mwandb\u001b[0m: \tnum_warmup_steps: 180\n",
            "\u001b[34m\u001b[1mwandb\u001b[0m: \tobjective: JaccardLoss\n",
            "\u001b[34m\u001b[1mwandb\u001b[0m: \tsmooth: 0.8521515782576368\n",
            "\u001b[34m\u001b[1mwandb\u001b[0m: \ttversky_alpha: 0.7342423176322761\n",
            "\u001b[34m\u001b[1mwandb\u001b[0m: \ttversky_betta: 0.5982120005143856\n",
            "\u001b[34m\u001b[1mwandb\u001b[0m: \tweight_decay: 1.048422077344724\n"
          ]
        },
        {
          "data": {
            "text/html": [
              "Tracking run with wandb version 0.17.0"
            ],
            "text/plain": [
              "<IPython.core.display.HTML object>"
            ]
          },
          "metadata": {},
          "output_type": "display_data"
        },
        {
          "data": {
            "text/html": [
              "Run data is saved locally in <code>/content/wandb/run-20240517_143749-bajntrme</code>"
            ],
            "text/plain": [
              "<IPython.core.display.HTML object>"
            ]
          },
          "metadata": {},
          "output_type": "display_data"
        },
        {
          "data": {
            "text/html": [
              "Syncing run <strong><a href='https://wandb.ai/nalex22-uv-j02/multispec-leaf-disease-sweeps/runs/bajntrme' target=\"_blank\">snowy-sweep-11</a></strong> to <a href='https://wandb.ai/nalex22-uv-j02/multispec-leaf-disease-sweeps' target=\"_blank\">Weights & Biases</a> (<a href='https://wandb.me/run' target=\"_blank\">docs</a>)<br/>Sweep page: <a href='https://wandb.ai/nalex22-uv-j02/multispec-leaf-disease-sweeps/sweeps/kz96xpi3' target=\"_blank\">https://wandb.ai/nalex22-uv-j02/multispec-leaf-disease-sweeps/sweeps/kz96xpi3</a>"
            ],
            "text/plain": [
              "<IPython.core.display.HTML object>"
            ]
          },
          "metadata": {},
          "output_type": "display_data"
        },
        {
          "data": {
            "text/html": [
              " View project at <a href='https://wandb.ai/nalex22-uv-j02/multispec-leaf-disease-sweeps' target=\"_blank\">https://wandb.ai/nalex22-uv-j02/multispec-leaf-disease-sweeps</a>"
            ],
            "text/plain": [
              "<IPython.core.display.HTML object>"
            ]
          },
          "metadata": {},
          "output_type": "display_data"
        },
        {
          "data": {
            "text/html": [
              " View sweep at <a href='https://wandb.ai/nalex22-uv-j02/multispec-leaf-disease-sweeps/sweeps/kz96xpi3' target=\"_blank\">https://wandb.ai/nalex22-uv-j02/multispec-leaf-disease-sweeps/sweeps/kz96xpi3</a>"
            ],
            "text/plain": [
              "<IPython.core.display.HTML object>"
            ]
          },
          "metadata": {},
          "output_type": "display_data"
        },
        {
          "data": {
            "text/html": [
              " View run at <a href='https://wandb.ai/nalex22-uv-j02/multispec-leaf-disease-sweeps/runs/bajntrme' target=\"_blank\">https://wandb.ai/nalex22-uv-j02/multispec-leaf-disease-sweeps/runs/bajntrme</a>"
            ],
            "text/plain": [
              "<IPython.core.display.HTML object>"
            ]
          },
          "metadata": {},
          "output_type": "display_data"
        },
        {
          "metadata": {
            "tags": null
          },
          "name": "stderr",
          "output_type": "stream",
          "text": [
            "/usr/local/lib/python3.10/dist-packages/huggingface_hub/file_download.py:1132: FutureWarning: `resume_download` is deprecated and will be removed in version 1.0.0. Downloads always resume when possible. If you want to force a new download, use `force_download=True`.\n",
            "  warnings.warn(\n",
            "Some weights of SegformerForSemanticSegmentation were not initialized from the model checkpoint at nvidia/mit-b2 and are newly initialized: ['decode_head.batch_norm.bias', 'decode_head.batch_norm.num_batches_tracked', 'decode_head.batch_norm.running_mean', 'decode_head.batch_norm.running_var', 'decode_head.batch_norm.weight', 'decode_head.classifier.bias', 'decode_head.classifier.weight', 'decode_head.linear_c.0.proj.bias', 'decode_head.linear_c.0.proj.weight', 'decode_head.linear_c.1.proj.bias', 'decode_head.linear_c.1.proj.weight', 'decode_head.linear_c.2.proj.bias', 'decode_head.linear_c.2.proj.weight', 'decode_head.linear_c.3.proj.bias', 'decode_head.linear_c.3.proj.weight', 'decode_head.linear_fuse.weight']\n",
            "You should probably TRAIN this model on a down-stream task to be able to use it for predictions and inference.\n",
            "\u001b[34m\u001b[1mwandb\u001b[0m: \u001b[33mWARNING\u001b[0m Config item 'learning_rate' was locked by 'sweep' (ignored update).\n",
            "\u001b[34m\u001b[1mwandb\u001b[0m: \u001b[33mWARNING\u001b[0m Config item 'weight_decay' was locked by 'sweep' (ignored update).\n"
          ]
        },
        {
          "data": {
            "text/html": [
              "\n",
              "    <div>\n",
              "      \n",
              "      <progress value='595' max='595' style='width:300px; height:20px; vertical-align: middle;'></progress>\n",
              "      [595/595 07:20, Epoch 5/5]\n",
              "    </div>\n",
              "    <table border=\"1\" class=\"dataframe\">\n",
              "  <thead>\n",
              " <tr style=\"text-align: left;\">\n",
              "      <th>Epoch</th>\n",
              "      <th>Training Loss</th>\n",
              "      <th>Validation Loss</th>\n",
              "      <th>Iou</th>\n",
              "      <th>Dice</th>\n",
              "      <th>Kappa Score</th>\n",
              "      <th>Mean</th>\n",
              "    </tr>\n",
              "  </thead>\n",
              "  <tbody>\n",
              "    <tr>\n",
              "      <td>1</td>\n",
              "      <td>0.951700</td>\n",
              "      <td>0.855709</td>\n",
              "      <td>0.191386</td>\n",
              "      <td>0.321282</td>\n",
              "      <td>0.316322</td>\n",
              "      <td>0.253854</td>\n",
              "    </tr>\n",
              "    <tr>\n",
              "      <td>2</td>\n",
              "      <td>0.706000</td>\n",
              "      <td>0.713307</td>\n",
              "      <td>0.309992</td>\n",
              "      <td>0.473273</td>\n",
              "      <td>0.470152</td>\n",
              "      <td>0.390072</td>\n",
              "    </tr>\n",
              "    <tr>\n",
              "      <td>3</td>\n",
              "      <td>0.618100</td>\n",
              "      <td>0.672727</td>\n",
              "      <td>0.353535</td>\n",
              "      <td>0.522387</td>\n",
              "      <td>0.519298</td>\n",
              "      <td>0.436416</td>\n",
              "    </tr>\n",
              "    <tr>\n",
              "      <td>4</td>\n",
              "      <td>0.584500</td>\n",
              "      <td>0.656528</td>\n",
              "      <td>0.369890</td>\n",
              "      <td>0.540029</td>\n",
              "      <td>0.537224</td>\n",
              "      <td>0.453557</td>\n",
              "    </tr>\n",
              "    <tr>\n",
              "      <td>5</td>\n",
              "      <td>0.555800</td>\n",
              "      <td>0.652407</td>\n",
              "      <td>0.375297</td>\n",
              "      <td>0.545769</td>\n",
              "      <td>0.543013</td>\n",
              "      <td>0.459155</td>\n",
              "    </tr>\n",
              "  </tbody>\n",
              "</table><p>"
            ],
            "text/plain": [
              "<IPython.core.display.HTML object>"
            ]
          },
          "metadata": {},
          "output_type": "display_data"
        },
        {
          "metadata": {
            "tags": null
          },
          "name": "stdout",
          "output_type": "stream",
          "text": [
            "Mean: 0.25385373483396884\n",
            "IoU: 0.1913855912101814\n",
            "Dice: 0.3212823667202092\n",
            "kappa: 0.3163218784577563\n",
            "Mean: 0.390072335801796\n",
            "IoU: 0.30999219062111666\n",
            "Dice: 0.4732733413840241\n",
            "kappa: 0.4701524809824753\n",
            "Mean: 0.436416383812491\n",
            "IoU: 0.3535345612598618\n",
            "Dice: 0.5223871947987704\n",
            "kappa: 0.5192982063651201\n",
            "Mean: 0.4535574080613851\n",
            "IoU: 0.3698903596326894\n",
            "Dice: 0.5400291447147181\n",
            "kappa: 0.5372244564900808\n",
            "Mean: 0.4591549526464832\n",
            "IoU: 0.3752972749793559\n",
            "Dice: 0.5457689501856816\n",
            "kappa: 0.5430126303136105\n"
          ]
        },
        {
          "data": {
            "application/vnd.jupyter.widget-view+json": {
              "model_id": "7dfb4c4d4652413f87bf6a151a883634",
              "version_major": 2,
              "version_minor": 0
            },
            "text/plain": [
              "VBox(children=(Label(value='0.002 MB of 0.002 MB uploaded\\r'), FloatProgress(value=1.0, max=1.0)))"
            ]
          },
          "metadata": {},
          "output_type": "display_data"
        },
        {
          "data": {
            "text/html": [
              "<style>\n",
              "    table.wandb td:nth-child(1) { padding: 0 10px; text-align: left ; width: auto;} td:nth-child(2) {text-align: left ; width: 100%}\n",
              "    .wandb-row { display: flex; flex-direction: row; flex-wrap: wrap; justify-content: flex-start; width: 100% }\n",
              "    .wandb-col { display: flex; flex-direction: column; flex-basis: 100%; flex: 1; padding: 10px; }\n",
              "    </style>\n",
              "<div class=\"wandb-row\"><div class=\"wandb-col\"><h3>Run history:</h3><br/><table class=\"wandb\"><tr><td>eval/Dice</td><td>▁▆▇██</td></tr><tr><td>eval/IoU</td><td>▁▆▇██</td></tr><tr><td>eval/kappa_score</td><td>▁▆▇██</td></tr><tr><td>eval/loss</td><td>█▃▂▁▁</td></tr><tr><td>eval/mean</td><td>▁▆▇██</td></tr><tr><td>eval/runtime</td><td>█▅▅▅▁</td></tr><tr><td>eval/samples_per_second</td><td>▁▄▄▄█</td></tr><tr><td>eval/steps_per_second</td><td>▁▄▄▄█</td></tr><tr><td>train/epoch</td><td>▁▁▃▃▅▅▆▆███</td></tr><tr><td>train/global_step</td><td>▁▁▃▃▅▅▆▆███</td></tr><tr><td>train/grad_norm</td><td>▂▇██▁</td></tr><tr><td>train/learning_rate</td><td>▆█▆▃▁</td></tr><tr><td>train/loss</td><td>█▄▂▂▁</td></tr></table><br/></div><div class=\"wandb-col\"><h3>Run summary:</h3><br/><table class=\"wandb\"><tr><td>eval/Dice</td><td>0.54577</td></tr><tr><td>eval/IoU</td><td>0.3753</td></tr><tr><td>eval/kappa_score</td><td>0.54301</td></tr><tr><td>eval/loss</td><td>0.65241</td></tr><tr><td>eval/mean</td><td>0.45915</td></tr><tr><td>eval/runtime</td><td>43.0117</td></tr><tr><td>eval/samples_per_second</td><td>4.882</td></tr><tr><td>eval/steps_per_second</td><td>0.628</td></tr><tr><td>total_flos</td><td>1.219893043396608e+18</td></tr><tr><td>train/epoch</td><td>5.0</td></tr><tr><td>train/global_step</td><td>595</td></tr><tr><td>train/grad_norm</td><td>0.89819</td></tr><tr><td>train/learning_rate</td><td>0.0</td></tr><tr><td>train/loss</td><td>0.5558</td></tr><tr><td>train_loss</td><td>0.68324</td></tr><tr><td>train_runtime</td><td>441.1854</td></tr><tr><td>train_samples_per_second</td><td>10.71</td></tr><tr><td>train_steps_per_second</td><td>1.349</td></tr></table><br/></div></div>"
            ],
            "text/plain": [
              "<IPython.core.display.HTML object>"
            ]
          },
          "metadata": {},
          "output_type": "display_data"
        },
        {
          "data": {
            "text/html": [
              " View run <strong style=\"color:#cdcd00\">snowy-sweep-11</strong> at: <a href='https://wandb.ai/nalex22-uv-j02/multispec-leaf-disease-sweeps/runs/bajntrme' target=\"_blank\">https://wandb.ai/nalex22-uv-j02/multispec-leaf-disease-sweeps/runs/bajntrme</a><br/> View project at: <a href='https://wandb.ai/nalex22-uv-j02/multispec-leaf-disease-sweeps' target=\"_blank\">https://wandb.ai/nalex22-uv-j02/multispec-leaf-disease-sweeps</a><br/>Synced 5 W&B file(s), 0 media file(s), 0 artifact file(s) and 0 other file(s)"
            ],
            "text/plain": [
              "<IPython.core.display.HTML object>"
            ]
          },
          "metadata": {},
          "output_type": "display_data"
        },
        {
          "data": {
            "text/html": [
              "Find logs at: <code>./wandb/run-20240517_143749-bajntrme/logs</code>"
            ],
            "text/plain": [
              "<IPython.core.display.HTML object>"
            ]
          },
          "metadata": {},
          "output_type": "display_data"
        },
        {
          "metadata": {
            "tags": null
          },
          "name": "stderr",
          "output_type": "stream",
          "text": [
            "\u001b[34m\u001b[1mwandb\u001b[0m: Agent Starting Run: tew917wj with config:\n",
            "\u001b[34m\u001b[1mwandb\u001b[0m: \tbatch_size: 8\n",
            "\u001b[34m\u001b[1mwandb\u001b[0m: \tbetta_1: 0.7882032358226143\n",
            "\u001b[34m\u001b[1mwandb\u001b[0m: \tbetta_2: 0.528208729315524\n",
            "\u001b[34m\u001b[1mwandb\u001b[0m: \tclass_weight_0: 1.2677743108060675\n",
            "\u001b[34m\u001b[1mwandb\u001b[0m: \tclass_weight_1: 13.337209054519496\n",
            "\u001b[34m\u001b[1mwandb\u001b[0m: \tepochs: 5\n",
            "\u001b[34m\u001b[1mwandb\u001b[0m: \tfocal_alpha: 0.42639214487814014\n",
            "\u001b[34m\u001b[1mwandb\u001b[0m: \tfocal_gamma: 1.5177015350712786\n",
            "\u001b[34m\u001b[1mwandb\u001b[0m: \tlearning_rate: 0.0007977387998406228\n",
            "\u001b[34m\u001b[1mwandb\u001b[0m: \tnum_warmup_steps: 198\n",
            "\u001b[34m\u001b[1mwandb\u001b[0m: \tobjective: JaccardLoss\n",
            "\u001b[34m\u001b[1mwandb\u001b[0m: \tsmooth: 0.5250137553355211\n",
            "\u001b[34m\u001b[1mwandb\u001b[0m: \ttversky_alpha: 0.7458511325881648\n",
            "\u001b[34m\u001b[1mwandb\u001b[0m: \ttversky_betta: 0.732013168103462\n",
            "\u001b[34m\u001b[1mwandb\u001b[0m: \tweight_decay: 0.4878578795787975\n"
          ]
        },
        {
          "data": {
            "text/html": [
              "Tracking run with wandb version 0.17.0"
            ],
            "text/plain": [
              "<IPython.core.display.HTML object>"
            ]
          },
          "metadata": {},
          "output_type": "display_data"
        },
        {
          "data": {
            "text/html": [
              "Run data is saved locally in <code>/content/wandb/run-20240517_144536-tew917wj</code>"
            ],
            "text/plain": [
              "<IPython.core.display.HTML object>"
            ]
          },
          "metadata": {},
          "output_type": "display_data"
        },
        {
          "data": {
            "text/html": [
              "Syncing run <strong><a href='https://wandb.ai/nalex22-uv-j02/multispec-leaf-disease-sweeps/runs/tew917wj' target=\"_blank\">floral-sweep-12</a></strong> to <a href='https://wandb.ai/nalex22-uv-j02/multispec-leaf-disease-sweeps' target=\"_blank\">Weights & Biases</a> (<a href='https://wandb.me/run' target=\"_blank\">docs</a>)<br/>Sweep page: <a href='https://wandb.ai/nalex22-uv-j02/multispec-leaf-disease-sweeps/sweeps/kz96xpi3' target=\"_blank\">https://wandb.ai/nalex22-uv-j02/multispec-leaf-disease-sweeps/sweeps/kz96xpi3</a>"
            ],
            "text/plain": [
              "<IPython.core.display.HTML object>"
            ]
          },
          "metadata": {},
          "output_type": "display_data"
        },
        {
          "data": {
            "text/html": [
              " View project at <a href='https://wandb.ai/nalex22-uv-j02/multispec-leaf-disease-sweeps' target=\"_blank\">https://wandb.ai/nalex22-uv-j02/multispec-leaf-disease-sweeps</a>"
            ],
            "text/plain": [
              "<IPython.core.display.HTML object>"
            ]
          },
          "metadata": {},
          "output_type": "display_data"
        },
        {
          "data": {
            "text/html": [
              " View sweep at <a href='https://wandb.ai/nalex22-uv-j02/multispec-leaf-disease-sweeps/sweeps/kz96xpi3' target=\"_blank\">https://wandb.ai/nalex22-uv-j02/multispec-leaf-disease-sweeps/sweeps/kz96xpi3</a>"
            ],
            "text/plain": [
              "<IPython.core.display.HTML object>"
            ]
          },
          "metadata": {},
          "output_type": "display_data"
        },
        {
          "data": {
            "text/html": [
              " View run at <a href='https://wandb.ai/nalex22-uv-j02/multispec-leaf-disease-sweeps/runs/tew917wj' target=\"_blank\">https://wandb.ai/nalex22-uv-j02/multispec-leaf-disease-sweeps/runs/tew917wj</a>"
            ],
            "text/plain": [
              "<IPython.core.display.HTML object>"
            ]
          },
          "metadata": {},
          "output_type": "display_data"
        },
        {
          "metadata": {
            "tags": null
          },
          "name": "stderr",
          "output_type": "stream",
          "text": [
            "/usr/local/lib/python3.10/dist-packages/huggingface_hub/file_download.py:1132: FutureWarning: `resume_download` is deprecated and will be removed in version 1.0.0. Downloads always resume when possible. If you want to force a new download, use `force_download=True`.\n",
            "  warnings.warn(\n",
            "Some weights of SegformerForSemanticSegmentation were not initialized from the model checkpoint at nvidia/mit-b2 and are newly initialized: ['decode_head.batch_norm.bias', 'decode_head.batch_norm.num_batches_tracked', 'decode_head.batch_norm.running_mean', 'decode_head.batch_norm.running_var', 'decode_head.batch_norm.weight', 'decode_head.classifier.bias', 'decode_head.classifier.weight', 'decode_head.linear_c.0.proj.bias', 'decode_head.linear_c.0.proj.weight', 'decode_head.linear_c.1.proj.bias', 'decode_head.linear_c.1.proj.weight', 'decode_head.linear_c.2.proj.bias', 'decode_head.linear_c.2.proj.weight', 'decode_head.linear_c.3.proj.bias', 'decode_head.linear_c.3.proj.weight', 'decode_head.linear_fuse.weight']\n",
            "You should probably TRAIN this model on a down-stream task to be able to use it for predictions and inference.\n",
            "\u001b[34m\u001b[1mwandb\u001b[0m: \u001b[33mWARNING\u001b[0m Config item 'learning_rate' was locked by 'sweep' (ignored update).\n",
            "\u001b[34m\u001b[1mwandb\u001b[0m: \u001b[33mWARNING\u001b[0m Config item 'weight_decay' was locked by 'sweep' (ignored update).\n"
          ]
        },
        {
          "data": {
            "text/html": [
              "\n",
              "    <div>\n",
              "      \n",
              "      <progress value='595' max='595' style='width:300px; height:20px; vertical-align: middle;'></progress>\n",
              "      [595/595 07:19, Epoch 5/5]\n",
              "    </div>\n",
              "    <table border=\"1\" class=\"dataframe\">\n",
              "  <thead>\n",
              " <tr style=\"text-align: left;\">\n",
              "      <th>Epoch</th>\n",
              "      <th>Training Loss</th>\n",
              "      <th>Validation Loss</th>\n",
              "      <th>Iou</th>\n",
              "      <th>Dice</th>\n",
              "      <th>Kappa Score</th>\n",
              "      <th>Mean</th>\n",
              "    </tr>\n",
              "  </thead>\n",
              "  <tbody>\n",
              "    <tr>\n",
              "      <td>1</td>\n",
              "      <td>0.964900</td>\n",
              "      <td>0.908734</td>\n",
              "      <td>0.146514</td>\n",
              "      <td>0.255582</td>\n",
              "      <td>0.248463</td>\n",
              "      <td>0.197489</td>\n",
              "    </tr>\n",
              "    <tr>\n",
              "      <td>2</td>\n",
              "      <td>0.694100</td>\n",
              "      <td>0.732184</td>\n",
              "      <td>0.288853</td>\n",
              "      <td>0.448233</td>\n",
              "      <td>0.444399</td>\n",
              "      <td>0.366626</td>\n",
              "    </tr>\n",
              "    <tr>\n",
              "      <td>3</td>\n",
              "      <td>0.607200</td>\n",
              "      <td>0.681078</td>\n",
              "      <td>0.344254</td>\n",
              "      <td>0.512185</td>\n",
              "      <td>0.508609</td>\n",
              "      <td>0.426431</td>\n",
              "    </tr>\n",
              "    <tr>\n",
              "      <td>4</td>\n",
              "      <td>0.570600</td>\n",
              "      <td>0.654597</td>\n",
              "      <td>0.366914</td>\n",
              "      <td>0.536850</td>\n",
              "      <td>0.534250</td>\n",
              "      <td>0.450582</td>\n",
              "    </tr>\n",
              "    <tr>\n",
              "      <td>5</td>\n",
              "      <td>0.540200</td>\n",
              "      <td>0.641308</td>\n",
              "      <td>0.384074</td>\n",
              "      <td>0.554991</td>\n",
              "      <td>0.552342</td>\n",
              "      <td>0.468208</td>\n",
              "    </tr>\n",
              "  </tbody>\n",
              "</table><p>"
            ],
            "text/plain": [
              "<IPython.core.display.HTML object>"
            ]
          },
          "metadata": {},
          "output_type": "display_data"
        },
        {
          "metadata": {
            "tags": null
          },
          "name": "stdout",
          "output_type": "stream",
          "text": [
            "Mean: 0.19748858700496746\n",
            "IoU: 0.14651444985249742\n",
            "Dice: 0.2555823868968192\n",
            "kappa: 0.24846272415743753\n",
            "Mean: 0.3666262613273904\n",
            "IoU: 0.28885310853530033\n",
            "Dice: 0.4482327840502531\n",
            "kappa: 0.4443994141194805\n",
            "Mean: 0.4264310835467911\n",
            "IoU: 0.34425358451830257\n",
            "Dice: 0.5121854811964839\n",
            "kappa: 0.5086085825752796\n",
            "Mean: 0.45058210153329603\n",
            "IoU: 0.3669140157425177\n",
            "Dice: 0.5368501771389144\n",
            "kappa: 0.5342501873240744\n",
            "Mean: 0.4682080040604297\n",
            "IoU: 0.3840742141367705\n",
            "Dice: 0.5549907804276416\n",
            "kappa: 0.552341793984089\n"
          ]
        },
        {
          "data": {
            "application/vnd.jupyter.widget-view+json": {
              "model_id": "c2d1dff4366d41b683140f5decb50a68",
              "version_major": 2,
              "version_minor": 0
            },
            "text/plain": [
              "VBox(children=(Label(value='0.002 MB of 0.002 MB uploaded\\r'), FloatProgress(value=1.0, max=1.0)))"
            ]
          },
          "metadata": {},
          "output_type": "display_data"
        },
        {
          "data": {
            "text/html": [
              "<style>\n",
              "    table.wandb td:nth-child(1) { padding: 0 10px; text-align: left ; width: auto;} td:nth-child(2) {text-align: left ; width: 100%}\n",
              "    .wandb-row { display: flex; flex-direction: row; flex-wrap: wrap; justify-content: flex-start; width: 100% }\n",
              "    .wandb-col { display: flex; flex-direction: column; flex-basis: 100%; flex: 1; padding: 10px; }\n",
              "    </style>\n",
              "<div class=\"wandb-row\"><div class=\"wandb-col\"><h3>Run history:</h3><br/><table class=\"wandb\"><tr><td>eval/Dice</td><td>▁▆▇██</td></tr><tr><td>eval/IoU</td><td>▁▅▇▇█</td></tr><tr><td>eval/kappa_score</td><td>▁▆▇██</td></tr><tr><td>eval/loss</td><td>█▃▂▁▁</td></tr><tr><td>eval/mean</td><td>▁▅▇██</td></tr><tr><td>eval/runtime</td><td>▁▅█▃▆</td></tr><tr><td>eval/samples_per_second</td><td>█▄▁▅▃</td></tr><tr><td>eval/steps_per_second</td><td>█▅▁▆▃</td></tr><tr><td>train/epoch</td><td>▁▁▃▃▅▅▆▆███</td></tr><tr><td>train/global_step</td><td>▁▁▃▃▅▅▆▆███</td></tr><tr><td>train/grad_norm</td><td>▅█▁▄▁</td></tr><tr><td>train/learning_rate</td><td>▆█▆▃▁</td></tr><tr><td>train/loss</td><td>█▄▂▂▁</td></tr></table><br/></div><div class=\"wandb-col\"><h3>Run summary:</h3><br/><table class=\"wandb\"><tr><td>eval/Dice</td><td>0.55499</td></tr><tr><td>eval/IoU</td><td>0.38407</td></tr><tr><td>eval/kappa_score</td><td>0.55234</td></tr><tr><td>eval/loss</td><td>0.64131</td></tr><tr><td>eval/mean</td><td>0.46821</td></tr><tr><td>eval/runtime</td><td>43.3712</td></tr><tr><td>eval/samples_per_second</td><td>4.842</td></tr><tr><td>eval/steps_per_second</td><td>0.623</td></tr><tr><td>total_flos</td><td>1.219893043396608e+18</td></tr><tr><td>train/epoch</td><td>5.0</td></tr><tr><td>train/global_step</td><td>595</td></tr><tr><td>train/grad_norm</td><td>1.06341</td></tr><tr><td>train/learning_rate</td><td>0.0</td></tr><tr><td>train/loss</td><td>0.5402</td></tr><tr><td>train_loss</td><td>0.6754</td></tr><tr><td>train_runtime</td><td>439.756</td></tr><tr><td>train_samples_per_second</td><td>10.745</td></tr><tr><td>train_steps_per_second</td><td>1.353</td></tr></table><br/></div></div>"
            ],
            "text/plain": [
              "<IPython.core.display.HTML object>"
            ]
          },
          "metadata": {},
          "output_type": "display_data"
        },
        {
          "data": {
            "text/html": [
              " View run <strong style=\"color:#cdcd00\">floral-sweep-12</strong> at: <a href='https://wandb.ai/nalex22-uv-j02/multispec-leaf-disease-sweeps/runs/tew917wj' target=\"_blank\">https://wandb.ai/nalex22-uv-j02/multispec-leaf-disease-sweeps/runs/tew917wj</a><br/> View project at: <a href='https://wandb.ai/nalex22-uv-j02/multispec-leaf-disease-sweeps' target=\"_blank\">https://wandb.ai/nalex22-uv-j02/multispec-leaf-disease-sweeps</a><br/>Synced 5 W&B file(s), 0 media file(s), 0 artifact file(s) and 0 other file(s)"
            ],
            "text/plain": [
              "<IPython.core.display.HTML object>"
            ]
          },
          "metadata": {},
          "output_type": "display_data"
        },
        {
          "data": {
            "text/html": [
              "Find logs at: <code>./wandb/run-20240517_144536-tew917wj/logs</code>"
            ],
            "text/plain": [
              "<IPython.core.display.HTML object>"
            ]
          },
          "metadata": {},
          "output_type": "display_data"
        },
        {
          "metadata": {
            "tags": null
          },
          "name": "stderr",
          "output_type": "stream",
          "text": [
            "\u001b[34m\u001b[1mwandb\u001b[0m: Sweep Agent: Waiting for job.\n",
            "\u001b[34m\u001b[1mwandb\u001b[0m: Job received.\n",
            "\u001b[34m\u001b[1mwandb\u001b[0m: Agent Starting Run: a61ulibx with config:\n",
            "\u001b[34m\u001b[1mwandb\u001b[0m: \tbatch_size: 8\n",
            "\u001b[34m\u001b[1mwandb\u001b[0m: \tbetta_1: 0.7446595624335451\n",
            "\u001b[34m\u001b[1mwandb\u001b[0m: \tbetta_2: 0.5882003386891477\n",
            "\u001b[34m\u001b[1mwandb\u001b[0m: \tclass_weight_0: 1.1242642572482813\n",
            "\u001b[34m\u001b[1mwandb\u001b[0m: \tclass_weight_1: 32.21135371669034\n",
            "\u001b[34m\u001b[1mwandb\u001b[0m: \tepochs: 5\n",
            "\u001b[34m\u001b[1mwandb\u001b[0m: \tfocal_alpha: 0.38958422682149496\n",
            "\u001b[34m\u001b[1mwandb\u001b[0m: \tfocal_gamma: 1.1348395604742612\n",
            "\u001b[34m\u001b[1mwandb\u001b[0m: \tlearning_rate: 0.000878176310399197\n",
            "\u001b[34m\u001b[1mwandb\u001b[0m: \tnum_warmup_steps: 130\n",
            "\u001b[34m\u001b[1mwandb\u001b[0m: \tobjective: TverskyLoss\n",
            "\u001b[34m\u001b[1mwandb\u001b[0m: \tsmooth: 0.414143355871453\n",
            "\u001b[34m\u001b[1mwandb\u001b[0m: \ttversky_alpha: 0.9139801486725204\n",
            "\u001b[34m\u001b[1mwandb\u001b[0m: \ttversky_betta: 0.64724625027283\n",
            "\u001b[34m\u001b[1mwandb\u001b[0m: \tweight_decay: 1.090952899137828\n"
          ]
        },
        {
          "data": {
            "text/html": [
              "Tracking run with wandb version 0.17.0"
            ],
            "text/plain": [
              "<IPython.core.display.HTML object>"
            ]
          },
          "metadata": {},
          "output_type": "display_data"
        },
        {
          "data": {
            "text/html": [
              "Run data is saved locally in <code>/content/wandb/run-20240517_145328-a61ulibx</code>"
            ],
            "text/plain": [
              "<IPython.core.display.HTML object>"
            ]
          },
          "metadata": {},
          "output_type": "display_data"
        },
        {
          "data": {
            "text/html": [
              "Syncing run <strong><a href='https://wandb.ai/nalex22-uv-j02/multispec-leaf-disease-sweeps/runs/a61ulibx' target=\"_blank\">resilient-sweep-13</a></strong> to <a href='https://wandb.ai/nalex22-uv-j02/multispec-leaf-disease-sweeps' target=\"_blank\">Weights & Biases</a> (<a href='https://wandb.me/run' target=\"_blank\">docs</a>)<br/>Sweep page: <a href='https://wandb.ai/nalex22-uv-j02/multispec-leaf-disease-sweeps/sweeps/kz96xpi3' target=\"_blank\">https://wandb.ai/nalex22-uv-j02/multispec-leaf-disease-sweeps/sweeps/kz96xpi3</a>"
            ],
            "text/plain": [
              "<IPython.core.display.HTML object>"
            ]
          },
          "metadata": {},
          "output_type": "display_data"
        },
        {
          "data": {
            "text/html": [
              " View project at <a href='https://wandb.ai/nalex22-uv-j02/multispec-leaf-disease-sweeps' target=\"_blank\">https://wandb.ai/nalex22-uv-j02/multispec-leaf-disease-sweeps</a>"
            ],
            "text/plain": [
              "<IPython.core.display.HTML object>"
            ]
          },
          "metadata": {},
          "output_type": "display_data"
        },
        {
          "data": {
            "text/html": [
              " View sweep at <a href='https://wandb.ai/nalex22-uv-j02/multispec-leaf-disease-sweeps/sweeps/kz96xpi3' target=\"_blank\">https://wandb.ai/nalex22-uv-j02/multispec-leaf-disease-sweeps/sweeps/kz96xpi3</a>"
            ],
            "text/plain": [
              "<IPython.core.display.HTML object>"
            ]
          },
          "metadata": {},
          "output_type": "display_data"
        },
        {
          "data": {
            "text/html": [
              " View run at <a href='https://wandb.ai/nalex22-uv-j02/multispec-leaf-disease-sweeps/runs/a61ulibx' target=\"_blank\">https://wandb.ai/nalex22-uv-j02/multispec-leaf-disease-sweeps/runs/a61ulibx</a>"
            ],
            "text/plain": [
              "<IPython.core.display.HTML object>"
            ]
          },
          "metadata": {},
          "output_type": "display_data"
        },
        {
          "metadata": {
            "tags": null
          },
          "name": "stderr",
          "output_type": "stream",
          "text": [
            "/usr/local/lib/python3.10/dist-packages/huggingface_hub/file_download.py:1132: FutureWarning: `resume_download` is deprecated and will be removed in version 1.0.0. Downloads always resume when possible. If you want to force a new download, use `force_download=True`.\n",
            "  warnings.warn(\n",
            "Some weights of SegformerForSemanticSegmentation were not initialized from the model checkpoint at nvidia/mit-b2 and are newly initialized: ['decode_head.batch_norm.bias', 'decode_head.batch_norm.num_batches_tracked', 'decode_head.batch_norm.running_mean', 'decode_head.batch_norm.running_var', 'decode_head.batch_norm.weight', 'decode_head.classifier.bias', 'decode_head.classifier.weight', 'decode_head.linear_c.0.proj.bias', 'decode_head.linear_c.0.proj.weight', 'decode_head.linear_c.1.proj.bias', 'decode_head.linear_c.1.proj.weight', 'decode_head.linear_c.2.proj.bias', 'decode_head.linear_c.2.proj.weight', 'decode_head.linear_c.3.proj.bias', 'decode_head.linear_c.3.proj.weight', 'decode_head.linear_fuse.weight']\n",
            "You should probably TRAIN this model on a down-stream task to be able to use it for predictions and inference.\n",
            "\u001b[34m\u001b[1mwandb\u001b[0m: \u001b[33mWARNING\u001b[0m Config item 'learning_rate' was locked by 'sweep' (ignored update).\n",
            "\u001b[34m\u001b[1mwandb\u001b[0m: \u001b[33mWARNING\u001b[0m Config item 'weight_decay' was locked by 'sweep' (ignored update).\n"
          ]
        },
        {
          "data": {
            "text/html": [
              "\n",
              "    <div>\n",
              "      \n",
              "      <progress value='595' max='595' style='width:300px; height:20px; vertical-align: middle;'></progress>\n",
              "      [595/595 07:20, Epoch 5/5]\n",
              "    </div>\n",
              "    <table border=\"1\" class=\"dataframe\">\n",
              "  <thead>\n",
              " <tr style=\"text-align: left;\">\n",
              "      <th>Epoch</th>\n",
              "      <th>Training Loss</th>\n",
              "      <th>Validation Loss</th>\n",
              "      <th>Iou</th>\n",
              "      <th>Dice</th>\n",
              "      <th>Kappa Score</th>\n",
              "      <th>Mean</th>\n",
              "    </tr>\n",
              "  </thead>\n",
              "  <tbody>\n",
              "    <tr>\n",
              "      <td>1</td>\n",
              "      <td>0.926700</td>\n",
              "      <td>0.755635</td>\n",
              "      <td>0.207238</td>\n",
              "      <td>0.343325</td>\n",
              "      <td>0.340171</td>\n",
              "      <td>0.273704</td>\n",
              "    </tr>\n",
              "    <tr>\n",
              "      <td>2</td>\n",
              "      <td>0.637500</td>\n",
              "      <td>0.675594</td>\n",
              "      <td>0.280068</td>\n",
              "      <td>0.437583</td>\n",
              "      <td>0.434988</td>\n",
              "      <td>0.357528</td>\n",
              "    </tr>\n",
              "    <tr>\n",
              "      <td>3</td>\n",
              "      <td>0.560900</td>\n",
              "      <td>0.633660</td>\n",
              "      <td>0.321834</td>\n",
              "      <td>0.486951</td>\n",
              "      <td>0.484354</td>\n",
              "      <td>0.403094</td>\n",
              "    </tr>\n",
              "    <tr>\n",
              "      <td>4</td>\n",
              "      <td>0.525800</td>\n",
              "      <td>0.604225</td>\n",
              "      <td>0.368488</td>\n",
              "      <td>0.538533</td>\n",
              "      <td>0.535676</td>\n",
              "      <td>0.452082</td>\n",
              "    </tr>\n",
              "    <tr>\n",
              "      <td>5</td>\n",
              "      <td>0.497100</td>\n",
              "      <td>0.600070</td>\n",
              "      <td>0.368488</td>\n",
              "      <td>0.538533</td>\n",
              "      <td>0.535676</td>\n",
              "      <td>0.452082</td>\n",
              "    </tr>\n",
              "  </tbody>\n",
              "</table><p>"
            ],
            "text/plain": [
              "<IPython.core.display.HTML object>"
            ]
          },
          "metadata": {},
          "output_type": "display_data"
        },
        {
          "metadata": {
            "tags": null
          },
          "name": "stdout",
          "output_type": "stream",
          "text": [
            "Mean: 0.2737042351373376\n",
            "IoU: 0.20723760513406472\n",
            "Dice: 0.3433252977752475\n",
            "kappa: 0.34017086514061046\n",
            "Mean: 0.35752827716414326\n",
            "IoU: 0.2800681558073456\n",
            "Dice: 0.4375831935772282\n",
            "kappa: 0.43498839852094096\n",
            "Mean: 0.40309394915972846\n",
            "IoU: 0.3218338463780259\n",
            "Dice: 0.4869505305222544\n",
            "kappa: 0.484354051941431\n",
            "Mean: 0.45208207195292116\n",
            "IoU: 0.36848794422387915\n",
            "Dice: 0.5385329783564334\n",
            "kappa: 0.5356761996819631\n",
            "Mean: 0.4466754660709733\n",
            "IoU: 0.36312903705380223\n",
            "Dice: 0.5327874723271259\n",
            "kappa: 0.5302218950881443\n"
          ]
        },
        {
          "data": {
            "application/vnd.jupyter.widget-view+json": {
              "model_id": "0c170127dd6643b48c701b278ad44e31",
              "version_major": 2,
              "version_minor": 0
            },
            "text/plain": [
              "VBox(children=(Label(value='0.002 MB of 0.002 MB uploaded\\r'), FloatProgress(value=1.0, max=1.0)))"
            ]
          },
          "metadata": {},
          "output_type": "display_data"
        },
        {
          "data": {
            "text/html": [
              "<style>\n",
              "    table.wandb td:nth-child(1) { padding: 0 10px; text-align: left ; width: auto;} td:nth-child(2) {text-align: left ; width: 100%}\n",
              "    .wandb-row { display: flex; flex-direction: row; flex-wrap: wrap; justify-content: flex-start; width: 100% }\n",
              "    .wandb-col { display: flex; flex-direction: column; flex-basis: 100%; flex: 1; padding: 10px; }\n",
              "    </style>\n",
              "<div class=\"wandb-row\"><div class=\"wandb-col\"><h3>Run history:</h3><br/><table class=\"wandb\"><tr><td>eval/Dice</td><td>▁▄▆██</td></tr><tr><td>eval/IoU</td><td>▁▄▆██</td></tr><tr><td>eval/kappa_score</td><td>▁▄▆██</td></tr><tr><td>eval/loss</td><td>█▄▃▁▁</td></tr><tr><td>eval/mean</td><td>▁▄▆██</td></tr><tr><td>eval/runtime</td><td>▁▄█▅▅</td></tr><tr><td>eval/samples_per_second</td><td>█▅▁▄▄</td></tr><tr><td>eval/steps_per_second</td><td>█▅▁▄▄</td></tr><tr><td>train/epoch</td><td>▁▁▃▃▅▅▆▆███</td></tr><tr><td>train/global_step</td><td>▁▁▃▃▅▅▆▆███</td></tr><tr><td>train/grad_norm</td><td>▃█▂▇▁</td></tr><tr><td>train/learning_rate</td><td>█▇▅▃▁</td></tr><tr><td>train/loss</td><td>█▃▂▁▁</td></tr></table><br/></div><div class=\"wandb-col\"><h3>Run summary:</h3><br/><table class=\"wandb\"><tr><td>eval/Dice</td><td>0.53853</td></tr><tr><td>eval/IoU</td><td>0.36849</td></tr><tr><td>eval/kappa_score</td><td>0.53568</td></tr><tr><td>eval/loss</td><td>0.60007</td></tr><tr><td>eval/mean</td><td>0.45208</td></tr><tr><td>eval/runtime</td><td>43.4139</td></tr><tr><td>eval/samples_per_second</td><td>4.837</td></tr><tr><td>eval/steps_per_second</td><td>0.622</td></tr><tr><td>total_flos</td><td>1.219893043396608e+18</td></tr><tr><td>train/epoch</td><td>5.0</td></tr><tr><td>train/global_step</td><td>595</td></tr><tr><td>train/grad_norm</td><td>0.8491</td></tr><tr><td>train/learning_rate</td><td>0.0</td></tr><tr><td>train/loss</td><td>0.4971</td></tr><tr><td>train_loss</td><td>0.62961</td></tr><tr><td>train_runtime</td><td>440.8703</td></tr><tr><td>train_samples_per_second</td><td>10.717</td></tr><tr><td>train_steps_per_second</td><td>1.35</td></tr></table><br/></div></div>"
            ],
            "text/plain": [
              "<IPython.core.display.HTML object>"
            ]
          },
          "metadata": {},
          "output_type": "display_data"
        },
        {
          "data": {
            "text/html": [
              " View run <strong style=\"color:#cdcd00\">resilient-sweep-13</strong> at: <a href='https://wandb.ai/nalex22-uv-j02/multispec-leaf-disease-sweeps/runs/a61ulibx' target=\"_blank\">https://wandb.ai/nalex22-uv-j02/multispec-leaf-disease-sweeps/runs/a61ulibx</a><br/> View project at: <a href='https://wandb.ai/nalex22-uv-j02/multispec-leaf-disease-sweeps' target=\"_blank\">https://wandb.ai/nalex22-uv-j02/multispec-leaf-disease-sweeps</a><br/>Synced 5 W&B file(s), 0 media file(s), 0 artifact file(s) and 0 other file(s)"
            ],
            "text/plain": [
              "<IPython.core.display.HTML object>"
            ]
          },
          "metadata": {},
          "output_type": "display_data"
        },
        {
          "data": {
            "text/html": [
              "Find logs at: <code>./wandb/run-20240517_145328-a61ulibx/logs</code>"
            ],
            "text/plain": [
              "<IPython.core.display.HTML object>"
            ]
          },
          "metadata": {},
          "output_type": "display_data"
        },
        {
          "metadata": {
            "tags": null
          },
          "name": "stderr",
          "output_type": "stream",
          "text": [
            "\u001b[34m\u001b[1mwandb\u001b[0m: Agent Starting Run: 39ucpu32 with config:\n",
            "\u001b[34m\u001b[1mwandb\u001b[0m: \tbatch_size: 8\n",
            "\u001b[34m\u001b[1mwandb\u001b[0m: \tbetta_1: 0.8670546021898123\n",
            "\u001b[34m\u001b[1mwandb\u001b[0m: \tbetta_2: 0.6145720444121712\n",
            "\u001b[34m\u001b[1mwandb\u001b[0m: \tclass_weight_0: 2.3722451089652297\n",
            "\u001b[34m\u001b[1mwandb\u001b[0m: \tclass_weight_1: 45.093837028138886\n",
            "\u001b[34m\u001b[1mwandb\u001b[0m: \tepochs: 5\n",
            "\u001b[34m\u001b[1mwandb\u001b[0m: \tfocal_alpha: 0.21832364573276675\n",
            "\u001b[34m\u001b[1mwandb\u001b[0m: \tfocal_gamma: 0.6623312073384524\n",
            "\u001b[34m\u001b[1mwandb\u001b[0m: \tlearning_rate: 0.00065185991557866\n",
            "\u001b[34m\u001b[1mwandb\u001b[0m: \tnum_warmup_steps: 133\n",
            "\u001b[34m\u001b[1mwandb\u001b[0m: \tobjective: JaccardLoss\n",
            "\u001b[34m\u001b[1mwandb\u001b[0m: \tsmooth: 0.06231799555571088\n",
            "\u001b[34m\u001b[1mwandb\u001b[0m: \ttversky_alpha: 0.6027487887626591\n",
            "\u001b[34m\u001b[1mwandb\u001b[0m: \ttversky_betta: 0.8285592300138171\n",
            "\u001b[34m\u001b[1mwandb\u001b[0m: \tweight_decay: 0.7292027165412058\n"
          ]
        },
        {
          "data": {
            "text/html": [
              "Tracking run with wandb version 0.17.0"
            ],
            "text/plain": [
              "<IPython.core.display.HTML object>"
            ]
          },
          "metadata": {},
          "output_type": "display_data"
        },
        {
          "data": {
            "text/html": [
              "Run data is saved locally in <code>/content/wandb/run-20240517_150110-39ucpu32</code>"
            ],
            "text/plain": [
              "<IPython.core.display.HTML object>"
            ]
          },
          "metadata": {},
          "output_type": "display_data"
        },
        {
          "data": {
            "text/html": [
              "Syncing run <strong><a href='https://wandb.ai/nalex22-uv-j02/multispec-leaf-disease-sweeps/runs/39ucpu32' target=\"_blank\">magic-sweep-14</a></strong> to <a href='https://wandb.ai/nalex22-uv-j02/multispec-leaf-disease-sweeps' target=\"_blank\">Weights & Biases</a> (<a href='https://wandb.me/run' target=\"_blank\">docs</a>)<br/>Sweep page: <a href='https://wandb.ai/nalex22-uv-j02/multispec-leaf-disease-sweeps/sweeps/kz96xpi3' target=\"_blank\">https://wandb.ai/nalex22-uv-j02/multispec-leaf-disease-sweeps/sweeps/kz96xpi3</a>"
            ],
            "text/plain": [
              "<IPython.core.display.HTML object>"
            ]
          },
          "metadata": {},
          "output_type": "display_data"
        },
        {
          "data": {
            "text/html": [
              " View project at <a href='https://wandb.ai/nalex22-uv-j02/multispec-leaf-disease-sweeps' target=\"_blank\">https://wandb.ai/nalex22-uv-j02/multispec-leaf-disease-sweeps</a>"
            ],
            "text/plain": [
              "<IPython.core.display.HTML object>"
            ]
          },
          "metadata": {},
          "output_type": "display_data"
        },
        {
          "data": {
            "text/html": [
              " View sweep at <a href='https://wandb.ai/nalex22-uv-j02/multispec-leaf-disease-sweeps/sweeps/kz96xpi3' target=\"_blank\">https://wandb.ai/nalex22-uv-j02/multispec-leaf-disease-sweeps/sweeps/kz96xpi3</a>"
            ],
            "text/plain": [
              "<IPython.core.display.HTML object>"
            ]
          },
          "metadata": {},
          "output_type": "display_data"
        },
        {
          "data": {
            "text/html": [
              " View run at <a href='https://wandb.ai/nalex22-uv-j02/multispec-leaf-disease-sweeps/runs/39ucpu32' target=\"_blank\">https://wandb.ai/nalex22-uv-j02/multispec-leaf-disease-sweeps/runs/39ucpu32</a>"
            ],
            "text/plain": [
              "<IPython.core.display.HTML object>"
            ]
          },
          "metadata": {},
          "output_type": "display_data"
        },
        {
          "metadata": {
            "tags": null
          },
          "name": "stderr",
          "output_type": "stream",
          "text": [
            "/usr/local/lib/python3.10/dist-packages/huggingface_hub/file_download.py:1132: FutureWarning: `resume_download` is deprecated and will be removed in version 1.0.0. Downloads always resume when possible. If you want to force a new download, use `force_download=True`.\n",
            "  warnings.warn(\n",
            "Some weights of SegformerForSemanticSegmentation were not initialized from the model checkpoint at nvidia/mit-b2 and are newly initialized: ['decode_head.batch_norm.bias', 'decode_head.batch_norm.num_batches_tracked', 'decode_head.batch_norm.running_mean', 'decode_head.batch_norm.running_var', 'decode_head.batch_norm.weight', 'decode_head.classifier.bias', 'decode_head.classifier.weight', 'decode_head.linear_c.0.proj.bias', 'decode_head.linear_c.0.proj.weight', 'decode_head.linear_c.1.proj.bias', 'decode_head.linear_c.1.proj.weight', 'decode_head.linear_c.2.proj.bias', 'decode_head.linear_c.2.proj.weight', 'decode_head.linear_c.3.proj.bias', 'decode_head.linear_c.3.proj.weight', 'decode_head.linear_fuse.weight']\n",
            "You should probably TRAIN this model on a down-stream task to be able to use it for predictions and inference.\n",
            "\u001b[34m\u001b[1mwandb\u001b[0m: \u001b[33mWARNING\u001b[0m Config item 'learning_rate' was locked by 'sweep' (ignored update).\n",
            "\u001b[34m\u001b[1mwandb\u001b[0m: \u001b[33mWARNING\u001b[0m Config item 'weight_decay' was locked by 'sweep' (ignored update).\n"
          ]
        },
        {
          "data": {
            "text/html": [
              "\n",
              "    <div>\n",
              "      \n",
              "      <progress value='595' max='595' style='width:300px; height:20px; vertical-align: middle;'></progress>\n",
              "      [595/595 07:18, Epoch 5/5]\n",
              "    </div>\n",
              "    <table border=\"1\" class=\"dataframe\">\n",
              "  <thead>\n",
              " <tr style=\"text-align: left;\">\n",
              "      <th>Epoch</th>\n",
              "      <th>Training Loss</th>\n",
              "      <th>Validation Loss</th>\n",
              "      <th>Iou</th>\n",
              "      <th>Dice</th>\n",
              "      <th>Kappa Score</th>\n",
              "      <th>Mean</th>\n",
              "    </tr>\n",
              "  </thead>\n",
              "  <tbody>\n",
              "    <tr>\n",
              "      <td>1</td>\n",
              "      <td>0.947500</td>\n",
              "      <td>0.803619</td>\n",
              "      <td>0.230745</td>\n",
              "      <td>0.374969</td>\n",
              "      <td>0.371423</td>\n",
              "      <td>0.301084</td>\n",
              "    </tr>\n",
              "    <tr>\n",
              "      <td>2</td>\n",
              "      <td>0.674300</td>\n",
              "      <td>0.681927</td>\n",
              "      <td>0.343008</td>\n",
              "      <td>0.510806</td>\n",
              "      <td>0.507739</td>\n",
              "      <td>0.425374</td>\n",
              "    </tr>\n",
              "    <tr>\n",
              "      <td>3</td>\n",
              "      <td>0.602900</td>\n",
              "      <td>0.671055</td>\n",
              "      <td>0.353955</td>\n",
              "      <td>0.522846</td>\n",
              "      <td>0.520065</td>\n",
              "      <td>0.437010</td>\n",
              "    </tr>\n",
              "    <tr>\n",
              "      <td>4</td>\n",
              "      <td>0.573400</td>\n",
              "      <td>0.653179</td>\n",
              "      <td>0.372812</td>\n",
              "      <td>0.543137</td>\n",
              "      <td>0.540354</td>\n",
              "      <td>0.456583</td>\n",
              "    </tr>\n",
              "    <tr>\n",
              "      <td>5</td>\n",
              "      <td>0.545600</td>\n",
              "      <td>0.647068</td>\n",
              "      <td>0.378819</td>\n",
              "      <td>0.549484</td>\n",
              "      <td>0.546758</td>\n",
              "      <td>0.462789</td>\n",
              "    </tr>\n",
              "  </tbody>\n",
              "</table><p>"
            ],
            "text/plain": [
              "<IPython.core.display.HTML object>"
            ]
          },
          "metadata": {},
          "output_type": "display_data"
        },
        {
          "metadata": {
            "tags": null
          },
          "name": "stdout",
          "output_type": "stream",
          "text": [
            "Mean: 0.301084296617157\n",
            "IoU: 0.2307454775715693\n",
            "Dice: 0.3749686377509377\n",
            "kappa: 0.3714231156627448\n",
            "Mean: 0.4253736284109299\n",
            "IoU: 0.3430082511382736\n",
            "Dice: 0.510805873080162\n",
            "kappa: 0.5077390056835862\n",
            "Mean: 0.4370096486581895\n",
            "IoU: 0.3539545794018955\n",
            "Dice: 0.5228455736798109\n",
            "kappa: 0.5200647179144835\n",
            "Mean: 0.45658304345905987\n",
            "IoU: 0.37281240373755004\n",
            "Dice: 0.5431367064029284\n",
            "kappa: 0.5403536831805696\n",
            "Mean: 0.46278851911821184\n",
            "IoU: 0.37881937960369333\n",
            "Dice: 0.5494836890276018\n",
            "kappa: 0.5467576586327303\n"
          ]
        },
        {
          "data": {
            "application/vnd.jupyter.widget-view+json": {
              "model_id": "b0afff23efdb4ca69b53b2153757d354",
              "version_major": 2,
              "version_minor": 0
            },
            "text/plain": [
              "VBox(children=(Label(value='0.002 MB of 0.002 MB uploaded\\r'), FloatProgress(value=1.0, max=1.0)))"
            ]
          },
          "metadata": {},
          "output_type": "display_data"
        },
        {
          "data": {
            "text/html": [
              "<style>\n",
              "    table.wandb td:nth-child(1) { padding: 0 10px; text-align: left ; width: auto;} td:nth-child(2) {text-align: left ; width: 100%}\n",
              "    .wandb-row { display: flex; flex-direction: row; flex-wrap: wrap; justify-content: flex-start; width: 100% }\n",
              "    .wandb-col { display: flex; flex-direction: column; flex-basis: 100%; flex: 1; padding: 10px; }\n",
              "    </style>\n",
              "<div class=\"wandb-row\"><div class=\"wandb-col\"><h3>Run history:</h3><br/><table class=\"wandb\"><tr><td>eval/Dice</td><td>▁▆▇██</td></tr><tr><td>eval/IoU</td><td>▁▆▇██</td></tr><tr><td>eval/kappa_score</td><td>▁▆▇██</td></tr><tr><td>eval/loss</td><td>█▃▂▁▁</td></tr><tr><td>eval/mean</td><td>▁▆▇██</td></tr><tr><td>eval/runtime</td><td>█▄▂▁▄</td></tr><tr><td>eval/samples_per_second</td><td>▁▅▇█▅</td></tr><tr><td>eval/steps_per_second</td><td>▁▅▇█▅</td></tr><tr><td>train/epoch</td><td>▁▁▃▃▅▅▆▆███</td></tr><tr><td>train/global_step</td><td>▁▁▃▃▅▅▆▆███</td></tr><tr><td>train/grad_norm</td><td>▃▄▂█▁</td></tr><tr><td>train/learning_rate</td><td>█▇▅▃▁</td></tr><tr><td>train/loss</td><td>█▃▂▁▁</td></tr></table><br/></div><div class=\"wandb-col\"><h3>Run summary:</h3><br/><table class=\"wandb\"><tr><td>eval/Dice</td><td>0.54948</td></tr><tr><td>eval/IoU</td><td>0.37882</td></tr><tr><td>eval/kappa_score</td><td>0.54676</td></tr><tr><td>eval/loss</td><td>0.64707</td></tr><tr><td>eval/mean</td><td>0.46279</td></tr><tr><td>eval/runtime</td><td>43.4238</td></tr><tr><td>eval/samples_per_second</td><td>4.836</td></tr><tr><td>eval/steps_per_second</td><td>0.622</td></tr><tr><td>total_flos</td><td>1.219893043396608e+18</td></tr><tr><td>train/epoch</td><td>5.0</td></tr><tr><td>train/global_step</td><td>595</td></tr><tr><td>train/grad_norm</td><td>0.79775</td></tr><tr><td>train/learning_rate</td><td>0.0</td></tr><tr><td>train/loss</td><td>0.5456</td></tr><tr><td>train_loss</td><td>0.66874</td></tr><tr><td>train_runtime</td><td>439.5818</td></tr><tr><td>train_samples_per_second</td><td>10.749</td></tr><tr><td>train_steps_per_second</td><td>1.354</td></tr></table><br/></div></div>"
            ],
            "text/plain": [
              "<IPython.core.display.HTML object>"
            ]
          },
          "metadata": {},
          "output_type": "display_data"
        },
        {
          "data": {
            "text/html": [
              " View run <strong style=\"color:#cdcd00\">magic-sweep-14</strong> at: <a href='https://wandb.ai/nalex22-uv-j02/multispec-leaf-disease-sweeps/runs/39ucpu32' target=\"_blank\">https://wandb.ai/nalex22-uv-j02/multispec-leaf-disease-sweeps/runs/39ucpu32</a><br/> View project at: <a href='https://wandb.ai/nalex22-uv-j02/multispec-leaf-disease-sweeps' target=\"_blank\">https://wandb.ai/nalex22-uv-j02/multispec-leaf-disease-sweeps</a><br/>Synced 5 W&B file(s), 0 media file(s), 0 artifact file(s) and 0 other file(s)"
            ],
            "text/plain": [
              "<IPython.core.display.HTML object>"
            ]
          },
          "metadata": {},
          "output_type": "display_data"
        },
        {
          "data": {
            "text/html": [
              "Find logs at: <code>./wandb/run-20240517_150110-39ucpu32/logs</code>"
            ],
            "text/plain": [
              "<IPython.core.display.HTML object>"
            ]
          },
          "metadata": {},
          "output_type": "display_data"
        },
        {
          "metadata": {
            "tags": null
          },
          "name": "stderr",
          "output_type": "stream",
          "text": [
            "\u001b[34m\u001b[1mwandb\u001b[0m: Agent Starting Run: 26ioph5d with config:\n",
            "\u001b[34m\u001b[1mwandb\u001b[0m: \tbatch_size: 8\n",
            "\u001b[34m\u001b[1mwandb\u001b[0m: \tbetta_1: 0.8623727741326974\n",
            "\u001b[34m\u001b[1mwandb\u001b[0m: \tbetta_2: 0.6047306916159851\n",
            "\u001b[34m\u001b[1mwandb\u001b[0m: \tclass_weight_0: 3.444037204136786\n",
            "\u001b[34m\u001b[1mwandb\u001b[0m: \tclass_weight_1: 42.27771740533352\n",
            "\u001b[34m\u001b[1mwandb\u001b[0m: \tepochs: 5\n",
            "\u001b[34m\u001b[1mwandb\u001b[0m: \tfocal_alpha: 0.47528455916394774\n",
            "\u001b[34m\u001b[1mwandb\u001b[0m: \tfocal_gamma: 2.5899623640680405\n",
            "\u001b[34m\u001b[1mwandb\u001b[0m: \tlearning_rate: 0.0007820810152155838\n",
            "\u001b[34m\u001b[1mwandb\u001b[0m: \tnum_warmup_steps: 177\n",
            "\u001b[34m\u001b[1mwandb\u001b[0m: \tobjective: DiceLoss\n",
            "\u001b[34m\u001b[1mwandb\u001b[0m: \tsmooth: 0.5503456671829645\n",
            "\u001b[34m\u001b[1mwandb\u001b[0m: \ttversky_alpha: 0.7388994966466216\n",
            "\u001b[34m\u001b[1mwandb\u001b[0m: \ttversky_betta: 0.6735276405692971\n",
            "\u001b[34m\u001b[1mwandb\u001b[0m: \tweight_decay: 0.5409193138422501\n"
          ]
        },
        {
          "data": {
            "text/html": [
              "Tracking run with wandb version 0.17.0"
            ],
            "text/plain": [
              "<IPython.core.display.HTML object>"
            ]
          },
          "metadata": {},
          "output_type": "display_data"
        },
        {
          "data": {
            "text/html": [
              "Run data is saved locally in <code>/content/wandb/run-20240517_150852-26ioph5d</code>"
            ],
            "text/plain": [
              "<IPython.core.display.HTML object>"
            ]
          },
          "metadata": {},
          "output_type": "display_data"
        },
        {
          "data": {
            "text/html": [
              "Syncing run <strong><a href='https://wandb.ai/nalex22-uv-j02/multispec-leaf-disease-sweeps/runs/26ioph5d' target=\"_blank\">visionary-sweep-15</a></strong> to <a href='https://wandb.ai/nalex22-uv-j02/multispec-leaf-disease-sweeps' target=\"_blank\">Weights & Biases</a> (<a href='https://wandb.me/run' target=\"_blank\">docs</a>)<br/>Sweep page: <a href='https://wandb.ai/nalex22-uv-j02/multispec-leaf-disease-sweeps/sweeps/kz96xpi3' target=\"_blank\">https://wandb.ai/nalex22-uv-j02/multispec-leaf-disease-sweeps/sweeps/kz96xpi3</a>"
            ],
            "text/plain": [
              "<IPython.core.display.HTML object>"
            ]
          },
          "metadata": {},
          "output_type": "display_data"
        },
        {
          "data": {
            "text/html": [
              " View project at <a href='https://wandb.ai/nalex22-uv-j02/multispec-leaf-disease-sweeps' target=\"_blank\">https://wandb.ai/nalex22-uv-j02/multispec-leaf-disease-sweeps</a>"
            ],
            "text/plain": [
              "<IPython.core.display.HTML object>"
            ]
          },
          "metadata": {},
          "output_type": "display_data"
        },
        {
          "data": {
            "text/html": [
              " View sweep at <a href='https://wandb.ai/nalex22-uv-j02/multispec-leaf-disease-sweeps/sweeps/kz96xpi3' target=\"_blank\">https://wandb.ai/nalex22-uv-j02/multispec-leaf-disease-sweeps/sweeps/kz96xpi3</a>"
            ],
            "text/plain": [
              "<IPython.core.display.HTML object>"
            ]
          },
          "metadata": {},
          "output_type": "display_data"
        },
        {
          "data": {
            "text/html": [
              " View run at <a href='https://wandb.ai/nalex22-uv-j02/multispec-leaf-disease-sweeps/runs/26ioph5d' target=\"_blank\">https://wandb.ai/nalex22-uv-j02/multispec-leaf-disease-sweeps/runs/26ioph5d</a>"
            ],
            "text/plain": [
              "<IPython.core.display.HTML object>"
            ]
          },
          "metadata": {},
          "output_type": "display_data"
        },
        {
          "metadata": {
            "tags": null
          },
          "name": "stderr",
          "output_type": "stream",
          "text": [
            "/usr/local/lib/python3.10/dist-packages/huggingface_hub/file_download.py:1132: FutureWarning: `resume_download` is deprecated and will be removed in version 1.0.0. Downloads always resume when possible. If you want to force a new download, use `force_download=True`.\n",
            "  warnings.warn(\n",
            "Some weights of SegformerForSemanticSegmentation were not initialized from the model checkpoint at nvidia/mit-b2 and are newly initialized: ['decode_head.batch_norm.bias', 'decode_head.batch_norm.num_batches_tracked', 'decode_head.batch_norm.running_mean', 'decode_head.batch_norm.running_var', 'decode_head.batch_norm.weight', 'decode_head.classifier.bias', 'decode_head.classifier.weight', 'decode_head.linear_c.0.proj.bias', 'decode_head.linear_c.0.proj.weight', 'decode_head.linear_c.1.proj.bias', 'decode_head.linear_c.1.proj.weight', 'decode_head.linear_c.2.proj.bias', 'decode_head.linear_c.2.proj.weight', 'decode_head.linear_c.3.proj.bias', 'decode_head.linear_c.3.proj.weight', 'decode_head.linear_fuse.weight']\n",
            "You should probably TRAIN this model on a down-stream task to be able to use it for predictions and inference.\n",
            "\u001b[34m\u001b[1mwandb\u001b[0m: \u001b[33mWARNING\u001b[0m Config item 'learning_rate' was locked by 'sweep' (ignored update).\n",
            "\u001b[34m\u001b[1mwandb\u001b[0m: \u001b[33mWARNING\u001b[0m Config item 'weight_decay' was locked by 'sweep' (ignored update).\n"
          ]
        },
        {
          "data": {
            "text/html": [
              "\n",
              "    <div>\n",
              "      \n",
              "      <progress value='595' max='595' style='width:300px; height:20px; vertical-align: middle;'></progress>\n",
              "      [595/595 07:20, Epoch 5/5]\n",
              "    </div>\n",
              "    <table border=\"1\" class=\"dataframe\">\n",
              "  <thead>\n",
              " <tr style=\"text-align: left;\">\n",
              "      <th>Epoch</th>\n",
              "      <th>Training Loss</th>\n",
              "      <th>Validation Loss</th>\n",
              "      <th>Iou</th>\n",
              "      <th>Dice</th>\n",
              "      <th>Kappa Score</th>\n",
              "      <th>Mean</th>\n",
              "    </tr>\n",
              "  </thead>\n",
              "  <tbody>\n",
              "    <tr>\n",
              "      <td>1</td>\n",
              "      <td>0.926400</td>\n",
              "      <td>0.758243</td>\n",
              "      <td>0.171317</td>\n",
              "      <td>0.292521</td>\n",
              "      <td>0.287011</td>\n",
              "      <td>0.229164</td>\n",
              "    </tr>\n",
              "    <tr>\n",
              "      <td>2</td>\n",
              "      <td>0.528800</td>\n",
              "      <td>0.536071</td>\n",
              "      <td>0.336913</td>\n",
              "      <td>0.504016</td>\n",
              "      <td>0.500870</td>\n",
              "      <td>0.418892</td>\n",
              "    </tr>\n",
              "    <tr>\n",
              "      <td>3</td>\n",
              "      <td>0.432900</td>\n",
              "      <td>0.524962</td>\n",
              "      <td>0.342787</td>\n",
              "      <td>0.510561</td>\n",
              "      <td>0.507855</td>\n",
              "      <td>0.425321</td>\n",
              "    </tr>\n",
              "    <tr>\n",
              "      <td>4</td>\n",
              "      <td>0.402100</td>\n",
              "      <td>0.501964</td>\n",
              "      <td>0.371845</td>\n",
              "      <td>0.542109</td>\n",
              "      <td>0.539218</td>\n",
              "      <td>0.455531</td>\n",
              "    </tr>\n",
              "    <tr>\n",
              "      <td>5</td>\n",
              "      <td>0.375300</td>\n",
              "      <td>0.496575</td>\n",
              "      <td>0.375471</td>\n",
              "      <td>0.545953</td>\n",
              "      <td>0.543309</td>\n",
              "      <td>0.459390</td>\n",
              "    </tr>\n",
              "  </tbody>\n",
              "</table><p>"
            ],
            "text/plain": [
              "<IPython.core.display.HTML object>"
            ]
          },
          "metadata": {},
          "output_type": "display_data"
        },
        {
          "metadata": {
            "tags": null
          },
          "name": "stdout",
          "output_type": "stream",
          "text": [
            "Mean: 0.22916393735486795\n",
            "IoU: 0.1713173528935531\n",
            "Dice: 0.292520814227401\n",
            "kappa: 0.2870105218161828\n",
            "Mean: 0.41889153833473847\n",
            "IoU: 0.3369126327307473\n",
            "Dice: 0.5040159311571127\n",
            "kappa: 0.5008704439387297\n",
            "Mean: 0.4253211221285045\n",
            "IoU: 0.3427871712000139\n",
            "Dice: 0.5105606883236364\n",
            "kappa: 0.5078550730569951\n",
            "Mean: 0.45553121913657485\n",
            "IoU: 0.37184465248497267\n",
            "Dice: 0.5421089797761134\n",
            "kappa: 0.539217785788177\n",
            "Mean: 0.4593899765902969\n",
            "IoU: 0.37547127444585826\n",
            "Dice: 0.545952912898346\n",
            "kappa: 0.5433086787347355\n"
          ]
        },
        {
          "data": {
            "application/vnd.jupyter.widget-view+json": {
              "model_id": "115ee104da2e48bd8869a8a2644f19b3",
              "version_major": 2,
              "version_minor": 0
            },
            "text/plain": [
              "VBox(children=(Label(value='0.002 MB of 0.002 MB uploaded\\r'), FloatProgress(value=1.0, max=1.0)))"
            ]
          },
          "metadata": {},
          "output_type": "display_data"
        },
        {
          "data": {
            "text/html": [
              "<style>\n",
              "    table.wandb td:nth-child(1) { padding: 0 10px; text-align: left ; width: auto;} td:nth-child(2) {text-align: left ; width: 100%}\n",
              "    .wandb-row { display: flex; flex-direction: row; flex-wrap: wrap; justify-content: flex-start; width: 100% }\n",
              "    .wandb-col { display: flex; flex-direction: column; flex-basis: 100%; flex: 1; padding: 10px; }\n",
              "    </style>\n",
              "<div class=\"wandb-row\"><div class=\"wandb-col\"><h3>Run history:</h3><br/><table class=\"wandb\"><tr><td>eval/Dice</td><td>▁▇▇██</td></tr><tr><td>eval/IoU</td><td>▁▇▇██</td></tr><tr><td>eval/kappa_score</td><td>▁▇▇██</td></tr><tr><td>eval/loss</td><td>█▂▂▁▁</td></tr><tr><td>eval/mean</td><td>▁▇▇██</td></tr><tr><td>eval/runtime</td><td>▁▃█▆▇</td></tr><tr><td>eval/samples_per_second</td><td>█▆▁▃▂</td></tr><tr><td>eval/steps_per_second</td><td>█▆▁▃▂</td></tr><tr><td>train/epoch</td><td>▁▁▃▃▅▅▆▆███</td></tr><tr><td>train/global_step</td><td>▁▁▃▃▅▅▆▆███</td></tr><tr><td>train/grad_norm</td><td>▆▅▂█▁</td></tr><tr><td>train/learning_rate</td><td>▇█▆▃▁</td></tr><tr><td>train/loss</td><td>█▃▂▁▁</td></tr></table><br/></div><div class=\"wandb-col\"><h3>Run summary:</h3><br/><table class=\"wandb\"><tr><td>eval/Dice</td><td>0.54595</td></tr><tr><td>eval/IoU</td><td>0.37547</td></tr><tr><td>eval/kappa_score</td><td>0.54331</td></tr><tr><td>eval/loss</td><td>0.49658</td></tr><tr><td>eval/mean</td><td>0.45939</td></tr><tr><td>eval/runtime</td><td>43.5142</td></tr><tr><td>eval/samples_per_second</td><td>4.826</td></tr><tr><td>eval/steps_per_second</td><td>0.62</td></tr><tr><td>total_flos</td><td>1.219893043396608e+18</td></tr><tr><td>train/epoch</td><td>5.0</td></tr><tr><td>train/global_step</td><td>595</td></tr><tr><td>train/grad_norm</td><td>0.92968</td></tr><tr><td>train/learning_rate</td><td>0.0</td></tr><tr><td>train/loss</td><td>0.3753</td></tr><tr><td>train_loss</td><td>0.53309</td></tr><tr><td>train_runtime</td><td>441.2103</td></tr><tr><td>train_samples_per_second</td><td>10.709</td></tr><tr><td>train_steps_per_second</td><td>1.349</td></tr></table><br/></div></div>"
            ],
            "text/plain": [
              "<IPython.core.display.HTML object>"
            ]
          },
          "metadata": {},
          "output_type": "display_data"
        },
        {
          "data": {
            "text/html": [
              " View run <strong style=\"color:#cdcd00\">visionary-sweep-15</strong> at: <a href='https://wandb.ai/nalex22-uv-j02/multispec-leaf-disease-sweeps/runs/26ioph5d' target=\"_blank\">https://wandb.ai/nalex22-uv-j02/multispec-leaf-disease-sweeps/runs/26ioph5d</a><br/> View project at: <a href='https://wandb.ai/nalex22-uv-j02/multispec-leaf-disease-sweeps' target=\"_blank\">https://wandb.ai/nalex22-uv-j02/multispec-leaf-disease-sweeps</a><br/>Synced 5 W&B file(s), 0 media file(s), 0 artifact file(s) and 0 other file(s)"
            ],
            "text/plain": [
              "<IPython.core.display.HTML object>"
            ]
          },
          "metadata": {},
          "output_type": "display_data"
        },
        {
          "data": {
            "text/html": [
              "Find logs at: <code>./wandb/run-20240517_150852-26ioph5d/logs</code>"
            ],
            "text/plain": [
              "<IPython.core.display.HTML object>"
            ]
          },
          "metadata": {},
          "output_type": "display_data"
        },
        {
          "metadata": {
            "tags": null
          },
          "name": "stderr",
          "output_type": "stream",
          "text": [
            "\u001b[34m\u001b[1mwandb\u001b[0m: Agent Starting Run: rj8mhfk6 with config:\n",
            "\u001b[34m\u001b[1mwandb\u001b[0m: \tbatch_size: 8\n",
            "\u001b[34m\u001b[1mwandb\u001b[0m: \tbetta_1: 0.956324926291342\n",
            "\u001b[34m\u001b[1mwandb\u001b[0m: \tbetta_2: 0.6571297007626127\n",
            "\u001b[34m\u001b[1mwandb\u001b[0m: \tclass_weight_0: 0.5904514002618138\n",
            "\u001b[34m\u001b[1mwandb\u001b[0m: \tclass_weight_1: 47.19524347391132\n",
            "\u001b[34m\u001b[1mwandb\u001b[0m: \tepochs: 5\n",
            "\u001b[34m\u001b[1mwandb\u001b[0m: \tfocal_alpha: 0.5413691212390902\n",
            "\u001b[34m\u001b[1mwandb\u001b[0m: \tfocal_gamma: 1.0873307679940347\n",
            "\u001b[34m\u001b[1mwandb\u001b[0m: \tlearning_rate: 0.0003100282966736601\n",
            "\u001b[34m\u001b[1mwandb\u001b[0m: \tnum_warmup_steps: 150\n",
            "\u001b[34m\u001b[1mwandb\u001b[0m: \tobjective: JaccardLoss\n",
            "\u001b[34m\u001b[1mwandb\u001b[0m: \tsmooth: 0.6137696598654505\n",
            "\u001b[34m\u001b[1mwandb\u001b[0m: \ttversky_alpha: 0.9217027110329756\n",
            "\u001b[34m\u001b[1mwandb\u001b[0m: \ttversky_betta: 0.8637711333720981\n",
            "\u001b[34m\u001b[1mwandb\u001b[0m: \tweight_decay: 0.6407948043044165\n"
          ]
        },
        {
          "data": {
            "text/html": [
              "Tracking run with wandb version 0.17.0"
            ],
            "text/plain": [
              "<IPython.core.display.HTML object>"
            ]
          },
          "metadata": {},
          "output_type": "display_data"
        },
        {
          "data": {
            "text/html": [
              "Run data is saved locally in <code>/content/wandb/run-20240517_151638-rj8mhfk6</code>"
            ],
            "text/plain": [
              "<IPython.core.display.HTML object>"
            ]
          },
          "metadata": {},
          "output_type": "display_data"
        },
        {
          "data": {
            "text/html": [
              "Syncing run <strong><a href='https://wandb.ai/nalex22-uv-j02/multispec-leaf-disease-sweeps/runs/rj8mhfk6' target=\"_blank\">distinctive-sweep-16</a></strong> to <a href='https://wandb.ai/nalex22-uv-j02/multispec-leaf-disease-sweeps' target=\"_blank\">Weights & Biases</a> (<a href='https://wandb.me/run' target=\"_blank\">docs</a>)<br/>Sweep page: <a href='https://wandb.ai/nalex22-uv-j02/multispec-leaf-disease-sweeps/sweeps/kz96xpi3' target=\"_blank\">https://wandb.ai/nalex22-uv-j02/multispec-leaf-disease-sweeps/sweeps/kz96xpi3</a>"
            ],
            "text/plain": [
              "<IPython.core.display.HTML object>"
            ]
          },
          "metadata": {},
          "output_type": "display_data"
        },
        {
          "data": {
            "text/html": [
              " View project at <a href='https://wandb.ai/nalex22-uv-j02/multispec-leaf-disease-sweeps' target=\"_blank\">https://wandb.ai/nalex22-uv-j02/multispec-leaf-disease-sweeps</a>"
            ],
            "text/plain": [
              "<IPython.core.display.HTML object>"
            ]
          },
          "metadata": {},
          "output_type": "display_data"
        },
        {
          "data": {
            "text/html": [
              " View sweep at <a href='https://wandb.ai/nalex22-uv-j02/multispec-leaf-disease-sweeps/sweeps/kz96xpi3' target=\"_blank\">https://wandb.ai/nalex22-uv-j02/multispec-leaf-disease-sweeps/sweeps/kz96xpi3</a>"
            ],
            "text/plain": [
              "<IPython.core.display.HTML object>"
            ]
          },
          "metadata": {},
          "output_type": "display_data"
        },
        {
          "data": {
            "text/html": [
              " View run at <a href='https://wandb.ai/nalex22-uv-j02/multispec-leaf-disease-sweeps/runs/rj8mhfk6' target=\"_blank\">https://wandb.ai/nalex22-uv-j02/multispec-leaf-disease-sweeps/runs/rj8mhfk6</a>"
            ],
            "text/plain": [
              "<IPython.core.display.HTML object>"
            ]
          },
          "metadata": {},
          "output_type": "display_data"
        },
        {
          "metadata": {
            "tags": null
          },
          "name": "stderr",
          "output_type": "stream",
          "text": [
            "/usr/local/lib/python3.10/dist-packages/huggingface_hub/file_download.py:1132: FutureWarning: `resume_download` is deprecated and will be removed in version 1.0.0. Downloads always resume when possible. If you want to force a new download, use `force_download=True`.\n",
            "  warnings.warn(\n",
            "Some weights of SegformerForSemanticSegmentation were not initialized from the model checkpoint at nvidia/mit-b2 and are newly initialized: ['decode_head.batch_norm.bias', 'decode_head.batch_norm.num_batches_tracked', 'decode_head.batch_norm.running_mean', 'decode_head.batch_norm.running_var', 'decode_head.batch_norm.weight', 'decode_head.classifier.bias', 'decode_head.classifier.weight', 'decode_head.linear_c.0.proj.bias', 'decode_head.linear_c.0.proj.weight', 'decode_head.linear_c.1.proj.bias', 'decode_head.linear_c.1.proj.weight', 'decode_head.linear_c.2.proj.bias', 'decode_head.linear_c.2.proj.weight', 'decode_head.linear_c.3.proj.bias', 'decode_head.linear_c.3.proj.weight', 'decode_head.linear_fuse.weight']\n",
            "You should probably TRAIN this model on a down-stream task to be able to use it for predictions and inference.\n",
            "\u001b[34m\u001b[1mwandb\u001b[0m: \u001b[33mWARNING\u001b[0m Config item 'learning_rate' was locked by 'sweep' (ignored update).\n",
            "\u001b[34m\u001b[1mwandb\u001b[0m: \u001b[33mWARNING\u001b[0m Config item 'weight_decay' was locked by 'sweep' (ignored update).\n"
          ]
        },
        {
          "data": {
            "text/html": [
              "\n",
              "    <div>\n",
              "      \n",
              "      <progress value='595' max='595' style='width:300px; height:20px; vertical-align: middle;'></progress>\n",
              "      [595/595 07:20, Epoch 5/5]\n",
              "    </div>\n",
              "    <table border=\"1\" class=\"dataframe\">\n",
              "  <thead>\n",
              " <tr style=\"text-align: left;\">\n",
              "      <th>Epoch</th>\n",
              "      <th>Training Loss</th>\n",
              "      <th>Validation Loss</th>\n",
              "      <th>Iou</th>\n",
              "      <th>Dice</th>\n",
              "      <th>Kappa Score</th>\n",
              "      <th>Mean</th>\n",
              "    </tr>\n",
              "  </thead>\n",
              "  <tbody>\n",
              "    <tr>\n",
              "      <td>1</td>\n",
              "      <td>0.985400</td>\n",
              "      <td>0.985403</td>\n",
              "      <td>0.014637</td>\n",
              "      <td>0.028851</td>\n",
              "      <td>0.017024</td>\n",
              "      <td>0.015830</td>\n",
              "    </tr>\n",
              "    <tr>\n",
              "      <td>2</td>\n",
              "      <td>0.844500</td>\n",
              "      <td>0.761342</td>\n",
              "      <td>0.276391</td>\n",
              "      <td>0.433082</td>\n",
              "      <td>0.428772</td>\n",
              "      <td>0.352582</td>\n",
              "    </tr>\n",
              "    <tr>\n",
              "      <td>3</td>\n",
              "      <td>0.655600</td>\n",
              "      <td>0.701425</td>\n",
              "      <td>0.325340</td>\n",
              "      <td>0.490953</td>\n",
              "      <td>0.487536</td>\n",
              "      <td>0.406438</td>\n",
              "    </tr>\n",
              "    <tr>\n",
              "      <td>4</td>\n",
              "      <td>0.604000</td>\n",
              "      <td>0.683025</td>\n",
              "      <td>0.339104</td>\n",
              "      <td>0.506464</td>\n",
              "      <td>0.503800</td>\n",
              "      <td>0.421452</td>\n",
              "    </tr>\n",
              "    <tr>\n",
              "      <td>5</td>\n",
              "      <td>0.577600</td>\n",
              "      <td>0.667478</td>\n",
              "      <td>0.358429</td>\n",
              "      <td>0.527711</td>\n",
              "      <td>0.524931</td>\n",
              "      <td>0.441680</td>\n",
              "    </tr>\n",
              "  </tbody>\n",
              "</table><p>"
            ],
            "text/plain": [
              "<IPython.core.display.HTML object>"
            ]
          },
          "metadata": {},
          "output_type": "display_data"
        },
        {
          "metadata": {
            "tags": null
          },
          "name": "stdout",
          "output_type": "stream",
          "text": [
            "Mean: 0.01583009045108579\n",
            "IoU: 0.01463664031776155\n",
            "Dice: 0.028850998941212454\n",
            "kappa: 0.017023540584410024\n",
            "Mean: 0.35258153462003705\n",
            "IoU: 0.27639060715645225\n",
            "Dice: 0.43308154354441114\n",
            "kappa: 0.42877246208362185\n",
            "Mean: 0.4064381208835347\n",
            "IoU: 0.32533976855548125\n",
            "Dice: 0.4909530012972849\n",
            "kappa: 0.4875364732115881\n",
            "Mean: 0.42145209957191665\n",
            "IoU: 0.3391037302624607\n",
            "Dice: 0.5064637228603602\n",
            "kappa: 0.5038004688813726\n",
            "Mean: 0.44167991810798024\n",
            "IoU: 0.3584289114457188\n",
            "Dice: 0.5277109584840298\n",
            "kappa: 0.5249309247702416\n"
          ]
        },
        {
          "data": {
            "application/vnd.jupyter.widget-view+json": {
              "model_id": "c69e85e6f63b4c67a16211d27d918c2b",
              "version_major": 2,
              "version_minor": 0
            },
            "text/plain": [
              "VBox(children=(Label(value='0.002 MB of 0.002 MB uploaded\\r'), FloatProgress(value=1.0, max=1.0)))"
            ]
          },
          "metadata": {},
          "output_type": "display_data"
        },
        {
          "data": {
            "text/html": [
              "<style>\n",
              "    table.wandb td:nth-child(1) { padding: 0 10px; text-align: left ; width: auto;} td:nth-child(2) {text-align: left ; width: 100%}\n",
              "    .wandb-row { display: flex; flex-direction: row; flex-wrap: wrap; justify-content: flex-start; width: 100% }\n",
              "    .wandb-col { display: flex; flex-direction: column; flex-basis: 100%; flex: 1; padding: 10px; }\n",
              "    </style>\n",
              "<div class=\"wandb-row\"><div class=\"wandb-col\"><h3>Run history:</h3><br/><table class=\"wandb\"><tr><td>eval/Dice</td><td>▁▇▇██</td></tr><tr><td>eval/IoU</td><td>▁▆▇██</td></tr><tr><td>eval/kappa_score</td><td>▁▇▇██</td></tr><tr><td>eval/loss</td><td>█▃▂▁▁</td></tr><tr><td>eval/mean</td><td>▁▇▇██</td></tr><tr><td>eval/runtime</td><td>▇▁▄▂█</td></tr><tr><td>eval/samples_per_second</td><td>▂█▅▇▁</td></tr><tr><td>eval/steps_per_second</td><td>▂█▅█▁</td></tr><tr><td>train/epoch</td><td>▁▁▃▃▅▅▆▆███</td></tr><tr><td>train/global_step</td><td>▁▁▃▃▅▅▆▆███</td></tr><tr><td>train/grad_norm</td><td>▁▅▅█▃</td></tr><tr><td>train/learning_rate</td><td>██▆▃▁</td></tr><tr><td>train/loss</td><td>█▆▂▁▁</td></tr></table><br/></div><div class=\"wandb-col\"><h3>Run summary:</h3><br/><table class=\"wandb\"><tr><td>eval/Dice</td><td>0.52771</td></tr><tr><td>eval/IoU</td><td>0.35843</td></tr><tr><td>eval/kappa_score</td><td>0.52493</td></tr><tr><td>eval/loss</td><td>0.66748</td></tr><tr><td>eval/mean</td><td>0.44168</td></tr><tr><td>eval/runtime</td><td>43.5537</td></tr><tr><td>eval/samples_per_second</td><td>4.822</td></tr><tr><td>eval/steps_per_second</td><td>0.62</td></tr><tr><td>total_flos</td><td>1.219893043396608e+18</td></tr><tr><td>train/epoch</td><td>5.0</td></tr><tr><td>train/global_step</td><td>595</td></tr><tr><td>train/grad_norm</td><td>1.03976</td></tr><tr><td>train/learning_rate</td><td>0.0</td></tr><tr><td>train/loss</td><td>0.5776</td></tr><tr><td>train_loss</td><td>0.73342</td></tr><tr><td>train_runtime</td><td>440.8671</td></tr><tr><td>train_samples_per_second</td><td>10.718</td></tr><tr><td>train_steps_per_second</td><td>1.35</td></tr></table><br/></div></div>"
            ],
            "text/plain": [
              "<IPython.core.display.HTML object>"
            ]
          },
          "metadata": {},
          "output_type": "display_data"
        },
        {
          "data": {
            "text/html": [
              " View run <strong style=\"color:#cdcd00\">distinctive-sweep-16</strong> at: <a href='https://wandb.ai/nalex22-uv-j02/multispec-leaf-disease-sweeps/runs/rj8mhfk6' target=\"_blank\">https://wandb.ai/nalex22-uv-j02/multispec-leaf-disease-sweeps/runs/rj8mhfk6</a><br/> View project at: <a href='https://wandb.ai/nalex22-uv-j02/multispec-leaf-disease-sweeps' target=\"_blank\">https://wandb.ai/nalex22-uv-j02/multispec-leaf-disease-sweeps</a><br/>Synced 5 W&B file(s), 0 media file(s), 0 artifact file(s) and 0 other file(s)"
            ],
            "text/plain": [
              "<IPython.core.display.HTML object>"
            ]
          },
          "metadata": {},
          "output_type": "display_data"
        },
        {
          "data": {
            "text/html": [
              "Find logs at: <code>./wandb/run-20240517_151638-rj8mhfk6/logs</code>"
            ],
            "text/plain": [
              "<IPython.core.display.HTML object>"
            ]
          },
          "metadata": {},
          "output_type": "display_data"
        },
        {
          "metadata": {
            "tags": null
          },
          "name": "stderr",
          "output_type": "stream",
          "text": [
            "\u001b[34m\u001b[1mwandb\u001b[0m: Agent Starting Run: bzxvhox9 with config:\n",
            "\u001b[34m\u001b[1mwandb\u001b[0m: \tbatch_size: 8\n",
            "\u001b[34m\u001b[1mwandb\u001b[0m: \tbetta_1: 0.6874134416124567\n",
            "\u001b[34m\u001b[1mwandb\u001b[0m: \tbetta_2: 0.5547855048526433\n",
            "\u001b[34m\u001b[1mwandb\u001b[0m: \tclass_weight_0: 1.3482192663140034\n",
            "\u001b[34m\u001b[1mwandb\u001b[0m: \tclass_weight_1: 35.444927653036395\n",
            "\u001b[34m\u001b[1mwandb\u001b[0m: \tepochs: 5\n",
            "\u001b[34m\u001b[1mwandb\u001b[0m: \tfocal_alpha: 0.4966372565980739\n",
            "\u001b[34m\u001b[1mwandb\u001b[0m: \tfocal_gamma: 0.550921013655129\n",
            "\u001b[34m\u001b[1mwandb\u001b[0m: \tlearning_rate: 0.0007409319059868123\n",
            "\u001b[34m\u001b[1mwandb\u001b[0m: \tnum_warmup_steps: 96\n",
            "\u001b[34m\u001b[1mwandb\u001b[0m: \tobjective: CrossEntropyLoss\n",
            "\u001b[34m\u001b[1mwandb\u001b[0m: \tsmooth: 0.38684840659755254\n",
            "\u001b[34m\u001b[1mwandb\u001b[0m: \ttversky_alpha: 0.4154521189935724\n",
            "\u001b[34m\u001b[1mwandb\u001b[0m: \ttversky_betta: 0.695663926699952\n",
            "\u001b[34m\u001b[1mwandb\u001b[0m: \tweight_decay: 0.7873043986882813\n"
          ]
        },
        {
          "data": {
            "text/html": [
              "Tracking run with wandb version 0.17.0"
            ],
            "text/plain": [
              "<IPython.core.display.HTML object>"
            ]
          },
          "metadata": {},
          "output_type": "display_data"
        },
        {
          "data": {
            "text/html": [
              "Run data is saved locally in <code>/content/wandb/run-20240517_152425-bzxvhox9</code>"
            ],
            "text/plain": [
              "<IPython.core.display.HTML object>"
            ]
          },
          "metadata": {},
          "output_type": "display_data"
        },
        {
          "data": {
            "text/html": [
              "Syncing run <strong><a href='https://wandb.ai/nalex22-uv-j02/multispec-leaf-disease-sweeps/runs/bzxvhox9' target=\"_blank\">misunderstood-sweep-17</a></strong> to <a href='https://wandb.ai/nalex22-uv-j02/multispec-leaf-disease-sweeps' target=\"_blank\">Weights & Biases</a> (<a href='https://wandb.me/run' target=\"_blank\">docs</a>)<br/>Sweep page: <a href='https://wandb.ai/nalex22-uv-j02/multispec-leaf-disease-sweeps/sweeps/kz96xpi3' target=\"_blank\">https://wandb.ai/nalex22-uv-j02/multispec-leaf-disease-sweeps/sweeps/kz96xpi3</a>"
            ],
            "text/plain": [
              "<IPython.core.display.HTML object>"
            ]
          },
          "metadata": {},
          "output_type": "display_data"
        },
        {
          "data": {
            "text/html": [
              " View project at <a href='https://wandb.ai/nalex22-uv-j02/multispec-leaf-disease-sweeps' target=\"_blank\">https://wandb.ai/nalex22-uv-j02/multispec-leaf-disease-sweeps</a>"
            ],
            "text/plain": [
              "<IPython.core.display.HTML object>"
            ]
          },
          "metadata": {},
          "output_type": "display_data"
        },
        {
          "data": {
            "text/html": [
              " View sweep at <a href='https://wandb.ai/nalex22-uv-j02/multispec-leaf-disease-sweeps/sweeps/kz96xpi3' target=\"_blank\">https://wandb.ai/nalex22-uv-j02/multispec-leaf-disease-sweeps/sweeps/kz96xpi3</a>"
            ],
            "text/plain": [
              "<IPython.core.display.HTML object>"
            ]
          },
          "metadata": {},
          "output_type": "display_data"
        },
        {
          "data": {
            "text/html": [
              " View run at <a href='https://wandb.ai/nalex22-uv-j02/multispec-leaf-disease-sweeps/runs/bzxvhox9' target=\"_blank\">https://wandb.ai/nalex22-uv-j02/multispec-leaf-disease-sweeps/runs/bzxvhox9</a>"
            ],
            "text/plain": [
              "<IPython.core.display.HTML object>"
            ]
          },
          "metadata": {},
          "output_type": "display_data"
        },
        {
          "metadata": {
            "tags": null
          },
          "name": "stderr",
          "output_type": "stream",
          "text": [
            "/usr/local/lib/python3.10/dist-packages/huggingface_hub/file_download.py:1132: FutureWarning: `resume_download` is deprecated and will be removed in version 1.0.0. Downloads always resume when possible. If you want to force a new download, use `force_download=True`.\n",
            "  warnings.warn(\n",
            "Some weights of SegformerForSemanticSegmentation were not initialized from the model checkpoint at nvidia/mit-b2 and are newly initialized: ['decode_head.batch_norm.bias', 'decode_head.batch_norm.num_batches_tracked', 'decode_head.batch_norm.running_mean', 'decode_head.batch_norm.running_var', 'decode_head.batch_norm.weight', 'decode_head.classifier.bias', 'decode_head.classifier.weight', 'decode_head.linear_c.0.proj.bias', 'decode_head.linear_c.0.proj.weight', 'decode_head.linear_c.1.proj.bias', 'decode_head.linear_c.1.proj.weight', 'decode_head.linear_c.2.proj.bias', 'decode_head.linear_c.2.proj.weight', 'decode_head.linear_c.3.proj.bias', 'decode_head.linear_c.3.proj.weight', 'decode_head.linear_fuse.weight']\n",
            "You should probably TRAIN this model on a down-stream task to be able to use it for predictions and inference.\n",
            "\u001b[34m\u001b[1mwandb\u001b[0m: \u001b[33mWARNING\u001b[0m Config item 'learning_rate' was locked by 'sweep' (ignored update).\n",
            "\u001b[34m\u001b[1mwandb\u001b[0m: \u001b[33mWARNING\u001b[0m Config item 'weight_decay' was locked by 'sweep' (ignored update).\n"
          ]
        },
        {
          "data": {
            "text/html": [
              "\n",
              "    <div>\n",
              "      \n",
              "      <progress value='595' max='595' style='width:300px; height:20px; vertical-align: middle;'></progress>\n",
              "      [595/595 07:17, Epoch 5/5]\n",
              "    </div>\n",
              "    <table border=\"1\" class=\"dataframe\">\n",
              "  <thead>\n",
              " <tr style=\"text-align: left;\">\n",
              "      <th>Epoch</th>\n",
              "      <th>Training Loss</th>\n",
              "      <th>Validation Loss</th>\n",
              "      <th>Iou</th>\n",
              "      <th>Dice</th>\n",
              "      <th>Kappa Score</th>\n",
              "      <th>Mean</th>\n",
              "    </tr>\n",
              "  </thead>\n",
              "  <tbody>\n",
              "    <tr>\n",
              "      <td>1</td>\n",
              "      <td>0.650600</td>\n",
              "      <td>0.590532</td>\n",
              "      <td>0.006336</td>\n",
              "      <td>0.012591</td>\n",
              "      <td>-0.000108</td>\n",
              "      <td>0.003114</td>\n",
              "    </tr>\n",
              "    <tr>\n",
              "      <td>2</td>\n",
              "      <td>0.590000</td>\n",
              "      <td>0.548416</td>\n",
              "      <td>0.006526</td>\n",
              "      <td>0.012968</td>\n",
              "      <td>0.000270</td>\n",
              "      <td>0.003398</td>\n",
              "    </tr>\n",
              "    <tr>\n",
              "      <td>3</td>\n",
              "      <td>0.559600</td>\n",
              "      <td>0.513818</td>\n",
              "      <td>0.006526</td>\n",
              "      <td>0.012968</td>\n",
              "      <td>0.000270</td>\n",
              "      <td>0.003398</td>\n",
              "    </tr>\n",
              "    <tr>\n",
              "      <td>4</td>\n",
              "      <td>0.543600</td>\n",
              "      <td>0.502741</td>\n",
              "      <td>0.006621</td>\n",
              "      <td>0.013155</td>\n",
              "      <td>0.000468</td>\n",
              "      <td>0.003545</td>\n",
              "    </tr>\n",
              "    <tr>\n",
              "      <td>5</td>\n",
              "      <td>0.537500</td>\n",
              "      <td>0.495273</td>\n",
              "      <td>0.006861</td>\n",
              "      <td>0.013628</td>\n",
              "      <td>0.000964</td>\n",
              "      <td>0.003912</td>\n",
              "    </tr>\n",
              "  </tbody>\n",
              "</table><p>"
            ],
            "text/plain": [
              "<IPython.core.display.HTML object>"
            ]
          },
          "metadata": {},
          "output_type": "display_data"
        },
        {
          "metadata": {
            "tags": null
          },
          "name": "stdout",
          "output_type": "stream",
          "text": [
            "Mean: 0.0031136587317477293\n",
            "IoU: 0.006335502293963275\n",
            "Dice: 0.01259123280361542\n",
            "kappa: -0.0001081848304678168\n",
            "Mean: 0.0033981018790300863\n",
            "IoU: 0.006526132324654323\n",
            "Dice: 0.012967636139921548\n",
            "kappa: 0.0002700714334058496\n",
            "Mean: 0.0033551700746331852\n",
            "IoU: 0.006497789966972768\n",
            "Dice: 0.01291168253272764\n",
            "kappa: 0.00021255018229360267\n",
            "Mean: 0.0035445040531991343\n",
            "IoU: 0.006621204808651064\n",
            "Dice: 0.013155305644310743\n",
            "kappa: 0.00046780329774720464\n",
            "Mean: 0.003912481824661184\n",
            "IoU: 0.006860939622569927\n",
            "Dice: 0.01362837578174759\n",
            "kappa: 0.0009640240267524414\n"
          ]
        },
        {
          "data": {
            "application/vnd.jupyter.widget-view+json": {
              "model_id": "cf78f8f4957f4ce38b98a21d3d073fbb",
              "version_major": 2,
              "version_minor": 0
            },
            "text/plain": [
              "VBox(children=(Label(value='0.002 MB of 0.002 MB uploaded\\r'), FloatProgress(value=1.0, max=1.0)))"
            ]
          },
          "metadata": {},
          "output_type": "display_data"
        },
        {
          "data": {
            "text/html": [
              "<style>\n",
              "    table.wandb td:nth-child(1) { padding: 0 10px; text-align: left ; width: auto;} td:nth-child(2) {text-align: left ; width: 100%}\n",
              "    .wandb-row { display: flex; flex-direction: row; flex-wrap: wrap; justify-content: flex-start; width: 100% }\n",
              "    .wandb-col { display: flex; flex-direction: column; flex-basis: 100%; flex: 1; padding: 10px; }\n",
              "    </style>\n",
              "<div class=\"wandb-row\"><div class=\"wandb-col\"><h3>Run history:</h3><br/><table class=\"wandb\"><tr><td>eval/Dice</td><td>▁▄▄▅█</td></tr><tr><td>eval/IoU</td><td>▁▄▄▅█</td></tr><tr><td>eval/kappa_score</td><td>▁▃▃▅█</td></tr><tr><td>eval/loss</td><td>█▅▂▂▁</td></tr><tr><td>eval/mean</td><td>▁▃▃▅█</td></tr><tr><td>eval/runtime</td><td>▁▁▁██</td></tr><tr><td>eval/samples_per_second</td><td>███▁▁</td></tr><tr><td>eval/steps_per_second</td><td>███▁▁</td></tr><tr><td>train/epoch</td><td>▁▁▃▃▅▅▆▆███</td></tr><tr><td>train/global_step</td><td>▁▁▃▃▅▅▆▆███</td></tr><tr><td>train/grad_norm</td><td>▁█▇▅▄</td></tr><tr><td>train/learning_rate</td><td>█▆▄▃▁</td></tr><tr><td>train/loss</td><td>█▄▂▁▁</td></tr></table><br/></div><div class=\"wandb-col\"><h3>Run summary:</h3><br/><table class=\"wandb\"><tr><td>eval/Dice</td><td>0.01363</td></tr><tr><td>eval/IoU</td><td>0.00686</td></tr><tr><td>eval/kappa_score</td><td>0.00096</td></tr><tr><td>eval/loss</td><td>0.49527</td></tr><tr><td>eval/mean</td><td>0.00391</td></tr><tr><td>eval/runtime</td><td>44.0923</td></tr><tr><td>eval/samples_per_second</td><td>4.763</td></tr><tr><td>eval/steps_per_second</td><td>0.612</td></tr><tr><td>total_flos</td><td>1.219893043396608e+18</td></tr><tr><td>train/epoch</td><td>5.0</td></tr><tr><td>train/global_step</td><td>595</td></tr><tr><td>train/grad_norm</td><td>0.04891</td></tr><tr><td>train/learning_rate</td><td>0.0</td></tr><tr><td>train/loss</td><td>0.5375</td></tr><tr><td>train_loss</td><td>0.57628</td></tr><tr><td>train_runtime</td><td>437.8301</td></tr><tr><td>train_samples_per_second</td><td>10.792</td></tr><tr><td>train_steps_per_second</td><td>1.359</td></tr></table><br/></div></div>"
            ],
            "text/plain": [
              "<IPython.core.display.HTML object>"
            ]
          },
          "metadata": {},
          "output_type": "display_data"
        },
        {
          "data": {
            "text/html": [
              " View run <strong style=\"color:#cdcd00\">misunderstood-sweep-17</strong> at: <a href='https://wandb.ai/nalex22-uv-j02/multispec-leaf-disease-sweeps/runs/bzxvhox9' target=\"_blank\">https://wandb.ai/nalex22-uv-j02/multispec-leaf-disease-sweeps/runs/bzxvhox9</a><br/> View project at: <a href='https://wandb.ai/nalex22-uv-j02/multispec-leaf-disease-sweeps' target=\"_blank\">https://wandb.ai/nalex22-uv-j02/multispec-leaf-disease-sweeps</a><br/>Synced 5 W&B file(s), 0 media file(s), 0 artifact file(s) and 0 other file(s)"
            ],
            "text/plain": [
              "<IPython.core.display.HTML object>"
            ]
          },
          "metadata": {},
          "output_type": "display_data"
        },
        {
          "data": {
            "text/html": [
              "Find logs at: <code>./wandb/run-20240517_152425-bzxvhox9/logs</code>"
            ],
            "text/plain": [
              "<IPython.core.display.HTML object>"
            ]
          },
          "metadata": {},
          "output_type": "display_data"
        },
        {
          "metadata": {
            "tags": null
          },
          "name": "stderr",
          "output_type": "stream",
          "text": [
            "\u001b[34m\u001b[1mwandb\u001b[0m: Agent Starting Run: gbkprws9 with config:\n",
            "\u001b[34m\u001b[1mwandb\u001b[0m: \tbatch_size: 8\n",
            "\u001b[34m\u001b[1mwandb\u001b[0m: \tbetta_1: 0.5990633105257885\n",
            "\u001b[34m\u001b[1mwandb\u001b[0m: \tbetta_2: 0.7258278087455539\n",
            "\u001b[34m\u001b[1mwandb\u001b[0m: \tclass_weight_0: 2.2921386960295353\n",
            "\u001b[34m\u001b[1mwandb\u001b[0m: \tclass_weight_1: 41.50334048905151\n",
            "\u001b[34m\u001b[1mwandb\u001b[0m: \tepochs: 5\n",
            "\u001b[34m\u001b[1mwandb\u001b[0m: \tfocal_alpha: 0.6399798669499273\n",
            "\u001b[34m\u001b[1mwandb\u001b[0m: \tfocal_gamma: 2.573816155558646\n",
            "\u001b[34m\u001b[1mwandb\u001b[0m: \tlearning_rate: 0.0009741386267502252\n",
            "\u001b[34m\u001b[1mwandb\u001b[0m: \tnum_warmup_steps: 139\n",
            "\u001b[34m\u001b[1mwandb\u001b[0m: \tobjective: FocalLoss\n",
            "\u001b[34m\u001b[1mwandb\u001b[0m: \tsmooth: 1.0294312947951731\n",
            "\u001b[34m\u001b[1mwandb\u001b[0m: \ttversky_alpha: 0.742478931375277\n",
            "\u001b[34m\u001b[1mwandb\u001b[0m: \ttversky_betta: 0.5715762755792649\n",
            "\u001b[34m\u001b[1mwandb\u001b[0m: \tweight_decay: 0.8999223691279095\n"
          ]
        },
        {
          "data": {
            "text/html": [
              "Tracking run with wandb version 0.17.0"
            ],
            "text/plain": [
              "<IPython.core.display.HTML object>"
            ]
          },
          "metadata": {},
          "output_type": "display_data"
        },
        {
          "data": {
            "text/html": [
              "Run data is saved locally in <code>/content/wandb/run-20240517_153212-gbkprws9</code>"
            ],
            "text/plain": [
              "<IPython.core.display.HTML object>"
            ]
          },
          "metadata": {},
          "output_type": "display_data"
        },
        {
          "data": {
            "text/html": [
              "Syncing run <strong><a href='https://wandb.ai/nalex22-uv-j02/multispec-leaf-disease-sweeps/runs/gbkprws9' target=\"_blank\">amber-sweep-18</a></strong> to <a href='https://wandb.ai/nalex22-uv-j02/multispec-leaf-disease-sweeps' target=\"_blank\">Weights & Biases</a> (<a href='https://wandb.me/run' target=\"_blank\">docs</a>)<br/>Sweep page: <a href='https://wandb.ai/nalex22-uv-j02/multispec-leaf-disease-sweeps/sweeps/kz96xpi3' target=\"_blank\">https://wandb.ai/nalex22-uv-j02/multispec-leaf-disease-sweeps/sweeps/kz96xpi3</a>"
            ],
            "text/plain": [
              "<IPython.core.display.HTML object>"
            ]
          },
          "metadata": {},
          "output_type": "display_data"
        },
        {
          "data": {
            "text/html": [
              " View project at <a href='https://wandb.ai/nalex22-uv-j02/multispec-leaf-disease-sweeps' target=\"_blank\">https://wandb.ai/nalex22-uv-j02/multispec-leaf-disease-sweeps</a>"
            ],
            "text/plain": [
              "<IPython.core.display.HTML object>"
            ]
          },
          "metadata": {},
          "output_type": "display_data"
        },
        {
          "data": {
            "text/html": [
              " View sweep at <a href='https://wandb.ai/nalex22-uv-j02/multispec-leaf-disease-sweeps/sweeps/kz96xpi3' target=\"_blank\">https://wandb.ai/nalex22-uv-j02/multispec-leaf-disease-sweeps/sweeps/kz96xpi3</a>"
            ],
            "text/plain": [
              "<IPython.core.display.HTML object>"
            ]
          },
          "metadata": {},
          "output_type": "display_data"
        },
        {
          "data": {
            "text/html": [
              " View run at <a href='https://wandb.ai/nalex22-uv-j02/multispec-leaf-disease-sweeps/runs/gbkprws9' target=\"_blank\">https://wandb.ai/nalex22-uv-j02/multispec-leaf-disease-sweeps/runs/gbkprws9</a>"
            ],
            "text/plain": [
              "<IPython.core.display.HTML object>"
            ]
          },
          "metadata": {},
          "output_type": "display_data"
        },
        {
          "metadata": {
            "tags": null
          },
          "name": "stderr",
          "output_type": "stream",
          "text": [
            "/usr/local/lib/python3.10/dist-packages/huggingface_hub/file_download.py:1132: FutureWarning: `resume_download` is deprecated and will be removed in version 1.0.0. Downloads always resume when possible. If you want to force a new download, use `force_download=True`.\n",
            "  warnings.warn(\n",
            "Some weights of SegformerForSemanticSegmentation were not initialized from the model checkpoint at nvidia/mit-b2 and are newly initialized: ['decode_head.batch_norm.bias', 'decode_head.batch_norm.num_batches_tracked', 'decode_head.batch_norm.running_mean', 'decode_head.batch_norm.running_var', 'decode_head.batch_norm.weight', 'decode_head.classifier.bias', 'decode_head.classifier.weight', 'decode_head.linear_c.0.proj.bias', 'decode_head.linear_c.0.proj.weight', 'decode_head.linear_c.1.proj.bias', 'decode_head.linear_c.1.proj.weight', 'decode_head.linear_c.2.proj.bias', 'decode_head.linear_c.2.proj.weight', 'decode_head.linear_c.3.proj.bias', 'decode_head.linear_c.3.proj.weight', 'decode_head.linear_fuse.weight']\n",
            "You should probably TRAIN this model on a down-stream task to be able to use it for predictions and inference.\n",
            "\u001b[34m\u001b[1mwandb\u001b[0m: \u001b[33mWARNING\u001b[0m Config item 'learning_rate' was locked by 'sweep' (ignored update).\n",
            "\u001b[34m\u001b[1mwandb\u001b[0m: \u001b[33mWARNING\u001b[0m Config item 'weight_decay' was locked by 'sweep' (ignored update).\n"
          ]
        },
        {
          "data": {
            "text/html": [
              "\n",
              "    <div>\n",
              "      \n",
              "      <progress value='595' max='595' style='width:300px; height:20px; vertical-align: middle;'></progress>\n",
              "      [595/595 07:20, Epoch 5/5]\n",
              "    </div>\n",
              "    <table border=\"1\" class=\"dataframe\">\n",
              "  <thead>\n",
              " <tr style=\"text-align: left;\">\n",
              "      <th>Epoch</th>\n",
              "      <th>Training Loss</th>\n",
              "      <th>Validation Loss</th>\n",
              "      <th>Iou</th>\n",
              "      <th>Dice</th>\n",
              "      <th>Kappa Score</th>\n",
              "      <th>Mean</th>\n",
              "    </tr>\n",
              "  </thead>\n",
              "  <tbody>\n",
              "    <tr>\n",
              "      <td>1</td>\n",
              "      <td>0.019600</td>\n",
              "      <td>0.004653</td>\n",
              "      <td>0.064883</td>\n",
              "      <td>0.121859</td>\n",
              "      <td>0.119332</td>\n",
              "      <td>0.092108</td>\n",
              "    </tr>\n",
              "    <tr>\n",
              "      <td>2</td>\n",
              "      <td>0.002400</td>\n",
              "      <td>0.002087</td>\n",
              "      <td>0.297965</td>\n",
              "      <td>0.459126</td>\n",
              "      <td>0.456145</td>\n",
              "      <td>0.377055</td>\n",
              "    </tr>\n",
              "    <tr>\n",
              "      <td>3</td>\n",
              "      <td>0.001800</td>\n",
              "      <td>0.001975</td>\n",
              "      <td>0.320502</td>\n",
              "      <td>0.485424</td>\n",
              "      <td>0.482279</td>\n",
              "      <td>0.401390</td>\n",
              "    </tr>\n",
              "    <tr>\n",
              "      <td>4</td>\n",
              "      <td>0.001500</td>\n",
              "      <td>0.001901</td>\n",
              "      <td>0.361757</td>\n",
              "      <td>0.531309</td>\n",
              "      <td>0.528515</td>\n",
              "      <td>0.445136</td>\n",
              "    </tr>\n",
              "    <tr>\n",
              "      <td>5</td>\n",
              "      <td>0.001400</td>\n",
              "      <td>0.002068</td>\n",
              "      <td>0.377426</td>\n",
              "      <td>0.548016</td>\n",
              "      <td>0.545225</td>\n",
              "      <td>0.461325</td>\n",
              "    </tr>\n",
              "  </tbody>\n",
              "</table><p>"
            ],
            "text/plain": [
              "<IPython.core.display.HTML object>"
            ]
          },
          "metadata": {},
          "output_type": "display_data"
        },
        {
          "metadata": {
            "tags": null
          },
          "name": "stdout",
          "output_type": "stream",
          "text": [
            "Mean: 0.09210750096778123\n",
            "IoU: 0.06488285366271525\n",
            "Dice: 0.12185913866402785\n",
            "kappa: 0.11933214827284722\n",
            "Mean: 0.3770547628119562\n",
            "IoU: 0.2979649448049212\n",
            "Dice: 0.4591263361888469\n",
            "kappa: 0.45614458081899123\n",
            "Mean: 0.4013902344258752\n",
            "IoU: 0.3205018135704693\n",
            "Dice: 0.48542426867839444\n",
            "kappa: 0.482278655281281\n",
            "Mean: 0.445135878854906\n",
            "IoU: 0.36175676797874107\n",
            "Dice: 0.5313089334091543\n",
            "kappa: 0.528514989731071\n",
            "Mean: 0.4613252887985735\n",
            "IoU: 0.37742587313118486\n",
            "Dice: 0.5480162388313714\n",
            "kappa: 0.545224704465962\n"
          ]
        },
        {
          "data": {
            "application/vnd.jupyter.widget-view+json": {
              "model_id": "3df42ed2b1c34b48987f759e8a11981e",
              "version_major": 2,
              "version_minor": 0
            },
            "text/plain": [
              "VBox(children=(Label(value='0.002 MB of 0.002 MB uploaded\\r'), FloatProgress(value=1.0, max=1.0)))"
            ]
          },
          "metadata": {},
          "output_type": "display_data"
        },
        {
          "data": {
            "text/html": [
              "<style>\n",
              "    table.wandb td:nth-child(1) { padding: 0 10px; text-align: left ; width: auto;} td:nth-child(2) {text-align: left ; width: 100%}\n",
              "    .wandb-row { display: flex; flex-direction: row; flex-wrap: wrap; justify-content: flex-start; width: 100% }\n",
              "    .wandb-col { display: flex; flex-direction: column; flex-basis: 100%; flex: 1; padding: 10px; }\n",
              "    </style>\n",
              "<div class=\"wandb-row\"><div class=\"wandb-col\"><h3>Run history:</h3><br/><table class=\"wandb\"><tr><td>eval/Dice</td><td>▁▇▇██</td></tr><tr><td>eval/IoU</td><td>▁▆▇██</td></tr><tr><td>eval/kappa_score</td><td>▁▇▇██</td></tr><tr><td>eval/loss</td><td>█▁▁▁▁</td></tr><tr><td>eval/mean</td><td>▁▆▇██</td></tr><tr><td>eval/runtime</td><td>▅▅█▇▁</td></tr><tr><td>eval/samples_per_second</td><td>▄▄▁▂█</td></tr><tr><td>eval/steps_per_second</td><td>▄▄▁▂█</td></tr><tr><td>train/epoch</td><td>▁▁▃▃▅▅▆▆███</td></tr><tr><td>train/global_step</td><td>▁▁▃▃▅▅▆▆███</td></tr><tr><td>train/grad_norm</td><td>█▂▃▁▁</td></tr><tr><td>train/learning_rate</td><td>█▇▅▃▁</td></tr><tr><td>train/loss</td><td>█▁▁▁▁</td></tr></table><br/></div><div class=\"wandb-col\"><h3>Run summary:</h3><br/><table class=\"wandb\"><tr><td>eval/Dice</td><td>0.54802</td></tr><tr><td>eval/IoU</td><td>0.37743</td></tr><tr><td>eval/kappa_score</td><td>0.54522</td></tr><tr><td>eval/loss</td><td>0.00207</td></tr><tr><td>eval/mean</td><td>0.46133</td></tr><tr><td>eval/runtime</td><td>43.2188</td></tr><tr><td>eval/samples_per_second</td><td>4.859</td></tr><tr><td>eval/steps_per_second</td><td>0.625</td></tr><tr><td>total_flos</td><td>1.219893043396608e+18</td></tr><tr><td>train/epoch</td><td>5.0</td></tr><tr><td>train/global_step</td><td>595</td></tr><tr><td>train/grad_norm</td><td>0.00357</td></tr><tr><td>train/learning_rate</td><td>0.0</td></tr><tr><td>train/loss</td><td>0.0014</td></tr><tr><td>train_loss</td><td>0.00534</td></tr><tr><td>train_runtime</td><td>441.1624</td></tr><tr><td>train_samples_per_second</td><td>10.71</td></tr><tr><td>train_steps_per_second</td><td>1.349</td></tr></table><br/></div></div>"
            ],
            "text/plain": [
              "<IPython.core.display.HTML object>"
            ]
          },
          "metadata": {},
          "output_type": "display_data"
        },
        {
          "data": {
            "text/html": [
              " View run <strong style=\"color:#cdcd00\">amber-sweep-18</strong> at: <a href='https://wandb.ai/nalex22-uv-j02/multispec-leaf-disease-sweeps/runs/gbkprws9' target=\"_blank\">https://wandb.ai/nalex22-uv-j02/multispec-leaf-disease-sweeps/runs/gbkprws9</a><br/> View project at: <a href='https://wandb.ai/nalex22-uv-j02/multispec-leaf-disease-sweeps' target=\"_blank\">https://wandb.ai/nalex22-uv-j02/multispec-leaf-disease-sweeps</a><br/>Synced 5 W&B file(s), 0 media file(s), 0 artifact file(s) and 0 other file(s)"
            ],
            "text/plain": [
              "<IPython.core.display.HTML object>"
            ]
          },
          "metadata": {},
          "output_type": "display_data"
        },
        {
          "data": {
            "text/html": [
              "Find logs at: <code>./wandb/run-20240517_153212-gbkprws9/logs</code>"
            ],
            "text/plain": [
              "<IPython.core.display.HTML object>"
            ]
          },
          "metadata": {},
          "output_type": "display_data"
        },
        {
          "metadata": {
            "tags": null
          },
          "name": "stderr",
          "output_type": "stream",
          "text": [
            "\u001b[34m\u001b[1mwandb\u001b[0m: Agent Starting Run: abndnoio with config:\n",
            "\u001b[34m\u001b[1mwandb\u001b[0m: \tbatch_size: 8\n",
            "\u001b[34m\u001b[1mwandb\u001b[0m: \tbetta_1: 0.816961729985433\n",
            "\u001b[34m\u001b[1mwandb\u001b[0m: \tbetta_2: 0.7148589352765135\n",
            "\u001b[34m\u001b[1mwandb\u001b[0m: \tclass_weight_0: 1.6063677536340042\n",
            "\u001b[34m\u001b[1mwandb\u001b[0m: \tclass_weight_1: 43.574798491274166\n",
            "\u001b[34m\u001b[1mwandb\u001b[0m: \tepochs: 5\n",
            "\u001b[34m\u001b[1mwandb\u001b[0m: \tfocal_alpha: 0.6499670240028008\n",
            "\u001b[34m\u001b[1mwandb\u001b[0m: \tfocal_gamma: 3.8203615276006047\n",
            "\u001b[34m\u001b[1mwandb\u001b[0m: \tlearning_rate: 0.0009171434901424866\n",
            "\u001b[34m\u001b[1mwandb\u001b[0m: \tnum_warmup_steps: 120\n",
            "\u001b[34m\u001b[1mwandb\u001b[0m: \tobjective: TverskyLoss\n",
            "\u001b[34m\u001b[1mwandb\u001b[0m: \tsmooth: 0.4142647024275159\n",
            "\u001b[34m\u001b[1mwandb\u001b[0m: \ttversky_alpha: 0.4629530747109762\n",
            "\u001b[34m\u001b[1mwandb\u001b[0m: \ttversky_betta: 0.8618804534540281\n",
            "\u001b[34m\u001b[1mwandb\u001b[0m: \tweight_decay: 0.965293557191436\n"
          ]
        },
        {
          "data": {
            "text/html": [
              "Tracking run with wandb version 0.17.0"
            ],
            "text/plain": [
              "<IPython.core.display.HTML object>"
            ]
          },
          "metadata": {},
          "output_type": "display_data"
        },
        {
          "data": {
            "text/html": [
              "Run data is saved locally in <code>/content/wandb/run-20240517_153958-abndnoio</code>"
            ],
            "text/plain": [
              "<IPython.core.display.HTML object>"
            ]
          },
          "metadata": {},
          "output_type": "display_data"
        },
        {
          "data": {
            "text/html": [
              "Syncing run <strong><a href='https://wandb.ai/nalex22-uv-j02/multispec-leaf-disease-sweeps/runs/abndnoio' target=\"_blank\">fast-sweep-19</a></strong> to <a href='https://wandb.ai/nalex22-uv-j02/multispec-leaf-disease-sweeps' target=\"_blank\">Weights & Biases</a> (<a href='https://wandb.me/run' target=\"_blank\">docs</a>)<br/>Sweep page: <a href='https://wandb.ai/nalex22-uv-j02/multispec-leaf-disease-sweeps/sweeps/kz96xpi3' target=\"_blank\">https://wandb.ai/nalex22-uv-j02/multispec-leaf-disease-sweeps/sweeps/kz96xpi3</a>"
            ],
            "text/plain": [
              "<IPython.core.display.HTML object>"
            ]
          },
          "metadata": {},
          "output_type": "display_data"
        },
        {
          "data": {
            "text/html": [
              " View project at <a href='https://wandb.ai/nalex22-uv-j02/multispec-leaf-disease-sweeps' target=\"_blank\">https://wandb.ai/nalex22-uv-j02/multispec-leaf-disease-sweeps</a>"
            ],
            "text/plain": [
              "<IPython.core.display.HTML object>"
            ]
          },
          "metadata": {},
          "output_type": "display_data"
        },
        {
          "data": {
            "text/html": [
              " View sweep at <a href='https://wandb.ai/nalex22-uv-j02/multispec-leaf-disease-sweeps/sweeps/kz96xpi3' target=\"_blank\">https://wandb.ai/nalex22-uv-j02/multispec-leaf-disease-sweeps/sweeps/kz96xpi3</a>"
            ],
            "text/plain": [
              "<IPython.core.display.HTML object>"
            ]
          },
          "metadata": {},
          "output_type": "display_data"
        },
        {
          "data": {
            "text/html": [
              " View run at <a href='https://wandb.ai/nalex22-uv-j02/multispec-leaf-disease-sweeps/runs/abndnoio' target=\"_blank\">https://wandb.ai/nalex22-uv-j02/multispec-leaf-disease-sweeps/runs/abndnoio</a>"
            ],
            "text/plain": [
              "<IPython.core.display.HTML object>"
            ]
          },
          "metadata": {},
          "output_type": "display_data"
        },
        {
          "metadata": {
            "tags": null
          },
          "name": "stderr",
          "output_type": "stream",
          "text": [
            "/usr/local/lib/python3.10/dist-packages/huggingface_hub/file_download.py:1132: FutureWarning: `resume_download` is deprecated and will be removed in version 1.0.0. Downloads always resume when possible. If you want to force a new download, use `force_download=True`.\n",
            "  warnings.warn(\n",
            "Some weights of SegformerForSemanticSegmentation were not initialized from the model checkpoint at nvidia/mit-b2 and are newly initialized: ['decode_head.batch_norm.bias', 'decode_head.batch_norm.num_batches_tracked', 'decode_head.batch_norm.running_mean', 'decode_head.batch_norm.running_var', 'decode_head.batch_norm.weight', 'decode_head.classifier.bias', 'decode_head.classifier.weight', 'decode_head.linear_c.0.proj.bias', 'decode_head.linear_c.0.proj.weight', 'decode_head.linear_c.1.proj.bias', 'decode_head.linear_c.1.proj.weight', 'decode_head.linear_c.2.proj.bias', 'decode_head.linear_c.2.proj.weight', 'decode_head.linear_c.3.proj.bias', 'decode_head.linear_c.3.proj.weight', 'decode_head.linear_fuse.weight']\n",
            "You should probably TRAIN this model on a down-stream task to be able to use it for predictions and inference.\n",
            "\u001b[34m\u001b[1mwandb\u001b[0m: \u001b[33mWARNING\u001b[0m Config item 'learning_rate' was locked by 'sweep' (ignored update).\n",
            "\u001b[34m\u001b[1mwandb\u001b[0m: \u001b[33mWARNING\u001b[0m Config item 'weight_decay' was locked by 'sweep' (ignored update).\n"
          ]
        },
        {
          "data": {
            "text/html": [
              "\n",
              "    <div>\n",
              "      \n",
              "      <progress value='595' max='595' style='width:300px; height:20px; vertical-align: middle;'></progress>\n",
              "      [595/595 07:20, Epoch 5/5]\n",
              "    </div>\n",
              "    <table border=\"1\" class=\"dataframe\">\n",
              "  <thead>\n",
              " <tr style=\"text-align: left;\">\n",
              "      <th>Epoch</th>\n",
              "      <th>Training Loss</th>\n",
              "      <th>Validation Loss</th>\n",
              "      <th>Iou</th>\n",
              "      <th>Dice</th>\n",
              "      <th>Kappa Score</th>\n",
              "      <th>Mean</th>\n",
              "    </tr>\n",
              "  </thead>\n",
              "  <tbody>\n",
              "    <tr>\n",
              "      <td>1</td>\n",
              "      <td>0.867400</td>\n",
              "      <td>0.692429</td>\n",
              "      <td>0.238090</td>\n",
              "      <td>0.384609</td>\n",
              "      <td>0.379942</td>\n",
              "      <td>0.309016</td>\n",
              "    </tr>\n",
              "    <tr>\n",
              "      <td>2</td>\n",
              "      <td>0.573500</td>\n",
              "      <td>0.618680</td>\n",
              "      <td>0.299163</td>\n",
              "      <td>0.460547</td>\n",
              "      <td>0.456604</td>\n",
              "      <td>0.377884</td>\n",
              "    </tr>\n",
              "    <tr>\n",
              "      <td>3</td>\n",
              "      <td>0.492300</td>\n",
              "      <td>0.569683</td>\n",
              "      <td>0.348573</td>\n",
              "      <td>0.516951</td>\n",
              "      <td>0.513410</td>\n",
              "      <td>0.430991</td>\n",
              "    </tr>\n",
              "    <tr>\n",
              "      <td>4</td>\n",
              "      <td>0.459800</td>\n",
              "      <td>0.546656</td>\n",
              "      <td>0.367094</td>\n",
              "      <td>0.537043</td>\n",
              "      <td>0.533641</td>\n",
              "      <td>0.450368</td>\n",
              "    </tr>\n",
              "    <tr>\n",
              "      <td>5</td>\n",
              "      <td>0.432700</td>\n",
              "      <td>0.536266</td>\n",
              "      <td>0.380724</td>\n",
              "      <td>0.551485</td>\n",
              "      <td>0.548313</td>\n",
              "      <td>0.464519</td>\n",
              "    </tr>\n",
              "  </tbody>\n",
              "</table><p>"
            ],
            "text/plain": [
              "<IPython.core.display.HTML object>"
            ]
          },
          "metadata": {},
          "output_type": "display_data"
        },
        {
          "metadata": {
            "tags": null
          },
          "name": "stdout",
          "output_type": "stream",
          "text": [
            "Mean: 0.3090163265881169\n",
            "IoU: 0.23809020717402474\n",
            "Dice: 0.38460882057612306\n",
            "kappa: 0.37994244600220906\n",
            "Mean: 0.3778835927569236\n",
            "IoU: 0.2991630095895506\n",
            "Dice: 0.4605473021958442\n",
            "kappa: 0.4566041759242967\n",
            "Mean: 0.4309914443586337\n",
            "IoU: 0.3485733713591592\n",
            "Dice: 0.5169512890616396\n",
            "kappa: 0.5134095173581081\n",
            "Mean: 0.45036751979596124\n",
            "IoU: 0.3670939928526859\n",
            "Dice: 0.5370427999419098\n",
            "kappa: 0.5336410467392366\n",
            "Mean: 0.4645186297288701\n",
            "IoU: 0.3807244467627998\n",
            "Dice: 0.5514850521484335\n",
            "kappa: 0.5483128126949404\n"
          ]
        },
        {
          "data": {
            "application/vnd.jupyter.widget-view+json": {
              "model_id": "567a2534ba884968a690389ddf224dc1",
              "version_major": 2,
              "version_minor": 0
            },
            "text/plain": [
              "VBox(children=(Label(value='0.002 MB of 0.002 MB uploaded\\r'), FloatProgress(value=1.0, max=1.0)))"
            ]
          },
          "metadata": {},
          "output_type": "display_data"
        },
        {
          "data": {
            "text/html": [
              "<style>\n",
              "    table.wandb td:nth-child(1) { padding: 0 10px; text-align: left ; width: auto;} td:nth-child(2) {text-align: left ; width: 100%}\n",
              "    .wandb-row { display: flex; flex-direction: row; flex-wrap: wrap; justify-content: flex-start; width: 100% }\n",
              "    .wandb-col { display: flex; flex-direction: column; flex-basis: 100%; flex: 1; padding: 10px; }\n",
              "    </style>\n",
              "<div class=\"wandb-row\"><div class=\"wandb-col\"><h3>Run history:</h3><br/><table class=\"wandb\"><tr><td>eval/Dice</td><td>▁▄▇▇█</td></tr><tr><td>eval/IoU</td><td>▁▄▆▇█</td></tr><tr><td>eval/kappa_score</td><td>▁▄▇▇█</td></tr><tr><td>eval/loss</td><td>█▅▂▁▁</td></tr><tr><td>eval/mean</td><td>▁▄▆▇█</td></tr><tr><td>eval/runtime</td><td>▂▁▆█▇</td></tr><tr><td>eval/samples_per_second</td><td>▇█▃▁▂</td></tr><tr><td>eval/steps_per_second</td><td>██▄▁▂</td></tr><tr><td>train/epoch</td><td>▁▁▃▃▅▅▆▆███</td></tr><tr><td>train/global_step</td><td>▁▁▃▃▅▅▆▆███</td></tr><tr><td>train/grad_norm</td><td>▃▆▂█▁</td></tr><tr><td>train/learning_rate</td><td>█▆▄▃▁</td></tr><tr><td>train/loss</td><td>█▃▂▁▁</td></tr></table><br/></div><div class=\"wandb-col\"><h3>Run summary:</h3><br/><table class=\"wandb\"><tr><td>eval/Dice</td><td>0.55149</td></tr><tr><td>eval/IoU</td><td>0.38072</td></tr><tr><td>eval/kappa_score</td><td>0.54831</td></tr><tr><td>eval/loss</td><td>0.53627</td></tr><tr><td>eval/mean</td><td>0.46452</td></tr><tr><td>eval/runtime</td><td>43.5523</td></tr><tr><td>eval/samples_per_second</td><td>4.822</td></tr><tr><td>eval/steps_per_second</td><td>0.62</td></tr><tr><td>total_flos</td><td>1.219893043396608e+18</td></tr><tr><td>train/epoch</td><td>5.0</td></tr><tr><td>train/global_step</td><td>595</td></tr><tr><td>train/grad_norm</td><td>0.83094</td></tr><tr><td>train/learning_rate</td><td>0.0</td></tr><tr><td>train/loss</td><td>0.4327</td></tr><tr><td>train_loss</td><td>0.56516</td></tr><tr><td>train_runtime</td><td>441.1413</td></tr><tr><td>train_samples_per_second</td><td>10.711</td></tr><tr><td>train_steps_per_second</td><td>1.349</td></tr></table><br/></div></div>"
            ],
            "text/plain": [
              "<IPython.core.display.HTML object>"
            ]
          },
          "metadata": {},
          "output_type": "display_data"
        },
        {
          "data": {
            "text/html": [
              " View run <strong style=\"color:#cdcd00\">fast-sweep-19</strong> at: <a href='https://wandb.ai/nalex22-uv-j02/multispec-leaf-disease-sweeps/runs/abndnoio' target=\"_blank\">https://wandb.ai/nalex22-uv-j02/multispec-leaf-disease-sweeps/runs/abndnoio</a><br/> View project at: <a href='https://wandb.ai/nalex22-uv-j02/multispec-leaf-disease-sweeps' target=\"_blank\">https://wandb.ai/nalex22-uv-j02/multispec-leaf-disease-sweeps</a><br/>Synced 5 W&B file(s), 0 media file(s), 0 artifact file(s) and 0 other file(s)"
            ],
            "text/plain": [
              "<IPython.core.display.HTML object>"
            ]
          },
          "metadata": {},
          "output_type": "display_data"
        },
        {
          "data": {
            "text/html": [
              "Find logs at: <code>./wandb/run-20240517_153958-abndnoio/logs</code>"
            ],
            "text/plain": [
              "<IPython.core.display.HTML object>"
            ]
          },
          "metadata": {},
          "output_type": "display_data"
        },
        {
          "metadata": {
            "tags": null
          },
          "name": "stderr",
          "output_type": "stream",
          "text": [
            "\u001b[34m\u001b[1mwandb\u001b[0m: Agent Starting Run: roxacseu with config:\n",
            "\u001b[34m\u001b[1mwandb\u001b[0m: \tbatch_size: 8\n",
            "\u001b[34m\u001b[1mwandb\u001b[0m: \tbetta_1: 0.7473022457423206\n",
            "\u001b[34m\u001b[1mwandb\u001b[0m: \tbetta_2: 0.6663424604899317\n",
            "\u001b[34m\u001b[1mwandb\u001b[0m: \tclass_weight_0: 1.439485631801926\n",
            "\u001b[34m\u001b[1mwandb\u001b[0m: \tclass_weight_1: 45.92980593755469\n",
            "\u001b[34m\u001b[1mwandb\u001b[0m: \tepochs: 5\n",
            "\u001b[34m\u001b[1mwandb\u001b[0m: \tfocal_alpha: 0.7994194148942064\n",
            "\u001b[34m\u001b[1mwandb\u001b[0m: \tfocal_gamma: 2.566275395775653\n",
            "\u001b[34m\u001b[1mwandb\u001b[0m: \tlearning_rate: 0.0008168023387397251\n",
            "\u001b[34m\u001b[1mwandb\u001b[0m: \tnum_warmup_steps: 127\n",
            "\u001b[34m\u001b[1mwandb\u001b[0m: \tobjective: LovaszLoss\n",
            "\u001b[34m\u001b[1mwandb\u001b[0m: \tsmooth: 0.7365133374178976\n",
            "\u001b[34m\u001b[1mwandb\u001b[0m: \ttversky_alpha: 0.6945701554439949\n",
            "\u001b[34m\u001b[1mwandb\u001b[0m: \ttversky_betta: 0.46655044974013427\n",
            "\u001b[34m\u001b[1mwandb\u001b[0m: \tweight_decay: 1.074939417815559\n"
          ]
        },
        {
          "data": {
            "text/html": [
              "Tracking run with wandb version 0.17.0"
            ],
            "text/plain": [
              "<IPython.core.display.HTML object>"
            ]
          },
          "metadata": {},
          "output_type": "display_data"
        },
        {
          "data": {
            "text/html": [
              "Run data is saved locally in <code>/content/wandb/run-20240517_154745-roxacseu</code>"
            ],
            "text/plain": [
              "<IPython.core.display.HTML object>"
            ]
          },
          "metadata": {},
          "output_type": "display_data"
        },
        {
          "data": {
            "text/html": [
              "Syncing run <strong><a href='https://wandb.ai/nalex22-uv-j02/multispec-leaf-disease-sweeps/runs/roxacseu' target=\"_blank\">jumping-sweep-20</a></strong> to <a href='https://wandb.ai/nalex22-uv-j02/multispec-leaf-disease-sweeps' target=\"_blank\">Weights & Biases</a> (<a href='https://wandb.me/run' target=\"_blank\">docs</a>)<br/>Sweep page: <a href='https://wandb.ai/nalex22-uv-j02/multispec-leaf-disease-sweeps/sweeps/kz96xpi3' target=\"_blank\">https://wandb.ai/nalex22-uv-j02/multispec-leaf-disease-sweeps/sweeps/kz96xpi3</a>"
            ],
            "text/plain": [
              "<IPython.core.display.HTML object>"
            ]
          },
          "metadata": {},
          "output_type": "display_data"
        },
        {
          "data": {
            "text/html": [
              " View project at <a href='https://wandb.ai/nalex22-uv-j02/multispec-leaf-disease-sweeps' target=\"_blank\">https://wandb.ai/nalex22-uv-j02/multispec-leaf-disease-sweeps</a>"
            ],
            "text/plain": [
              "<IPython.core.display.HTML object>"
            ]
          },
          "metadata": {},
          "output_type": "display_data"
        },
        {
          "data": {
            "text/html": [
              " View sweep at <a href='https://wandb.ai/nalex22-uv-j02/multispec-leaf-disease-sweeps/sweeps/kz96xpi3' target=\"_blank\">https://wandb.ai/nalex22-uv-j02/multispec-leaf-disease-sweeps/sweeps/kz96xpi3</a>"
            ],
            "text/plain": [
              "<IPython.core.display.HTML object>"
            ]
          },
          "metadata": {},
          "output_type": "display_data"
        },
        {
          "data": {
            "text/html": [
              " View run at <a href='https://wandb.ai/nalex22-uv-j02/multispec-leaf-disease-sweeps/runs/roxacseu' target=\"_blank\">https://wandb.ai/nalex22-uv-j02/multispec-leaf-disease-sweeps/runs/roxacseu</a>"
            ],
            "text/plain": [
              "<IPython.core.display.HTML object>"
            ]
          },
          "metadata": {},
          "output_type": "display_data"
        },
        {
          "metadata": {
            "tags": null
          },
          "name": "stderr",
          "output_type": "stream",
          "text": [
            "/usr/local/lib/python3.10/dist-packages/huggingface_hub/file_download.py:1132: FutureWarning: `resume_download` is deprecated and will be removed in version 1.0.0. Downloads always resume when possible. If you want to force a new download, use `force_download=True`.\n",
            "  warnings.warn(\n",
            "Some weights of SegformerForSemanticSegmentation were not initialized from the model checkpoint at nvidia/mit-b2 and are newly initialized: ['decode_head.batch_norm.bias', 'decode_head.batch_norm.num_batches_tracked', 'decode_head.batch_norm.running_mean', 'decode_head.batch_norm.running_var', 'decode_head.batch_norm.weight', 'decode_head.classifier.bias', 'decode_head.classifier.weight', 'decode_head.linear_c.0.proj.bias', 'decode_head.linear_c.0.proj.weight', 'decode_head.linear_c.1.proj.bias', 'decode_head.linear_c.1.proj.weight', 'decode_head.linear_c.2.proj.bias', 'decode_head.linear_c.2.proj.weight', 'decode_head.linear_c.3.proj.bias', 'decode_head.linear_c.3.proj.weight', 'decode_head.linear_fuse.weight']\n",
            "You should probably TRAIN this model on a down-stream task to be able to use it for predictions and inference.\n",
            "\u001b[34m\u001b[1mwandb\u001b[0m: \u001b[33mWARNING\u001b[0m Config item 'learning_rate' was locked by 'sweep' (ignored update).\n",
            "\u001b[34m\u001b[1mwandb\u001b[0m: \u001b[33mWARNING\u001b[0m Config item 'weight_decay' was locked by 'sweep' (ignored update).\n"
          ]
        },
        {
          "data": {
            "text/html": [
              "\n",
              "    <div>\n",
              "      \n",
              "      <progress value='595' max='595' style='width:300px; height:20px; vertical-align: middle;'></progress>\n",
              "      [595/595 06:33, Epoch 5/5]\n",
              "    </div>\n",
              "    <table border=\"1\" class=\"dataframe\">\n",
              "  <thead>\n",
              " <tr style=\"text-align: left;\">\n",
              "      <th>Epoch</th>\n",
              "      <th>Training Loss</th>\n",
              "      <th>Validation Loss</th>\n",
              "      <th>Iou</th>\n",
              "      <th>Dice</th>\n",
              "      <th>Kappa Score</th>\n",
              "      <th>Mean</th>\n",
              "    </tr>\n",
              "  </thead>\n",
              "  <tbody>\n",
              "    <tr>\n",
              "      <td>1</td>\n",
              "      <td>1.498400</td>\n",
              "      <td>1.067774</td>\n",
              "      <td>0</td>\n",
              "      <td>0</td>\n",
              "      <td>0</td>\n",
              "      <td>0</td>\n",
              "    </tr>\n",
              "    <tr>\n",
              "      <td>2</td>\n",
              "      <td>1.056500</td>\n",
              "      <td>1.054600</td>\n",
              "      <td>0.007074</td>\n",
              "      <td>0.014048</td>\n",
              "      <td>0.001371</td>\n",
              "      <td>0.004222</td>\n",
              "    </tr>\n",
              "    <tr>\n",
              "      <td>3</td>\n",
              "      <td>1.011600</td>\n",
              "      <td>1.034828</td>\n",
              "      <td>0.007074</td>\n",
              "      <td>0.014048</td>\n",
              "      <td>0.001371</td>\n",
              "      <td>0.004222</td>\n",
              "    </tr>\n",
              "    <tr>\n",
              "      <td>4</td>\n",
              "      <td>1.004500</td>\n",
              "      <td>1.011963</td>\n",
              "      <td>0.007074</td>\n",
              "      <td>0.014048</td>\n",
              "      <td>0.001371</td>\n",
              "      <td>0.004222</td>\n",
              "    </tr>\n",
              "    <tr>\n",
              "      <td>5</td>\n",
              "      <td>1.001000</td>\n",
              "      <td>1.000584</td>\n",
              "      <td>0.007140</td>\n",
              "      <td>0.014179</td>\n",
              "      <td>0.001507</td>\n",
              "      <td>0.004324</td>\n",
              "    </tr>\n",
              "  </tbody>\n",
              "</table><p>"
            ],
            "text/plain": [
              "<IPython.core.display.HTML object>"
            ]
          },
          "metadata": {},
          "output_type": "display_data"
        },
        {
          "metadata": {
            "tags": null
          },
          "name": "stdout",
          "output_type": "stream",
          "text": [
            "Mean: -7.991712560606601e-07\n",
            "IoU: 0.0\n",
            "Dice: 0.0\n",
            "kappa: -1.5983425121213202e-06\n",
            "Mean: 0.004222193299486856\n",
            "IoU: 0.0070737095749818625\n",
            "Dice: 0.014048047342964004\n",
            "kappa: 0.0013706770239918509\n",
            "Mean: 0.0\n",
            "IoU: 0.0\n",
            "Dice: 0.0\n",
            "kappa: 0.0\n",
            "Mean: 0.004179424596928668\n",
            "IoU: 0.007045092982074468\n",
            "Dice: 0.013991613744350715\n",
            "kappa: 0.0013137562117828683\n",
            "Mean: 0.004323700811540109\n",
            "IoU: 0.007140132266777809\n",
            "Dice: 0.014179024423756124\n",
            "kappa: 0.0015072693563024098\n"
          ]
        },
        {
          "data": {
            "application/vnd.jupyter.widget-view+json": {
              "model_id": "26b0eff7b34345f6b7fedfbce520da80",
              "version_major": 2,
              "version_minor": 0
            },
            "text/plain": [
              "VBox(children=(Label(value='0.002 MB of 0.016 MB uploaded\\r'), FloatProgress(value=0.13952638948073293, max=1.…"
            ]
          },
          "metadata": {},
          "output_type": "display_data"
        },
        {
          "data": {
            "text/html": [
              "<style>\n",
              "    table.wandb td:nth-child(1) { padding: 0 10px; text-align: left ; width: auto;} td:nth-child(2) {text-align: left ; width: 100%}\n",
              "    .wandb-row { display: flex; flex-direction: row; flex-wrap: wrap; justify-content: flex-start; width: 100% }\n",
              "    .wandb-col { display: flex; flex-direction: column; flex-basis: 100%; flex: 1; padding: 10px; }\n",
              "    </style>\n",
              "<div class=\"wandb-row\"><div class=\"wandb-col\"><h3>Run history:</h3><br/><table class=\"wandb\"><tr><td>eval/Dice</td><td>▁████</td></tr><tr><td>eval/IoU</td><td>▁████</td></tr><tr><td>eval/kappa_score</td><td>▁▇▇▇█</td></tr><tr><td>eval/loss</td><td>█▇▅▂▁</td></tr><tr><td>eval/mean</td><td>▁████</td></tr><tr><td>eval/runtime</td><td>█▁▁▁▁</td></tr><tr><td>eval/samples_per_second</td><td>▁████</td></tr><tr><td>eval/steps_per_second</td><td>▁████</td></tr><tr><td>train/epoch</td><td>▁▁▃▃▅▅▆▆███</td></tr><tr><td>train/global_step</td><td>▁▁▃▃▅▅▆▆███</td></tr><tr><td>train/grad_norm</td><td>▄▁█▁▂</td></tr><tr><td>train/learning_rate</td><td>█▇▅▃▁</td></tr><tr><td>train/loss</td><td>█▂▁▁▁</td></tr></table><br/></div><div class=\"wandb-col\"><h3>Run summary:</h3><br/><table class=\"wandb\"><tr><td>eval/Dice</td><td>0.01418</td></tr><tr><td>eval/IoU</td><td>0.00714</td></tr><tr><td>eval/kappa_score</td><td>0.00151</td></tr><tr><td>eval/loss</td><td>1.00058</td></tr><tr><td>eval/mean</td><td>0.00432</td></tr><tr><td>eval/runtime</td><td>31.6211</td></tr><tr><td>eval/samples_per_second</td><td>6.641</td></tr><tr><td>eval/steps_per_second</td><td>0.854</td></tr><tr><td>total_flos</td><td>1.219893043396608e+18</td></tr><tr><td>train/epoch</td><td>5.0</td></tr><tr><td>train/global_step</td><td>595</td></tr><tr><td>train/grad_norm</td><td>0.93665</td></tr><tr><td>train/learning_rate</td><td>0.0</td></tr><tr><td>train/loss</td><td>1.001</td></tr><tr><td>train_loss</td><td>1.1144</td></tr><tr><td>train_runtime</td><td>394.3876</td></tr><tr><td>train_samples_per_second</td><td>11.981</td></tr><tr><td>train_steps_per_second</td><td>1.509</td></tr></table><br/></div></div>"
            ],
            "text/plain": [
              "<IPython.core.display.HTML object>"
            ]
          },
          "metadata": {},
          "output_type": "display_data"
        },
        {
          "data": {
            "text/html": [
              " View run <strong style=\"color:#cdcd00\">jumping-sweep-20</strong> at: <a href='https://wandb.ai/nalex22-uv-j02/multispec-leaf-disease-sweeps/runs/roxacseu' target=\"_blank\">https://wandb.ai/nalex22-uv-j02/multispec-leaf-disease-sweeps/runs/roxacseu</a><br/> View project at: <a href='https://wandb.ai/nalex22-uv-j02/multispec-leaf-disease-sweeps' target=\"_blank\">https://wandb.ai/nalex22-uv-j02/multispec-leaf-disease-sweeps</a><br/>Synced 5 W&B file(s), 0 media file(s), 0 artifact file(s) and 0 other file(s)"
            ],
            "text/plain": [
              "<IPython.core.display.HTML object>"
            ]
          },
          "metadata": {},
          "output_type": "display_data"
        },
        {
          "data": {
            "text/html": [
              "Find logs at: <code>./wandb/run-20240517_154745-roxacseu/logs</code>"
            ],
            "text/plain": [
              "<IPython.core.display.HTML object>"
            ]
          },
          "metadata": {},
          "output_type": "display_data"
        },
        {
          "metadata": {
            "tags": null
          },
          "name": "stderr",
          "output_type": "stream",
          "text": [
            "\u001b[34m\u001b[1mwandb\u001b[0m: Sweep Agent: Waiting for job.\n",
            "\u001b[34m\u001b[1mwandb\u001b[0m: Job received.\n",
            "\u001b[34m\u001b[1mwandb\u001b[0m: Agent Starting Run: o2ck8r43 with config:\n",
            "\u001b[34m\u001b[1mwandb\u001b[0m: \tbatch_size: 8\n",
            "\u001b[34m\u001b[1mwandb\u001b[0m: \tbetta_1: 0.629881140625286\n",
            "\u001b[34m\u001b[1mwandb\u001b[0m: \tbetta_2: 0.762926155081574\n",
            "\u001b[34m\u001b[1mwandb\u001b[0m: \tclass_weight_0: 2.0494472977324336\n",
            "\u001b[34m\u001b[1mwandb\u001b[0m: \tclass_weight_1: 33.161879197158015\n",
            "\u001b[34m\u001b[1mwandb\u001b[0m: \tepochs: 5\n",
            "\u001b[34m\u001b[1mwandb\u001b[0m: \tfocal_alpha: 0.7925216398615187\n",
            "\u001b[34m\u001b[1mwandb\u001b[0m: \tfocal_gamma: 4.791973552104818\n",
            "\u001b[34m\u001b[1mwandb\u001b[0m: \tlearning_rate: 0.0008963872922448589\n",
            "\u001b[34m\u001b[1mwandb\u001b[0m: \tnum_warmup_steps: 178\n",
            "\u001b[34m\u001b[1mwandb\u001b[0m: \tobjective: TverskyLoss\n",
            "\u001b[34m\u001b[1mwandb\u001b[0m: \tsmooth: 0.3624678210640049\n",
            "\u001b[34m\u001b[1mwandb\u001b[0m: \ttversky_alpha: 0.904747394067856\n",
            "\u001b[34m\u001b[1mwandb\u001b[0m: \ttversky_betta: 0.3253667600103189\n",
            "\u001b[34m\u001b[1mwandb\u001b[0m: \tweight_decay: 0.011802090889183992\n"
          ]
        },
        {
          "data": {
            "text/html": [
              "Tracking run with wandb version 0.17.0"
            ],
            "text/plain": [
              "<IPython.core.display.HTML object>"
            ]
          },
          "metadata": {},
          "output_type": "display_data"
        },
        {
          "data": {
            "text/html": [
              "Run data is saved locally in <code>/content/wandb/run-20240517_155450-o2ck8r43</code>"
            ],
            "text/plain": [
              "<IPython.core.display.HTML object>"
            ]
          },
          "metadata": {},
          "output_type": "display_data"
        },
        {
          "data": {
            "text/html": [
              "Syncing run <strong><a href='https://wandb.ai/nalex22-uv-j02/multispec-leaf-disease-sweeps/runs/o2ck8r43' target=\"_blank\">grateful-sweep-21</a></strong> to <a href='https://wandb.ai/nalex22-uv-j02/multispec-leaf-disease-sweeps' target=\"_blank\">Weights & Biases</a> (<a href='https://wandb.me/run' target=\"_blank\">docs</a>)<br/>Sweep page: <a href='https://wandb.ai/nalex22-uv-j02/multispec-leaf-disease-sweeps/sweeps/kz96xpi3' target=\"_blank\">https://wandb.ai/nalex22-uv-j02/multispec-leaf-disease-sweeps/sweeps/kz96xpi3</a>"
            ],
            "text/plain": [
              "<IPython.core.display.HTML object>"
            ]
          },
          "metadata": {},
          "output_type": "display_data"
        },
        {
          "data": {
            "text/html": [
              " View project at <a href='https://wandb.ai/nalex22-uv-j02/multispec-leaf-disease-sweeps' target=\"_blank\">https://wandb.ai/nalex22-uv-j02/multispec-leaf-disease-sweeps</a>"
            ],
            "text/plain": [
              "<IPython.core.display.HTML object>"
            ]
          },
          "metadata": {},
          "output_type": "display_data"
        },
        {
          "data": {
            "text/html": [
              " View sweep at <a href='https://wandb.ai/nalex22-uv-j02/multispec-leaf-disease-sweeps/sweeps/kz96xpi3' target=\"_blank\">https://wandb.ai/nalex22-uv-j02/multispec-leaf-disease-sweeps/sweeps/kz96xpi3</a>"
            ],
            "text/plain": [
              "<IPython.core.display.HTML object>"
            ]
          },
          "metadata": {},
          "output_type": "display_data"
        },
        {
          "data": {
            "text/html": [
              " View run at <a href='https://wandb.ai/nalex22-uv-j02/multispec-leaf-disease-sweeps/runs/o2ck8r43' target=\"_blank\">https://wandb.ai/nalex22-uv-j02/multispec-leaf-disease-sweeps/runs/o2ck8r43</a>"
            ],
            "text/plain": [
              "<IPython.core.display.HTML object>"
            ]
          },
          "metadata": {},
          "output_type": "display_data"
        },
        {
          "metadata": {
            "tags": null
          },
          "name": "stderr",
          "output_type": "stream",
          "text": [
            "/usr/local/lib/python3.10/dist-packages/huggingface_hub/file_download.py:1132: FutureWarning: `resume_download` is deprecated and will be removed in version 1.0.0. Downloads always resume when possible. If you want to force a new download, use `force_download=True`.\n",
            "  warnings.warn(\n",
            "Some weights of SegformerForSemanticSegmentation were not initialized from the model checkpoint at nvidia/mit-b2 and are newly initialized: ['decode_head.batch_norm.bias', 'decode_head.batch_norm.num_batches_tracked', 'decode_head.batch_norm.running_mean', 'decode_head.batch_norm.running_var', 'decode_head.batch_norm.weight', 'decode_head.classifier.bias', 'decode_head.classifier.weight', 'decode_head.linear_c.0.proj.bias', 'decode_head.linear_c.0.proj.weight', 'decode_head.linear_c.1.proj.bias', 'decode_head.linear_c.1.proj.weight', 'decode_head.linear_c.2.proj.bias', 'decode_head.linear_c.2.proj.weight', 'decode_head.linear_c.3.proj.bias', 'decode_head.linear_c.3.proj.weight', 'decode_head.linear_fuse.weight']\n",
            "You should probably TRAIN this model on a down-stream task to be able to use it for predictions and inference.\n",
            "\u001b[34m\u001b[1mwandb\u001b[0m: \u001b[33mWARNING\u001b[0m Config item 'learning_rate' was locked by 'sweep' (ignored update).\n",
            "\u001b[34m\u001b[1mwandb\u001b[0m: \u001b[33mWARNING\u001b[0m Config item 'weight_decay' was locked by 'sweep' (ignored update).\n"
          ]
        },
        {
          "data": {
            "text/html": [
              "\n",
              "    <div>\n",
              "      \n",
              "      <progress value='595' max='595' style='width:300px; height:20px; vertical-align: middle;'></progress>\n",
              "      [595/595 07:20, Epoch 5/5]\n",
              "    </div>\n",
              "    <table border=\"1\" class=\"dataframe\">\n",
              "  <thead>\n",
              " <tr style=\"text-align: left;\">\n",
              "      <th>Epoch</th>\n",
              "      <th>Training Loss</th>\n",
              "      <th>Validation Loss</th>\n",
              "      <th>Iou</th>\n",
              "      <th>Dice</th>\n",
              "      <th>Kappa Score</th>\n",
              "      <th>Mean</th>\n",
              "    </tr>\n",
              "  </thead>\n",
              "  <tbody>\n",
              "    <tr>\n",
              "      <td>1</td>\n",
              "      <td>0.912700</td>\n",
              "      <td>0.741742</td>\n",
              "      <td>0.211651</td>\n",
              "      <td>0.349359</td>\n",
              "      <td>0.345361</td>\n",
              "      <td>0.278506</td>\n",
              "    </tr>\n",
              "    <tr>\n",
              "      <td>2</td>\n",
              "      <td>0.578400</td>\n",
              "      <td>0.577256</td>\n",
              "      <td>0.300583</td>\n",
              "      <td>0.462228</td>\n",
              "      <td>0.459521</td>\n",
              "      <td>0.380052</td>\n",
              "    </tr>\n",
              "    <tr>\n",
              "      <td>3</td>\n",
              "      <td>0.477600</td>\n",
              "      <td>0.557767</td>\n",
              "      <td>0.306580</td>\n",
              "      <td>0.469286</td>\n",
              "      <td>0.466697</td>\n",
              "      <td>0.386638</td>\n",
              "    </tr>\n",
              "    <tr>\n",
              "      <td>4</td>\n",
              "      <td>0.435000</td>\n",
              "      <td>0.534754</td>\n",
              "      <td>0.320097</td>\n",
              "      <td>0.484960</td>\n",
              "      <td>0.482597</td>\n",
              "      <td>0.401347</td>\n",
              "    </tr>\n",
              "    <tr>\n",
              "      <td>5</td>\n",
              "      <td>0.404800</td>\n",
              "      <td>0.521338</td>\n",
              "      <td>0.331194</td>\n",
              "      <td>0.497589</td>\n",
              "      <td>0.495285</td>\n",
              "      <td>0.413240</td>\n",
              "    </tr>\n",
              "  </tbody>\n",
              "</table><p>"
            ],
            "text/plain": [
              "<IPython.core.display.HTML object>"
            ]
          },
          "metadata": {},
          "output_type": "display_data"
        },
        {
          "metadata": {
            "tags": null
          },
          "name": "stdout",
          "output_type": "stream",
          "text": [
            "Mean: 0.27850607556929163\n",
            "IoU: 0.2116506600481997\n",
            "Dice: 0.34935921223330196\n",
            "kappa: 0.3453614910903835\n",
            "Mean: 0.3800519181969355\n",
            "IoU: 0.3005827259524377\n",
            "Dice: 0.46222776906761714\n",
            "kappa: 0.4595211104414334\n",
            "Mean: 0.3866383246524113\n",
            "IoU: 0.3065797988591116\n",
            "Dice: 0.4692859925230944\n",
            "kappa: 0.4666968504457111\n",
            "Mean: 0.4013469159330302\n",
            "IoU: 0.3200968441258106\n",
            "Dice: 0.484959638454077\n",
            "kappa: 0.4825969877402497\n",
            "Mean: 0.4132395069208583\n",
            "IoU: 0.3311935197460441\n",
            "Dice: 0.4975888401398272\n",
            "kappa: 0.49528549409567246\n"
          ]
        },
        {
          "data": {
            "application/vnd.jupyter.widget-view+json": {
              "model_id": "4f8d0847e3c74077b1e3bcbb59c67648",
              "version_major": 2,
              "version_minor": 0
            },
            "text/plain": [
              "VBox(children=(Label(value='0.002 MB of 0.002 MB uploaded\\r'), FloatProgress(value=1.0, max=1.0)))"
            ]
          },
          "metadata": {},
          "output_type": "display_data"
        },
        {
          "data": {
            "text/html": [
              "<style>\n",
              "    table.wandb td:nth-child(1) { padding: 0 10px; text-align: left ; width: auto;} td:nth-child(2) {text-align: left ; width: 100%}\n",
              "    .wandb-row { display: flex; flex-direction: row; flex-wrap: wrap; justify-content: flex-start; width: 100% }\n",
              "    .wandb-col { display: flex; flex-direction: column; flex-basis: 100%; flex: 1; padding: 10px; }\n",
              "    </style>\n",
              "<div class=\"wandb-row\"><div class=\"wandb-col\"><h3>Run history:</h3><br/><table class=\"wandb\"><tr><td>eval/Dice</td><td>▁▆▇▇█</td></tr><tr><td>eval/IoU</td><td>▁▆▇▇█</td></tr><tr><td>eval/kappa_score</td><td>▁▆▇▇█</td></tr><tr><td>eval/loss</td><td>█▃▂▁▁</td></tr><tr><td>eval/mean</td><td>▁▆▇▇█</td></tr><tr><td>eval/runtime</td><td>▁▅▇█▂</td></tr><tr><td>eval/samples_per_second</td><td>█▄▂▁▇</td></tr><tr><td>eval/steps_per_second</td><td>█▃▂▁▇</td></tr><tr><td>train/epoch</td><td>▁▁▃▃▅▅▆▆███</td></tr><tr><td>train/global_step</td><td>▁▁▃▃▅▅▆▆███</td></tr><tr><td>train/grad_norm</td><td>▄▃▁█▁</td></tr><tr><td>train/learning_rate</td><td>▆█▆▃▁</td></tr><tr><td>train/loss</td><td>█▃▂▁▁</td></tr></table><br/></div><div class=\"wandb-col\"><h3>Run summary:</h3><br/><table class=\"wandb\"><tr><td>eval/Dice</td><td>0.49759</td></tr><tr><td>eval/IoU</td><td>0.33119</td></tr><tr><td>eval/kappa_score</td><td>0.49529</td></tr><tr><td>eval/loss</td><td>0.52134</td></tr><tr><td>eval/mean</td><td>0.41324</td></tr><tr><td>eval/runtime</td><td>43.2889</td></tr><tr><td>eval/samples_per_second</td><td>4.851</td></tr><tr><td>eval/steps_per_second</td><td>0.624</td></tr><tr><td>total_flos</td><td>1.219893043396608e+18</td></tr><tr><td>train/epoch</td><td>5.0</td></tr><tr><td>train/global_step</td><td>595</td></tr><tr><td>train/grad_norm</td><td>0.67049</td></tr><tr><td>train/learning_rate</td><td>0.0</td></tr><tr><td>train/loss</td><td>0.4048</td></tr><tr><td>train_loss</td><td>0.56168</td></tr><tr><td>train_runtime</td><td>441.4358</td></tr><tr><td>train_samples_per_second</td><td>10.704</td></tr><tr><td>train_steps_per_second</td><td>1.348</td></tr></table><br/></div></div>"
            ],
            "text/plain": [
              "<IPython.core.display.HTML object>"
            ]
          },
          "metadata": {},
          "output_type": "display_data"
        },
        {
          "data": {
            "text/html": [
              " View run <strong style=\"color:#cdcd00\">grateful-sweep-21</strong> at: <a href='https://wandb.ai/nalex22-uv-j02/multispec-leaf-disease-sweeps/runs/o2ck8r43' target=\"_blank\">https://wandb.ai/nalex22-uv-j02/multispec-leaf-disease-sweeps/runs/o2ck8r43</a><br/> View project at: <a href='https://wandb.ai/nalex22-uv-j02/multispec-leaf-disease-sweeps' target=\"_blank\">https://wandb.ai/nalex22-uv-j02/multispec-leaf-disease-sweeps</a><br/>Synced 5 W&B file(s), 0 media file(s), 0 artifact file(s) and 0 other file(s)"
            ],
            "text/plain": [
              "<IPython.core.display.HTML object>"
            ]
          },
          "metadata": {},
          "output_type": "display_data"
        },
        {
          "data": {
            "text/html": [
              "Find logs at: <code>./wandb/run-20240517_155450-o2ck8r43/logs</code>"
            ],
            "text/plain": [
              "<IPython.core.display.HTML object>"
            ]
          },
          "metadata": {},
          "output_type": "display_data"
        },
        {
          "metadata": {
            "tags": null
          },
          "name": "stderr",
          "output_type": "stream",
          "text": [
            "\u001b[34m\u001b[1mwandb\u001b[0m: Agent Starting Run: wku2u07v with config:\n",
            "\u001b[34m\u001b[1mwandb\u001b[0m: \tbatch_size: 8\n",
            "\u001b[34m\u001b[1mwandb\u001b[0m: \tbetta_1: 0.8108548538441731\n",
            "\u001b[34m\u001b[1mwandb\u001b[0m: \tbetta_2: 0.9897034106699476\n",
            "\u001b[34m\u001b[1mwandb\u001b[0m: \tclass_weight_0: 1.54217445360956\n",
            "\u001b[34m\u001b[1mwandb\u001b[0m: \tclass_weight_1: 41.294056483151586\n",
            "\u001b[34m\u001b[1mwandb\u001b[0m: \tepochs: 5\n",
            "\u001b[34m\u001b[1mwandb\u001b[0m: \tfocal_alpha: 0.6937035558034839\n",
            "\u001b[34m\u001b[1mwandb\u001b[0m: \tfocal_gamma: 1.3624889561642566\n",
            "\u001b[34m\u001b[1mwandb\u001b[0m: \tlearning_rate: 0.0006954018716699005\n",
            "\u001b[34m\u001b[1mwandb\u001b[0m: \tnum_warmup_steps: 8\n",
            "\u001b[34m\u001b[1mwandb\u001b[0m: \tobjective: JaccardLoss\n",
            "\u001b[34m\u001b[1mwandb\u001b[0m: \tsmooth: 1.1288603114135989\n",
            "\u001b[34m\u001b[1mwandb\u001b[0m: \ttversky_alpha: 0.977324538599067\n",
            "\u001b[34m\u001b[1mwandb\u001b[0m: \ttversky_betta: 0.27002424934734565\n",
            "\u001b[34m\u001b[1mwandb\u001b[0m: \tweight_decay: 1.114067881929366\n"
          ]
        },
        {
          "data": {
            "text/html": [
              "Tracking run with wandb version 0.17.0"
            ],
            "text/plain": [
              "<IPython.core.display.HTML object>"
            ]
          },
          "metadata": {},
          "output_type": "display_data"
        },
        {
          "data": {
            "text/html": [
              "Run data is saved locally in <code>/content/wandb/run-20240517_160234-wku2u07v</code>"
            ],
            "text/plain": [
              "<IPython.core.display.HTML object>"
            ]
          },
          "metadata": {},
          "output_type": "display_data"
        },
        {
          "data": {
            "text/html": [
              "Syncing run <strong><a href='https://wandb.ai/nalex22-uv-j02/multispec-leaf-disease-sweeps/runs/wku2u07v' target=\"_blank\">zany-sweep-22</a></strong> to <a href='https://wandb.ai/nalex22-uv-j02/multispec-leaf-disease-sweeps' target=\"_blank\">Weights & Biases</a> (<a href='https://wandb.me/run' target=\"_blank\">docs</a>)<br/>Sweep page: <a href='https://wandb.ai/nalex22-uv-j02/multispec-leaf-disease-sweeps/sweeps/kz96xpi3' target=\"_blank\">https://wandb.ai/nalex22-uv-j02/multispec-leaf-disease-sweeps/sweeps/kz96xpi3</a>"
            ],
            "text/plain": [
              "<IPython.core.display.HTML object>"
            ]
          },
          "metadata": {},
          "output_type": "display_data"
        },
        {
          "data": {
            "text/html": [
              " View project at <a href='https://wandb.ai/nalex22-uv-j02/multispec-leaf-disease-sweeps' target=\"_blank\">https://wandb.ai/nalex22-uv-j02/multispec-leaf-disease-sweeps</a>"
            ],
            "text/plain": [
              "<IPython.core.display.HTML object>"
            ]
          },
          "metadata": {},
          "output_type": "display_data"
        },
        {
          "data": {
            "text/html": [
              " View sweep at <a href='https://wandb.ai/nalex22-uv-j02/multispec-leaf-disease-sweeps/sweeps/kz96xpi3' target=\"_blank\">https://wandb.ai/nalex22-uv-j02/multispec-leaf-disease-sweeps/sweeps/kz96xpi3</a>"
            ],
            "text/plain": [
              "<IPython.core.display.HTML object>"
            ]
          },
          "metadata": {},
          "output_type": "display_data"
        },
        {
          "data": {
            "text/html": [
              " View run at <a href='https://wandb.ai/nalex22-uv-j02/multispec-leaf-disease-sweeps/runs/wku2u07v' target=\"_blank\">https://wandb.ai/nalex22-uv-j02/multispec-leaf-disease-sweeps/runs/wku2u07v</a>"
            ],
            "text/plain": [
              "<IPython.core.display.HTML object>"
            ]
          },
          "metadata": {},
          "output_type": "display_data"
        },
        {
          "metadata": {
            "tags": null
          },
          "name": "stderr",
          "output_type": "stream",
          "text": [
            "/usr/local/lib/python3.10/dist-packages/huggingface_hub/file_download.py:1132: FutureWarning: `resume_download` is deprecated and will be removed in version 1.0.0. Downloads always resume when possible. If you want to force a new download, use `force_download=True`.\n",
            "  warnings.warn(\n",
            "Some weights of SegformerForSemanticSegmentation were not initialized from the model checkpoint at nvidia/mit-b2 and are newly initialized: ['decode_head.batch_norm.bias', 'decode_head.batch_norm.num_batches_tracked', 'decode_head.batch_norm.running_mean', 'decode_head.batch_norm.running_var', 'decode_head.batch_norm.weight', 'decode_head.classifier.bias', 'decode_head.classifier.weight', 'decode_head.linear_c.0.proj.bias', 'decode_head.linear_c.0.proj.weight', 'decode_head.linear_c.1.proj.bias', 'decode_head.linear_c.1.proj.weight', 'decode_head.linear_c.2.proj.bias', 'decode_head.linear_c.2.proj.weight', 'decode_head.linear_c.3.proj.bias', 'decode_head.linear_c.3.proj.weight', 'decode_head.linear_fuse.weight']\n",
            "You should probably TRAIN this model on a down-stream task to be able to use it for predictions and inference.\n",
            "\u001b[34m\u001b[1mwandb\u001b[0m: \u001b[33mWARNING\u001b[0m Config item 'learning_rate' was locked by 'sweep' (ignored update).\n",
            "\u001b[34m\u001b[1mwandb\u001b[0m: \u001b[33mWARNING\u001b[0m Config item 'weight_decay' was locked by 'sweep' (ignored update).\n"
          ]
        },
        {
          "data": {
            "text/html": [
              "\n",
              "    <div>\n",
              "      \n",
              "      <progress value='595' max='595' style='width:300px; height:20px; vertical-align: middle;'></progress>\n",
              "      [595/595 07:21, Epoch 5/5]\n",
              "    </div>\n",
              "    <table border=\"1\" class=\"dataframe\">\n",
              "  <thead>\n",
              " <tr style=\"text-align: left;\">\n",
              "      <th>Epoch</th>\n",
              "      <th>Training Loss</th>\n",
              "      <th>Validation Loss</th>\n",
              "      <th>Iou</th>\n",
              "      <th>Dice</th>\n",
              "      <th>Kappa Score</th>\n",
              "      <th>Mean</th>\n",
              "    </tr>\n",
              "  </thead>\n",
              "  <tbody>\n",
              "    <tr>\n",
              "      <td>1</td>\n",
              "      <td>0.855300</td>\n",
              "      <td>0.767855</td>\n",
              "      <td>0.243176</td>\n",
              "      <td>0.391217</td>\n",
              "      <td>0.387843</td>\n",
              "      <td>0.315510</td>\n",
              "    </tr>\n",
              "    <tr>\n",
              "      <td>2</td>\n",
              "      <td>0.674000</td>\n",
              "      <td>0.697065</td>\n",
              "      <td>0.330919</td>\n",
              "      <td>0.497279</td>\n",
              "      <td>0.493894</td>\n",
              "      <td>0.412406</td>\n",
              "    </tr>\n",
              "    <tr>\n",
              "      <td>3</td>\n",
              "      <td>0.615200</td>\n",
              "      <td>0.666605</td>\n",
              "      <td>0.358824</td>\n",
              "      <td>0.528139</td>\n",
              "      <td>0.525215</td>\n",
              "      <td>0.442019</td>\n",
              "    </tr>\n",
              "    <tr>\n",
              "      <td>4</td>\n",
              "      <td>0.586700</td>\n",
              "      <td>0.658302</td>\n",
              "      <td>0.367360</td>\n",
              "      <td>0.537327</td>\n",
              "      <td>0.534570</td>\n",
              "      <td>0.450965</td>\n",
              "    </tr>\n",
              "    <tr>\n",
              "      <td>5</td>\n",
              "      <td>0.563800</td>\n",
              "      <td>0.660760</td>\n",
              "      <td>0.367360</td>\n",
              "      <td>0.537327</td>\n",
              "      <td>0.534570</td>\n",
              "      <td>0.450965</td>\n",
              "    </tr>\n",
              "  </tbody>\n",
              "</table><p>"
            ],
            "text/plain": [
              "<IPython.core.display.HTML object>"
            ]
          },
          "metadata": {},
          "output_type": "display_data"
        },
        {
          "metadata": {
            "tags": null
          },
          "name": "stdout",
          "output_type": "stream",
          "text": [
            "Mean: 0.31550954083298366\n",
            "IoU: 0.24317566494680626\n",
            "Dice: 0.39121690007857646\n",
            "kappa: 0.3878434167191611\n",
            "Mean: 0.4124063577498641\n",
            "IoU: 0.33091862816366363\n",
            "Dice: 0.4972785280197768\n",
            "kappa: 0.49389408733606466\n",
            "Mean: 0.44201924597407477\n",
            "IoU: 0.3588236353701958\n",
            "Dice: 0.5281386429114304\n",
            "kappa: 0.5252148565779537\n",
            "Mean: 0.45096512502729336\n",
            "IoU: 0.3673600453726563\n",
            "Dice: 0.5373274531691279\n",
            "kappa: 0.5345702046819304\n",
            "Mean: 0.4458016430342562\n",
            "IoU: 0.36238842219913114\n",
            "Dice: 0.5319898735107766\n",
            "kappa: 0.5292148638693812\n"
          ]
        },
        {
          "data": {
            "application/vnd.jupyter.widget-view+json": {
              "model_id": "b256e14b61f940eab068e9f68be61fe6",
              "version_major": 2,
              "version_minor": 0
            },
            "text/plain": [
              "VBox(children=(Label(value='0.002 MB of 0.002 MB uploaded\\r'), FloatProgress(value=1.0, max=1.0)))"
            ]
          },
          "metadata": {},
          "output_type": "display_data"
        },
        {
          "data": {
            "text/html": [
              "<style>\n",
              "    table.wandb td:nth-child(1) { padding: 0 10px; text-align: left ; width: auto;} td:nth-child(2) {text-align: left ; width: 100%}\n",
              "    .wandb-row { display: flex; flex-direction: row; flex-wrap: wrap; justify-content: flex-start; width: 100% }\n",
              "    .wandb-col { display: flex; flex-direction: column; flex-basis: 100%; flex: 1; padding: 10px; }\n",
              "    </style>\n",
              "<div class=\"wandb-row\"><div class=\"wandb-col\"><h3>Run history:</h3><br/><table class=\"wandb\"><tr><td>eval/Dice</td><td>▁▆███</td></tr><tr><td>eval/IoU</td><td>▁▆███</td></tr><tr><td>eval/kappa_score</td><td>▁▆███</td></tr><tr><td>eval/loss</td><td>█▃▂▁▁</td></tr><tr><td>eval/mean</td><td>▁▆███</td></tr><tr><td>eval/runtime</td><td>█▇▁▅▆</td></tr><tr><td>eval/samples_per_second</td><td>▁▂█▄▃</td></tr><tr><td>eval/steps_per_second</td><td>▁▃█▄▃</td></tr><tr><td>train/epoch</td><td>▁▁▃▃▅▅▆▆███</td></tr><tr><td>train/global_step</td><td>▁▁▃▃▅▅▆▆███</td></tr><tr><td>train/grad_norm</td><td>▅▇▃█▁</td></tr><tr><td>train/learning_rate</td><td>█▆▄▃▁</td></tr><tr><td>train/loss</td><td>█▄▂▂▁</td></tr></table><br/></div><div class=\"wandb-col\"><h3>Run summary:</h3><br/><table class=\"wandb\"><tr><td>eval/Dice</td><td>0.53733</td></tr><tr><td>eval/IoU</td><td>0.36736</td></tr><tr><td>eval/kappa_score</td><td>0.53457</td></tr><tr><td>eval/loss</td><td>0.66076</td></tr><tr><td>eval/mean</td><td>0.45097</td></tr><tr><td>eval/runtime</td><td>43.4764</td></tr><tr><td>eval/samples_per_second</td><td>4.83</td></tr><tr><td>eval/steps_per_second</td><td>0.621</td></tr><tr><td>total_flos</td><td>1.219893043396608e+18</td></tr><tr><td>train/epoch</td><td>5.0</td></tr><tr><td>train/global_step</td><td>595</td></tr><tr><td>train/grad_norm</td><td>0.90543</td></tr><tr><td>train/learning_rate</td><td>0.0</td></tr><tr><td>train/loss</td><td>0.5638</td></tr><tr><td>train_loss</td><td>0.65899</td></tr><tr><td>train_runtime</td><td>441.6164</td></tr><tr><td>train_samples_per_second</td><td>10.699</td></tr><tr><td>train_steps_per_second</td><td>1.347</td></tr></table><br/></div></div>"
            ],
            "text/plain": [
              "<IPython.core.display.HTML object>"
            ]
          },
          "metadata": {},
          "output_type": "display_data"
        },
        {
          "data": {
            "text/html": [
              " View run <strong style=\"color:#cdcd00\">zany-sweep-22</strong> at: <a href='https://wandb.ai/nalex22-uv-j02/multispec-leaf-disease-sweeps/runs/wku2u07v' target=\"_blank\">https://wandb.ai/nalex22-uv-j02/multispec-leaf-disease-sweeps/runs/wku2u07v</a><br/> View project at: <a href='https://wandb.ai/nalex22-uv-j02/multispec-leaf-disease-sweeps' target=\"_blank\">https://wandb.ai/nalex22-uv-j02/multispec-leaf-disease-sweeps</a><br/>Synced 5 W&B file(s), 0 media file(s), 0 artifact file(s) and 0 other file(s)"
            ],
            "text/plain": [
              "<IPython.core.display.HTML object>"
            ]
          },
          "metadata": {},
          "output_type": "display_data"
        },
        {
          "data": {
            "text/html": [
              "Find logs at: <code>./wandb/run-20240517_160234-wku2u07v/logs</code>"
            ],
            "text/plain": [
              "<IPython.core.display.HTML object>"
            ]
          },
          "metadata": {},
          "output_type": "display_data"
        },
        {
          "metadata": {
            "tags": null
          },
          "name": "stderr",
          "output_type": "stream",
          "text": [
            "\u001b[34m\u001b[1mwandb\u001b[0m: Agent Starting Run: p4ywqdpl with config:\n",
            "\u001b[34m\u001b[1mwandb\u001b[0m: \tbatch_size: 8\n",
            "\u001b[34m\u001b[1mwandb\u001b[0m: \tbetta_1: 0.8939061590277075\n",
            "\u001b[34m\u001b[1mwandb\u001b[0m: \tbetta_2: 0.7105636380092184\n",
            "\u001b[34m\u001b[1mwandb\u001b[0m: \tclass_weight_0: 4.320869219814727\n",
            "\u001b[34m\u001b[1mwandb\u001b[0m: \tclass_weight_1: 25.106457627016255\n",
            "\u001b[34m\u001b[1mwandb\u001b[0m: \tepochs: 5\n",
            "\u001b[34m\u001b[1mwandb\u001b[0m: \tfocal_alpha: 0.8999374515147968\n",
            "\u001b[34m\u001b[1mwandb\u001b[0m: \tfocal_gamma: 2.988810391434598\n",
            "\u001b[34m\u001b[1mwandb\u001b[0m: \tlearning_rate: 0.0007075174320906909\n",
            "\u001b[34m\u001b[1mwandb\u001b[0m: \tnum_warmup_steps: 172\n",
            "\u001b[34m\u001b[1mwandb\u001b[0m: \tobjective: FocalLoss\n",
            "\u001b[34m\u001b[1mwandb\u001b[0m: \tsmooth: 1.276019578350858\n",
            "\u001b[34m\u001b[1mwandb\u001b[0m: \ttversky_alpha: 0.16546986777235573\n",
            "\u001b[34m\u001b[1mwandb\u001b[0m: \ttversky_betta: 0.4403217443006471\n",
            "\u001b[34m\u001b[1mwandb\u001b[0m: \tweight_decay: 1.3006119819667157\n"
          ]
        },
        {
          "data": {
            "text/html": [
              "Tracking run with wandb version 0.17.0"
            ],
            "text/plain": [
              "<IPython.core.display.HTML object>"
            ]
          },
          "metadata": {},
          "output_type": "display_data"
        },
        {
          "data": {
            "text/html": [
              "Run data is saved locally in <code>/content/wandb/run-20240517_161021-p4ywqdpl</code>"
            ],
            "text/plain": [
              "<IPython.core.display.HTML object>"
            ]
          },
          "metadata": {},
          "output_type": "display_data"
        },
        {
          "data": {
            "text/html": [
              "Syncing run <strong><a href='https://wandb.ai/nalex22-uv-j02/multispec-leaf-disease-sweeps/runs/p4ywqdpl' target=\"_blank\">vocal-sweep-23</a></strong> to <a href='https://wandb.ai/nalex22-uv-j02/multispec-leaf-disease-sweeps' target=\"_blank\">Weights & Biases</a> (<a href='https://wandb.me/run' target=\"_blank\">docs</a>)<br/>Sweep page: <a href='https://wandb.ai/nalex22-uv-j02/multispec-leaf-disease-sweeps/sweeps/kz96xpi3' target=\"_blank\">https://wandb.ai/nalex22-uv-j02/multispec-leaf-disease-sweeps/sweeps/kz96xpi3</a>"
            ],
            "text/plain": [
              "<IPython.core.display.HTML object>"
            ]
          },
          "metadata": {},
          "output_type": "display_data"
        },
        {
          "data": {
            "text/html": [
              " View project at <a href='https://wandb.ai/nalex22-uv-j02/multispec-leaf-disease-sweeps' target=\"_blank\">https://wandb.ai/nalex22-uv-j02/multispec-leaf-disease-sweeps</a>"
            ],
            "text/plain": [
              "<IPython.core.display.HTML object>"
            ]
          },
          "metadata": {},
          "output_type": "display_data"
        },
        {
          "data": {
            "text/html": [
              " View sweep at <a href='https://wandb.ai/nalex22-uv-j02/multispec-leaf-disease-sweeps/sweeps/kz96xpi3' target=\"_blank\">https://wandb.ai/nalex22-uv-j02/multispec-leaf-disease-sweeps/sweeps/kz96xpi3</a>"
            ],
            "text/plain": [
              "<IPython.core.display.HTML object>"
            ]
          },
          "metadata": {},
          "output_type": "display_data"
        },
        {
          "data": {
            "text/html": [
              " View run at <a href='https://wandb.ai/nalex22-uv-j02/multispec-leaf-disease-sweeps/runs/p4ywqdpl' target=\"_blank\">https://wandb.ai/nalex22-uv-j02/multispec-leaf-disease-sweeps/runs/p4ywqdpl</a>"
            ],
            "text/plain": [
              "<IPython.core.display.HTML object>"
            ]
          },
          "metadata": {},
          "output_type": "display_data"
        },
        {
          "metadata": {
            "tags": null
          },
          "name": "stderr",
          "output_type": "stream",
          "text": [
            "/usr/local/lib/python3.10/dist-packages/huggingface_hub/file_download.py:1132: FutureWarning: `resume_download` is deprecated and will be removed in version 1.0.0. Downloads always resume when possible. If you want to force a new download, use `force_download=True`.\n",
            "  warnings.warn(\n",
            "Some weights of SegformerForSemanticSegmentation were not initialized from the model checkpoint at nvidia/mit-b2 and are newly initialized: ['decode_head.batch_norm.bias', 'decode_head.batch_norm.num_batches_tracked', 'decode_head.batch_norm.running_mean', 'decode_head.batch_norm.running_var', 'decode_head.batch_norm.weight', 'decode_head.classifier.bias', 'decode_head.classifier.weight', 'decode_head.linear_c.0.proj.bias', 'decode_head.linear_c.0.proj.weight', 'decode_head.linear_c.1.proj.bias', 'decode_head.linear_c.1.proj.weight', 'decode_head.linear_c.2.proj.bias', 'decode_head.linear_c.2.proj.weight', 'decode_head.linear_c.3.proj.bias', 'decode_head.linear_c.3.proj.weight', 'decode_head.linear_fuse.weight']\n",
            "You should probably TRAIN this model on a down-stream task to be able to use it for predictions and inference.\n",
            "\u001b[34m\u001b[1mwandb\u001b[0m: \u001b[33mWARNING\u001b[0m Config item 'learning_rate' was locked by 'sweep' (ignored update).\n",
            "\u001b[34m\u001b[1mwandb\u001b[0m: \u001b[33mWARNING\u001b[0m Config item 'weight_decay' was locked by 'sweep' (ignored update).\n"
          ]
        },
        {
          "data": {
            "text/html": [
              "\n",
              "    <div>\n",
              "      \n",
              "      <progress value='595' max='595' style='width:300px; height:20px; vertical-align: middle;'></progress>\n",
              "      [595/595 07:21, Epoch 5/5]\n",
              "    </div>\n",
              "    <table border=\"1\" class=\"dataframe\">\n",
              "  <thead>\n",
              " <tr style=\"text-align: left;\">\n",
              "      <th>Epoch</th>\n",
              "      <th>Training Loss</th>\n",
              "      <th>Validation Loss</th>\n",
              "      <th>Iou</th>\n",
              "      <th>Dice</th>\n",
              "      <th>Kappa Score</th>\n",
              "      <th>Mean</th>\n",
              "    </tr>\n",
              "  </thead>\n",
              "  <tbody>\n",
              "    <tr>\n",
              "      <td>1</td>\n",
              "      <td>0.007200</td>\n",
              "      <td>0.002218</td>\n",
              "      <td>0.059202</td>\n",
              "      <td>0.111786</td>\n",
              "      <td>0.101831</td>\n",
              "      <td>0.080517</td>\n",
              "    </tr>\n",
              "    <tr>\n",
              "      <td>2</td>\n",
              "      <td>0.001600</td>\n",
              "      <td>0.001307</td>\n",
              "      <td>0.239806</td>\n",
              "      <td>0.386845</td>\n",
              "      <td>0.381187</td>\n",
              "      <td>0.310497</td>\n",
              "    </tr>\n",
              "    <tr>\n",
              "      <td>3</td>\n",
              "      <td>0.001000</td>\n",
              "      <td>0.001339</td>\n",
              "      <td>0.286324</td>\n",
              "      <td>0.445182</td>\n",
              "      <td>0.440329</td>\n",
              "      <td>0.363326</td>\n",
              "    </tr>\n",
              "    <tr>\n",
              "      <td>4</td>\n",
              "      <td>0.000900</td>\n",
              "      <td>0.001273</td>\n",
              "      <td>0.343946</td>\n",
              "      <td>0.511844</td>\n",
              "      <td>0.508024</td>\n",
              "      <td>0.425985</td>\n",
              "    </tr>\n",
              "    <tr>\n",
              "      <td>5</td>\n",
              "      <td>0.000800</td>\n",
              "      <td>0.001394</td>\n",
              "      <td>0.343946</td>\n",
              "      <td>0.511844</td>\n",
              "      <td>0.508024</td>\n",
              "      <td>0.425985</td>\n",
              "    </tr>\n",
              "  </tbody>\n",
              "</table><p>"
            ],
            "text/plain": [
              "<IPython.core.display.HTML object>"
            ]
          },
          "metadata": {},
          "output_type": "display_data"
        },
        {
          "metadata": {
            "tags": null
          },
          "name": "stdout",
          "output_type": "stream",
          "text": [
            "Mean: 0.08051668517730115\n",
            "IoU: 0.05920200919680195\n",
            "Dice: 0.11178605909498816\n",
            "kappa: 0.10183136115780034\n",
            "Mean: 0.3104967928637799\n",
            "IoU: 0.2398061312789995\n",
            "Dice: 0.3868445642087808\n",
            "kappa: 0.3811874544485603\n",
            "Mean: 0.36332634846076983\n",
            "IoU: 0.2863238966302866\n",
            "Dice: 0.4451816488527562\n",
            "kappa: 0.440328800291253\n",
            "Mean: 0.42598464478697146\n",
            "IoU: 0.3439455496754269\n",
            "Dice: 0.5118444713158095\n",
            "kappa: 0.508023739898516\n",
            "Mean: 0.41552596846833123\n",
            "IoU: 0.3341893972723273\n",
            "Dice: 0.500962453989753\n",
            "kappa: 0.49686253966433513\n"
          ]
        },
        {
          "data": {
            "application/vnd.jupyter.widget-view+json": {
              "model_id": "fa58622a28ab4ca9a5fee02418e5b7ab",
              "version_major": 2,
              "version_minor": 0
            },
            "text/plain": [
              "VBox(children=(Label(value='0.002 MB of 0.002 MB uploaded\\r'), FloatProgress(value=1.0, max=1.0)))"
            ]
          },
          "metadata": {},
          "output_type": "display_data"
        },
        {
          "data": {
            "text/html": [
              "<style>\n",
              "    table.wandb td:nth-child(1) { padding: 0 10px; text-align: left ; width: auto;} td:nth-child(2) {text-align: left ; width: 100%}\n",
              "    .wandb-row { display: flex; flex-direction: row; flex-wrap: wrap; justify-content: flex-start; width: 100% }\n",
              "    .wandb-col { display: flex; flex-direction: column; flex-basis: 100%; flex: 1; padding: 10px; }\n",
              "    </style>\n",
              "<div class=\"wandb-row\"><div class=\"wandb-col\"><h3>Run history:</h3><br/><table class=\"wandb\"><tr><td>eval/Dice</td><td>▁▆▇██</td></tr><tr><td>eval/IoU</td><td>▁▅▇██</td></tr><tr><td>eval/kappa_score</td><td>▁▆▇██</td></tr><tr><td>eval/loss</td><td>█▁▁▁▂</td></tr><tr><td>eval/mean</td><td>▁▆▇██</td></tr><tr><td>eval/runtime</td><td>█▅▁▃▂</td></tr><tr><td>eval/samples_per_second</td><td>▁▄█▆▇</td></tr><tr><td>eval/steps_per_second</td><td>▁▃█▆▇</td></tr><tr><td>train/epoch</td><td>▁▁▃▃▅▅▆▆███</td></tr><tr><td>train/global_step</td><td>▁▁▃▃▅▅▆▆███</td></tr><tr><td>train/grad_norm</td><td>█▁▁▁▁</td></tr><tr><td>train/learning_rate</td><td>▇█▆▃▁</td></tr><tr><td>train/loss</td><td>█▂▁▁▁</td></tr></table><br/></div><div class=\"wandb-col\"><h3>Run summary:</h3><br/><table class=\"wandb\"><tr><td>eval/Dice</td><td>0.51184</td></tr><tr><td>eval/IoU</td><td>0.34395</td></tr><tr><td>eval/kappa_score</td><td>0.50802</td></tr><tr><td>eval/loss</td><td>0.00139</td></tr><tr><td>eval/mean</td><td>0.42598</td></tr><tr><td>eval/runtime</td><td>43.2776</td></tr><tr><td>eval/samples_per_second</td><td>4.852</td></tr><tr><td>eval/steps_per_second</td><td>0.624</td></tr><tr><td>total_flos</td><td>1.219893043396608e+18</td></tr><tr><td>train/epoch</td><td>5.0</td></tr><tr><td>train/global_step</td><td>595</td></tr><tr><td>train/grad_norm</td><td>0.004</td></tr><tr><td>train/learning_rate</td><td>0.0</td></tr><tr><td>train/loss</td><td>0.0008</td></tr><tr><td>train_loss</td><td>0.00227</td></tr><tr><td>train_runtime</td><td>441.7921</td></tr><tr><td>train_samples_per_second</td><td>10.695</td></tr><tr><td>train_steps_per_second</td><td>1.347</td></tr></table><br/></div></div>"
            ],
            "text/plain": [
              "<IPython.core.display.HTML object>"
            ]
          },
          "metadata": {},
          "output_type": "display_data"
        },
        {
          "data": {
            "text/html": [
              " View run <strong style=\"color:#cdcd00\">vocal-sweep-23</strong> at: <a href='https://wandb.ai/nalex22-uv-j02/multispec-leaf-disease-sweeps/runs/p4ywqdpl' target=\"_blank\">https://wandb.ai/nalex22-uv-j02/multispec-leaf-disease-sweeps/runs/p4ywqdpl</a><br/> View project at: <a href='https://wandb.ai/nalex22-uv-j02/multispec-leaf-disease-sweeps' target=\"_blank\">https://wandb.ai/nalex22-uv-j02/multispec-leaf-disease-sweeps</a><br/>Synced 5 W&B file(s), 0 media file(s), 0 artifact file(s) and 0 other file(s)"
            ],
            "text/plain": [
              "<IPython.core.display.HTML object>"
            ]
          },
          "metadata": {},
          "output_type": "display_data"
        },
        {
          "data": {
            "text/html": [
              "Find logs at: <code>./wandb/run-20240517_161021-p4ywqdpl/logs</code>"
            ],
            "text/plain": [
              "<IPython.core.display.HTML object>"
            ]
          },
          "metadata": {},
          "output_type": "display_data"
        },
        {
          "metadata": {
            "tags": null
          },
          "name": "stderr",
          "output_type": "stream",
          "text": [
            "\u001b[34m\u001b[1mwandb\u001b[0m: Agent Starting Run: i6spxd67 with config:\n",
            "\u001b[34m\u001b[1mwandb\u001b[0m: \tbatch_size: 8\n",
            "\u001b[34m\u001b[1mwandb\u001b[0m: \tbetta_1: 0.930011706003182\n",
            "\u001b[34m\u001b[1mwandb\u001b[0m: \tbetta_2: 0.9253443597132932\n",
            "\u001b[34m\u001b[1mwandb\u001b[0m: \tclass_weight_0: 3.778649112900166\n",
            "\u001b[34m\u001b[1mwandb\u001b[0m: \tclass_weight_1: 11.22606316076324\n",
            "\u001b[34m\u001b[1mwandb\u001b[0m: \tepochs: 5\n",
            "\u001b[34m\u001b[1mwandb\u001b[0m: \tfocal_alpha: 0.7920924175891148\n",
            "\u001b[34m\u001b[1mwandb\u001b[0m: \tfocal_gamma: 2.285697809424394\n",
            "\u001b[34m\u001b[1mwandb\u001b[0m: \tlearning_rate: 0.0007933997999162081\n",
            "\u001b[34m\u001b[1mwandb\u001b[0m: \tnum_warmup_steps: 42\n",
            "\u001b[34m\u001b[1mwandb\u001b[0m: \tobjective: LovaszLoss\n",
            "\u001b[34m\u001b[1mwandb\u001b[0m: \tsmooth: 0.9072731495147894\n",
            "\u001b[34m\u001b[1mwandb\u001b[0m: \ttversky_alpha: 0.6209329114130125\n",
            "\u001b[34m\u001b[1mwandb\u001b[0m: \ttversky_betta: 0.7509479968831958\n",
            "\u001b[34m\u001b[1mwandb\u001b[0m: \tweight_decay: 1.44438485098195\n"
          ]
        },
        {
          "data": {
            "text/html": [
              "Tracking run with wandb version 0.17.0"
            ],
            "text/plain": [
              "<IPython.core.display.HTML object>"
            ]
          },
          "metadata": {},
          "output_type": "display_data"
        },
        {
          "data": {
            "text/html": [
              "Run data is saved locally in <code>/content/wandb/run-20240517_161808-i6spxd67</code>"
            ],
            "text/plain": [
              "<IPython.core.display.HTML object>"
            ]
          },
          "metadata": {},
          "output_type": "display_data"
        },
        {
          "data": {
            "text/html": [
              "Syncing run <strong><a href='https://wandb.ai/nalex22-uv-j02/multispec-leaf-disease-sweeps/runs/i6spxd67' target=\"_blank\">rosy-sweep-24</a></strong> to <a href='https://wandb.ai/nalex22-uv-j02/multispec-leaf-disease-sweeps' target=\"_blank\">Weights & Biases</a> (<a href='https://wandb.me/run' target=\"_blank\">docs</a>)<br/>Sweep page: <a href='https://wandb.ai/nalex22-uv-j02/multispec-leaf-disease-sweeps/sweeps/kz96xpi3' target=\"_blank\">https://wandb.ai/nalex22-uv-j02/multispec-leaf-disease-sweeps/sweeps/kz96xpi3</a>"
            ],
            "text/plain": [
              "<IPython.core.display.HTML object>"
            ]
          },
          "metadata": {},
          "output_type": "display_data"
        },
        {
          "data": {
            "text/html": [
              " View project at <a href='https://wandb.ai/nalex22-uv-j02/multispec-leaf-disease-sweeps' target=\"_blank\">https://wandb.ai/nalex22-uv-j02/multispec-leaf-disease-sweeps</a>"
            ],
            "text/plain": [
              "<IPython.core.display.HTML object>"
            ]
          },
          "metadata": {},
          "output_type": "display_data"
        },
        {
          "data": {
            "text/html": [
              " View sweep at <a href='https://wandb.ai/nalex22-uv-j02/multispec-leaf-disease-sweeps/sweeps/kz96xpi3' target=\"_blank\">https://wandb.ai/nalex22-uv-j02/multispec-leaf-disease-sweeps/sweeps/kz96xpi3</a>"
            ],
            "text/plain": [
              "<IPython.core.display.HTML object>"
            ]
          },
          "metadata": {},
          "output_type": "display_data"
        },
        {
          "data": {
            "text/html": [
              " View run at <a href='https://wandb.ai/nalex22-uv-j02/multispec-leaf-disease-sweeps/runs/i6spxd67' target=\"_blank\">https://wandb.ai/nalex22-uv-j02/multispec-leaf-disease-sweeps/runs/i6spxd67</a>"
            ],
            "text/plain": [
              "<IPython.core.display.HTML object>"
            ]
          },
          "metadata": {},
          "output_type": "display_data"
        },
        {
          "metadata": {
            "tags": null
          },
          "name": "stderr",
          "output_type": "stream",
          "text": [
            "/usr/local/lib/python3.10/dist-packages/huggingface_hub/file_download.py:1132: FutureWarning: `resume_download` is deprecated and will be removed in version 1.0.0. Downloads always resume when possible. If you want to force a new download, use `force_download=True`.\n",
            "  warnings.warn(\n",
            "Some weights of SegformerForSemanticSegmentation were not initialized from the model checkpoint at nvidia/mit-b2 and are newly initialized: ['decode_head.batch_norm.bias', 'decode_head.batch_norm.num_batches_tracked', 'decode_head.batch_norm.running_mean', 'decode_head.batch_norm.running_var', 'decode_head.batch_norm.weight', 'decode_head.classifier.bias', 'decode_head.classifier.weight', 'decode_head.linear_c.0.proj.bias', 'decode_head.linear_c.0.proj.weight', 'decode_head.linear_c.1.proj.bias', 'decode_head.linear_c.1.proj.weight', 'decode_head.linear_c.2.proj.bias', 'decode_head.linear_c.2.proj.weight', 'decode_head.linear_c.3.proj.bias', 'decode_head.linear_c.3.proj.weight', 'decode_head.linear_fuse.weight']\n",
            "You should probably TRAIN this model on a down-stream task to be able to use it for predictions and inference.\n",
            "\u001b[34m\u001b[1mwandb\u001b[0m: \u001b[33mWARNING\u001b[0m Config item 'learning_rate' was locked by 'sweep' (ignored update).\n",
            "\u001b[34m\u001b[1mwandb\u001b[0m: \u001b[33mWARNING\u001b[0m Config item 'weight_decay' was locked by 'sweep' (ignored update).\n"
          ]
        },
        {
          "data": {
            "text/html": [
              "\n",
              "    <div>\n",
              "      \n",
              "      <progress value='595' max='595' style='width:300px; height:20px; vertical-align: middle;'></progress>\n",
              "      [595/595 05:58, Epoch 5/5]\n",
              "    </div>\n",
              "    <table border=\"1\" class=\"dataframe\">\n",
              "  <thead>\n",
              " <tr style=\"text-align: left;\">\n",
              "      <th>Epoch</th>\n",
              "      <th>Training Loss</th>\n",
              "      <th>Validation Loss</th>\n",
              "      <th>Iou</th>\n",
              "      <th>Dice</th>\n",
              "      <th>Kappa Score</th>\n",
              "      <th>Mean</th>\n",
              "    </tr>\n",
              "  </thead>\n",
              "  <tbody>\n",
              "    <tr>\n",
              "      <td>1</td>\n",
              "      <td>1.452600</td>\n",
              "      <td>1.123028</td>\n",
              "      <td>0.006913</td>\n",
              "      <td>0.013731</td>\n",
              "      <td>0.001048</td>\n",
              "      <td>0.003981</td>\n",
              "    </tr>\n",
              "    <tr>\n",
              "      <td>2</td>\n",
              "      <td>1.027800</td>\n",
              "      <td>1.040010</td>\n",
              "      <td>0.006991</td>\n",
              "      <td>0.013884</td>\n",
              "      <td>0.001203</td>\n",
              "      <td>0.004097</td>\n",
              "    </tr>\n",
              "    <tr>\n",
              "      <td>3</td>\n",
              "      <td>1.006800</td>\n",
              "      <td>1.035054</td>\n",
              "      <td>0.006991</td>\n",
              "      <td>0.013884</td>\n",
              "      <td>0.001203</td>\n",
              "      <td>0.004097</td>\n",
              "    </tr>\n",
              "    <tr>\n",
              "      <td>4</td>\n",
              "      <td>1.002500</td>\n",
              "      <td>1.003117</td>\n",
              "      <td>0.006991</td>\n",
              "      <td>0.013884</td>\n",
              "      <td>0.001203</td>\n",
              "      <td>0.004097</td>\n",
              "    </tr>\n",
              "    <tr>\n",
              "      <td>5</td>\n",
              "      <td>1.000800</td>\n",
              "      <td>1.000965</td>\n",
              "      <td>0.006991</td>\n",
              "      <td>0.013884</td>\n",
              "      <td>0.001203</td>\n",
              "      <td>0.004097</td>\n",
              "    </tr>\n",
              "  </tbody>\n",
              "</table><p>"
            ],
            "text/plain": [
              "<IPython.core.display.HTML object>"
            ]
          },
          "metadata": {},
          "output_type": "display_data"
        },
        {
          "metadata": {
            "tags": null
          },
          "name": "stdout",
          "output_type": "stream",
          "text": [
            "Mean: 0.003980515463428636\n",
            "IoU: 0.006913186466742306\n",
            "Dice: 0.013731444894471336\n",
            "kappa: 0.0010478444601149661\n",
            "Mean: 0.004097036053276019\n",
            "IoU: 0.0069905948191646946\n",
            "Dice: 0.013884131301981158\n",
            "kappa: 0.0012034772873873445\n",
            "Mean: 0.00397880073809913\n",
            "IoU: 0.006912045893608585\n",
            "Dice: 0.013729194961560566\n",
            "kappa: 0.0010455555825896745\n",
            "Mean: 0.003975823521811305\n",
            "IoU: 0.006908784509576658\n",
            "Dice: 0.013722761417642493\n",
            "kappa: 0.0010428625340459519\n",
            "Mean: 0.0035873421315699974\n",
            "IoU: 0.006652049370884537\n",
            "Dice: 0.013216184033086286\n",
            "kappa: 0.000522634892255458\n"
          ]
        },
        {
          "data": {
            "application/vnd.jupyter.widget-view+json": {
              "model_id": "c23b62799c614ac894296950ccbdd878",
              "version_major": 2,
              "version_minor": 0
            },
            "text/plain": [
              "VBox(children=(Label(value='0.002 MB of 0.002 MB uploaded\\r'), FloatProgress(value=1.0, max=1.0)))"
            ]
          },
          "metadata": {},
          "output_type": "display_data"
        },
        {
          "data": {
            "text/html": [
              "<style>\n",
              "    table.wandb td:nth-child(1) { padding: 0 10px; text-align: left ; width: auto;} td:nth-child(2) {text-align: left ; width: 100%}\n",
              "    .wandb-row { display: flex; flex-direction: row; flex-wrap: wrap; justify-content: flex-start; width: 100% }\n",
              "    .wandb-col { display: flex; flex-direction: column; flex-basis: 100%; flex: 1; padding: 10px; }\n",
              "    </style>\n",
              "<div class=\"wandb-row\"><div class=\"wandb-col\"><h3>Run history:</h3><br/><table class=\"wandb\"><tr><td>eval/Dice</td><td>▁████</td></tr><tr><td>eval/IoU</td><td>▁████</td></tr><tr><td>eval/kappa_score</td><td>▁████</td></tr><tr><td>eval/loss</td><td>█▃▃▁▁</td></tr><tr><td>eval/mean</td><td>▁████</td></tr><tr><td>eval/runtime</td><td>██▁▁▁</td></tr><tr><td>eval/samples_per_second</td><td>▁▁███</td></tr><tr><td>eval/steps_per_second</td><td>▁▁███</td></tr><tr><td>train/epoch</td><td>▁▁▃▃▅▅▆▆███</td></tr><tr><td>train/global_step</td><td>▁▁▃▃▅▅▆▆███</td></tr><tr><td>train/grad_norm</td><td>▃▂█▁▁</td></tr><tr><td>train/learning_rate</td><td>█▆▄▃▁</td></tr><tr><td>train/loss</td><td>█▁▁▁▁</td></tr></table><br/></div><div class=\"wandb-col\"><h3>Run summary:</h3><br/><table class=\"wandb\"><tr><td>eval/Dice</td><td>0.01388</td></tr><tr><td>eval/IoU</td><td>0.00699</td></tr><tr><td>eval/kappa_score</td><td>0.0012</td></tr><tr><td>eval/loss</td><td>1.00097</td></tr><tr><td>eval/mean</td><td>0.0041</td></tr><tr><td>eval/runtime</td><td>23.4941</td></tr><tr><td>eval/samples_per_second</td><td>8.938</td></tr><tr><td>eval/steps_per_second</td><td>1.149</td></tr><tr><td>total_flos</td><td>1.219893043396608e+18</td></tr><tr><td>train/epoch</td><td>5.0</td></tr><tr><td>train/global_step</td><td>595</td></tr><tr><td>train/grad_norm</td><td>0.21478</td></tr><tr><td>train/learning_rate</td><td>0.0</td></tr><tr><td>train/loss</td><td>1.0008</td></tr><tr><td>train_loss</td><td>1.09811</td></tr><tr><td>train_runtime</td><td>358.6265</td></tr><tr><td>train_samples_per_second</td><td>13.175</td></tr><tr><td>train_steps_per_second</td><td>1.659</td></tr></table><br/></div></div>"
            ],
            "text/plain": [
              "<IPython.core.display.HTML object>"
            ]
          },
          "metadata": {},
          "output_type": "display_data"
        },
        {
          "data": {
            "text/html": [
              " View run <strong style=\"color:#cdcd00\">rosy-sweep-24</strong> at: <a href='https://wandb.ai/nalex22-uv-j02/multispec-leaf-disease-sweeps/runs/i6spxd67' target=\"_blank\">https://wandb.ai/nalex22-uv-j02/multispec-leaf-disease-sweeps/runs/i6spxd67</a><br/> View project at: <a href='https://wandb.ai/nalex22-uv-j02/multispec-leaf-disease-sweeps' target=\"_blank\">https://wandb.ai/nalex22-uv-j02/multispec-leaf-disease-sweeps</a><br/>Synced 5 W&B file(s), 0 media file(s), 0 artifact file(s) and 0 other file(s)"
            ],
            "text/plain": [
              "<IPython.core.display.HTML object>"
            ]
          },
          "metadata": {},
          "output_type": "display_data"
        },
        {
          "data": {
            "text/html": [
              "Find logs at: <code>./wandb/run-20240517_161808-i6spxd67/logs</code>"
            ],
            "text/plain": [
              "<IPython.core.display.HTML object>"
            ]
          },
          "metadata": {},
          "output_type": "display_data"
        },
        {
          "metadata": {
            "tags": null
          },
          "name": "stderr",
          "output_type": "stream",
          "text": [
            "\u001b[34m\u001b[1mwandb\u001b[0m: Agent Starting Run: ss2vwkal with config:\n",
            "\u001b[34m\u001b[1mwandb\u001b[0m: \tbatch_size: 8\n",
            "\u001b[34m\u001b[1mwandb\u001b[0m: \tbetta_1: 0.8728910702743591\n",
            "\u001b[34m\u001b[1mwandb\u001b[0m: \tbetta_2: 0.6156982494201135\n",
            "\u001b[34m\u001b[1mwandb\u001b[0m: \tclass_weight_0: 2.081252802252578\n",
            "\u001b[34m\u001b[1mwandb\u001b[0m: \tclass_weight_1: 8.243519985607286\n",
            "\u001b[34m\u001b[1mwandb\u001b[0m: \tepochs: 5\n",
            "\u001b[34m\u001b[1mwandb\u001b[0m: \tfocal_alpha: 0.4853521256472897\n",
            "\u001b[34m\u001b[1mwandb\u001b[0m: \tfocal_gamma: 3.6674615451709105\n",
            "\u001b[34m\u001b[1mwandb\u001b[0m: \tlearning_rate: 0.0006478615372493986\n",
            "\u001b[34m\u001b[1mwandb\u001b[0m: \tnum_warmup_steps: 60\n",
            "\u001b[34m\u001b[1mwandb\u001b[0m: \tobjective: DiceLoss\n",
            "\u001b[34m\u001b[1mwandb\u001b[0m: \tsmooth: 1.4603172291169433\n",
            "\u001b[34m\u001b[1mwandb\u001b[0m: \ttversky_alpha: 0.13787991427331822\n",
            "\u001b[34m\u001b[1mwandb\u001b[0m: \ttversky_betta: 0.12043299452654808\n",
            "\u001b[34m\u001b[1mwandb\u001b[0m: \tweight_decay: 1.3682517959626408\n"
          ]
        },
        {
          "data": {
            "text/html": [
              "Tracking run with wandb version 0.17.0"
            ],
            "text/plain": [
              "<IPython.core.display.HTML object>"
            ]
          },
          "metadata": {},
          "output_type": "display_data"
        },
        {
          "data": {
            "text/html": [
              "Run data is saved locally in <code>/content/wandb/run-20240517_162432-ss2vwkal</code>"
            ],
            "text/plain": [
              "<IPython.core.display.HTML object>"
            ]
          },
          "metadata": {},
          "output_type": "display_data"
        },
        {
          "data": {
            "text/html": [
              "Syncing run <strong><a href='https://wandb.ai/nalex22-uv-j02/multispec-leaf-disease-sweeps/runs/ss2vwkal' target=\"_blank\">polished-sweep-25</a></strong> to <a href='https://wandb.ai/nalex22-uv-j02/multispec-leaf-disease-sweeps' target=\"_blank\">Weights & Biases</a> (<a href='https://wandb.me/run' target=\"_blank\">docs</a>)<br/>Sweep page: <a href='https://wandb.ai/nalex22-uv-j02/multispec-leaf-disease-sweeps/sweeps/kz96xpi3' target=\"_blank\">https://wandb.ai/nalex22-uv-j02/multispec-leaf-disease-sweeps/sweeps/kz96xpi3</a>"
            ],
            "text/plain": [
              "<IPython.core.display.HTML object>"
            ]
          },
          "metadata": {},
          "output_type": "display_data"
        },
        {
          "data": {
            "text/html": [
              " View project at <a href='https://wandb.ai/nalex22-uv-j02/multispec-leaf-disease-sweeps' target=\"_blank\">https://wandb.ai/nalex22-uv-j02/multispec-leaf-disease-sweeps</a>"
            ],
            "text/plain": [
              "<IPython.core.display.HTML object>"
            ]
          },
          "metadata": {},
          "output_type": "display_data"
        },
        {
          "data": {
            "text/html": [
              " View sweep at <a href='https://wandb.ai/nalex22-uv-j02/multispec-leaf-disease-sweeps/sweeps/kz96xpi3' target=\"_blank\">https://wandb.ai/nalex22-uv-j02/multispec-leaf-disease-sweeps/sweeps/kz96xpi3</a>"
            ],
            "text/plain": [
              "<IPython.core.display.HTML object>"
            ]
          },
          "metadata": {},
          "output_type": "display_data"
        },
        {
          "data": {
            "text/html": [
              " View run at <a href='https://wandb.ai/nalex22-uv-j02/multispec-leaf-disease-sweeps/runs/ss2vwkal' target=\"_blank\">https://wandb.ai/nalex22-uv-j02/multispec-leaf-disease-sweeps/runs/ss2vwkal</a>"
            ],
            "text/plain": [
              "<IPython.core.display.HTML object>"
            ]
          },
          "metadata": {},
          "output_type": "display_data"
        },
        {
          "metadata": {
            "tags": null
          },
          "name": "stderr",
          "output_type": "stream",
          "text": [
            "/usr/local/lib/python3.10/dist-packages/huggingface_hub/file_download.py:1132: FutureWarning: `resume_download` is deprecated and will be removed in version 1.0.0. Downloads always resume when possible. If you want to force a new download, use `force_download=True`.\n",
            "  warnings.warn(\n",
            "Some weights of SegformerForSemanticSegmentation were not initialized from the model checkpoint at nvidia/mit-b2 and are newly initialized: ['decode_head.batch_norm.bias', 'decode_head.batch_norm.num_batches_tracked', 'decode_head.batch_norm.running_mean', 'decode_head.batch_norm.running_var', 'decode_head.batch_norm.weight', 'decode_head.classifier.bias', 'decode_head.classifier.weight', 'decode_head.linear_c.0.proj.bias', 'decode_head.linear_c.0.proj.weight', 'decode_head.linear_c.1.proj.bias', 'decode_head.linear_c.1.proj.weight', 'decode_head.linear_c.2.proj.bias', 'decode_head.linear_c.2.proj.weight', 'decode_head.linear_c.3.proj.bias', 'decode_head.linear_c.3.proj.weight', 'decode_head.linear_fuse.weight']\n",
            "You should probably TRAIN this model on a down-stream task to be able to use it for predictions and inference.\n",
            "\u001b[34m\u001b[1mwandb\u001b[0m: \u001b[33mWARNING\u001b[0m Config item 'learning_rate' was locked by 'sweep' (ignored update).\n",
            "\u001b[34m\u001b[1mwandb\u001b[0m: \u001b[33mWARNING\u001b[0m Config item 'weight_decay' was locked by 'sweep' (ignored update).\n"
          ]
        },
        {
          "data": {
            "text/html": [
              "\n",
              "    <div>\n",
              "      \n",
              "      <progress value='595' max='595' style='width:300px; height:20px; vertical-align: middle;'></progress>\n",
              "      [595/595 07:20, Epoch 5/5]\n",
              "    </div>\n",
              "    <table border=\"1\" class=\"dataframe\">\n",
              "  <thead>\n",
              " <tr style=\"text-align: left;\">\n",
              "      <th>Epoch</th>\n",
              "      <th>Training Loss</th>\n",
              "      <th>Validation Loss</th>\n",
              "      <th>Iou</th>\n",
              "      <th>Dice</th>\n",
              "      <th>Kappa Score</th>\n",
              "      <th>Mean</th>\n",
              "    </tr>\n",
              "  </thead>\n",
              "  <tbody>\n",
              "    <tr>\n",
              "      <td>1</td>\n",
              "      <td>0.844000</td>\n",
              "      <td>0.635733</td>\n",
              "      <td>0.255648</td>\n",
              "      <td>0.407197</td>\n",
              "      <td>0.403202</td>\n",
              "      <td>0.329425</td>\n",
              "    </tr>\n",
              "    <tr>\n",
              "      <td>2</td>\n",
              "      <td>0.499300</td>\n",
              "      <td>0.538518</td>\n",
              "      <td>0.341722</td>\n",
              "      <td>0.509379</td>\n",
              "      <td>0.506493</td>\n",
              "      <td>0.424108</td>\n",
              "    </tr>\n",
              "    <tr>\n",
              "      <td>3</td>\n",
              "      <td>0.438000</td>\n",
              "      <td>0.532092</td>\n",
              "      <td>0.343629</td>\n",
              "      <td>0.511493</td>\n",
              "      <td>0.508646</td>\n",
              "      <td>0.426137</td>\n",
              "    </tr>\n",
              "    <tr>\n",
              "      <td>4</td>\n",
              "      <td>0.409100</td>\n",
              "      <td>0.502709</td>\n",
              "      <td>0.374613</td>\n",
              "      <td>0.545045</td>\n",
              "      <td>0.542220</td>\n",
              "      <td>0.458416</td>\n",
              "    </tr>\n",
              "    <tr>\n",
              "      <td>5</td>\n",
              "      <td>0.386300</td>\n",
              "      <td>0.496158</td>\n",
              "      <td>0.378457</td>\n",
              "      <td>0.549102</td>\n",
              "      <td>0.546343</td>\n",
              "      <td>0.462400</td>\n",
              "    </tr>\n",
              "  </tbody>\n",
              "</table><p>"
            ],
            "text/plain": [
              "<IPython.core.display.HTML object>"
            ]
          },
          "metadata": {},
          "output_type": "display_data"
        },
        {
          "metadata": {
            "tags": null
          },
          "name": "stdout",
          "output_type": "stream",
          "text": [
            "Mean: 0.3294249736053978\n",
            "IoU: 0.2556481714406152\n",
            "Dice: 0.407197138904456\n",
            "kappa: 0.40320177577018046\n",
            "Mean: 0.4241078712977101\n",
            "IoU: 0.34172227912799663\n",
            "Dice: 0.509378556865116\n",
            "kappa: 0.5064934634674236\n",
            "Mean: 0.42613740198368544\n",
            "IoU: 0.3436285214428573\n",
            "Dice: 0.5114933420345251\n",
            "kappa: 0.5086462825245135\n",
            "Mean: 0.4584164338041822\n",
            "IoU: 0.3746127277908356\n",
            "Dice: 0.5450447536490984\n",
            "kappa: 0.5422201398175288\n",
            "Mean: 0.46239997959766743\n",
            "IoU: 0.37845702082221033\n",
            "Dice: 0.5491023878226853\n",
            "kappa: 0.5463429383731245\n"
          ]
        },
        {
          "data": {
            "application/vnd.jupyter.widget-view+json": {
              "model_id": "e2f34848fa714fbea23d03ed57269e13",
              "version_major": 2,
              "version_minor": 0
            },
            "text/plain": [
              "VBox(children=(Label(value='0.002 MB of 0.002 MB uploaded\\r'), FloatProgress(value=1.0, max=1.0)))"
            ]
          },
          "metadata": {},
          "output_type": "display_data"
        },
        {
          "data": {
            "text/html": [
              "<style>\n",
              "    table.wandb td:nth-child(1) { padding: 0 10px; text-align: left ; width: auto;} td:nth-child(2) {text-align: left ; width: 100%}\n",
              "    .wandb-row { display: flex; flex-direction: row; flex-wrap: wrap; justify-content: flex-start; width: 100% }\n",
              "    .wandb-col { display: flex; flex-direction: column; flex-basis: 100%; flex: 1; padding: 10px; }\n",
              "    </style>\n",
              "<div class=\"wandb-row\"><div class=\"wandb-col\"><h3>Run history:</h3><br/><table class=\"wandb\"><tr><td>eval/Dice</td><td>▁▆▆██</td></tr><tr><td>eval/IoU</td><td>▁▆▆██</td></tr><tr><td>eval/kappa_score</td><td>▁▆▆██</td></tr><tr><td>eval/loss</td><td>█▃▃▁▁</td></tr><tr><td>eval/mean</td><td>▁▆▆██</td></tr><tr><td>eval/runtime</td><td>▇▇█▇▁</td></tr><tr><td>eval/samples_per_second</td><td>▁▂▁▂█</td></tr><tr><td>eval/steps_per_second</td><td>▁▁▁▁█</td></tr><tr><td>train/epoch</td><td>▁▁▃▃▅▅▆▆███</td></tr><tr><td>train/global_step</td><td>▁▁▃▃▅▅▆▆███</td></tr><tr><td>train/grad_norm</td><td>█▄▁▄▁</td></tr><tr><td>train/learning_rate</td><td>█▆▄▃▁</td></tr><tr><td>train/loss</td><td>█▃▂▁▁</td></tr></table><br/></div><div class=\"wandb-col\"><h3>Run summary:</h3><br/><table class=\"wandb\"><tr><td>eval/Dice</td><td>0.5491</td></tr><tr><td>eval/IoU</td><td>0.37846</td></tr><tr><td>eval/kappa_score</td><td>0.54634</td></tr><tr><td>eval/loss</td><td>0.49616</td></tr><tr><td>eval/mean</td><td>0.4624</td></tr><tr><td>eval/runtime</td><td>43.2924</td></tr><tr><td>eval/samples_per_second</td><td>4.851</td></tr><tr><td>eval/steps_per_second</td><td>0.624</td></tr><tr><td>total_flos</td><td>1.219893043396608e+18</td></tr><tr><td>train/epoch</td><td>5.0</td></tr><tr><td>train/global_step</td><td>595</td></tr><tr><td>train/grad_norm</td><td>0.9455</td></tr><tr><td>train/learning_rate</td><td>0.0</td></tr><tr><td>train/loss</td><td>0.3863</td></tr><tr><td>train_loss</td><td>0.51534</td></tr><tr><td>train_runtime</td><td>441.5046</td></tr><tr><td>train_samples_per_second</td><td>10.702</td></tr><tr><td>train_steps_per_second</td><td>1.348</td></tr></table><br/></div></div>"
            ],
            "text/plain": [
              "<IPython.core.display.HTML object>"
            ]
          },
          "metadata": {},
          "output_type": "display_data"
        },
        {
          "data": {
            "text/html": [
              " View run <strong style=\"color:#cdcd00\">polished-sweep-25</strong> at: <a href='https://wandb.ai/nalex22-uv-j02/multispec-leaf-disease-sweeps/runs/ss2vwkal' target=\"_blank\">https://wandb.ai/nalex22-uv-j02/multispec-leaf-disease-sweeps/runs/ss2vwkal</a><br/> View project at: <a href='https://wandb.ai/nalex22-uv-j02/multispec-leaf-disease-sweeps' target=\"_blank\">https://wandb.ai/nalex22-uv-j02/multispec-leaf-disease-sweeps</a><br/>Synced 5 W&B file(s), 0 media file(s), 0 artifact file(s) and 0 other file(s)"
            ],
            "text/plain": [
              "<IPython.core.display.HTML object>"
            ]
          },
          "metadata": {},
          "output_type": "display_data"
        },
        {
          "data": {
            "text/html": [
              "Find logs at: <code>./wandb/run-20240517_162432-ss2vwkal/logs</code>"
            ],
            "text/plain": [
              "<IPython.core.display.HTML object>"
            ]
          },
          "metadata": {},
          "output_type": "display_data"
        },
        {
          "metadata": {
            "tags": null
          },
          "name": "stderr",
          "output_type": "stream",
          "text": [
            "\u001b[34m\u001b[1mwandb\u001b[0m: Sweep Agent: Waiting for job.\n",
            "\u001b[34m\u001b[1mwandb\u001b[0m: Job received.\n",
            "\u001b[34m\u001b[1mwandb\u001b[0m: Agent Starting Run: o0b7apca with config:\n",
            "\u001b[34m\u001b[1mwandb\u001b[0m: \tbatch_size: 8\n",
            "\u001b[34m\u001b[1mwandb\u001b[0m: \tbetta_1: 0.6294689182186379\n",
            "\u001b[34m\u001b[1mwandb\u001b[0m: \tbetta_2: 0.6669213372166207\n",
            "\u001b[34m\u001b[1mwandb\u001b[0m: \tclass_weight_0: 3.4896857896544\n",
            "\u001b[34m\u001b[1mwandb\u001b[0m: \tclass_weight_1: 10.335706443686828\n",
            "\u001b[34m\u001b[1mwandb\u001b[0m: \tepochs: 5\n",
            "\u001b[34m\u001b[1mwandb\u001b[0m: \tfocal_alpha: 0.7097873490532013\n",
            "\u001b[34m\u001b[1mwandb\u001b[0m: \tfocal_gamma: 0.9896388172583808\n",
            "\u001b[34m\u001b[1mwandb\u001b[0m: \tlearning_rate: 0.0004487272434322498\n",
            "\u001b[34m\u001b[1mwandb\u001b[0m: \tnum_warmup_steps: 77\n",
            "\u001b[34m\u001b[1mwandb\u001b[0m: \tobjective: DiceLoss\n",
            "\u001b[34m\u001b[1mwandb\u001b[0m: \tsmooth: 0.3669361074269126\n",
            "\u001b[34m\u001b[1mwandb\u001b[0m: \ttversky_alpha: 0.6068108585122916\n",
            "\u001b[34m\u001b[1mwandb\u001b[0m: \ttversky_betta: 0.20622973804509623\n",
            "\u001b[34m\u001b[1mwandb\u001b[0m: \tweight_decay: 1.1080791556138363\n"
          ]
        },
        {
          "data": {
            "text/html": [
              "Tracking run with wandb version 0.17.0"
            ],
            "text/plain": [
              "<IPython.core.display.HTML object>"
            ]
          },
          "metadata": {},
          "output_type": "display_data"
        },
        {
          "data": {
            "text/html": [
              "Run data is saved locally in <code>/content/wandb/run-20240517_163225-o0b7apca</code>"
            ],
            "text/plain": [
              "<IPython.core.display.HTML object>"
            ]
          },
          "metadata": {},
          "output_type": "display_data"
        },
        {
          "data": {
            "text/html": [
              "Syncing run <strong><a href='https://wandb.ai/nalex22-uv-j02/multispec-leaf-disease-sweeps/runs/o0b7apca' target=\"_blank\">lucky-sweep-26</a></strong> to <a href='https://wandb.ai/nalex22-uv-j02/multispec-leaf-disease-sweeps' target=\"_blank\">Weights & Biases</a> (<a href='https://wandb.me/run' target=\"_blank\">docs</a>)<br/>Sweep page: <a href='https://wandb.ai/nalex22-uv-j02/multispec-leaf-disease-sweeps/sweeps/kz96xpi3' target=\"_blank\">https://wandb.ai/nalex22-uv-j02/multispec-leaf-disease-sweeps/sweeps/kz96xpi3</a>"
            ],
            "text/plain": [
              "<IPython.core.display.HTML object>"
            ]
          },
          "metadata": {},
          "output_type": "display_data"
        },
        {
          "data": {
            "text/html": [
              " View project at <a href='https://wandb.ai/nalex22-uv-j02/multispec-leaf-disease-sweeps' target=\"_blank\">https://wandb.ai/nalex22-uv-j02/multispec-leaf-disease-sweeps</a>"
            ],
            "text/plain": [
              "<IPython.core.display.HTML object>"
            ]
          },
          "metadata": {},
          "output_type": "display_data"
        },
        {
          "data": {
            "text/html": [
              " View sweep at <a href='https://wandb.ai/nalex22-uv-j02/multispec-leaf-disease-sweeps/sweeps/kz96xpi3' target=\"_blank\">https://wandb.ai/nalex22-uv-j02/multispec-leaf-disease-sweeps/sweeps/kz96xpi3</a>"
            ],
            "text/plain": [
              "<IPython.core.display.HTML object>"
            ]
          },
          "metadata": {},
          "output_type": "display_data"
        },
        {
          "data": {
            "text/html": [
              " View run at <a href='https://wandb.ai/nalex22-uv-j02/multispec-leaf-disease-sweeps/runs/o0b7apca' target=\"_blank\">https://wandb.ai/nalex22-uv-j02/multispec-leaf-disease-sweeps/runs/o0b7apca</a>"
            ],
            "text/plain": [
              "<IPython.core.display.HTML object>"
            ]
          },
          "metadata": {},
          "output_type": "display_data"
        },
        {
          "metadata": {
            "tags": null
          },
          "name": "stderr",
          "output_type": "stream",
          "text": [
            "/usr/local/lib/python3.10/dist-packages/huggingface_hub/file_download.py:1132: FutureWarning: `resume_download` is deprecated and will be removed in version 1.0.0. Downloads always resume when possible. If you want to force a new download, use `force_download=True`.\n",
            "  warnings.warn(\n",
            "Some weights of SegformerForSemanticSegmentation were not initialized from the model checkpoint at nvidia/mit-b2 and are newly initialized: ['decode_head.batch_norm.bias', 'decode_head.batch_norm.num_batches_tracked', 'decode_head.batch_norm.running_mean', 'decode_head.batch_norm.running_var', 'decode_head.batch_norm.weight', 'decode_head.classifier.bias', 'decode_head.classifier.weight', 'decode_head.linear_c.0.proj.bias', 'decode_head.linear_c.0.proj.weight', 'decode_head.linear_c.1.proj.bias', 'decode_head.linear_c.1.proj.weight', 'decode_head.linear_c.2.proj.bias', 'decode_head.linear_c.2.proj.weight', 'decode_head.linear_c.3.proj.bias', 'decode_head.linear_c.3.proj.weight', 'decode_head.linear_fuse.weight']\n",
            "You should probably TRAIN this model on a down-stream task to be able to use it for predictions and inference.\n",
            "\u001b[34m\u001b[1mwandb\u001b[0m: \u001b[33mWARNING\u001b[0m Config item 'learning_rate' was locked by 'sweep' (ignored update).\n",
            "\u001b[34m\u001b[1mwandb\u001b[0m: \u001b[33mWARNING\u001b[0m Config item 'weight_decay' was locked by 'sweep' (ignored update).\n"
          ]
        },
        {
          "data": {
            "text/html": [
              "\n",
              "    <div>\n",
              "      \n",
              "      <progress value='595' max='595' style='width:300px; height:20px; vertical-align: middle;'></progress>\n",
              "      [595/595 07:20, Epoch 5/5]\n",
              "    </div>\n",
              "    <table border=\"1\" class=\"dataframe\">\n",
              "  <thead>\n",
              " <tr style=\"text-align: left;\">\n",
              "      <th>Epoch</th>\n",
              "      <th>Training Loss</th>\n",
              "      <th>Validation Loss</th>\n",
              "      <th>Iou</th>\n",
              "      <th>Dice</th>\n",
              "      <th>Kappa Score</th>\n",
              "      <th>Mean</th>\n",
              "    </tr>\n",
              "  </thead>\n",
              "  <tbody>\n",
              "    <tr>\n",
              "      <td>1</td>\n",
              "      <td>0.883600</td>\n",
              "      <td>0.683173</td>\n",
              "      <td>0.240393</td>\n",
              "      <td>0.387607</td>\n",
              "      <td>0.383157</td>\n",
              "      <td>0.311775</td>\n",
              "    </tr>\n",
              "    <tr>\n",
              "      <td>2</td>\n",
              "      <td>0.526800</td>\n",
              "      <td>0.559947</td>\n",
              "      <td>0.320438</td>\n",
              "      <td>0.485351</td>\n",
              "      <td>0.482008</td>\n",
              "      <td>0.401223</td>\n",
              "    </tr>\n",
              "    <tr>\n",
              "      <td>3</td>\n",
              "      <td>0.437200</td>\n",
              "      <td>0.531385</td>\n",
              "      <td>0.350125</td>\n",
              "      <td>0.518655</td>\n",
              "      <td>0.515344</td>\n",
              "      <td>0.432734</td>\n",
              "    </tr>\n",
              "    <tr>\n",
              "      <td>4</td>\n",
              "      <td>0.403900</td>\n",
              "      <td>0.513712</td>\n",
              "      <td>0.365825</td>\n",
              "      <td>0.535684</td>\n",
              "      <td>0.532840</td>\n",
              "      <td>0.449333</td>\n",
              "    </tr>\n",
              "    <tr>\n",
              "      <td>5</td>\n",
              "      <td>0.380300</td>\n",
              "      <td>0.508837</td>\n",
              "      <td>0.370360</td>\n",
              "      <td>0.540529</td>\n",
              "      <td>0.537776</td>\n",
              "      <td>0.454068</td>\n",
              "    </tr>\n",
              "  </tbody>\n",
              "</table><p>"
            ],
            "text/plain": [
              "<IPython.core.display.HTML object>"
            ]
          },
          "metadata": {},
          "output_type": "display_data"
        },
        {
          "metadata": {
            "tags": null
          },
          "name": "stdout",
          "output_type": "stream",
          "text": [
            "Mean: 0.3117750012629517\n",
            "IoU: 0.2403925315180261\n",
            "Dice: 0.3876071895141568\n",
            "kappa: 0.38315747100787734\n",
            "Mean: 0.4012227281953946\n",
            "IoU: 0.32043793450675706\n",
            "Dice: 0.48535099777552976\n",
            "kappa: 0.4820075218840322\n",
            "Mean: 0.43273449388125523\n",
            "IoU: 0.3501245314437429\n",
            "Dice: 0.5186551659339758\n",
            "kappa: 0.5153444563187676\n",
            "Mean: 0.44933261067633196\n",
            "IoU: 0.3658249907983008\n",
            "Dice: 0.5356835513523333\n",
            "kappa: 0.5328402305543631\n",
            "Mean: 0.4540675860828379\n",
            "IoU: 0.3703596643548605\n",
            "Dice: 0.5405291384276387\n",
            "kappa: 0.5377755078108153\n"
          ]
        },
        {
          "data": {
            "application/vnd.jupyter.widget-view+json": {
              "model_id": "70330e119f2d484cba670c9ec5702892",
              "version_major": 2,
              "version_minor": 0
            },
            "text/plain": [
              "VBox(children=(Label(value='0.002 MB of 0.002 MB uploaded\\r'), FloatProgress(value=1.0, max=1.0)))"
            ]
          },
          "metadata": {},
          "output_type": "display_data"
        },
        {
          "data": {
            "text/html": [
              "<style>\n",
              "    table.wandb td:nth-child(1) { padding: 0 10px; text-align: left ; width: auto;} td:nth-child(2) {text-align: left ; width: 100%}\n",
              "    .wandb-row { display: flex; flex-direction: row; flex-wrap: wrap; justify-content: flex-start; width: 100% }\n",
              "    .wandb-col { display: flex; flex-direction: column; flex-basis: 100%; flex: 1; padding: 10px; }\n",
              "    </style>\n",
              "<div class=\"wandb-row\"><div class=\"wandb-col\"><h3>Run history:</h3><br/><table class=\"wandb\"><tr><td>eval/Dice</td><td>▁▅▇██</td></tr><tr><td>eval/IoU</td><td>▁▅▇██</td></tr><tr><td>eval/kappa_score</td><td>▁▅▇██</td></tr><tr><td>eval/loss</td><td>█▃▂▁▁</td></tr><tr><td>eval/mean</td><td>▁▅▇██</td></tr><tr><td>eval/runtime</td><td>▅█▄▆▁</td></tr><tr><td>eval/samples_per_second</td><td>▄▁▅▃█</td></tr><tr><td>eval/steps_per_second</td><td>▄▁▅▂█</td></tr><tr><td>train/epoch</td><td>▁▁▃▃▅▅▆▆███</td></tr><tr><td>train/global_step</td><td>▁▁▃▃▅▅▆▆███</td></tr><tr><td>train/grad_norm</td><td>▃▅▂█▁</td></tr><tr><td>train/learning_rate</td><td>█▆▄▃▁</td></tr><tr><td>train/loss</td><td>█▃▂▁▁</td></tr></table><br/></div><div class=\"wandb-col\"><h3>Run summary:</h3><br/><table class=\"wandb\"><tr><td>eval/Dice</td><td>0.54053</td></tr><tr><td>eval/IoU</td><td>0.37036</td></tr><tr><td>eval/kappa_score</td><td>0.53778</td></tr><tr><td>eval/loss</td><td>0.50884</td></tr><tr><td>eval/mean</td><td>0.45407</td></tr><tr><td>eval/runtime</td><td>43.127</td></tr><tr><td>eval/samples_per_second</td><td>4.869</td></tr><tr><td>eval/steps_per_second</td><td>0.626</td></tr><tr><td>total_flos</td><td>1.219893043396608e+18</td></tr><tr><td>train/epoch</td><td>5.0</td></tr><tr><td>train/global_step</td><td>595</td></tr><tr><td>train/grad_norm</td><td>1.25015</td></tr><tr><td>train/learning_rate</td><td>0.0</td></tr><tr><td>train/loss</td><td>0.3803</td></tr><tr><td>train_loss</td><td>0.52636</td></tr><tr><td>train_runtime</td><td>441.0198</td></tr><tr><td>train_samples_per_second</td><td>10.714</td></tr><tr><td>train_steps_per_second</td><td>1.349</td></tr></table><br/></div></div>"
            ],
            "text/plain": [
              "<IPython.core.display.HTML object>"
            ]
          },
          "metadata": {},
          "output_type": "display_data"
        },
        {
          "data": {
            "text/html": [
              " View run <strong style=\"color:#cdcd00\">lucky-sweep-26</strong> at: <a href='https://wandb.ai/nalex22-uv-j02/multispec-leaf-disease-sweeps/runs/o0b7apca' target=\"_blank\">https://wandb.ai/nalex22-uv-j02/multispec-leaf-disease-sweeps/runs/o0b7apca</a><br/> View project at: <a href='https://wandb.ai/nalex22-uv-j02/multispec-leaf-disease-sweeps' target=\"_blank\">https://wandb.ai/nalex22-uv-j02/multispec-leaf-disease-sweeps</a><br/>Synced 5 W&B file(s), 0 media file(s), 0 artifact file(s) and 0 other file(s)"
            ],
            "text/plain": [
              "<IPython.core.display.HTML object>"
            ]
          },
          "metadata": {},
          "output_type": "display_data"
        },
        {
          "data": {
            "text/html": [
              "Find logs at: <code>./wandb/run-20240517_163225-o0b7apca/logs</code>"
            ],
            "text/plain": [
              "<IPython.core.display.HTML object>"
            ]
          },
          "metadata": {},
          "output_type": "display_data"
        },
        {
          "output_type": "stream",
          "name": "stderr",
          "text": [
            "\u001b[34m\u001b[1mwandb\u001b[0m: Sweep Agent: Waiting for job.\n",
            "\u001b[34m\u001b[1mwandb\u001b[0m: Job received.\n",
            "\u001b[34m\u001b[1mwandb\u001b[0m: Agent Starting Run: 49ygzp31 with config:\n",
            "\u001b[34m\u001b[1mwandb\u001b[0m: \tbatch_size: 8\n",
            "\u001b[34m\u001b[1mwandb\u001b[0m: \tbetta_1: 0.5235374681528719\n",
            "\u001b[34m\u001b[1mwandb\u001b[0m: \tbetta_2: 0.6816044531247581\n",
            "\u001b[34m\u001b[1mwandb\u001b[0m: \tclass_weight_0: 1.3924617617792947\n",
            "\u001b[34m\u001b[1mwandb\u001b[0m: \tclass_weight_1: 44.85923342540586\n",
            "\u001b[34m\u001b[1mwandb\u001b[0m: \tepochs: 5\n",
            "\u001b[34m\u001b[1mwandb\u001b[0m: \tfocal_alpha: 0.6560744248042729\n",
            "\u001b[34m\u001b[1mwandb\u001b[0m: \tfocal_gamma: 3.5488196579789246\n",
            "\u001b[34m\u001b[1mwandb\u001b[0m: \tlearning_rate: 1.3009822060879884e-05\n",
            "\u001b[34m\u001b[1mwandb\u001b[0m: \tnum_warmup_steps: 18\n",
            "\u001b[34m\u001b[1mwandb\u001b[0m: \tobjective: DiceLoss\n",
            "\u001b[34m\u001b[1mwandb\u001b[0m: \tsmooth: 0.13900516493919185\n",
            "\u001b[34m\u001b[1mwandb\u001b[0m: \ttversky_alpha: 0.40620230806402535\n",
            "\u001b[34m\u001b[1mwandb\u001b[0m: \ttversky_betta: 0.4588779709239395\n",
            "\u001b[34m\u001b[1mwandb\u001b[0m: \tweight_decay: 0.11494105313993835\n"
          ]
        },
        {
          "output_type": "display_data",
          "data": {
            "text/plain": [
              "<IPython.core.display.HTML object>"
            ],
            "text/html": [
              "Tracking run with wandb version 0.17.0"
            ]
          },
          "metadata": {}
        },
        {
          "output_type": "display_data",
          "data": {
            "text/plain": [
              "<IPython.core.display.HTML object>"
            ],
            "text/html": [
              "Run data is saved locally in <code>/content/wandb/run-20240517_164017-49ygzp31</code>"
            ]
          },
          "metadata": {}
        },
        {
          "output_type": "display_data",
          "data": {
            "text/plain": [
              "<IPython.core.display.HTML object>"
            ],
            "text/html": [
              "Syncing run <strong><a href='https://wandb.ai/nalex22-uv-j02/multispec-leaf-disease-sweeps/runs/49ygzp31' target=\"_blank\">whole-sweep-27</a></strong> to <a href='https://wandb.ai/nalex22-uv-j02/multispec-leaf-disease-sweeps' target=\"_blank\">Weights & Biases</a> (<a href='https://wandb.me/run' target=\"_blank\">docs</a>)<br/>Sweep page: <a href='https://wandb.ai/nalex22-uv-j02/multispec-leaf-disease-sweeps/sweeps/kz96xpi3' target=\"_blank\">https://wandb.ai/nalex22-uv-j02/multispec-leaf-disease-sweeps/sweeps/kz96xpi3</a>"
            ]
          },
          "metadata": {}
        },
        {
          "output_type": "display_data",
          "data": {
            "text/plain": [
              "<IPython.core.display.HTML object>"
            ],
            "text/html": [
              " View project at <a href='https://wandb.ai/nalex22-uv-j02/multispec-leaf-disease-sweeps' target=\"_blank\">https://wandb.ai/nalex22-uv-j02/multispec-leaf-disease-sweeps</a>"
            ]
          },
          "metadata": {}
        },
        {
          "output_type": "display_data",
          "data": {
            "text/plain": [
              "<IPython.core.display.HTML object>"
            ],
            "text/html": [
              " View sweep at <a href='https://wandb.ai/nalex22-uv-j02/multispec-leaf-disease-sweeps/sweeps/kz96xpi3' target=\"_blank\">https://wandb.ai/nalex22-uv-j02/multispec-leaf-disease-sweeps/sweeps/kz96xpi3</a>"
            ]
          },
          "metadata": {}
        },
        {
          "output_type": "display_data",
          "data": {
            "text/plain": [
              "<IPython.core.display.HTML object>"
            ],
            "text/html": [
              " View run at <a href='https://wandb.ai/nalex22-uv-j02/multispec-leaf-disease-sweeps/runs/49ygzp31' target=\"_blank\">https://wandb.ai/nalex22-uv-j02/multispec-leaf-disease-sweeps/runs/49ygzp31</a>"
            ]
          },
          "metadata": {}
        },
        {
          "output_type": "stream",
          "name": "stderr",
          "text": [
            "/usr/local/lib/python3.10/dist-packages/huggingface_hub/file_download.py:1132: FutureWarning: `resume_download` is deprecated and will be removed in version 1.0.0. Downloads always resume when possible. If you want to force a new download, use `force_download=True`.\n",
            "  warnings.warn(\n",
            "Some weights of SegformerForSemanticSegmentation were not initialized from the model checkpoint at nvidia/mit-b2 and are newly initialized: ['decode_head.batch_norm.bias', 'decode_head.batch_norm.num_batches_tracked', 'decode_head.batch_norm.running_mean', 'decode_head.batch_norm.running_var', 'decode_head.batch_norm.weight', 'decode_head.classifier.bias', 'decode_head.classifier.weight', 'decode_head.linear_c.0.proj.bias', 'decode_head.linear_c.0.proj.weight', 'decode_head.linear_c.1.proj.bias', 'decode_head.linear_c.1.proj.weight', 'decode_head.linear_c.2.proj.bias', 'decode_head.linear_c.2.proj.weight', 'decode_head.linear_c.3.proj.bias', 'decode_head.linear_c.3.proj.weight', 'decode_head.linear_fuse.weight']\n",
            "You should probably TRAIN this model on a down-stream task to be able to use it for predictions and inference.\n",
            "\u001b[34m\u001b[1mwandb\u001b[0m: \u001b[33mWARNING\u001b[0m Config item 'learning_rate' was locked by 'sweep' (ignored update).\n",
            "\u001b[34m\u001b[1mwandb\u001b[0m: \u001b[33mWARNING\u001b[0m Config item 'weight_decay' was locked by 'sweep' (ignored update).\n"
          ]
        },
        {
          "output_type": "display_data",
          "data": {
            "text/plain": [
              "<IPython.core.display.HTML object>"
            ],
            "text/html": [
              "\n",
              "    <div>\n",
              "      \n",
              "      <progress value='595' max='595' style='width:300px; height:20px; vertical-align: middle;'></progress>\n",
              "      [595/595 07:19, Epoch 5/5]\n",
              "    </div>\n",
              "    <table border=\"1\" class=\"dataframe\">\n",
              "  <thead>\n",
              " <tr style=\"text-align: left;\">\n",
              "      <th>Epoch</th>\n",
              "      <th>Training Loss</th>\n",
              "      <th>Validation Loss</th>\n",
              "      <th>Iou</th>\n",
              "      <th>Dice</th>\n",
              "      <th>Kappa Score</th>\n",
              "      <th>Mean</th>\n",
              "    </tr>\n",
              "  </thead>\n",
              "  <tbody>\n",
              "    <tr>\n",
              "      <td>1</td>\n",
              "      <td>0.974600</td>\n",
              "      <td>0.975474</td>\n",
              "      <td>0.013870</td>\n",
              "      <td>0.027361</td>\n",
              "      <td>0.015154</td>\n",
              "      <td>0.014512</td>\n",
              "    </tr>\n",
              "    <tr>\n",
              "      <td>2</td>\n",
              "      <td>0.966900</td>\n",
              "      <td>0.974689</td>\n",
              "      <td>0.015049</td>\n",
              "      <td>0.029651</td>\n",
              "      <td>0.017575</td>\n",
              "      <td>0.016312</td>\n",
              "    </tr>\n",
              "    <tr>\n",
              "      <td>3</td>\n",
              "      <td>0.962200</td>\n",
              "      <td>0.973300</td>\n",
              "      <td>0.015790</td>\n",
              "      <td>0.031090</td>\n",
              "      <td>0.019007</td>\n",
              "      <td>0.017399</td>\n",
              "    </tr>\n",
              "    <tr>\n",
              "      <td>4</td>\n",
              "      <td>0.960100</td>\n",
              "      <td>0.971689</td>\n",
              "      <td>0.016662</td>\n",
              "      <td>0.032778</td>\n",
              "      <td>0.020744</td>\n",
              "      <td>0.018703</td>\n",
              "    </tr>\n",
              "    <tr>\n",
              "      <td>5</td>\n",
              "      <td>0.958400</td>\n",
              "      <td>0.970739</td>\n",
              "      <td>0.017552</td>\n",
              "      <td>0.034499</td>\n",
              "      <td>0.022551</td>\n",
              "      <td>0.020052</td>\n",
              "    </tr>\n",
              "  </tbody>\n",
              "</table><p>"
            ]
          },
          "metadata": {}
        },
        {
          "output_type": "stream",
          "name": "stdout",
          "text": [
            "Mean: 0.014511967576773206\n",
            "IoU: 0.013870094960461559\n",
            "Dice: 0.027360694490160417\n",
            "kappa: 0.015153840193084855\n",
            "Mean: 0.016312040254785175\n",
            "IoU: 0.015048744003713829\n",
            "Dice: 0.02965127358190942\n",
            "kappa: 0.01757533650585652\n",
            "Mean: 0.01739853123928845\n",
            "IoU: 0.015790471250254852\n",
            "Dice: 0.031090016488970664\n",
            "kappa: 0.019006591228322045\n",
            "Mean: 0.01870290617855931\n",
            "IoU: 0.016662020157374974\n",
            "Dice: 0.03277789437790892\n",
            "kappa: 0.02074379219974365\n",
            "Mean: 0.020051689629064312\n",
            "IoU: 0.01755236323527826\n",
            "Dice: 0.034499184257154154\n",
            "kappa: 0.022551016022850368\n"
          ]
        },
        {
          "output_type": "display_data",
          "data": {
            "text/plain": [
              "VBox(children=(Label(value='0.002 MB of 0.002 MB uploaded\\r'), FloatProgress(value=1.0, max=1.0)))"
            ],
            "application/vnd.jupyter.widget-view+json": {
              "version_major": 2,
              "version_minor": 0,
              "model_id": "37ccc62415f2429c9660756fdca0faec"
            }
          },
          "metadata": {}
        },
        {
          "output_type": "display_data",
          "data": {
            "text/plain": [
              "<IPython.core.display.HTML object>"
            ],
            "text/html": [
              "<style>\n",
              "    table.wandb td:nth-child(1) { padding: 0 10px; text-align: left ; width: auto;} td:nth-child(2) {text-align: left ; width: 100%}\n",
              "    .wandb-row { display: flex; flex-direction: row; flex-wrap: wrap; justify-content: flex-start; width: 100% }\n",
              "    .wandb-col { display: flex; flex-direction: column; flex-basis: 100%; flex: 1; padding: 10px; }\n",
              "    </style>\n",
              "<div class=\"wandb-row\"><div class=\"wandb-col\"><h3>Run history:</h3><br/><table class=\"wandb\"><tr><td>eval/Dice</td><td>▁▃▅▆█</td></tr><tr><td>eval/IoU</td><td>▁▃▅▆█</td></tr><tr><td>eval/kappa_score</td><td>▁▃▅▆█</td></tr><tr><td>eval/loss</td><td>█▇▅▂▁</td></tr><tr><td>eval/mean</td><td>▁▃▅▆█</td></tr><tr><td>eval/runtime</td><td>▆▆▆█▁</td></tr><tr><td>eval/samples_per_second</td><td>▃▃▃▁█</td></tr><tr><td>eval/steps_per_second</td><td>▃▃▃▁█</td></tr><tr><td>train/epoch</td><td>▁▁▃▃▅▅▆▆███</td></tr><tr><td>train/global_step</td><td>▁▁▃▃▅▅▆▆███</td></tr><tr><td>train/grad_norm</td><td>▂▁▃▂█</td></tr><tr><td>train/learning_rate</td><td>█▆▄▃▁</td></tr><tr><td>train/loss</td><td>█▅▃▂▁</td></tr></table><br/></div><div class=\"wandb-col\"><h3>Run summary:</h3><br/><table class=\"wandb\"><tr><td>eval/Dice</td><td>0.0345</td></tr><tr><td>eval/IoU</td><td>0.01755</td></tr><tr><td>eval/kappa_score</td><td>0.02255</td></tr><tr><td>eval/loss</td><td>0.97074</td></tr><tr><td>eval/mean</td><td>0.02005</td></tr><tr><td>eval/runtime</td><td>43.016</td></tr><tr><td>eval/samples_per_second</td><td>4.882</td></tr><tr><td>eval/steps_per_second</td><td>0.628</td></tr><tr><td>total_flos</td><td>1.219893043396608e+18</td></tr><tr><td>train/epoch</td><td>5.0</td></tr><tr><td>train/global_step</td><td>595</td></tr><tr><td>train/grad_norm</td><td>2.26682</td></tr><tr><td>train/learning_rate</td><td>0.0</td></tr><tr><td>train/loss</td><td>0.9584</td></tr><tr><td>train_loss</td><td>0.96443</td></tr><tr><td>train_runtime</td><td>440.3613</td></tr><tr><td>train_samples_per_second</td><td>10.73</td></tr><tr><td>train_steps_per_second</td><td>1.351</td></tr></table><br/></div></div>"
            ]
          },
          "metadata": {}
        },
        {
          "output_type": "display_data",
          "data": {
            "text/plain": [
              "<IPython.core.display.HTML object>"
            ],
            "text/html": [
              " View run <strong style=\"color:#cdcd00\">whole-sweep-27</strong> at: <a href='https://wandb.ai/nalex22-uv-j02/multispec-leaf-disease-sweeps/runs/49ygzp31' target=\"_blank\">https://wandb.ai/nalex22-uv-j02/multispec-leaf-disease-sweeps/runs/49ygzp31</a><br/> View project at: <a href='https://wandb.ai/nalex22-uv-j02/multispec-leaf-disease-sweeps' target=\"_blank\">https://wandb.ai/nalex22-uv-j02/multispec-leaf-disease-sweeps</a><br/>Synced 5 W&B file(s), 0 media file(s), 0 artifact file(s) and 0 other file(s)"
            ]
          },
          "metadata": {}
        },
        {
          "output_type": "display_data",
          "data": {
            "text/plain": [
              "<IPython.core.display.HTML object>"
            ],
            "text/html": [
              "Find logs at: <code>./wandb/run-20240517_164017-49ygzp31/logs</code>"
            ]
          },
          "metadata": {}
        },
        {
          "output_type": "stream",
          "name": "stderr",
          "text": [
            "\u001b[34m\u001b[1mwandb\u001b[0m: Agent Starting Run: ci5t37lr with config:\n",
            "\u001b[34m\u001b[1mwandb\u001b[0m: \tbatch_size: 8\n",
            "\u001b[34m\u001b[1mwandb\u001b[0m: \tbetta_1: 0.8858163444838021\n",
            "\u001b[34m\u001b[1mwandb\u001b[0m: \tbetta_2: 0.8143865708746238\n",
            "\u001b[34m\u001b[1mwandb\u001b[0m: \tclass_weight_0: 3.704705940358119\n",
            "\u001b[34m\u001b[1mwandb\u001b[0m: \tclass_weight_1: 39.1904586429003\n",
            "\u001b[34m\u001b[1mwandb\u001b[0m: \tepochs: 5\n",
            "\u001b[34m\u001b[1mwandb\u001b[0m: \tfocal_alpha: 0.5116269850751485\n",
            "\u001b[34m\u001b[1mwandb\u001b[0m: \tfocal_gamma: 1.7087746949820404\n",
            "\u001b[34m\u001b[1mwandb\u001b[0m: \tlearning_rate: 0.0006902614581064151\n",
            "\u001b[34m\u001b[1mwandb\u001b[0m: \tnum_warmup_steps: 84\n",
            "\u001b[34m\u001b[1mwandb\u001b[0m: \tobjective: FocalLoss\n",
            "\u001b[34m\u001b[1mwandb\u001b[0m: \tsmooth: 0.7840431280668245\n",
            "\u001b[34m\u001b[1mwandb\u001b[0m: \ttversky_alpha: 0.48790437352155935\n",
            "\u001b[34m\u001b[1mwandb\u001b[0m: \ttversky_betta: 0.3779699123603384\n",
            "\u001b[34m\u001b[1mwandb\u001b[0m: \tweight_decay: 0.06775418991454668\n"
          ]
        },
        {
          "output_type": "display_data",
          "data": {
            "text/plain": [
              "<IPython.core.display.HTML object>"
            ],
            "text/html": [
              "Tracking run with wandb version 0.17.0"
            ]
          },
          "metadata": {}
        },
        {
          "output_type": "display_data",
          "data": {
            "text/plain": [
              "<IPython.core.display.HTML object>"
            ],
            "text/html": [
              "Run data is saved locally in <code>/content/wandb/run-20240517_164802-ci5t37lr</code>"
            ]
          },
          "metadata": {}
        },
        {
          "output_type": "display_data",
          "data": {
            "text/plain": [
              "<IPython.core.display.HTML object>"
            ],
            "text/html": [
              "Syncing run <strong><a href='https://wandb.ai/nalex22-uv-j02/multispec-leaf-disease-sweeps/runs/ci5t37lr' target=\"_blank\">firm-sweep-28</a></strong> to <a href='https://wandb.ai/nalex22-uv-j02/multispec-leaf-disease-sweeps' target=\"_blank\">Weights & Biases</a> (<a href='https://wandb.me/run' target=\"_blank\">docs</a>)<br/>Sweep page: <a href='https://wandb.ai/nalex22-uv-j02/multispec-leaf-disease-sweeps/sweeps/kz96xpi3' target=\"_blank\">https://wandb.ai/nalex22-uv-j02/multispec-leaf-disease-sweeps/sweeps/kz96xpi3</a>"
            ]
          },
          "metadata": {}
        },
        {
          "output_type": "display_data",
          "data": {
            "text/plain": [
              "<IPython.core.display.HTML object>"
            ],
            "text/html": [
              " View project at <a href='https://wandb.ai/nalex22-uv-j02/multispec-leaf-disease-sweeps' target=\"_blank\">https://wandb.ai/nalex22-uv-j02/multispec-leaf-disease-sweeps</a>"
            ]
          },
          "metadata": {}
        },
        {
          "output_type": "display_data",
          "data": {
            "text/plain": [
              "<IPython.core.display.HTML object>"
            ],
            "text/html": [
              " View sweep at <a href='https://wandb.ai/nalex22-uv-j02/multispec-leaf-disease-sweeps/sweeps/kz96xpi3' target=\"_blank\">https://wandb.ai/nalex22-uv-j02/multispec-leaf-disease-sweeps/sweeps/kz96xpi3</a>"
            ]
          },
          "metadata": {}
        },
        {
          "output_type": "display_data",
          "data": {
            "text/plain": [
              "<IPython.core.display.HTML object>"
            ],
            "text/html": [
              " View run at <a href='https://wandb.ai/nalex22-uv-j02/multispec-leaf-disease-sweeps/runs/ci5t37lr' target=\"_blank\">https://wandb.ai/nalex22-uv-j02/multispec-leaf-disease-sweeps/runs/ci5t37lr</a>"
            ]
          },
          "metadata": {}
        },
        {
          "output_type": "stream",
          "name": "stderr",
          "text": [
            "/usr/local/lib/python3.10/dist-packages/huggingface_hub/file_download.py:1132: FutureWarning: `resume_download` is deprecated and will be removed in version 1.0.0. Downloads always resume when possible. If you want to force a new download, use `force_download=True`.\n",
            "  warnings.warn(\n",
            "Some weights of SegformerForSemanticSegmentation were not initialized from the model checkpoint at nvidia/mit-b2 and are newly initialized: ['decode_head.batch_norm.bias', 'decode_head.batch_norm.num_batches_tracked', 'decode_head.batch_norm.running_mean', 'decode_head.batch_norm.running_var', 'decode_head.batch_norm.weight', 'decode_head.classifier.bias', 'decode_head.classifier.weight', 'decode_head.linear_c.0.proj.bias', 'decode_head.linear_c.0.proj.weight', 'decode_head.linear_c.1.proj.bias', 'decode_head.linear_c.1.proj.weight', 'decode_head.linear_c.2.proj.bias', 'decode_head.linear_c.2.proj.weight', 'decode_head.linear_c.3.proj.bias', 'decode_head.linear_c.3.proj.weight', 'decode_head.linear_fuse.weight']\n",
            "You should probably TRAIN this model on a down-stream task to be able to use it for predictions and inference.\n",
            "\u001b[34m\u001b[1mwandb\u001b[0m: \u001b[33mWARNING\u001b[0m Config item 'learning_rate' was locked by 'sweep' (ignored update).\n",
            "\u001b[34m\u001b[1mwandb\u001b[0m: \u001b[33mWARNING\u001b[0m Config item 'weight_decay' was locked by 'sweep' (ignored update).\n"
          ]
        },
        {
          "output_type": "display_data",
          "data": {
            "text/plain": [
              "<IPython.core.display.HTML object>"
            ],
            "text/html": [
              "\n",
              "    <div>\n",
              "      \n",
              "      <progress value='595' max='595' style='width:300px; height:20px; vertical-align: middle;'></progress>\n",
              "      [595/595 07:19, Epoch 5/5]\n",
              "    </div>\n",
              "    <table border=\"1\" class=\"dataframe\">\n",
              "  <thead>\n",
              " <tr style=\"text-align: left;\">\n",
              "      <th>Epoch</th>\n",
              "      <th>Training Loss</th>\n",
              "      <th>Validation Loss</th>\n",
              "      <th>Iou</th>\n",
              "      <th>Dice</th>\n",
              "      <th>Kappa Score</th>\n",
              "      <th>Mean</th>\n",
              "    </tr>\n",
              "  </thead>\n",
              "  <tbody>\n",
              "    <tr>\n",
              "      <td>1</td>\n",
              "      <td>0.035800</td>\n",
              "      <td>0.006017</td>\n",
              "      <td>0.018400</td>\n",
              "      <td>0.036135</td>\n",
              "      <td>0.035733</td>\n",
              "      <td>0.027066</td>\n",
              "    </tr>\n",
              "    <tr>\n",
              "      <td>2</td>\n",
              "      <td>0.004500</td>\n",
              "      <td>0.003918</td>\n",
              "      <td>0.088291</td>\n",
              "      <td>0.162256</td>\n",
              "      <td>0.161115</td>\n",
              "      <td>0.124703</td>\n",
              "    </tr>\n",
              "    <tr>\n",
              "      <td>3</td>\n",
              "      <td>0.003100</td>\n",
              "      <td>0.003635</td>\n",
              "      <td>0.108013</td>\n",
              "      <td>0.194966</td>\n",
              "      <td>0.193689</td>\n",
              "      <td>0.150851</td>\n",
              "    </tr>\n",
              "    <tr>\n",
              "      <td>4</td>\n",
              "      <td>0.002700</td>\n",
              "      <td>0.003386</td>\n",
              "      <td>0.225470</td>\n",
              "      <td>0.367973</td>\n",
              "      <td>0.365964</td>\n",
              "      <td>0.295717</td>\n",
              "    </tr>\n",
              "    <tr>\n",
              "      <td>5</td>\n",
              "      <td>0.002400</td>\n",
              "      <td>0.003253</td>\n",
              "      <td>0.258108</td>\n",
              "      <td>0.410311</td>\n",
              "      <td>0.408145</td>\n",
              "      <td>0.333126</td>\n",
              "    </tr>\n",
              "  </tbody>\n",
              "</table><p>"
            ]
          },
          "metadata": {}
        },
        {
          "output_type": "stream",
          "name": "stdout",
          "text": [
            "Mean: 0.027066260849680158\n",
            "IoU: 0.018399686432611008\n",
            "Dice: 0.03613450922606611\n",
            "kappa: 0.03573283526674931\n",
            "Mean: 0.12470267771364779\n",
            "IoU: 0.0882908077963638\n",
            "Dice: 0.16225591021050761\n",
            "kappa: 0.1611145476309318\n",
            "Mean: 0.15085096601900141\n",
            "IoU: 0.10801260124026217\n",
            "Dice: 0.19496637695159325\n",
            "kappa: 0.19368933079774064\n",
            "Mean: 0.2957171532079148\n",
            "IoU: 0.22547026993048752\n",
            "Dice: 0.3679734636781958\n",
            "kappa: 0.36596403648534215\n",
            "Mean: 0.3331264149246229\n",
            "IoU: 0.25810773223367417\n",
            "Dice: 0.4103110180801824\n",
            "kappa: 0.4081450976155716\n"
          ]
        },
        {
          "output_type": "display_data",
          "data": {
            "text/plain": [
              "VBox(children=(Label(value='0.002 MB of 0.002 MB uploaded\\r'), FloatProgress(value=1.0, max=1.0)))"
            ],
            "application/vnd.jupyter.widget-view+json": {
              "version_major": 2,
              "version_minor": 0,
              "model_id": "ee8fb1ed312449c3a9eac9cb0d273866"
            }
          },
          "metadata": {}
        },
        {
          "output_type": "display_data",
          "data": {
            "text/plain": [
              "<IPython.core.display.HTML object>"
            ],
            "text/html": [
              "<style>\n",
              "    table.wandb td:nth-child(1) { padding: 0 10px; text-align: left ; width: auto;} td:nth-child(2) {text-align: left ; width: 100%}\n",
              "    .wandb-row { display: flex; flex-direction: row; flex-wrap: wrap; justify-content: flex-start; width: 100% }\n",
              "    .wandb-col { display: flex; flex-direction: column; flex-basis: 100%; flex: 1; padding: 10px; }\n",
              "    </style>\n",
              "<div class=\"wandb-row\"><div class=\"wandb-col\"><h3>Run history:</h3><br/><table class=\"wandb\"><tr><td>eval/Dice</td><td>▁▃▄▇█</td></tr><tr><td>eval/IoU</td><td>▁▃▄▇█</td></tr><tr><td>eval/kappa_score</td><td>▁▃▄▇█</td></tr><tr><td>eval/loss</td><td>█▃▂▁▁</td></tr><tr><td>eval/mean</td><td>▁▃▄▇█</td></tr><tr><td>eval/runtime</td><td>█▇█▁▂</td></tr><tr><td>eval/samples_per_second</td><td>▁▂▁█▇</td></tr><tr><td>eval/steps_per_second</td><td>▁▁▁██</td></tr><tr><td>train/epoch</td><td>▁▁▃▃▅▅▆▆███</td></tr><tr><td>train/global_step</td><td>▁▁▃▃▅▅▆▆███</td></tr><tr><td>train/grad_norm</td><td>█▂▃▁▁</td></tr><tr><td>train/learning_rate</td><td>█▆▄▃▁</td></tr><tr><td>train/loss</td><td>█▁▁▁▁</td></tr></table><br/></div><div class=\"wandb-col\"><h3>Run summary:</h3><br/><table class=\"wandb\"><tr><td>eval/Dice</td><td>0.41031</td></tr><tr><td>eval/IoU</td><td>0.25811</td></tr><tr><td>eval/kappa_score</td><td>0.40815</td></tr><tr><td>eval/loss</td><td>0.00325</td></tr><tr><td>eval/mean</td><td>0.33313</td></tr><tr><td>eval/runtime</td><td>43.1548</td></tr><tr><td>eval/samples_per_second</td><td>4.866</td></tr><tr><td>eval/steps_per_second</td><td>0.626</td></tr><tr><td>total_flos</td><td>1.219893043396608e+18</td></tr><tr><td>train/epoch</td><td>5.0</td></tr><tr><td>train/global_step</td><td>595</td></tr><tr><td>train/grad_norm</td><td>0.00704</td></tr><tr><td>train/learning_rate</td><td>0.0</td></tr><tr><td>train/loss</td><td>0.0024</td></tr><tr><td>train_loss</td><td>0.00971</td></tr><tr><td>train_runtime</td><td>440.3925</td></tr><tr><td>train_samples_per_second</td><td>10.729</td></tr><tr><td>train_steps_per_second</td><td>1.351</td></tr></table><br/></div></div>"
            ]
          },
          "metadata": {}
        },
        {
          "output_type": "display_data",
          "data": {
            "text/plain": [
              "<IPython.core.display.HTML object>"
            ],
            "text/html": [
              " View run <strong style=\"color:#cdcd00\">firm-sweep-28</strong> at: <a href='https://wandb.ai/nalex22-uv-j02/multispec-leaf-disease-sweeps/runs/ci5t37lr' target=\"_blank\">https://wandb.ai/nalex22-uv-j02/multispec-leaf-disease-sweeps/runs/ci5t37lr</a><br/> View project at: <a href='https://wandb.ai/nalex22-uv-j02/multispec-leaf-disease-sweeps' target=\"_blank\">https://wandb.ai/nalex22-uv-j02/multispec-leaf-disease-sweeps</a><br/>Synced 5 W&B file(s), 0 media file(s), 0 artifact file(s) and 0 other file(s)"
            ]
          },
          "metadata": {}
        },
        {
          "output_type": "display_data",
          "data": {
            "text/plain": [
              "<IPython.core.display.HTML object>"
            ],
            "text/html": [
              "Find logs at: <code>./wandb/run-20240517_164802-ci5t37lr/logs</code>"
            ]
          },
          "metadata": {}
        },
        {
          "output_type": "stream",
          "name": "stderr",
          "text": [
            "\u001b[34m\u001b[1mwandb\u001b[0m: Agent Starting Run: jbiwnm7o with config:\n",
            "\u001b[34m\u001b[1mwandb\u001b[0m: \tbatch_size: 8\n",
            "\u001b[34m\u001b[1mwandb\u001b[0m: \tbetta_1: 0.8436024805812876\n",
            "\u001b[34m\u001b[1mwandb\u001b[0m: \tbetta_2: 0.5553217025573203\n",
            "\u001b[34m\u001b[1mwandb\u001b[0m: \tclass_weight_0: 4.474480545533571\n",
            "\u001b[34m\u001b[1mwandb\u001b[0m: \tclass_weight_1: 46.89024881738088\n",
            "\u001b[34m\u001b[1mwandb\u001b[0m: \tepochs: 5\n",
            "\u001b[34m\u001b[1mwandb\u001b[0m: \tfocal_alpha: 0.5753386097047765\n",
            "\u001b[34m\u001b[1mwandb\u001b[0m: \tfocal_gamma: 0.06605300534842151\n",
            "\u001b[34m\u001b[1mwandb\u001b[0m: \tlearning_rate: 0.0007525439190135291\n",
            "\u001b[34m\u001b[1mwandb\u001b[0m: \tnum_warmup_steps: 91\n",
            "\u001b[34m\u001b[1mwandb\u001b[0m: \tobjective: TverskyLoss\n",
            "\u001b[34m\u001b[1mwandb\u001b[0m: \tsmooth: 1.4591731361246745\n",
            "\u001b[34m\u001b[1mwandb\u001b[0m: \ttversky_alpha: 0.42779169584818544\n",
            "\u001b[34m\u001b[1mwandb\u001b[0m: \ttversky_betta: 0.7395300034977248\n",
            "\u001b[34m\u001b[1mwandb\u001b[0m: \tweight_decay: 1.1905659956007923\n"
          ]
        },
        {
          "output_type": "display_data",
          "data": {
            "text/plain": [
              "<IPython.core.display.HTML object>"
            ],
            "text/html": [
              "Tracking run with wandb version 0.17.0"
            ]
          },
          "metadata": {}
        },
        {
          "output_type": "display_data",
          "data": {
            "text/plain": [
              "<IPython.core.display.HTML object>"
            ],
            "text/html": [
              "Run data is saved locally in <code>/content/wandb/run-20240517_165549-jbiwnm7o</code>"
            ]
          },
          "metadata": {}
        },
        {
          "output_type": "display_data",
          "data": {
            "text/plain": [
              "<IPython.core.display.HTML object>"
            ],
            "text/html": [
              "Syncing run <strong><a href='https://wandb.ai/nalex22-uv-j02/multispec-leaf-disease-sweeps/runs/jbiwnm7o' target=\"_blank\">radiant-sweep-29</a></strong> to <a href='https://wandb.ai/nalex22-uv-j02/multispec-leaf-disease-sweeps' target=\"_blank\">Weights & Biases</a> (<a href='https://wandb.me/run' target=\"_blank\">docs</a>)<br/>Sweep page: <a href='https://wandb.ai/nalex22-uv-j02/multispec-leaf-disease-sweeps/sweeps/kz96xpi3' target=\"_blank\">https://wandb.ai/nalex22-uv-j02/multispec-leaf-disease-sweeps/sweeps/kz96xpi3</a>"
            ]
          },
          "metadata": {}
        },
        {
          "output_type": "display_data",
          "data": {
            "text/plain": [
              "<IPython.core.display.HTML object>"
            ],
            "text/html": [
              " View project at <a href='https://wandb.ai/nalex22-uv-j02/multispec-leaf-disease-sweeps' target=\"_blank\">https://wandb.ai/nalex22-uv-j02/multispec-leaf-disease-sweeps</a>"
            ]
          },
          "metadata": {}
        },
        {
          "output_type": "display_data",
          "data": {
            "text/plain": [
              "<IPython.core.display.HTML object>"
            ],
            "text/html": [
              " View sweep at <a href='https://wandb.ai/nalex22-uv-j02/multispec-leaf-disease-sweeps/sweeps/kz96xpi3' target=\"_blank\">https://wandb.ai/nalex22-uv-j02/multispec-leaf-disease-sweeps/sweeps/kz96xpi3</a>"
            ]
          },
          "metadata": {}
        },
        {
          "output_type": "display_data",
          "data": {
            "text/plain": [
              "<IPython.core.display.HTML object>"
            ],
            "text/html": [
              " View run at <a href='https://wandb.ai/nalex22-uv-j02/multispec-leaf-disease-sweeps/runs/jbiwnm7o' target=\"_blank\">https://wandb.ai/nalex22-uv-j02/multispec-leaf-disease-sweeps/runs/jbiwnm7o</a>"
            ]
          },
          "metadata": {}
        },
        {
          "output_type": "stream",
          "name": "stderr",
          "text": [
            "/usr/local/lib/python3.10/dist-packages/huggingface_hub/file_download.py:1132: FutureWarning: `resume_download` is deprecated and will be removed in version 1.0.0. Downloads always resume when possible. If you want to force a new download, use `force_download=True`.\n",
            "  warnings.warn(\n",
            "Some weights of SegformerForSemanticSegmentation were not initialized from the model checkpoint at nvidia/mit-b2 and are newly initialized: ['decode_head.batch_norm.bias', 'decode_head.batch_norm.num_batches_tracked', 'decode_head.batch_norm.running_mean', 'decode_head.batch_norm.running_var', 'decode_head.batch_norm.weight', 'decode_head.classifier.bias', 'decode_head.classifier.weight', 'decode_head.linear_c.0.proj.bias', 'decode_head.linear_c.0.proj.weight', 'decode_head.linear_c.1.proj.bias', 'decode_head.linear_c.1.proj.weight', 'decode_head.linear_c.2.proj.bias', 'decode_head.linear_c.2.proj.weight', 'decode_head.linear_c.3.proj.bias', 'decode_head.linear_c.3.proj.weight', 'decode_head.linear_fuse.weight']\n",
            "You should probably TRAIN this model on a down-stream task to be able to use it for predictions and inference.\n",
            "\u001b[34m\u001b[1mwandb\u001b[0m: \u001b[33mWARNING\u001b[0m Config item 'learning_rate' was locked by 'sweep' (ignored update).\n",
            "\u001b[34m\u001b[1mwandb\u001b[0m: \u001b[33mWARNING\u001b[0m Config item 'weight_decay' was locked by 'sweep' (ignored update).\n"
          ]
        },
        {
          "output_type": "display_data",
          "data": {
            "text/plain": [
              "<IPython.core.display.HTML object>"
            ],
            "text/html": [
              "\n",
              "    <div>\n",
              "      \n",
              "      <progress value='595' max='595' style='width:300px; height:20px; vertical-align: middle;'></progress>\n",
              "      [595/595 07:20, Epoch 5/5]\n",
              "    </div>\n",
              "    <table border=\"1\" class=\"dataframe\">\n",
              "  <thead>\n",
              " <tr style=\"text-align: left;\">\n",
              "      <th>Epoch</th>\n",
              "      <th>Training Loss</th>\n",
              "      <th>Validation Loss</th>\n",
              "      <th>Iou</th>\n",
              "      <th>Dice</th>\n",
              "      <th>Kappa Score</th>\n",
              "      <th>Mean</th>\n",
              "    </tr>\n",
              "  </thead>\n",
              "  <tbody>\n",
              "    <tr>\n",
              "      <td>1</td>\n",
              "      <td>0.858600</td>\n",
              "      <td>0.641215</td>\n",
              "      <td>0.256750</td>\n",
              "      <td>0.408593</td>\n",
              "      <td>0.404082</td>\n",
              "      <td>0.330416</td>\n",
              "    </tr>\n",
              "    <tr>\n",
              "      <td>2</td>\n",
              "      <td>0.513800</td>\n",
              "      <td>0.556049</td>\n",
              "      <td>0.339687</td>\n",
              "      <td>0.507114</td>\n",
              "      <td>0.503615</td>\n",
              "      <td>0.421651</td>\n",
              "    </tr>\n",
              "    <tr>\n",
              "      <td>3</td>\n",
              "      <td>0.453700</td>\n",
              "      <td>0.553109</td>\n",
              "      <td>0.353970</td>\n",
              "      <td>0.522862</td>\n",
              "      <td>0.519765</td>\n",
              "      <td>0.436867</td>\n",
              "    </tr>\n",
              "    <tr>\n",
              "      <td>4</td>\n",
              "      <td>0.424800</td>\n",
              "      <td>0.520674</td>\n",
              "      <td>0.381620</td>\n",
              "      <td>0.552424</td>\n",
              "      <td>0.549433</td>\n",
              "      <td>0.465526</td>\n",
              "    </tr>\n",
              "    <tr>\n",
              "      <td>5</td>\n",
              "      <td>0.399500</td>\n",
              "      <td>0.514362</td>\n",
              "      <td>0.384320</td>\n",
              "      <td>0.555247</td>\n",
              "      <td>0.552211</td>\n",
              "      <td>0.468265</td>\n",
              "    </tr>\n",
              "  </tbody>\n",
              "</table><p>"
            ]
          },
          "metadata": {}
        },
        {
          "output_type": "stream",
          "name": "stdout",
          "text": [
            "Mean: 0.33041588535952365\n",
            "IoU: 0.25674984815845703\n",
            "Dice: 0.4085934023141967\n",
            "kappa: 0.4040819225605903\n",
            "Mean: 0.421650730121806\n",
            "IoU: 0.339686801353357\n",
            "Dice: 0.5071137537672298\n",
            "kappa: 0.503614658890255\n",
            "Mean: 0.4368672439355672\n",
            "IoU: 0.35396978218388064\n",
            "Dice: 0.522862159616216\n",
            "kappa: 0.5197647056872537\n",
            "Mean: 0.4655262019448055\n",
            "IoU: 0.3816198730192283\n",
            "Dice: 0.552423833026202\n",
            "kappa: 0.5494325308703827\n",
            "Mean: 0.4682652001373333\n",
            "IoU: 0.3843198250287247\n",
            "Dice: 0.5552471590454179\n",
            "kappa: 0.5522105752459419\n"
          ]
        },
        {
          "output_type": "display_data",
          "data": {
            "text/plain": [
              "VBox(children=(Label(value='0.002 MB of 0.002 MB uploaded\\r'), FloatProgress(value=1.0, max=1.0)))"
            ],
            "application/vnd.jupyter.widget-view+json": {
              "version_major": 2,
              "version_minor": 0,
              "model_id": "e34688792b044103b2f64a50204a9bb2"
            }
          },
          "metadata": {}
        },
        {
          "output_type": "display_data",
          "data": {
            "text/plain": [
              "<IPython.core.display.HTML object>"
            ],
            "text/html": [
              "<style>\n",
              "    table.wandb td:nth-child(1) { padding: 0 10px; text-align: left ; width: auto;} td:nth-child(2) {text-align: left ; width: 100%}\n",
              "    .wandb-row { display: flex; flex-direction: row; flex-wrap: wrap; justify-content: flex-start; width: 100% }\n",
              "    .wandb-col { display: flex; flex-direction: column; flex-basis: 100%; flex: 1; padding: 10px; }\n",
              "    </style>\n",
              "<div class=\"wandb-row\"><div class=\"wandb-col\"><h3>Run history:</h3><br/><table class=\"wandb\"><tr><td>eval/Dice</td><td>▁▆▆██</td></tr><tr><td>eval/IoU</td><td>▁▆▆██</td></tr><tr><td>eval/kappa_score</td><td>▁▆▆██</td></tr><tr><td>eval/loss</td><td>█▃▃▁▁</td></tr><tr><td>eval/mean</td><td>▁▆▆██</td></tr><tr><td>eval/runtime</td><td>▁█▅▆█</td></tr><tr><td>eval/samples_per_second</td><td>█▁▄▃▁</td></tr><tr><td>eval/steps_per_second</td><td>█▁▄▂▁</td></tr><tr><td>train/epoch</td><td>▁▁▃▃▅▅▆▆███</td></tr><tr><td>train/global_step</td><td>▁▁▃▃▅▅▆▆███</td></tr><tr><td>train/grad_norm</td><td>▅▆▁█▁</td></tr><tr><td>train/learning_rate</td><td>█▆▄▃▁</td></tr><tr><td>train/loss</td><td>█▃▂▁▁</td></tr></table><br/></div><div class=\"wandb-col\"><h3>Run summary:</h3><br/><table class=\"wandb\"><tr><td>eval/Dice</td><td>0.55525</td></tr><tr><td>eval/IoU</td><td>0.38432</td></tr><tr><td>eval/kappa_score</td><td>0.55221</td></tr><tr><td>eval/loss</td><td>0.51436</td></tr><tr><td>eval/mean</td><td>0.46827</td></tr><tr><td>eval/runtime</td><td>43.4197</td></tr><tr><td>eval/samples_per_second</td><td>4.837</td></tr><tr><td>eval/steps_per_second</td><td>0.622</td></tr><tr><td>total_flos</td><td>1.219893043396608e+18</td></tr><tr><td>train/epoch</td><td>5.0</td></tr><tr><td>train/global_step</td><td>595</td></tr><tr><td>train/grad_norm</td><td>0.83898</td></tr><tr><td>train/learning_rate</td><td>0.0</td></tr><tr><td>train/loss</td><td>0.3995</td></tr><tr><td>train_loss</td><td>0.53007</td></tr><tr><td>train_runtime</td><td>440.9335</td></tr><tr><td>train_samples_per_second</td><td>10.716</td></tr><tr><td>train_steps_per_second</td><td>1.349</td></tr></table><br/></div></div>"
            ]
          },
          "metadata": {}
        },
        {
          "output_type": "display_data",
          "data": {
            "text/plain": [
              "<IPython.core.display.HTML object>"
            ],
            "text/html": [
              " View run <strong style=\"color:#cdcd00\">radiant-sweep-29</strong> at: <a href='https://wandb.ai/nalex22-uv-j02/multispec-leaf-disease-sweeps/runs/jbiwnm7o' target=\"_blank\">https://wandb.ai/nalex22-uv-j02/multispec-leaf-disease-sweeps/runs/jbiwnm7o</a><br/> View project at: <a href='https://wandb.ai/nalex22-uv-j02/multispec-leaf-disease-sweeps' target=\"_blank\">https://wandb.ai/nalex22-uv-j02/multispec-leaf-disease-sweeps</a><br/>Synced 5 W&B file(s), 0 media file(s), 0 artifact file(s) and 0 other file(s)"
            ]
          },
          "metadata": {}
        },
        {
          "output_type": "display_data",
          "data": {
            "text/plain": [
              "<IPython.core.display.HTML object>"
            ],
            "text/html": [
              "Find logs at: <code>./wandb/run-20240517_165549-jbiwnm7o/logs</code>"
            ]
          },
          "metadata": {}
        },
        {
          "output_type": "stream",
          "name": "stderr",
          "text": [
            "\u001b[34m\u001b[1mwandb\u001b[0m: Agent Starting Run: uamqxziz with config:\n",
            "\u001b[34m\u001b[1mwandb\u001b[0m: \tbatch_size: 8\n",
            "\u001b[34m\u001b[1mwandb\u001b[0m: \tbetta_1: 0.8958579135562101\n",
            "\u001b[34m\u001b[1mwandb\u001b[0m: \tbetta_2: 0.751756279379073\n",
            "\u001b[34m\u001b[1mwandb\u001b[0m: \tclass_weight_0: 2.353097189988615\n",
            "\u001b[34m\u001b[1mwandb\u001b[0m: \tclass_weight_1: 24.657624590963955\n",
            "\u001b[34m\u001b[1mwandb\u001b[0m: \tepochs: 5\n",
            "\u001b[34m\u001b[1mwandb\u001b[0m: \tfocal_alpha: 0.16707501609128267\n",
            "\u001b[34m\u001b[1mwandb\u001b[0m: \tfocal_gamma: 0.6166165653737221\n",
            "\u001b[34m\u001b[1mwandb\u001b[0m: \tlearning_rate: 0.00024950737264278414\n",
            "\u001b[34m\u001b[1mwandb\u001b[0m: \tnum_warmup_steps: 114\n",
            "\u001b[34m\u001b[1mwandb\u001b[0m: \tobjective: JaccardLoss\n",
            "\u001b[34m\u001b[1mwandb\u001b[0m: \tsmooth: 0.5800964743496481\n",
            "\u001b[34m\u001b[1mwandb\u001b[0m: \ttversky_alpha: 0.969015178863768\n",
            "\u001b[34m\u001b[1mwandb\u001b[0m: \ttversky_betta: 0.9590654348978008\n",
            "\u001b[34m\u001b[1mwandb\u001b[0m: \tweight_decay: 1.3558788774708412\n"
          ]
        },
        {
          "output_type": "display_data",
          "data": {
            "text/plain": [
              "<IPython.core.display.HTML object>"
            ],
            "text/html": [
              "Tracking run with wandb version 0.17.0"
            ]
          },
          "metadata": {}
        },
        {
          "output_type": "display_data",
          "data": {
            "text/plain": [
              "<IPython.core.display.HTML object>"
            ],
            "text/html": [
              "Run data is saved locally in <code>/content/wandb/run-20240517_170335-uamqxziz</code>"
            ]
          },
          "metadata": {}
        },
        {
          "output_type": "display_data",
          "data": {
            "text/plain": [
              "<IPython.core.display.HTML object>"
            ],
            "text/html": [
              "Syncing run <strong><a href='https://wandb.ai/nalex22-uv-j02/multispec-leaf-disease-sweeps/runs/uamqxziz' target=\"_blank\">proud-sweep-30</a></strong> to <a href='https://wandb.ai/nalex22-uv-j02/multispec-leaf-disease-sweeps' target=\"_blank\">Weights & Biases</a> (<a href='https://wandb.me/run' target=\"_blank\">docs</a>)<br/>Sweep page: <a href='https://wandb.ai/nalex22-uv-j02/multispec-leaf-disease-sweeps/sweeps/kz96xpi3' target=\"_blank\">https://wandb.ai/nalex22-uv-j02/multispec-leaf-disease-sweeps/sweeps/kz96xpi3</a>"
            ]
          },
          "metadata": {}
        },
        {
          "output_type": "display_data",
          "data": {
            "text/plain": [
              "<IPython.core.display.HTML object>"
            ],
            "text/html": [
              " View project at <a href='https://wandb.ai/nalex22-uv-j02/multispec-leaf-disease-sweeps' target=\"_blank\">https://wandb.ai/nalex22-uv-j02/multispec-leaf-disease-sweeps</a>"
            ]
          },
          "metadata": {}
        },
        {
          "output_type": "display_data",
          "data": {
            "text/plain": [
              "<IPython.core.display.HTML object>"
            ],
            "text/html": [
              " View sweep at <a href='https://wandb.ai/nalex22-uv-j02/multispec-leaf-disease-sweeps/sweeps/kz96xpi3' target=\"_blank\">https://wandb.ai/nalex22-uv-j02/multispec-leaf-disease-sweeps/sweeps/kz96xpi3</a>"
            ]
          },
          "metadata": {}
        },
        {
          "output_type": "display_data",
          "data": {
            "text/plain": [
              "<IPython.core.display.HTML object>"
            ],
            "text/html": [
              " View run at <a href='https://wandb.ai/nalex22-uv-j02/multispec-leaf-disease-sweeps/runs/uamqxziz' target=\"_blank\">https://wandb.ai/nalex22-uv-j02/multispec-leaf-disease-sweeps/runs/uamqxziz</a>"
            ]
          },
          "metadata": {}
        },
        {
          "output_type": "stream",
          "name": "stderr",
          "text": [
            "/usr/local/lib/python3.10/dist-packages/huggingface_hub/file_download.py:1132: FutureWarning: `resume_download` is deprecated and will be removed in version 1.0.0. Downloads always resume when possible. If you want to force a new download, use `force_download=True`.\n",
            "  warnings.warn(\n",
            "Some weights of SegformerForSemanticSegmentation were not initialized from the model checkpoint at nvidia/mit-b2 and are newly initialized: ['decode_head.batch_norm.bias', 'decode_head.batch_norm.num_batches_tracked', 'decode_head.batch_norm.running_mean', 'decode_head.batch_norm.running_var', 'decode_head.batch_norm.weight', 'decode_head.classifier.bias', 'decode_head.classifier.weight', 'decode_head.linear_c.0.proj.bias', 'decode_head.linear_c.0.proj.weight', 'decode_head.linear_c.1.proj.bias', 'decode_head.linear_c.1.proj.weight', 'decode_head.linear_c.2.proj.bias', 'decode_head.linear_c.2.proj.weight', 'decode_head.linear_c.3.proj.bias', 'decode_head.linear_c.3.proj.weight', 'decode_head.linear_fuse.weight']\n",
            "You should probably TRAIN this model on a down-stream task to be able to use it for predictions and inference.\n",
            "\u001b[34m\u001b[1mwandb\u001b[0m: \u001b[33mWARNING\u001b[0m Config item 'learning_rate' was locked by 'sweep' (ignored update).\n",
            "\u001b[34m\u001b[1mwandb\u001b[0m: \u001b[33mWARNING\u001b[0m Config item 'weight_decay' was locked by 'sweep' (ignored update).\n"
          ]
        },
        {
          "output_type": "display_data",
          "data": {
            "text/plain": [
              "<IPython.core.display.HTML object>"
            ],
            "text/html": [
              "\n",
              "    <div>\n",
              "      \n",
              "      <progress value='595' max='595' style='width:300px; height:20px; vertical-align: middle;'></progress>\n",
              "      [595/595 07:19, Epoch 5/5]\n",
              "    </div>\n",
              "    <table border=\"1\" class=\"dataframe\">\n",
              "  <thead>\n",
              " <tr style=\"text-align: left;\">\n",
              "      <th>Epoch</th>\n",
              "      <th>Training Loss</th>\n",
              "      <th>Validation Loss</th>\n",
              "      <th>Iou</th>\n",
              "      <th>Dice</th>\n",
              "      <th>Kappa Score</th>\n",
              "      <th>Mean</th>\n",
              "    </tr>\n",
              "  </thead>\n",
              "  <tbody>\n",
              "    <tr>\n",
              "      <td>1</td>\n",
              "      <td>0.984000</td>\n",
              "      <td>0.975993</td>\n",
              "      <td>0.022769</td>\n",
              "      <td>0.044523</td>\n",
              "      <td>0.034419</td>\n",
              "      <td>0.028594</td>\n",
              "    </tr>\n",
              "    <tr>\n",
              "      <td>2</td>\n",
              "      <td>0.816200</td>\n",
              "      <td>0.736538</td>\n",
              "      <td>0.292314</td>\n",
              "      <td>0.452388</td>\n",
              "      <td>0.449125</td>\n",
              "      <td>0.370720</td>\n",
              "    </tr>\n",
              "    <tr>\n",
              "      <td>3</td>\n",
              "      <td>0.649800</td>\n",
              "      <td>0.708782</td>\n",
              "      <td>0.317924</td>\n",
              "      <td>0.482462</td>\n",
              "      <td>0.479541</td>\n",
              "      <td>0.398733</td>\n",
              "    </tr>\n",
              "    <tr>\n",
              "      <td>4</td>\n",
              "      <td>0.606200</td>\n",
              "      <td>0.685744</td>\n",
              "      <td>0.341467</td>\n",
              "      <td>0.509095</td>\n",
              "      <td>0.506256</td>\n",
              "      <td>0.423862</td>\n",
              "    </tr>\n",
              "    <tr>\n",
              "      <td>5</td>\n",
              "      <td>0.580100</td>\n",
              "      <td>0.673086</td>\n",
              "      <td>0.354846</td>\n",
              "      <td>0.523818</td>\n",
              "      <td>0.520998</td>\n",
              "      <td>0.437922</td>\n",
              "    </tr>\n",
              "  </tbody>\n",
              "</table><p>"
            ]
          },
          "metadata": {}
        },
        {
          "output_type": "stream",
          "name": "stdout",
          "text": [
            "Mean: 0.0285939941427498\n",
            "IoU: 0.022768553556666578\n",
            "Dice: 0.044523374281481724\n",
            "kappa: 0.03441943472883302\n",
            "Mean: 0.37071952764702687\n",
            "IoU: 0.2923139683146541\n",
            "Dice: 0.4523884682541498\n",
            "kappa: 0.4491250869793997\n",
            "Mean: 0.39873259273979145\n",
            "IoU: 0.3179239216774047\n",
            "Dice: 0.48246172096605233\n",
            "kappa: 0.4795412638021782\n",
            "Mean: 0.4238618201678263\n",
            "IoU: 0.3414673029524359\n",
            "Dice: 0.5090952305746109\n",
            "kappa: 0.5062563373832167\n",
            "Mean: 0.43792225180368416\n",
            "IoU: 0.35484634895706746\n",
            "Dice: 0.5238178472861086\n",
            "kappa: 0.5209981546503009\n"
          ]
        },
        {
          "output_type": "display_data",
          "data": {
            "text/plain": [
              "VBox(children=(Label(value='0.002 MB of 0.002 MB uploaded\\r'), FloatProgress(value=1.0, max=1.0)))"
            ],
            "application/vnd.jupyter.widget-view+json": {
              "version_major": 2,
              "version_minor": 0,
              "model_id": "bb9e3bd4b17d41cfbfc8fa45126f4760"
            }
          },
          "metadata": {}
        },
        {
          "output_type": "display_data",
          "data": {
            "text/plain": [
              "<IPython.core.display.HTML object>"
            ],
            "text/html": [
              "<style>\n",
              "    table.wandb td:nth-child(1) { padding: 0 10px; text-align: left ; width: auto;} td:nth-child(2) {text-align: left ; width: 100%}\n",
              "    .wandb-row { display: flex; flex-direction: row; flex-wrap: wrap; justify-content: flex-start; width: 100% }\n",
              "    .wandb-col { display: flex; flex-direction: column; flex-basis: 100%; flex: 1; padding: 10px; }\n",
              "    </style>\n",
              "<div class=\"wandb-row\"><div class=\"wandb-col\"><h3>Run history:</h3><br/><table class=\"wandb\"><tr><td>eval/Dice</td><td>▁▇▇██</td></tr><tr><td>eval/IoU</td><td>▁▇▇██</td></tr><tr><td>eval/kappa_score</td><td>▁▇▇██</td></tr><tr><td>eval/loss</td><td>█▂▂▁▁</td></tr><tr><td>eval/mean</td><td>▁▇▇██</td></tr><tr><td>eval/runtime</td><td>▁▆▅▄█</td></tr><tr><td>eval/samples_per_second</td><td>█▃▄▅▁</td></tr><tr><td>eval/steps_per_second</td><td>█▃▅▅▁</td></tr><tr><td>train/epoch</td><td>▁▁▃▃▅▅▆▆███</td></tr><tr><td>train/global_step</td><td>▁▁▃▃▅▅▆▆███</td></tr><tr><td>train/grad_norm</td><td>▁▆▄█▄</td></tr><tr><td>train/learning_rate</td><td>█▆▄▃▁</td></tr><tr><td>train/loss</td><td>█▅▂▁▁</td></tr></table><br/></div><div class=\"wandb-col\"><h3>Run summary:</h3><br/><table class=\"wandb\"><tr><td>eval/Dice</td><td>0.52382</td></tr><tr><td>eval/IoU</td><td>0.35485</td></tr><tr><td>eval/kappa_score</td><td>0.521</td></tr><tr><td>eval/loss</td><td>0.67309</td></tr><tr><td>eval/mean</td><td>0.43792</td></tr><tr><td>eval/runtime</td><td>43.4071</td></tr><tr><td>eval/samples_per_second</td><td>4.838</td></tr><tr><td>eval/steps_per_second</td><td>0.622</td></tr><tr><td>total_flos</td><td>1.219893043396608e+18</td></tr><tr><td>train/epoch</td><td>5.0</td></tr><tr><td>train/global_step</td><td>595</td></tr><tr><td>train/grad_norm</td><td>1.40578</td></tr><tr><td>train/learning_rate</td><td>0.0</td></tr><tr><td>train/loss</td><td>0.5801</td></tr><tr><td>train_loss</td><td>0.72725</td></tr><tr><td>train_runtime</td><td>440.1303</td></tr><tr><td>train_samples_per_second</td><td>10.735</td></tr><tr><td>train_steps_per_second</td><td>1.352</td></tr></table><br/></div></div>"
            ]
          },
          "metadata": {}
        },
        {
          "output_type": "display_data",
          "data": {
            "text/plain": [
              "<IPython.core.display.HTML object>"
            ],
            "text/html": [
              " View run <strong style=\"color:#cdcd00\">proud-sweep-30</strong> at: <a href='https://wandb.ai/nalex22-uv-j02/multispec-leaf-disease-sweeps/runs/uamqxziz' target=\"_blank\">https://wandb.ai/nalex22-uv-j02/multispec-leaf-disease-sweeps/runs/uamqxziz</a><br/> View project at: <a href='https://wandb.ai/nalex22-uv-j02/multispec-leaf-disease-sweeps' target=\"_blank\">https://wandb.ai/nalex22-uv-j02/multispec-leaf-disease-sweeps</a><br/>Synced 5 W&B file(s), 0 media file(s), 0 artifact file(s) and 0 other file(s)"
            ]
          },
          "metadata": {}
        },
        {
          "output_type": "display_data",
          "data": {
            "text/plain": [
              "<IPython.core.display.HTML object>"
            ],
            "text/html": [
              "Find logs at: <code>./wandb/run-20240517_170335-uamqxziz/logs</code>"
            ]
          },
          "metadata": {}
        },
        {
          "output_type": "stream",
          "name": "stderr",
          "text": [
            "\u001b[34m\u001b[1mwandb\u001b[0m: Agent Starting Run: fnz36lva with config:\n",
            "\u001b[34m\u001b[1mwandb\u001b[0m: \tbatch_size: 8\n",
            "\u001b[34m\u001b[1mwandb\u001b[0m: \tbetta_1: 0.9032595424378208\n",
            "\u001b[34m\u001b[1mwandb\u001b[0m: \tbetta_2: 0.9901394918116092\n",
            "\u001b[34m\u001b[1mwandb\u001b[0m: \tclass_weight_0: 1.6141350563049686\n",
            "\u001b[34m\u001b[1mwandb\u001b[0m: \tclass_weight_1: 37.066111578989606\n",
            "\u001b[34m\u001b[1mwandb\u001b[0m: \tepochs: 5\n",
            "\u001b[34m\u001b[1mwandb\u001b[0m: \tfocal_alpha: 0.606030401065036\n",
            "\u001b[34m\u001b[1mwandb\u001b[0m: \tfocal_gamma: 2.164085160387294\n",
            "\u001b[34m\u001b[1mwandb\u001b[0m: \tlearning_rate: 5.6748842077669834e-05\n",
            "\u001b[34m\u001b[1mwandb\u001b[0m: \tnum_warmup_steps: 119\n",
            "\u001b[34m\u001b[1mwandb\u001b[0m: \tobjective: TverskyLoss\n",
            "\u001b[34m\u001b[1mwandb\u001b[0m: \tsmooth: 1.0066962421646646\n",
            "\u001b[34m\u001b[1mwandb\u001b[0m: \ttversky_alpha: 0.6829604005319596\n",
            "\u001b[34m\u001b[1mwandb\u001b[0m: \ttversky_betta: 0.41224245121039416\n",
            "\u001b[34m\u001b[1mwandb\u001b[0m: \tweight_decay: 1.2993331494138105\n"
          ]
        },
        {
          "output_type": "display_data",
          "data": {
            "text/plain": [
              "<IPython.core.display.HTML object>"
            ],
            "text/html": [
              "Tracking run with wandb version 0.17.0"
            ]
          },
          "metadata": {}
        },
        {
          "output_type": "display_data",
          "data": {
            "text/plain": [
              "<IPython.core.display.HTML object>"
            ],
            "text/html": [
              "Run data is saved locally in <code>/content/wandb/run-20240517_171122-fnz36lva</code>"
            ]
          },
          "metadata": {}
        },
        {
          "output_type": "display_data",
          "data": {
            "text/plain": [
              "<IPython.core.display.HTML object>"
            ],
            "text/html": [
              "Syncing run <strong><a href='https://wandb.ai/nalex22-uv-j02/multispec-leaf-disease-sweeps/runs/fnz36lva' target=\"_blank\">likely-sweep-31</a></strong> to <a href='https://wandb.ai/nalex22-uv-j02/multispec-leaf-disease-sweeps' target=\"_blank\">Weights & Biases</a> (<a href='https://wandb.me/run' target=\"_blank\">docs</a>)<br/>Sweep page: <a href='https://wandb.ai/nalex22-uv-j02/multispec-leaf-disease-sweeps/sweeps/kz96xpi3' target=\"_blank\">https://wandb.ai/nalex22-uv-j02/multispec-leaf-disease-sweeps/sweeps/kz96xpi3</a>"
            ]
          },
          "metadata": {}
        },
        {
          "output_type": "display_data",
          "data": {
            "text/plain": [
              "<IPython.core.display.HTML object>"
            ],
            "text/html": [
              " View project at <a href='https://wandb.ai/nalex22-uv-j02/multispec-leaf-disease-sweeps' target=\"_blank\">https://wandb.ai/nalex22-uv-j02/multispec-leaf-disease-sweeps</a>"
            ]
          },
          "metadata": {}
        },
        {
          "output_type": "display_data",
          "data": {
            "text/plain": [
              "<IPython.core.display.HTML object>"
            ],
            "text/html": [
              " View sweep at <a href='https://wandb.ai/nalex22-uv-j02/multispec-leaf-disease-sweeps/sweeps/kz96xpi3' target=\"_blank\">https://wandb.ai/nalex22-uv-j02/multispec-leaf-disease-sweeps/sweeps/kz96xpi3</a>"
            ]
          },
          "metadata": {}
        },
        {
          "output_type": "display_data",
          "data": {
            "text/plain": [
              "<IPython.core.display.HTML object>"
            ],
            "text/html": [
              " View run at <a href='https://wandb.ai/nalex22-uv-j02/multispec-leaf-disease-sweeps/runs/fnz36lva' target=\"_blank\">https://wandb.ai/nalex22-uv-j02/multispec-leaf-disease-sweeps/runs/fnz36lva</a>"
            ]
          },
          "metadata": {}
        },
        {
          "output_type": "stream",
          "name": "stderr",
          "text": [
            "/usr/local/lib/python3.10/dist-packages/huggingface_hub/file_download.py:1132: FutureWarning: `resume_download` is deprecated and will be removed in version 1.0.0. Downloads always resume when possible. If you want to force a new download, use `force_download=True`.\n",
            "  warnings.warn(\n",
            "Some weights of SegformerForSemanticSegmentation were not initialized from the model checkpoint at nvidia/mit-b2 and are newly initialized: ['decode_head.batch_norm.bias', 'decode_head.batch_norm.num_batches_tracked', 'decode_head.batch_norm.running_mean', 'decode_head.batch_norm.running_var', 'decode_head.batch_norm.weight', 'decode_head.classifier.bias', 'decode_head.classifier.weight', 'decode_head.linear_c.0.proj.bias', 'decode_head.linear_c.0.proj.weight', 'decode_head.linear_c.1.proj.bias', 'decode_head.linear_c.1.proj.weight', 'decode_head.linear_c.2.proj.bias', 'decode_head.linear_c.2.proj.weight', 'decode_head.linear_c.3.proj.bias', 'decode_head.linear_c.3.proj.weight', 'decode_head.linear_fuse.weight']\n",
            "You should probably TRAIN this model on a down-stream task to be able to use it for predictions and inference.\n",
            "\u001b[34m\u001b[1mwandb\u001b[0m: \u001b[33mWARNING\u001b[0m Config item 'learning_rate' was locked by 'sweep' (ignored update).\n",
            "\u001b[34m\u001b[1mwandb\u001b[0m: \u001b[33mWARNING\u001b[0m Config item 'weight_decay' was locked by 'sweep' (ignored update).\n"
          ]
        },
        {
          "output_type": "display_data",
          "data": {
            "text/plain": [
              "<IPython.core.display.HTML object>"
            ],
            "text/html": [
              "\n",
              "    <div>\n",
              "      \n",
              "      <progress value='595' max='595' style='width:300px; height:20px; vertical-align: middle;'></progress>\n",
              "      [595/595 07:19, Epoch 5/5]\n",
              "    </div>\n",
              "    <table border=\"1\" class=\"dataframe\">\n",
              "  <thead>\n",
              " <tr style=\"text-align: left;\">\n",
              "      <th>Epoch</th>\n",
              "      <th>Training Loss</th>\n",
              "      <th>Validation Loss</th>\n",
              "      <th>Iou</th>\n",
              "      <th>Dice</th>\n",
              "      <th>Kappa Score</th>\n",
              "      <th>Mean</th>\n",
              "    </tr>\n",
              "  </thead>\n",
              "  <tbody>\n",
              "    <tr>\n",
              "      <td>1</td>\n",
              "      <td>0.981400</td>\n",
              "      <td>0.981765</td>\n",
              "      <td>0.013993</td>\n",
              "      <td>0.027600</td>\n",
              "      <td>0.015539</td>\n",
              "      <td>0.014766</td>\n",
              "    </tr>\n",
              "    <tr>\n",
              "      <td>2</td>\n",
              "      <td>0.972100</td>\n",
              "      <td>0.975532</td>\n",
              "      <td>0.017245</td>\n",
              "      <td>0.033906</td>\n",
              "      <td>0.022135</td>\n",
              "      <td>0.019690</td>\n",
              "    </tr>\n",
              "    <tr>\n",
              "      <td>3</td>\n",
              "      <td>0.954400</td>\n",
              "      <td>0.942734</td>\n",
              "      <td>0.101907</td>\n",
              "      <td>0.184965</td>\n",
              "      <td>0.177928</td>\n",
              "      <td>0.139918</td>\n",
              "    </tr>\n",
              "    <tr>\n",
              "      <td>4</td>\n",
              "      <td>0.900200</td>\n",
              "      <td>0.894744</td>\n",
              "      <td>0.136861</td>\n",
              "      <td>0.240769</td>\n",
              "      <td>0.234500</td>\n",
              "      <td>0.185680</td>\n",
              "    </tr>\n",
              "    <tr>\n",
              "      <td>5</td>\n",
              "      <td>0.865200</td>\n",
              "      <td>0.883812</td>\n",
              "      <td>0.158446</td>\n",
              "      <td>0.273549</td>\n",
              "      <td>0.268041</td>\n",
              "      <td>0.213243</td>\n",
              "    </tr>\n",
              "  </tbody>\n",
              "</table><p>"
            ]
          },
          "metadata": {}
        },
        {
          "output_type": "stream",
          "name": "stdout",
          "text": [
            "Mean: 0.014766066417364037\n",
            "IoU: 0.013993134436634158\n",
            "Dice: 0.027600057557408655\n",
            "kappa: 0.015538998398093917\n",
            "Mean: 0.01968998029658605\n",
            "IoU: 0.017245365034801605\n",
            "Dice: 0.03390600857485669\n",
            "kappa: 0.022134595558370496\n",
            "Mean: 0.13991780573401594\n",
            "IoU: 0.10190738795971051\n",
            "Dice: 0.18496543189242431\n",
            "kappa: 0.17792822350832138\n",
            "Mean: 0.18568044608980025\n",
            "IoU: 0.1368605383009311\n",
            "Dice: 0.24076926534097642\n",
            "kappa: 0.2345003538786694\n",
            "Mean: 0.21324305060550458\n",
            "IoU: 0.15844558266272654\n",
            "Dice: 0.27354859828380373\n",
            "kappa: 0.2680405185482826\n"
          ]
        },
        {
          "output_type": "display_data",
          "data": {
            "text/plain": [
              "VBox(children=(Label(value='0.002 MB of 0.002 MB uploaded\\r'), FloatProgress(value=1.0, max=1.0)))"
            ],
            "application/vnd.jupyter.widget-view+json": {
              "version_major": 2,
              "version_minor": 0,
              "model_id": "4548cdbc4c7647c8842b43761ff4bf7e"
            }
          },
          "metadata": {}
        },
        {
          "output_type": "display_data",
          "data": {
            "text/plain": [
              "<IPython.core.display.HTML object>"
            ],
            "text/html": [
              "<style>\n",
              "    table.wandb td:nth-child(1) { padding: 0 10px; text-align: left ; width: auto;} td:nth-child(2) {text-align: left ; width: 100%}\n",
              "    .wandb-row { display: flex; flex-direction: row; flex-wrap: wrap; justify-content: flex-start; width: 100% }\n",
              "    .wandb-col { display: flex; flex-direction: column; flex-basis: 100%; flex: 1; padding: 10px; }\n",
              "    </style>\n",
              "<div class=\"wandb-row\"><div class=\"wandb-col\"><h3>Run history:</h3><br/><table class=\"wandb\"><tr><td>eval/Dice</td><td>▁▁▅▇█</td></tr><tr><td>eval/IoU</td><td>▁▁▅▇█</td></tr><tr><td>eval/kappa_score</td><td>▁▁▆▇█</td></tr><tr><td>eval/loss</td><td>██▅▂▁</td></tr><tr><td>eval/mean</td><td>▁▁▅▇█</td></tr><tr><td>eval/runtime</td><td>▆█▇▇▁</td></tr><tr><td>eval/samples_per_second</td><td>▃▁▂▂█</td></tr><tr><td>eval/steps_per_second</td><td>▃▁▃▁█</td></tr><tr><td>train/epoch</td><td>▁▁▃▃▅▅▆▆███</td></tr><tr><td>train/global_step</td><td>▁▁▃▃▅▅▆▆███</td></tr><tr><td>train/grad_norm</td><td>▅▁█▃█</td></tr><tr><td>train/learning_rate</td><td>█▆▄▃▁</td></tr><tr><td>train/loss</td><td>█▇▆▃▁</td></tr></table><br/></div><div class=\"wandb-col\"><h3>Run summary:</h3><br/><table class=\"wandb\"><tr><td>eval/Dice</td><td>0.27355</td></tr><tr><td>eval/IoU</td><td>0.15845</td></tr><tr><td>eval/kappa_score</td><td>0.26804</td></tr><tr><td>eval/loss</td><td>0.88381</td></tr><tr><td>eval/mean</td><td>0.21324</td></tr><tr><td>eval/runtime</td><td>43.1729</td></tr><tr><td>eval/samples_per_second</td><td>4.864</td></tr><tr><td>eval/steps_per_second</td><td>0.625</td></tr><tr><td>total_flos</td><td>1.219893043396608e+18</td></tr><tr><td>train/epoch</td><td>5.0</td></tr><tr><td>train/global_step</td><td>595</td></tr><tr><td>train/grad_norm</td><td>1.66454</td></tr><tr><td>train/learning_rate</td><td>0.0</td></tr><tr><td>train/loss</td><td>0.8652</td></tr><tr><td>train_loss</td><td>0.93465</td></tr><tr><td>train_runtime</td><td>439.9286</td></tr><tr><td>train_samples_per_second</td><td>10.74</td></tr><tr><td>train_steps_per_second</td><td>1.352</td></tr></table><br/></div></div>"
            ]
          },
          "metadata": {}
        },
        {
          "output_type": "display_data",
          "data": {
            "text/plain": [
              "<IPython.core.display.HTML object>"
            ],
            "text/html": [
              " View run <strong style=\"color:#cdcd00\">likely-sweep-31</strong> at: <a href='https://wandb.ai/nalex22-uv-j02/multispec-leaf-disease-sweeps/runs/fnz36lva' target=\"_blank\">https://wandb.ai/nalex22-uv-j02/multispec-leaf-disease-sweeps/runs/fnz36lva</a><br/> View project at: <a href='https://wandb.ai/nalex22-uv-j02/multispec-leaf-disease-sweeps' target=\"_blank\">https://wandb.ai/nalex22-uv-j02/multispec-leaf-disease-sweeps</a><br/>Synced 5 W&B file(s), 0 media file(s), 0 artifact file(s) and 0 other file(s)"
            ]
          },
          "metadata": {}
        },
        {
          "output_type": "display_data",
          "data": {
            "text/plain": [
              "<IPython.core.display.HTML object>"
            ],
            "text/html": [
              "Find logs at: <code>./wandb/run-20240517_171122-fnz36lva/logs</code>"
            ]
          },
          "metadata": {}
        },
        {
          "output_type": "stream",
          "name": "stderr",
          "text": [
            "\u001b[34m\u001b[1mwandb\u001b[0m: Sweep Agent: Waiting for job.\n",
            "\u001b[34m\u001b[1mwandb\u001b[0m: Job received.\n",
            "\u001b[34m\u001b[1mwandb\u001b[0m: Agent Starting Run: 32yyotyq with config:\n",
            "\u001b[34m\u001b[1mwandb\u001b[0m: \tbatch_size: 8\n",
            "\u001b[34m\u001b[1mwandb\u001b[0m: \tbetta_1: 0.6119388435971098\n",
            "\u001b[34m\u001b[1mwandb\u001b[0m: \tbetta_2: 0.7861969950282433\n",
            "\u001b[34m\u001b[1mwandb\u001b[0m: \tclass_weight_0: 4.481979348490236\n",
            "\u001b[34m\u001b[1mwandb\u001b[0m: \tclass_weight_1: 17.852198200251536\n",
            "\u001b[34m\u001b[1mwandb\u001b[0m: \tepochs: 5\n",
            "\u001b[34m\u001b[1mwandb\u001b[0m: \tfocal_alpha: 0.19665178437679592\n",
            "\u001b[34m\u001b[1mwandb\u001b[0m: \tfocal_gamma: 3.065457350702975\n",
            "\u001b[34m\u001b[1mwandb\u001b[0m: \tlearning_rate: 0.0005944355051384574\n",
            "\u001b[34m\u001b[1mwandb\u001b[0m: \tnum_warmup_steps: 170\n",
            "\u001b[34m\u001b[1mwandb\u001b[0m: \tobjective: DiceLoss\n",
            "\u001b[34m\u001b[1mwandb\u001b[0m: \tsmooth: 0.1936205812167024\n",
            "\u001b[34m\u001b[1mwandb\u001b[0m: \ttversky_alpha: 0.14805244528643058\n",
            "\u001b[34m\u001b[1mwandb\u001b[0m: \ttversky_betta: 0.6259813217342477\n",
            "\u001b[34m\u001b[1mwandb\u001b[0m: \tweight_decay: 1.410013315021715\n"
          ]
        },
        {
          "output_type": "display_data",
          "data": {
            "text/plain": [
              "<IPython.core.display.HTML object>"
            ],
            "text/html": [
              "Tracking run with wandb version 0.17.0"
            ]
          },
          "metadata": {}
        },
        {
          "output_type": "display_data",
          "data": {
            "text/plain": [
              "<IPython.core.display.HTML object>"
            ],
            "text/html": [
              "Run data is saved locally in <code>/content/wandb/run-20240517_171915-32yyotyq</code>"
            ]
          },
          "metadata": {}
        },
        {
          "output_type": "display_data",
          "data": {
            "text/plain": [
              "<IPython.core.display.HTML object>"
            ],
            "text/html": [
              "Syncing run <strong><a href='https://wandb.ai/nalex22-uv-j02/multispec-leaf-disease-sweeps/runs/32yyotyq' target=\"_blank\">crimson-sweep-32</a></strong> to <a href='https://wandb.ai/nalex22-uv-j02/multispec-leaf-disease-sweeps' target=\"_blank\">Weights & Biases</a> (<a href='https://wandb.me/run' target=\"_blank\">docs</a>)<br/>Sweep page: <a href='https://wandb.ai/nalex22-uv-j02/multispec-leaf-disease-sweeps/sweeps/kz96xpi3' target=\"_blank\">https://wandb.ai/nalex22-uv-j02/multispec-leaf-disease-sweeps/sweeps/kz96xpi3</a>"
            ]
          },
          "metadata": {}
        },
        {
          "output_type": "display_data",
          "data": {
            "text/plain": [
              "<IPython.core.display.HTML object>"
            ],
            "text/html": [
              " View project at <a href='https://wandb.ai/nalex22-uv-j02/multispec-leaf-disease-sweeps' target=\"_blank\">https://wandb.ai/nalex22-uv-j02/multispec-leaf-disease-sweeps</a>"
            ]
          },
          "metadata": {}
        },
        {
          "output_type": "display_data",
          "data": {
            "text/plain": [
              "<IPython.core.display.HTML object>"
            ],
            "text/html": [
              " View sweep at <a href='https://wandb.ai/nalex22-uv-j02/multispec-leaf-disease-sweeps/sweeps/kz96xpi3' target=\"_blank\">https://wandb.ai/nalex22-uv-j02/multispec-leaf-disease-sweeps/sweeps/kz96xpi3</a>"
            ]
          },
          "metadata": {}
        },
        {
          "output_type": "display_data",
          "data": {
            "text/plain": [
              "<IPython.core.display.HTML object>"
            ],
            "text/html": [
              " View run at <a href='https://wandb.ai/nalex22-uv-j02/multispec-leaf-disease-sweeps/runs/32yyotyq' target=\"_blank\">https://wandb.ai/nalex22-uv-j02/multispec-leaf-disease-sweeps/runs/32yyotyq</a>"
            ]
          },
          "metadata": {}
        },
        {
          "output_type": "stream",
          "name": "stderr",
          "text": [
            "/usr/local/lib/python3.10/dist-packages/huggingface_hub/file_download.py:1132: FutureWarning: `resume_download` is deprecated and will be removed in version 1.0.0. Downloads always resume when possible. If you want to force a new download, use `force_download=True`.\n",
            "  warnings.warn(\n",
            "Some weights of SegformerForSemanticSegmentation were not initialized from the model checkpoint at nvidia/mit-b2 and are newly initialized: ['decode_head.batch_norm.bias', 'decode_head.batch_norm.num_batches_tracked', 'decode_head.batch_norm.running_mean', 'decode_head.batch_norm.running_var', 'decode_head.batch_norm.weight', 'decode_head.classifier.bias', 'decode_head.classifier.weight', 'decode_head.linear_c.0.proj.bias', 'decode_head.linear_c.0.proj.weight', 'decode_head.linear_c.1.proj.bias', 'decode_head.linear_c.1.proj.weight', 'decode_head.linear_c.2.proj.bias', 'decode_head.linear_c.2.proj.weight', 'decode_head.linear_c.3.proj.bias', 'decode_head.linear_c.3.proj.weight', 'decode_head.linear_fuse.weight']\n",
            "You should probably TRAIN this model on a down-stream task to be able to use it for predictions and inference.\n",
            "\u001b[34m\u001b[1mwandb\u001b[0m: \u001b[33mWARNING\u001b[0m Config item 'learning_rate' was locked by 'sweep' (ignored update).\n",
            "\u001b[34m\u001b[1mwandb\u001b[0m: \u001b[33mWARNING\u001b[0m Config item 'weight_decay' was locked by 'sweep' (ignored update).\n"
          ]
        },
        {
          "output_type": "display_data",
          "data": {
            "text/plain": [
              "<IPython.core.display.HTML object>"
            ],
            "text/html": [
              "\n",
              "    <div>\n",
              "      \n",
              "      <progress value='595' max='595' style='width:300px; height:20px; vertical-align: middle;'></progress>\n",
              "      [595/595 07:20, Epoch 5/5]\n",
              "    </div>\n",
              "    <table border=\"1\" class=\"dataframe\">\n",
              "  <thead>\n",
              " <tr style=\"text-align: left;\">\n",
              "      <th>Epoch</th>\n",
              "      <th>Training Loss</th>\n",
              "      <th>Validation Loss</th>\n",
              "      <th>Iou</th>\n",
              "      <th>Dice</th>\n",
              "      <th>Kappa Score</th>\n",
              "      <th>Mean</th>\n",
              "    </tr>\n",
              "  </thead>\n",
              "  <tbody>\n",
              "    <tr>\n",
              "      <td>1</td>\n",
              "      <td>0.943800</td>\n",
              "      <td>0.864984</td>\n",
              "      <td>0.125656</td>\n",
              "      <td>0.223258</td>\n",
              "      <td>0.217391</td>\n",
              "      <td>0.171523</td>\n",
              "    </tr>\n",
              "    <tr>\n",
              "      <td>2</td>\n",
              "      <td>0.562500</td>\n",
              "      <td>0.587163</td>\n",
              "      <td>0.290708</td>\n",
              "      <td>0.450463</td>\n",
              "      <td>0.447389</td>\n",
              "      <td>0.369049</td>\n",
              "    </tr>\n",
              "    <tr>\n",
              "      <td>3</td>\n",
              "      <td>0.445900</td>\n",
              "      <td>0.557383</td>\n",
              "      <td>0.322052</td>\n",
              "      <td>0.487201</td>\n",
              "      <td>0.483100</td>\n",
              "      <td>0.402576</td>\n",
              "    </tr>\n",
              "    <tr>\n",
              "      <td>4</td>\n",
              "      <td>0.409800</td>\n",
              "      <td>0.511917</td>\n",
              "      <td>0.363575</td>\n",
              "      <td>0.533267</td>\n",
              "      <td>0.530408</td>\n",
              "      <td>0.446992</td>\n",
              "    </tr>\n",
              "    <tr>\n",
              "      <td>5</td>\n",
              "      <td>0.382700</td>\n",
              "      <td>0.500620</td>\n",
              "      <td>0.376345</td>\n",
              "      <td>0.546876</td>\n",
              "      <td>0.544159</td>\n",
              "      <td>0.460252</td>\n",
              "    </tr>\n",
              "  </tbody>\n",
              "</table><p>"
            ]
          },
          "metadata": {}
        },
        {
          "output_type": "stream",
          "name": "stdout",
          "text": [
            "Mean: 0.17152313315912385\n",
            "IoU: 0.12565571091962918\n",
            "Dice: 0.2232578037861541\n",
            "kappa: 0.2173905553986185\n",
            "Mean: 0.3690489458988028\n",
            "IoU: 0.2907084917485937\n",
            "Dice: 0.4504634371077158\n",
            "kappa: 0.44738940004901195\n",
            "Mean: 0.4025763944124572\n",
            "IoU: 0.3220523628295492\n",
            "Dice: 0.48720061607888226\n",
            "kappa: 0.4831004259953652\n",
            "Mean: 0.4469915079690947\n",
            "IoU: 0.36357454030198577\n",
            "Dice: 0.5332668358877781\n",
            "kappa: 0.5304084756362036\n",
            "Mean: 0.46025204711608614\n",
            "IoU: 0.3763446249459644\n",
            "Dice: 0.5468755689887477\n",
            "kappa: 0.544159469286208\n"
          ]
        },
        {
          "output_type": "display_data",
          "data": {
            "text/plain": [
              "VBox(children=(Label(value='0.002 MB of 0.002 MB uploaded\\r'), FloatProgress(value=1.0, max=1.0)))"
            ],
            "application/vnd.jupyter.widget-view+json": {
              "version_major": 2,
              "version_minor": 0,
              "model_id": "f73fbe5a3570480698f4089dc55e9b07"
            }
          },
          "metadata": {}
        },
        {
          "output_type": "display_data",
          "data": {
            "text/plain": [
              "<IPython.core.display.HTML object>"
            ],
            "text/html": [
              "<style>\n",
              "    table.wandb td:nth-child(1) { padding: 0 10px; text-align: left ; width: auto;} td:nth-child(2) {text-align: left ; width: 100%}\n",
              "    .wandb-row { display: flex; flex-direction: row; flex-wrap: wrap; justify-content: flex-start; width: 100% }\n",
              "    .wandb-col { display: flex; flex-direction: column; flex-basis: 100%; flex: 1; padding: 10px; }\n",
              "    </style>\n",
              "<div class=\"wandb-row\"><div class=\"wandb-col\"><h3>Run history:</h3><br/><table class=\"wandb\"><tr><td>eval/Dice</td><td>▁▆▇██</td></tr><tr><td>eval/IoU</td><td>▁▆▆██</td></tr><tr><td>eval/kappa_score</td><td>▁▆▇██</td></tr><tr><td>eval/loss</td><td>█▃▂▁▁</td></tr><tr><td>eval/mean</td><td>▁▆▇██</td></tr><tr><td>eval/runtime</td><td>▄▂█▁▂</td></tr><tr><td>eval/samples_per_second</td><td>▅▇▁█▇</td></tr><tr><td>eval/steps_per_second</td><td>▁█▁██</td></tr><tr><td>train/epoch</td><td>▁▁▃▃▅▅▆▆███</td></tr><tr><td>train/global_step</td><td>▁▁▃▃▅▅▆▆███</td></tr><tr><td>train/grad_norm</td><td>▆▇▃█▁</td></tr><tr><td>train/learning_rate</td><td>▇█▆▃▁</td></tr><tr><td>train/loss</td><td>█▃▂▁▁</td></tr></table><br/></div><div class=\"wandb-col\"><h3>Run summary:</h3><br/><table class=\"wandb\"><tr><td>eval/Dice</td><td>0.54688</td></tr><tr><td>eval/IoU</td><td>0.37634</td></tr><tr><td>eval/kappa_score</td><td>0.54416</td></tr><tr><td>eval/loss</td><td>0.50062</td></tr><tr><td>eval/mean</td><td>0.46025</td></tr><tr><td>eval/runtime</td><td>43.3573</td></tr><tr><td>eval/samples_per_second</td><td>4.843</td></tr><tr><td>eval/steps_per_second</td><td>0.623</td></tr><tr><td>total_flos</td><td>1.219893043396608e+18</td></tr><tr><td>train/epoch</td><td>5.0</td></tr><tr><td>train/global_step</td><td>595</td></tr><tr><td>train/grad_norm</td><td>1.08421</td></tr><tr><td>train/learning_rate</td><td>0.0</td></tr><tr><td>train/loss</td><td>0.3827</td></tr><tr><td>train_loss</td><td>0.54893</td></tr><tr><td>train_runtime</td><td>441.3107</td></tr><tr><td>train_samples_per_second</td><td>10.707</td></tr><tr><td>train_steps_per_second</td><td>1.348</td></tr></table><br/></div></div>"
            ]
          },
          "metadata": {}
        },
        {
          "output_type": "display_data",
          "data": {
            "text/plain": [
              "<IPython.core.display.HTML object>"
            ],
            "text/html": [
              " View run <strong style=\"color:#cdcd00\">crimson-sweep-32</strong> at: <a href='https://wandb.ai/nalex22-uv-j02/multispec-leaf-disease-sweeps/runs/32yyotyq' target=\"_blank\">https://wandb.ai/nalex22-uv-j02/multispec-leaf-disease-sweeps/runs/32yyotyq</a><br/> View project at: <a href='https://wandb.ai/nalex22-uv-j02/multispec-leaf-disease-sweeps' target=\"_blank\">https://wandb.ai/nalex22-uv-j02/multispec-leaf-disease-sweeps</a><br/>Synced 5 W&B file(s), 0 media file(s), 0 artifact file(s) and 0 other file(s)"
            ]
          },
          "metadata": {}
        },
        {
          "output_type": "display_data",
          "data": {
            "text/plain": [
              "<IPython.core.display.HTML object>"
            ],
            "text/html": [
              "Find logs at: <code>./wandb/run-20240517_171915-32yyotyq/logs</code>"
            ]
          },
          "metadata": {}
        },
        {
          "output_type": "stream",
          "name": "stderr",
          "text": [
            "\u001b[34m\u001b[1mwandb\u001b[0m: Agent Starting Run: y335qn79 with config:\n",
            "\u001b[34m\u001b[1mwandb\u001b[0m: \tbatch_size: 8\n",
            "\u001b[34m\u001b[1mwandb\u001b[0m: \tbetta_1: 0.6974465151227456\n",
            "\u001b[34m\u001b[1mwandb\u001b[0m: \tbetta_2: 0.9393380182313148\n",
            "\u001b[34m\u001b[1mwandb\u001b[0m: \tclass_weight_0: 4.332417667883528\n",
            "\u001b[34m\u001b[1mwandb\u001b[0m: \tclass_weight_1: 27.302347312822032\n",
            "\u001b[34m\u001b[1mwandb\u001b[0m: \tepochs: 5\n",
            "\u001b[34m\u001b[1mwandb\u001b[0m: \tfocal_alpha: 0.22332802532920143\n",
            "\u001b[34m\u001b[1mwandb\u001b[0m: \tfocal_gamma: 3.4100024881360618\n",
            "\u001b[34m\u001b[1mwandb\u001b[0m: \tlearning_rate: 0.0008991692461364375\n",
            "\u001b[34m\u001b[1mwandb\u001b[0m: \tnum_warmup_steps: 0\n",
            "\u001b[34m\u001b[1mwandb\u001b[0m: \tobjective: TverskyLoss\n",
            "\u001b[34m\u001b[1mwandb\u001b[0m: \tsmooth: 0.6808015987930836\n",
            "\u001b[34m\u001b[1mwandb\u001b[0m: \ttversky_alpha: 0.5629822858711736\n",
            "\u001b[34m\u001b[1mwandb\u001b[0m: \ttversky_betta: 0.4137723565583292\n",
            "\u001b[34m\u001b[1mwandb\u001b[0m: \tweight_decay: 0.6208185344538202\n"
          ]
        },
        {
          "output_type": "display_data",
          "data": {
            "text/plain": [
              "<IPython.core.display.HTML object>"
            ],
            "text/html": [
              "Tracking run with wandb version 0.17.0"
            ]
          },
          "metadata": {}
        },
        {
          "output_type": "display_data",
          "data": {
            "text/plain": [
              "<IPython.core.display.HTML object>"
            ],
            "text/html": [
              "Run data is saved locally in <code>/content/wandb/run-20240517_172703-y335qn79</code>"
            ]
          },
          "metadata": {}
        },
        {
          "output_type": "display_data",
          "data": {
            "text/plain": [
              "<IPython.core.display.HTML object>"
            ],
            "text/html": [
              "Syncing run <strong><a href='https://wandb.ai/nalex22-uv-j02/multispec-leaf-disease-sweeps/runs/y335qn79' target=\"_blank\">sunny-sweep-33</a></strong> to <a href='https://wandb.ai/nalex22-uv-j02/multispec-leaf-disease-sweeps' target=\"_blank\">Weights & Biases</a> (<a href='https://wandb.me/run' target=\"_blank\">docs</a>)<br/>Sweep page: <a href='https://wandb.ai/nalex22-uv-j02/multispec-leaf-disease-sweeps/sweeps/kz96xpi3' target=\"_blank\">https://wandb.ai/nalex22-uv-j02/multispec-leaf-disease-sweeps/sweeps/kz96xpi3</a>"
            ]
          },
          "metadata": {}
        },
        {
          "output_type": "display_data",
          "data": {
            "text/plain": [
              "<IPython.core.display.HTML object>"
            ],
            "text/html": [
              " View project at <a href='https://wandb.ai/nalex22-uv-j02/multispec-leaf-disease-sweeps' target=\"_blank\">https://wandb.ai/nalex22-uv-j02/multispec-leaf-disease-sweeps</a>"
            ]
          },
          "metadata": {}
        },
        {
          "output_type": "display_data",
          "data": {
            "text/plain": [
              "<IPython.core.display.HTML object>"
            ],
            "text/html": [
              " View sweep at <a href='https://wandb.ai/nalex22-uv-j02/multispec-leaf-disease-sweeps/sweeps/kz96xpi3' target=\"_blank\">https://wandb.ai/nalex22-uv-j02/multispec-leaf-disease-sweeps/sweeps/kz96xpi3</a>"
            ]
          },
          "metadata": {}
        },
        {
          "output_type": "display_data",
          "data": {
            "text/plain": [
              "<IPython.core.display.HTML object>"
            ],
            "text/html": [
              " View run at <a href='https://wandb.ai/nalex22-uv-j02/multispec-leaf-disease-sweeps/runs/y335qn79' target=\"_blank\">https://wandb.ai/nalex22-uv-j02/multispec-leaf-disease-sweeps/runs/y335qn79</a>"
            ]
          },
          "metadata": {}
        },
        {
          "output_type": "stream",
          "name": "stderr",
          "text": [
            "/usr/local/lib/python3.10/dist-packages/huggingface_hub/file_download.py:1132: FutureWarning: `resume_download` is deprecated and will be removed in version 1.0.0. Downloads always resume when possible. If you want to force a new download, use `force_download=True`.\n",
            "  warnings.warn(\n",
            "Some weights of SegformerForSemanticSegmentation were not initialized from the model checkpoint at nvidia/mit-b2 and are newly initialized: ['decode_head.batch_norm.bias', 'decode_head.batch_norm.num_batches_tracked', 'decode_head.batch_norm.running_mean', 'decode_head.batch_norm.running_var', 'decode_head.batch_norm.weight', 'decode_head.classifier.bias', 'decode_head.classifier.weight', 'decode_head.linear_c.0.proj.bias', 'decode_head.linear_c.0.proj.weight', 'decode_head.linear_c.1.proj.bias', 'decode_head.linear_c.1.proj.weight', 'decode_head.linear_c.2.proj.bias', 'decode_head.linear_c.2.proj.weight', 'decode_head.linear_c.3.proj.bias', 'decode_head.linear_c.3.proj.weight', 'decode_head.linear_fuse.weight']\n",
            "You should probably TRAIN this model on a down-stream task to be able to use it for predictions and inference.\n",
            "\u001b[34m\u001b[1mwandb\u001b[0m: \u001b[33mWARNING\u001b[0m Config item 'learning_rate' was locked by 'sweep' (ignored update).\n",
            "\u001b[34m\u001b[1mwandb\u001b[0m: \u001b[33mWARNING\u001b[0m Config item 'weight_decay' was locked by 'sweep' (ignored update).\n"
          ]
        },
        {
          "output_type": "display_data",
          "data": {
            "text/plain": [
              "<IPython.core.display.HTML object>"
            ],
            "text/html": [
              "\n",
              "    <div>\n",
              "      \n",
              "      <progress value='595' max='595' style='width:300px; height:20px; vertical-align: middle;'></progress>\n",
              "      [595/595 07:20, Epoch 5/5]\n",
              "    </div>\n",
              "    <table border=\"1\" class=\"dataframe\">\n",
              "  <thead>\n",
              " <tr style=\"text-align: left;\">\n",
              "      <th>Epoch</th>\n",
              "      <th>Training Loss</th>\n",
              "      <th>Validation Loss</th>\n",
              "      <th>Iou</th>\n",
              "      <th>Dice</th>\n",
              "      <th>Kappa Score</th>\n",
              "      <th>Mean</th>\n",
              "    </tr>\n",
              "  </thead>\n",
              "  <tbody>\n",
              "    <tr>\n",
              "      <td>1</td>\n",
              "      <td>0.719600</td>\n",
              "      <td>0.622072</td>\n",
              "      <td>0.239637</td>\n",
              "      <td>0.386624</td>\n",
              "      <td>0.383648</td>\n",
              "      <td>0.311642</td>\n",
              "    </tr>\n",
              "    <tr>\n",
              "      <td>2</td>\n",
              "      <td>0.487500</td>\n",
              "      <td>0.562267</td>\n",
              "      <td>0.310431</td>\n",
              "      <td>0.473785</td>\n",
              "      <td>0.470253</td>\n",
              "      <td>0.390342</td>\n",
              "    </tr>\n",
              "    <tr>\n",
              "      <td>3</td>\n",
              "      <td>0.431500</td>\n",
              "      <td>0.510454</td>\n",
              "      <td>0.351199</td>\n",
              "      <td>0.519833</td>\n",
              "      <td>0.516934</td>\n",
              "      <td>0.434067</td>\n",
              "    </tr>\n",
              "    <tr>\n",
              "      <td>4</td>\n",
              "      <td>0.403600</td>\n",
              "      <td>0.510694</td>\n",
              "      <td>0.351206</td>\n",
              "      <td>0.519841</td>\n",
              "      <td>0.517138</td>\n",
              "      <td>0.434172</td>\n",
              "    </tr>\n",
              "    <tr>\n",
              "      <td>5</td>\n",
              "      <td>0.380800</td>\n",
              "      <td>0.498761</td>\n",
              "      <td>0.358165</td>\n",
              "      <td>0.527425</td>\n",
              "      <td>0.524836</td>\n",
              "      <td>0.441500</td>\n",
              "    </tr>\n",
              "  </tbody>\n",
              "</table><p>"
            ]
          },
          "metadata": {}
        },
        {
          "output_type": "stream",
          "name": "stdout",
          "text": [
            "Mean: 0.3116423316540002\n",
            "IoU: 0.239636811623431\n",
            "Dice: 0.38662422634836424\n",
            "kappa: 0.3836478516845694\n",
            "Mean: 0.3903422741469913\n",
            "IoU: 0.31043128673207904\n",
            "Dice: 0.47378491321925753\n",
            "kappa: 0.4702532615619036\n",
            "Mean: 0.4340667245471529\n",
            "IoU: 0.35119921933093073\n",
            "Dice: 0.5198333662519921\n",
            "kappa: 0.516934229763375\n",
            "Mean: 0.4341719111356265\n",
            "IoU: 0.35120609869806957\n",
            "Dice: 0.5198409021931856\n",
            "kappa: 0.5171377235731833\n",
            "Mean: 0.4415003729820707\n",
            "IoU: 0.3581649263069308\n",
            "Dice: 0.5274247911567543\n",
            "kappa: 0.5248358196572106\n"
          ]
        },
        {
          "output_type": "display_data",
          "data": {
            "text/plain": [
              "VBox(children=(Label(value='0.002 MB of 0.002 MB uploaded\\r'), FloatProgress(value=1.0, max=1.0)))"
            ],
            "application/vnd.jupyter.widget-view+json": {
              "version_major": 2,
              "version_minor": 0,
              "model_id": "079c4ee09b5f41babb09c54f1682aa75"
            }
          },
          "metadata": {}
        },
        {
          "output_type": "display_data",
          "data": {
            "text/plain": [
              "<IPython.core.display.HTML object>"
            ],
            "text/html": [
              "<style>\n",
              "    table.wandb td:nth-child(1) { padding: 0 10px; text-align: left ; width: auto;} td:nth-child(2) {text-align: left ; width: 100%}\n",
              "    .wandb-row { display: flex; flex-direction: row; flex-wrap: wrap; justify-content: flex-start; width: 100% }\n",
              "    .wandb-col { display: flex; flex-direction: column; flex-basis: 100%; flex: 1; padding: 10px; }\n",
              "    </style>\n",
              "<div class=\"wandb-row\"><div class=\"wandb-col\"><h3>Run history:</h3><br/><table class=\"wandb\"><tr><td>eval/Dice</td><td>▁▅███</td></tr><tr><td>eval/IoU</td><td>▁▅███</td></tr><tr><td>eval/kappa_score</td><td>▁▅███</td></tr><tr><td>eval/loss</td><td>█▅▂▂▁</td></tr><tr><td>eval/mean</td><td>▁▅███</td></tr><tr><td>eval/runtime</td><td>█▄▃▁▆</td></tr><tr><td>eval/samples_per_second</td><td>▁▅▆█▃</td></tr><tr><td>eval/steps_per_second</td><td>▁▆▆█▃</td></tr><tr><td>train/epoch</td><td>▁▁▃▃▅▅▆▆███</td></tr><tr><td>train/global_step</td><td>▁▁▃▃▅▅▆▆███</td></tr><tr><td>train/grad_norm</td><td>▂█▃▆▁</td></tr><tr><td>train/learning_rate</td><td>█▆▄▃▁</td></tr><tr><td>train/loss</td><td>█▃▂▁▁</td></tr></table><br/></div><div class=\"wandb-col\"><h3>Run summary:</h3><br/><table class=\"wandb\"><tr><td>eval/Dice</td><td>0.52742</td></tr><tr><td>eval/IoU</td><td>0.35816</td></tr><tr><td>eval/kappa_score</td><td>0.52484</td></tr><tr><td>eval/loss</td><td>0.49876</td></tr><tr><td>eval/mean</td><td>0.4415</td></tr><tr><td>eval/runtime</td><td>43.404</td></tr><tr><td>eval/samples_per_second</td><td>4.838</td></tr><tr><td>eval/steps_per_second</td><td>0.622</td></tr><tr><td>total_flos</td><td>1.219893043396608e+18</td></tr><tr><td>train/epoch</td><td>5.0</td></tr><tr><td>train/global_step</td><td>595</td></tr><tr><td>train/grad_norm</td><td>0.79799</td></tr><tr><td>train/learning_rate</td><td>0.0</td></tr><tr><td>train/loss</td><td>0.3808</td></tr><tr><td>train_loss</td><td>0.48462</td></tr><tr><td>train_runtime</td><td>441.0521</td></tr><tr><td>train_samples_per_second</td><td>10.713</td></tr><tr><td>train_steps_per_second</td><td>1.349</td></tr></table><br/></div></div>"
            ]
          },
          "metadata": {}
        },
        {
          "output_type": "display_data",
          "data": {
            "text/plain": [
              "<IPython.core.display.HTML object>"
            ],
            "text/html": [
              " View run <strong style=\"color:#cdcd00\">sunny-sweep-33</strong> at: <a href='https://wandb.ai/nalex22-uv-j02/multispec-leaf-disease-sweeps/runs/y335qn79' target=\"_blank\">https://wandb.ai/nalex22-uv-j02/multispec-leaf-disease-sweeps/runs/y335qn79</a><br/> View project at: <a href='https://wandb.ai/nalex22-uv-j02/multispec-leaf-disease-sweeps' target=\"_blank\">https://wandb.ai/nalex22-uv-j02/multispec-leaf-disease-sweeps</a><br/>Synced 5 W&B file(s), 0 media file(s), 0 artifact file(s) and 0 other file(s)"
            ]
          },
          "metadata": {}
        },
        {
          "output_type": "display_data",
          "data": {
            "text/plain": [
              "<IPython.core.display.HTML object>"
            ],
            "text/html": [
              "Find logs at: <code>./wandb/run-20240517_172703-y335qn79/logs</code>"
            ]
          },
          "metadata": {}
        },
        {
          "output_type": "stream",
          "name": "stderr",
          "text": [
            "\u001b[34m\u001b[1mwandb\u001b[0m: Sweep Agent: Waiting for job.\n",
            "\u001b[34m\u001b[1mwandb\u001b[0m: Job received.\n",
            "\u001b[34m\u001b[1mwandb\u001b[0m: Agent Starting Run: adzglcfv with config:\n",
            "\u001b[34m\u001b[1mwandb\u001b[0m: \tbatch_size: 8\n",
            "\u001b[34m\u001b[1mwandb\u001b[0m: \tbetta_1: 0.723700733304389\n",
            "\u001b[34m\u001b[1mwandb\u001b[0m: \tbetta_2: 0.8623148335077795\n",
            "\u001b[34m\u001b[1mwandb\u001b[0m: \tclass_weight_0: 2.107086535538091\n",
            "\u001b[34m\u001b[1mwandb\u001b[0m: \tclass_weight_1: 44.436829097962686\n",
            "\u001b[34m\u001b[1mwandb\u001b[0m: \tepochs: 5\n",
            "\u001b[34m\u001b[1mwandb\u001b[0m: \tfocal_alpha: 0.904923921575955\n",
            "\u001b[34m\u001b[1mwandb\u001b[0m: \tfocal_gamma: 3.7137061370482103\n",
            "\u001b[34m\u001b[1mwandb\u001b[0m: \tlearning_rate: 0.0007726718203435344\n",
            "\u001b[34m\u001b[1mwandb\u001b[0m: \tnum_warmup_steps: 152\n",
            "\u001b[34m\u001b[1mwandb\u001b[0m: \tobjective: DiceLoss\n",
            "\u001b[34m\u001b[1mwandb\u001b[0m: \tsmooth: 0.8612710874385126\n",
            "\u001b[34m\u001b[1mwandb\u001b[0m: \ttversky_alpha: 0.1280711896365804\n",
            "\u001b[34m\u001b[1mwandb\u001b[0m: \ttversky_betta: 0.4201100017927669\n",
            "\u001b[34m\u001b[1mwandb\u001b[0m: \tweight_decay: 0.03317303075935696\n"
          ]
        },
        {
          "output_type": "display_data",
          "data": {
            "text/plain": [
              "<IPython.core.display.HTML object>"
            ],
            "text/html": [
              "Tracking run with wandb version 0.17.0"
            ]
          },
          "metadata": {}
        },
        {
          "output_type": "display_data",
          "data": {
            "text/plain": [
              "<IPython.core.display.HTML object>"
            ],
            "text/html": [
              "Run data is saved locally in <code>/content/wandb/run-20240517_173457-adzglcfv</code>"
            ]
          },
          "metadata": {}
        },
        {
          "output_type": "display_data",
          "data": {
            "text/plain": [
              "<IPython.core.display.HTML object>"
            ],
            "text/html": [
              "Syncing run <strong><a href='https://wandb.ai/nalex22-uv-j02/multispec-leaf-disease-sweeps/runs/adzglcfv' target=\"_blank\">whole-sweep-34</a></strong> to <a href='https://wandb.ai/nalex22-uv-j02/multispec-leaf-disease-sweeps' target=\"_blank\">Weights & Biases</a> (<a href='https://wandb.me/run' target=\"_blank\">docs</a>)<br/>Sweep page: <a href='https://wandb.ai/nalex22-uv-j02/multispec-leaf-disease-sweeps/sweeps/kz96xpi3' target=\"_blank\">https://wandb.ai/nalex22-uv-j02/multispec-leaf-disease-sweeps/sweeps/kz96xpi3</a>"
            ]
          },
          "metadata": {}
        },
        {
          "output_type": "display_data",
          "data": {
            "text/plain": [
              "<IPython.core.display.HTML object>"
            ],
            "text/html": [
              " View project at <a href='https://wandb.ai/nalex22-uv-j02/multispec-leaf-disease-sweeps' target=\"_blank\">https://wandb.ai/nalex22-uv-j02/multispec-leaf-disease-sweeps</a>"
            ]
          },
          "metadata": {}
        },
        {
          "output_type": "display_data",
          "data": {
            "text/plain": [
              "<IPython.core.display.HTML object>"
            ],
            "text/html": [
              " View sweep at <a href='https://wandb.ai/nalex22-uv-j02/multispec-leaf-disease-sweeps/sweeps/kz96xpi3' target=\"_blank\">https://wandb.ai/nalex22-uv-j02/multispec-leaf-disease-sweeps/sweeps/kz96xpi3</a>"
            ]
          },
          "metadata": {}
        },
        {
          "output_type": "display_data",
          "data": {
            "text/plain": [
              "<IPython.core.display.HTML object>"
            ],
            "text/html": [
              " View run at <a href='https://wandb.ai/nalex22-uv-j02/multispec-leaf-disease-sweeps/runs/adzglcfv' target=\"_blank\">https://wandb.ai/nalex22-uv-j02/multispec-leaf-disease-sweeps/runs/adzglcfv</a>"
            ]
          },
          "metadata": {}
        },
        {
          "output_type": "stream",
          "name": "stderr",
          "text": [
            "/usr/local/lib/python3.10/dist-packages/huggingface_hub/file_download.py:1132: FutureWarning: `resume_download` is deprecated and will be removed in version 1.0.0. Downloads always resume when possible. If you want to force a new download, use `force_download=True`.\n",
            "  warnings.warn(\n",
            "Some weights of SegformerForSemanticSegmentation were not initialized from the model checkpoint at nvidia/mit-b2 and are newly initialized: ['decode_head.batch_norm.bias', 'decode_head.batch_norm.num_batches_tracked', 'decode_head.batch_norm.running_mean', 'decode_head.batch_norm.running_var', 'decode_head.batch_norm.weight', 'decode_head.classifier.bias', 'decode_head.classifier.weight', 'decode_head.linear_c.0.proj.bias', 'decode_head.linear_c.0.proj.weight', 'decode_head.linear_c.1.proj.bias', 'decode_head.linear_c.1.proj.weight', 'decode_head.linear_c.2.proj.bias', 'decode_head.linear_c.2.proj.weight', 'decode_head.linear_c.3.proj.bias', 'decode_head.linear_c.3.proj.weight', 'decode_head.linear_fuse.weight']\n",
            "You should probably TRAIN this model on a down-stream task to be able to use it for predictions and inference.\n",
            "\u001b[34m\u001b[1mwandb\u001b[0m: \u001b[33mWARNING\u001b[0m Config item 'learning_rate' was locked by 'sweep' (ignored update).\n",
            "\u001b[34m\u001b[1mwandb\u001b[0m: \u001b[33mWARNING\u001b[0m Config item 'weight_decay' was locked by 'sweep' (ignored update).\n"
          ]
        },
        {
          "output_type": "display_data",
          "data": {
            "text/plain": [
              "<IPython.core.display.HTML object>"
            ],
            "text/html": [
              "\n",
              "    <div>\n",
              "      \n",
              "      <progress value='595' max='595' style='width:300px; height:20px; vertical-align: middle;'></progress>\n",
              "      [595/595 07:21, Epoch 5/5]\n",
              "    </div>\n",
              "    <table border=\"1\" class=\"dataframe\">\n",
              "  <thead>\n",
              " <tr style=\"text-align: left;\">\n",
              "      <th>Epoch</th>\n",
              "      <th>Training Loss</th>\n",
              "      <th>Validation Loss</th>\n",
              "      <th>Iou</th>\n",
              "      <th>Dice</th>\n",
              "      <th>Kappa Score</th>\n",
              "      <th>Mean</th>\n",
              "    </tr>\n",
              "  </thead>\n",
              "  <tbody>\n",
              "    <tr>\n",
              "      <td>1</td>\n",
              "      <td>0.895300</td>\n",
              "      <td>0.629719</td>\n",
              "      <td>0.256961</td>\n",
              "      <td>0.408861</td>\n",
              "      <td>0.405417</td>\n",
              "      <td>0.331189</td>\n",
              "    </tr>\n",
              "    <tr>\n",
              "      <td>2</td>\n",
              "      <td>0.523600</td>\n",
              "      <td>0.536006</td>\n",
              "      <td>0.335876</td>\n",
              "      <td>0.502856</td>\n",
              "      <td>0.499484</td>\n",
              "      <td>0.417680</td>\n",
              "    </tr>\n",
              "    <tr>\n",
              "      <td>3</td>\n",
              "      <td>0.430200</td>\n",
              "      <td>0.527596</td>\n",
              "      <td>0.342212</td>\n",
              "      <td>0.509922</td>\n",
              "      <td>0.506580</td>\n",
              "      <td>0.424396</td>\n",
              "    </tr>\n",
              "    <tr>\n",
              "      <td>4</td>\n",
              "      <td>0.397500</td>\n",
              "      <td>0.496244</td>\n",
              "      <td>0.376809</td>\n",
              "      <td>0.547366</td>\n",
              "      <td>0.544389</td>\n",
              "      <td>0.460599</td>\n",
              "    </tr>\n",
              "    <tr>\n",
              "      <td>5</td>\n",
              "      <td>0.369500</td>\n",
              "      <td>0.492174</td>\n",
              "      <td>0.382289</td>\n",
              "      <td>0.553124</td>\n",
              "      <td>0.550423</td>\n",
              "      <td>0.466356</td>\n",
              "    </tr>\n",
              "  </tbody>\n",
              "</table><p>"
            ]
          },
          "metadata": {}
        },
        {
          "output_type": "stream",
          "name": "stdout",
          "text": [
            "Mean: 0.33118918536211195\n",
            "IoU: 0.25696146896518046\n",
            "Dice: 0.4088613299765335\n",
            "kappa: 0.40541690175904344\n",
            "Mean: 0.4176802611686229\n",
            "IoU: 0.33587647788847164\n",
            "Dice: 0.502855590989024\n",
            "kappa: 0.49948404444877414\n",
            "Mean: 0.4243960802256677\n",
            "IoU: 0.34221201230928144\n",
            "Dice: 0.5099224402268673\n",
            "kappa: 0.506580148142054\n",
            "Mean: 0.46059901858807145\n",
            "IoU: 0.3768093489404024\n",
            "Dice: 0.5473660521413458\n",
            "kappa: 0.5443886882357405\n",
            "Mean: 0.4663560672172935\n",
            "IoU: 0.38228876025486197\n",
            "Dice: 0.5531243127295296\n",
            "kappa: 0.5504233741797251\n"
          ]
        },
        {
          "output_type": "display_data",
          "data": {
            "text/plain": [
              "VBox(children=(Label(value='0.002 MB of 0.002 MB uploaded\\r'), FloatProgress(value=1.0, max=1.0)))"
            ],
            "application/vnd.jupyter.widget-view+json": {
              "version_major": 2,
              "version_minor": 0,
              "model_id": "c739d7a284384beba99240bff3c7dae3"
            }
          },
          "metadata": {}
        },
        {
          "output_type": "display_data",
          "data": {
            "text/plain": [
              "<IPython.core.display.HTML object>"
            ],
            "text/html": [
              "<style>\n",
              "    table.wandb td:nth-child(1) { padding: 0 10px; text-align: left ; width: auto;} td:nth-child(2) {text-align: left ; width: 100%}\n",
              "    .wandb-row { display: flex; flex-direction: row; flex-wrap: wrap; justify-content: flex-start; width: 100% }\n",
              "    .wandb-col { display: flex; flex-direction: column; flex-basis: 100%; flex: 1; padding: 10px; }\n",
              "    </style>\n",
              "<div class=\"wandb-row\"><div class=\"wandb-col\"><h3>Run history:</h3><br/><table class=\"wandb\"><tr><td>eval/Dice</td><td>▁▆▆██</td></tr><tr><td>eval/IoU</td><td>▁▅▆██</td></tr><tr><td>eval/kappa_score</td><td>▁▆▆██</td></tr><tr><td>eval/loss</td><td>█▃▃▁▁</td></tr><tr><td>eval/mean</td><td>▁▅▆██</td></tr><tr><td>eval/runtime</td><td>▅▁▅█▇</td></tr><tr><td>eval/samples_per_second</td><td>▄█▄▁▂</td></tr><tr><td>eval/steps_per_second</td><td>▄█▄▁▃</td></tr><tr><td>train/epoch</td><td>▁▁▃▃▅▅▆▆███</td></tr><tr><td>train/global_step</td><td>▁▁▃▃▅▅▆▆███</td></tr><tr><td>train/grad_norm</td><td>██▃▅▁</td></tr><tr><td>train/learning_rate</td><td>██▆▃▁</td></tr><tr><td>train/loss</td><td>█▃▂▁▁</td></tr></table><br/></div><div class=\"wandb-col\"><h3>Run summary:</h3><br/><table class=\"wandb\"><tr><td>eval/Dice</td><td>0.55312</td></tr><tr><td>eval/IoU</td><td>0.38229</td></tr><tr><td>eval/kappa_score</td><td>0.55042</td></tr><tr><td>eval/loss</td><td>0.49217</td></tr><tr><td>eval/mean</td><td>0.46636</td></tr><tr><td>eval/runtime</td><td>43.4982</td></tr><tr><td>eval/samples_per_second</td><td>4.828</td></tr><tr><td>eval/steps_per_second</td><td>0.621</td></tr><tr><td>total_flos</td><td>1.219893043396608e+18</td></tr><tr><td>train/epoch</td><td>5.0</td></tr><tr><td>train/global_step</td><td>595</td></tr><tr><td>train/grad_norm</td><td>0.77288</td></tr><tr><td>train/learning_rate</td><td>0.0</td></tr><tr><td>train/loss</td><td>0.3695</td></tr><tr><td>train_loss</td><td>0.52321</td></tr><tr><td>train_runtime</td><td>441.934</td></tr><tr><td>train_samples_per_second</td><td>10.692</td></tr><tr><td>train_steps_per_second</td><td>1.346</td></tr></table><br/></div></div>"
            ]
          },
          "metadata": {}
        },
        {
          "output_type": "display_data",
          "data": {
            "text/plain": [
              "<IPython.core.display.HTML object>"
            ],
            "text/html": [
              " View run <strong style=\"color:#cdcd00\">whole-sweep-34</strong> at: <a href='https://wandb.ai/nalex22-uv-j02/multispec-leaf-disease-sweeps/runs/adzglcfv' target=\"_blank\">https://wandb.ai/nalex22-uv-j02/multispec-leaf-disease-sweeps/runs/adzglcfv</a><br/> View project at: <a href='https://wandb.ai/nalex22-uv-j02/multispec-leaf-disease-sweeps' target=\"_blank\">https://wandb.ai/nalex22-uv-j02/multispec-leaf-disease-sweeps</a><br/>Synced 5 W&B file(s), 0 media file(s), 0 artifact file(s) and 0 other file(s)"
            ]
          },
          "metadata": {}
        },
        {
          "output_type": "display_data",
          "data": {
            "text/plain": [
              "<IPython.core.display.HTML object>"
            ],
            "text/html": [
              "Find logs at: <code>./wandb/run-20240517_173457-adzglcfv/logs</code>"
            ]
          },
          "metadata": {}
        },
        {
          "output_type": "stream",
          "name": "stderr",
          "text": [
            "\u001b[34m\u001b[1mwandb\u001b[0m: Sweep Agent: Waiting for job.\n",
            "\u001b[34m\u001b[1mwandb\u001b[0m: Job received.\n",
            "\u001b[34m\u001b[1mwandb\u001b[0m: Agent Starting Run: 1auic82e with config:\n",
            "\u001b[34m\u001b[1mwandb\u001b[0m: \tbatch_size: 8\n",
            "\u001b[34m\u001b[1mwandb\u001b[0m: \tbetta_1: 0.9552723961619992\n",
            "\u001b[34m\u001b[1mwandb\u001b[0m: \tbetta_2: 0.8690295460589099\n",
            "\u001b[34m\u001b[1mwandb\u001b[0m: \tclass_weight_0: 1.790318702394839\n",
            "\u001b[34m\u001b[1mwandb\u001b[0m: \tclass_weight_1: 18.14968159440661\n",
            "\u001b[34m\u001b[1mwandb\u001b[0m: \tepochs: 5\n",
            "\u001b[34m\u001b[1mwandb\u001b[0m: \tfocal_alpha: 0.5579754055573171\n",
            "\u001b[34m\u001b[1mwandb\u001b[0m: \tfocal_gamma: 3.726141630312916\n",
            "\u001b[34m\u001b[1mwandb\u001b[0m: \tlearning_rate: 0.00024195991091649285\n",
            "\u001b[34m\u001b[1mwandb\u001b[0m: \tnum_warmup_steps: 97\n",
            "\u001b[34m\u001b[1mwandb\u001b[0m: \tobjective: LovaszLoss\n",
            "\u001b[34m\u001b[1mwandb\u001b[0m: \tsmooth: 0.2321194661159769\n",
            "\u001b[34m\u001b[1mwandb\u001b[0m: \ttversky_alpha: 0.678223264777535\n",
            "\u001b[34m\u001b[1mwandb\u001b[0m: \ttversky_betta: 0.6158880382491824\n",
            "\u001b[34m\u001b[1mwandb\u001b[0m: \tweight_decay: 0.04521691935476141\n"
          ]
        },
        {
          "output_type": "display_data",
          "data": {
            "text/plain": [
              "<IPython.core.display.HTML object>"
            ],
            "text/html": [
              "Tracking run with wandb version 0.17.0"
            ]
          },
          "metadata": {}
        },
        {
          "output_type": "display_data",
          "data": {
            "text/plain": [
              "<IPython.core.display.HTML object>"
            ],
            "text/html": [
              "Run data is saved locally in <code>/content/wandb/run-20240517_174250-1auic82e</code>"
            ]
          },
          "metadata": {}
        },
        {
          "output_type": "display_data",
          "data": {
            "text/plain": [
              "<IPython.core.display.HTML object>"
            ],
            "text/html": [
              "Syncing run <strong><a href='https://wandb.ai/nalex22-uv-j02/multispec-leaf-disease-sweeps/runs/1auic82e' target=\"_blank\">valiant-sweep-35</a></strong> to <a href='https://wandb.ai/nalex22-uv-j02/multispec-leaf-disease-sweeps' target=\"_blank\">Weights & Biases</a> (<a href='https://wandb.me/run' target=\"_blank\">docs</a>)<br/>Sweep page: <a href='https://wandb.ai/nalex22-uv-j02/multispec-leaf-disease-sweeps/sweeps/kz96xpi3' target=\"_blank\">https://wandb.ai/nalex22-uv-j02/multispec-leaf-disease-sweeps/sweeps/kz96xpi3</a>"
            ]
          },
          "metadata": {}
        },
        {
          "output_type": "display_data",
          "data": {
            "text/plain": [
              "<IPython.core.display.HTML object>"
            ],
            "text/html": [
              " View project at <a href='https://wandb.ai/nalex22-uv-j02/multispec-leaf-disease-sweeps' target=\"_blank\">https://wandb.ai/nalex22-uv-j02/multispec-leaf-disease-sweeps</a>"
            ]
          },
          "metadata": {}
        },
        {
          "output_type": "display_data",
          "data": {
            "text/plain": [
              "<IPython.core.display.HTML object>"
            ],
            "text/html": [
              " View sweep at <a href='https://wandb.ai/nalex22-uv-j02/multispec-leaf-disease-sweeps/sweeps/kz96xpi3' target=\"_blank\">https://wandb.ai/nalex22-uv-j02/multispec-leaf-disease-sweeps/sweeps/kz96xpi3</a>"
            ]
          },
          "metadata": {}
        },
        {
          "output_type": "display_data",
          "data": {
            "text/plain": [
              "<IPython.core.display.HTML object>"
            ],
            "text/html": [
              " View run at <a href='https://wandb.ai/nalex22-uv-j02/multispec-leaf-disease-sweeps/runs/1auic82e' target=\"_blank\">https://wandb.ai/nalex22-uv-j02/multispec-leaf-disease-sweeps/runs/1auic82e</a>"
            ]
          },
          "metadata": {}
        },
        {
          "output_type": "stream",
          "name": "stderr",
          "text": [
            "/usr/local/lib/python3.10/dist-packages/huggingface_hub/file_download.py:1132: FutureWarning: `resume_download` is deprecated and will be removed in version 1.0.0. Downloads always resume when possible. If you want to force a new download, use `force_download=True`.\n",
            "  warnings.warn(\n",
            "Some weights of SegformerForSemanticSegmentation were not initialized from the model checkpoint at nvidia/mit-b2 and are newly initialized: ['decode_head.batch_norm.bias', 'decode_head.batch_norm.num_batches_tracked', 'decode_head.batch_norm.running_mean', 'decode_head.batch_norm.running_var', 'decode_head.batch_norm.weight', 'decode_head.classifier.bias', 'decode_head.classifier.weight', 'decode_head.linear_c.0.proj.bias', 'decode_head.linear_c.0.proj.weight', 'decode_head.linear_c.1.proj.bias', 'decode_head.linear_c.1.proj.weight', 'decode_head.linear_c.2.proj.bias', 'decode_head.linear_c.2.proj.weight', 'decode_head.linear_c.3.proj.bias', 'decode_head.linear_c.3.proj.weight', 'decode_head.linear_fuse.weight']\n",
            "You should probably TRAIN this model on a down-stream task to be able to use it for predictions and inference.\n",
            "\u001b[34m\u001b[1mwandb\u001b[0m: \u001b[33mWARNING\u001b[0m Config item 'learning_rate' was locked by 'sweep' (ignored update).\n",
            "\u001b[34m\u001b[1mwandb\u001b[0m: \u001b[33mWARNING\u001b[0m Config item 'weight_decay' was locked by 'sweep' (ignored update).\n"
          ]
        },
        {
          "output_type": "display_data",
          "data": {
            "text/plain": [
              "<IPython.core.display.HTML object>"
            ],
            "text/html": [
              "\n",
              "    <div>\n",
              "      \n",
              "      <progress value='261' max='595' style='width:300px; height:20px; vertical-align: middle;'></progress>\n",
              "      [261/595 02:53 < 03:43, 1.50 it/s, Epoch 2.18/5]\n",
              "    </div>\n",
              "    <table border=\"1\" class=\"dataframe\">\n",
              "  <thead>\n",
              " <tr style=\"text-align: left;\">\n",
              "      <th>Epoch</th>\n",
              "      <th>Training Loss</th>\n",
              "      <th>Validation Loss</th>\n",
              "      <th>Iou</th>\n",
              "      <th>Dice</th>\n",
              "      <th>Kappa Score</th>\n",
              "      <th>Mean</th>\n",
              "    </tr>\n",
              "  </thead>\n",
              "  <tbody>\n",
              "    <tr>\n",
              "      <td>1</td>\n",
              "      <td>1.520400</td>\n",
              "      <td>1.162397</td>\n",
              "      <td>0.004355</td>\n",
              "      <td>0.008671</td>\n",
              "      <td>-0.003567</td>\n",
              "      <td>0.000394</td>\n",
              "    </tr>\n",
              "    <tr>\n",
              "      <td>2</td>\n",
              "      <td>1.057900</td>\n",
              "      <td>1.008640</td>\n",
              "      <td>0.004355</td>\n",
              "      <td>0.008671</td>\n",
              "      <td>-0.003567</td>\n",
              "      <td>0.000394</td>\n",
              "    </tr>\n",
              "  </tbody>\n",
              "</table><p>"
            ]
          },
          "metadata": {}
        },
        {
          "output_type": "stream",
          "name": "stdout",
          "text": [
            "Mean: 0.00039364822142389346\n",
            "IoU: 0.004354506544332539\n",
            "Dice: 0.008671254056130092\n",
            "kappa: -0.0035672101014847524\n",
            "Mean: -3.848738709955057e-06\n",
            "IoU: 0.0\n",
            "Dice: 0.0\n",
            "kappa: -7.697477419910115e-06\n"
          ]
        },
        {
          "output_type": "stream",
          "name": "stderr",
          "text": [
            "\u001b[34m\u001b[1mwandb\u001b[0m: Ctrl + C detected. Stopping sweep.\n"
          ]
        }
      ]
    }
  ]
}